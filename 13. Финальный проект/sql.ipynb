{
 "cells": [
  {
   "cell_type": "markdown",
   "metadata": {},
   "source": [
    "**Доброго времени суток! Меня зовут Айнур!**\n",
    "\n",
    "В данном проекте я выстыпаю аналитиком для компании, которая собирается войти в новую сферу деятельности. Для того чтобы сформировать ценностное предложение нового продукта, нужно проанализировать имеющиеся данные.\n",
    "\n",
    "**Цель** -  Проанализировать базу данных.\n",
    "\n",
    "\n",
    "**P.S.** под строками кода я буду оставлять свои комментарии и делать небольшие выводы в таком формате: **<font color=\"green\">Комментарий:<font>** "
   ]
  },
  {
   "cell_type": "code",
   "execution_count": 1,
   "metadata": {},
   "outputs": [],
   "source": [
    "# импортируем библиотеки\n",
    "import pandas as pd\n",
    "from sqlalchemy import text, create_engine\n",
    "# устанавливаем параметры\n",
    "db_config = {'user': 'praktikum_student', # имя пользователя\n",
    "'pwd': 'Sdf4$2;d-d30pp', # пароль\n",
    "'host': 'rc1b-wcoijxj3yxfsf3fs.mdb.yandexcloud.net',\n",
    "'port': 6432, # порт подключения\n",
    "'db': 'data-analyst-final-project-db'} # название базы данных\n",
    "connection_string = 'postgresql://{user}:{pwd}@{host}:{port}/{db}'.format(**db_config)\n",
    "# сохраняем коннектор\n",
    "engine = create_engine(connection_string, connect_args={'sslmode':'require'})\n",
    "# чтобы выполнить SQL-запрос, используем Pandas"
   ]
  },
  {
   "cell_type": "markdown",
   "metadata": {},
   "source": [
    "## Ознакомление с данными"
   ]
  },
  {
   "cell_type": "code",
   "execution_count": 2,
   "metadata": {},
   "outputs": [
    {
     "data": {
      "text/html": [
       "<div>\n",
       "<style scoped>\n",
       "    .dataframe tbody tr th:only-of-type {\n",
       "        vertical-align: middle;\n",
       "    }\n",
       "\n",
       "    .dataframe tbody tr th {\n",
       "        vertical-align: top;\n",
       "    }\n",
       "\n",
       "    .dataframe thead th {\n",
       "        text-align: right;\n",
       "    }\n",
       "</style>\n",
       "<table border=\"1\" class=\"dataframe\">\n",
       "  <thead>\n",
       "    <tr style=\"text-align: right;\">\n",
       "      <th></th>\n",
       "      <th>book_id</th>\n",
       "      <th>author_id</th>\n",
       "      <th>title</th>\n",
       "      <th>num_pages</th>\n",
       "      <th>publication_date</th>\n",
       "      <th>publisher_id</th>\n",
       "    </tr>\n",
       "  </thead>\n",
       "  <tbody>\n",
       "    <tr>\n",
       "      <th>0</th>\n",
       "      <td>1</td>\n",
       "      <td>546</td>\n",
       "      <td>'Salem's Lot</td>\n",
       "      <td>594</td>\n",
       "      <td>2005-11-01</td>\n",
       "      <td>93</td>\n",
       "    </tr>\n",
       "    <tr>\n",
       "      <th>1</th>\n",
       "      <td>2</td>\n",
       "      <td>465</td>\n",
       "      <td>1 000 Places to See Before You Die</td>\n",
       "      <td>992</td>\n",
       "      <td>2003-05-22</td>\n",
       "      <td>336</td>\n",
       "    </tr>\n",
       "    <tr>\n",
       "      <th>2</th>\n",
       "      <td>3</td>\n",
       "      <td>407</td>\n",
       "      <td>13 Little Blue Envelopes (Little Blue Envelope...</td>\n",
       "      <td>322</td>\n",
       "      <td>2010-12-21</td>\n",
       "      <td>135</td>\n",
       "    </tr>\n",
       "    <tr>\n",
       "      <th>3</th>\n",
       "      <td>4</td>\n",
       "      <td>82</td>\n",
       "      <td>1491: New Revelations of the Americas Before C...</td>\n",
       "      <td>541</td>\n",
       "      <td>2006-10-10</td>\n",
       "      <td>309</td>\n",
       "    </tr>\n",
       "    <tr>\n",
       "      <th>4</th>\n",
       "      <td>5</td>\n",
       "      <td>125</td>\n",
       "      <td>1776</td>\n",
       "      <td>386</td>\n",
       "      <td>2006-07-04</td>\n",
       "      <td>268</td>\n",
       "    </tr>\n",
       "  </tbody>\n",
       "</table>\n",
       "</div>"
      ],
      "text/plain": [
       "   book_id  author_id                                              title  \\\n",
       "0        1        546                                       'Salem's Lot   \n",
       "1        2        465                 1 000 Places to See Before You Die   \n",
       "2        3        407  13 Little Blue Envelopes (Little Blue Envelope...   \n",
       "3        4         82  1491: New Revelations of the Americas Before C...   \n",
       "4        5        125                                               1776   \n",
       "\n",
       "   num_pages publication_date  publisher_id  \n",
       "0        594       2005-11-01            93  \n",
       "1        992       2003-05-22           336  \n",
       "2        322       2010-12-21           135  \n",
       "3        541       2006-10-10           309  \n",
       "4        386       2006-07-04           268  "
      ]
     },
     "execution_count": 2,
     "metadata": {},
     "output_type": "execute_result"
    }
   ],
   "source": [
    "query = '''SELECT * FROM books LIMIT 5'''\n",
    "con=engine.connect()\n",
    "pd.io.sql.read_sql(sql=text(query), con = con)"
   ]
  },
  {
   "cell_type": "markdown",
   "metadata": {},
   "source": [
    "**<font color=\"green\">Комментарий:<font>** Первая таблица - `books`. В ней хранятся данные о книгах: \n",
    " \n",
    "- уникальный идентификатор книги;\n",
    "    \n",
    "\n",
    "- идентифиатор автора;\n",
    "    \n",
    "    \n",
    "- название;\n",
    "    \n",
    "    \n",
    "- количество страниц; \n",
    "    \n",
    "    \n",
    "- дата публикации; \n",
    "    \n",
    "    \n",
    "- идентификатор издателя."
   ]
  },
  {
   "cell_type": "code",
   "execution_count": 3,
   "metadata": {},
   "outputs": [
    {
     "data": {
      "text/html": [
       "<div>\n",
       "<style scoped>\n",
       "    .dataframe tbody tr th:only-of-type {\n",
       "        vertical-align: middle;\n",
       "    }\n",
       "\n",
       "    .dataframe tbody tr th {\n",
       "        vertical-align: top;\n",
       "    }\n",
       "\n",
       "    .dataframe thead th {\n",
       "        text-align: right;\n",
       "    }\n",
       "</style>\n",
       "<table border=\"1\" class=\"dataframe\">\n",
       "  <thead>\n",
       "    <tr style=\"text-align: right;\">\n",
       "      <th></th>\n",
       "      <th>author_id</th>\n",
       "      <th>author</th>\n",
       "    </tr>\n",
       "  </thead>\n",
       "  <tbody>\n",
       "    <tr>\n",
       "      <th>0</th>\n",
       "      <td>1</td>\n",
       "      <td>A.S. Byatt</td>\n",
       "    </tr>\n",
       "    <tr>\n",
       "      <th>1</th>\n",
       "      <td>2</td>\n",
       "      <td>Aesop/Laura Harris/Laura Gibbs</td>\n",
       "    </tr>\n",
       "    <tr>\n",
       "      <th>2</th>\n",
       "      <td>3</td>\n",
       "      <td>Agatha Christie</td>\n",
       "    </tr>\n",
       "    <tr>\n",
       "      <th>3</th>\n",
       "      <td>4</td>\n",
       "      <td>Alan Brennert</td>\n",
       "    </tr>\n",
       "    <tr>\n",
       "      <th>4</th>\n",
       "      <td>5</td>\n",
       "      <td>Alan Moore/David   Lloyd</td>\n",
       "    </tr>\n",
       "  </tbody>\n",
       "</table>\n",
       "</div>"
      ],
      "text/plain": [
       "   author_id                          author\n",
       "0          1                      A.S. Byatt\n",
       "1          2  Aesop/Laura Harris/Laura Gibbs\n",
       "2          3                 Agatha Christie\n",
       "3          4                   Alan Brennert\n",
       "4          5        Alan Moore/David   Lloyd"
      ]
     },
     "execution_count": 3,
     "metadata": {},
     "output_type": "execute_result"
    }
   ],
   "source": [
    "query = '''SELECT * FROM authors LIMIT 5'''\n",
    "con=engine.connect()\n",
    "pd.io.sql.read_sql(sql=text(query), con = con)"
   ]
  },
  {
   "cell_type": "markdown",
   "metadata": {},
   "source": [
    "**<font color=\"green\">Комментарий:<font>** Вторая таблица - `authors`. В ней хранятся данные об авторах:\n",
    "    \n",
    "    \n",
    "- идентификатор автора;\n",
    "    \n",
    "    \n",
    "- ФИО автора. "
   ]
  },
  {
   "cell_type": "code",
   "execution_count": 4,
   "metadata": {},
   "outputs": [
    {
     "data": {
      "text/html": [
       "<div>\n",
       "<style scoped>\n",
       "    .dataframe tbody tr th:only-of-type {\n",
       "        vertical-align: middle;\n",
       "    }\n",
       "\n",
       "    .dataframe tbody tr th {\n",
       "        vertical-align: top;\n",
       "    }\n",
       "\n",
       "    .dataframe thead th {\n",
       "        text-align: right;\n",
       "    }\n",
       "</style>\n",
       "<table border=\"1\" class=\"dataframe\">\n",
       "  <thead>\n",
       "    <tr style=\"text-align: right;\">\n",
       "      <th></th>\n",
       "      <th>publisher_id</th>\n",
       "      <th>publisher</th>\n",
       "    </tr>\n",
       "  </thead>\n",
       "  <tbody>\n",
       "    <tr>\n",
       "      <th>0</th>\n",
       "      <td>1</td>\n",
       "      <td>Ace</td>\n",
       "    </tr>\n",
       "    <tr>\n",
       "      <th>1</th>\n",
       "      <td>2</td>\n",
       "      <td>Ace Book</td>\n",
       "    </tr>\n",
       "    <tr>\n",
       "      <th>2</th>\n",
       "      <td>3</td>\n",
       "      <td>Ace Books</td>\n",
       "    </tr>\n",
       "    <tr>\n",
       "      <th>3</th>\n",
       "      <td>4</td>\n",
       "      <td>Ace Hardcover</td>\n",
       "    </tr>\n",
       "    <tr>\n",
       "      <th>4</th>\n",
       "      <td>5</td>\n",
       "      <td>Addison Wesley Publishing Company</td>\n",
       "    </tr>\n",
       "  </tbody>\n",
       "</table>\n",
       "</div>"
      ],
      "text/plain": [
       "   publisher_id                          publisher\n",
       "0             1                                Ace\n",
       "1             2                           Ace Book\n",
       "2             3                          Ace Books\n",
       "3             4                      Ace Hardcover\n",
       "4             5  Addison Wesley Publishing Company"
      ]
     },
     "execution_count": 4,
     "metadata": {},
     "output_type": "execute_result"
    }
   ],
   "source": [
    "query = '''SELECT * FROM publishers LIMIT 5'''\n",
    "con=engine.connect()\n",
    "pd.io.sql.read_sql(sql=text(query), con = con)"
   ]
  },
  {
   "cell_type": "markdown",
   "metadata": {},
   "source": [
    "**<font color=\"green\">Комментарий:<font>** Третья таблица - `publishers`. В ней хранятся данные об издателях:\n",
    "    \n",
    "    \n",
    "- идентификатор издателя;\n",
    "    \n",
    "    \n",
    "- название издательства."
   ]
  },
  {
   "cell_type": "code",
   "execution_count": 5,
   "metadata": {},
   "outputs": [
    {
     "data": {
      "text/html": [
       "<div>\n",
       "<style scoped>\n",
       "    .dataframe tbody tr th:only-of-type {\n",
       "        vertical-align: middle;\n",
       "    }\n",
       "\n",
       "    .dataframe tbody tr th {\n",
       "        vertical-align: top;\n",
       "    }\n",
       "\n",
       "    .dataframe thead th {\n",
       "        text-align: right;\n",
       "    }\n",
       "</style>\n",
       "<table border=\"1\" class=\"dataframe\">\n",
       "  <thead>\n",
       "    <tr style=\"text-align: right;\">\n",
       "      <th></th>\n",
       "      <th>rating_id</th>\n",
       "      <th>book_id</th>\n",
       "      <th>username</th>\n",
       "      <th>rating</th>\n",
       "    </tr>\n",
       "  </thead>\n",
       "  <tbody>\n",
       "    <tr>\n",
       "      <th>0</th>\n",
       "      <td>1</td>\n",
       "      <td>1</td>\n",
       "      <td>ryanfranco</td>\n",
       "      <td>4</td>\n",
       "    </tr>\n",
       "    <tr>\n",
       "      <th>1</th>\n",
       "      <td>2</td>\n",
       "      <td>1</td>\n",
       "      <td>grantpatricia</td>\n",
       "      <td>2</td>\n",
       "    </tr>\n",
       "    <tr>\n",
       "      <th>2</th>\n",
       "      <td>3</td>\n",
       "      <td>1</td>\n",
       "      <td>brandtandrea</td>\n",
       "      <td>5</td>\n",
       "    </tr>\n",
       "    <tr>\n",
       "      <th>3</th>\n",
       "      <td>4</td>\n",
       "      <td>2</td>\n",
       "      <td>lorichen</td>\n",
       "      <td>3</td>\n",
       "    </tr>\n",
       "    <tr>\n",
       "      <th>4</th>\n",
       "      <td>5</td>\n",
       "      <td>2</td>\n",
       "      <td>mariokeller</td>\n",
       "      <td>2</td>\n",
       "    </tr>\n",
       "  </tbody>\n",
       "</table>\n",
       "</div>"
      ],
      "text/plain": [
       "   rating_id  book_id       username  rating\n",
       "0          1        1     ryanfranco       4\n",
       "1          2        1  grantpatricia       2\n",
       "2          3        1   brandtandrea       5\n",
       "3          4        2       lorichen       3\n",
       "4          5        2    mariokeller       2"
      ]
     },
     "execution_count": 5,
     "metadata": {},
     "output_type": "execute_result"
    }
   ],
   "source": [
    "query = '''SELECT * FROM ratings LIMIT 5'''\n",
    "con=engine.connect()\n",
    "pd.io.sql.read_sql(sql=text(query), con = con)"
   ]
  },
  {
   "cell_type": "markdown",
   "metadata": {},
   "source": [
    "**<font color=\"green\">Комментарий:<font>** Четвертая таблица - `ratings`. В ней хранятся данные о пользовательских оценках книг:\n",
    "    \n",
    "    \n",
    "- идентификатор оценки;\n",
    "    \n",
    "    \n",
    "- идентификатор книги;\n",
    "    \n",
    "        \n",
    "- имя пользователя, оставившего оценку;\n",
    "    \n",
    "    \n",
    "- оценка книги."
   ]
  },
  {
   "cell_type": "code",
   "execution_count": 6,
   "metadata": {},
   "outputs": [
    {
     "data": {
      "text/html": [
       "<div>\n",
       "<style scoped>\n",
       "    .dataframe tbody tr th:only-of-type {\n",
       "        vertical-align: middle;\n",
       "    }\n",
       "\n",
       "    .dataframe tbody tr th {\n",
       "        vertical-align: top;\n",
       "    }\n",
       "\n",
       "    .dataframe thead th {\n",
       "        text-align: right;\n",
       "    }\n",
       "</style>\n",
       "<table border=\"1\" class=\"dataframe\">\n",
       "  <thead>\n",
       "    <tr style=\"text-align: right;\">\n",
       "      <th></th>\n",
       "      <th>review_id</th>\n",
       "      <th>book_id</th>\n",
       "      <th>username</th>\n",
       "      <th>text</th>\n",
       "    </tr>\n",
       "  </thead>\n",
       "  <tbody>\n",
       "    <tr>\n",
       "      <th>0</th>\n",
       "      <td>1</td>\n",
       "      <td>1</td>\n",
       "      <td>brandtandrea</td>\n",
       "      <td>Mention society tell send professor analysis. ...</td>\n",
       "    </tr>\n",
       "    <tr>\n",
       "      <th>1</th>\n",
       "      <td>2</td>\n",
       "      <td>1</td>\n",
       "      <td>ryanfranco</td>\n",
       "      <td>Foot glass pretty audience hit themselves. Amo...</td>\n",
       "    </tr>\n",
       "    <tr>\n",
       "      <th>2</th>\n",
       "      <td>3</td>\n",
       "      <td>2</td>\n",
       "      <td>lorichen</td>\n",
       "      <td>Listen treat keep worry. Miss husband tax but ...</td>\n",
       "    </tr>\n",
       "    <tr>\n",
       "      <th>3</th>\n",
       "      <td>4</td>\n",
       "      <td>3</td>\n",
       "      <td>johnsonamanda</td>\n",
       "      <td>Finally month interesting blue could nature cu...</td>\n",
       "    </tr>\n",
       "    <tr>\n",
       "      <th>4</th>\n",
       "      <td>5</td>\n",
       "      <td>3</td>\n",
       "      <td>scotttamara</td>\n",
       "      <td>Nation purpose heavy give wait song will. List...</td>\n",
       "    </tr>\n",
       "    <tr>\n",
       "      <th>...</th>\n",
       "      <td>...</td>\n",
       "      <td>...</td>\n",
       "      <td>...</td>\n",
       "      <td>...</td>\n",
       "    </tr>\n",
       "    <tr>\n",
       "      <th>2788</th>\n",
       "      <td>2789</td>\n",
       "      <td>999</td>\n",
       "      <td>martinadam</td>\n",
       "      <td>Later hospital turn easy community. Fact same ...</td>\n",
       "    </tr>\n",
       "    <tr>\n",
       "      <th>2789</th>\n",
       "      <td>2790</td>\n",
       "      <td>1000</td>\n",
       "      <td>wknight</td>\n",
       "      <td>Change lose answer close pressure. Spend so now.</td>\n",
       "    </tr>\n",
       "    <tr>\n",
       "      <th>2790</th>\n",
       "      <td>2791</td>\n",
       "      <td>1000</td>\n",
       "      <td>carolrodriguez</td>\n",
       "      <td>Authority go who television entire hair guy po...</td>\n",
       "    </tr>\n",
       "    <tr>\n",
       "      <th>2791</th>\n",
       "      <td>2792</td>\n",
       "      <td>1000</td>\n",
       "      <td>wendy18</td>\n",
       "      <td>Or western offer wonder ask. More hear phone f...</td>\n",
       "    </tr>\n",
       "    <tr>\n",
       "      <th>2792</th>\n",
       "      <td>2793</td>\n",
       "      <td>1000</td>\n",
       "      <td>jarvispaul</td>\n",
       "      <td>Republican staff bit eat material measure plan...</td>\n",
       "    </tr>\n",
       "  </tbody>\n",
       "</table>\n",
       "<p>2793 rows × 4 columns</p>\n",
       "</div>"
      ],
      "text/plain": [
       "      review_id  book_id        username  \\\n",
       "0             1        1    brandtandrea   \n",
       "1             2        1      ryanfranco   \n",
       "2             3        2        lorichen   \n",
       "3             4        3   johnsonamanda   \n",
       "4             5        3     scotttamara   \n",
       "...         ...      ...             ...   \n",
       "2788       2789      999      martinadam   \n",
       "2789       2790     1000         wknight   \n",
       "2790       2791     1000  carolrodriguez   \n",
       "2791       2792     1000         wendy18   \n",
       "2792       2793     1000      jarvispaul   \n",
       "\n",
       "                                                   text  \n",
       "0     Mention society tell send professor analysis. ...  \n",
       "1     Foot glass pretty audience hit themselves. Amo...  \n",
       "2     Listen treat keep worry. Miss husband tax but ...  \n",
       "3     Finally month interesting blue could nature cu...  \n",
       "4     Nation purpose heavy give wait song will. List...  \n",
       "...                                                 ...  \n",
       "2788  Later hospital turn easy community. Fact same ...  \n",
       "2789   Change lose answer close pressure. Spend so now.  \n",
       "2790  Authority go who television entire hair guy po...  \n",
       "2791  Or western offer wonder ask. More hear phone f...  \n",
       "2792  Republican staff bit eat material measure plan...  \n",
       "\n",
       "[2793 rows x 4 columns]"
      ]
     },
     "execution_count": 6,
     "metadata": {},
     "output_type": "execute_result"
    }
   ],
   "source": [
    "query = '''SELECT * FROM reviews '''\n",
    "con=engine.connect()\n",
    "pd.io.sql.read_sql(sql=text(query), con = con)"
   ]
  },
  {
   "cell_type": "markdown",
   "metadata": {},
   "source": [
    "**<font color=\"green\">Комментарий:<font>** Пятая таблица - `reviews`. В ней хранятся данные о пользовательских обзорах:\n",
    "    \n",
    "    \n",
    "- идентификатор обзора;\n",
    "    \n",
    "    \n",
    "- идентификатор книги;\n",
    "    \n",
    "    \n",
    "- имя автора обзора;\n",
    "    \n",
    "    \n",
    "- текст обзора."
   ]
  },
  {
   "cell_type": "markdown",
   "metadata": {},
   "source": [
    "## Задания"
   ]
  },
  {
   "cell_type": "markdown",
   "metadata": {},
   "source": [
    "### Количество книг, вышедших после 1 января 2000 года"
   ]
  },
  {
   "cell_type": "code",
   "execution_count": 7,
   "metadata": {},
   "outputs": [
    {
     "data": {
      "text/html": [
       "<div>\n",
       "<style scoped>\n",
       "    .dataframe tbody tr th:only-of-type {\n",
       "        vertical-align: middle;\n",
       "    }\n",
       "\n",
       "    .dataframe tbody tr th {\n",
       "        vertical-align: top;\n",
       "    }\n",
       "\n",
       "    .dataframe thead th {\n",
       "        text-align: right;\n",
       "    }\n",
       "</style>\n",
       "<table border=\"1\" class=\"dataframe\">\n",
       "  <thead>\n",
       "    <tr style=\"text-align: right;\">\n",
       "      <th></th>\n",
       "      <th>count</th>\n",
       "    </tr>\n",
       "  </thead>\n",
       "  <tbody>\n",
       "    <tr>\n",
       "      <th>0</th>\n",
       "      <td>819</td>\n",
       "    </tr>\n",
       "  </tbody>\n",
       "</table>\n",
       "</div>"
      ],
      "text/plain": [
       "   count\n",
       "0    819"
      ]
     },
     "execution_count": 7,
     "metadata": {},
     "output_type": "execute_result"
    }
   ],
   "source": [
    "query = '''\n",
    "SELECT count (*)\n",
    "FROM books  \n",
    "Where publication_date > '2000-01-01'\n",
    "'''\n",
    "\n",
    "con=engine.connect()\n",
    "pd.io.sql.read_sql(sql=text(query), con = con)"
   ]
  },
  {
   "cell_type": "markdown",
   "metadata": {},
   "source": [
    "**<font color=\"green\">Комментарий:<font>** Всего у нас есть информация по **1000** книгам, **819** из них вышли после **01.01.2000** года."
   ]
  },
  {
   "cell_type": "markdown",
   "metadata": {},
   "source": [
    "### Количество обзоров и средняя оценка"
   ]
  },
  {
   "cell_type": "markdown",
   "metadata": {},
   "source": [
    "Для каждой книги посчитайте количество обзоров и среднюю оценку;"
   ]
  },
  {
   "cell_type": "code",
   "execution_count": 8,
   "metadata": {},
   "outputs": [
    {
     "data": {
      "text/html": [
       "<div>\n",
       "<style scoped>\n",
       "    .dataframe tbody tr th:only-of-type {\n",
       "        vertical-align: middle;\n",
       "    }\n",
       "\n",
       "    .dataframe tbody tr th {\n",
       "        vertical-align: top;\n",
       "    }\n",
       "\n",
       "    .dataframe thead th {\n",
       "        text-align: right;\n",
       "    }\n",
       "</style>\n",
       "<table border=\"1\" class=\"dataframe\">\n",
       "  <thead>\n",
       "    <tr style=\"text-align: right;\">\n",
       "      <th></th>\n",
       "      <th>book_id</th>\n",
       "      <th>title</th>\n",
       "      <th>avg_rating</th>\n",
       "      <th>count_of_rewiews</th>\n",
       "    </tr>\n",
       "  </thead>\n",
       "  <tbody>\n",
       "    <tr>\n",
       "      <th>0</th>\n",
       "      <td>1</td>\n",
       "      <td>'Salem's Lot</td>\n",
       "      <td>3.666667</td>\n",
       "      <td>2</td>\n",
       "    </tr>\n",
       "    <tr>\n",
       "      <th>1</th>\n",
       "      <td>2</td>\n",
       "      <td>1 000 Places to See Before You Die</td>\n",
       "      <td>2.500000</td>\n",
       "      <td>1</td>\n",
       "    </tr>\n",
       "    <tr>\n",
       "      <th>2</th>\n",
       "      <td>3</td>\n",
       "      <td>13 Little Blue Envelopes (Little Blue Envelope...</td>\n",
       "      <td>4.666667</td>\n",
       "      <td>3</td>\n",
       "    </tr>\n",
       "    <tr>\n",
       "      <th>3</th>\n",
       "      <td>4</td>\n",
       "      <td>1491: New Revelations of the Americas Before C...</td>\n",
       "      <td>4.500000</td>\n",
       "      <td>2</td>\n",
       "    </tr>\n",
       "    <tr>\n",
       "      <th>4</th>\n",
       "      <td>5</td>\n",
       "      <td>1776</td>\n",
       "      <td>4.000000</td>\n",
       "      <td>4</td>\n",
       "    </tr>\n",
       "    <tr>\n",
       "      <th>...</th>\n",
       "      <td>...</td>\n",
       "      <td>...</td>\n",
       "      <td>...</td>\n",
       "      <td>...</td>\n",
       "    </tr>\n",
       "    <tr>\n",
       "      <th>995</th>\n",
       "      <td>996</td>\n",
       "      <td>Wyrd Sisters (Discworld  #6; Witches #2)</td>\n",
       "      <td>3.666667</td>\n",
       "      <td>3</td>\n",
       "    </tr>\n",
       "    <tr>\n",
       "      <th>996</th>\n",
       "      <td>997</td>\n",
       "      <td>Xenocide (Ender's Saga  #3)</td>\n",
       "      <td>3.400000</td>\n",
       "      <td>3</td>\n",
       "    </tr>\n",
       "    <tr>\n",
       "      <th>997</th>\n",
       "      <td>998</td>\n",
       "      <td>Year of Wonders</td>\n",
       "      <td>3.200000</td>\n",
       "      <td>4</td>\n",
       "    </tr>\n",
       "    <tr>\n",
       "      <th>998</th>\n",
       "      <td>999</td>\n",
       "      <td>You Suck (A Love Story  #2)</td>\n",
       "      <td>4.500000</td>\n",
       "      <td>2</td>\n",
       "    </tr>\n",
       "    <tr>\n",
       "      <th>999</th>\n",
       "      <td>1000</td>\n",
       "      <td>Zen and the Art of Motorcycle Maintenance: An ...</td>\n",
       "      <td>3.833333</td>\n",
       "      <td>4</td>\n",
       "    </tr>\n",
       "  </tbody>\n",
       "</table>\n",
       "<p>1000 rows × 4 columns</p>\n",
       "</div>"
      ],
      "text/plain": [
       "     book_id                                              title  avg_rating  \\\n",
       "0          1                                       'Salem's Lot    3.666667   \n",
       "1          2                 1 000 Places to See Before You Die    2.500000   \n",
       "2          3  13 Little Blue Envelopes (Little Blue Envelope...    4.666667   \n",
       "3          4  1491: New Revelations of the Americas Before C...    4.500000   \n",
       "4          5                                               1776    4.000000   \n",
       "..       ...                                                ...         ...   \n",
       "995      996           Wyrd Sisters (Discworld  #6; Witches #2)    3.666667   \n",
       "996      997                        Xenocide (Ender's Saga  #3)    3.400000   \n",
       "997      998                                    Year of Wonders    3.200000   \n",
       "998      999                        You Suck (A Love Story  #2)    4.500000   \n",
       "999     1000  Zen and the Art of Motorcycle Maintenance: An ...    3.833333   \n",
       "\n",
       "     count_of_rewiews  \n",
       "0                   2  \n",
       "1                   1  \n",
       "2                   3  \n",
       "3                   2  \n",
       "4                   4  \n",
       "..                ...  \n",
       "995                 3  \n",
       "996                 3  \n",
       "997                 4  \n",
       "998                 2  \n",
       "999                 4  \n",
       "\n",
       "[1000 rows x 4 columns]"
      ]
     },
     "execution_count": 8,
     "metadata": {},
     "output_type": "execute_result"
    }
   ],
   "source": [
    "query = '''\n",
    "select books.book_id,\n",
    "       title,\n",
    "       avg(ratings.rating) as avg_rating,\n",
    "       count(distinct reviews.review_id) as count_of_rewiews\n",
    "from books\n",
    "left outer join ratings on books.book_id = ratings.book_id\n",
    "left outer join reviews on books.book_id = reviews.book_id\n",
    "group by books.book_id,\n",
    "title\n",
    "'''\n",
    "\n",
    "con=engine.connect()\n",
    "pd.io.sql.read_sql(sql=text(query), con = con)"
   ]
  },
  {
   "cell_type": "markdown",
   "metadata": {},
   "source": [
    "**<font color=\"green\">Комментарий:<font>** Количество обзоров и средняя оценка подсчитана!"
   ]
  },
  {
   "cell_type": "markdown",
   "metadata": {},
   "source": [
    "### Издательство, выпустившее наибольшее количество книг"
   ]
  },
  {
   "cell_type": "code",
   "execution_count": 9,
   "metadata": {},
   "outputs": [
    {
     "data": {
      "text/html": [
       "<div>\n",
       "<style scoped>\n",
       "    .dataframe tbody tr th:only-of-type {\n",
       "        vertical-align: middle;\n",
       "    }\n",
       "\n",
       "    .dataframe tbody tr th {\n",
       "        vertical-align: top;\n",
       "    }\n",
       "\n",
       "    .dataframe thead th {\n",
       "        text-align: right;\n",
       "    }\n",
       "</style>\n",
       "<table border=\"1\" class=\"dataframe\">\n",
       "  <thead>\n",
       "    <tr style=\"text-align: right;\">\n",
       "      <th></th>\n",
       "      <th>publisher_id</th>\n",
       "      <th>publisher</th>\n",
       "      <th>total</th>\n",
       "    </tr>\n",
       "  </thead>\n",
       "  <tbody>\n",
       "    <tr>\n",
       "      <th>0</th>\n",
       "      <td>212</td>\n",
       "      <td>Penguin Books</td>\n",
       "      <td>42</td>\n",
       "    </tr>\n",
       "  </tbody>\n",
       "</table>\n",
       "</div>"
      ],
      "text/plain": [
       "   publisher_id      publisher  total\n",
       "0           212  Penguin Books     42"
      ]
     },
     "execution_count": 9,
     "metadata": {},
     "output_type": "execute_result"
    }
   ],
   "source": [
    "query = '''\n",
    "SELECT books.publisher_id,\n",
    "       publisher, \n",
    "       count(books.publisher_id) as total\n",
    "FROM books  \n",
    "inner join publishers on books.publisher_id = publishers.publisher_id \n",
    "Where num_pages > 50\n",
    "group by books.publisher_id,\n",
    "publisher\n",
    "order by total desc\n",
    "limit 1\n",
    "'''\n",
    "\n",
    "con=engine.connect()\n",
    "pd.io.sql.read_sql(sql=text(query), con = con)"
   ]
  },
  {
   "cell_type": "markdown",
   "metadata": {},
   "source": [
    "**<font color=\"green\">Комментарий:<font>** **Penguin Books** - издательство, которое выпустило наибольшее количество книг толще 50 страниц!"
   ]
  },
  {
   "cell_type": "markdown",
   "metadata": {},
   "source": [
    "### Автор с самой высокой средней оценкой"
   ]
  },
  {
   "cell_type": "code",
   "execution_count": 10,
   "metadata": {},
   "outputs": [
    {
     "data": {
      "text/html": [
       "<div>\n",
       "<style scoped>\n",
       "    .dataframe tbody tr th:only-of-type {\n",
       "        vertical-align: middle;\n",
       "    }\n",
       "\n",
       "    .dataframe tbody tr th {\n",
       "        vertical-align: top;\n",
       "    }\n",
       "\n",
       "    .dataframe thead th {\n",
       "        text-align: right;\n",
       "    }\n",
       "</style>\n",
       "<table border=\"1\" class=\"dataframe\">\n",
       "  <thead>\n",
       "    <tr style=\"text-align: right;\">\n",
       "      <th></th>\n",
       "      <th>author</th>\n",
       "      <th>avg_rating_by_ath</th>\n",
       "    </tr>\n",
       "  </thead>\n",
       "  <tbody>\n",
       "    <tr>\n",
       "      <th>0</th>\n",
       "      <td>J.K. Rowling/Mary GrandPré</td>\n",
       "      <td>4.285</td>\n",
       "    </tr>\n",
       "  </tbody>\n",
       "</table>\n",
       "</div>"
      ],
      "text/plain": [
       "                       author  avg_rating_by_ath\n",
       "0  J.K. Rowling/Mary GrandPré              4.285"
      ]
     },
     "execution_count": 10,
     "metadata": {},
     "output_type": "execute_result"
    }
   ],
   "source": [
    "query = '''\n",
    "with zxc as (with wsx as (SELECT books.book_id,\n",
    "       round(avg(rating), 2) as total\n",
    "FROM books  \n",
    "inner join ratings on books.book_id = ratings.book_id\n",
    "group by books.book_id),\n",
    "\n",
    "asd as (SELECT books.book_id,\n",
    "       count(*) as ratings_counts\n",
    "FROM books  \n",
    "inner join ratings on books.book_id = ratings.book_id\n",
    "group by books.book_id\n",
    "having count(*) > 50\n",
    "order by ratings_counts desc)\n",
    "\n",
    "select *\n",
    "from books \n",
    "inner join wsx on books.book_id = wsx.book_id\n",
    "inner join asd on books.book_id = asd.book_id\n",
    "order by total desc)\n",
    "\n",
    "select author,\n",
    "       avg(total) as avg_rating_by_ath\n",
    "from zxc\n",
    "inner join authors on zxc.author_id = authors.author_id\n",
    "group by author\n",
    "order by avg_rating_by_ath desc\n",
    "limit 1\n",
    "'''\n",
    "\n",
    "con=engine.connect()\n",
    "pd.io.sql.read_sql(sql=text(query), con = con)"
   ]
  },
  {
   "cell_type": "markdown",
   "metadata": {},
   "source": [
    "**<font color=\"green\">Комментарий:<font>** **Джоан Роулинг** - самый рейтинговый автор!"
   ]
  },
  {
   "cell_type": "markdown",
   "metadata": {},
   "source": [
    "### Пользователи, которые поставили больше 48 оценок"
   ]
  },
  {
   "cell_type": "markdown",
   "metadata": {},
   "source": [
    "Посчитайте среднее количество обзоров от пользователей, которые поставили больше 48 оценок."
   ]
  },
  {
   "cell_type": "code",
   "execution_count": 11,
   "metadata": {},
   "outputs": [
    {
     "data": {
      "text/html": [
       "<div>\n",
       "<style scoped>\n",
       "    .dataframe tbody tr th:only-of-type {\n",
       "        vertical-align: middle;\n",
       "    }\n",
       "\n",
       "    .dataframe tbody tr th {\n",
       "        vertical-align: top;\n",
       "    }\n",
       "\n",
       "    .dataframe thead th {\n",
       "        text-align: right;\n",
       "    }\n",
       "</style>\n",
       "<table border=\"1\" class=\"dataframe\">\n",
       "  <thead>\n",
       "    <tr style=\"text-align: right;\">\n",
       "      <th></th>\n",
       "      <th>avg</th>\n",
       "    </tr>\n",
       "  </thead>\n",
       "  <tbody>\n",
       "    <tr>\n",
       "      <th>0</th>\n",
       "      <td>24.0</td>\n",
       "    </tr>\n",
       "  </tbody>\n",
       "</table>\n",
       "</div>"
      ],
      "text/plain": [
       "    avg\n",
       "0  24.0"
      ]
     },
     "execution_count": 11,
     "metadata": {},
     "output_type": "execute_result"
    }
   ],
   "source": [
    "query = '''\n",
    "with asd as(\n",
    "with wsx as (SELECT username,\n",
    "       count(*)  as count_of_rating\n",
    "FROM ratings\n",
    "group by username\n",
    "having count(*) > 48)\n",
    "\n",
    "select reviews.username,\n",
    "       count(*) \n",
    "from reviews\n",
    "inner join wsx on reviews.username = wsx.username\n",
    "group by (reviews.username))\n",
    "\n",
    "select avg(count)\n",
    "from asd\n",
    "'''\n",
    "\n",
    "con=engine.connect()\n",
    "pd.io.sql.read_sql(sql=text(query), con = con)"
   ]
  },
  {
   "cell_type": "markdown",
   "metadata": {},
   "source": [
    "**<font color=\"green\">Комментарий:<font>** В среднем пользователи, которые поставили больше **48** оценок, оставляют **24** обзора."
   ]
  },
  {
   "cell_type": "markdown",
   "metadata": {},
   "source": [
    "## Вывод"
   ]
  },
  {
   "cell_type": "markdown",
   "metadata": {},
   "source": [
    "После анализа базы данных мы можем сформировать основные ценности аудитории, а именно:\n",
    "\n",
    "1. 819 книг вышли в тираж после 01.01.2000 года;\n",
    "\n",
    "\n",
    "2. Создали таблицу, в которой отображается информация о количестве обзоров и средней оценки аудитории, например, книга «13 маленьких голубых конвертов» имеет средний рейтинг 4.6, а количество обзоров - три;\n",
    "\n",
    "\n",
    "3. Penguin Books - издательство, которое выпустило наибольшее количество книг толще 50 страниц;\n",
    "\n",
    "\n",
    "4. Джоан Роулинг - автор с самой высокой средней оценкой - 4.41 балла;\n",
    "\n",
    "\n",
    "5. В среднем пользователи, которые поставили больше 48 оценок, оставляют 24 обзора."
   ]
  }
 ],
 "metadata": {
  "ExecuteTimeLog": [
   {
    "duration": 8856,
    "start_time": "2024-02-28T19:22:22.210Z"
   },
   {
    "duration": 2,
    "start_time": "2024-02-28T19:23:51.520Z"
   },
   {
    "duration": 132,
    "start_time": "2024-02-28T19:23:58.554Z"
   },
   {
    "duration": 49,
    "start_time": "2024-02-28T19:24:09.817Z"
   },
   {
    "duration": 4,
    "start_time": "2024-02-28T19:33:36.727Z"
   },
   {
    "duration": 220,
    "start_time": "2024-02-28T19:34:03.424Z"
   },
   {
    "duration": 131,
    "start_time": "2024-02-28T19:34:16.460Z"
   },
   {
    "duration": 52,
    "start_time": "2024-02-28T19:34:22.859Z"
   },
   {
    "duration": 52,
    "start_time": "2024-02-28T19:34:28.329Z"
   },
   {
    "duration": 8632,
    "start_time": "2024-02-28T19:34:32.715Z"
   },
   {
    "duration": 211,
    "start_time": "2024-02-28T19:34:41.349Z"
   },
   {
    "duration": 121,
    "start_time": "2024-02-28T19:34:41.561Z"
   },
   {
    "duration": 50,
    "start_time": "2024-02-28T19:34:41.684Z"
   },
   {
    "duration": 52,
    "start_time": "2024-02-28T19:34:41.736Z"
   },
   {
    "duration": 52,
    "start_time": "2024-02-28T19:34:41.789Z"
   },
   {
    "duration": 4,
    "start_time": "2024-02-28T19:46:01.472Z"
   },
   {
    "duration": 220,
    "start_time": "2024-02-28T19:46:03.665Z"
   },
   {
    "duration": 119,
    "start_time": "2024-02-28T19:46:04.910Z"
   },
   {
    "duration": 50,
    "start_time": "2024-02-28T19:46:05.478Z"
   },
   {
    "duration": 51,
    "start_time": "2024-02-28T19:46:06.012Z"
   },
   {
    "duration": 51,
    "start_time": "2024-02-28T19:46:06.621Z"
   },
   {
    "duration": 90,
    "start_time": "2024-02-28T19:48:58.132Z"
   },
   {
    "duration": 4,
    "start_time": "2024-02-28T19:49:02.512Z"
   },
   {
    "duration": 3,
    "start_time": "2024-02-28T19:49:09.065Z"
   },
   {
    "duration": 49,
    "start_time": "2024-02-28T19:49:11.376Z"
   },
   {
    "duration": 50,
    "start_time": "2024-02-28T19:50:12.826Z"
   },
   {
    "duration": 51,
    "start_time": "2024-02-28T19:57:05.292Z"
   },
   {
    "duration": 50,
    "start_time": "2024-02-28T19:57:57.206Z"
   },
   {
    "duration": 49,
    "start_time": "2024-02-28T20:00:19.050Z"
   },
   {
    "duration": 57,
    "start_time": "2024-02-28T20:03:07.301Z"
   },
   {
    "duration": 134,
    "start_time": "2024-02-28T20:03:29.259Z"
   },
   {
    "duration": 60,
    "start_time": "2024-02-28T20:03:56.684Z"
   },
   {
    "duration": 119,
    "start_time": "2024-02-28T20:04:07.853Z"
   },
   {
    "duration": 53,
    "start_time": "2024-02-28T20:04:14.893Z"
   },
   {
    "duration": 71,
    "start_time": "2024-02-28T20:06:18.991Z"
   },
   {
    "duration": 58,
    "start_time": "2024-02-28T20:06:36.124Z"
   },
   {
    "duration": 130,
    "start_time": "2024-02-28T20:06:49.373Z"
   },
   {
    "duration": 132,
    "start_time": "2024-02-28T20:07:01.025Z"
   },
   {
    "duration": 121,
    "start_time": "2024-02-28T20:07:06.252Z"
   },
   {
    "duration": 56,
    "start_time": "2024-02-28T20:07:45.229Z"
   },
   {
    "duration": 52,
    "start_time": "2024-02-28T20:07:51.184Z"
   },
   {
    "duration": 71,
    "start_time": "2024-02-28T20:12:02.849Z"
   },
   {
    "duration": 124,
    "start_time": "2024-02-28T20:12:33.317Z"
   },
   {
    "duration": 56,
    "start_time": "2024-02-28T20:13:35.428Z"
   },
   {
    "duration": 56,
    "start_time": "2024-02-28T20:13:45.021Z"
   },
   {
    "duration": 54,
    "start_time": "2024-02-28T20:13:54.691Z"
   },
   {
    "duration": 71,
    "start_time": "2024-02-28T20:14:55.703Z"
   },
   {
    "duration": 61,
    "start_time": "2024-02-28T20:15:00.564Z"
   },
   {
    "duration": 45,
    "start_time": "2024-02-28T20:15:43.265Z"
   },
   {
    "duration": 70,
    "start_time": "2024-02-28T20:16:10.044Z"
   },
   {
    "duration": 60,
    "start_time": "2024-02-28T20:16:16.276Z"
   },
   {
    "duration": 43,
    "start_time": "2024-02-28T20:16:35.692Z"
   },
   {
    "duration": 54,
    "start_time": "2024-02-28T20:18:02.039Z"
   },
   {
    "duration": 52,
    "start_time": "2024-02-28T20:18:33.125Z"
   },
   {
    "duration": 133,
    "start_time": "2024-02-28T20:18:35.410Z"
   },
   {
    "duration": 69,
    "start_time": "2024-02-28T20:19:08.148Z"
   },
   {
    "duration": 60,
    "start_time": "2024-02-28T20:19:24.910Z"
   },
   {
    "duration": 58,
    "start_time": "2024-02-28T20:19:33.633Z"
   },
   {
    "duration": 72,
    "start_time": "2024-02-28T20:20:29.153Z"
   },
   {
    "duration": 58,
    "start_time": "2024-02-28T20:20:32.120Z"
   },
   {
    "duration": 68,
    "start_time": "2024-02-28T20:20:39.411Z"
   },
   {
    "duration": 68,
    "start_time": "2024-02-28T20:20:42.655Z"
   },
   {
    "duration": 70,
    "start_time": "2024-02-28T20:21:20.201Z"
   },
   {
    "duration": 61,
    "start_time": "2024-02-28T20:21:30.746Z"
   },
   {
    "duration": 60,
    "start_time": "2024-02-28T20:22:05.128Z"
   },
   {
    "duration": 134,
    "start_time": "2024-02-28T20:22:18.058Z"
   },
   {
    "duration": 71,
    "start_time": "2024-02-28T20:25:22.301Z"
   },
   {
    "duration": 60,
    "start_time": "2024-02-28T20:25:32.299Z"
   },
   {
    "duration": 76,
    "start_time": "2024-02-28T20:25:38.819Z"
   },
   {
    "duration": 54,
    "start_time": "2024-02-28T20:26:12.856Z"
   },
   {
    "duration": 71,
    "start_time": "2024-02-28T20:27:34.447Z"
   },
   {
    "duration": 62,
    "start_time": "2024-02-28T20:27:59.535Z"
   },
   {
    "duration": 133,
    "start_time": "2024-02-28T20:31:40.610Z"
   },
   {
    "duration": 160,
    "start_time": "2024-02-28T20:32:15.367Z"
   },
   {
    "duration": 70,
    "start_time": "2024-02-28T20:32:39.623Z"
   },
   {
    "duration": 60,
    "start_time": "2024-02-28T20:33:09.936Z"
   },
   {
    "duration": 60,
    "start_time": "2024-02-28T20:33:20.203Z"
   },
   {
    "duration": 145,
    "start_time": "2024-02-28T20:33:35.622Z"
   },
   {
    "duration": 142,
    "start_time": "2024-02-28T20:33:58.023Z"
   },
   {
    "duration": 160,
    "start_time": "2024-02-28T20:34:21.979Z"
   },
   {
    "duration": 67,
    "start_time": "2024-02-28T20:37:01.575Z"
   },
   {
    "duration": 81,
    "start_time": "2024-02-28T20:37:10.345Z"
   },
   {
    "duration": 181,
    "start_time": "2024-02-28T20:37:25.402Z"
   },
   {
    "duration": 73,
    "start_time": "2024-02-28T20:39:14.036Z"
   },
   {
    "duration": 70,
    "start_time": "2024-02-28T20:40:49.486Z"
   },
   {
    "duration": 88,
    "start_time": "2024-02-28T20:41:02.405Z"
   },
   {
    "duration": 74,
    "start_time": "2024-02-28T20:41:44.931Z"
   },
   {
    "duration": 69,
    "start_time": "2024-02-28T20:41:53.648Z"
   },
   {
    "duration": 72,
    "start_time": "2024-02-28T20:42:15.984Z"
   },
   {
    "duration": 60,
    "start_time": "2024-02-28T20:43:12.315Z"
   },
   {
    "duration": 61,
    "start_time": "2024-02-28T20:44:12.094Z"
   },
   {
    "duration": 60,
    "start_time": "2024-02-28T20:44:46.513Z"
   },
   {
    "duration": 138,
    "start_time": "2024-02-28T20:44:58.181Z"
   },
   {
    "duration": 69,
    "start_time": "2024-02-28T20:45:17.357Z"
   },
   {
    "duration": 59,
    "start_time": "2024-02-28T20:45:31.456Z"
   },
   {
    "duration": 61,
    "start_time": "2024-02-28T20:45:58.863Z"
   },
   {
    "duration": 101,
    "start_time": "2024-02-28T20:46:06.993Z"
   },
   {
    "duration": 72,
    "start_time": "2024-02-28T20:46:16.497Z"
   },
   {
    "duration": 147,
    "start_time": "2024-02-28T20:47:17.126Z"
   },
   {
    "duration": 70,
    "start_time": "2024-02-28T20:47:26.279Z"
   },
   {
    "duration": 60,
    "start_time": "2024-02-28T20:47:39.629Z"
   },
   {
    "duration": 61,
    "start_time": "2024-02-28T20:48:07.163Z"
   },
   {
    "duration": 54,
    "start_time": "2024-02-28T20:50:23.721Z"
   },
   {
    "duration": 73,
    "start_time": "2024-02-28T20:51:03.655Z"
   },
   {
    "duration": 53,
    "start_time": "2024-02-28T20:51:16.218Z"
   },
   {
    "duration": 70,
    "start_time": "2024-02-28T20:51:50.585Z"
   },
   {
    "duration": 60,
    "start_time": "2024-02-28T20:51:54.281Z"
   },
   {
    "duration": 60,
    "start_time": "2024-02-28T20:51:57.143Z"
   },
   {
    "duration": 61,
    "start_time": "2024-02-28T20:52:09.873Z"
   },
   {
    "duration": 54,
    "start_time": "2024-02-28T20:52:16.718Z"
   },
   {
    "duration": 62,
    "start_time": "2024-02-28T20:52:37.225Z"
   },
   {
    "duration": 60,
    "start_time": "2024-02-28T20:52:45.374Z"
   },
   {
    "duration": 61,
    "start_time": "2024-02-28T20:54:13.826Z"
   },
   {
    "duration": 55,
    "start_time": "2024-02-28T20:54:44.904Z"
   },
   {
    "duration": 51,
    "start_time": "2024-02-28T20:57:29.705Z"
   },
   {
    "duration": 80,
    "start_time": "2024-02-28T20:57:34.076Z"
   },
   {
    "duration": 71,
    "start_time": "2024-02-28T20:58:12.087Z"
   },
   {
    "duration": 111,
    "start_time": "2024-02-28T20:59:07.292Z"
   },
   {
    "duration": 113,
    "start_time": "2024-02-28T20:59:14.384Z"
   },
   {
    "duration": 73,
    "start_time": "2024-02-28T20:59:25.217Z"
   },
   {
    "duration": 101,
    "start_time": "2024-02-28T20:59:34.082Z"
   },
   {
    "duration": 73,
    "start_time": "2024-02-28T20:59:39.594Z"
   },
   {
    "duration": 85,
    "start_time": "2024-02-28T21:00:07.610Z"
   },
   {
    "duration": 104,
    "start_time": "2024-02-28T21:01:18.817Z"
   },
   {
    "duration": 117,
    "start_time": "2024-02-28T21:01:50.427Z"
   },
   {
    "duration": 116,
    "start_time": "2024-02-28T21:01:55.223Z"
   },
   {
    "duration": 113,
    "start_time": "2024-02-28T21:02:06.946Z"
   },
   {
    "duration": 109,
    "start_time": "2024-02-28T21:02:12.009Z"
   },
   {
    "duration": 114,
    "start_time": "2024-02-28T21:02:16.223Z"
   },
   {
    "duration": 141,
    "start_time": "2024-02-28T21:04:45.635Z"
   },
   {
    "duration": 51,
    "start_time": "2024-02-28T21:06:26.729Z"
   },
   {
    "duration": 6,
    "start_time": "2024-02-28T21:06:30.304Z"
   },
   {
    "duration": 8620,
    "start_time": "2024-02-28T21:06:34.227Z"
   },
   {
    "duration": 214,
    "start_time": "2024-02-28T21:06:42.849Z"
   },
   {
    "duration": 122,
    "start_time": "2024-02-28T21:06:43.064Z"
   },
   {
    "duration": 50,
    "start_time": "2024-02-28T21:06:43.188Z"
   },
   {
    "duration": 51,
    "start_time": "2024-02-28T21:06:43.240Z"
   },
   {
    "duration": 51,
    "start_time": "2024-02-28T21:06:43.293Z"
   },
   {
    "duration": 50,
    "start_time": "2024-02-28T21:06:43.345Z"
   },
   {
    "duration": 111,
    "start_time": "2024-02-28T21:06:43.397Z"
   },
   {
    "duration": 51,
    "start_time": "2024-02-28T21:06:43.509Z"
   },
   {
    "duration": 55,
    "start_time": "2024-02-28T21:06:43.562Z"
   },
   {
    "duration": 711,
    "start_time": "2024-02-28T21:06:43.619Z"
   },
   {
    "duration": 132,
    "start_time": "2024-02-28T21:09:15.356Z"
   },
   {
    "duration": 653,
    "start_time": "2024-02-28T21:09:25.115Z"
   },
   {
    "duration": 785,
    "start_time": "2024-02-28T21:10:32.971Z"
   },
   {
    "duration": 104,
    "start_time": "2024-02-28T21:10:47.638Z"
   },
   {
    "duration": 98,
    "start_time": "2024-02-28T21:11:08.454Z"
   },
   {
    "duration": 52,
    "start_time": "2024-02-28T21:11:15.465Z"
   },
   {
    "duration": 52,
    "start_time": "2024-02-28T21:13:02.071Z"
   },
   {
    "duration": 92,
    "start_time": "2024-02-28T21:13:45.089Z"
   },
   {
    "duration": 58,
    "start_time": "2024-02-28T21:13:52.839Z"
   },
   {
    "duration": 72,
    "start_time": "2024-02-28T21:14:11.159Z"
   },
   {
    "duration": 62,
    "start_time": "2024-02-28T21:14:22.410Z"
   },
   {
    "duration": 129,
    "start_time": "2024-02-28T21:14:32.717Z"
   },
   {
    "duration": 132,
    "start_time": "2024-02-28T21:16:50.391Z"
   },
   {
    "duration": 54,
    "start_time": "2024-02-28T21:17:03.742Z"
   },
   {
    "duration": 52,
    "start_time": "2024-02-28T21:17:14.061Z"
   },
   {
    "duration": 101,
    "start_time": "2024-02-28T21:17:49.660Z"
   },
   {
    "duration": 81,
    "start_time": "2024-02-28T21:18:15.489Z"
   },
   {
    "duration": 72,
    "start_time": "2024-02-28T21:19:53.548Z"
   },
   {
    "duration": 60,
    "start_time": "2024-02-28T21:20:06.082Z"
   },
   {
    "duration": 61,
    "start_time": "2024-02-28T21:20:15.844Z"
   },
   {
    "duration": 138,
    "start_time": "2024-02-28T21:20:29.025Z"
   },
   {
    "duration": 116,
    "start_time": "2024-02-28T21:20:37.067Z"
   },
   {
    "duration": 187,
    "start_time": "2024-02-28T21:20:52.418Z"
   },
   {
    "duration": 73,
    "start_time": "2024-02-28T21:22:41.095Z"
   },
   {
    "duration": 44,
    "start_time": "2024-02-28T21:22:51.571Z"
   },
   {
    "duration": 70,
    "start_time": "2024-02-28T21:23:20.084Z"
   },
   {
    "duration": 91,
    "start_time": "2024-02-28T21:23:28.585Z"
   },
   {
    "duration": 79,
    "start_time": "2024-02-28T21:24:03.828Z"
   },
   {
    "duration": 71,
    "start_time": "2024-02-28T21:24:31.904Z"
   },
   {
    "duration": 46,
    "start_time": "2024-02-28T21:24:45.353Z"
   },
   {
    "duration": 54,
    "start_time": "2024-02-28T21:25:29.315Z"
   },
   {
    "duration": 10464,
    "start_time": "2024-02-29T08:53:13.298Z"
   },
   {
    "duration": 231,
    "start_time": "2024-02-29T08:53:23.764Z"
   },
   {
    "duration": 118,
    "start_time": "2024-02-29T08:53:23.997Z"
   },
   {
    "duration": 49,
    "start_time": "2024-02-29T08:53:24.117Z"
   },
   {
    "duration": 49,
    "start_time": "2024-02-29T08:53:24.168Z"
   },
   {
    "duration": 51,
    "start_time": "2024-02-29T08:53:24.218Z"
   },
   {
    "duration": 48,
    "start_time": "2024-02-29T08:53:24.270Z"
   },
   {
    "duration": 112,
    "start_time": "2024-02-29T08:53:24.319Z"
   },
   {
    "duration": 52,
    "start_time": "2024-02-29T08:53:24.432Z"
   },
   {
    "duration": 55,
    "start_time": "2024-02-29T08:53:24.486Z"
   },
   {
    "duration": 62,
    "start_time": "2024-02-29T08:53:24.542Z"
   },
   {
    "duration": 55,
    "start_time": "2024-02-29T08:53:55.560Z"
   },
   {
    "duration": 56,
    "start_time": "2024-02-29T08:53:56.774Z"
   },
   {
    "duration": 8391,
    "start_time": "2024-02-29T11:58:51.887Z"
   },
   {
    "duration": 237,
    "start_time": "2024-02-29T11:59:00.279Z"
   },
   {
    "duration": 128,
    "start_time": "2024-02-29T11:59:00.518Z"
   },
   {
    "duration": 50,
    "start_time": "2024-02-29T11:59:00.648Z"
   },
   {
    "duration": 51,
    "start_time": "2024-02-29T11:59:00.700Z"
   },
   {
    "duration": 52,
    "start_time": "2024-02-29T11:59:00.753Z"
   },
   {
    "duration": 51,
    "start_time": "2024-02-29T11:59:00.807Z"
   },
   {
    "duration": 116,
    "start_time": "2024-02-29T11:59:00.860Z"
   },
   {
    "duration": 53,
    "start_time": "2024-02-29T11:59:00.977Z"
   },
   {
    "duration": 71,
    "start_time": "2024-02-29T11:59:01.033Z"
   },
   {
    "duration": 53,
    "start_time": "2024-02-29T11:59:01.105Z"
   },
   {
    "duration": 140,
    "start_time": "2024-02-29T12:08:41.961Z"
   },
   {
    "duration": 59,
    "start_time": "2024-02-29T12:08:46.241Z"
   },
   {
    "duration": 181,
    "start_time": "2024-02-29T12:10:08.431Z"
   },
   {
    "duration": 87,
    "start_time": "2024-02-29T12:13:16.563Z"
   },
   {
    "duration": 70,
    "start_time": "2024-02-29T12:13:46.551Z"
   },
   {
    "duration": 100,
    "start_time": "2024-02-29T12:13:49.677Z"
   },
   {
    "duration": 155,
    "start_time": "2024-02-29T12:14:30.132Z"
   },
   {
    "duration": 59,
    "start_time": "2024-02-29T12:14:56.022Z"
   },
   {
    "duration": 159,
    "start_time": "2024-02-29T12:15:13.177Z"
   },
   {
    "duration": 70,
    "start_time": "2024-02-29T12:15:31.661Z"
   },
   {
    "duration": 53,
    "start_time": "2024-02-29T12:15:54.551Z"
   },
   {
    "duration": 164,
    "start_time": "2024-02-29T12:16:49.288Z"
   },
   {
    "duration": 54,
    "start_time": "2024-02-29T12:18:04.197Z"
   },
   {
    "duration": 81,
    "start_time": "2024-02-29T12:18:30.704Z"
   },
   {
    "duration": 71,
    "start_time": "2024-02-29T12:18:48.517Z"
   },
   {
    "duration": 59,
    "start_time": "2024-02-29T12:19:01.215Z"
   },
   {
    "duration": 73,
    "start_time": "2024-02-29T12:19:31.965Z"
   },
   {
    "duration": 71,
    "start_time": "2024-02-29T12:20:01.496Z"
   },
   {
    "duration": 64,
    "start_time": "2024-02-29T12:20:08.238Z"
   },
   {
    "duration": 57,
    "start_time": "2024-02-29T12:20:46.946Z"
   },
   {
    "duration": 76,
    "start_time": "2024-02-29T12:22:12.909Z"
   },
   {
    "duration": 79,
    "start_time": "2024-02-29T12:22:26.483Z"
   },
   {
    "duration": 76,
    "start_time": "2024-02-29T12:22:55.189Z"
   },
   {
    "duration": 57,
    "start_time": "2024-02-29T12:23:06.500Z"
   },
   {
    "duration": 58,
    "start_time": "2024-02-29T12:23:19.261Z"
   },
   {
    "duration": 59,
    "start_time": "2024-02-29T12:23:41.785Z"
   },
   {
    "duration": 71,
    "start_time": "2024-02-29T12:23:50.089Z"
   },
   {
    "duration": 57,
    "start_time": "2024-02-29T12:24:50.349Z"
   },
   {
    "duration": 58,
    "start_time": "2024-02-29T12:25:34.715Z"
   },
   {
    "duration": 58,
    "start_time": "2024-02-29T12:25:42.514Z"
   },
   {
    "duration": 63,
    "start_time": "2024-02-29T12:25:59.653Z"
   },
   {
    "duration": 59,
    "start_time": "2024-02-29T12:26:49.924Z"
   },
   {
    "duration": 57,
    "start_time": "2024-02-29T12:26:58.581Z"
   },
   {
    "duration": 76,
    "start_time": "2024-02-29T12:31:20.793Z"
   },
   {
    "duration": 72,
    "start_time": "2024-02-29T12:31:28.752Z"
   },
   {
    "duration": 58,
    "start_time": "2024-02-29T12:34:15.146Z"
   },
   {
    "duration": 64,
    "start_time": "2024-02-29T12:34:53.469Z"
   },
   {
    "duration": 69,
    "start_time": "2024-02-29T12:35:40.014Z"
   },
   {
    "duration": 53,
    "start_time": "2024-02-29T12:35:50.414Z"
   },
   {
    "duration": 148,
    "start_time": "2024-02-29T12:36:28.746Z"
   },
   {
    "duration": 49,
    "start_time": "2024-02-29T12:36:50.770Z"
   },
   {
    "duration": 127,
    "start_time": "2024-02-29T12:36:55.793Z"
   },
   {
    "duration": 12079,
    "start_time": "2024-02-29T14:42:43.360Z"
   },
   {
    "duration": 54,
    "start_time": "2024-02-29T14:42:55.441Z"
   },
   {
    "duration": 33,
    "start_time": "2024-02-29T14:42:55.497Z"
   },
   {
    "duration": 10,
    "start_time": "2024-02-29T14:42:55.532Z"
   },
   {
    "duration": 10,
    "start_time": "2024-02-29T14:42:55.544Z"
   },
   {
    "duration": 23,
    "start_time": "2024-02-29T14:42:55.556Z"
   },
   {
    "duration": 10,
    "start_time": "2024-02-29T14:42:55.580Z"
   },
   {
    "duration": 30,
    "start_time": "2024-02-29T14:42:55.592Z"
   },
   {
    "duration": 11,
    "start_time": "2024-02-29T14:42:55.624Z"
   },
   {
    "duration": 17,
    "start_time": "2024-02-29T14:42:55.637Z"
   },
   {
    "duration": 12,
    "start_time": "2024-02-29T14:42:55.656Z"
   },
   {
    "duration": 18,
    "start_time": "2024-02-29T14:44:17.474Z"
   },
   {
    "duration": 72,
    "start_time": "2024-02-29T14:47:37.770Z"
   },
   {
    "duration": 10345,
    "start_time": "2024-02-29T14:47:44.689Z"
   },
   {
    "duration": 222,
    "start_time": "2024-02-29T14:47:55.035Z"
   },
   {
    "duration": 138,
    "start_time": "2024-02-29T14:47:55.258Z"
   },
   {
    "duration": 50,
    "start_time": "2024-02-29T14:47:55.398Z"
   },
   {
    "duration": 51,
    "start_time": "2024-02-29T14:47:55.449Z"
   },
   {
    "duration": 99,
    "start_time": "2024-02-29T14:47:55.502Z"
   },
   {
    "duration": 51,
    "start_time": "2024-02-29T14:47:55.602Z"
   },
   {
    "duration": 154,
    "start_time": "2024-02-29T14:47:55.654Z"
   },
   {
    "duration": 0,
    "start_time": "2024-02-29T14:47:55.815Z"
   },
   {
    "duration": 0,
    "start_time": "2024-02-29T14:47:55.817Z"
   },
   {
    "duration": 0,
    "start_time": "2024-02-29T14:47:55.818Z"
   },
   {
    "duration": 74,
    "start_time": "2024-02-29T14:48:41.202Z"
   },
   {
    "duration": 11040,
    "start_time": "2024-02-29T14:49:50.797Z"
   },
   {
    "duration": 219,
    "start_time": "2024-02-29T14:50:01.839Z"
   },
   {
    "duration": 124,
    "start_time": "2024-02-29T14:50:02.060Z"
   },
   {
    "duration": 51,
    "start_time": "2024-02-29T14:50:02.187Z"
   },
   {
    "duration": 54,
    "start_time": "2024-02-29T14:50:02.239Z"
   },
   {
    "duration": 132,
    "start_time": "2024-02-29T14:50:02.294Z"
   },
   {
    "duration": 50,
    "start_time": "2024-02-29T14:50:02.427Z"
   },
   {
    "duration": 97,
    "start_time": "2024-02-29T14:50:02.479Z"
   },
   {
    "duration": 54,
    "start_time": "2024-02-29T14:50:02.578Z"
   },
   {
    "duration": 59,
    "start_time": "2024-02-29T14:50:02.634Z"
   },
   {
    "duration": 55,
    "start_time": "2024-02-29T14:50:02.694Z"
   },
   {
    "duration": 59,
    "start_time": "2024-02-29T14:51:10.825Z"
   },
   {
    "duration": 60,
    "start_time": "2024-02-29T14:51:42.857Z"
   },
   {
    "duration": 57,
    "start_time": "2024-02-29T14:51:51.338Z"
   },
   {
    "duration": 59,
    "start_time": "2024-02-29T14:52:05.786Z"
   },
   {
    "duration": 61,
    "start_time": "2024-02-29T14:52:56.282Z"
   },
   {
    "duration": 57,
    "start_time": "2024-02-29T14:53:05.665Z"
   },
   {
    "duration": 12024,
    "start_time": "2024-02-29T15:55:39.499Z"
   },
   {
    "duration": 43,
    "start_time": "2024-02-29T15:55:51.525Z"
   },
   {
    "duration": 22,
    "start_time": "2024-02-29T15:55:51.569Z"
   },
   {
    "duration": 9,
    "start_time": "2024-02-29T15:55:51.593Z"
   },
   {
    "duration": 12,
    "start_time": "2024-02-29T15:55:51.603Z"
   },
   {
    "duration": 21,
    "start_time": "2024-02-29T15:55:51.616Z"
   },
   {
    "duration": 10,
    "start_time": "2024-02-29T15:55:51.638Z"
   },
   {
    "duration": 43,
    "start_time": "2024-02-29T15:55:51.649Z"
   },
   {
    "duration": 12,
    "start_time": "2024-02-29T15:55:51.693Z"
   },
   {
    "duration": 18,
    "start_time": "2024-02-29T15:55:51.707Z"
   },
   {
    "duration": 13,
    "start_time": "2024-02-29T15:55:51.726Z"
   }
  ],
  "kernelspec": {
   "display_name": "Python 3 (ipykernel)",
   "language": "python",
   "name": "python3"
  },
  "language_info": {
   "codemirror_mode": {
    "name": "ipython",
    "version": 3
   },
   "file_extension": ".py",
   "mimetype": "text/x-python",
   "name": "python",
   "nbconvert_exporter": "python",
   "pygments_lexer": "ipython3",
   "version": "3.9.5"
  },
  "toc": {
   "base_numbering": 1,
   "nav_menu": {},
   "number_sections": true,
   "sideBar": true,
   "skip_h1_title": true,
   "title_cell": "Table of Contents",
   "title_sidebar": "Contents",
   "toc_cell": false,
   "toc_position": {
    "height": "calc(100% - 180px)",
    "left": "10px",
    "top": "150px",
    "width": "384px"
   },
   "toc_section_display": true,
   "toc_window_display": true
  }
 },
 "nbformat": 4,
 "nbformat_minor": 2
}
