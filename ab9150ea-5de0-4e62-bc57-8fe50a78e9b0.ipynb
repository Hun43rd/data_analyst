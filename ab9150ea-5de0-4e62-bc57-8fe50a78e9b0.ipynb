{
 "cells": [
  {
   "cell_type": "markdown",
   "metadata": {
    "deletable": false,
    "editable": false,
    "id": "E0vqbgi9ay0H"
   },
   "source": [
    "# Яндекс Музыка"
   ]
  },
  {
   "cell_type": "markdown",
   "metadata": {
    "deletable": false,
    "editable": false,
    "id": "VUC88oWjTJw2"
   },
   "source": [
    "Сравнение Москвы и Петербурга окружено мифами. Например:\n",
    " * Москва — мегаполис, подчинённый жёсткому ритму рабочей недели;\n",
    " * Петербург — культурная столица, со своими вкусами.\n",
    "\n",
    "На данных Яндекс Музыки вы сравните поведение пользователей двух столиц.\n",
    "\n",
    "**Цель исследования** — проверьте три гипотезы:\n",
    "1. Активность пользователей зависит от дня недели. Причём в Москве и Петербурге это проявляется по-разному.\n",
    "2. В понедельник утром в Москве преобладают одни жанры, а в Петербурге — другие. Так же и вечером пятницы преобладают разные жанры — в зависимости от города.\n",
    "3. Москва и Петербург предпочитают разные жанры музыки. В Москве чаще слушают поп-музыку, в Петербурге — русский рэп.\n",
    "\n",
    "**Ход исследования**\n",
    "\n",
    "Данные о поведении пользователей вы получите из файла `yandex_music_project.csv`. О качестве данных ничего не известно. Поэтому перед проверкой гипотез понадобится обзор данных.\n",
    "\n",
    "Вы проверите данные на ошибки и оцените их влияние на исследование. Затем, на этапе предобработки вы поищете возможность исправить самые критичные ошибки данных.\n",
    "\n",
    "Таким образом, исследование пройдёт в три этапа:\n",
    " 1. Обзор данных.\n",
    " 2. Предобработка данных.\n",
    " 3. Проверка гипотез.\n",
    "\n"
   ]
  },
  {
   "cell_type": "markdown",
   "metadata": {
    "deletable": false,
    "editable": false,
    "id": "Ml1hmfXC_Zcs"
   },
   "source": [
    "## Обзор данных\n",
    "\n",
    "Составьте первое представление о данных Яндекс Музыки.\n",
    "\n",
    "\n"
   ]
  },
  {
   "cell_type": "markdown",
   "metadata": {
    "deletable": false,
    "editable": false,
    "id": "57eAOGIz_Zcs",
    "tags": [
     "start_task"
    ]
   },
   "source": [
    "**Задание 1**\n",
    "\n",
    "Основной инструмент аналитика — `pandas`. Импортируйте эту библиотеку."
   ]
  },
  {
   "cell_type": "code",
   "execution_count": 1,
   "metadata": {
    "deletable": false,
    "id": "AXN7PHPN_Zcs"
   },
   "outputs": [],
   "source": [
    "import pandas as pd"
   ]
  },
  {
   "cell_type": "markdown",
   "metadata": {
    "deletable": false,
    "editable": false,
    "id": "SG23P8tt_Zcs",
    "tags": [
     "start_task"
    ]
   },
   "source": [
    "**Задание 2**\n",
    "\n",
    "Прочитайте файл `yandex_music_project.csv` из папки `/datasets` и сохраните его в переменной `df`:"
   ]
  },
  {
   "cell_type": "code",
   "execution_count": 2,
   "metadata": {
    "deletable": false,
    "id": "fFVu7vqh_Zct"
   },
   "outputs": [],
   "source": [
    "df =  pd.read_csv('/datasets/yandex_music_project.csv')"
   ]
  },
  {
   "cell_type": "markdown",
   "metadata": {
    "deletable": false,
    "editable": false,
    "id": "rDoOMd3uTqnZ",
    "tags": [
     "start_task"
    ]
   },
   "source": [
    "**Задание 3**\n",
    "\n",
    "\n",
    "Выведите на экран первые десять строк таблицы:"
   ]
  },
  {
   "cell_type": "code",
   "execution_count": 3,
   "metadata": {
    "deletable": false,
    "id": "oWTVX3gW_Zct"
   },
   "outputs": [
    {
     "data": {
      "text/html": [
       "<div>\n",
       "<style scoped>\n",
       "    .dataframe tbody tr th:only-of-type {\n",
       "        vertical-align: middle;\n",
       "    }\n",
       "\n",
       "    .dataframe tbody tr th {\n",
       "        vertical-align: top;\n",
       "    }\n",
       "\n",
       "    .dataframe thead th {\n",
       "        text-align: right;\n",
       "    }\n",
       "</style>\n",
       "<table border=\"1\" class=\"dataframe\">\n",
       "  <thead>\n",
       "    <tr style=\"text-align: right;\">\n",
       "      <th></th>\n",
       "      <th>userID</th>\n",
       "      <th>Track</th>\n",
       "      <th>artist</th>\n",
       "      <th>genre</th>\n",
       "      <th>City</th>\n",
       "      <th>time</th>\n",
       "      <th>Day</th>\n",
       "    </tr>\n",
       "  </thead>\n",
       "  <tbody>\n",
       "    <tr>\n",
       "      <th>0</th>\n",
       "      <td>FFB692EC</td>\n",
       "      <td>Kamigata To Boots</td>\n",
       "      <td>The Mass Missile</td>\n",
       "      <td>rock</td>\n",
       "      <td>Saint-Petersburg</td>\n",
       "      <td>20:28:33</td>\n",
       "      <td>Wednesday</td>\n",
       "    </tr>\n",
       "    <tr>\n",
       "      <th>1</th>\n",
       "      <td>55204538</td>\n",
       "      <td>Delayed Because of Accident</td>\n",
       "      <td>Andreas Rönnberg</td>\n",
       "      <td>rock</td>\n",
       "      <td>Moscow</td>\n",
       "      <td>14:07:09</td>\n",
       "      <td>Friday</td>\n",
       "    </tr>\n",
       "    <tr>\n",
       "      <th>2</th>\n",
       "      <td>20EC38</td>\n",
       "      <td>Funiculì funiculà</td>\n",
       "      <td>Mario Lanza</td>\n",
       "      <td>pop</td>\n",
       "      <td>Saint-Petersburg</td>\n",
       "      <td>20:58:07</td>\n",
       "      <td>Wednesday</td>\n",
       "    </tr>\n",
       "    <tr>\n",
       "      <th>3</th>\n",
       "      <td>A3DD03C9</td>\n",
       "      <td>Dragons in the Sunset</td>\n",
       "      <td>Fire + Ice</td>\n",
       "      <td>folk</td>\n",
       "      <td>Saint-Petersburg</td>\n",
       "      <td>08:37:09</td>\n",
       "      <td>Monday</td>\n",
       "    </tr>\n",
       "    <tr>\n",
       "      <th>4</th>\n",
       "      <td>E2DC1FAE</td>\n",
       "      <td>Soul People</td>\n",
       "      <td>Space Echo</td>\n",
       "      <td>dance</td>\n",
       "      <td>Moscow</td>\n",
       "      <td>08:34:34</td>\n",
       "      <td>Monday</td>\n",
       "    </tr>\n",
       "    <tr>\n",
       "      <th>5</th>\n",
       "      <td>842029A1</td>\n",
       "      <td>Преданная</td>\n",
       "      <td>IMPERVTOR</td>\n",
       "      <td>rusrap</td>\n",
       "      <td>Saint-Petersburg</td>\n",
       "      <td>13:09:41</td>\n",
       "      <td>Friday</td>\n",
       "    </tr>\n",
       "    <tr>\n",
       "      <th>6</th>\n",
       "      <td>4CB90AA5</td>\n",
       "      <td>True</td>\n",
       "      <td>Roman Messer</td>\n",
       "      <td>dance</td>\n",
       "      <td>Moscow</td>\n",
       "      <td>13:00:07</td>\n",
       "      <td>Wednesday</td>\n",
       "    </tr>\n",
       "    <tr>\n",
       "      <th>7</th>\n",
       "      <td>F03E1C1F</td>\n",
       "      <td>Feeling This Way</td>\n",
       "      <td>Polina Griffith</td>\n",
       "      <td>dance</td>\n",
       "      <td>Moscow</td>\n",
       "      <td>20:47:49</td>\n",
       "      <td>Wednesday</td>\n",
       "    </tr>\n",
       "    <tr>\n",
       "      <th>8</th>\n",
       "      <td>8FA1D3BE</td>\n",
       "      <td>И вновь продолжается бой</td>\n",
       "      <td>NaN</td>\n",
       "      <td>ruspop</td>\n",
       "      <td>Moscow</td>\n",
       "      <td>09:17:40</td>\n",
       "      <td>Friday</td>\n",
       "    </tr>\n",
       "    <tr>\n",
       "      <th>9</th>\n",
       "      <td>E772D5C0</td>\n",
       "      <td>Pessimist</td>\n",
       "      <td>NaN</td>\n",
       "      <td>dance</td>\n",
       "      <td>Saint-Petersburg</td>\n",
       "      <td>21:20:49</td>\n",
       "      <td>Wednesday</td>\n",
       "    </tr>\n",
       "  </tbody>\n",
       "</table>\n",
       "</div>"
      ],
      "text/plain": [
       "     userID                        Track            artist   genre  \\\n",
       "0  FFB692EC            Kamigata To Boots  The Mass Missile    rock   \n",
       "1  55204538  Delayed Because of Accident  Andreas Rönnberg    rock   \n",
       "2    20EC38            Funiculì funiculà       Mario Lanza     pop   \n",
       "3  A3DD03C9        Dragons in the Sunset        Fire + Ice    folk   \n",
       "4  E2DC1FAE                  Soul People        Space Echo   dance   \n",
       "5  842029A1                    Преданная         IMPERVTOR  rusrap   \n",
       "6  4CB90AA5                         True      Roman Messer   dance   \n",
       "7  F03E1C1F             Feeling This Way   Polina Griffith   dance   \n",
       "8  8FA1D3BE     И вновь продолжается бой               NaN  ruspop   \n",
       "9  E772D5C0                    Pessimist               NaN   dance   \n",
       "\n",
       "             City        time        Day  \n",
       "0  Saint-Petersburg  20:28:33  Wednesday  \n",
       "1            Moscow  14:07:09     Friday  \n",
       "2  Saint-Petersburg  20:58:07  Wednesday  \n",
       "3  Saint-Petersburg  08:37:09     Monday  \n",
       "4            Moscow  08:34:34     Monday  \n",
       "5  Saint-Petersburg  13:09:41     Friday  \n",
       "6            Moscow  13:00:07  Wednesday  \n",
       "7            Moscow  20:47:49  Wednesday  \n",
       "8            Moscow  09:17:40     Friday  \n",
       "9  Saint-Petersburg  21:20:49  Wednesday  "
      ]
     },
     "execution_count": 3,
     "metadata": {},
     "output_type": "execute_result"
    }
   ],
   "source": [
    "df.head(10)"
   ]
  },
  {
   "cell_type": "markdown",
   "metadata": {
    "deletable": false,
    "editable": false,
    "id": "EO73Kwic_Zct",
    "tags": [
     "start_task"
    ]
   },
   "source": [
    "**Задание 4**\n",
    "\n",
    "\n",
    "Одной командой получить общую информацию о таблице c помощью метода `info()`:"
   ]
  },
  {
   "cell_type": "code",
   "execution_count": 4,
   "metadata": {
    "deletable": false,
    "id": "DSf2kIb-_Zct"
   },
   "outputs": [
    {
     "name": "stdout",
     "output_type": "stream",
     "text": [
      "<class 'pandas.core.frame.DataFrame'>\n",
      "RangeIndex: 65079 entries, 0 to 65078\n",
      "Data columns (total 7 columns):\n",
      " #   Column    Non-Null Count  Dtype \n",
      "---  ------    --------------  ----- \n",
      " 0     userID  65079 non-null  object\n",
      " 1   Track     63848 non-null  object\n",
      " 2   artist    57876 non-null  object\n",
      " 3   genre     63881 non-null  object\n",
      " 4     City    65079 non-null  object\n",
      " 5   time      65079 non-null  object\n",
      " 6   Day       65079 non-null  object\n",
      "dtypes: object(7)\n",
      "memory usage: 3.5+ MB\n"
     ]
    }
   ],
   "source": [
    "df.info()"
   ]
  },
  {
   "cell_type": "markdown",
   "metadata": {
    "deletable": false,
    "editable": false,
    "id": "TaQ2Iwbr_Zct"
   },
   "source": [
    "Итак, в таблице семь столбцов. Тип данных во всех столбцах — `object`.\n",
    "\n",
    "Согласно документации к данным:\n",
    "* `userID` — идентификатор пользователя;\n",
    "* `Track` — название трека;  \n",
    "* `artist` — имя исполнителя;\n",
    "* `genre` — название жанра;\n",
    "* `City` — город пользователя;\n",
    "* `time` — время начала прослушивания;\n",
    "* `Day` — день недели.\n",
    "\n",
    "Количество значений в столбцах различается. Значит, в данных есть пропущенные значения."
   ]
  },
  {
   "cell_type": "markdown",
   "metadata": {
    "deletable": false,
    "editable": false,
    "id": "4P0UCWzswgEm",
    "tags": [
     "start_task"
    ]
   },
   "source": [
    "**Задание 5**\n",
    "\n",
    "**Вопрос со свободной формой ответа**\n",
    "\n",
    "В названиях колонок видны три нарушения стиля:\n",
    "1. Строчные буквы сочетаются с прописными.\n",
    "2. Встречаются пробелы."
   ]
  },
  {
   "cell_type": "code",
   "execution_count": 5,
   "metadata": {
    "id": "c137-ZstwgEm"
   },
   "outputs": [],
   "source": [
    "# отсутствие \"_\"\n",
    "# Напишите ваш ответ здесь комментарием. Не удаляйте символ #. Не меняйте тип этой ячейки на Markdown."
   ]
  },
  {
   "cell_type": "markdown",
   "metadata": {
    "deletable": false,
    "editable": false,
    "id": "MCB6-dXG_Zct"
   },
   "source": [
    "**Выводы**\n",
    "\n",
    "В каждой строке таблицы — данные о прослушанном треке. Часть колонок описывает саму композицию: название, исполнителя и жанр. Остальные данные рассказывают о пользователе: из какого он города, когда он слушал музыку.\n",
    "\n",
    "Предварительно можно утверждать, что данных достаточно для проверки гипотез. Но встречаются пропуски в данных, а в названиях колонок — расхождения с хорошим стилем.\n",
    "\n",
    "Чтобы двигаться дальше, нужно устранить проблемы в данных."
   ]
  },
  {
   "cell_type": "markdown",
   "metadata": {
    "deletable": false,
    "editable": false,
    "id": "SjYF6Ub9_Zct"
   },
   "source": [
    "## Предобработка данных\n",
    "Исправьте стиль в заголовках столбцов, исключите пропуски. Затем проверьте данные на дубликаты."
   ]
  },
  {
   "cell_type": "markdown",
   "metadata": {
    "deletable": false,
    "editable": false,
    "id": "dIaKXr29_Zct",
    "tags": [
     "start_task"
    ]
   },
   "source": [
    "### Стиль заголовков\n",
    "\n",
    "**Задание 6**\n",
    "\n",
    "Выведите на экран названия столбцов:"
   ]
  },
  {
   "cell_type": "code",
   "execution_count": 6,
   "metadata": {
    "deletable": false,
    "id": "oKOTdF_Q_Zct"
   },
   "outputs": [
    {
     "name": "stdout",
     "output_type": "stream",
     "text": [
      "Index(['  userID', 'Track', 'artist', 'genre', '  City  ', 'time', 'Day'], dtype='object')\n"
     ]
    }
   ],
   "source": [
    "print(df.columns)"
   ]
  },
  {
   "cell_type": "markdown",
   "metadata": {
    "deletable": false,
    "editable": false,
    "id": "zj5534cv_Zct",
    "tags": [
     "start_task"
    ]
   },
   "source": [
    "**Задание 7**\n",
    "\n",
    "\n",
    "Приведите названия в соответствие с хорошим стилем:\n",
    "* несколько слов в названии запишите в «змеином_регистре»,\n",
    "* все символы сделайте строчными,\n",
    "* устраните пробелы.\n",
    "\n",
    "Для этого переименуйте колонки так:\n",
    "* `'  userID'` → `'user_id'`;\n",
    "* `'Track'` → `'track'`;\n",
    "* `'  City  '` → `'city'`;\n",
    "* `'Day'` → `'day'`."
   ]
  },
  {
   "cell_type": "code",
   "execution_count": 7,
   "metadata": {
    "deletable": false,
    "id": "ISlFqs5y_Zct"
   },
   "outputs": [],
   "source": [
    "df = df.rename(columns={'  userID':'user_id', 'Track': 'track', '  City  ':'city', 'Day':'day'})\n",
    "    # переименование столбцов"
   ]
  },
  {
   "cell_type": "markdown",
   "metadata": {
    "deletable": false,
    "editable": false,
    "id": "1dqbh00J_Zct",
    "tags": [
     "start_task"
    ]
   },
   "source": [
    "**Задание 8**\n",
    "\n",
    "\n",
    "Проверьте результат. Для этого ещё раз выведите на экран названия столбцов:"
   ]
  },
  {
   "cell_type": "code",
   "execution_count": 8,
   "metadata": {
    "deletable": false,
    "id": "d4NOAmTW_Zct"
   },
   "outputs": [
    {
     "name": "stdout",
     "output_type": "stream",
     "text": [
      "Index(['user_id', 'track', 'artist', 'genre', 'city', 'time', 'day'], dtype='object')\n"
     ]
    }
   ],
   "source": [
    "print(df.columns)"
   ]
  },
  {
   "cell_type": "markdown",
   "metadata": {
    "deletable": false,
    "editable": false,
    "id": "5ISfbcfY_Zct",
    "tags": [
     "start_task"
    ]
   },
   "source": [
    "### Пропуски значений\n",
    "\n",
    "**Задание 9**\n",
    "\n",
    "Сначала посчитайте, сколько в таблице пропущенных значений. Для этого достаточно двух методов `pandas`:"
   ]
  },
  {
   "cell_type": "code",
   "execution_count": 9,
   "metadata": {
    "deletable": false,
    "id": "RskX29qr_Zct"
   },
   "outputs": [
    {
     "data": {
      "text/plain": [
       "user_id       0\n",
       "track      1231\n",
       "artist     7203\n",
       "genre      1198\n",
       "city          0\n",
       "time          0\n",
       "day           0\n",
       "dtype: int64"
      ]
     },
     "execution_count": 9,
     "metadata": {},
     "output_type": "execute_result"
    }
   ],
   "source": [
    "df.isna().sum()"
   ]
  },
  {
   "cell_type": "markdown",
   "metadata": {
    "deletable": false,
    "editable": false,
    "id": "qubhgnlO_Zct"
   },
   "source": [
    "Не все пропущенные значения влияют на исследование. Так, в `track` и `artist` пропуски не важны для вашей работы. Достаточно заменить их явными обозначениями.\n",
    "\n",
    "Но пропуски в `genre` могут помешать сравнить музыкальные вкусы в Москве и Санкт-Петербурге. На практике было бы правильно установить причину пропусков и восстановить данные. Такой возможности нет в учебном проекте. Поэтому придётся:\n",
    "* заполнить и эти пропуски явными обозначениями;\n",
    "* оценить, насколько они повредят расчётам."
   ]
  },
  {
   "cell_type": "markdown",
   "metadata": {
    "deletable": false,
    "editable": false,
    "id": "fSv2laPA_Zct",
    "tags": [
     "start_task"
    ]
   },
   "source": [
    "**Задание 10**\n",
    "\n",
    "Замените пропущенные значения в столбцах `track`, `artist` и `genre` на строку `'unknown'`. Для этого создайте список `columns_to_replace`, переберите его элементы циклом `for` и для каждого столбца выполните замену пропущенных значений:"
   ]
  },
  {
   "cell_type": "code",
   "execution_count": 10,
   "metadata": {
    "deletable": false,
    "id": "KplB5qWs_Zct"
   },
   "outputs": [],
   "source": [
    "columns_to_replace = ['track','artist','genre']\n",
    "for column in columns_to_replace:\n",
    "    df[column] = df[column].fillna('unknown')"
   ]
  },
  {
   "cell_type": "markdown",
   "metadata": {
    "deletable": false,
    "editable": false,
    "id": "Ilsm-MZo_Zct",
    "tags": [
     "start_task"
    ]
   },
   "source": [
    "**Задание 11**\n",
    "\n",
    "Убедитесь, что в таблице не осталось пропусков. Для этого ещё раз посчитайте пропущенные значения."
   ]
  },
  {
   "cell_type": "code",
   "execution_count": 11,
   "metadata": {
    "deletable": false,
    "id": "Tq4nYRX4_Zct"
   },
   "outputs": [
    {
     "data": {
      "text/plain": [
       "user_id    0\n",
       "track      0\n",
       "artist     0\n",
       "genre      0\n",
       "city       0\n",
       "time       0\n",
       "day        0\n",
       "dtype: int64"
      ]
     },
     "execution_count": 11,
     "metadata": {},
     "output_type": "execute_result"
    }
   ],
   "source": [
    "df.isna().sum()"
   ]
  },
  {
   "cell_type": "markdown",
   "metadata": {
    "deletable": false,
    "editable": false,
    "id": "BWKRtBJ3_Zct",
    "tags": [
     "start_task"
    ]
   },
   "source": [
    "### Дубликаты\n",
    "\n",
    "**Задание 12**\n",
    "\n",
    "Посчитайте явные дубликаты в таблице одной командой:"
   ]
  },
  {
   "cell_type": "code",
   "execution_count": 12,
   "metadata": {
    "deletable": false,
    "id": "36eES_S0_Zct"
   },
   "outputs": [
    {
     "data": {
      "text/plain": [
       "3826"
      ]
     },
     "execution_count": 12,
     "metadata": {},
     "output_type": "execute_result"
    }
   ],
   "source": [
    "df.duplicated().sum()"
   ]
  },
  {
   "cell_type": "markdown",
   "metadata": {
    "deletable": false,
    "editable": false,
    "id": "Ot25h6XR_Zct",
    "tags": [
     "start_task"
    ]
   },
   "source": [
    "**Задание 13**\n",
    "\n",
    "Вызовите специальный метод `pandas`, чтобы удалить явные дубликаты:"
   ]
  },
  {
   "cell_type": "code",
   "execution_count": 13,
   "metadata": {
    "deletable": false,
    "id": "exFHq6tt_Zct"
   },
   "outputs": [],
   "source": [
    "df = df.drop_duplicates()"
   ]
  },
  {
   "cell_type": "markdown",
   "metadata": {
    "deletable": false,
    "editable": false,
    "id": "Im2YwBEG_Zct",
    "tags": [
     "start_task"
    ]
   },
   "source": [
    "**Задание 14**\n",
    "\n",
    "Ещё раз посчитайте явные дубликаты в таблице — убедитесь, что полностью от них избавились:"
   ]
  },
  {
   "cell_type": "code",
   "execution_count": 14,
   "metadata": {
    "deletable": false,
    "id": "-8PuNWQ0_Zct"
   },
   "outputs": [
    {
     "data": {
      "text/plain": [
       "0"
      ]
     },
     "execution_count": 14,
     "metadata": {},
     "output_type": "execute_result"
    }
   ],
   "source": [
    "df.duplicated().sum()"
   ]
  },
  {
   "cell_type": "markdown",
   "metadata": {
    "deletable": false,
    "editable": false,
    "id": "QlFBsxAr_Zct"
   },
   "source": [
    "Теперь избавьтесь от неявных дубликатов в колонке `genre`. Например, название одного и того же жанра может быть записано немного по-разному. Такие ошибки тоже повлияют на результат исследования."
   ]
  },
  {
   "cell_type": "markdown",
   "metadata": {
    "deletable": false,
    "editable": false,
    "id": "eSjWwsOh_Zct",
    "tags": [
     "start_task"
    ]
   },
   "source": [
    "**Задание 15**\n",
    "\n",
    "Выведите на экран список уникальных названий жанров, отсортированный в алфавитном порядке. Для этого:\n",
    "* извлеките нужный столбец датафрейма;\n",
    "* примените к нему метод сортировки;\n",
    "* для отсортированного столбца вызовите метод, который вернёт уникальные значения из столбца."
   ]
  },
  {
   "cell_type": "code",
   "execution_count": 15,
   "metadata": {
    "deletable": false,
    "id": "JIUcqzZN_Zct"
   },
   "outputs": [
    {
     "data": {
      "text/plain": [
       "array(['acid', 'acoustic', 'action', 'adult', 'africa', 'afrikaans',\n",
       "       'alternative', 'alternativepunk', 'ambient', 'americana',\n",
       "       'animated', 'anime', 'arabesk', 'arabic', 'arena',\n",
       "       'argentinetango', 'art', 'audiobook', 'author', 'avantgarde',\n",
       "       'axé', 'baile', 'balkan', 'beats', 'bigroom', 'black', 'bluegrass',\n",
       "       'blues', 'bollywood', 'bossa', 'brazilian', 'breakbeat', 'breaks',\n",
       "       'broadway', 'cantautori', 'cantopop', 'canzone', 'caribbean',\n",
       "       'caucasian', 'celtic', 'chamber', 'chanson', 'children', 'chill',\n",
       "       'chinese', 'choral', 'christian', 'christmas', 'classical',\n",
       "       'classicmetal', 'club', 'colombian', 'comedy', 'conjazz',\n",
       "       'contemporary', 'country', 'cuban', 'dance', 'dancehall',\n",
       "       'dancepop', 'dark', 'death', 'deep', 'deutschrock', 'deutschspr',\n",
       "       'dirty', 'disco', 'dnb', 'documentary', 'downbeat', 'downtempo',\n",
       "       'drum', 'dub', 'dubstep', 'eastern', 'easy', 'electronic',\n",
       "       'electropop', 'emo', 'entehno', 'epicmetal', 'estrada', 'ethnic',\n",
       "       'eurofolk', 'european', 'experimental', 'extrememetal', 'fado',\n",
       "       'fairytail', 'film', 'fitness', 'flamenco', 'folk', 'folklore',\n",
       "       'folkmetal', 'folkrock', 'folktronica', 'forró', 'frankreich',\n",
       "       'französisch', 'french', 'funk', 'future', 'gangsta', 'garage',\n",
       "       'german', 'ghazal', 'gitarre', 'glitch', 'gospel', 'gothic',\n",
       "       'grime', 'grunge', 'gypsy', 'handsup', \"hard'n'heavy\", 'hardcore',\n",
       "       'hardstyle', 'hardtechno', 'hip', 'hip-hop', 'hiphop',\n",
       "       'historisch', 'holiday', 'hop', 'horror', 'house', 'hymn', 'idm',\n",
       "       'independent', 'indian', 'indie', 'indipop', 'industrial',\n",
       "       'inspirational', 'instrumental', 'international', 'irish', 'jam',\n",
       "       'japanese', 'jazz', 'jewish', 'jpop', 'jungle', 'k-pop',\n",
       "       'karadeniz', 'karaoke', 'kayokyoku', 'korean', 'laiko', 'latin',\n",
       "       'latino', 'leftfield', 'local', 'lounge', 'loungeelectronic',\n",
       "       'lovers', 'malaysian', 'mandopop', 'marschmusik', 'meditative',\n",
       "       'mediterranean', 'melodic', 'metal', 'metalcore', 'mexican',\n",
       "       'middle', 'minimal', 'miscellaneous', 'modern', 'mood', 'mpb',\n",
       "       'muslim', 'native', 'neoklassik', 'neue', 'new', 'newage',\n",
       "       'newwave', 'nu', 'nujazz', 'numetal', 'oceania', 'old', 'opera',\n",
       "       'orchestral', 'other', 'piano', 'podcasts', 'pop', 'popdance',\n",
       "       'popelectronic', 'popeurodance', 'poprussian', 'post',\n",
       "       'posthardcore', 'postrock', 'power', 'progmetal', 'progressive',\n",
       "       'psychedelic', 'punjabi', 'punk', 'quebecois', 'ragga', 'ram',\n",
       "       'rancheras', 'rap', 'rave', 'reggae', 'reggaeton', 'regional',\n",
       "       'relax', 'religious', 'retro', 'rhythm', 'rnb', 'rnr', 'rock',\n",
       "       'rockabilly', 'rockalternative', 'rockindie', 'rockother',\n",
       "       'romance', 'roots', 'ruspop', 'rusrap', 'rusrock', 'russian',\n",
       "       'salsa', 'samba', 'scenic', 'schlager', 'self', 'sertanejo',\n",
       "       'shanson', 'shoegazing', 'showtunes', 'singer', 'ska', 'skarock',\n",
       "       'slow', 'smooth', 'soft', 'soul', 'soulful', 'sound', 'soundtrack',\n",
       "       'southern', 'specialty', 'speech', 'spiritual', 'sport',\n",
       "       'stonerrock', 'surf', 'swing', 'synthpop', 'synthrock',\n",
       "       'sängerportrait', 'tango', 'tanzorchester', 'taraftar', 'tatar',\n",
       "       'tech', 'techno', 'teen', 'thrash', 'top', 'traditional',\n",
       "       'tradjazz', 'trance', 'tribal', 'trip', 'triphop', 'tropical',\n",
       "       'türk', 'türkçe', 'ukrrock', 'unknown', 'urban', 'uzbek',\n",
       "       'variété', 'vi', 'videogame', 'vocal', 'western', 'world',\n",
       "       'worldbeat', 'ïîï', 'электроника'], dtype=object)"
      ]
     },
     "execution_count": 15,
     "metadata": {},
     "output_type": "execute_result"
    }
   ],
   "source": [
    "qwe = df['genre']\n",
    "zxc = qwe.sort_values()\n",
    "zxc.unique()\n",
    "\n",
    "# Просмотр уникальных названий жанров"
   ]
  },
  {
   "cell_type": "markdown",
   "metadata": {
    "deletable": false,
    "editable": false,
    "id": "qej-Qmuo_Zct",
    "tags": [
     "start_task"
    ]
   },
   "source": [
    "**Задание 16**\n",
    "\n",
    "Просмотрите список и найдите неявные дубликаты названия `hiphop`. Это могут быть названия с ошибками или альтернативные названия того же жанра.\n",
    "\n",
    "Вы увидите следующие неявные дубликаты:\n",
    "* *hip*,\n",
    "* *hop*,\n",
    "* *hip-hop*.\n",
    "\n",
    "Чтобы очистить от них таблицу, используйте метод `replace()` с двумя аргументами: списком строк-дубликатов (включающий *hip*, *hop* и *hip-hop*) и строкой с правильным значением. Вам нужно исправить колонку `genre` в таблице `df`: заменить каждое значение из списка дубликатов на верное. Вместо `hip`, `hop` и `hip-hop` в таблице должно быть значение `hiphop`:"
   ]
  },
  {
   "cell_type": "code",
   "execution_count": 16,
   "metadata": {
    "deletable": false,
    "id": "ErNDkmns_Zct"
   },
   "outputs": [],
   "source": [
    "qwe = ['hip','hop','hip-hop']\n",
    "asd = 'hiphop'\n",
    "df['genre'] = df['genre'].replace(qwe, asd)\n",
    "# Устранение неявных дубликатов"
   ]
  },
  {
   "cell_type": "markdown",
   "metadata": {
    "deletable": false,
    "editable": false,
    "id": "zQKF16_RG15m",
    "tags": [
     "start_task"
    ]
   },
   "source": [
    "**Задание 17**\n",
    "\n",
    "Проверьте, что заменили неправильные названия:\n",
    "\n",
    "*   *hip*,\n",
    "*   *hop*,\n",
    "*   *hip-hop*.\n",
    "\n",
    "Выведите отсортированный список уникальных значений столбца `genre`:"
   ]
  },
  {
   "cell_type": "code",
   "execution_count": 17,
   "metadata": {
    "deletable": false,
    "id": "wvixALnFG15m"
   },
   "outputs": [
    {
     "data": {
      "text/plain": [
       "array(['acid', 'acoustic', 'action', 'adult', 'africa', 'afrikaans',\n",
       "       'alternative', 'alternativepunk', 'ambient', 'americana',\n",
       "       'animated', 'anime', 'arabesk', 'arabic', 'arena',\n",
       "       'argentinetango', 'art', 'audiobook', 'author', 'avantgarde',\n",
       "       'axé', 'baile', 'balkan', 'beats', 'bigroom', 'black', 'bluegrass',\n",
       "       'blues', 'bollywood', 'bossa', 'brazilian', 'breakbeat', 'breaks',\n",
       "       'broadway', 'cantautori', 'cantopop', 'canzone', 'caribbean',\n",
       "       'caucasian', 'celtic', 'chamber', 'chanson', 'children', 'chill',\n",
       "       'chinese', 'choral', 'christian', 'christmas', 'classical',\n",
       "       'classicmetal', 'club', 'colombian', 'comedy', 'conjazz',\n",
       "       'contemporary', 'country', 'cuban', 'dance', 'dancehall',\n",
       "       'dancepop', 'dark', 'death', 'deep', 'deutschrock', 'deutschspr',\n",
       "       'dirty', 'disco', 'dnb', 'documentary', 'downbeat', 'downtempo',\n",
       "       'drum', 'dub', 'dubstep', 'eastern', 'easy', 'electronic',\n",
       "       'electropop', 'emo', 'entehno', 'epicmetal', 'estrada', 'ethnic',\n",
       "       'eurofolk', 'european', 'experimental', 'extrememetal', 'fado',\n",
       "       'fairytail', 'film', 'fitness', 'flamenco', 'folk', 'folklore',\n",
       "       'folkmetal', 'folkrock', 'folktronica', 'forró', 'frankreich',\n",
       "       'französisch', 'french', 'funk', 'future', 'gangsta', 'garage',\n",
       "       'german', 'ghazal', 'gitarre', 'glitch', 'gospel', 'gothic',\n",
       "       'grime', 'grunge', 'gypsy', 'handsup', \"hard'n'heavy\", 'hardcore',\n",
       "       'hardstyle', 'hardtechno', 'hiphop', 'historisch', 'holiday',\n",
       "       'horror', 'house', 'hymn', 'idm', 'independent', 'indian', 'indie',\n",
       "       'indipop', 'industrial', 'inspirational', 'instrumental',\n",
       "       'international', 'irish', 'jam', 'japanese', 'jazz', 'jewish',\n",
       "       'jpop', 'jungle', 'k-pop', 'karadeniz', 'karaoke', 'kayokyoku',\n",
       "       'korean', 'laiko', 'latin', 'latino', 'leftfield', 'local',\n",
       "       'lounge', 'loungeelectronic', 'lovers', 'malaysian', 'mandopop',\n",
       "       'marschmusik', 'meditative', 'mediterranean', 'melodic', 'metal',\n",
       "       'metalcore', 'mexican', 'middle', 'minimal', 'miscellaneous',\n",
       "       'modern', 'mood', 'mpb', 'muslim', 'native', 'neoklassik', 'neue',\n",
       "       'new', 'newage', 'newwave', 'nu', 'nujazz', 'numetal', 'oceania',\n",
       "       'old', 'opera', 'orchestral', 'other', 'piano', 'podcasts', 'pop',\n",
       "       'popdance', 'popelectronic', 'popeurodance', 'poprussian', 'post',\n",
       "       'posthardcore', 'postrock', 'power', 'progmetal', 'progressive',\n",
       "       'psychedelic', 'punjabi', 'punk', 'quebecois', 'ragga', 'ram',\n",
       "       'rancheras', 'rap', 'rave', 'reggae', 'reggaeton', 'regional',\n",
       "       'relax', 'religious', 'retro', 'rhythm', 'rnb', 'rnr', 'rock',\n",
       "       'rockabilly', 'rockalternative', 'rockindie', 'rockother',\n",
       "       'romance', 'roots', 'ruspop', 'rusrap', 'rusrock', 'russian',\n",
       "       'salsa', 'samba', 'scenic', 'schlager', 'self', 'sertanejo',\n",
       "       'shanson', 'shoegazing', 'showtunes', 'singer', 'ska', 'skarock',\n",
       "       'slow', 'smooth', 'soft', 'soul', 'soulful', 'sound', 'soundtrack',\n",
       "       'southern', 'specialty', 'speech', 'spiritual', 'sport',\n",
       "       'stonerrock', 'surf', 'swing', 'synthpop', 'synthrock',\n",
       "       'sängerportrait', 'tango', 'tanzorchester', 'taraftar', 'tatar',\n",
       "       'tech', 'techno', 'teen', 'thrash', 'top', 'traditional',\n",
       "       'tradjazz', 'trance', 'tribal', 'trip', 'triphop', 'tropical',\n",
       "       'türk', 'türkçe', 'ukrrock', 'unknown', 'urban', 'uzbek',\n",
       "       'variété', 'vi', 'videogame', 'vocal', 'western', 'world',\n",
       "       'worldbeat', 'ïîï', 'электроника'], dtype=object)"
      ]
     },
     "execution_count": 17,
     "metadata": {},
     "output_type": "execute_result"
    }
   ],
   "source": [
    "qwe = df['genre']\n",
    "zxc = qwe.sort_values()\n",
    "zxc.unique()"
   ]
  },
  {
   "cell_type": "markdown",
   "metadata": {
    "deletable": false,
    "editable": false,
    "id": "jz6a9-7HQUDd"
   },
   "source": [
    "**Выводы**\n",
    "\n",
    "Предобработка обнаружила три проблемы в данных:\n",
    "\n",
    "- нарушения в стиле заголовков,\n",
    "- пропущенные значения,\n",
    "- дубликаты — явные и неявные.\n",
    "\n",
    "Вы исправили заголовки, чтобы упростить работу с таблицей. Без дубликатов исследование станет более точным.\n",
    "\n",
    "Пропущенные значения вы заменили на `'unknown'`. Ещё предстоит увидеть, не повредят ли исследованию пропуски в колонке `genre`.\n",
    "\n",
    "Теперь можно перейти к проверке гипотез."
   ]
  },
  {
   "cell_type": "markdown",
   "metadata": {
    "deletable": false,
    "editable": false,
    "id": "WttZHXH0SqKk"
   },
   "source": [
    "## Проверка гипотез"
   ]
  },
  {
   "cell_type": "markdown",
   "metadata": {
    "deletable": false,
    "editable": false,
    "id": "Im936VVi_Zcu"
   },
   "source": [
    "### Сравнение поведения пользователей двух столиц"
   ]
  },
  {
   "cell_type": "markdown",
   "metadata": {
    "deletable": false,
    "editable": false,
    "id": "nwt_MuaL_Zcu"
   },
   "source": [
    "Первая гипотеза утверждает, что пользователи по-разному слушают музыку в Москве и Санкт-Петербурге. Проверьте это предположение по данным о трёх днях недели — понедельнике, среде и пятнице. Для этого:\n",
    "\n",
    "* Разделите пользователей Москвы и Санкт-Петербурга.\n",
    "* Сравните, сколько треков послушала каждая группа пользователей в понедельник, среду и пятницу.\n"
   ]
  },
  {
   "cell_type": "markdown",
   "metadata": {
    "deletable": false,
    "editable": false,
    "id": "8Dw_YMmT_Zcu",
    "tags": [
     "start_task"
    ]
   },
   "source": [
    "**Задание 18**\n",
    "\n",
    "Для тренировки сначала выполните каждый из расчётов по отдельности.\n",
    "\n",
    "Оцените активность пользователей в каждом городе. Сгруппируйте данные по городу и посчитайте прослушивания в каждой группе.\n",
    "\n"
   ]
  },
  {
   "cell_type": "code",
   "execution_count": 18,
   "metadata": {
    "deletable": false,
    "id": "0_Qs96oh_Zcu"
   },
   "outputs": [
    {
     "data": {
      "text/plain": [
       "city\n",
       "Moscow              42741\n",
       "Saint-Petersburg    18512\n",
       "Name: genre, dtype: int64"
      ]
     },
     "execution_count": 18,
     "metadata": {},
     "output_type": "execute_result"
    }
   ],
   "source": [
    "df.groupby('city')['genre'].count()"
   ]
  },
  {
   "cell_type": "markdown",
   "metadata": {
    "deletable": false,
    "editable": false,
    "id": "dzli3w8o_Zcu",
    "tags": [
     "start_task"
    ]
   },
   "source": [
    "В Москве прослушиваний больше, чем в Петербурге. Из этого не следует, что московские пользователи чаще слушают музыку. Просто самих пользователей в Москве больше.\n",
    "\n",
    "**Задание 19**\n",
    "\n",
    "Теперь сгруппируйте данные по дню недели и посчитайте прослушивания в понедельник, среду и пятницу. Учтите, что в данных есть информация о прослушиваниях только за эти дни.\n"
   ]
  },
  {
   "cell_type": "code",
   "execution_count": 19,
   "metadata": {
    "deletable": false,
    "id": "uZMKjiJz_Zcu"
   },
   "outputs": [
    {
     "data": {
      "text/plain": [
       "day\n",
       "Friday       21840\n",
       "Monday       21354\n",
       "Wednesday    18059\n",
       "Name: genre, dtype: int64"
      ]
     },
     "execution_count": 19,
     "metadata": {},
     "output_type": "execute_result"
    }
   ],
   "source": [
    "df.groupby('day')['genre'].count()"
   ]
  },
  {
   "cell_type": "markdown",
   "metadata": {
    "deletable": false,
    "editable": false,
    "id": "cC2tNrlL_Zcu"
   },
   "source": [
    "В среднем пользователи из двух городов менее активны по средам. Но картина может измениться, если рассмотреть каждый город в отдельности."
   ]
  },
  {
   "cell_type": "markdown",
   "metadata": {
    "deletable": false,
    "editable": false,
    "id": "POzs8bGa_Zcu",
    "tags": [
     "start_task"
    ]
   },
   "source": [
    "**Задание 20**\n",
    "\n",
    "\n",
    "Вы видели, как работает группировка по городу и по дням недели. Теперь напишите функцию, которая объединит два эти расчёта.\n",
    "\n",
    "Создайте функцию `number_tracks()`, которая посчитает прослушивания для заданного дня и города. Ей понадобятся два параметра:\n",
    "* день недели,\n",
    "* название города.\n",
    "\n",
    "В функции сохраните в переменную строки исходной таблицы, у которых значение:\n",
    "  * в колонке `day` равно параметру `day`,\n",
    "  * в колонке `city` равно параметру `city`.\n",
    "\n",
    "Для этого примените последовательную фильтрацию с логической индексацией (или сложные логические выражения в одну строку, если вы уже знакомы с ними).\n",
    "\n",
    "Затем посчитайте значения в столбце `user_id` получившейся таблицы. Результат сохраните в новую переменную. Верните эту переменную из функции."
   ]
  },
  {
   "cell_type": "code",
   "execution_count": 20,
   "metadata": {
    "deletable": false,
    "id": "Nz3GdQB1_Zcu"
   },
   "outputs": [],
   "source": [
    "def number_tracks(day, city):\n",
    "    track_list = df[(df['day'] == day) & (df['city'] == city)]\n",
    "    track_list_count = track_list['user_id'].count()\n",
    "    return track_list_count\n",
    "# <создание функции number_tracks()>\n",
    "# Объявляется функция с двумя параметрами: day, city.\n",
    "# В переменной track_list сохраняются те строки таблицы df, для которых\n",
    "# значение в столбце 'day' равно параметру day и одновременно значение\n",
    "# в столбце 'city' равно параметру city (используйте последовательную фильтрацию\n",
    "# с помощью логической индексации или сложные логические выражения в одну строку, если вы уже знакомы с ними).\n",
    "# В переменной track_list_count сохраняется число значений столбца 'user_id',\n",
    "# рассчитанное методом count() для таблицы track_list.\n",
    "# Функция возвращает число - значение track_list_count.\n",
    "\n",
    "# Функция для подсчёта прослушиваний для конкретного города и дня.\n",
    "# С помощью последовательной фильтрации с логической индексацией она\n",
    "# сначала получит из исходной таблицы строки с нужным днём,\n",
    "# затем из результата отфильтрует строки с нужным городом,\n",
    "# методом count() посчитает количество значений в колонке user_id.\n",
    "# Это количество функция вернёт в качестве результата"
   ]
  },
  {
   "cell_type": "markdown",
   "metadata": {
    "deletable": false,
    "editable": false,
    "id": "ytf7xFrFJQ2r",
    "tags": [
     "start_task"
    ]
   },
   "source": [
    "**Задание 21**\n",
    "\n",
    "Вызовите `number_tracks()` шесть раз, меняя значение параметров — так, чтобы получить данные для каждого города в каждый из трёх дней."
   ]
  },
  {
   "cell_type": "code",
   "execution_count": 21,
   "metadata": {
    "deletable": false,
    "id": "rJcRATNQ_Zcu"
   },
   "outputs": [
    {
     "data": {
      "text/plain": [
       "15740"
      ]
     },
     "execution_count": 21,
     "metadata": {},
     "output_type": "execute_result"
    }
   ],
   "source": [
    "number_tracks('Monday', 'Moscow') # количество прослушиваний в Москве по понедельникам"
   ]
  },
  {
   "cell_type": "code",
   "execution_count": 22,
   "metadata": {
    "deletable": false,
    "id": "hq_ncZ5T_Zcu"
   },
   "outputs": [
    {
     "data": {
      "text/plain": [
       "5614"
      ]
     },
     "execution_count": 22,
     "metadata": {},
     "output_type": "execute_result"
    }
   ],
   "source": [
    "number_tracks('Monday', 'Saint-Petersburg')# количество прослушиваний в Санкт-Петербурге по понедельникам"
   ]
  },
  {
   "cell_type": "code",
   "execution_count": 23,
   "metadata": {
    "deletable": false,
    "id": "_NTy2VPU_Zcu"
   },
   "outputs": [
    {
     "data": {
      "text/plain": [
       "11056"
      ]
     },
     "execution_count": 23,
     "metadata": {},
     "output_type": "execute_result"
    }
   ],
   "source": [
    "number_tracks('Wednesday', 'Moscow') # количество прослушиваний в Москве по средам"
   ]
  },
  {
   "cell_type": "code",
   "execution_count": 24,
   "metadata": {
    "deletable": false,
    "id": "j2y3TAwo_Zcu"
   },
   "outputs": [
    {
     "data": {
      "text/plain": [
       "7003"
      ]
     },
     "execution_count": 24,
     "metadata": {},
     "output_type": "execute_result"
    }
   ],
   "source": [
    "number_tracks('Wednesday', 'Saint-Petersburg') # количество прослушиваний в Санкт-Петербурге по средам"
   ]
  },
  {
   "cell_type": "code",
   "execution_count": 25,
   "metadata": {
    "deletable": false,
    "id": "vYDw5u_K_Zcu"
   },
   "outputs": [
    {
     "data": {
      "text/plain": [
       "15945"
      ]
     },
     "execution_count": 25,
     "metadata": {},
     "output_type": "execute_result"
    }
   ],
   "source": [
    "number_tracks('Friday', 'Moscow') # количество прослушиваний в Москве по пятницам"
   ]
  },
  {
   "cell_type": "code",
   "execution_count": 26,
   "metadata": {
    "deletable": false,
    "id": "8_yzFtW3_Zcu"
   },
   "outputs": [
    {
     "data": {
      "text/plain": [
       "5895"
      ]
     },
     "execution_count": 26,
     "metadata": {},
     "output_type": "execute_result"
    }
   ],
   "source": [
    "number_tracks('Friday', 'Saint-Petersburg') # количество прослушиваний в Санкт-Петербурге по пятницам"
   ]
  },
  {
   "cell_type": "markdown",
   "metadata": {
    "deletable": false,
    "editable": false,
    "id": "7QXffbO-_Zcu",
    "tags": [
     "start_task"
    ]
   },
   "source": [
    "**Задание 22**\n",
    "\n",
    "С помощью конструктора `pd.DataFrame` создайте таблицу, где\n",
    "* названия колонок — `['city', 'monday', 'wednesday', 'friday']`;\n",
    "* данные — результаты, которые вы получили с помощью `number_tracks`."
   ]
  },
  {
   "cell_type": "code",
   "execution_count": 27,
   "metadata": {
    "deletable": false,
    "id": "APAcLpOr_Zcu"
   },
   "outputs": [
    {
     "data": {
      "text/html": [
       "<div>\n",
       "<style scoped>\n",
       "    .dataframe tbody tr th:only-of-type {\n",
       "        vertical-align: middle;\n",
       "    }\n",
       "\n",
       "    .dataframe tbody tr th {\n",
       "        vertical-align: top;\n",
       "    }\n",
       "\n",
       "    .dataframe thead th {\n",
       "        text-align: right;\n",
       "    }\n",
       "</style>\n",
       "<table border=\"1\" class=\"dataframe\">\n",
       "  <thead>\n",
       "    <tr style=\"text-align: right;\">\n",
       "      <th></th>\n",
       "      <th>city</th>\n",
       "      <th>monday</th>\n",
       "      <th>wednesday</th>\n",
       "      <th>friday</th>\n",
       "    </tr>\n",
       "  </thead>\n",
       "  <tbody>\n",
       "    <tr>\n",
       "      <th>0</th>\n",
       "      <td>Moscow</td>\n",
       "      <td>15347</td>\n",
       "      <td>10865</td>\n",
       "      <td>15680</td>\n",
       "    </tr>\n",
       "    <tr>\n",
       "      <th>1</th>\n",
       "      <td>Saint-Petersburg</td>\n",
       "      <td>5519</td>\n",
       "      <td>6913</td>\n",
       "      <td>5802</td>\n",
       "    </tr>\n",
       "  </tbody>\n",
       "</table>\n",
       "</div>"
      ],
      "text/plain": [
       "               city  monday  wednesday  friday\n",
       "0            Moscow   15347      10865   15680\n",
       "1  Saint-Petersburg    5519       6913    5802"
      ]
     },
     "execution_count": 27,
     "metadata": {},
     "output_type": "execute_result"
    }
   ],
   "source": [
    "columns = ['city', 'monday', 'wednesday', 'friday']\n",
    "data = [['Moscow', 15347, 10865, 15680],\n",
    "       ['Saint-Petersburg', 5519, 6913, 5802]]\n",
    "qwe = pd.DataFrame(data=data, columns=columns)\n",
    "qwe\n",
    "# Таблица с результатами"
   ]
  },
  {
   "cell_type": "markdown",
   "metadata": {
    "deletable": false,
    "editable": false,
    "id": "-EgPIHYu_Zcu"
   },
   "source": [
    "**Выводы**\n",
    "\n",
    "Данные показывают разницу поведения пользователей:\n",
    "\n",
    "- В Москве пик прослушиваний приходится на понедельник и пятницу, а в среду заметен спад.\n",
    "- В Петербурге, наоборот, больше слушают музыку по средам. Активность в понедельник и пятницу здесь почти в равной мере уступает среде.\n",
    "\n",
    "Значит, данные говорят в пользу первой гипотезы."
   ]
  },
  {
   "cell_type": "markdown",
   "metadata": {
    "deletable": false,
    "editable": false,
    "id": "atZAxtq4_Zcu"
   },
   "source": [
    "### Музыка в начале и в конце недели"
   ]
  },
  {
   "cell_type": "markdown",
   "metadata": {
    "deletable": false,
    "editable": false,
    "id": "eXrQqXFH_Zcu"
   },
   "source": [
    "Согласно второй гипотезе, утром в понедельник в Москве преобладают одни жанры, а в Петербурге — другие. Так же и вечером пятницы преобладают разные жанры — в зависимости от города."
   ]
  },
  {
   "cell_type": "markdown",
   "metadata": {
    "deletable": false,
    "editable": false,
    "id": "S8UcW6Hw_Zcu",
    "tags": [
     "start_task"
    ]
   },
   "source": [
    "**Задание 23**\n",
    "\n",
    "Сохраните таблицы с данными в две переменные:\n",
    "* по Москве — в `moscow_general`;\n",
    "* по Санкт-Петербургу — в `spb_general`."
   ]
  },
  {
   "cell_type": "code",
   "execution_count": 28,
   "metadata": {
    "deletable": false,
    "id": "qeaFfM_P_Zcu"
   },
   "outputs": [],
   "source": [
    "moscow_general=df[df['city'] == 'Moscow']\n",
    "# получение таблицы moscow_general из тех строк таблицы df,\n",
    "# для которых значение в столбце 'city' равно 'Moscow'\n"
   ]
  },
  {
   "cell_type": "code",
   "execution_count": 29,
   "metadata": {
    "deletable": false,
    "id": "ORaVRKto_Zcu"
   },
   "outputs": [],
   "source": [
    "spb_general = df[df['city'] =='Saint-Petersburg']\n",
    "# получение таблицы spb_general из тех строк таблицы df,\n",
    "# для которых значение в столбце 'city' равно 'Saint-Petersburg'\n"
   ]
  },
  {
   "cell_type": "markdown",
   "metadata": {
    "deletable": false,
    "id": "MEJV-CX2_Zcu",
    "tags": [
     "start_task"
    ]
   },
   "source": [
    "**Задание 24**\n",
    "\n",
    "Создайте функцию `genre_weekday()` с четырьмя параметрами:\n",
    "* таблица (датафрейм) с данными,\n",
    "* день недели,\n",
    "* начальная временная метка в формате 'hh:mm',\n",
    "* последняя временная метка в формате 'hh:mm'.\n",
    "\n",
    "Функция должна вернуть информацию о топ-10 жанров тех треков, которые прослушивали в указанный день, в промежутке между двумя отметками времени."
   ]
  },
  {
   "cell_type": "code",
   "execution_count": 30,
   "metadata": {
    "deletable": false,
    "id": "laJT9BYl_Zcu"
   },
   "outputs": [],
   "source": [
    "# Объявление функции genre_weekday() с параметрами df, day, time1, time2,\n",
    "# которая возвращает информацию о самых популярных жанрах в указанный день в\n",
    "# заданное время:\n",
    "# 1) в переменную genre_df сохраняются те строки переданного датафрейма df, для\n",
    "#    которых одновременно:\n",
    "#    - значение в столбце day равно значению аргумента day\n",
    "#    - значение в столбце time больше значения аргумента time1\n",
    "#    - значение в столбце time меньше значения аргумента time2\n",
    "#    Используйте последовательную фильтрацию с помощью логической индексации.\n",
    "# 2) сгруппировать датафрейм genre_df по столбцу genre, взять один из его\n",
    "#    столбцов и посчитать методом count() количество записей для каждого из\n",
    "#    присутствующих жанров, получившийся Series записать в переменную\n",
    "#    genre_df_grouped\n",
    "# 3) отсортировать genre_df_grouped по убыванию встречаемости и сохранить\n",
    "#    в переменную genre_df_sorted\n",
    "# 4) вернуть Series из 10 первых значений genre_df_sorted, это будут топ-10\n",
    "#    популярных жанров (в указанный день, в заданное время)\n",
    "\n",
    "def genre_weekday(df, day, time1, time2):\n",
    "    # последовательная фильтрация\n",
    "    # оставляем в genre_df только те строки df, у которых день равен day\n",
    "    genre_df = df[df['day'] == day] # ваш код здесь\n",
    "    # оставляем в genre_df только те строки genre_df, у которых время меньше time2\n",
    "    genre_df = genre_df[genre_df['time'] < time2] # ваш код здесь\n",
    "    # оставляем в genre_df только те строки genre_df, у которых время больше time1\n",
    "    genre_df = genre_df[genre_df['time'] > time1] # ваш код здесь\n",
    "    # сгруппируем отфильтрованный датафрейм по столбцу с названиями жанров, возьмём столбец genre и посчитаем кол-во строк для каждого жанра методом count()\n",
    "    genre_df_grouped = genre_df.groupby('genre')['genre'].count() # ваш код здесь\n",
    "    # отсортируем результат по убыванию (чтобы в начале Series оказались самые популярные жанры)\n",
    "    genre_df_sorted = genre_df_grouped.sort_values(ascending = False) # ваш код здесь\n",
    "    # вернём Series с 10 самыми популярными жанрами в указанный отрезок времени заданного дня\n",
    "    return genre_df_sorted[:10]"
   ]
  },
  {
   "cell_type": "markdown",
   "metadata": {
    "deletable": false,
    "editable": false,
    "id": "la2s2_PF_Zcu",
    "tags": [
     "start_task"
    ]
   },
   "source": [
    "**Задание 25**\n",
    "\n",
    "\n",
    "Cравните результаты функции `genre_weekday()` для Москвы и Санкт-Петербурга в понедельник утром (с 7:00 до 11:00) и в пятницу вечером (с 17:00 до 23:00):"
   ]
  },
  {
   "cell_type": "code",
   "execution_count": 31,
   "metadata": {
    "deletable": false,
    "id": "yz7itPUQ_Zcu"
   },
   "outputs": [
    {
     "data": {
      "text/plain": [
       "genre\n",
       "pop            781\n",
       "dance          549\n",
       "electronic     480\n",
       "rock           474\n",
       "hiphop         286\n",
       "ruspop         186\n",
       "world          181\n",
       "rusrap         175\n",
       "alternative    164\n",
       "unknown        161\n",
       "Name: genre, dtype: int64"
      ]
     },
     "execution_count": 31,
     "metadata": {},
     "output_type": "execute_result"
    }
   ],
   "source": [
    "genre_weekday(moscow_general, 'Monday', '07:00', '11:00')\n",
    "# вызов функции для утра понедельника в Москве (вместо df — таблица moscow_general)\n",
    "# объекты, хранящие время, являются строками и сравниваются как строки\n",
    "# пример вызова: genre_weekday(moscow_general, 'Monday', '07:00', '11:00')"
   ]
  },
  {
   "cell_type": "code",
   "execution_count": 32,
   "metadata": {
    "deletable": false,
    "id": "kwUcHPdy_Zcu"
   },
   "outputs": [
    {
     "data": {
      "text/plain": [
       "genre\n",
       "pop            218\n",
       "dance          182\n",
       "rock           162\n",
       "electronic     147\n",
       "hiphop          80\n",
       "ruspop          64\n",
       "alternative     58\n",
       "rusrap          55\n",
       "jazz            44\n",
       "classical       40\n",
       "Name: genre, dtype: int64"
      ]
     },
     "execution_count": 32,
     "metadata": {},
     "output_type": "execute_result"
    }
   ],
   "source": [
    "genre_weekday(spb_general, 'Monday', '07:00', '11:00') # вызов функции для утра понедельника в Петербурге (вместо df — таблица spb_general)"
   ]
  },
  {
   "cell_type": "code",
   "execution_count": 33,
   "metadata": {
    "deletable": false,
    "id": "EzXVRE1o_Zcu"
   },
   "outputs": [
    {
     "data": {
      "text/plain": [
       "genre\n",
       "pop            713\n",
       "rock           517\n",
       "dance          495\n",
       "electronic     482\n",
       "hiphop         273\n",
       "world          208\n",
       "ruspop         170\n",
       "alternative    163\n",
       "classical      163\n",
       "rusrap         142\n",
       "Name: genre, dtype: int64"
      ]
     },
     "execution_count": 33,
     "metadata": {},
     "output_type": "execute_result"
    }
   ],
   "source": [
    "genre_weekday(moscow_general, 'Friday', '17:00', '23:00') # вызов функции для вечера пятницы в Москве"
   ]
  },
  {
   "cell_type": "code",
   "execution_count": 34,
   "metadata": {
    "deletable": false,
    "id": "JZaEKu5v_Zcu"
   },
   "outputs": [
    {
     "data": {
      "text/plain": [
       "genre\n",
       "pop            256\n",
       "electronic     216\n",
       "rock           216\n",
       "dance          210\n",
       "hiphop          97\n",
       "alternative     63\n",
       "jazz            61\n",
       "classical       60\n",
       "rusrap          59\n",
       "world           54\n",
       "Name: genre, dtype: int64"
      ]
     },
     "execution_count": 34,
     "metadata": {},
     "output_type": "execute_result"
    }
   ],
   "source": [
    "genre_weekday(spb_general, 'Friday', '17:00', '23:00')\n",
    "# вызов функции для вечера пятницы в Петербурге"
   ]
  },
  {
   "cell_type": "markdown",
   "metadata": {
    "deletable": false,
    "editable": false,
    "id": "wrCe4MNX_Zcu"
   },
   "source": [
    "**Выводы**\n",
    "\n",
    "Если сравнить топ-10 жанров в понедельник утром, можно сделать такие выводы:\n",
    "\n",
    "1. В Москве и Петербурге слушают похожую музыку. Единственное различие — в московский рейтинг вошёл жанр “world”, а в петербургский — джаз и классика.\n",
    "\n",
    "2. В Москве пропущенных значений оказалось так много, что значение `'unknown'` заняло десятое место среди самых популярных жанров. Значит, пропущенные значения занимают существенную долю в данных и угрожают достоверности исследования.\n",
    "\n",
    "Вечер пятницы не меняет эту картину. Некоторые жанры поднимаются немного выше, другие спускаются, но в целом топ-10 остаётся тем же самым.\n",
    "\n",
    "Таким образом, вторая гипотеза подтвердилась лишь частично:\n",
    "* Пользователи слушают похожую музыку в начале недели и в конце.\n",
    "* Разница между Москвой и Петербургом не слишком выражена. В Москве чаще слушают русскую популярную музыку, в Петербурге — джаз.\n",
    "\n",
    "Однако пропуски в данных ставят под сомнение этот результат. В Москве их так много, что рейтинг топ-10 мог бы выглядеть иначе, если бы не утерянные  данные о жанрах."
   ]
  },
  {
   "cell_type": "markdown",
   "metadata": {
    "deletable": false,
    "editable": false,
    "id": "JolODAqr_Zcu"
   },
   "source": [
    "### Жанровые предпочтения в Москве и Петербурге\n",
    "\n",
    "Гипотеза: Петербург — столица рэпа, музыку этого жанра там слушают чаще, чем в Москве.  А Москва — город контрастов, в котором, тем не менее, преобладает поп-музыка."
   ]
  },
  {
   "cell_type": "markdown",
   "metadata": {
    "deletable": false,
    "editable": false,
    "id": "DlegSvaT_Zcu",
    "tags": [
     "start_task"
    ]
   },
   "source": [
    "**Задание 26**\n",
    "\n",
    "Сгруппируйте таблицу `moscow_general` по жанру и посчитайте прослушивания треков каждого жанра методом `count()`. Затем отсортируйте результат в порядке убывания и сохраните его в таблице `moscow_genres`."
   ]
  },
  {
   "cell_type": "code",
   "execution_count": 62,
   "metadata": {
    "deletable": false,
    "id": "r19lIPke_Zcu"
   },
   "outputs": [],
   "source": [
    "qwe = moscow_general.groupby('genre')['genre'].count()\n",
    "moscow_genres = qwe.sort_values(ascending = False)\n",
    "# одной строкой: группировка таблицы moscow_general по столбцу 'genre',\n",
    "# подсчёт числа значений 'genre' в этой группировке методом count(),\n",
    "# сортировка получившегося Series в порядке убывания и сохранение в moscow_genres"
   ]
  },
  {
   "cell_type": "markdown",
   "metadata": {
    "deletable": false,
    "editable": false,
    "id": "6kMuomxTiIr8",
    "tags": [
     "start_task"
    ]
   },
   "source": [
    "**Задание 27**\n",
    "\n",
    "Выведите на экран первые десять строк `moscow_genres`:"
   ]
  },
  {
   "cell_type": "code",
   "execution_count": 63,
   "metadata": {
    "deletable": false,
    "id": "WhCSooF8_Zcv"
   },
   "outputs": [
    {
     "data": {
      "text/plain": [
       "genre\n",
       "pop            5892\n",
       "dance          4435\n",
       "rock           3965\n",
       "electronic     3786\n",
       "hiphop         2096\n",
       "classical      1616\n",
       "world          1432\n",
       "alternative    1379\n",
       "ruspop         1372\n",
       "rusrap         1161\n",
       "Name: genre, dtype: int64"
      ]
     },
     "execution_count": 63,
     "metadata": {},
     "output_type": "execute_result"
    }
   ],
   "source": [
    "moscow_genres.head(10)"
   ]
  },
  {
   "cell_type": "markdown",
   "metadata": {
    "deletable": false,
    "editable": false,
    "id": "cnPG2vnN_Zcv",
    "tags": [
     "start_task"
    ]
   },
   "source": [
    "**Задание 28**\n",
    "\n",
    "\n",
    "Теперь повторите то же и для Петербурга.\n",
    "\n",
    "Сгруппируйте таблицу `spb_general` по жанру. Посчитайте прослушивания треков каждого жанра. Результат отсортируйте в порядке убывания и сохраните в таблице `spb_genres`:\n"
   ]
  },
  {
   "cell_type": "code",
   "execution_count": 64,
   "metadata": {
    "deletable": false,
    "id": "gluLIpE7_Zcv"
   },
   "outputs": [],
   "source": [
    "zxc = spb_general.groupby('genre')['genre'].count()\n",
    "spb_genres = zxc.sort_values(ascending = False)\n",
    "# одной строкой: группировка таблицы spb_general по столбцу 'genre',\n",
    "# подсчёт числа значений 'genre' в этой группировке методом count(),\n",
    "# сортировка получившегося Series в порядке убывания и сохранение в spb_genres"
   ]
  },
  {
   "cell_type": "markdown",
   "metadata": {
    "deletable": false,
    "editable": false,
    "id": "5Doha_ODgyQ8",
    "tags": [
     "start_task"
    ]
   },
   "source": [
    "**Задание 29**\n",
    "\n",
    "Выведите на экран первые десять строк `spb_genres`:"
   ]
  },
  {
   "cell_type": "code",
   "execution_count": 65,
   "metadata": {
    "deletable": false,
    "id": "uaGJHjVU_Zcv"
   },
   "outputs": [
    {
     "data": {
      "text/plain": [
       "genre\n",
       "pop            2431\n",
       "dance          1932\n",
       "rock           1879\n",
       "electronic     1736\n",
       "hiphop          960\n",
       "alternative     649\n",
       "classical       646\n",
       "rusrap          564\n",
       "ruspop          538\n",
       "world           515\n",
       "Name: genre, dtype: int64"
      ]
     },
     "execution_count": 65,
     "metadata": {},
     "output_type": "execute_result"
    }
   ],
   "source": [
    "spb_genres[:10]\n",
    "# просмотр первых 10 строк spb_genres"
   ]
  },
  {
   "cell_type": "markdown",
   "metadata": {
    "deletable": false,
    "editable": false,
    "id": "RY51YJYu_Zcv"
   },
   "source": [
    "**Выводы**"
   ]
  },
  {
   "cell_type": "markdown",
   "metadata": {
    "deletable": false,
    "editable": false,
    "id": "nVhnJEm__Zcv"
   },
   "source": [
    "Гипотеза частично подтвердилась:\n",
    "* Поп-музыка — самый популярный жанр в Москве, как и предполагала гипотеза. Более того, в топ-10 жанров встречается близкий жанр — русская популярная музыка.\n",
    "* Вопреки ожиданиям, рэп одинаково популярен в Москве и Петербурге.\n"
   ]
  },
  {
   "cell_type": "markdown",
   "metadata": {
    "deletable": false,
    "editable": false,
    "id": "ykKQ0N65_Zcv"
   },
   "source": [
    "## Итоги исследования"
   ]
  },
  {
   "cell_type": "markdown",
   "metadata": {
    "deletable": false,
    "editable": false,
    "id": "tjUwbHb3_Zcv"
   },
   "source": [
    "Вы проверили три гипотезы и установили:\n",
    "\n",
    "1. День недели по-разному влияет на активность пользователей в Москве и Петербурге.\n",
    "\n",
    "Первая гипотеза полностью подтвердилась.\n",
    "\n",
    "2. Музыкальные предпочтения не сильно меняются в течение недели — будь то Москва или Петербург. Небольшие различия заметны в начале недели, по понедельникам:\n",
    "* в Москве слушают музыку жанра “world”,\n",
    "* в Петербурге — джаз и классику.\n",
    "\n",
    "Таким образом, вторая гипотеза подтвердилась лишь отчасти. Этот результат мог оказаться иным, если бы не пропуски в данных.\n",
    "\n",
    "3. Во вкусах пользователей Москвы и Петербурга больше общего, чем различий. Вопреки ожиданиям, предпочтения жанров в Петербурге напоминают московские.\n",
    "\n",
    "Третья гипотеза не подтвердилась. Если различия в предпочтениях и существуют, на основной массе пользователей они незаметны.\n",
    "\n",
    "**На практике исследования содержат проверки статистических гипотез.**\n",
    "Из данных одного сервиса не всегда можно сделать вывод о всех жителях города.\n",
    "Проверки статистических гипотез покажут, насколько они достоверны, исходя из имеющихся данных.\n",
    "С методами проверок гипотез вы ещё познакомитесь в следующих темах."
   ]
  }
 ],
 "metadata": {
  "ExecuteTimeLog": [
   {
    "duration": 427,
    "start_time": "2023-08-08T16:30:06.560Z"
   },
   {
    "duration": 3,
    "start_time": "2023-08-08T16:30:10.150Z"
   },
   {
    "duration": 3,
    "start_time": "2023-08-08T16:30:30.024Z"
   },
   {
    "duration": 521,
    "start_time": "2023-08-08T16:37:33.837Z"
   },
   {
    "duration": 60,
    "start_time": "2023-08-08T16:37:50.849Z"
   },
   {
    "duration": 191,
    "start_time": "2023-08-08T16:38:14.155Z"
   },
   {
    "duration": 167,
    "start_time": "2023-08-08T16:38:18.166Z"
   },
   {
    "duration": 9,
    "start_time": "2023-08-08T16:38:20.113Z"
   },
   {
    "duration": 11,
    "start_time": "2023-08-08T16:38:30.037Z"
   },
   {
    "duration": 30,
    "start_time": "2023-08-08T16:38:40.728Z"
   },
   {
    "duration": 9,
    "start_time": "2023-08-08T16:45:00.572Z"
   },
   {
    "duration": 8,
    "start_time": "2023-08-08T16:45:30.487Z"
   },
   {
    "duration": 3,
    "start_time": "2023-08-08T16:45:35.189Z"
   },
   {
    "duration": 94,
    "start_time": "2023-08-08T16:48:20.395Z"
   },
   {
    "duration": 92,
    "start_time": "2023-08-08T16:49:12.191Z"
   },
   {
    "duration": 81,
    "start_time": "2023-08-08T16:49:17.076Z"
   },
   {
    "duration": 90,
    "start_time": "2023-08-08T16:49:32.582Z"
   },
   {
    "duration": 88,
    "start_time": "2023-08-08T16:50:07.126Z"
   },
   {
    "duration": 179,
    "start_time": "2023-08-08T16:50:31.102Z"
   },
   {
    "duration": 89,
    "start_time": "2023-08-08T16:50:41.252Z"
   },
   {
    "duration": 7,
    "start_time": "2023-08-08T16:51:12.618Z"
   },
   {
    "duration": 11,
    "start_time": "2023-08-08T16:51:22.974Z"
   },
   {
    "duration": 4,
    "start_time": "2023-08-08T16:51:32.395Z"
   },
   {
    "duration": 15,
    "start_time": "2023-08-08T16:52:00.270Z"
   },
   {
    "duration": 4,
    "start_time": "2023-08-08T16:52:01.277Z"
   },
   {
    "duration": 32,
    "start_time": "2023-08-08T16:53:15.440Z"
   },
   {
    "duration": 100,
    "start_time": "2023-08-08T17:03:13.323Z"
   },
   {
    "duration": 85,
    "start_time": "2023-08-08T17:03:20.652Z"
   },
   {
    "duration": 1352,
    "start_time": "2023-08-08T17:03:25.597Z"
   },
   {
    "duration": 16,
    "start_time": "2023-08-08T17:03:36.158Z"
   },
   {
    "duration": 15,
    "start_time": "2023-08-08T17:04:29.390Z"
   },
   {
    "duration": 9,
    "start_time": "2023-08-08T17:04:32.550Z"
   },
   {
    "duration": 10,
    "start_time": "2023-08-08T17:06:25.953Z"
   },
   {
    "duration": 10,
    "start_time": "2023-08-08T17:06:42.741Z"
   },
   {
    "duration": 99,
    "start_time": "2023-08-08T17:09:37.853Z"
   },
   {
    "duration": 16,
    "start_time": "2023-08-08T17:09:45.591Z"
   },
   {
    "duration": 10,
    "start_time": "2023-08-08T17:09:47.549Z"
   },
   {
    "duration": 8,
    "start_time": "2023-08-08T17:16:58.135Z"
   },
   {
    "duration": 9,
    "start_time": "2023-08-08T17:17:08.391Z"
   },
   {
    "duration": 14,
    "start_time": "2023-08-08T17:17:18.477Z"
   },
   {
    "duration": 9,
    "start_time": "2023-08-08T17:17:20.033Z"
   },
   {
    "duration": 10,
    "start_time": "2023-08-08T17:19:32.398Z"
   },
   {
    "duration": 10,
    "start_time": "2023-08-08T17:20:12.016Z"
   },
   {
    "duration": 55,
    "start_time": "2023-08-08T17:20:24.496Z"
   },
   {
    "duration": 8,
    "start_time": "2023-08-08T17:20:25.907Z"
   },
   {
    "duration": 1297,
    "start_time": "2023-08-08T17:22:03.839Z"
   },
   {
    "duration": 0,
    "start_time": "2023-08-08T17:22:05.138Z"
   },
   {
    "duration": 1336,
    "start_time": "2023-08-08T17:22:14.940Z"
   },
   {
    "duration": 8,
    "start_time": "2023-08-08T17:23:42.957Z"
   },
   {
    "duration": 15,
    "start_time": "2023-08-08T17:23:46.101Z"
   },
   {
    "duration": 8,
    "start_time": "2023-08-08T17:23:50.110Z"
   },
   {
    "duration": 16,
    "start_time": "2023-08-08T17:24:04.318Z"
   },
   {
    "duration": 9,
    "start_time": "2023-08-08T17:24:07.556Z"
   },
   {
    "duration": 11,
    "start_time": "2023-08-08T17:24:16.057Z"
   },
   {
    "duration": 21,
    "start_time": "2023-08-08T17:24:47.324Z"
   },
   {
    "duration": 21,
    "start_time": "2023-08-08T17:25:17.537Z"
   },
   {
    "duration": 16,
    "start_time": "2023-08-08T17:25:25.020Z"
   },
   {
    "duration": 8,
    "start_time": "2023-08-08T17:25:26.447Z"
   },
   {
    "duration": 8,
    "start_time": "2023-08-08T17:25:35.687Z"
   },
   {
    "duration": 9,
    "start_time": "2023-08-08T17:25:40.340Z"
   },
   {
    "duration": 8,
    "start_time": "2023-08-08T17:26:02.825Z"
   },
   {
    "duration": 8,
    "start_time": "2023-08-08T17:26:21.966Z"
   },
   {
    "duration": 152,
    "start_time": "2023-08-08T17:27:29.063Z"
   },
   {
    "duration": 6,
    "start_time": "2023-08-08T17:27:49.246Z"
   },
   {
    "duration": 140,
    "start_time": "2023-08-08T17:27:59.344Z"
   },
   {
    "duration": 138,
    "start_time": "2023-08-08T17:28:04.786Z"
   },
   {
    "duration": 7,
    "start_time": "2023-08-08T17:29:36.450Z"
   },
   {
    "duration": 137,
    "start_time": "2023-08-08T17:29:38.332Z"
   },
   {
    "duration": 145,
    "start_time": "2023-08-08T17:29:40.645Z"
   },
   {
    "duration": 134,
    "start_time": "2023-08-08T17:29:41.385Z"
   },
   {
    "duration": 350,
    "start_time": "2023-08-08T17:32:37.838Z"
   },
   {
    "duration": 9,
    "start_time": "2023-08-08T17:34:39.704Z"
   },
   {
    "duration": 15,
    "start_time": "2023-08-08T17:41:20.982Z"
   },
   {
    "duration": 10,
    "start_time": "2023-08-08T17:41:43.731Z"
   },
   {
    "duration": 9,
    "start_time": "2023-08-08T17:41:50.593Z"
   },
   {
    "duration": 10,
    "start_time": "2023-08-08T17:43:01.077Z"
   },
   {
    "duration": 7,
    "start_time": "2023-08-08T17:43:58.584Z"
   },
   {
    "duration": 397,
    "start_time": "2023-08-08T17:45:51.003Z"
   },
   {
    "duration": 364,
    "start_time": "2023-08-08T17:49:22.891Z"
   },
   {
    "duration": 7,
    "start_time": "2023-08-08T17:51:35.857Z"
   },
   {
    "duration": 10,
    "start_time": "2023-08-08T17:51:52.120Z"
   },
   {
    "duration": 357,
    "start_time": "2023-08-08T17:53:35.232Z"
   },
   {
    "duration": 350,
    "start_time": "2023-08-08T17:54:03.789Z"
   },
   {
    "duration": 8,
    "start_time": "2023-08-08T17:54:57.148Z"
   },
   {
    "duration": 6,
    "start_time": "2023-08-08T17:55:08.608Z"
   },
   {
    "duration": 8,
    "start_time": "2023-08-08T17:55:16.904Z"
   },
   {
    "duration": 446,
    "start_time": "2023-08-08T17:56:04.037Z"
   },
   {
    "duration": 179,
    "start_time": "2023-08-08T17:56:04.484Z"
   },
   {
    "duration": 17,
    "start_time": "2023-08-08T17:56:04.665Z"
   },
   {
    "duration": 29,
    "start_time": "2023-08-08T17:56:04.684Z"
   },
   {
    "duration": 77,
    "start_time": "2023-08-08T17:56:04.714Z"
   },
   {
    "duration": 0,
    "start_time": "2023-08-08T17:56:04.793Z"
   },
   {
    "duration": 0,
    "start_time": "2023-08-08T17:56:04.794Z"
   },
   {
    "duration": 0,
    "start_time": "2023-08-08T17:56:04.796Z"
   },
   {
    "duration": 0,
    "start_time": "2023-08-08T17:56:04.797Z"
   },
   {
    "duration": 0,
    "start_time": "2023-08-08T17:56:04.798Z"
   },
   {
    "duration": 0,
    "start_time": "2023-08-08T17:56:04.799Z"
   },
   {
    "duration": 0,
    "start_time": "2023-08-08T17:56:04.800Z"
   },
   {
    "duration": 0,
    "start_time": "2023-08-08T17:56:04.802Z"
   },
   {
    "duration": 0,
    "start_time": "2023-08-08T17:56:04.803Z"
   },
   {
    "duration": 0,
    "start_time": "2023-08-08T17:56:04.804Z"
   },
   {
    "duration": 0,
    "start_time": "2023-08-08T17:56:04.805Z"
   },
   {
    "duration": 0,
    "start_time": "2023-08-08T17:56:04.806Z"
   },
   {
    "duration": 0,
    "start_time": "2023-08-08T17:56:04.807Z"
   },
   {
    "duration": 0,
    "start_time": "2023-08-08T17:56:04.808Z"
   },
   {
    "duration": 0,
    "start_time": "2023-08-08T17:56:04.809Z"
   },
   {
    "duration": 0,
    "start_time": "2023-08-08T17:56:04.810Z"
   },
   {
    "duration": 0,
    "start_time": "2023-08-08T17:56:04.811Z"
   },
   {
    "duration": 0,
    "start_time": "2023-08-08T17:56:04.812Z"
   },
   {
    "duration": 0,
    "start_time": "2023-08-08T17:56:04.813Z"
   },
   {
    "duration": 0,
    "start_time": "2023-08-08T17:56:04.814Z"
   },
   {
    "duration": 0,
    "start_time": "2023-08-08T17:56:04.815Z"
   },
   {
    "duration": 0,
    "start_time": "2023-08-08T17:56:04.816Z"
   },
   {
    "duration": 0,
    "start_time": "2023-08-08T17:56:04.817Z"
   },
   {
    "duration": 0,
    "start_time": "2023-08-08T17:56:04.818Z"
   },
   {
    "duration": 0,
    "start_time": "2023-08-08T17:56:04.819Z"
   },
   {
    "duration": 0,
    "start_time": "2023-08-08T17:56:04.821Z"
   },
   {
    "duration": 0,
    "start_time": "2023-08-08T17:56:04.822Z"
   },
   {
    "duration": 0,
    "start_time": "2023-08-08T17:56:04.823Z"
   },
   {
    "duration": 0,
    "start_time": "2023-08-08T17:56:04.824Z"
   },
   {
    "duration": 0,
    "start_time": "2023-08-08T17:56:04.825Z"
   },
   {
    "duration": 0,
    "start_time": "2023-08-08T17:56:04.826Z"
   },
   {
    "duration": 0,
    "start_time": "2023-08-08T17:56:04.827Z"
   },
   {
    "duration": 0,
    "start_time": "2023-08-08T17:56:04.828Z"
   },
   {
    "duration": 2,
    "start_time": "2023-08-08T17:56:13.629Z"
   },
   {
    "duration": 165,
    "start_time": "2023-08-08T17:56:14.422Z"
   },
   {
    "duration": 14,
    "start_time": "2023-08-08T17:56:15.295Z"
   },
   {
    "duration": 30,
    "start_time": "2023-08-08T17:56:16.477Z"
   },
   {
    "duration": 84,
    "start_time": "2023-08-08T17:56:18.362Z"
   },
   {
    "duration": 4,
    "start_time": "2023-08-08T17:56:23.687Z"
   },
   {
    "duration": 4,
    "start_time": "2023-08-08T17:56:27.094Z"
   },
   {
    "duration": 12,
    "start_time": "2023-08-08T17:56:28.436Z"
   },
   {
    "duration": 3,
    "start_time": "2023-08-08T17:56:29.433Z"
   },
   {
    "duration": 28,
    "start_time": "2023-08-08T17:56:30.557Z"
   },
   {
    "duration": 19,
    "start_time": "2023-08-08T17:56:34.751Z"
   },
   {
    "duration": 22,
    "start_time": "2023-08-08T17:56:35.821Z"
   },
   {
    "duration": 67,
    "start_time": "2023-08-08T17:56:37.552Z"
   },
   {
    "duration": 71,
    "start_time": "2023-08-08T17:56:40.219Z"
   },
   {
    "duration": 66,
    "start_time": "2023-08-08T17:56:41.245Z"
   },
   {
    "duration": 31,
    "start_time": "2023-08-08T17:56:43.591Z"
   },
   {
    "duration": 34,
    "start_time": "2023-08-08T18:00:23.905Z"
   },
   {
    "duration": 3,
    "start_time": "2023-08-08T18:02:11.433Z"
   },
   {
    "duration": 90,
    "start_time": "2023-08-08T18:05:13.035Z"
   },
   {
    "duration": 62,
    "start_time": "2023-08-08T18:05:14.408Z"
   },
   {
    "duration": 38,
    "start_time": "2023-08-08T18:05:16.401Z"
   },
   {
    "duration": 87,
    "start_time": "2023-08-08T18:07:35.049Z"
   },
   {
    "duration": 11,
    "start_time": "2023-08-08T18:07:47.094Z"
   },
   {
    "duration": 8,
    "start_time": "2023-08-08T18:08:04.150Z"
   },
   {
    "duration": 10,
    "start_time": "2023-08-08T18:08:28.494Z"
   },
   {
    "duration": 7,
    "start_time": "2023-08-08T18:08:29.737Z"
   },
   {
    "duration": 10,
    "start_time": "2023-08-08T18:09:38.422Z"
   },
   {
    "duration": 7,
    "start_time": "2023-08-08T18:09:39.574Z"
   },
   {
    "duration": 64,
    "start_time": "2023-08-08T18:12:28.401Z"
   },
   {
    "duration": 14,
    "start_time": "2023-08-08T18:12:41.703Z"
   },
   {
    "duration": 36,
    "start_time": "2023-08-08T18:13:22.000Z"
   },
   {
    "duration": 52,
    "start_time": "2023-08-08T18:15:03.394Z"
   },
   {
    "duration": 81,
    "start_time": "2023-08-08T18:17:58.927Z"
   },
   {
    "duration": 80,
    "start_time": "2023-08-10T17:24:26.338Z"
   },
   {
    "duration": 480,
    "start_time": "2023-08-10T17:24:40.278Z"
   },
   {
    "duration": 464,
    "start_time": "2023-08-10T17:24:40.761Z"
   },
   {
    "duration": 48,
    "start_time": "2023-08-10T17:24:41.227Z"
   },
   {
    "duration": 44,
    "start_time": "2023-08-10T17:24:41.279Z"
   },
   {
    "duration": 151,
    "start_time": "2023-08-10T17:24:41.325Z"
   },
   {
    "duration": 0,
    "start_time": "2023-08-10T17:24:41.480Z"
   },
   {
    "duration": 0,
    "start_time": "2023-08-10T17:24:41.482Z"
   },
   {
    "duration": 0,
    "start_time": "2023-08-10T17:24:41.484Z"
   },
   {
    "duration": 0,
    "start_time": "2023-08-10T17:24:41.485Z"
   },
   {
    "duration": 1,
    "start_time": "2023-08-10T17:24:41.486Z"
   },
   {
    "duration": 0,
    "start_time": "2023-08-10T17:24:41.488Z"
   },
   {
    "duration": 0,
    "start_time": "2023-08-10T17:24:41.489Z"
   },
   {
    "duration": 0,
    "start_time": "2023-08-10T17:24:41.490Z"
   },
   {
    "duration": 0,
    "start_time": "2023-08-10T17:24:41.493Z"
   },
   {
    "duration": 0,
    "start_time": "2023-08-10T17:24:41.495Z"
   },
   {
    "duration": 0,
    "start_time": "2023-08-10T17:24:41.496Z"
   },
   {
    "duration": 0,
    "start_time": "2023-08-10T17:24:41.498Z"
   },
   {
    "duration": 0,
    "start_time": "2023-08-10T17:24:41.499Z"
   },
   {
    "duration": 0,
    "start_time": "2023-08-10T17:24:41.500Z"
   },
   {
    "duration": 1,
    "start_time": "2023-08-10T17:24:41.501Z"
   },
   {
    "duration": 0,
    "start_time": "2023-08-10T17:24:41.503Z"
   },
   {
    "duration": 0,
    "start_time": "2023-08-10T17:24:41.504Z"
   },
   {
    "duration": 0,
    "start_time": "2023-08-10T17:24:41.506Z"
   },
   {
    "duration": 0,
    "start_time": "2023-08-10T17:24:41.507Z"
   },
   {
    "duration": 0,
    "start_time": "2023-08-10T17:24:41.510Z"
   },
   {
    "duration": 0,
    "start_time": "2023-08-10T17:24:41.511Z"
   },
   {
    "duration": 0,
    "start_time": "2023-08-10T17:24:41.512Z"
   },
   {
    "duration": 0,
    "start_time": "2023-08-10T17:24:41.512Z"
   },
   {
    "duration": 0,
    "start_time": "2023-08-10T17:24:41.513Z"
   },
   {
    "duration": 0,
    "start_time": "2023-08-10T17:24:41.514Z"
   },
   {
    "duration": 0,
    "start_time": "2023-08-10T17:24:41.514Z"
   },
   {
    "duration": 0,
    "start_time": "2023-08-10T17:24:41.515Z"
   },
   {
    "duration": 0,
    "start_time": "2023-08-10T17:24:41.516Z"
   },
   {
    "duration": 0,
    "start_time": "2023-08-10T17:24:41.517Z"
   },
   {
    "duration": 0,
    "start_time": "2023-08-10T17:24:41.524Z"
   },
   {
    "duration": 0,
    "start_time": "2023-08-10T17:24:41.526Z"
   },
   {
    "duration": 0,
    "start_time": "2023-08-10T17:24:41.527Z"
   },
   {
    "duration": 0,
    "start_time": "2023-08-10T17:24:41.530Z"
   },
   {
    "duration": 12,
    "start_time": "2023-08-10T17:24:46.606Z"
   },
   {
    "duration": 253,
    "start_time": "2023-08-10T17:24:48.235Z"
   },
   {
    "duration": 14,
    "start_time": "2023-08-10T17:24:49.383Z"
   },
   {
    "duration": 38,
    "start_time": "2023-08-10T17:24:50.291Z"
   },
   {
    "duration": 120,
    "start_time": "2023-08-10T17:24:51.570Z"
   },
   {
    "duration": 7,
    "start_time": "2023-08-10T17:24:55.341Z"
   },
   {
    "duration": 16,
    "start_time": "2023-08-10T17:24:56.478Z"
   },
   {
    "duration": 6,
    "start_time": "2023-08-10T17:24:57.426Z"
   },
   {
    "duration": 60,
    "start_time": "2023-08-10T17:24:58.230Z"
   },
   {
    "duration": 46,
    "start_time": "2023-08-10T17:25:00.803Z"
   },
   {
    "duration": 52,
    "start_time": "2023-08-10T17:25:01.804Z"
   },
   {
    "duration": 122,
    "start_time": "2023-08-10T17:25:02.784Z"
   },
   {
    "duration": 159,
    "start_time": "2023-08-10T17:25:03.682Z"
   },
   {
    "duration": 119,
    "start_time": "2023-08-10T17:25:04.552Z"
   },
   {
    "duration": 76,
    "start_time": "2023-08-10T17:25:06.444Z"
   },
   {
    "duration": 11,
    "start_time": "2023-08-10T17:25:07.692Z"
   },
   {
    "duration": 12,
    "start_time": "2023-08-10T17:25:08.630Z"
   },
   {
    "duration": 78,
    "start_time": "2023-08-10T17:25:11.426Z"
   },
   {
    "duration": 103,
    "start_time": "2023-08-10T17:25:13.587Z"
   },
   {
    "duration": 159,
    "start_time": "2023-08-10T17:38:20.575Z"
   },
   {
    "duration": 92,
    "start_time": "2023-08-10T17:38:29.623Z"
   },
   {
    "duration": 105,
    "start_time": "2023-08-10T17:38:35.276Z"
   },
   {
    "duration": 144,
    "start_time": "2023-08-10T17:39:30.335Z"
   },
   {
    "duration": 120,
    "start_time": "2023-08-10T17:58:15.640Z"
   },
   {
    "duration": 367,
    "start_time": "2023-08-13T10:59:24.321Z"
   },
   {
    "duration": 166,
    "start_time": "2023-08-13T10:59:24.874Z"
   },
   {
    "duration": 17,
    "start_time": "2023-08-13T10:59:25.493Z"
   },
   {
    "duration": 30,
    "start_time": "2023-08-13T10:59:26.615Z"
   },
   {
    "duration": 111,
    "start_time": "2023-08-13T10:59:27.980Z"
   },
   {
    "duration": 3,
    "start_time": "2023-08-13T10:59:30.239Z"
   },
   {
    "duration": 14,
    "start_time": "2023-08-13T10:59:31.326Z"
   },
   {
    "duration": 4,
    "start_time": "2023-08-13T10:59:32.089Z"
   },
   {
    "duration": 22,
    "start_time": "2023-08-13T10:59:33.159Z"
   },
   {
    "duration": 18,
    "start_time": "2023-08-13T10:59:34.601Z"
   },
   {
    "duration": 22,
    "start_time": "2023-08-13T10:59:35.538Z"
   },
   {
    "duration": 65,
    "start_time": "2023-08-13T10:59:36.445Z"
   },
   {
    "duration": 81,
    "start_time": "2023-08-13T10:59:37.322Z"
   },
   {
    "duration": 63,
    "start_time": "2023-08-13T10:59:39.119Z"
   },
   {
    "duration": 36,
    "start_time": "2023-08-13T10:59:40.230Z"
   },
   {
    "duration": 11,
    "start_time": "2023-08-13T10:59:41.078Z"
   },
   {
    "duration": 8,
    "start_time": "2023-08-13T10:59:41.817Z"
   },
   {
    "duration": 36,
    "start_time": "2023-08-13T10:59:44.514Z"
   },
   {
    "duration": 32,
    "start_time": "2023-08-13T10:59:46.503Z"
   },
   {
    "duration": 5,
    "start_time": "2023-08-13T11:54:24.253Z"
   },
   {
    "duration": 4,
    "start_time": "2023-08-13T11:54:27.618Z"
   },
   {
    "duration": 4,
    "start_time": "2023-08-13T11:54:33.787Z"
   },
   {
    "duration": 12,
    "start_time": "2023-08-13T11:56:01.161Z"
   },
   {
    "duration": 25,
    "start_time": "2023-08-13T11:56:28.202Z"
   },
   {
    "duration": 399,
    "start_time": "2023-08-13T14:03:08.525Z"
   },
   {
    "duration": 229,
    "start_time": "2023-08-13T14:03:09.592Z"
   },
   {
    "duration": 14,
    "start_time": "2023-08-13T14:03:10.601Z"
   },
   {
    "duration": 23,
    "start_time": "2023-08-13T14:03:11.172Z"
   },
   {
    "duration": 76,
    "start_time": "2023-08-13T14:03:11.729Z"
   },
   {
    "duration": 3,
    "start_time": "2023-08-13T14:03:12.457Z"
   },
   {
    "duration": 9,
    "start_time": "2023-08-13T14:03:12.852Z"
   },
   {
    "duration": 3,
    "start_time": "2023-08-13T14:03:13.262Z"
   },
   {
    "duration": 21,
    "start_time": "2023-08-13T14:03:13.650Z"
   },
   {
    "duration": 16,
    "start_time": "2023-08-13T14:03:14.301Z"
   },
   {
    "duration": 20,
    "start_time": "2023-08-13T14:03:14.687Z"
   },
   {
    "duration": 70,
    "start_time": "2023-08-13T14:03:15.086Z"
   },
   {
    "duration": 84,
    "start_time": "2023-08-13T14:03:15.485Z"
   },
   {
    "duration": 68,
    "start_time": "2023-08-13T14:03:15.884Z"
   },
   {
    "duration": 41,
    "start_time": "2023-08-13T14:03:16.567Z"
   },
   {
    "duration": 11,
    "start_time": "2023-08-13T14:03:16.988Z"
   },
   {
    "duration": 7,
    "start_time": "2023-08-13T14:03:17.384Z"
   },
   {
    "duration": 31,
    "start_time": "2023-08-13T14:03:18.550Z"
   },
   {
    "duration": 30,
    "start_time": "2023-08-13T14:03:19.590Z"
   },
   {
    "duration": 4,
    "start_time": "2023-08-13T14:03:20.431Z"
   },
   {
    "duration": 21,
    "start_time": "2023-08-13T14:03:21.255Z"
   },
   {
    "duration": 3,
    "start_time": "2023-08-13T14:03:21.801Z"
   },
   {
    "duration": 24,
    "start_time": "2023-08-13T14:03:35.828Z"
   },
   {
    "duration": 20,
    "start_time": "2023-08-13T14:04:03.789Z"
   },
   {
    "duration": 27,
    "start_time": "2023-08-13T14:04:16.625Z"
   },
   {
    "duration": 2,
    "start_time": "2023-08-13T14:04:17.628Z"
   },
   {
    "duration": 18,
    "start_time": "2023-08-13T14:04:30.451Z"
   },
   {
    "duration": 5,
    "start_time": "2023-08-13T14:06:12.050Z"
   },
   {
    "duration": 11,
    "start_time": "2023-08-13T14:06:12.904Z"
   },
   {
    "duration": 5,
    "start_time": "2023-08-13T14:06:31.922Z"
   },
   {
    "duration": 13,
    "start_time": "2023-08-13T14:06:32.500Z"
   },
   {
    "duration": 16,
    "start_time": "2023-08-13T14:06:32.950Z"
   },
   {
    "duration": 28,
    "start_time": "2023-08-13T14:06:33.321Z"
   },
   {
    "duration": 26,
    "start_time": "2023-08-13T14:06:34.024Z"
   },
   {
    "duration": 4,
    "start_time": "2023-08-13T14:06:41.096Z"
   },
   {
    "duration": 11,
    "start_time": "2023-08-13T14:06:41.950Z"
   },
   {
    "duration": 28,
    "start_time": "2023-08-13T14:07:00.542Z"
   },
   {
    "duration": 19,
    "start_time": "2023-08-13T14:07:01.450Z"
   },
   {
    "duration": 22,
    "start_time": "2023-08-13T14:07:01.850Z"
   },
   {
    "duration": 18,
    "start_time": "2023-08-13T14:07:02.201Z"
   },
   {
    "duration": 4,
    "start_time": "2023-08-13T14:12:11.408Z"
   },
   {
    "duration": 24,
    "start_time": "2023-08-13T14:12:12.383Z"
   },
   {
    "duration": 4,
    "start_time": "2023-08-13T14:12:25.805Z"
   },
   {
    "duration": 21,
    "start_time": "2023-08-13T14:12:26.785Z"
   },
   {
    "duration": 17,
    "start_time": "2023-08-13T14:12:27.565Z"
   },
   {
    "duration": 19,
    "start_time": "2023-08-13T14:12:28.051Z"
   },
   {
    "duration": 24,
    "start_time": "2023-08-13T14:12:28.328Z"
   },
   {
    "duration": 3,
    "start_time": "2023-08-13T14:15:52.397Z"
   },
   {
    "duration": 747,
    "start_time": "2023-08-13T14:15:53.549Z"
   },
   {
    "duration": 1059,
    "start_time": "2023-08-13T14:15:54.452Z"
   },
   {
    "duration": 4,
    "start_time": "2023-08-13T14:16:20.450Z"
   },
   {
    "duration": 774,
    "start_time": "2023-08-13T14:16:23.028Z"
   },
   {
    "duration": 852,
    "start_time": "2023-08-13T14:16:24.657Z"
   },
   {
    "duration": 4,
    "start_time": "2023-08-13T14:16:34.061Z"
   },
   {
    "duration": 3,
    "start_time": "2023-08-13T14:16:38.549Z"
   },
   {
    "duration": 917,
    "start_time": "2023-08-13T14:16:42.311Z"
   },
   {
    "duration": 17,
    "start_time": "2023-08-13T14:17:07.932Z"
   },
   {
    "duration": 20,
    "start_time": "2023-08-13T14:17:08.863Z"
   },
   {
    "duration": 24,
    "start_time": "2023-08-13T14:17:09.531Z"
   },
   {
    "duration": 4,
    "start_time": "2023-08-13T14:25:20.971Z"
   },
   {
    "duration": 468,
    "start_time": "2023-08-13T14:25:23.403Z"
   },
   {
    "duration": 4,
    "start_time": "2023-08-13T14:25:38.653Z"
   },
   {
    "duration": 488,
    "start_time": "2023-08-13T14:25:41.098Z"
   },
   {
    "duration": 4,
    "start_time": "2023-08-13T14:26:53.645Z"
   },
   {
    "duration": 456,
    "start_time": "2023-08-13T14:26:55.867Z"
   },
   {
    "duration": 4,
    "start_time": "2023-08-13T14:27:11.057Z"
   },
   {
    "duration": 492,
    "start_time": "2023-08-13T14:27:12.715Z"
   },
   {
    "duration": 3,
    "start_time": "2023-08-13T14:27:21.537Z"
   },
   {
    "duration": 937,
    "start_time": "2023-08-13T14:27:23.293Z"
   },
   {
    "duration": 4,
    "start_time": "2023-08-13T14:28:19.622Z"
   },
   {
    "duration": 20,
    "start_time": "2023-08-13T14:28:20.519Z"
   },
   {
    "duration": 20,
    "start_time": "2023-08-13T14:29:57.341Z"
   },
   {
    "duration": 18,
    "start_time": "2023-08-13T14:29:59.887Z"
   },
   {
    "duration": 4,
    "start_time": "2023-08-13T14:30:12.842Z"
   },
   {
    "duration": 20,
    "start_time": "2023-08-13T14:30:13.833Z"
   },
   {
    "duration": 17,
    "start_time": "2023-08-13T14:30:15.697Z"
   },
   {
    "duration": 22,
    "start_time": "2023-08-13T14:30:16.119Z"
   },
   {
    "duration": 17,
    "start_time": "2023-08-13T14:30:16.501Z"
   },
   {
    "duration": 22,
    "start_time": "2023-08-13T14:30:16.915Z"
   },
   {
    "duration": 17,
    "start_time": "2023-08-13T14:30:17.302Z"
   },
   {
    "duration": 21,
    "start_time": "2023-08-13T14:30:23.830Z"
   },
   {
    "duration": 21,
    "start_time": "2023-08-13T14:30:24.534Z"
   },
   {
    "duration": 19,
    "start_time": "2023-08-13T14:30:24.805Z"
   },
   {
    "duration": 16,
    "start_time": "2023-08-13T14:30:25.022Z"
   },
   {
    "duration": 20,
    "start_time": "2023-08-13T14:30:25.289Z"
   },
   {
    "duration": 4,
    "start_time": "2023-08-13T14:34:30.899Z"
   },
   {
    "duration": 12,
    "start_time": "2023-08-13T14:34:31.731Z"
   },
   {
    "duration": 4,
    "start_time": "2023-08-13T14:35:01.162Z"
   },
   {
    "duration": 12,
    "start_time": "2023-08-13T14:35:02.118Z"
   },
   {
    "duration": 3,
    "start_time": "2023-08-13T14:35:26.363Z"
   },
   {
    "duration": 19,
    "start_time": "2023-08-13T14:35:27.993Z"
   },
   {
    "duration": 29,
    "start_time": "2023-08-13T14:35:30.646Z"
   },
   {
    "duration": 18,
    "start_time": "2023-08-13T14:35:31.100Z"
   },
   {
    "duration": 19,
    "start_time": "2023-08-13T14:35:31.537Z"
   },
   {
    "duration": 16,
    "start_time": "2023-08-13T14:35:32.088Z"
   },
   {
    "duration": 23,
    "start_time": "2023-08-13T14:35:32.386Z"
   },
   {
    "duration": 17,
    "start_time": "2023-08-13T14:35:32.797Z"
   },
   {
    "duration": 3,
    "start_time": "2023-08-13T14:37:07.432Z"
   },
   {
    "duration": 14,
    "start_time": "2023-08-13T14:37:08.764Z"
   },
   {
    "duration": 4,
    "start_time": "2023-08-13T14:37:50.801Z"
   },
   {
    "duration": 15,
    "start_time": "2023-08-13T14:37:51.533Z"
   },
   {
    "duration": 13,
    "start_time": "2023-08-13T14:37:52.314Z"
   },
   {
    "duration": 14,
    "start_time": "2023-08-13T14:37:52.823Z"
   },
   {
    "duration": 13,
    "start_time": "2023-08-13T14:37:53.161Z"
   },
   {
    "duration": 18,
    "start_time": "2023-08-13T14:37:53.599Z"
   },
   {
    "duration": 13,
    "start_time": "2023-08-13T14:37:53.960Z"
   },
   {
    "duration": 13,
    "start_time": "2023-08-13T14:40:37.007Z"
   },
   {
    "duration": 13,
    "start_time": "2023-08-13T14:40:58.114Z"
   },
   {
    "duration": 15,
    "start_time": "2023-08-13T14:41:02.144Z"
   },
   {
    "duration": 4,
    "start_time": "2023-08-13T14:43:27.946Z"
   },
   {
    "duration": 9,
    "start_time": "2023-08-13T14:43:35.110Z"
   },
   {
    "duration": 3,
    "start_time": "2023-08-13T14:44:44.130Z"
   },
   {
    "duration": 12,
    "start_time": "2023-08-13T14:44:48.007Z"
   },
   {
    "duration": 20,
    "start_time": "2023-08-13T14:44:56.894Z"
   },
   {
    "duration": 17,
    "start_time": "2023-08-13T14:45:41.118Z"
   },
   {
    "duration": 5,
    "start_time": "2023-08-13T14:56:11.996Z"
   },
   {
    "duration": 4,
    "start_time": "2023-08-13T14:56:29.321Z"
   },
   {
    "duration": 27,
    "start_time": "2023-08-13T14:57:38.597Z"
   },
   {
    "duration": 4,
    "start_time": "2023-08-13T14:57:58.838Z"
   },
   {
    "duration": 27,
    "start_time": "2023-08-13T14:57:59.734Z"
   },
   {
    "duration": 4,
    "start_time": "2023-08-13T15:00:07.951Z"
   },
   {
    "duration": 21,
    "start_time": "2023-08-13T15:00:10.137Z"
   },
   {
    "duration": 4,
    "start_time": "2023-08-13T15:00:55.250Z"
   },
   {
    "duration": 25,
    "start_time": "2023-08-13T15:00:56.528Z"
   },
   {
    "duration": 4,
    "start_time": "2023-08-13T15:02:33.562Z"
   },
   {
    "duration": 26,
    "start_time": "2023-08-13T15:02:34.378Z"
   },
   {
    "duration": 5,
    "start_time": "2023-08-13T15:04:39.126Z"
   },
   {
    "duration": 21,
    "start_time": "2023-08-13T15:04:39.906Z"
   },
   {
    "duration": 4,
    "start_time": "2023-08-13T15:05:14.850Z"
   },
   {
    "duration": 21,
    "start_time": "2023-08-13T15:05:15.490Z"
   },
   {
    "duration": 4,
    "start_time": "2023-08-13T15:05:27.726Z"
   },
   {
    "duration": 21,
    "start_time": "2023-08-13T15:05:28.202Z"
   },
   {
    "duration": 14,
    "start_time": "2023-08-13T15:07:09.598Z"
   },
   {
    "duration": 22,
    "start_time": "2023-08-13T15:07:19.530Z"
   },
   {
    "duration": 2,
    "start_time": "2023-08-13T15:07:19.909Z"
   },
   {
    "duration": 14,
    "start_time": "2023-08-13T15:07:35.002Z"
   },
   {
    "duration": 24,
    "start_time": "2023-08-13T15:08:03.614Z"
   },
   {
    "duration": 17,
    "start_time": "2023-08-13T15:08:04.325Z"
   },
   {
    "duration": 20,
    "start_time": "2023-08-13T15:09:44.916Z"
   },
   {
    "duration": 21,
    "start_time": "2023-08-13T15:09:47.547Z"
   },
   {
    "duration": 15,
    "start_time": "2023-08-13T15:09:48.320Z"
   },
   {
    "duration": 3,
    "start_time": "2023-08-13T15:10:04.421Z"
   },
   {
    "duration": 185,
    "start_time": "2023-08-13T15:10:04.425Z"
   },
   {
    "duration": 12,
    "start_time": "2023-08-13T15:10:04.612Z"
   },
   {
    "duration": 37,
    "start_time": "2023-08-13T15:10:04.626Z"
   },
   {
    "duration": 82,
    "start_time": "2023-08-13T15:10:04.666Z"
   },
   {
    "duration": 0,
    "start_time": "2023-08-13T15:10:04.751Z"
   },
   {
    "duration": 0,
    "start_time": "2023-08-13T15:10:04.752Z"
   },
   {
    "duration": 0,
    "start_time": "2023-08-13T15:10:04.753Z"
   },
   {
    "duration": 0,
    "start_time": "2023-08-13T15:10:04.754Z"
   },
   {
    "duration": 0,
    "start_time": "2023-08-13T15:10:04.756Z"
   },
   {
    "duration": 0,
    "start_time": "2023-08-13T15:10:04.757Z"
   },
   {
    "duration": 0,
    "start_time": "2023-08-13T15:10:04.758Z"
   },
   {
    "duration": 0,
    "start_time": "2023-08-13T15:10:04.759Z"
   },
   {
    "duration": 0,
    "start_time": "2023-08-13T15:10:04.760Z"
   },
   {
    "duration": 0,
    "start_time": "2023-08-13T15:10:04.761Z"
   },
   {
    "duration": 0,
    "start_time": "2023-08-13T15:10:04.762Z"
   },
   {
    "duration": 0,
    "start_time": "2023-08-13T15:10:04.763Z"
   },
   {
    "duration": 0,
    "start_time": "2023-08-13T15:10:04.765Z"
   },
   {
    "duration": 0,
    "start_time": "2023-08-13T15:10:04.766Z"
   },
   {
    "duration": 0,
    "start_time": "2023-08-13T15:10:04.767Z"
   },
   {
    "duration": 0,
    "start_time": "2023-08-13T15:10:04.768Z"
   },
   {
    "duration": 0,
    "start_time": "2023-08-13T15:10:04.770Z"
   },
   {
    "duration": 0,
    "start_time": "2023-08-13T15:10:04.771Z"
   },
   {
    "duration": 0,
    "start_time": "2023-08-13T15:10:04.772Z"
   },
   {
    "duration": 0,
    "start_time": "2023-08-13T15:10:04.774Z"
   },
   {
    "duration": 0,
    "start_time": "2023-08-13T15:10:04.775Z"
   },
   {
    "duration": 0,
    "start_time": "2023-08-13T15:10:04.776Z"
   },
   {
    "duration": 0,
    "start_time": "2023-08-13T15:10:04.777Z"
   },
   {
    "duration": 0,
    "start_time": "2023-08-13T15:10:04.779Z"
   },
   {
    "duration": 0,
    "start_time": "2023-08-13T15:10:04.780Z"
   },
   {
    "duration": 0,
    "start_time": "2023-08-13T15:10:04.781Z"
   },
   {
    "duration": 0,
    "start_time": "2023-08-13T15:10:04.782Z"
   },
   {
    "duration": 0,
    "start_time": "2023-08-13T15:10:04.784Z"
   },
   {
    "duration": 0,
    "start_time": "2023-08-13T15:10:04.786Z"
   },
   {
    "duration": 0,
    "start_time": "2023-08-13T15:10:04.787Z"
   },
   {
    "duration": 0,
    "start_time": "2023-08-13T15:10:04.788Z"
   },
   {
    "duration": 0,
    "start_time": "2023-08-13T15:10:04.789Z"
   },
   {
    "duration": 0,
    "start_time": "2023-08-13T15:10:04.838Z"
   },
   {
    "duration": 2,
    "start_time": "2023-08-13T15:10:11.206Z"
   },
   {
    "duration": 148,
    "start_time": "2023-08-13T15:10:11.906Z"
   },
   {
    "duration": 10,
    "start_time": "2023-08-13T15:10:12.300Z"
   },
   {
    "duration": 23,
    "start_time": "2023-08-13T15:10:12.679Z"
   },
   {
    "duration": 64,
    "start_time": "2023-08-13T15:10:13.341Z"
   },
   {
    "duration": 4,
    "start_time": "2023-08-13T15:10:14.152Z"
   },
   {
    "duration": 5,
    "start_time": "2023-08-13T15:10:14.764Z"
   },
   {
    "duration": 3,
    "start_time": "2023-08-13T15:10:15.166Z"
   },
   {
    "duration": 21,
    "start_time": "2023-08-13T15:10:15.528Z"
   },
   {
    "duration": 15,
    "start_time": "2023-08-13T15:10:16.115Z"
   },
   {
    "duration": 19,
    "start_time": "2023-08-13T15:10:16.525Z"
   },
   {
    "duration": 57,
    "start_time": "2023-08-13T15:10:16.918Z"
   },
   {
    "duration": 62,
    "start_time": "2023-08-13T15:10:17.301Z"
   },
   {
    "duration": 50,
    "start_time": "2023-08-13T15:10:17.720Z"
   },
   {
    "duration": 37,
    "start_time": "2023-08-13T15:10:18.369Z"
   },
   {
    "duration": 10,
    "start_time": "2023-08-13T15:10:18.770Z"
   },
   {
    "duration": 7,
    "start_time": "2023-08-13T15:10:19.194Z"
   },
   {
    "duration": 25,
    "start_time": "2023-08-13T15:10:20.413Z"
   },
   {
    "duration": 25,
    "start_time": "2023-08-13T15:10:20.832Z"
   },
   {
    "duration": 3,
    "start_time": "2023-08-13T15:10:21.494Z"
   },
   {
    "duration": 15,
    "start_time": "2023-08-13T15:10:21.961Z"
   },
   {
    "duration": 13,
    "start_time": "2023-08-13T15:10:22.594Z"
   },
   {
    "duration": 12,
    "start_time": "2023-08-13T15:10:22.959Z"
   },
   {
    "duration": 12,
    "start_time": "2023-08-13T15:10:23.186Z"
   },
   {
    "duration": 13,
    "start_time": "2023-08-13T15:10:23.398Z"
   },
   {
    "duration": 13,
    "start_time": "2023-08-13T15:10:23.608Z"
   },
   {
    "duration": 7,
    "start_time": "2023-08-13T15:10:24.097Z"
   },
   {
    "duration": 18,
    "start_time": "2023-08-13T15:10:25.514Z"
   },
   {
    "duration": 16,
    "start_time": "2023-08-13T15:10:26.007Z"
   },
   {
    "duration": 4,
    "start_time": "2023-08-13T15:10:27.231Z"
   },
   {
    "duration": 21,
    "start_time": "2023-08-13T15:10:28.325Z"
   },
   {
    "duration": 13,
    "start_time": "2023-08-13T15:10:28.848Z"
   },
   {
    "duration": 36,
    "start_time": "2023-08-13T15:10:30.434Z"
   },
   {
    "duration": 19,
    "start_time": "2023-08-13T15:10:34.466Z"
   },
   {
    "duration": 5,
    "start_time": "2023-08-13T15:13:00.603Z"
   },
   {
    "duration": 23,
    "start_time": "2023-08-13T15:13:01.283Z"
   },
   {
    "duration": 14,
    "start_time": "2023-08-13T15:13:02.487Z"
   },
   {
    "duration": 24,
    "start_time": "2023-08-13T15:13:02.847Z"
   },
   {
    "duration": 14,
    "start_time": "2023-08-13T15:13:03.219Z"
   },
   {
    "duration": 7,
    "start_time": "2023-08-13T15:15:14.039Z"
   },
   {
    "duration": 6,
    "start_time": "2023-08-13T15:16:24.395Z"
   },
   {
    "duration": 6,
    "start_time": "2023-08-13T15:16:25.768Z"
   },
   {
    "duration": 7,
    "start_time": "2023-08-13T15:16:51.958Z"
   },
   {
    "duration": 6,
    "start_time": "2023-08-13T15:16:53.064Z"
   },
   {
    "duration": 8,
    "start_time": "2023-08-13T15:17:18.598Z"
   },
   {
    "duration": 7,
    "start_time": "2023-08-13T15:17:19.568Z"
   },
   {
    "duration": 7,
    "start_time": "2023-08-13T15:17:47.266Z"
   },
   {
    "duration": 6,
    "start_time": "2023-08-13T15:17:48.300Z"
   },
   {
    "duration": 18,
    "start_time": "2023-08-13T15:18:10.820Z"
   },
   {
    "duration": 17,
    "start_time": "2023-08-13T15:18:11.205Z"
   },
   {
    "duration": 4,
    "start_time": "2023-08-13T15:18:11.628Z"
   },
   {
    "duration": 21,
    "start_time": "2023-08-13T15:18:12.007Z"
   },
   {
    "duration": 14,
    "start_time": "2023-08-13T15:18:12.247Z"
   },
   {
    "duration": 34,
    "start_time": "2023-08-13T15:18:12.554Z"
   },
   {
    "duration": 15,
    "start_time": "2023-08-13T15:18:12.915Z"
   },
   {
    "duration": 7,
    "start_time": "2023-08-13T15:18:21.452Z"
   },
   {
    "duration": 7,
    "start_time": "2023-08-13T15:18:22.822Z"
   },
   {
    "duration": 21,
    "start_time": "2023-08-13T15:18:42.144Z"
   },
   {
    "duration": 20,
    "start_time": "2023-08-13T15:19:05.505Z"
   },
   {
    "duration": 8,
    "start_time": "2023-08-13T15:19:06.651Z"
   },
   {
    "duration": 12,
    "start_time": "2023-08-13T15:19:47.066Z"
   },
   {
    "duration": 12,
    "start_time": "2023-08-13T15:20:08.102Z"
   },
   {
    "duration": 6,
    "start_time": "2023-08-13T15:20:09.005Z"
   },
   {
    "duration": 8,
    "start_time": "2023-08-13T15:20:15.298Z"
   },
   {
    "duration": 9,
    "start_time": "2023-08-13T15:23:17.268Z"
   },
   {
    "duration": 8,
    "start_time": "2023-08-13T15:23:29.963Z"
   },
   {
    "duration": 55,
    "start_time": "2023-08-13T15:28:11.101Z"
   },
   {
    "duration": 58,
    "start_time": "2023-08-13T15:28:24.697Z"
   },
   {
    "duration": 36,
    "start_time": "2023-08-13T15:28:25.701Z"
   },
   {
    "duration": 10,
    "start_time": "2023-08-13T15:28:26.048Z"
   },
   {
    "duration": 7,
    "start_time": "2023-08-13T15:28:26.401Z"
   },
   {
    "duration": 28,
    "start_time": "2023-08-13T15:28:27.521Z"
   },
   {
    "duration": 26,
    "start_time": "2023-08-13T15:28:27.905Z"
   },
   {
    "duration": 3,
    "start_time": "2023-08-13T15:28:28.458Z"
   },
   {
    "duration": 14,
    "start_time": "2023-08-13T15:28:28.848Z"
   },
   {
    "duration": 12,
    "start_time": "2023-08-13T15:28:29.041Z"
   },
   {
    "duration": 12,
    "start_time": "2023-08-13T15:28:29.237Z"
   },
   {
    "duration": 13,
    "start_time": "2023-08-13T15:28:29.431Z"
   },
   {
    "duration": 14,
    "start_time": "2023-08-13T15:28:29.629Z"
   },
   {
    "duration": 13,
    "start_time": "2023-08-13T15:28:29.833Z"
   },
   {
    "duration": 7,
    "start_time": "2023-08-13T15:28:30.213Z"
   },
   {
    "duration": 19,
    "start_time": "2023-08-13T15:28:31.168Z"
   },
   {
    "duration": 16,
    "start_time": "2023-08-13T15:28:31.405Z"
   },
   {
    "duration": 6,
    "start_time": "2023-08-13T15:28:31.801Z"
   },
   {
    "duration": 22,
    "start_time": "2023-08-13T15:28:32.229Z"
   },
   {
    "duration": 14,
    "start_time": "2023-08-13T15:28:32.425Z"
   },
   {
    "duration": 23,
    "start_time": "2023-08-13T15:28:32.625Z"
   },
   {
    "duration": 15,
    "start_time": "2023-08-13T15:28:32.829Z"
   },
   {
    "duration": 19,
    "start_time": "2023-08-13T15:28:33.812Z"
   },
   {
    "duration": 7,
    "start_time": "2023-08-13T15:28:34.201Z"
   },
   {
    "duration": 15,
    "start_time": "2023-08-13T15:28:34.569Z"
   },
   {
    "duration": 7,
    "start_time": "2023-08-13T15:28:34.948Z"
   },
   {
    "duration": 3,
    "start_time": "2023-08-13T15:30:53.877Z"
   },
   {
    "duration": 10,
    "start_time": "2023-08-13T15:30:54.426Z"
   },
   {
    "duration": 9,
    "start_time": "2023-08-13T15:32:46.808Z"
   },
   {
    "duration": 7,
    "start_time": "2023-08-13T15:32:47.815Z"
   },
   {
    "duration": 4,
    "start_time": "2023-08-13T15:32:59.839Z"
   },
   {
    "duration": 8,
    "start_time": "2023-08-13T15:33:01.017Z"
   },
   {
    "duration": 10,
    "start_time": "2023-08-13T15:36:04.105Z"
   },
   {
    "duration": 7,
    "start_time": "2023-08-13T15:36:05.309Z"
   },
   {
    "duration": 8,
    "start_time": "2023-08-13T15:36:17.409Z"
   },
   {
    "duration": 37,
    "start_time": "2023-08-13T15:36:46.228Z"
   },
   {
    "duration": 36,
    "start_time": "2023-08-13T15:37:22.008Z"
   },
   {
    "duration": 28,
    "start_time": "2023-08-13T15:37:24.092Z"
   },
   {
    "duration": 27,
    "start_time": "2023-08-13T15:37:26.446Z"
   },
   {
    "duration": 4,
    "start_time": "2023-08-13T15:37:26.937Z"
   },
   {
    "duration": 16,
    "start_time": "2023-08-13T15:37:27.262Z"
   },
   {
    "duration": 13,
    "start_time": "2023-08-13T15:37:27.442Z"
   },
   {
    "duration": 13,
    "start_time": "2023-08-13T15:37:27.609Z"
   },
   {
    "duration": 13,
    "start_time": "2023-08-13T15:37:27.813Z"
   },
   {
    "duration": 15,
    "start_time": "2023-08-13T15:37:27.965Z"
   },
   {
    "duration": 13,
    "start_time": "2023-08-13T15:37:28.141Z"
   },
   {
    "duration": 8,
    "start_time": "2023-08-13T15:37:28.509Z"
   },
   {
    "duration": 17,
    "start_time": "2023-08-13T15:37:29.396Z"
   },
   {
    "duration": 389,
    "start_time": "2023-08-13T15:38:37.408Z"
   },
   {
    "duration": 167,
    "start_time": "2023-08-13T15:38:37.799Z"
   },
   {
    "duration": 21,
    "start_time": "2023-08-13T15:38:37.967Z"
   },
   {
    "duration": 33,
    "start_time": "2023-08-13T15:38:37.990Z"
   },
   {
    "duration": 10,
    "start_time": "2023-08-13T15:38:38.040Z"
   },
   {
    "duration": 18,
    "start_time": "2023-08-13T15:38:38.052Z"
   },
   {
    "duration": 14,
    "start_time": "2023-08-13T15:38:38.071Z"
   },
   {
    "duration": 15,
    "start_time": "2023-08-13T15:38:38.086Z"
   },
   {
    "duration": 24,
    "start_time": "2023-08-13T15:38:38.102Z"
   },
   {
    "duration": 26,
    "start_time": "2023-08-13T15:38:38.128Z"
   },
   {
    "duration": 24,
    "start_time": "2023-08-13T15:38:38.156Z"
   },
   {
    "duration": 71,
    "start_time": "2023-08-13T15:38:38.181Z"
   },
   {
    "duration": 62,
    "start_time": "2023-08-13T15:38:38.254Z"
   },
   {
    "duration": 67,
    "start_time": "2023-08-13T15:38:38.318Z"
   },
   {
    "duration": 76,
    "start_time": "2023-08-13T15:38:38.386Z"
   },
   {
    "duration": 11,
    "start_time": "2023-08-13T15:38:38.463Z"
   },
   {
    "duration": 82,
    "start_time": "2023-08-13T15:38:38.476Z"
   },
   {
    "duration": 33,
    "start_time": "2023-08-13T15:38:38.560Z"
   },
   {
    "duration": 36,
    "start_time": "2023-08-13T15:38:38.595Z"
   },
   {
    "duration": 33,
    "start_time": "2023-08-13T15:38:38.633Z"
   },
   {
    "duration": 19,
    "start_time": "2023-08-13T15:38:38.668Z"
   },
   {
    "duration": 20,
    "start_time": "2023-08-13T15:38:38.689Z"
   },
   {
    "duration": 16,
    "start_time": "2023-08-13T15:38:38.711Z"
   },
   {
    "duration": 17,
    "start_time": "2023-08-13T15:38:38.729Z"
   },
   {
    "duration": 34,
    "start_time": "2023-08-13T15:38:38.747Z"
   },
   {
    "duration": 11,
    "start_time": "2023-08-13T15:38:38.782Z"
   },
   {
    "duration": 8,
    "start_time": "2023-08-13T15:38:38.795Z"
   },
   {
    "duration": 19,
    "start_time": "2023-08-13T15:38:38.806Z"
   },
   {
    "duration": 25,
    "start_time": "2023-08-13T15:38:38.826Z"
   },
   {
    "duration": 10,
    "start_time": "2023-08-13T15:38:38.853Z"
   },
   {
    "duration": 38,
    "start_time": "2023-08-13T15:38:38.864Z"
   },
   {
    "duration": 52,
    "start_time": "2023-08-13T15:38:38.904Z"
   },
   {
    "duration": 33,
    "start_time": "2023-08-13T15:38:38.959Z"
   },
   {
    "duration": 25,
    "start_time": "2023-08-13T15:38:39.040Z"
   },
   {
    "duration": 20,
    "start_time": "2023-08-13T15:38:39.066Z"
   },
   {
    "duration": 7,
    "start_time": "2023-08-13T15:38:39.087Z"
   },
   {
    "duration": 60,
    "start_time": "2023-08-13T15:38:39.096Z"
   },
   {
    "duration": 11,
    "start_time": "2023-08-13T15:38:39.158Z"
   },
   {
    "duration": 3,
    "start_time": "2023-08-13T15:38:42.800Z"
   },
   {
    "duration": 155,
    "start_time": "2023-08-13T15:38:43.460Z"
   },
   {
    "duration": 12,
    "start_time": "2023-08-13T15:38:44.019Z"
   },
   {
    "duration": 28,
    "start_time": "2023-08-13T15:38:44.721Z"
   },
   {
    "duration": 3,
    "start_time": "2023-08-13T15:38:45.312Z"
   },
   {
    "duration": 4,
    "start_time": "2023-08-13T15:38:46.063Z"
   },
   {
    "duration": 6,
    "start_time": "2023-08-13T15:38:46.401Z"
   },
   {
    "duration": 3,
    "start_time": "2023-08-13T15:38:46.729Z"
   },
   {
    "duration": 21,
    "start_time": "2023-08-13T15:38:47.107Z"
   },
   {
    "duration": 19,
    "start_time": "2023-08-13T15:38:47.642Z"
   },
   {
    "duration": 19,
    "start_time": "2023-08-13T15:38:48.009Z"
   },
   {
    "duration": 61,
    "start_time": "2023-08-13T15:38:48.368Z"
   },
   {
    "duration": 76,
    "start_time": "2023-08-13T15:38:48.757Z"
   },
   {
    "duration": 64,
    "start_time": "2023-08-13T15:38:49.138Z"
   },
   {
    "duration": 47,
    "start_time": "2023-08-13T15:38:49.701Z"
   },
   {
    "duration": 9,
    "start_time": "2023-08-13T15:38:50.109Z"
   },
   {
    "duration": 50,
    "start_time": "2023-08-13T15:38:50.454Z"
   },
   {
    "duration": 39,
    "start_time": "2023-08-13T15:38:51.867Z"
   },
   {
    "duration": 28,
    "start_time": "2023-08-13T15:38:52.293Z"
   },
   {
    "duration": 3,
    "start_time": "2023-08-13T15:38:52.864Z"
   },
   {
    "duration": 27,
    "start_time": "2023-08-13T15:38:53.231Z"
   },
   {
    "duration": 13,
    "start_time": "2023-08-13T15:38:53.411Z"
   },
   {
    "duration": 13,
    "start_time": "2023-08-13T15:38:53.621Z"
   },
   {
    "duration": 13,
    "start_time": "2023-08-13T15:38:53.820Z"
   },
   {
    "duration": 15,
    "start_time": "2023-08-13T15:38:54.021Z"
   },
   {
    "duration": 13,
    "start_time": "2023-08-13T15:38:54.212Z"
   },
   {
    "duration": 12,
    "start_time": "2023-08-13T15:38:54.608Z"
   },
   {
    "duration": 18,
    "start_time": "2023-08-13T15:38:55.574Z"
   },
   {
    "duration": 17,
    "start_time": "2023-08-13T15:38:55.751Z"
   },
   {
    "duration": 5,
    "start_time": "2023-08-13T15:38:56.149Z"
   },
   {
    "duration": 27,
    "start_time": "2023-08-13T15:38:56.535Z"
   },
   {
    "duration": 15,
    "start_time": "2023-08-13T15:38:57.059Z"
   },
   {
    "duration": 25,
    "start_time": "2023-08-13T15:38:57.602Z"
   },
   {
    "duration": 28,
    "start_time": "2023-08-13T15:38:57.924Z"
   },
   {
    "duration": 10,
    "start_time": "2023-08-13T15:39:48.701Z"
   },
   {
    "duration": 12,
    "start_time": "2023-08-13T15:40:02.930Z"
   },
   {
    "duration": 19,
    "start_time": "2023-08-13T15:40:05.435Z"
   },
   {
    "duration": 3,
    "start_time": "2023-08-13T15:40:06.109Z"
   },
   {
    "duration": 21,
    "start_time": "2023-08-13T15:40:06.414Z"
   },
   {
    "duration": 19,
    "start_time": "2023-08-13T15:40:06.605Z"
   },
   {
    "duration": 13,
    "start_time": "2023-08-13T15:40:06.764Z"
   },
   {
    "duration": 15,
    "start_time": "2023-08-13T15:40:06.954Z"
   },
   {
    "duration": 28,
    "start_time": "2023-08-13T15:40:07.124Z"
   },
   {
    "duration": 13,
    "start_time": "2023-08-13T15:40:07.309Z"
   },
   {
    "duration": 12,
    "start_time": "2023-08-13T15:40:07.653Z"
   },
   {
    "duration": 18,
    "start_time": "2023-08-13T15:41:19.281Z"
   },
   {
    "duration": 23,
    "start_time": "2023-08-13T15:41:22.301Z"
   },
   {
    "duration": 6,
    "start_time": "2023-08-13T15:41:22.614Z"
   },
   {
    "duration": 15,
    "start_time": "2023-08-13T15:43:07.650Z"
   },
   {
    "duration": 365,
    "start_time": "2023-08-13T15:44:38.004Z"
   },
   {
    "duration": 152,
    "start_time": "2023-08-13T15:44:38.371Z"
   },
   {
    "duration": 24,
    "start_time": "2023-08-13T15:44:38.525Z"
   },
   {
    "duration": 25,
    "start_time": "2023-08-13T15:44:38.551Z"
   },
   {
    "duration": 2,
    "start_time": "2023-08-13T15:44:38.577Z"
   },
   {
    "duration": 5,
    "start_time": "2023-08-13T15:44:38.580Z"
   },
   {
    "duration": 11,
    "start_time": "2023-08-13T15:44:38.587Z"
   },
   {
    "duration": 7,
    "start_time": "2023-08-13T15:44:38.599Z"
   },
   {
    "duration": 22,
    "start_time": "2023-08-13T15:44:38.607Z"
   },
   {
    "duration": 24,
    "start_time": "2023-08-13T15:44:38.632Z"
   },
   {
    "duration": 30,
    "start_time": "2023-08-13T15:44:38.658Z"
   },
   {
    "duration": 74,
    "start_time": "2023-08-13T15:44:38.690Z"
   },
   {
    "duration": 65,
    "start_time": "2023-08-13T15:44:38.765Z"
   },
   {
    "duration": 124,
    "start_time": "2023-08-13T15:44:38.832Z"
   },
   {
    "duration": 37,
    "start_time": "2023-08-13T15:44:38.958Z"
   },
   {
    "duration": 10,
    "start_time": "2023-08-13T15:44:38.996Z"
   },
   {
    "duration": 66,
    "start_time": "2023-08-13T15:44:39.007Z"
   },
   {
    "duration": 10,
    "start_time": "2023-08-13T15:44:39.075Z"
   },
   {
    "duration": 20,
    "start_time": "2023-08-13T15:44:39.138Z"
   },
   {
    "duration": 4,
    "start_time": "2023-08-13T15:44:39.160Z"
   },
   {
    "duration": 24,
    "start_time": "2023-08-13T15:44:39.165Z"
   },
   {
    "duration": 12,
    "start_time": "2023-08-13T15:44:39.190Z"
   },
   {
    "duration": 13,
    "start_time": "2023-08-13T15:44:39.204Z"
   },
   {
    "duration": 31,
    "start_time": "2023-08-13T15:44:39.219Z"
   },
   {
    "duration": 21,
    "start_time": "2023-08-13T15:44:39.252Z"
   },
   {
    "duration": 13,
    "start_time": "2023-08-13T15:44:39.275Z"
   },
   {
    "duration": 16,
    "start_time": "2023-08-13T15:44:39.289Z"
   },
   {
    "duration": 19,
    "start_time": "2023-08-13T15:44:39.308Z"
   },
   {
    "duration": 30,
    "start_time": "2023-08-13T15:44:39.328Z"
   },
   {
    "duration": 5,
    "start_time": "2023-08-13T15:44:39.359Z"
   },
   {
    "duration": 31,
    "start_time": "2023-08-13T15:44:39.365Z"
   },
   {
    "duration": 15,
    "start_time": "2023-08-13T15:44:39.397Z"
   },
   {
    "duration": 39,
    "start_time": "2023-08-13T15:44:39.414Z"
   },
   {
    "duration": 17,
    "start_time": "2023-08-13T15:44:39.455Z"
   },
   {
    "duration": 20,
    "start_time": "2023-08-13T15:44:39.473Z"
   },
   {
    "duration": 7,
    "start_time": "2023-08-13T15:44:39.495Z"
   },
   {
    "duration": 45,
    "start_time": "2023-08-13T15:44:39.504Z"
   },
   {
    "duration": 8,
    "start_time": "2023-08-13T15:44:39.550Z"
   },
   {
    "duration": 25,
    "start_time": "2023-08-13T15:45:25.228Z"
   },
   {
    "duration": 16,
    "start_time": "2023-08-13T15:45:25.901Z"
   },
   {
    "duration": 15,
    "start_time": "2023-08-13T15:47:29.733Z"
   },
   {
    "duration": 4,
    "start_time": "2023-08-13T15:50:19.109Z"
   },
   {
    "duration": 4,
    "start_time": "2023-08-13T15:51:15.386Z"
   },
   {
    "duration": 14,
    "start_time": "2023-08-13T15:51:42.508Z"
   },
   {
    "duration": 11,
    "start_time": "2023-08-13T15:51:42.705Z"
   },
   {
    "duration": 16,
    "start_time": "2023-08-13T15:51:43.970Z"
   },
   {
    "duration": 11,
    "start_time": "2023-08-13T15:51:44.144Z"
   },
   {
    "duration": 22,
    "start_time": "2023-08-13T15:51:44.834Z"
   },
   {
    "duration": 10,
    "start_time": "2023-08-13T15:51:45.198Z"
   },
   {
    "duration": 13,
    "start_time": "2023-08-13T15:51:45.562Z"
   },
   {
    "duration": 8,
    "start_time": "2023-08-13T15:51:45.953Z"
   },
   {
    "duration": 7,
    "start_time": "2023-08-13T15:52:21.316Z"
   },
   {
    "duration": 394,
    "start_time": "2023-08-13T15:53:28.450Z"
   },
   {
    "duration": 152,
    "start_time": "2023-08-13T15:53:28.849Z"
   },
   {
    "duration": 16,
    "start_time": "2023-08-13T15:53:29.002Z"
   },
   {
    "duration": 41,
    "start_time": "2023-08-13T15:53:29.019Z"
   },
   {
    "duration": 3,
    "start_time": "2023-08-13T15:53:29.063Z"
   },
   {
    "duration": 14,
    "start_time": "2023-08-13T15:53:29.067Z"
   },
   {
    "duration": 12,
    "start_time": "2023-08-13T15:53:29.083Z"
   },
   {
    "duration": 5,
    "start_time": "2023-08-13T15:53:29.096Z"
   },
   {
    "duration": 24,
    "start_time": "2023-08-13T15:53:29.102Z"
   },
   {
    "duration": 36,
    "start_time": "2023-08-13T15:53:29.127Z"
   },
   {
    "duration": 25,
    "start_time": "2023-08-13T15:53:29.164Z"
   },
   {
    "duration": 76,
    "start_time": "2023-08-13T15:53:29.190Z"
   },
   {
    "duration": 66,
    "start_time": "2023-08-13T15:53:29.268Z"
   },
   {
    "duration": 58,
    "start_time": "2023-08-13T15:53:29.338Z"
   },
   {
    "duration": 59,
    "start_time": "2023-08-13T15:53:29.398Z"
   },
   {
    "duration": 10,
    "start_time": "2023-08-13T15:53:29.458Z"
   },
   {
    "duration": 36,
    "start_time": "2023-08-13T15:53:29.469Z"
   },
   {
    "duration": 11,
    "start_time": "2023-08-13T15:53:29.507Z"
   },
   {
    "duration": 31,
    "start_time": "2023-08-13T15:53:29.520Z"
   },
   {
    "duration": 3,
    "start_time": "2023-08-13T15:53:29.553Z"
   },
   {
    "duration": 18,
    "start_time": "2023-08-13T15:53:29.557Z"
   },
   {
    "duration": 19,
    "start_time": "2023-08-13T15:53:29.576Z"
   },
   {
    "duration": 13,
    "start_time": "2023-08-13T15:53:29.596Z"
   },
   {
    "duration": 15,
    "start_time": "2023-08-13T15:53:29.610Z"
   },
   {
    "duration": 29,
    "start_time": "2023-08-13T15:53:29.626Z"
   },
   {
    "duration": 18,
    "start_time": "2023-08-13T15:53:29.657Z"
   },
   {
    "duration": 9,
    "start_time": "2023-08-13T15:53:29.676Z"
   },
   {
    "duration": 11,
    "start_time": "2023-08-13T15:53:29.686Z"
   },
   {
    "duration": 31,
    "start_time": "2023-08-13T15:53:29.698Z"
   },
   {
    "duration": 5,
    "start_time": "2023-08-13T15:53:29.731Z"
   },
   {
    "duration": 57,
    "start_time": "2023-08-13T15:53:29.737Z"
   },
   {
    "duration": 8,
    "start_time": "2023-08-13T15:53:29.796Z"
   },
   {
    "duration": 24,
    "start_time": "2023-08-13T15:53:29.806Z"
   },
   {
    "duration": 18,
    "start_time": "2023-08-13T15:53:29.831Z"
   },
   {
    "duration": 21,
    "start_time": "2023-08-13T15:53:29.851Z"
   },
   {
    "duration": 7,
    "start_time": "2023-08-13T15:53:29.874Z"
   },
   {
    "duration": 21,
    "start_time": "2023-08-13T15:53:29.882Z"
   },
   {
    "duration": 7,
    "start_time": "2023-08-13T15:53:29.904Z"
   },
   {
    "duration": 7,
    "start_time": "2023-08-13T15:54:02.208Z"
   },
   {
    "duration": 8,
    "start_time": "2023-08-13T15:55:07.037Z"
   },
   {
    "duration": 63,
    "start_time": "2023-08-13T15:55:28.011Z"
   },
   {
    "duration": 50,
    "start_time": "2023-08-13T15:55:36.257Z"
   },
   {
    "duration": 53,
    "start_time": "2023-08-13T15:55:41.551Z"
   },
   {
    "duration": 6,
    "start_time": "2023-08-13T15:55:47.350Z"
   },
   {
    "duration": 373,
    "start_time": "2023-08-13T15:56:07.252Z"
   },
   {
    "duration": 159,
    "start_time": "2023-08-13T15:56:07.627Z"
   },
   {
    "duration": 15,
    "start_time": "2023-08-13T15:56:07.787Z"
   },
   {
    "duration": 23,
    "start_time": "2023-08-13T15:56:07.804Z"
   },
   {
    "duration": 12,
    "start_time": "2023-08-13T15:56:07.837Z"
   },
   {
    "duration": 7,
    "start_time": "2023-08-13T15:56:07.851Z"
   },
   {
    "duration": 11,
    "start_time": "2023-08-13T15:56:07.860Z"
   },
   {
    "duration": 15,
    "start_time": "2023-08-13T15:56:07.873Z"
   },
   {
    "duration": 23,
    "start_time": "2023-08-13T15:56:07.889Z"
   },
   {
    "duration": 20,
    "start_time": "2023-08-13T15:56:07.914Z"
   },
   {
    "duration": 26,
    "start_time": "2023-08-13T15:56:07.936Z"
   },
   {
    "duration": 59,
    "start_time": "2023-08-13T15:56:07.963Z"
   },
   {
    "duration": 81,
    "start_time": "2023-08-13T15:56:08.023Z"
   },
   {
    "duration": 70,
    "start_time": "2023-08-13T15:56:08.105Z"
   },
   {
    "duration": 37,
    "start_time": "2023-08-13T15:56:08.176Z"
   },
   {
    "duration": 34,
    "start_time": "2023-08-13T15:56:08.214Z"
   },
   {
    "duration": 38,
    "start_time": "2023-08-13T15:56:08.250Z"
   },
   {
    "duration": 10,
    "start_time": "2023-08-13T15:56:08.289Z"
   },
   {
    "duration": 10,
    "start_time": "2023-08-13T15:56:08.300Z"
   },
   {
    "duration": 5,
    "start_time": "2023-08-13T15:56:08.311Z"
   },
   {
    "duration": 42,
    "start_time": "2023-08-13T15:56:08.317Z"
   },
   {
    "duration": 12,
    "start_time": "2023-08-13T15:56:08.360Z"
   },
   {
    "duration": 15,
    "start_time": "2023-08-13T15:56:08.373Z"
   },
   {
    "duration": 12,
    "start_time": "2023-08-13T15:56:08.389Z"
   },
   {
    "duration": 14,
    "start_time": "2023-08-13T15:56:08.402Z"
   },
   {
    "duration": 38,
    "start_time": "2023-08-13T15:56:08.417Z"
   },
   {
    "duration": 14,
    "start_time": "2023-08-13T15:56:08.457Z"
   },
   {
    "duration": 9,
    "start_time": "2023-08-13T15:56:08.475Z"
   },
   {
    "duration": 9,
    "start_time": "2023-08-13T15:56:08.486Z"
   },
   {
    "duration": 5,
    "start_time": "2023-08-13T15:56:08.497Z"
   },
   {
    "duration": 20,
    "start_time": "2023-08-13T15:56:08.503Z"
   },
   {
    "duration": 30,
    "start_time": "2023-08-13T15:56:08.525Z"
   },
   {
    "duration": 20,
    "start_time": "2023-08-13T15:56:08.557Z"
   },
   {
    "duration": 11,
    "start_time": "2023-08-13T15:56:08.578Z"
   },
   {
    "duration": 21,
    "start_time": "2023-08-13T15:56:08.591Z"
   },
   {
    "duration": 5,
    "start_time": "2023-08-13T15:56:08.614Z"
   },
   {
    "duration": 23,
    "start_time": "2023-08-13T15:56:08.638Z"
   },
   {
    "duration": 8,
    "start_time": "2023-08-13T15:56:08.664Z"
   },
   {
    "duration": 75,
    "start_time": "2023-08-13T15:56:55.718Z"
   },
   {
    "duration": 5,
    "start_time": "2023-08-13T15:56:56.614Z"
   },
   {
    "duration": 20,
    "start_time": "2023-08-13T15:57:10.897Z"
   },
   {
    "duration": 5,
    "start_time": "2023-08-13T15:57:11.955Z"
   },
   {
    "duration": 8,
    "start_time": "2023-08-13T15:57:55.893Z"
   },
   {
    "duration": 7,
    "start_time": "2023-08-13T15:58:55.732Z"
   },
   {
    "duration": 22,
    "start_time": "2023-08-13T15:59:02.183Z"
   },
   {
    "duration": 8,
    "start_time": "2023-08-13T15:59:03.225Z"
   },
   {
    "duration": 31,
    "start_time": "2023-08-13T15:59:47.117Z"
   },
   {
    "duration": 8,
    "start_time": "2023-08-13T15:59:47.911Z"
   },
   {
    "duration": 22,
    "start_time": "2023-08-13T16:00:25.111Z"
   },
   {
    "duration": 23,
    "start_time": "2023-08-13T16:00:41.589Z"
   },
   {
    "duration": 19,
    "start_time": "2023-08-13T16:00:47.390Z"
   },
   {
    "duration": 8,
    "start_time": "2023-08-13T16:00:48.255Z"
   },
   {
    "duration": 20,
    "start_time": "2023-08-13T16:01:36.091Z"
   },
   {
    "duration": 7,
    "start_time": "2023-08-13T16:01:36.817Z"
   },
   {
    "duration": 20,
    "start_time": "2023-08-13T16:01:51.051Z"
   },
   {
    "duration": 8,
    "start_time": "2023-08-13T16:01:51.819Z"
   },
   {
    "duration": 7,
    "start_time": "2023-08-13T16:02:27.012Z"
   },
   {
    "duration": 20,
    "start_time": "2023-08-13T16:02:58.954Z"
   },
   {
    "duration": 7,
    "start_time": "2023-08-13T16:02:59.513Z"
   },
   {
    "duration": 20,
    "start_time": "2023-08-13T16:03:14.722Z"
   },
   {
    "duration": 9,
    "start_time": "2023-08-13T16:03:15.351Z"
   },
   {
    "duration": 8,
    "start_time": "2023-08-13T16:03:43.433Z"
   },
   {
    "duration": 5,
    "start_time": "2023-08-13T16:03:44.339Z"
   },
   {
    "duration": 5,
    "start_time": "2023-08-13T16:04:16.920Z"
   },
   {
    "duration": 5,
    "start_time": "2023-08-13T16:04:17.814Z"
   }
  ],
  "colab": {
   "collapsed_sections": [
    "E0vqbgi9ay0H",
    "VUC88oWjTJw2"
   ],
   "provenance": []
  },
  "kernelspec": {
   "display_name": "Python 3 (ipykernel)",
   "language": "python",
   "name": "python3"
  },
  "language_info": {
   "codemirror_mode": {
    "name": "ipython",
    "version": 3
   },
   "file_extension": ".py",
   "mimetype": "text/x-python",
   "name": "python",
   "nbconvert_exporter": "python",
   "pygments_lexer": "ipython3",
   "version": "3.9.5"
  },
  "toc": {
   "base_numbering": 1,
   "nav_menu": {
    "height": "215px",
    "width": "403px"
   },
   "number_sections": true,
   "sideBar": true,
   "skip_h1_title": true,
   "title_cell": "Table of Contents",
   "title_sidebar": "Contents",
   "toc_cell": false,
   "toc_position": {
    "height": "calc(100% - 180px)",
    "left": "10px",
    "top": "150px",
    "width": "285.825px"
   },
   "toc_section_display": true,
   "toc_window_display": false
  }
 },
 "nbformat": 4,
 "nbformat_minor": 1
}
