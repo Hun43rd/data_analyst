{
 "cells": [
  {
   "cell_type": "markdown",
   "id": "3b83d41c",
   "metadata": {},
   "source": [
    "<font color='DarkBlue' size=+2><b>Комментарий ревьюера</b></font><br>\n",
    "<font color='DarkBlue'>Привет, Айнур! <br>Меня зовут Олег Мазуренко, и я буду проверять этот проект. Спасибо за проделанную работу! <br>Ко мне можно обращаться на «ты». Как мне обращаться, напиши.</font><br>\n",
    "<font color='DarkBlue'>Я буду использовать различные цвета, чтобы было удобнее воспринимать мои комментарии:</font><br>\n",
    "<font color='DarkBlue'>Синий текст &mdash; просто текст комментария.</font><br>\n",
    "<font color='DarkGreen'>👌 Зеленый текст &mdash; все отлично.</font><br>\n",
    "<font color='DarkMagenta'>👉 Фиолетовый текст &mdash; сделано все правильно, однако есть рекомендации, на что стоит обратить внимание. Реализованные рекомендации позволят нам наработать опыт решения задачи разными способами или посмотреть на задачу под иным углом.</font><br>\n",
    "<font color='Red'>🛠 Красный текст &mdash; есть недочеты, они иногда бывают. </font><br><font color='DarkBlue'>Любая ошибка это возможность посмотреть на задачу с другой стороны и освоить новые знания, по этому не надо расстраиваться, если они есть.</font><br>\n",
    "<font color='DarkBlue'>Обращаю внимание, что комментарии ревьюера после проверки удалять нельзя они помогают отследить логику исправления или изменения проекта. Это дополнительный навык при обучении. Свой исправляемый код лучше тоже не удалять, а ремить #, это позволит акцентировать изменения в ходе подготовки окончательного варианта проекта.<br>\n",
    "Ответы на мои комментарии лучше тоже помечать. \n",
    "Например: </font><font color='Blue'><b>Комментарий студента</b></font><br>\n",
    "<font color='DarkBlue'><b>Теперь посмотрим, что у нас получилось!</b></font>"
   ]
  },
  {
   "cell_type": "markdown",
   "id": "e51548b2",
   "metadata": {},
   "source": [
    "Комментарий студента:\n",
    "Привет, Олег. Ко мне можешь обращаться также на \"ты\" :)"
   ]
  },
  {
   "cell_type": "markdown",
   "id": "6afc7df6",
   "metadata": {},
   "source": [
    "<font color='DarkBlue'><b>Комментарий ревьюера 2</b></font><br>\n",
    "<font color='DarkGreen'>👌 Привет! Хорошо, пошел смотреть обновленный проект.</font>"
   ]
  },
  {
   "cell_type": "markdown",
   "id": "386f2ae7",
   "metadata": {
    "deletable": false,
    "editable": false,
    "id": "386f2ae7"
   },
   "source": [
    "# Исследование надежности заемщиков\n"
   ]
  },
  {
   "cell_type": "markdown",
   "id": "aeaa35a9",
   "metadata": {},
   "source": [
    "<font color='DarkBlue'><b>Комментарий ревьюера</b></font><br>\n",
    "<font color='DarkMagenta'>👉 Хочу обратить внимание, что во всех следующих проектах необходимо будет делать описание проекта. Где отразить какая цель исследования, какой контекст (особенности отрасли и данных), что планируем делать (план исследования). <br>В реальном проекте не будет инструкции и задач, которые необходимо выполнить, по этому будем учиться делать описание проекта самостоятельно.</font>"
   ]
  },
  {
   "cell_type": "markdown",
   "id": "ffe86f65",
   "metadata": {
    "deletable": false,
    "editable": false,
    "id": "ffe86f65"
   },
   "source": [
    "Во второй части проекта вы выполните шаги 3 и 4. Их вручную проверит ревьюер.\n",
    "Чтобы вам не пришлось писать код заново для шагов 1 и 2, мы добавили авторские решения в ячейки с кодом. \n",
    "\n"
   ]
  },
  {
   "cell_type": "markdown",
   "id": "26613308",
   "metadata": {
    "deletable": false,
    "editable": false,
    "id": "26613308"
   },
   "source": [
    "## Откройте таблицу и изучите общую информацию о данных"
   ]
  },
  {
   "cell_type": "markdown",
   "id": "3c9f838e",
   "metadata": {
    "deletable": false,
    "editable": false,
    "id": "3c9f838e"
   },
   "source": [
    "**Задание 1. Импортируйте библиотеку pandas. Считайте данные из csv-файла в датафрейм и сохраните в переменную `data`. Путь к файлу:**\n",
    "\n",
    "`/datasets/data.csv`"
   ]
  },
  {
   "cell_type": "code",
   "execution_count": 1,
   "id": "77a68a90",
   "metadata": {
    "deletable": false,
    "id": "77a68a90"
   },
   "outputs": [],
   "source": [
    "import pandas as pd\n",
    "\n",
    "try:\n",
    "    data = pd.read_csv('/datasets/data.csv')\n",
    "except:\n",
    "    data = pd.read_csv('https://code.s3.yandex.net/datasets/data.csv')"
   ]
  },
  {
   "cell_type": "markdown",
   "id": "45365635",
   "metadata": {
    "deletable": false,
    "editable": false,
    "id": "45365635"
   },
   "source": [
    "**Задание 2. Выведите первые 20 строчек датафрейма `data` на экран.**"
   ]
  },
  {
   "cell_type": "code",
   "execution_count": 2,
   "id": "b0451a9a",
   "metadata": {
    "deletable": false,
    "id": "b0451a9a",
    "outputId": "1a8f3ef2-d323-4ec2-ddf7-89670b5944c4"
   },
   "outputs": [
    {
     "data": {
      "text/html": [
       "<div>\n",
       "<style scoped>\n",
       "    .dataframe tbody tr th:only-of-type {\n",
       "        vertical-align: middle;\n",
       "    }\n",
       "\n",
       "    .dataframe tbody tr th {\n",
       "        vertical-align: top;\n",
       "    }\n",
       "\n",
       "    .dataframe thead th {\n",
       "        text-align: right;\n",
       "    }\n",
       "</style>\n",
       "<table border=\"1\" class=\"dataframe\">\n",
       "  <thead>\n",
       "    <tr style=\"text-align: right;\">\n",
       "      <th></th>\n",
       "      <th>children</th>\n",
       "      <th>days_employed</th>\n",
       "      <th>dob_years</th>\n",
       "      <th>education</th>\n",
       "      <th>education_id</th>\n",
       "      <th>family_status</th>\n",
       "      <th>family_status_id</th>\n",
       "      <th>gender</th>\n",
       "      <th>income_type</th>\n",
       "      <th>debt</th>\n",
       "      <th>total_income</th>\n",
       "      <th>purpose</th>\n",
       "    </tr>\n",
       "  </thead>\n",
       "  <tbody>\n",
       "    <tr>\n",
       "      <th>0</th>\n",
       "      <td>1</td>\n",
       "      <td>-8437.673028</td>\n",
       "      <td>42</td>\n",
       "      <td>высшее</td>\n",
       "      <td>0</td>\n",
       "      <td>женат / замужем</td>\n",
       "      <td>0</td>\n",
       "      <td>F</td>\n",
       "      <td>сотрудник</td>\n",
       "      <td>0</td>\n",
       "      <td>253875.639453</td>\n",
       "      <td>покупка жилья</td>\n",
       "    </tr>\n",
       "    <tr>\n",
       "      <th>1</th>\n",
       "      <td>1</td>\n",
       "      <td>-4024.803754</td>\n",
       "      <td>36</td>\n",
       "      <td>среднее</td>\n",
       "      <td>1</td>\n",
       "      <td>женат / замужем</td>\n",
       "      <td>0</td>\n",
       "      <td>F</td>\n",
       "      <td>сотрудник</td>\n",
       "      <td>0</td>\n",
       "      <td>112080.014102</td>\n",
       "      <td>приобретение автомобиля</td>\n",
       "    </tr>\n",
       "    <tr>\n",
       "      <th>2</th>\n",
       "      <td>0</td>\n",
       "      <td>-5623.422610</td>\n",
       "      <td>33</td>\n",
       "      <td>Среднее</td>\n",
       "      <td>1</td>\n",
       "      <td>женат / замужем</td>\n",
       "      <td>0</td>\n",
       "      <td>M</td>\n",
       "      <td>сотрудник</td>\n",
       "      <td>0</td>\n",
       "      <td>145885.952297</td>\n",
       "      <td>покупка жилья</td>\n",
       "    </tr>\n",
       "    <tr>\n",
       "      <th>3</th>\n",
       "      <td>3</td>\n",
       "      <td>-4124.747207</td>\n",
       "      <td>32</td>\n",
       "      <td>среднее</td>\n",
       "      <td>1</td>\n",
       "      <td>женат / замужем</td>\n",
       "      <td>0</td>\n",
       "      <td>M</td>\n",
       "      <td>сотрудник</td>\n",
       "      <td>0</td>\n",
       "      <td>267628.550329</td>\n",
       "      <td>дополнительное образование</td>\n",
       "    </tr>\n",
       "    <tr>\n",
       "      <th>4</th>\n",
       "      <td>0</td>\n",
       "      <td>340266.072047</td>\n",
       "      <td>53</td>\n",
       "      <td>среднее</td>\n",
       "      <td>1</td>\n",
       "      <td>гражданский брак</td>\n",
       "      <td>1</td>\n",
       "      <td>F</td>\n",
       "      <td>пенсионер</td>\n",
       "      <td>0</td>\n",
       "      <td>158616.077870</td>\n",
       "      <td>сыграть свадьбу</td>\n",
       "    </tr>\n",
       "    <tr>\n",
       "      <th>5</th>\n",
       "      <td>0</td>\n",
       "      <td>-926.185831</td>\n",
       "      <td>27</td>\n",
       "      <td>высшее</td>\n",
       "      <td>0</td>\n",
       "      <td>гражданский брак</td>\n",
       "      <td>1</td>\n",
       "      <td>M</td>\n",
       "      <td>компаньон</td>\n",
       "      <td>0</td>\n",
       "      <td>255763.565419</td>\n",
       "      <td>покупка жилья</td>\n",
       "    </tr>\n",
       "    <tr>\n",
       "      <th>6</th>\n",
       "      <td>0</td>\n",
       "      <td>-2879.202052</td>\n",
       "      <td>43</td>\n",
       "      <td>высшее</td>\n",
       "      <td>0</td>\n",
       "      <td>женат / замужем</td>\n",
       "      <td>0</td>\n",
       "      <td>F</td>\n",
       "      <td>компаньон</td>\n",
       "      <td>0</td>\n",
       "      <td>240525.971920</td>\n",
       "      <td>операции с жильем</td>\n",
       "    </tr>\n",
       "    <tr>\n",
       "      <th>7</th>\n",
       "      <td>0</td>\n",
       "      <td>-152.779569</td>\n",
       "      <td>50</td>\n",
       "      <td>СРЕДНЕЕ</td>\n",
       "      <td>1</td>\n",
       "      <td>женат / замужем</td>\n",
       "      <td>0</td>\n",
       "      <td>M</td>\n",
       "      <td>сотрудник</td>\n",
       "      <td>0</td>\n",
       "      <td>135823.934197</td>\n",
       "      <td>образование</td>\n",
       "    </tr>\n",
       "    <tr>\n",
       "      <th>8</th>\n",
       "      <td>2</td>\n",
       "      <td>-6929.865299</td>\n",
       "      <td>35</td>\n",
       "      <td>ВЫСШЕЕ</td>\n",
       "      <td>0</td>\n",
       "      <td>гражданский брак</td>\n",
       "      <td>1</td>\n",
       "      <td>F</td>\n",
       "      <td>сотрудник</td>\n",
       "      <td>0</td>\n",
       "      <td>95856.832424</td>\n",
       "      <td>на проведение свадьбы</td>\n",
       "    </tr>\n",
       "    <tr>\n",
       "      <th>9</th>\n",
       "      <td>0</td>\n",
       "      <td>-2188.756445</td>\n",
       "      <td>41</td>\n",
       "      <td>среднее</td>\n",
       "      <td>1</td>\n",
       "      <td>женат / замужем</td>\n",
       "      <td>0</td>\n",
       "      <td>M</td>\n",
       "      <td>сотрудник</td>\n",
       "      <td>0</td>\n",
       "      <td>144425.938277</td>\n",
       "      <td>покупка жилья для семьи</td>\n",
       "    </tr>\n",
       "    <tr>\n",
       "      <th>10</th>\n",
       "      <td>2</td>\n",
       "      <td>-4171.483647</td>\n",
       "      <td>36</td>\n",
       "      <td>высшее</td>\n",
       "      <td>0</td>\n",
       "      <td>женат / замужем</td>\n",
       "      <td>0</td>\n",
       "      <td>M</td>\n",
       "      <td>компаньон</td>\n",
       "      <td>0</td>\n",
       "      <td>113943.491460</td>\n",
       "      <td>покупка недвижимости</td>\n",
       "    </tr>\n",
       "    <tr>\n",
       "      <th>11</th>\n",
       "      <td>0</td>\n",
       "      <td>-792.701887</td>\n",
       "      <td>40</td>\n",
       "      <td>среднее</td>\n",
       "      <td>1</td>\n",
       "      <td>женат / замужем</td>\n",
       "      <td>0</td>\n",
       "      <td>F</td>\n",
       "      <td>сотрудник</td>\n",
       "      <td>0</td>\n",
       "      <td>77069.234271</td>\n",
       "      <td>покупка коммерческой недвижимости</td>\n",
       "    </tr>\n",
       "    <tr>\n",
       "      <th>12</th>\n",
       "      <td>0</td>\n",
       "      <td>NaN</td>\n",
       "      <td>65</td>\n",
       "      <td>среднее</td>\n",
       "      <td>1</td>\n",
       "      <td>гражданский брак</td>\n",
       "      <td>1</td>\n",
       "      <td>M</td>\n",
       "      <td>пенсионер</td>\n",
       "      <td>0</td>\n",
       "      <td>NaN</td>\n",
       "      <td>сыграть свадьбу</td>\n",
       "    </tr>\n",
       "    <tr>\n",
       "      <th>13</th>\n",
       "      <td>0</td>\n",
       "      <td>-1846.641941</td>\n",
       "      <td>54</td>\n",
       "      <td>неоконченное высшее</td>\n",
       "      <td>2</td>\n",
       "      <td>женат / замужем</td>\n",
       "      <td>0</td>\n",
       "      <td>F</td>\n",
       "      <td>сотрудник</td>\n",
       "      <td>0</td>\n",
       "      <td>130458.228857</td>\n",
       "      <td>приобретение автомобиля</td>\n",
       "    </tr>\n",
       "    <tr>\n",
       "      <th>14</th>\n",
       "      <td>0</td>\n",
       "      <td>-1844.956182</td>\n",
       "      <td>56</td>\n",
       "      <td>высшее</td>\n",
       "      <td>0</td>\n",
       "      <td>гражданский брак</td>\n",
       "      <td>1</td>\n",
       "      <td>F</td>\n",
       "      <td>компаньон</td>\n",
       "      <td>1</td>\n",
       "      <td>165127.911772</td>\n",
       "      <td>покупка жилой недвижимости</td>\n",
       "    </tr>\n",
       "    <tr>\n",
       "      <th>15</th>\n",
       "      <td>1</td>\n",
       "      <td>-972.364419</td>\n",
       "      <td>26</td>\n",
       "      <td>среднее</td>\n",
       "      <td>1</td>\n",
       "      <td>женат / замужем</td>\n",
       "      <td>0</td>\n",
       "      <td>F</td>\n",
       "      <td>сотрудник</td>\n",
       "      <td>0</td>\n",
       "      <td>116820.904450</td>\n",
       "      <td>строительство собственной недвижимости</td>\n",
       "    </tr>\n",
       "    <tr>\n",
       "      <th>16</th>\n",
       "      <td>0</td>\n",
       "      <td>-1719.934226</td>\n",
       "      <td>35</td>\n",
       "      <td>среднее</td>\n",
       "      <td>1</td>\n",
       "      <td>женат / замужем</td>\n",
       "      <td>0</td>\n",
       "      <td>F</td>\n",
       "      <td>сотрудник</td>\n",
       "      <td>0</td>\n",
       "      <td>289202.704229</td>\n",
       "      <td>недвижимость</td>\n",
       "    </tr>\n",
       "    <tr>\n",
       "      <th>17</th>\n",
       "      <td>0</td>\n",
       "      <td>-2369.999720</td>\n",
       "      <td>33</td>\n",
       "      <td>высшее</td>\n",
       "      <td>0</td>\n",
       "      <td>гражданский брак</td>\n",
       "      <td>1</td>\n",
       "      <td>M</td>\n",
       "      <td>сотрудник</td>\n",
       "      <td>0</td>\n",
       "      <td>90410.586745</td>\n",
       "      <td>строительство недвижимости</td>\n",
       "    </tr>\n",
       "    <tr>\n",
       "      <th>18</th>\n",
       "      <td>0</td>\n",
       "      <td>400281.136913</td>\n",
       "      <td>53</td>\n",
       "      <td>среднее</td>\n",
       "      <td>1</td>\n",
       "      <td>вдовец / вдова</td>\n",
       "      <td>2</td>\n",
       "      <td>F</td>\n",
       "      <td>пенсионер</td>\n",
       "      <td>0</td>\n",
       "      <td>56823.777243</td>\n",
       "      <td>на покупку подержанного автомобиля</td>\n",
       "    </tr>\n",
       "    <tr>\n",
       "      <th>19</th>\n",
       "      <td>0</td>\n",
       "      <td>-10038.818549</td>\n",
       "      <td>48</td>\n",
       "      <td>СРЕДНЕЕ</td>\n",
       "      <td>1</td>\n",
       "      <td>в разводе</td>\n",
       "      <td>3</td>\n",
       "      <td>F</td>\n",
       "      <td>сотрудник</td>\n",
       "      <td>0</td>\n",
       "      <td>242831.107982</td>\n",
       "      <td>на покупку своего автомобиля</td>\n",
       "    </tr>\n",
       "  </tbody>\n",
       "</table>\n",
       "</div>"
      ],
      "text/plain": [
       "    children  days_employed  dob_years            education  education_id  \\\n",
       "0          1   -8437.673028         42               высшее             0   \n",
       "1          1   -4024.803754         36              среднее             1   \n",
       "2          0   -5623.422610         33              Среднее             1   \n",
       "3          3   -4124.747207         32              среднее             1   \n",
       "4          0  340266.072047         53              среднее             1   \n",
       "5          0    -926.185831         27               высшее             0   \n",
       "6          0   -2879.202052         43               высшее             0   \n",
       "7          0    -152.779569         50              СРЕДНЕЕ             1   \n",
       "8          2   -6929.865299         35               ВЫСШЕЕ             0   \n",
       "9          0   -2188.756445         41              среднее             1   \n",
       "10         2   -4171.483647         36               высшее             0   \n",
       "11         0    -792.701887         40              среднее             1   \n",
       "12         0            NaN         65              среднее             1   \n",
       "13         0   -1846.641941         54  неоконченное высшее             2   \n",
       "14         0   -1844.956182         56               высшее             0   \n",
       "15         1    -972.364419         26              среднее             1   \n",
       "16         0   -1719.934226         35              среднее             1   \n",
       "17         0   -2369.999720         33               высшее             0   \n",
       "18         0  400281.136913         53              среднее             1   \n",
       "19         0  -10038.818549         48              СРЕДНЕЕ             1   \n",
       "\n",
       "       family_status  family_status_id gender income_type  debt  \\\n",
       "0    женат / замужем                 0      F   сотрудник     0   \n",
       "1    женат / замужем                 0      F   сотрудник     0   \n",
       "2    женат / замужем                 0      M   сотрудник     0   \n",
       "3    женат / замужем                 0      M   сотрудник     0   \n",
       "4   гражданский брак                 1      F   пенсионер     0   \n",
       "5   гражданский брак                 1      M   компаньон     0   \n",
       "6    женат / замужем                 0      F   компаньон     0   \n",
       "7    женат / замужем                 0      M   сотрудник     0   \n",
       "8   гражданский брак                 1      F   сотрудник     0   \n",
       "9    женат / замужем                 0      M   сотрудник     0   \n",
       "10   женат / замужем                 0      M   компаньон     0   \n",
       "11   женат / замужем                 0      F   сотрудник     0   \n",
       "12  гражданский брак                 1      M   пенсионер     0   \n",
       "13   женат / замужем                 0      F   сотрудник     0   \n",
       "14  гражданский брак                 1      F   компаньон     1   \n",
       "15   женат / замужем                 0      F   сотрудник     0   \n",
       "16   женат / замужем                 0      F   сотрудник     0   \n",
       "17  гражданский брак                 1      M   сотрудник     0   \n",
       "18    вдовец / вдова                 2      F   пенсионер     0   \n",
       "19         в разводе                 3      F   сотрудник     0   \n",
       "\n",
       "     total_income                                 purpose  \n",
       "0   253875.639453                           покупка жилья  \n",
       "1   112080.014102                 приобретение автомобиля  \n",
       "2   145885.952297                           покупка жилья  \n",
       "3   267628.550329              дополнительное образование  \n",
       "4   158616.077870                         сыграть свадьбу  \n",
       "5   255763.565419                           покупка жилья  \n",
       "6   240525.971920                       операции с жильем  \n",
       "7   135823.934197                             образование  \n",
       "8    95856.832424                   на проведение свадьбы  \n",
       "9   144425.938277                 покупка жилья для семьи  \n",
       "10  113943.491460                    покупка недвижимости  \n",
       "11   77069.234271       покупка коммерческой недвижимости  \n",
       "12            NaN                         сыграть свадьбу  \n",
       "13  130458.228857                 приобретение автомобиля  \n",
       "14  165127.911772              покупка жилой недвижимости  \n",
       "15  116820.904450  строительство собственной недвижимости  \n",
       "16  289202.704229                            недвижимость  \n",
       "17   90410.586745              строительство недвижимости  \n",
       "18   56823.777243      на покупку подержанного автомобиля  \n",
       "19  242831.107982            на покупку своего автомобиля  "
      ]
     },
     "execution_count": 2,
     "metadata": {},
     "output_type": "execute_result"
    }
   ],
   "source": [
    "data.head(20)"
   ]
  },
  {
   "cell_type": "markdown",
   "id": "0ed8f27f",
   "metadata": {
    "deletable": false,
    "editable": false,
    "id": "0ed8f27f"
   },
   "source": [
    "**Задание 3. Выведите основную информацию о датафрейме с помощью метода `info()`.**"
   ]
  },
  {
   "cell_type": "code",
   "execution_count": 3,
   "id": "ab3f863b",
   "metadata": {
    "deletable": false,
    "id": "ab3f863b",
    "outputId": "15376089-8dad-46c9-b520-c05248d43158"
   },
   "outputs": [
    {
     "name": "stdout",
     "output_type": "stream",
     "text": [
      "<class 'pandas.core.frame.DataFrame'>\n",
      "RangeIndex: 21525 entries, 0 to 21524\n",
      "Data columns (total 12 columns):\n",
      " #   Column            Non-Null Count  Dtype  \n",
      "---  ------            --------------  -----  \n",
      " 0   children          21525 non-null  int64  \n",
      " 1   days_employed     19351 non-null  float64\n",
      " 2   dob_years         21525 non-null  int64  \n",
      " 3   education         21525 non-null  object \n",
      " 4   education_id      21525 non-null  int64  \n",
      " 5   family_status     21525 non-null  object \n",
      " 6   family_status_id  21525 non-null  int64  \n",
      " 7   gender            21525 non-null  object \n",
      " 8   income_type       21525 non-null  object \n",
      " 9   debt              21525 non-null  int64  \n",
      " 10  total_income      19351 non-null  float64\n",
      " 11  purpose           21525 non-null  object \n",
      "dtypes: float64(2), int64(5), object(5)\n",
      "memory usage: 2.0+ MB\n"
     ]
    }
   ],
   "source": [
    "data.info()"
   ]
  },
  {
   "cell_type": "markdown",
   "id": "60e3e22d",
   "metadata": {
    "deletable": false,
    "editable": false,
    "id": "60e3e22d"
   },
   "source": [
    "## Предобработка данных"
   ]
  },
  {
   "cell_type": "markdown",
   "id": "03dc170c",
   "metadata": {
    "deletable": false,
    "editable": false,
    "id": "03dc170c"
   },
   "source": [
    "### Удаление пропусков"
   ]
  },
  {
   "cell_type": "markdown",
   "id": "a4f54eef",
   "metadata": {
    "deletable": false,
    "editable": false,
    "id": "a4f54eef"
   },
   "source": [
    "**Задание 4. Выведите количество пропущенных значений для каждого столбца. Используйте комбинацию двух методов.**"
   ]
  },
  {
   "cell_type": "code",
   "execution_count": 4,
   "id": "2dc372b2",
   "metadata": {
    "deletable": false,
    "id": "2dc372b2",
    "outputId": "81f4d817-781c-465c-ed15-91ce4446810d"
   },
   "outputs": [
    {
     "data": {
      "text/plain": [
       "children               0\n",
       "days_employed       2174\n",
       "dob_years              0\n",
       "education              0\n",
       "education_id           0\n",
       "family_status          0\n",
       "family_status_id       0\n",
       "gender                 0\n",
       "income_type            0\n",
       "debt                   0\n",
       "total_income        2174\n",
       "purpose                0\n",
       "dtype: int64"
      ]
     },
     "execution_count": 4,
     "metadata": {},
     "output_type": "execute_result"
    }
   ],
   "source": [
    "data.isna().sum()"
   ]
  },
  {
   "cell_type": "markdown",
   "id": "14f011b1",
   "metadata": {
    "deletable": false,
    "editable": false,
    "id": "14f011b1"
   },
   "source": [
    "**Задание 5. В двух столбцах есть пропущенные значения. Один из них — `days_employed`. Пропуски в этом столбце вы обработаете на следующем этапе. Другой столбец с пропущенными значениями — `total_income` — хранит данные о доходах. На сумму дохода сильнее всего влияет тип занятости, поэтому заполнить пропуски в этом столбце нужно медианным значением по каждому типу из столбца `income_type`. Например, у человека с типом занятости `сотрудник` пропуск в столбце `total_income` должен быть заполнен медианным доходом среди всех записей с тем же типом.**"
   ]
  },
  {
   "cell_type": "code",
   "execution_count": 5,
   "id": "bdabfb6e",
   "metadata": {
    "deletable": false,
    "id": "bdabfb6e"
   },
   "outputs": [],
   "source": [
    "for t in data['income_type'].unique():\n",
    "    data.loc[(data['income_type'] == t) & (data['total_income'].isna()), 'total_income'] = \\\n",
    "    data.loc[(data['income_type'] == t), 'total_income'].median()"
   ]
  },
  {
   "cell_type": "markdown",
   "id": "5be34059",
   "metadata": {
    "deletable": false,
    "editable": false,
    "id": "5be34059"
   },
   "source": [
    "### Обработка аномальных значений"
   ]
  },
  {
   "cell_type": "markdown",
   "id": "a87606cb",
   "metadata": {
    "deletable": false,
    "editable": false,
    "id": "a87606cb"
   },
   "source": [
    "**Задание 6. В данных могут встречаться артефакты (аномалии) — значения, которые не отражают действительность и появились по какой-то ошибке. таким артефактом будет отрицательное количество дней трудового стажа в столбце `days_employed`. Для реальных данных это нормально. Обработайте значения в этом столбце: замените все отрицательные значения положительными с помощью метода `abs()`.**"
   ]
  },
  {
   "cell_type": "code",
   "execution_count": 6,
   "id": "020c46cc",
   "metadata": {
    "deletable": false,
    "id": "020c46cc"
   },
   "outputs": [],
   "source": [
    "data['days_employed'] = data['days_employed'].abs()"
   ]
  },
  {
   "cell_type": "markdown",
   "id": "45538a3a",
   "metadata": {
    "deletable": false,
    "editable": false,
    "id": "45538a3a"
   },
   "source": [
    "**Задание 7. Для каждого типа занятости выведите медианное значение трудового стажа `days_employed` в днях.**"
   ]
  },
  {
   "cell_type": "code",
   "execution_count": 7,
   "id": "cd3e6328",
   "metadata": {
    "deletable": false,
    "id": "cd3e6328",
    "outputId": "801ef80e-522b-4668-f34e-565af7432bcf"
   },
   "outputs": [
    {
     "data": {
      "text/plain": [
       "income_type\n",
       "безработный        366413.652744\n",
       "в декрете            3296.759962\n",
       "госслужащий          2689.368353\n",
       "компаньон            1547.382223\n",
       "пенсионер          365213.306266\n",
       "предприниматель       520.848083\n",
       "сотрудник            1574.202821\n",
       "студент               578.751554\n",
       "Name: days_employed, dtype: float64"
      ]
     },
     "execution_count": 7,
     "metadata": {},
     "output_type": "execute_result"
    }
   ],
   "source": [
    "data.groupby('income_type')['days_employed'].agg('median')"
   ]
  },
  {
   "cell_type": "markdown",
   "id": "90c5f058",
   "metadata": {
    "deletable": false,
    "editable": false,
    "id": "90c5f058"
   },
   "source": [
    "У двух типов (безработные и пенсионеры) получатся аномально большие значения. Исправить такие значения сложно, поэтому оставьте их как есть."
   ]
  },
  {
   "cell_type": "markdown",
   "id": "9652e50d",
   "metadata": {
    "deletable": false,
    "editable": false,
    "id": "9652e50d"
   },
   "source": [
    "**Задание 8. Выведите перечень уникальных значений столбца `children`.**"
   ]
  },
  {
   "cell_type": "code",
   "execution_count": 8,
   "id": "dbb37b8e",
   "metadata": {
    "deletable": false,
    "id": "dbb37b8e",
    "outputId": "6975b15c-7f95-4697-d16d-a0c79b657b03"
   },
   "outputs": [
    {
     "data": {
      "text/plain": [
       "array([ 1,  0,  3,  2, -1,  4, 20,  5])"
      ]
     },
     "execution_count": 8,
     "metadata": {},
     "output_type": "execute_result"
    }
   ],
   "source": [
    "data['children'].unique()"
   ]
  },
  {
   "cell_type": "markdown",
   "id": "2b8b0715",
   "metadata": {
    "deletable": false,
    "editable": false,
    "id": "2b8b0715"
   },
   "source": [
    "**Задание 9. В столбце `children` есть два аномальных значения. Удалите строки, в которых встречаются такие аномальные значения из датафрейма `data`.**"
   ]
  },
  {
   "cell_type": "code",
   "execution_count": 9,
   "id": "20009df8",
   "metadata": {
    "deletable": false,
    "id": "20009df8"
   },
   "outputs": [],
   "source": [
    "data = data[(data['children'] != -1) & (data['children'] != 20)]"
   ]
  },
  {
   "cell_type": "markdown",
   "id": "8c6ac9f1",
   "metadata": {
    "deletable": false,
    "editable": false,
    "id": "8c6ac9f1"
   },
   "source": [
    "**Задание 10. Ещё раз выведите перечень уникальных значений столбца `children`, чтобы убедиться, что артефакты удалены.**"
   ]
  },
  {
   "cell_type": "code",
   "execution_count": 10,
   "id": "07337b81",
   "metadata": {
    "deletable": false,
    "id": "07337b81",
    "outputId": "b2097101-d49d-44d9-901b-32a65c9463d1"
   },
   "outputs": [
    {
     "data": {
      "text/plain": [
       "array([1, 0, 3, 2, 4, 5])"
      ]
     },
     "execution_count": 10,
     "metadata": {},
     "output_type": "execute_result"
    }
   ],
   "source": [
    "data['children'].unique()"
   ]
  },
  {
   "cell_type": "markdown",
   "id": "ee3f52d4",
   "metadata": {
    "deletable": false,
    "editable": false,
    "id": "ee3f52d4"
   },
   "source": [
    "### Удаление пропусков (продолжение)"
   ]
  },
  {
   "cell_type": "markdown",
   "id": "a700b0e4",
   "metadata": {
    "deletable": false,
    "editable": false,
    "id": "a700b0e4"
   },
   "source": [
    "**Задание 11. Заполните пропуски в столбце `days_employed` медианными значениями по каждого типа занятости `income_type`.**"
   ]
  },
  {
   "cell_type": "code",
   "execution_count": 11,
   "id": "61946b83",
   "metadata": {
    "deletable": false,
    "id": "61946b83"
   },
   "outputs": [],
   "source": [
    "for t in data['income_type'].unique():\n",
    "    data.loc[(data['income_type'] == t) & (data['days_employed'].isna()), 'days_employed'] = \\\n",
    "    data.loc[(data['income_type'] == t), 'days_employed'].median()"
   ]
  },
  {
   "cell_type": "markdown",
   "id": "550dcd9b",
   "metadata": {
    "deletable": false,
    "editable": false,
    "id": "550dcd9b"
   },
   "source": [
    "**Задание 12. Убедитесь, что все пропуски заполнены. Проверьте себя и ещё раз выведите количество пропущенных значений для каждого столбца с помощью двух методов.**"
   ]
  },
  {
   "cell_type": "code",
   "execution_count": 12,
   "id": "937c7014",
   "metadata": {
    "deletable": false,
    "id": "937c7014",
    "outputId": "8da1e4e1-358e-4e87-98c9-f261bce0a7b2"
   },
   "outputs": [
    {
     "data": {
      "text/plain": [
       "children            0\n",
       "days_employed       0\n",
       "dob_years           0\n",
       "education           0\n",
       "education_id        0\n",
       "family_status       0\n",
       "family_status_id    0\n",
       "gender              0\n",
       "income_type         0\n",
       "debt                0\n",
       "total_income        0\n",
       "purpose             0\n",
       "dtype: int64"
      ]
     },
     "execution_count": 12,
     "metadata": {},
     "output_type": "execute_result"
    }
   ],
   "source": [
    "data.isna().sum()"
   ]
  },
  {
   "cell_type": "markdown",
   "id": "d522e295",
   "metadata": {
    "deletable": false,
    "editable": false,
    "id": "d522e295"
   },
   "source": [
    "### Изменение типов данных"
   ]
  },
  {
   "cell_type": "markdown",
   "id": "c229c581",
   "metadata": {
    "deletable": false,
    "editable": false,
    "id": "c229c581"
   },
   "source": [
    "**Задание 13. Замените вещественный тип данных в столбце `total_income` на целочисленный с помощью метода `astype()`.**"
   ]
  },
  {
   "cell_type": "code",
   "execution_count": 13,
   "id": "31036462",
   "metadata": {
    "deletable": false,
    "id": "31036462"
   },
   "outputs": [],
   "source": [
    "data['total_income'] = data['total_income'].astype(int)"
   ]
  },
  {
   "cell_type": "markdown",
   "id": "b8e3d1d9",
   "metadata": {
    "deletable": false,
    "editable": false,
    "id": "b8e3d1d9"
   },
   "source": [
    "### Обработка дубликатов"
   ]
  },
  {
   "cell_type": "markdown",
   "id": "9be53c49",
   "metadata": {
    "deletable": false,
    "editable": false,
    "id": "9be53c49"
   },
   "source": [
    "**Задание 14. Обработайте неявные дубликаты в столбце `education`. В этом столбце есть одни и те же значения, но записанные по-разному: с использованием заглавных и строчных букв. Приведите их к нижнему регистру.**"
   ]
  },
  {
   "cell_type": "code",
   "execution_count": 14,
   "id": "d89e73e1",
   "metadata": {
    "deletable": false,
    "id": "d89e73e1"
   },
   "outputs": [],
   "source": [
    "data['education'] = data['education'].str.lower()"
   ]
  },
  {
   "cell_type": "markdown",
   "id": "01d4500e",
   "metadata": {
    "deletable": false,
    "editable": false,
    "id": "01d4500e"
   },
   "source": [
    "**Задание 15. Выведите на экран количество строк-дубликатов в данных. Если такие строки присутствуют, удалите их.**"
   ]
  },
  {
   "cell_type": "code",
   "execution_count": 15,
   "id": "e10efb23",
   "metadata": {
    "deletable": false,
    "id": "e10efb23",
    "outputId": "9684deba-1934-42d1-99e1-cda61740f822"
   },
   "outputs": [
    {
     "data": {
      "text/plain": [
       "71"
      ]
     },
     "execution_count": 15,
     "metadata": {},
     "output_type": "execute_result"
    }
   ],
   "source": [
    "data.duplicated().sum()"
   ]
  },
  {
   "cell_type": "code",
   "execution_count": 16,
   "id": "df853f20",
   "metadata": {
    "deletable": false,
    "id": "df853f20"
   },
   "outputs": [],
   "source": [
    "data = data.drop_duplicates()"
   ]
  },
  {
   "cell_type": "markdown",
   "id": "627be38f",
   "metadata": {
    "deletable": false,
    "editable": false,
    "id": "627be38f"
   },
   "source": [
    "### Категоризация данных"
   ]
  },
  {
   "cell_type": "markdown",
   "id": "4684c3e0",
   "metadata": {
    "deletable": false,
    "editable": false,
    "id": "4684c3e0"
   },
   "source": [
    "**Задание 16. На основании диапазонов, указанных ниже, создайте в датафрейме `data` столбец `total_income_category` с категориями:**\n",
    "\n",
    "- 0–30000 — `'E'`;\n",
    "- 30001–50000 — `'D'`;\n",
    "- 50001–200000 — `'C'`;\n",
    "- 200001–1000000 — `'B'`;\n",
    "- 1000001 и выше — `'A'`.\n",
    "\n",
    "\n",
    "**Например, кредитополучателю с доходом 25000 нужно назначить категорию `'E'`, а клиенту, получающему 235000, — `'B'`. Используйте собственную функцию с именем `categorize_income()` и метод `apply()`.**"
   ]
  },
  {
   "cell_type": "code",
   "execution_count": 17,
   "id": "78965238",
   "metadata": {
    "deletable": false,
    "id": "78965238"
   },
   "outputs": [],
   "source": [
    "def categorize_income(income):\n",
    "    try:\n",
    "        if 0 <= income <= 30000:\n",
    "            return 'E'\n",
    "        elif 30001 <= income <= 50000:\n",
    "            return 'D'\n",
    "        elif 50001 <= income <= 200000:\n",
    "            return 'C'\n",
    "        elif 200001 <= income <= 1000000:\n",
    "            return 'B'\n",
    "        elif income >= 1000001:\n",
    "            return 'A'\n",
    "    except:\n",
    "        pass"
   ]
  },
  {
   "cell_type": "code",
   "execution_count": 18,
   "id": "0980ada1",
   "metadata": {
    "deletable": false,
    "id": "0980ada1"
   },
   "outputs": [],
   "source": [
    "data['total_income_category'] = data['total_income'].apply(categorize_income)"
   ]
  },
  {
   "cell_type": "markdown",
   "id": "9917bba0",
   "metadata": {
    "deletable": false,
    "editable": false,
    "id": "9917bba0"
   },
   "source": [
    "**Задание 17. Выведите на экран перечень уникальных целей взятия кредита из столбца `purpose`.**"
   ]
  },
  {
   "cell_type": "code",
   "execution_count": 19,
   "id": "ee07b65e",
   "metadata": {
    "deletable": false,
    "id": "ee07b65e",
    "outputId": "673c12d9-7d7e-4ae0-9812-c622c89dd244"
   },
   "outputs": [
    {
     "data": {
      "text/plain": [
       "array(['покупка жилья', 'приобретение автомобиля',\n",
       "       'дополнительное образование', 'сыграть свадьбу',\n",
       "       'операции с жильем', 'образование', 'на проведение свадьбы',\n",
       "       'покупка жилья для семьи', 'покупка недвижимости',\n",
       "       'покупка коммерческой недвижимости', 'покупка жилой недвижимости',\n",
       "       'строительство собственной недвижимости', 'недвижимость',\n",
       "       'строительство недвижимости', 'на покупку подержанного автомобиля',\n",
       "       'на покупку своего автомобиля',\n",
       "       'операции с коммерческой недвижимостью',\n",
       "       'строительство жилой недвижимости', 'жилье',\n",
       "       'операции со своей недвижимостью', 'автомобили',\n",
       "       'заняться образованием', 'сделка с подержанным автомобилем',\n",
       "       'получение образования', 'автомобиль', 'свадьба',\n",
       "       'получение дополнительного образования', 'покупка своего жилья',\n",
       "       'операции с недвижимостью', 'получение высшего образования',\n",
       "       'свой автомобиль', 'сделка с автомобилем',\n",
       "       'профильное образование', 'высшее образование',\n",
       "       'покупка жилья для сдачи', 'на покупку автомобиля', 'ремонт жилью',\n",
       "       'заняться высшим образованием'], dtype=object)"
      ]
     },
     "execution_count": 19,
     "metadata": {},
     "output_type": "execute_result"
    }
   ],
   "source": [
    "data['purpose'].unique()"
   ]
  },
  {
   "cell_type": "markdown",
   "id": "52b79d56",
   "metadata": {
    "deletable": false,
    "editable": false,
    "id": "52b79d56"
   },
   "source": [
    "**Задание 18. Создайте функцию, которая на основании данных из столбца `purpose` сформирует новый столбец `purpose_category`, в который войдут следующие категории:**\n",
    "\n",
    "- `'операции с автомобилем'`,\n",
    "- `'операции с недвижимостью'`,\n",
    "- `'проведение свадьбы'`,\n",
    "- `'получение образования'`.\n",
    "\n",
    "**Например, если в столбце `purpose` находится подстрока `'на покупку автомобиля'`, то в столбце `purpose_category` должна появиться строка `'операции с автомобилем'`.**\n",
    "\n",
    "**Используйте собственную функцию с именем `categorize_purpose()` и метод `apply()`. Изучите данные в столбце `purpose` и определите, какие подстроки помогут вам правильно определить категорию.**"
   ]
  },
  {
   "cell_type": "code",
   "execution_count": 20,
   "id": "be41da5d",
   "metadata": {
    "deletable": false,
    "id": "be41da5d"
   },
   "outputs": [],
   "source": [
    "def categorize_purpose(row):\n",
    "    try:\n",
    "        if 'автом' in row:\n",
    "            return 'операции с автомобилем'\n",
    "        elif 'жил' in row or 'недвиж' in row:\n",
    "            return 'операции с недвижимостью'\n",
    "        elif 'свад' in row:\n",
    "            return 'проведение свадьбы'\n",
    "        elif 'образов' in row:\n",
    "            return 'получение образования'\n",
    "    except:\n",
    "        return 'нет категории'"
   ]
  },
  {
   "cell_type": "code",
   "execution_count": 21,
   "id": "94c4a19a",
   "metadata": {
    "deletable": false,
    "id": "94c4a19a"
   },
   "outputs": [
    {
     "data": {
      "text/html": [
       "<div>\n",
       "<style scoped>\n",
       "    .dataframe tbody tr th:only-of-type {\n",
       "        vertical-align: middle;\n",
       "    }\n",
       "\n",
       "    .dataframe tbody tr th {\n",
       "        vertical-align: top;\n",
       "    }\n",
       "\n",
       "    .dataframe thead th {\n",
       "        text-align: right;\n",
       "    }\n",
       "</style>\n",
       "<table border=\"1\" class=\"dataframe\">\n",
       "  <thead>\n",
       "    <tr style=\"text-align: right;\">\n",
       "      <th></th>\n",
       "      <th>index</th>\n",
       "      <th>children</th>\n",
       "      <th>days_employed</th>\n",
       "      <th>dob_years</th>\n",
       "      <th>education</th>\n",
       "      <th>education_id</th>\n",
       "      <th>family_status</th>\n",
       "      <th>family_status_id</th>\n",
       "      <th>gender</th>\n",
       "      <th>income_type</th>\n",
       "      <th>debt</th>\n",
       "      <th>total_income</th>\n",
       "      <th>purpose</th>\n",
       "      <th>total_income_category</th>\n",
       "      <th>purpose_category</th>\n",
       "    </tr>\n",
       "  </thead>\n",
       "  <tbody>\n",
       "    <tr>\n",
       "      <th>0</th>\n",
       "      <td>0</td>\n",
       "      <td>1</td>\n",
       "      <td>8437.673028</td>\n",
       "      <td>42</td>\n",
       "      <td>высшее</td>\n",
       "      <td>0</td>\n",
       "      <td>женат / замужем</td>\n",
       "      <td>0</td>\n",
       "      <td>F</td>\n",
       "      <td>сотрудник</td>\n",
       "      <td>0</td>\n",
       "      <td>253875</td>\n",
       "      <td>покупка жилья</td>\n",
       "      <td>B</td>\n",
       "      <td>операции с недвижимостью</td>\n",
       "    </tr>\n",
       "    <tr>\n",
       "      <th>1</th>\n",
       "      <td>1</td>\n",
       "      <td>1</td>\n",
       "      <td>4024.803754</td>\n",
       "      <td>36</td>\n",
       "      <td>среднее</td>\n",
       "      <td>1</td>\n",
       "      <td>женат / замужем</td>\n",
       "      <td>0</td>\n",
       "      <td>F</td>\n",
       "      <td>сотрудник</td>\n",
       "      <td>0</td>\n",
       "      <td>112080</td>\n",
       "      <td>приобретение автомобиля</td>\n",
       "      <td>C</td>\n",
       "      <td>операции с автомобилем</td>\n",
       "    </tr>\n",
       "    <tr>\n",
       "      <th>2</th>\n",
       "      <td>2</td>\n",
       "      <td>0</td>\n",
       "      <td>5623.422610</td>\n",
       "      <td>33</td>\n",
       "      <td>среднее</td>\n",
       "      <td>1</td>\n",
       "      <td>женат / замужем</td>\n",
       "      <td>0</td>\n",
       "      <td>M</td>\n",
       "      <td>сотрудник</td>\n",
       "      <td>0</td>\n",
       "      <td>145885</td>\n",
       "      <td>покупка жилья</td>\n",
       "      <td>C</td>\n",
       "      <td>операции с недвижимостью</td>\n",
       "    </tr>\n",
       "    <tr>\n",
       "      <th>3</th>\n",
       "      <td>3</td>\n",
       "      <td>3</td>\n",
       "      <td>4124.747207</td>\n",
       "      <td>32</td>\n",
       "      <td>среднее</td>\n",
       "      <td>1</td>\n",
       "      <td>женат / замужем</td>\n",
       "      <td>0</td>\n",
       "      <td>M</td>\n",
       "      <td>сотрудник</td>\n",
       "      <td>0</td>\n",
       "      <td>267628</td>\n",
       "      <td>дополнительное образование</td>\n",
       "      <td>B</td>\n",
       "      <td>получение образования</td>\n",
       "    </tr>\n",
       "    <tr>\n",
       "      <th>4</th>\n",
       "      <td>4</td>\n",
       "      <td>0</td>\n",
       "      <td>340266.072047</td>\n",
       "      <td>53</td>\n",
       "      <td>среднее</td>\n",
       "      <td>1</td>\n",
       "      <td>гражданский брак</td>\n",
       "      <td>1</td>\n",
       "      <td>F</td>\n",
       "      <td>пенсионер</td>\n",
       "      <td>0</td>\n",
       "      <td>158616</td>\n",
       "      <td>сыграть свадьбу</td>\n",
       "      <td>C</td>\n",
       "      <td>проведение свадьбы</td>\n",
       "    </tr>\n",
       "    <tr>\n",
       "      <th>...</th>\n",
       "      <td>...</td>\n",
       "      <td>...</td>\n",
       "      <td>...</td>\n",
       "      <td>...</td>\n",
       "      <td>...</td>\n",
       "      <td>...</td>\n",
       "      <td>...</td>\n",
       "      <td>...</td>\n",
       "      <td>...</td>\n",
       "      <td>...</td>\n",
       "      <td>...</td>\n",
       "      <td>...</td>\n",
       "      <td>...</td>\n",
       "      <td>...</td>\n",
       "      <td>...</td>\n",
       "    </tr>\n",
       "    <tr>\n",
       "      <th>21326</th>\n",
       "      <td>21520</td>\n",
       "      <td>1</td>\n",
       "      <td>4529.316663</td>\n",
       "      <td>43</td>\n",
       "      <td>среднее</td>\n",
       "      <td>1</td>\n",
       "      <td>гражданский брак</td>\n",
       "      <td>1</td>\n",
       "      <td>F</td>\n",
       "      <td>компаньон</td>\n",
       "      <td>0</td>\n",
       "      <td>224791</td>\n",
       "      <td>операции с жильем</td>\n",
       "      <td>B</td>\n",
       "      <td>операции с недвижимостью</td>\n",
       "    </tr>\n",
       "    <tr>\n",
       "      <th>21327</th>\n",
       "      <td>21521</td>\n",
       "      <td>0</td>\n",
       "      <td>343937.404131</td>\n",
       "      <td>67</td>\n",
       "      <td>среднее</td>\n",
       "      <td>1</td>\n",
       "      <td>женат / замужем</td>\n",
       "      <td>0</td>\n",
       "      <td>F</td>\n",
       "      <td>пенсионер</td>\n",
       "      <td>0</td>\n",
       "      <td>155999</td>\n",
       "      <td>сделка с автомобилем</td>\n",
       "      <td>C</td>\n",
       "      <td>операции с автомобилем</td>\n",
       "    </tr>\n",
       "    <tr>\n",
       "      <th>21328</th>\n",
       "      <td>21522</td>\n",
       "      <td>1</td>\n",
       "      <td>2113.346888</td>\n",
       "      <td>38</td>\n",
       "      <td>среднее</td>\n",
       "      <td>1</td>\n",
       "      <td>гражданский брак</td>\n",
       "      <td>1</td>\n",
       "      <td>M</td>\n",
       "      <td>сотрудник</td>\n",
       "      <td>1</td>\n",
       "      <td>89672</td>\n",
       "      <td>недвижимость</td>\n",
       "      <td>C</td>\n",
       "      <td>операции с недвижимостью</td>\n",
       "    </tr>\n",
       "    <tr>\n",
       "      <th>21329</th>\n",
       "      <td>21523</td>\n",
       "      <td>3</td>\n",
       "      <td>3112.481705</td>\n",
       "      <td>38</td>\n",
       "      <td>среднее</td>\n",
       "      <td>1</td>\n",
       "      <td>женат / замужем</td>\n",
       "      <td>0</td>\n",
       "      <td>M</td>\n",
       "      <td>сотрудник</td>\n",
       "      <td>1</td>\n",
       "      <td>244093</td>\n",
       "      <td>на покупку своего автомобиля</td>\n",
       "      <td>B</td>\n",
       "      <td>операции с автомобилем</td>\n",
       "    </tr>\n",
       "    <tr>\n",
       "      <th>21330</th>\n",
       "      <td>21524</td>\n",
       "      <td>2</td>\n",
       "      <td>1984.507589</td>\n",
       "      <td>40</td>\n",
       "      <td>среднее</td>\n",
       "      <td>1</td>\n",
       "      <td>женат / замужем</td>\n",
       "      <td>0</td>\n",
       "      <td>F</td>\n",
       "      <td>сотрудник</td>\n",
       "      <td>0</td>\n",
       "      <td>82047</td>\n",
       "      <td>на покупку автомобиля</td>\n",
       "      <td>C</td>\n",
       "      <td>операции с автомобилем</td>\n",
       "    </tr>\n",
       "  </tbody>\n",
       "</table>\n",
       "<p>21331 rows × 15 columns</p>\n",
       "</div>"
      ],
      "text/plain": [
       "       index  children  days_employed  dob_years education  education_id  \\\n",
       "0          0         1    8437.673028         42    высшее             0   \n",
       "1          1         1    4024.803754         36   среднее             1   \n",
       "2          2         0    5623.422610         33   среднее             1   \n",
       "3          3         3    4124.747207         32   среднее             1   \n",
       "4          4         0  340266.072047         53   среднее             1   \n",
       "...      ...       ...            ...        ...       ...           ...   \n",
       "21326  21520         1    4529.316663         43   среднее             1   \n",
       "21327  21521         0  343937.404131         67   среднее             1   \n",
       "21328  21522         1    2113.346888         38   среднее             1   \n",
       "21329  21523         3    3112.481705         38   среднее             1   \n",
       "21330  21524         2    1984.507589         40   среднее             1   \n",
       "\n",
       "          family_status  family_status_id gender income_type  debt  \\\n",
       "0       женат / замужем                 0      F   сотрудник     0   \n",
       "1       женат / замужем                 0      F   сотрудник     0   \n",
       "2       женат / замужем                 0      M   сотрудник     0   \n",
       "3       женат / замужем                 0      M   сотрудник     0   \n",
       "4      гражданский брак                 1      F   пенсионер     0   \n",
       "...                 ...               ...    ...         ...   ...   \n",
       "21326  гражданский брак                 1      F   компаньон     0   \n",
       "21327   женат / замужем                 0      F   пенсионер     0   \n",
       "21328  гражданский брак                 1      M   сотрудник     1   \n",
       "21329   женат / замужем                 0      M   сотрудник     1   \n",
       "21330   женат / замужем                 0      F   сотрудник     0   \n",
       "\n",
       "       total_income                       purpose total_income_category  \\\n",
       "0            253875                 покупка жилья                     B   \n",
       "1            112080       приобретение автомобиля                     C   \n",
       "2            145885                 покупка жилья                     C   \n",
       "3            267628    дополнительное образование                     B   \n",
       "4            158616               сыграть свадьбу                     C   \n",
       "...             ...                           ...                   ...   \n",
       "21326        224791             операции с жильем                     B   \n",
       "21327        155999          сделка с автомобилем                     C   \n",
       "21328         89672                  недвижимость                     C   \n",
       "21329        244093  на покупку своего автомобиля                     B   \n",
       "21330         82047         на покупку автомобиля                     C   \n",
       "\n",
       "               purpose_category  \n",
       "0      операции с недвижимостью  \n",
       "1        операции с автомобилем  \n",
       "2      операции с недвижимостью  \n",
       "3         получение образования  \n",
       "4            проведение свадьбы  \n",
       "...                         ...  \n",
       "21326  операции с недвижимостью  \n",
       "21327    операции с автомобилем  \n",
       "21328  операции с недвижимостью  \n",
       "21329    операции с автомобилем  \n",
       "21330    операции с автомобилем  \n",
       "\n",
       "[21331 rows x 15 columns]"
      ]
     },
     "execution_count": 21,
     "metadata": {},
     "output_type": "execute_result"
    }
   ],
   "source": [
    "data['purpose_category'] = data['purpose'].apply(categorize_purpose)\n",
    "data.reset_index()"
   ]
  },
  {
   "cell_type": "markdown",
   "id": "3d596c34",
   "metadata": {
    "deletable": false,
    "editable": false,
    "id": "3d596c34"
   },
   "source": [
    "### Шаг 3. Исследуйте данные и ответьте на вопросы"
   ]
  },
  {
   "cell_type": "markdown",
   "id": "648db036",
   "metadata": {
    "deletable": false,
    "editable": false,
    "id": "648db036"
   },
   "source": [
    "#### 3.1 Есть ли зависимость между количеством детей и возвратом кредита в срок?"
   ]
  },
  {
   "cell_type": "code",
   "execution_count": 22,
   "id": "7fcff25e",
   "metadata": {
    "deletable": false,
    "id": "7fcff25e"
   },
   "outputs": [
    {
     "data": {
      "text/html": [
       "<div>\n",
       "<style scoped>\n",
       "    .dataframe tbody tr th:only-of-type {\n",
       "        vertical-align: middle;\n",
       "    }\n",
       "\n",
       "    .dataframe tbody tr th {\n",
       "        vertical-align: top;\n",
       "    }\n",
       "\n",
       "    .dataframe thead tr th {\n",
       "        text-align: left;\n",
       "    }\n",
       "</style>\n",
       "<table border=\"1\" class=\"dataframe\">\n",
       "  <thead>\n",
       "    <tr>\n",
       "      <th></th>\n",
       "      <th>children</th>\n",
       "      <th>sum</th>\n",
       "      <th>count</th>\n",
       "      <th>ratio</th>\n",
       "    </tr>\n",
       "    <tr>\n",
       "      <th></th>\n",
       "      <th></th>\n",
       "      <th>debt</th>\n",
       "      <th>debt</th>\n",
       "      <th></th>\n",
       "    </tr>\n",
       "  </thead>\n",
       "  <tbody>\n",
       "    <tr>\n",
       "      <th>4</th>\n",
       "      <td>4</td>\n",
       "      <td>4</td>\n",
       "      <td>41</td>\n",
       "      <td>0.097561</td>\n",
       "    </tr>\n",
       "    <tr>\n",
       "      <th>2</th>\n",
       "      <td>2</td>\n",
       "      <td>194</td>\n",
       "      <td>2052</td>\n",
       "      <td>0.094542</td>\n",
       "    </tr>\n",
       "    <tr>\n",
       "      <th>1</th>\n",
       "      <td>1</td>\n",
       "      <td>444</td>\n",
       "      <td>4808</td>\n",
       "      <td>0.092346</td>\n",
       "    </tr>\n",
       "    <tr>\n",
       "      <th>3</th>\n",
       "      <td>3</td>\n",
       "      <td>27</td>\n",
       "      <td>330</td>\n",
       "      <td>0.081818</td>\n",
       "    </tr>\n",
       "    <tr>\n",
       "      <th>0</th>\n",
       "      <td>0</td>\n",
       "      <td>1063</td>\n",
       "      <td>14091</td>\n",
       "      <td>0.075438</td>\n",
       "    </tr>\n",
       "    <tr>\n",
       "      <th>5</th>\n",
       "      <td>5</td>\n",
       "      <td>0</td>\n",
       "      <td>9</td>\n",
       "      <td>0.000000</td>\n",
       "    </tr>\n",
       "  </tbody>\n",
       "</table>\n",
       "</div>"
      ],
      "text/plain": [
       "  children   sum  count     ratio\n",
       "            debt   debt          \n",
       "4        4     4     41  0.097561\n",
       "2        2   194   2052  0.094542\n",
       "1        1   444   4808  0.092346\n",
       "3        3    27    330  0.081818\n",
       "0        0  1063  14091  0.075438\n",
       "5        5     0      9  0.000000"
      ]
     },
     "execution_count": 22,
     "metadata": {},
     "output_type": "execute_result"
    }
   ],
   "source": [
    "data_pivot = data.pivot_table(index='children', values='debt', aggfunc=['sum', 'count']).reset_index()\n",
    "data_pivot['ratio'] = data_pivot['sum']/data_pivot['count']\n",
    "data_pivot.sort_values(by='ratio', ascending=False)"
   ]
  },
  {
   "cell_type": "markdown",
   "id": "1173763f",
   "metadata": {},
   "source": [
    "<font color='DarkBlue'><b>Комментарий ревьюера</b></font><br>\n",
    "<font color='DarkGreen'>👌 Хорошо, что создана сводная таблица со всеми необходимыми данными для анализа.</font><br>\n",
    "<font color='DarkMagenta'>👉 Можно сделать вот так, через функцию.</font>"
   ]
  },
  {
   "cell_type": "markdown",
   "id": "2b2c0a01",
   "metadata": {},
   "source": [
    "Комментарий студента: 👌"
   ]
  },
  {
   "cell_type": "code",
   "execution_count": 23,
   "id": "f59b6a16",
   "metadata": {},
   "outputs": [
    {
     "data": {
      "text/html": [
       "<style  type=\"text/css\" >\n",
       "#T_85702_row0_col0,#T_85702_row0_col1,#T_85702_row4_col2{\n",
       "            background-color:  #08306b;\n",
       "            color:  #f1f1f1;\n",
       "        }#T_85702_row0_col2{\n",
       "            background-color:  #1c6bb0;\n",
       "            color:  #f1f1f1;\n",
       "        }#T_85702_row1_col0{\n",
       "            background-color:  #a9cfe5;\n",
       "            color:  #000000;\n",
       "        }#T_85702_row1_col1{\n",
       "            background-color:  #8dc1dd;\n",
       "            color:  #000000;\n",
       "        }#T_85702_row1_col2{\n",
       "            background-color:  #083d7f;\n",
       "            color:  #f1f1f1;\n",
       "        }#T_85702_row2_col0{\n",
       "            background-color:  #dae8f6;\n",
       "            color:  #000000;\n",
       "        }#T_85702_row2_col1{\n",
       "            background-color:  #d3e4f3;\n",
       "            color:  #000000;\n",
       "        }#T_85702_row2_col2{\n",
       "            background-color:  #083776;\n",
       "            color:  #f1f1f1;\n",
       "        }#T_85702_row3_col0{\n",
       "            background-color:  #f3f8fe;\n",
       "            color:  #000000;\n",
       "        }#T_85702_row3_col1{\n",
       "            background-color:  #f2f8fd;\n",
       "            color:  #000000;\n",
       "        }#T_85702_row3_col2{\n",
       "            background-color:  #0f5aa3;\n",
       "            color:  #f1f1f1;\n",
       "        }#T_85702_row4_col0,#T_85702_row4_col1,#T_85702_row5_col0,#T_85702_row5_col1,#T_85702_row5_col2{\n",
       "            background-color:  #f7fbff;\n",
       "            color:  #000000;\n",
       "        }</style><table id=\"T_85702_\" ><thead>    <tr>        <th class=\"blank level0\" ></th>        <th class=\"col_heading level0 col0\" >Всего кредитополучателей</th>        <th class=\"col_heading level0 col1\" >Всего должников</th>        <th class=\"col_heading level0 col2\" >Доля должников</th>    </tr>    <tr>        <th class=\"index_name level0\" >children</th>        <th class=\"blank\" ></th>        <th class=\"blank\" ></th>        <th class=\"blank\" ></th>    </tr></thead><tbody>\n",
       "                <tr>\n",
       "                        <th id=\"T_85702_level0_row0\" class=\"row_heading level0 row0\" >0</th>\n",
       "                        <td id=\"T_85702_row0_col0\" class=\"data row0 col0\" >14091.000</td>\n",
       "                        <td id=\"T_85702_row0_col1\" class=\"data row0 col1\" >1063.000</td>\n",
       "                        <td id=\"T_85702_row0_col2\" class=\"data row0 col2\" >0.075</td>\n",
       "            </tr>\n",
       "            <tr>\n",
       "                        <th id=\"T_85702_level0_row1\" class=\"row_heading level0 row1\" >1</th>\n",
       "                        <td id=\"T_85702_row1_col0\" class=\"data row1 col0\" >4808.000</td>\n",
       "                        <td id=\"T_85702_row1_col1\" class=\"data row1 col1\" >444.000</td>\n",
       "                        <td id=\"T_85702_row1_col2\" class=\"data row1 col2\" >0.092</td>\n",
       "            </tr>\n",
       "            <tr>\n",
       "                        <th id=\"T_85702_level0_row2\" class=\"row_heading level0 row2\" >2</th>\n",
       "                        <td id=\"T_85702_row2_col0\" class=\"data row2 col0\" >2052.000</td>\n",
       "                        <td id=\"T_85702_row2_col1\" class=\"data row2 col1\" >194.000</td>\n",
       "                        <td id=\"T_85702_row2_col2\" class=\"data row2 col2\" >0.095</td>\n",
       "            </tr>\n",
       "            <tr>\n",
       "                        <th id=\"T_85702_level0_row3\" class=\"row_heading level0 row3\" >3</th>\n",
       "                        <td id=\"T_85702_row3_col0\" class=\"data row3 col0\" >330.000</td>\n",
       "                        <td id=\"T_85702_row3_col1\" class=\"data row3 col1\" >27.000</td>\n",
       "                        <td id=\"T_85702_row3_col2\" class=\"data row3 col2\" >0.082</td>\n",
       "            </tr>\n",
       "            <tr>\n",
       "                        <th id=\"T_85702_level0_row4\" class=\"row_heading level0 row4\" >4</th>\n",
       "                        <td id=\"T_85702_row4_col0\" class=\"data row4 col0\" >41.000</td>\n",
       "                        <td id=\"T_85702_row4_col1\" class=\"data row4 col1\" >4.000</td>\n",
       "                        <td id=\"T_85702_row4_col2\" class=\"data row4 col2\" >0.098</td>\n",
       "            </tr>\n",
       "            <tr>\n",
       "                        <th id=\"T_85702_level0_row5\" class=\"row_heading level0 row5\" >5</th>\n",
       "                        <td id=\"T_85702_row5_col0\" class=\"data row5 col0\" >9.000</td>\n",
       "                        <td id=\"T_85702_row5_col1\" class=\"data row5 col1\" >0.000</td>\n",
       "                        <td id=\"T_85702_row5_col2\" class=\"data row5 col2\" >0.000</td>\n",
       "            </tr>\n",
       "    </tbody></table>"
      ],
      "text/plain": [
       "<pandas.io.formats.style.Styler at 0x7fa66e08c9a0>"
      ]
     },
     "metadata": {},
     "output_type": "display_data"
    }
   ],
   "source": [
    "# Комментарий ревьюера\n",
    "# Создаем копию датасета, что бы не работать с исходным\n",
    "temp = data.copy()\n",
    "# Напишем функцию, так как все задачи аналогичны\n",
    "def que(category):\n",
    "    data_temp = temp.pivot_table(index=category, values='debt', aggfunc=['count', 'sum', 'mean'])\n",
    "    data_temp.columns = ['Всего кредитополучателей', 'Всего должников', 'Доля должников']\n",
    "    # Оформим таблицу цветным градиентом, но можно ее вывести и просто display(data_temp)\n",
    "    display(data_temp.style.format(\"{:.3f}\").background_gradient(cmap='Blues', axis=0))\n",
    "    \n",
    "que('children')"
   ]
  },
  {
   "cell_type": "markdown",
   "id": "2eb9088e",
   "metadata": {
    "deletable": false,
    "id": "2eb9088e"
   },
   "source": [
    "**Вывод:** В столбце ['count'] выведено количество клиентов, у которых нет детей. В столбце ['sum'] - количество клиентов, у которых есть задолженность. Колонка ['ratio'] - отношение у клиентов с задолженностью к общему количеству клиентов. Отсюда можно сделать следующие выводы:\n",
    "1. Количество клиентов без детей почти вдвое больше клиентов с детьми вместе взятые.\n"
   ]
  },
  {
   "cell_type": "code",
   "execution_count": 24,
   "id": "d9d0cd8c",
   "metadata": {},
   "outputs": [
    {
     "name": "stdout",
     "output_type": "stream",
     "text": [
      "debt    1.946271\n",
      "dtype: float64\n"
     ]
    }
   ],
   "source": [
    "print(data_pivot.loc[0, 'count']/data_pivot.loc[1:, 'count'].sum())"
   ]
  },
  {
   "cell_type": "markdown",
   "id": "7205f5f6",
   "metadata": {},
   "source": [
    "2. Если анализировать отдельно клиентов без детей и с детьми, то можно сделать вывод о наличии зависимости между количеством детей и возвратом кредита в срок, а именно, что у клиентов без детей меньше задолженностей в истории.\n",
    "3. Однако у клиентов, у которых трое детей, отношение задолженностей близко к отношению задолженностей клиентов, у которых нет детей.\n",
    "4. В моей понимании здесь можно объединить клиентов с детьми, у которых один ребенок или два. Во-первых, чтобы количество детей(1 или 2) было близко по значению к количеству клиентов без детей, так статистика выглядит надежнее. Во-вторых, по статистике Росстат'а(2021 год) общий суммарный коэффициент рождаемости составляет 1,504 ребенка на семью с детьми."
   ]
  },
  {
   "cell_type": "markdown",
   "id": "e637d32d",
   "metadata": {},
   "source": [
    "<font color='DarkBlue'><b>Комментарий ревьюера</b></font><br>\n",
    "<font color='DarkGreen'>👌 Правильный вывод, действительно семьи без детей не несут дополнительных расходов и своевременно обслуживают свой кредит. У клиентов с детьми более высокая расходная часть семейного бюджета, поэтому и возникают сложности со своевременной выплатой по кредитным обязательствам.</font><br>\n",
    "<font color='DarkMagenta'>👉 Следовало обратить внимание на несбалансированность выборок для каждой категории, при малой выборке нельзя делать обоснованные выводы.<br>\n",
    "При сравнении долей (а здесь не равные выборки), необходимо учитывать не разницу в долях, а процент, когда максимальная доля принимается за 100%. В данном случае разница между крайними значениями долей должников (не учитывая категорию с 5-тью детьми) составляет более 22%.</font>"
   ]
  },
  {
   "cell_type": "code",
   "execution_count": 25,
   "id": "e997784f",
   "metadata": {},
   "outputs": [
    {
     "data": {
      "text/plain": [
       "'0.093444'"
      ]
     },
     "execution_count": 25,
     "metadata": {},
     "output_type": "execute_result"
    }
   ],
   "source": [
    "format(data_pivot.loc[1:2, 'ratio'].mean(),'.6f')"
   ]
  },
  {
   "cell_type": "markdown",
   "id": "74c9b3a7",
   "metadata": {
    "deletable": false,
    "editable": false,
    "id": "74c9b3a7"
   },
   "source": [
    "# 3.2 Есть ли зависимость между семейным положением и возвратом кредита в срок?"
   ]
  },
  {
   "cell_type": "code",
   "execution_count": 26,
   "id": "8098ab3b",
   "metadata": {
    "deletable": false,
    "id": "8098ab3b"
   },
   "outputs": [
    {
     "data": {
      "text/html": [
       "<div>\n",
       "<style scoped>\n",
       "    .dataframe tbody tr th:only-of-type {\n",
       "        vertical-align: middle;\n",
       "    }\n",
       "\n",
       "    .dataframe tbody tr th {\n",
       "        vertical-align: top;\n",
       "    }\n",
       "\n",
       "    .dataframe thead tr th {\n",
       "        text-align: left;\n",
       "    }\n",
       "</style>\n",
       "<table border=\"1\" class=\"dataframe\">\n",
       "  <thead>\n",
       "    <tr>\n",
       "      <th></th>\n",
       "      <th>family_status</th>\n",
       "      <th>sum</th>\n",
       "      <th>count</th>\n",
       "      <th>ratio</th>\n",
       "    </tr>\n",
       "    <tr>\n",
       "      <th></th>\n",
       "      <th></th>\n",
       "      <th>debt</th>\n",
       "      <th>debt</th>\n",
       "      <th></th>\n",
       "    </tr>\n",
       "  </thead>\n",
       "  <tbody>\n",
       "    <tr>\n",
       "      <th>0</th>\n",
       "      <td>Не женат / не замужем</td>\n",
       "      <td>273</td>\n",
       "      <td>2796</td>\n",
       "      <td>0.097639</td>\n",
       "    </tr>\n",
       "    <tr>\n",
       "      <th>3</th>\n",
       "      <td>гражданский брак</td>\n",
       "      <td>385</td>\n",
       "      <td>4134</td>\n",
       "      <td>0.093130</td>\n",
       "    </tr>\n",
       "    <tr>\n",
       "      <th>4</th>\n",
       "      <td>женат / замужем</td>\n",
       "      <td>927</td>\n",
       "      <td>12261</td>\n",
       "      <td>0.075606</td>\n",
       "    </tr>\n",
       "    <tr>\n",
       "      <th>1</th>\n",
       "      <td>в разводе</td>\n",
       "      <td>84</td>\n",
       "      <td>1189</td>\n",
       "      <td>0.070648</td>\n",
       "    </tr>\n",
       "    <tr>\n",
       "      <th>2</th>\n",
       "      <td>вдовец / вдова</td>\n",
       "      <td>63</td>\n",
       "      <td>951</td>\n",
       "      <td>0.066246</td>\n",
       "    </tr>\n",
       "  </tbody>\n",
       "</table>\n",
       "</div>"
      ],
      "text/plain": [
       "           family_status  sum  count     ratio\n",
       "                         debt   debt          \n",
       "0  Не женат / не замужем  273   2796  0.097639\n",
       "3       гражданский брак  385   4134  0.093130\n",
       "4        женат / замужем  927  12261  0.075606\n",
       "1              в разводе   84   1189  0.070648\n",
       "2         вдовец / вдова   63    951  0.066246"
      ]
     },
     "execution_count": 26,
     "metadata": {},
     "output_type": "execute_result"
    }
   ],
   "source": [
    "data_pivot1 = data.pivot_table(index='family_status', values='debt', aggfunc=['sum', 'count']).reset_index()\n",
    "data_pivot1['ratio'] = data_pivot1['sum']/data_pivot1['count']\n",
    "data_pivot1.sort_values(by='ratio', ascending=False)"
   ]
  },
  {
   "cell_type": "markdown",
   "id": "c389ca63",
   "metadata": {
    "deletable": false,
    "id": "c389ca63"
   },
   "source": [
    "**Вывод:** (Тут больше вопрос к самим данным. Учитывать ли 'гражданский брак' как официальный брак или как брак без регистрации в ЗАГС'е. Если учитывать как зарегистрированный брак, то стоило бы объединить с категорией 'женат/замужем'. В своём выводе буду учитывать как незарегистрированный брак)\n",
    "\n",
    "Наилучший показатель у 'вдовец/вдова'. \n",
    "\n",
    "Наихудший показатель у клиентов, которые не состоят или не состояли в браке. Сюда же можно отнести клиентов с гражданским браком. Можно предположить, что отсутствие юридической силы в гражданском браке является одной из причин таких результатов. \n",
    "\n",
    "Больше всего потребителей банка со статусом 'женат/замужем' также они имеют среднее значение.\n",
    "\n",
    "В целом можно подтвердить зависимость между семейным положением и возвратом кредита в срок. (Не знаю как здесь оформлять текст :("
   ]
  },
  {
   "cell_type": "markdown",
   "id": "98fdf423",
   "metadata": {},
   "source": [
    "<font color='DarkBlue'><b>Комментарий ревьюера</b></font><br>\n",
    "<font color='DarkGreen'>👌 Действительно, оформленные семейные отношения или их прошлый опыт налагают определенную ответственность и приучают к финансовой дисциплине.</font>\n",
    "<br>\n",
    "<font color='DarkMagenta'>👉 Если что-то не знаем, то обращаемся за помощью к преподавателю.</font>"
   ]
  },
  {
   "cell_type": "markdown",
   "id": "9529de68",
   "metadata": {
    "deletable": false,
    "editable": false,
    "id": "9529de68"
   },
   "source": [
    "#### 3.3 Есть ли зависимость между уровнем дохода и возвратом кредита в срок?"
   ]
  },
  {
   "cell_type": "code",
   "execution_count": 27,
   "id": "8787f44a",
   "metadata": {
    "deletable": false,
    "id": "8787f44a"
   },
   "outputs": [
    {
     "data": {
      "text/html": [
       "<div>\n",
       "<style scoped>\n",
       "    .dataframe tbody tr th:only-of-type {\n",
       "        vertical-align: middle;\n",
       "    }\n",
       "\n",
       "    .dataframe tbody tr th {\n",
       "        vertical-align: top;\n",
       "    }\n",
       "\n",
       "    .dataframe thead tr th {\n",
       "        text-align: left;\n",
       "    }\n",
       "</style>\n",
       "<table border=\"1\" class=\"dataframe\">\n",
       "  <thead>\n",
       "    <tr>\n",
       "      <th></th>\n",
       "      <th>total_income_category</th>\n",
       "      <th>sum</th>\n",
       "      <th>count</th>\n",
       "      <th>ratio</th>\n",
       "    </tr>\n",
       "    <tr>\n",
       "      <th></th>\n",
       "      <th></th>\n",
       "      <th>debt</th>\n",
       "      <th>debt</th>\n",
       "      <th></th>\n",
       "    </tr>\n",
       "  </thead>\n",
       "  <tbody>\n",
       "    <tr>\n",
       "      <th>0</th>\n",
       "      <td>A</td>\n",
       "      <td>2</td>\n",
       "      <td>25</td>\n",
       "      <td>0.080000</td>\n",
       "    </tr>\n",
       "    <tr>\n",
       "      <th>1</th>\n",
       "      <td>B</td>\n",
       "      <td>354</td>\n",
       "      <td>5014</td>\n",
       "      <td>0.070602</td>\n",
       "    </tr>\n",
       "    <tr>\n",
       "      <th>2</th>\n",
       "      <td>C</td>\n",
       "      <td>1353</td>\n",
       "      <td>15921</td>\n",
       "      <td>0.084982</td>\n",
       "    </tr>\n",
       "    <tr>\n",
       "      <th>3</th>\n",
       "      <td>D</td>\n",
       "      <td>21</td>\n",
       "      <td>349</td>\n",
       "      <td>0.060172</td>\n",
       "    </tr>\n",
       "    <tr>\n",
       "      <th>4</th>\n",
       "      <td>E</td>\n",
       "      <td>2</td>\n",
       "      <td>22</td>\n",
       "      <td>0.090909</td>\n",
       "    </tr>\n",
       "  </tbody>\n",
       "</table>\n",
       "</div>"
      ],
      "text/plain": [
       "  total_income_category   sum  count     ratio\n",
       "                         debt   debt          \n",
       "0                     A     2     25  0.080000\n",
       "1                     B   354   5014  0.070602\n",
       "2                     C  1353  15921  0.084982\n",
       "3                     D    21    349  0.060172\n",
       "4                     E     2     22  0.090909"
      ]
     },
     "execution_count": 27,
     "metadata": {},
     "output_type": "execute_result"
    }
   ],
   "source": [
    "data_pivot2 = data.pivot_table(index='total_income_category', values='debt', aggfunc=['sum', 'count']).reset_index()\n",
    "data_pivot2['ratio'] = data_pivot2['sum']/data_pivot2['count']\n",
    "data_pivot2"
   ]
  },
  {
   "cell_type": "markdown",
   "id": "6dd14b57",
   "metadata": {
    "deletable": false,
    "id": "6dd14b57"
   },
   "source": [
    "**Вывод:** \n",
    "Большая разница в выборке. Если оценивать категорию 'B' и 'C' как категории с наибольшим количество клиентов, то можно сделать вывод, что 'B' \"безопаснее\" для банка. \n",
    "\n",
    "Однако прямой зависимости между уровнем дохода и возвратом кредита в срок не наблюдается."
   ]
  },
  {
   "cell_type": "markdown",
   "id": "ea9a5707",
   "metadata": {},
   "source": [
    "<font color='DarkBlue'><b>Комментарий ревьюера</b></font><br>\n",
    "<font color='DarkGreen'>👌 Хорошо, что обратили внимание на то, что представленные выборки несбалансированы и какой-то вывод можно делать только по двум категориям с достаточным размером выборок.</font>\n",
    "<br><font color='DarkMagenta'>👉 В задачах, где требуется анализировать несбалансированные выборки можно, делать дополнительный анализ, разбив данные на равные выборки методом `.qcut`. Подробнее можно прочитать тут: <br>https://dfedorov.spb.ru/pandas/Разделение%20данных%20в%20Pandas%20с%20помощью%20qcut%20и%20cut.html.</font>"
   ]
  },
  {
   "cell_type": "markdown",
   "id": "3378bc7a",
   "metadata": {},
   "source": [
    "<font color='DarkBlue'><b>Комментарий ревьюера 2</b></font><br>\n",
    "<font color='DarkMagenta'>👉 Можно сделать цикл с перебором количества категорий.</font>"
   ]
  },
  {
   "cell_type": "code",
   "execution_count": 29,
   "id": "170c0c11",
   "metadata": {},
   "outputs": [
    {
     "data": {
      "text/html": [
       "<style  type=\"text/css\" >\n",
       "#T_6c683_row0_col0{\n",
       "            background-color:  #69add5;\n",
       "            color:  #000000;\n",
       "        }#T_6c683_row0_col1{\n",
       "            background-color:  #5da5d1;\n",
       "            color:  #000000;\n",
       "        }#T_6c683_row0_col2{\n",
       "            background-color:  #58a1cf;\n",
       "            color:  #000000;\n",
       "        }#T_6c683_row1_col0,#T_6c683_row1_col1,#T_6c683_row1_col2{\n",
       "            background-color:  #08306b;\n",
       "            color:  #f1f1f1;\n",
       "        }#T_6c683_row2_col0,#T_6c683_row2_col1,#T_6c683_row2_col2{\n",
       "            background-color:  #f7fbff;\n",
       "            color:  #000000;\n",
       "        }</style><table id=\"T_6c683_\" ><thead>    <tr>        <th class=\"blank level0\" ></th>        <th class=\"col_heading level0 col0\" >Всего кредитополучателей</th>        <th class=\"col_heading level0 col1\" >Всего должников</th>        <th class=\"col_heading level0 col2\" >Доля должников</th>    </tr>    <tr>        <th class=\"index_name level0\" >new_category</th>        <th class=\"blank\" ></th>        <th class=\"blank\" ></th>        <th class=\"blank\" ></th>    </tr></thead><tbody>\n",
       "                <tr>\n",
       "                        <th id=\"T_6c683_level0_row0\" class=\"row_heading level0 row0\" >(20666.0, 119218.0]</th>\n",
       "                        <td id=\"T_6c683_row0_col0\" class=\"data row0 col0\" >7111.000</td>\n",
       "                        <td id=\"T_6c683_row0_col1\" class=\"data row0 col1\" >580.000</td>\n",
       "                        <td id=\"T_6c683_row0_col2\" class=\"data row0 col2\" >0.082</td>\n",
       "            </tr>\n",
       "            <tr>\n",
       "                        <th id=\"T_6c683_level0_row1\" class=\"row_heading level0 row1\" >(119218.0, 172357.0]</th>\n",
       "                        <td id=\"T_6c683_row1_col0\" class=\"data row1 col0\" >7238.000</td>\n",
       "                        <td id=\"T_6c683_row1_col1\" class=\"data row1 col1\" >627.000</td>\n",
       "                        <td id=\"T_6c683_row1_col2\" class=\"data row1 col2\" >0.087</td>\n",
       "            </tr>\n",
       "            <tr>\n",
       "                        <th id=\"T_6c683_level0_row2\" class=\"row_heading level0 row2\" >(172357.0, 2265604.0]</th>\n",
       "                        <td id=\"T_6c683_row2_col0\" class=\"data row2 col0\" >6982.000</td>\n",
       "                        <td id=\"T_6c683_row2_col1\" class=\"data row2 col1\" >525.000</td>\n",
       "                        <td id=\"T_6c683_row2_col2\" class=\"data row2 col2\" >0.075</td>\n",
       "            </tr>\n",
       "    </tbody></table>"
      ],
      "text/plain": [
       "<pandas.io.formats.style.Styler at 0x7fa66e06a880>"
      ]
     },
     "metadata": {},
     "output_type": "display_data"
    },
    {
     "data": {
      "text/html": [
       "<style  type=\"text/css\" >\n",
       "#T_47cc6_row0_col0{\n",
       "            background-color:  #6aaed6;\n",
       "            color:  #000000;\n",
       "        }#T_47cc6_row0_col1{\n",
       "            background-color:  #7ab6d9;\n",
       "            color:  #000000;\n",
       "        }#T_47cc6_row0_col2{\n",
       "            background-color:  #65aad4;\n",
       "            color:  #000000;\n",
       "        }#T_47cc6_row1_col0,#T_47cc6_row1_col1,#T_47cc6_row1_col2{\n",
       "            background-color:  #08306b;\n",
       "            color:  #f1f1f1;\n",
       "        }#T_47cc6_row2_col0,#T_47cc6_row3_col1,#T_47cc6_row3_col2{\n",
       "            background-color:  #f7fbff;\n",
       "            color:  #000000;\n",
       "        }#T_47cc6_row2_col1{\n",
       "            background-color:  #3f8fc5;\n",
       "            color:  #000000;\n",
       "        }#T_47cc6_row2_col2{\n",
       "            background-color:  #125ea6;\n",
       "            color:  #f1f1f1;\n",
       "        }#T_47cc6_row3_col0{\n",
       "            background-color:  #6dafd7;\n",
       "            color:  #000000;\n",
       "        }</style><table id=\"T_47cc6_\" ><thead>    <tr>        <th class=\"blank level0\" ></th>        <th class=\"col_heading level0 col0\" >Всего кредитополучателей</th>        <th class=\"col_heading level0 col1\" >Всего должников</th>        <th class=\"col_heading level0 col2\" >Доля должников</th>    </tr>    <tr>        <th class=\"index_name level0\" >new_category</th>        <th class=\"blank\" ></th>        <th class=\"blank\" ></th>        <th class=\"blank\" ></th>    </tr></thead><tbody>\n",
       "                <tr>\n",
       "                        <th id=\"T_47cc6_level0_row0\" class=\"row_heading level0 row0\" >(20666.0, 107507.0]</th>\n",
       "                        <td id=\"T_47cc6_row0_col0\" class=\"data row0 col0\" >5333.000</td>\n",
       "                        <td id=\"T_47cc6_row0_col1\" class=\"data row0 col1\" >427.000</td>\n",
       "                        <td id=\"T_47cc6_row0_col2\" class=\"data row0 col2\" >0.080</td>\n",
       "            </tr>\n",
       "            <tr>\n",
       "                        <th id=\"T_47cc6_level0_row1\" class=\"row_heading level0 row1\" >(107507.0, 142594.0]</th>\n",
       "                        <td id=\"T_47cc6_row1_col0\" class=\"data row1 col0\" >5450.000</td>\n",
       "                        <td id=\"T_47cc6_row1_col1\" class=\"data row1 col1\" >480.000</td>\n",
       "                        <td id=\"T_47cc6_row1_col2\" class=\"data row1 col2\" >0.088</td>\n",
       "            </tr>\n",
       "            <tr>\n",
       "                        <th id=\"T_47cc6_level0_row2\" class=\"row_heading level0 row2\" >(142594.0, 195842.0]</th>\n",
       "                        <td id=\"T_47cc6_row2_col0\" class=\"data row2 col0\" >5216.000</td>\n",
       "                        <td id=\"T_47cc6_row2_col1\" class=\"data row2 col1\" >444.000</td>\n",
       "                        <td id=\"T_47cc6_row2_col2\" class=\"data row2 col2\" >0.085</td>\n",
       "            </tr>\n",
       "            <tr>\n",
       "                        <th id=\"T_47cc6_level0_row3\" class=\"row_heading level0 row3\" >(195842.0, 2265604.0]</th>\n",
       "                        <td id=\"T_47cc6_row3_col0\" class=\"data row3 col0\" >5332.000</td>\n",
       "                        <td id=\"T_47cc6_row3_col1\" class=\"data row3 col1\" >381.000</td>\n",
       "                        <td id=\"T_47cc6_row3_col2\" class=\"data row3 col2\" >0.071</td>\n",
       "            </tr>\n",
       "    </tbody></table>"
      ],
      "text/plain": [
       "<pandas.io.formats.style.Styler at 0x7fa66e06a880>"
      ]
     },
     "metadata": {},
     "output_type": "display_data"
    },
    {
     "data": {
      "text/html": [
       "<style  type=\"text/css\" >\n",
       "#T_b12d4_row0_col0,#T_b12d4_row2_col1,#T_b12d4_row2_col2{\n",
       "            background-color:  #08306b;\n",
       "            color:  #f1f1f1;\n",
       "        }#T_b12d4_row0_col1,#T_b12d4_row0_col2{\n",
       "            background-color:  #4896c8;\n",
       "            color:  #000000;\n",
       "        }#T_b12d4_row1_col0,#T_b12d4_row2_col0,#T_b12d4_row3_col0,#T_b12d4_row4_col0,#T_b12d4_row4_col1,#T_b12d4_row4_col2{\n",
       "            background-color:  #f7fbff;\n",
       "            color:  #000000;\n",
       "        }#T_b12d4_row1_col1,#T_b12d4_row1_col2,#T_b12d4_row3_col1,#T_b12d4_row3_col2{\n",
       "            background-color:  #1764ab;\n",
       "            color:  #f1f1f1;\n",
       "        }</style><table id=\"T_b12d4_\" ><thead>    <tr>        <th class=\"blank level0\" ></th>        <th class=\"col_heading level0 col0\" >Всего кредитополучателей</th>        <th class=\"col_heading level0 col1\" >Всего должников</th>        <th class=\"col_heading level0 col2\" >Доля должников</th>    </tr>    <tr>        <th class=\"index_name level0\" >new_category</th>        <th class=\"blank\" ></th>        <th class=\"blank\" ></th>        <th class=\"blank\" ></th>    </tr></thead><tbody>\n",
       "                <tr>\n",
       "                        <th id=\"T_b12d4_level0_row0\" class=\"row_heading level0 row0\" >(20666.0, 98514.0]</th>\n",
       "                        <td id=\"T_b12d4_row0_col0\" class=\"data row0 col0\" >4267.000</td>\n",
       "                        <td id=\"T_b12d4_row0_col1\" class=\"data row0 col1\" >344.000</td>\n",
       "                        <td id=\"T_b12d4_row0_col2\" class=\"data row0 col2\" >0.081</td>\n",
       "            </tr>\n",
       "            <tr>\n",
       "                        <th id=\"T_b12d4_level0_row1\" class=\"row_heading level0 row1\" >(98514.0, 132113.0]</th>\n",
       "                        <td id=\"T_b12d4_row1_col0\" class=\"data row1 col0\" >4266.000</td>\n",
       "                        <td id=\"T_b12d4_row1_col1\" class=\"data row1 col1\" >358.000</td>\n",
       "                        <td id=\"T_b12d4_row1_col2\" class=\"data row1 col2\" >0.084</td>\n",
       "            </tr>\n",
       "            <tr>\n",
       "                        <th id=\"T_b12d4_level0_row2\" class=\"row_heading level0 row2\" >(132113.0, 161380.0]</th>\n",
       "                        <td id=\"T_b12d4_row2_col0\" class=\"data row2 col0\" >4266.000</td>\n",
       "                        <td id=\"T_b12d4_row2_col1\" class=\"data row2 col1\" >373.000</td>\n",
       "                        <td id=\"T_b12d4_row2_col2\" class=\"data row2 col2\" >0.087</td>\n",
       "            </tr>\n",
       "            <tr>\n",
       "                        <th id=\"T_b12d4_level0_row3\" class=\"row_heading level0 row3\" >(161380.0, 214604.0]</th>\n",
       "                        <td id=\"T_b12d4_row3_col0\" class=\"data row3 col0\" >4266.000</td>\n",
       "                        <td id=\"T_b12d4_row3_col1\" class=\"data row3 col1\" >358.000</td>\n",
       "                        <td id=\"T_b12d4_row3_col2\" class=\"data row3 col2\" >0.084</td>\n",
       "            </tr>\n",
       "            <tr>\n",
       "                        <th id=\"T_b12d4_level0_row4\" class=\"row_heading level0 row4\" >(214604.0, 2265604.0]</th>\n",
       "                        <td id=\"T_b12d4_row4_col0\" class=\"data row4 col0\" >4266.000</td>\n",
       "                        <td id=\"T_b12d4_row4_col1\" class=\"data row4 col1\" >299.000</td>\n",
       "                        <td id=\"T_b12d4_row4_col2\" class=\"data row4 col2\" >0.070</td>\n",
       "            </tr>\n",
       "    </tbody></table>"
      ],
      "text/plain": [
       "<pandas.io.formats.style.Styler at 0x7fa603501b20>"
      ]
     },
     "metadata": {},
     "output_type": "display_data"
    },
    {
     "data": {
      "text/html": [
       "<style  type=\"text/css\" >\n",
       "#T_ea265_row0_col0{\n",
       "            background-color:  #63a8d3;\n",
       "            color:  #000000;\n",
       "        }#T_ea265_row0_col1{\n",
       "            background-color:  #7ab6d9;\n",
       "            color:  #000000;\n",
       "        }#T_ea265_row0_col2{\n",
       "            background-color:  #60a7d2;\n",
       "            color:  #000000;\n",
       "        }#T_ea265_row1_col0,#T_ea265_row5_col0{\n",
       "            background-color:  #64a9d3;\n",
       "            color:  #000000;\n",
       "        }#T_ea265_row1_col1{\n",
       "            background-color:  #4e9acb;\n",
       "            color:  #000000;\n",
       "        }#T_ea265_row1_col2{\n",
       "            background-color:  #3383be;\n",
       "            color:  #000000;\n",
       "        }#T_ea265_row2_col0,#T_ea265_row2_col1,#T_ea265_row2_col2{\n",
       "            background-color:  #08306b;\n",
       "            color:  #f1f1f1;\n",
       "        }#T_ea265_row3_col0{\n",
       "            background-color:  #549fcd;\n",
       "            color:  #000000;\n",
       "        }#T_ea265_row3_col1{\n",
       "            background-color:  #3a8ac2;\n",
       "            color:  #000000;\n",
       "        }#T_ea265_row3_col2{\n",
       "            background-color:  #2373b6;\n",
       "            color:  #f1f1f1;\n",
       "        }#T_ea265_row4_col0,#T_ea265_row5_col1,#T_ea265_row5_col2{\n",
       "            background-color:  #f7fbff;\n",
       "            color:  #000000;\n",
       "        }#T_ea265_row4_col1{\n",
       "            background-color:  #a8cee4;\n",
       "            color:  #000000;\n",
       "        }#T_ea265_row4_col2{\n",
       "            background-color:  #5aa2cf;\n",
       "            color:  #000000;\n",
       "        }</style><table id=\"T_ea265_\" ><thead>    <tr>        <th class=\"blank level0\" ></th>        <th class=\"col_heading level0 col0\" >Всего кредитополучателей</th>        <th class=\"col_heading level0 col1\" >Всего должников</th>        <th class=\"col_heading level0 col2\" >Доля должников</th>    </tr>    <tr>        <th class=\"index_name level0\" >new_category</th>        <th class=\"blank\" ></th>        <th class=\"blank\" ></th>        <th class=\"blank\" ></th>    </tr></thead><tbody>\n",
       "                <tr>\n",
       "                        <th id=\"T_ea265_level0_row0\" class=\"row_heading level0 row0\" >(20666.0, 92092.0]</th>\n",
       "                        <td id=\"T_ea265_row0_col0\" class=\"data row0 col0\" >3556.000</td>\n",
       "                        <td id=\"T_ea265_row0_col1\" class=\"data row0 col1\" >285.000</td>\n",
       "                        <td id=\"T_ea265_row0_col2\" class=\"data row0 col2\" >0.080</td>\n",
       "            </tr>\n",
       "            <tr>\n",
       "                        <th id=\"T_ea265_level0_row1\" class=\"row_heading level0 row1\" >(92092.0, 119218.0]</th>\n",
       "                        <td id=\"T_ea265_row1_col0\" class=\"data row1 col0\" >3555.000</td>\n",
       "                        <td id=\"T_ea265_row1_col1\" class=\"data row1 col1\" >295.000</td>\n",
       "                        <td id=\"T_ea265_row1_col2\" class=\"data row1 col2\" >0.083</td>\n",
       "            </tr>\n",
       "            <tr>\n",
       "                        <th id=\"T_ea265_level0_row2\" class=\"row_heading level0 row2\" >(119218.0, 142594.0]</th>\n",
       "                        <td id=\"T_ea265_row2_col0\" class=\"data row2 col0\" >3672.000</td>\n",
       "                        <td id=\"T_ea265_row2_col1\" class=\"data row2 col1\" >327.000</td>\n",
       "                        <td id=\"T_ea265_row2_col2\" class=\"data row2 col2\" >0.089</td>\n",
       "            </tr>\n",
       "            <tr>\n",
       "                        <th id=\"T_ea265_level0_row3\" class=\"row_heading level0 row3\" >(142594.0, 172357.0]</th>\n",
       "                        <td id=\"T_ea265_row3_col0\" class=\"data row3 col0\" >3566.000</td>\n",
       "                        <td id=\"T_ea265_row3_col1\" class=\"data row3 col1\" >300.000</td>\n",
       "                        <td id=\"T_ea265_row3_col2\" class=\"data row3 col2\" >0.084</td>\n",
       "            </tr>\n",
       "            <tr>\n",
       "                        <th id=\"T_ea265_level0_row4\" class=\"row_heading level0 row4\" >(172357.0, 228893.0]</th>\n",
       "                        <td id=\"T_ea265_row4_col0\" class=\"data row4 col0\" >3427.000</td>\n",
       "                        <td id=\"T_ea265_row4_col1\" class=\"data row4 col1\" >276.000</td>\n",
       "                        <td id=\"T_ea265_row4_col2\" class=\"data row4 col2\" >0.081</td>\n",
       "            </tr>\n",
       "            <tr>\n",
       "                        <th id=\"T_ea265_level0_row5\" class=\"row_heading level0 row5\" >(228893.0, 2265604.0]</th>\n",
       "                        <td id=\"T_ea265_row5_col0\" class=\"data row5 col0\" >3555.000</td>\n",
       "                        <td id=\"T_ea265_row5_col1\" class=\"data row5 col1\" >249.000</td>\n",
       "                        <td id=\"T_ea265_row5_col2\" class=\"data row5 col2\" >0.070</td>\n",
       "            </tr>\n",
       "    </tbody></table>"
      ],
      "text/plain": [
       "<pandas.io.formats.style.Styler at 0x7fa66e06ab20>"
      ]
     },
     "metadata": {},
     "output_type": "display_data"
    },
    {
     "data": {
      "text/html": [
       "<style  type=\"text/css\" >\n",
       "#T_07521_row0_col0,#T_07521_row3_col1,#T_07521_row3_col2,#T_07521_row6_col0{\n",
       "            background-color:  #08306b;\n",
       "            color:  #f1f1f1;\n",
       "        }#T_07521_row0_col1,#T_07521_row0_col2{\n",
       "            background-color:  #8dc1dd;\n",
       "            color:  #000000;\n",
       "        }#T_07521_row1_col0,#T_07521_row2_col0,#T_07521_row3_col0,#T_07521_row4_col0,#T_07521_row5_col0,#T_07521_row6_col1,#T_07521_row6_col2{\n",
       "            background-color:  #f7fbff;\n",
       "            color:  #000000;\n",
       "        }#T_07521_row1_col1,#T_07521_row1_col2{\n",
       "            background-color:  #083979;\n",
       "            color:  #f1f1f1;\n",
       "        }#T_07521_row2_col1,#T_07521_row2_col2{\n",
       "            background-color:  #083471;\n",
       "            color:  #f1f1f1;\n",
       "        }#T_07521_row4_col1,#T_07521_row4_col2{\n",
       "            background-color:  #09529d;\n",
       "            color:  #f1f1f1;\n",
       "        }#T_07521_row5_col1,#T_07521_row5_col2{\n",
       "            background-color:  #4f9bcb;\n",
       "            color:  #000000;\n",
       "        }</style><table id=\"T_07521_\" ><thead>    <tr>        <th class=\"blank level0\" ></th>        <th class=\"col_heading level0 col0\" >Всего кредитополучателей</th>        <th class=\"col_heading level0 col1\" >Всего должников</th>        <th class=\"col_heading level0 col2\" >Доля должников</th>    </tr>    <tr>        <th class=\"index_name level0\" >new_category</th>        <th class=\"blank\" ></th>        <th class=\"blank\" ></th>        <th class=\"blank\" ></th>    </tr></thead><tbody>\n",
       "                <tr>\n",
       "                        <th id=\"T_07521_level0_row0\" class=\"row_heading level0 row0\" >(20666.0, 87287.0]</th>\n",
       "                        <td id=\"T_07521_row0_col0\" class=\"data row0 col0\" >3048.000</td>\n",
       "                        <td id=\"T_07521_row0_col1\" class=\"data row0 col1\" >233.000</td>\n",
       "                        <td id=\"T_07521_row0_col2\" class=\"data row0 col2\" >0.076</td>\n",
       "            </tr>\n",
       "            <tr>\n",
       "                        <th id=\"T_07521_level0_row1\" class=\"row_heading level0 row1\" >(87287.0, 113563.0]</th>\n",
       "                        <td id=\"T_07521_row1_col0\" class=\"data row1 col0\" >3047.000</td>\n",
       "                        <td id=\"T_07521_row1_col1\" class=\"data row1 col1\" >262.000</td>\n",
       "                        <td id=\"T_07521_row1_col2\" class=\"data row1 col2\" >0.086</td>\n",
       "            </tr>\n",
       "            <tr>\n",
       "                        <th id=\"T_07521_level0_row2\" class=\"row_heading level0 row2\" >(113563.0, 137465.0]</th>\n",
       "                        <td id=\"T_07521_row2_col0\" class=\"data row2 col0\" >3047.000</td>\n",
       "                        <td id=\"T_07521_row2_col1\" class=\"data row2 col1\" >263.000</td>\n",
       "                        <td id=\"T_07521_row2_col2\" class=\"data row2 col2\" >0.086</td>\n",
       "            </tr>\n",
       "            <tr>\n",
       "                        <th id=\"T_07521_level0_row3\" class=\"row_heading level0 row3\" >(137465.0, 155314.0]</th>\n",
       "                        <td id=\"T_07521_row3_col0\" class=\"data row3 col0\" >3047.000</td>\n",
       "                        <td id=\"T_07521_row3_col1\" class=\"data row3 col1\" >264.000</td>\n",
       "                        <td id=\"T_07521_row3_col2\" class=\"data row3 col2\" >0.087</td>\n",
       "            </tr>\n",
       "            <tr>\n",
       "                        <th id=\"T_07521_level0_row4\" class=\"row_heading level0 row4\" >(155314.0, 184554.0]</th>\n",
       "                        <td id=\"T_07521_row4_col0\" class=\"data row4 col0\" >3047.000</td>\n",
       "                        <td id=\"T_07521_row4_col1\" class=\"data row4 col1\" >257.000</td>\n",
       "                        <td id=\"T_07521_row4_col2\" class=\"data row4 col2\" >0.084</td>\n",
       "            </tr>\n",
       "            <tr>\n",
       "                        <th id=\"T_07521_level0_row5\" class=\"row_heading level0 row5\" >(184554.0, 242009.0]</th>\n",
       "                        <td id=\"T_07521_row5_col0\" class=\"data row5 col0\" >3047.000</td>\n",
       "                        <td id=\"T_07521_row5_col1\" class=\"data row5 col1\" >242.000</td>\n",
       "                        <td id=\"T_07521_row5_col2\" class=\"data row5 col2\" >0.079</td>\n",
       "            </tr>\n",
       "            <tr>\n",
       "                        <th id=\"T_07521_level0_row6\" class=\"row_heading level0 row6\" >(242009.0, 2265604.0]</th>\n",
       "                        <td id=\"T_07521_row6_col0\" class=\"data row6 col0\" >3048.000</td>\n",
       "                        <td id=\"T_07521_row6_col1\" class=\"data row6 col1\" >211.000</td>\n",
       "                        <td id=\"T_07521_row6_col2\" class=\"data row6 col2\" >0.069</td>\n",
       "            </tr>\n",
       "    </tbody></table>"
      ],
      "text/plain": [
       "<pandas.io.formats.style.Styler at 0x7fa643854e50>"
      ]
     },
     "metadata": {},
     "output_type": "display_data"
    },
    {
     "data": {
      "text/html": [
       "<style  type=\"text/css\" >\n",
       "#T_3c495_row0_col0,#T_3c495_row5_col0,#T_3c495_row7_col0{\n",
       "            background-color:  #6aaed6;\n",
       "            color:  #000000;\n",
       "        }#T_3c495_row0_col1{\n",
       "            background-color:  #aacfe5;\n",
       "            color:  #000000;\n",
       "        }#T_3c495_row0_col2{\n",
       "            background-color:  #91c3de;\n",
       "            color:  #000000;\n",
       "        }#T_3c495_row1_col0,#T_3c495_row2_col0{\n",
       "            background-color:  #6caed6;\n",
       "            color:  #000000;\n",
       "        }#T_3c495_row1_col1,#T_3c495_row5_col1{\n",
       "            background-color:  #519ccc;\n",
       "            color:  #000000;\n",
       "        }#T_3c495_row1_col2,#T_3c495_row5_col2{\n",
       "            background-color:  #2f7fbc;\n",
       "            color:  #000000;\n",
       "        }#T_3c495_row2_col1{\n",
       "            background-color:  #1c6ab0;\n",
       "            color:  #f1f1f1;\n",
       "        }#T_3c495_row2_col2{\n",
       "            background-color:  #084285;\n",
       "            color:  #f1f1f1;\n",
       "        }#T_3c495_row3_col0,#T_3c495_row3_col1,#T_3c495_row3_col2{\n",
       "            background-color:  #08306b;\n",
       "            color:  #f1f1f1;\n",
       "        }#T_3c495_row4_col0,#T_3c495_row7_col1,#T_3c495_row7_col2{\n",
       "            background-color:  #f7fbff;\n",
       "            color:  #000000;\n",
       "        }#T_3c495_row4_col1{\n",
       "            background-color:  #4695c8;\n",
       "            color:  #000000;\n",
       "        }#T_3c495_row4_col2{\n",
       "            background-color:  #084184;\n",
       "            color:  #f1f1f1;\n",
       "        }#T_3c495_row6_col0{\n",
       "            background-color:  #6dafd7;\n",
       "            color:  #000000;\n",
       "        }#T_3c495_row6_col1{\n",
       "            background-color:  #d4e4f4;\n",
       "            color:  #000000;\n",
       "        }#T_3c495_row6_col2{\n",
       "            background-color:  #cddff1;\n",
       "            color:  #000000;\n",
       "        }</style><table id=\"T_3c495_\" ><thead>    <tr>        <th class=\"blank level0\" ></th>        <th class=\"col_heading level0 col0\" >Всего кредитополучателей</th>        <th class=\"col_heading level0 col1\" >Всего должников</th>        <th class=\"col_heading level0 col2\" >Доля должников</th>    </tr>    <tr>        <th class=\"index_name level0\" >new_category</th>        <th class=\"blank\" ></th>        <th class=\"blank\" ></th>        <th class=\"blank\" ></th>    </tr></thead><tbody>\n",
       "                <tr>\n",
       "                        <th id=\"T_3c495_level0_row0\" class=\"row_heading level0 row0\" >(20666.0, 83837.0]</th>\n",
       "                        <td id=\"T_3c495_row0_col0\" class=\"data row0 col0\" >2667.000</td>\n",
       "                        <td id=\"T_3c495_row0_col1\" class=\"data row0 col1\" >206.000</td>\n",
       "                        <td id=\"T_3c495_row0_col2\" class=\"data row0 col2\" >0.077</td>\n",
       "            </tr>\n",
       "            <tr>\n",
       "                        <th id=\"T_3c495_level0_row1\" class=\"row_heading level0 row1\" >(83837.0, 107507.0]</th>\n",
       "                        <td id=\"T_3c495_row1_col0\" class=\"data row1 col0\" >2666.000</td>\n",
       "                        <td id=\"T_3c495_row1_col1\" class=\"data row1 col1\" >221.000</td>\n",
       "                        <td id=\"T_3c495_row1_col2\" class=\"data row1 col2\" >0.083</td>\n",
       "            </tr>\n",
       "            <tr>\n",
       "                        <th id=\"T_3c495_level0_row2\" class=\"row_heading level0 row2\" >(107507.0, 127546.0]</th>\n",
       "                        <td id=\"T_3c495_row2_col0\" class=\"data row2 col0\" >2666.000</td>\n",
       "                        <td id=\"T_3c495_row2_col1\" class=\"data row2 col1\" >233.000</td>\n",
       "                        <td id=\"T_3c495_row2_col2\" class=\"data row2 col2\" >0.087</td>\n",
       "            </tr>\n",
       "            <tr>\n",
       "                        <th id=\"T_3c495_level0_row3\" class=\"row_heading level0 row3\" >(127546.0, 142594.0]</th>\n",
       "                        <td id=\"T_3c495_row3_col0\" class=\"data row3 col0\" >2784.000</td>\n",
       "                        <td id=\"T_3c495_row3_col1\" class=\"data row3 col1\" >247.000</td>\n",
       "                        <td id=\"T_3c495_row3_col2\" class=\"data row3 col2\" >0.089</td>\n",
       "            </tr>\n",
       "            <tr>\n",
       "                        <th id=\"T_3c495_level0_row4\" class=\"row_heading level0 row4\" >(142594.0, 166525.0]</th>\n",
       "                        <td id=\"T_3c495_row4_col0\" class=\"data row4 col0\" >2549.000</td>\n",
       "                        <td id=\"T_3c495_row4_col1\" class=\"data row4 col1\" >223.000</td>\n",
       "                        <td id=\"T_3c495_row4_col2\" class=\"data row4 col2\" >0.087</td>\n",
       "            </tr>\n",
       "            <tr>\n",
       "                        <th id=\"T_3c495_level0_row5\" class=\"row_heading level0 row5\" >(166525.0, 195842.0]</th>\n",
       "                        <td id=\"T_3c495_row5_col0\" class=\"data row5 col0\" >2667.000</td>\n",
       "                        <td id=\"T_3c495_row5_col1\" class=\"data row5 col1\" >221.000</td>\n",
       "                        <td id=\"T_3c495_row5_col2\" class=\"data row5 col2\" >0.083</td>\n",
       "            </tr>\n",
       "            <tr>\n",
       "                        <th id=\"T_3c495_level0_row6\" class=\"row_heading level0 row6\" >(195842.0, 254250.0]</th>\n",
       "                        <td id=\"T_3c495_row6_col0\" class=\"data row6 col0\" >2665.000</td>\n",
       "                        <td id=\"T_3c495_row6_col1\" class=\"data row6 col1\" >196.000</td>\n",
       "                        <td id=\"T_3c495_row6_col2\" class=\"data row6 col2\" >0.074</td>\n",
       "            </tr>\n",
       "            <tr>\n",
       "                        <th id=\"T_3c495_level0_row7\" class=\"row_heading level0 row7\" >(254250.0, 2265604.0]</th>\n",
       "                        <td id=\"T_3c495_row7_col0\" class=\"data row7 col0\" >2667.000</td>\n",
       "                        <td id=\"T_3c495_row7_col1\" class=\"data row7 col1\" >185.000</td>\n",
       "                        <td id=\"T_3c495_row7_col2\" class=\"data row7 col2\" >0.069</td>\n",
       "            </tr>\n",
       "    </tbody></table>"
      ],
      "text/plain": [
       "<pandas.io.formats.style.Styler at 0x7fa603385a90>"
      ]
     },
     "metadata": {},
     "output_type": "display_data"
    }
   ],
   "source": [
    "# Комментарий ревьюера 2\n",
    "temp = data.copy()\n",
    "start, stop = 3, 8 # начальное и конечное количество категорий\n",
    "while start <= stop:\n",
    "    temp['new_category'] = pd.qcut(temp['total_income'], q=start, precision=0)\n",
    "    que('new_category')\n",
    "    start += 1"
   ]
  },
  {
   "cell_type": "markdown",
   "id": "7e5a1714",
   "metadata": {},
   "source": [
    "<font color='DarkBlue'><b>Комментарий ревьюера 2</b></font><br>\n",
    "<font color='DarkMagenta'>👉 Вот, нашлась самая кредито-опасная категория дохода заемщиков, повод для более глубокого анализа.</font>"
   ]
  },
  {
   "cell_type": "markdown",
   "id": "1dcc9b12",
   "metadata": {
    "deletable": false,
    "editable": false,
    "id": "1dcc9b12"
   },
   "source": [
    "#### 3.4 Как разные цели кредита влияют на его возврат в срок?"
   ]
  },
  {
   "cell_type": "code",
   "execution_count": 28,
   "id": "c602bc8b",
   "metadata": {
    "deletable": false,
    "id": "c602bc8b"
   },
   "outputs": [
    {
     "data": {
      "text/html": [
       "<div>\n",
       "<style scoped>\n",
       "    .dataframe tbody tr th:only-of-type {\n",
       "        vertical-align: middle;\n",
       "    }\n",
       "\n",
       "    .dataframe tbody tr th {\n",
       "        vertical-align: top;\n",
       "    }\n",
       "\n",
       "    .dataframe thead tr th {\n",
       "        text-align: left;\n",
       "    }\n",
       "</style>\n",
       "<table border=\"1\" class=\"dataframe\">\n",
       "  <thead>\n",
       "    <tr>\n",
       "      <th></th>\n",
       "      <th>purpose_category</th>\n",
       "      <th>sum</th>\n",
       "      <th>count</th>\n",
       "      <th>ratio</th>\n",
       "    </tr>\n",
       "    <tr>\n",
       "      <th></th>\n",
       "      <th></th>\n",
       "      <th>debt</th>\n",
       "      <th>debt</th>\n",
       "      <th></th>\n",
       "    </tr>\n",
       "  </thead>\n",
       "  <tbody>\n",
       "    <tr>\n",
       "      <th>0</th>\n",
       "      <td>операции с автомобилем</td>\n",
       "      <td>400</td>\n",
       "      <td>4279</td>\n",
       "      <td>0.093480</td>\n",
       "    </tr>\n",
       "    <tr>\n",
       "      <th>1</th>\n",
       "      <td>операции с недвижимостью</td>\n",
       "      <td>780</td>\n",
       "      <td>10751</td>\n",
       "      <td>0.072551</td>\n",
       "    </tr>\n",
       "    <tr>\n",
       "      <th>2</th>\n",
       "      <td>получение образования</td>\n",
       "      <td>369</td>\n",
       "      <td>3988</td>\n",
       "      <td>0.092528</td>\n",
       "    </tr>\n",
       "    <tr>\n",
       "      <th>3</th>\n",
       "      <td>проведение свадьбы</td>\n",
       "      <td>183</td>\n",
       "      <td>2313</td>\n",
       "      <td>0.079118</td>\n",
       "    </tr>\n",
       "  </tbody>\n",
       "</table>\n",
       "</div>"
      ],
      "text/plain": [
       "           purpose_category  sum  count     ratio\n",
       "                            debt   debt          \n",
       "0    операции с автомобилем  400   4279  0.093480\n",
       "1  операции с недвижимостью  780  10751  0.072551\n",
       "2     получение образования  369   3988  0.092528\n",
       "3        проведение свадьбы  183   2313  0.079118"
      ]
     },
     "execution_count": 28,
     "metadata": {},
     "output_type": "execute_result"
    }
   ],
   "source": [
    "data_pivot3 = data.pivot_table(index='purpose_category', values='debt', aggfunc=['sum', 'count']).reset_index()\n",
    "data_pivot3['ratio'] = data_pivot3['sum']/data_pivot3['count']\n",
    "data_pivot3"
   ]
  },
  {
   "cell_type": "markdown",
   "id": "cf05ed63",
   "metadata": {
    "deletable": false,
    "id": "cf05ed63"
   },
   "source": [
    "**Вывод:** Наибольшее количество заявок приходится на операции с недвижимостью, они же являются \"лидером\" по показателю отсутствия задолженности среди остальных категорией, с достаточным отрывом от операций по покупке автомобиля и получение образования.  \n",
    "Операции с автомобилем и получение образования показывают неудовлетворительный результат по отношению к спросу на недвижимость.\n",
    "\n",
    "Общий вывод - для банка наиболее \"безопасным\" будут являться операции с недвижимостью."
   ]
  },
  {
   "cell_type": "markdown",
   "id": "bccc0465",
   "metadata": {},
   "source": [
    "<font color='DarkBlue'><b>Комментарий ревьюера</b></font><br>\n",
    "<font color='DarkGreen'>👌 Видимо, кредиты на автомобиль и обучение несут дополнительные риски связанные или с возможной аварией, или с проблемами трудоустройства после обучения.</font>"
   ]
  },
  {
   "cell_type": "markdown",
   "id": "46c1f10b",
   "metadata": {
    "deletable": false,
    "editable": false,
    "id": "46c1f10b"
   },
   "source": [
    "#### 3.5 Приведите возможные причины появления пропусков в исходных данных."
   ]
  },
  {
   "cell_type": "markdown",
   "id": "3697d2a9",
   "metadata": {
    "deletable": false,
    "id": "3697d2a9"
   },
   "source": [
    "*Ответ:* \n",
    "Три основные причины пропусков:\n",
    "1. Человеческий фактор. Все мы люди, все мы ошибаемся.\n",
    "2. Ошибки системы или некорректная работа кода.\n",
    "3. При выгрузки данных также может случиться ошибка, что приведет к неправильным или неполным данным."
   ]
  },
  {
   "cell_type": "markdown",
   "id": "ab5d8713",
   "metadata": {},
   "source": [
    "<font color='DarkBlue'><b>Комментарий ревьюера</b></font><br>\n",
    "<font color='DarkMagenta'>👉 Существует несколько причин отсутствия данных в датасетах, в том числе:<br>\n",
    "- Человеческий фактор: Ошибки ввода данных, не желание отвечать на определенные вопросы.\n",
    "- Технические проблемы: Возможны сбои с оборудованием или программным обеспечением для сбора данных. Отсутствующие данные могут быть удалены в процессе обработки или очистки данных.\n",
    "- Организационные: Конфиденциальность, могут отсутствовать данные, идентифицирующие отдельных лиц или компании.</font>"
   ]
  },
  {
   "cell_type": "markdown",
   "id": "3137d257",
   "metadata": {
    "deletable": false,
    "editable": false,
    "id": "3137d257"
   },
   "source": [
    "#### 3.6 Объясните, почему заполнить пропуски медианным значением — лучшее решение для количественных переменных."
   ]
  },
  {
   "cell_type": "markdown",
   "id": "cf40012a",
   "metadata": {
    "deletable": false,
    "id": "cf40012a"
   },
   "source": [
    "*Ответ:* \n",
    "В данных встречается информация, которая сильно выделяется среди большинства. В таком случае среднее арифмитеческое не сможет \"показать\" всю объективность данных. Когда в выборке присутствуют выдающиеся значения (300 против 100), лучше использовать медиану. "
   ]
  },
  {
   "cell_type": "markdown",
   "id": "9caaeb22",
   "metadata": {},
   "source": [
    "<font color='DarkBlue'><b>Комментарий ревьюера</b></font><br>\n",
    "<font color='DarkGreen'>👌 У средних более высокая чувствительность к выбросам, чем у медиан.<br>Можно попробовать посчитать и сравнить среднюю и медиану для колонки с выбросами, например `days_employed`.</font>"
   ]
  },
  {
   "cell_type": "markdown",
   "id": "57bc304e",
   "metadata": {
    "deletable": false,
    "editable": false,
    "id": "57bc304e"
   },
   "source": [
    "### Шаг 4: общий вывод."
   ]
  },
  {
   "cell_type": "markdown",
   "id": "1ab75d1c",
   "metadata": {
    "deletable": false,
    "id": "1ab75d1c"
   },
   "source": [
    "Напишите ваш общий вывод."
   ]
  },
  {
   "cell_type": "markdown",
   "id": "56fa8dc1",
   "metadata": {},
   "source": [
    "**Вывод:**\n",
    "Проект, а именно данные из этого проекта дают понять, что предобработка данных - один из важнейших этапов в работе с данными. Пропуски, дубликаты, некорректные данные  то что мешает в предоставлении объективной информации. \n",
    "Также с помощью категоризации данных, конверсии, добавления новых столбцов и т. д. можно получить новую полезную информацию, которая поможет дать ответ на поставленные задачи. \n",
    "Стоит выделить, что помимо умения решать поставленные задачи, также нужно знать как предоставить информацию и как правильно её интерпретировать."
   ]
  },
  {
   "cell_type": "markdown",
   "id": "97e6f508",
   "metadata": {},
   "source": [
    "<font color='DarkBlue'><b>Комментарий ревьюера</b></font><br>\n",
    "<font color='Red'>🛠 Общий вывод относится ко всему проекту.<br>Он должен содержать развернутое резюме по всем разделам проекта: описание данных, порядок обработки аномалий, пропусков и дубликатов, предобработка данных для анализа и проведенный анализ.<br>В реальных проектах сначала читают цель исследования, затем полученные выводы, затем уже сам анализ.</font>\n",
    "<br>\n",
    "<font color='DarkMagenta'>👉 В общем выводе можно дать рекомендации по улучшению сбора данных на основе обнаруженных ошибок. А так же  составить портрет добросовестного заемщика.</font>"
   ]
  },
  {
   "cell_type": "markdown",
   "id": "1f4d8eec",
   "metadata": {},
   "source": [
    "# Вывод: №2\n",
    "Проект, а именно данные из этого проекта дают понять, что предобработка данных - один из важнейших этапов в работе с данными. Пропуски, дубликаты, некорректные данные то что мешает в предоставлении объективной информации. Также с помощью категоризации данных, конверсии, добавления новых столбцов и т. д. можно получить новую полезную информацию, которая поможет дать ответ на поставленные задачи.\n",
    "\n",
    "Описывая данные можно выделить основные недочеты:\n",
    "\n",
    "- пропуски;\n",
    "\n",
    "- дубликаты;\n",
    "\n",
    "- “аномальные” значения.\n",
    "\n",
    "Для начала стоит рассмотреть всю таблицу с помощью метода info(). После получения первичной информации мы начали устранять пропуски, однако стоит учесть, что далеко не все пропуски мы можем заполнить произвольной информацией. В данном случае мы применяли цикл для заполнения пропущенных значений методом isna() медианным значением по категории(median()).\n",
    "\n",
    "В датасете мы встретили не соответствующие действительности значения, такие как: количество детей = -1 или 20(хотя последнее может быть). Здесь в переменной data мы просто исключили строки где содержатся такие значения(мне очень понравился такой способ).\n",
    "\n",
    "Для обработки дубликатов применялся метод drop_duplicates() и duplicated(). Также были применены такие методы как: str.lower() и astype().\n",
    "\n",
    "Далее мы категоризировали данные с помощью циклов и функций. Из имеющийся информации мы получили новые значения, которые помогали ответить на поставленные задачи.\n",
    "\n",
    "Был применен метод pivot_table() для создания сводной таблицы.\n",
    "\n",
    "Для банка наиболее “безопасными” являются: \n",
    "\n",
    "- клиенты с активным семейным положением или те, которые были до этого в браке; \n",
    "\n",
    "- клиенты, которые приобретают недвижимость;\n",
    "\n",
    "- семьи без детей, так как на них приходится меньше финансовой нагрузки. \n",
    "\n",
    "Важным замечанием является уровень дохода. Из данного кейса мы узнали, что уровень дохода никак не влияет на степень надежности потребителя.\n",
    "\n",
    "Для того, чтобы дополнить данные банку нужно учесть важную информацию о клиентах, а именно - кредитную нагрузку или дополнительные расходы заявителей. \n"
   ]
  },
  {
   "cell_type": "markdown",
   "id": "e85425b6",
   "metadata": {},
   "source": [
    "<font color='DarkBlue'><b>Комментарий ревьюера 2</b></font><br>\n",
    "<font color='DarkMagenta'>👉 Следовало более развернуто изложить выводы по исследовательскому анализу.</font>"
   ]
  },
  {
   "cell_type": "markdown",
   "id": "b9ec10a5",
   "metadata": {},
   "source": [
    "<font color='DarkBlue'><b>Заключительный комментарий ревьюера</b></font><br><br>\n",
    "<font color='DarkGreen'>👌 Айнур, проект хорошо проработан.<br>Так держать и дальше!<br></font>\n",
    "<font color='Red'>🛠 Что нужно, что бы сделать проект лучше:</font><br>\n",
    "<font color='Red'>🛠 Сделать развернутый общий вывод проекта.<br>\n",
    "<font color='DarkMagenta'>👉 При исправлении ошибок и недочетов будут приобретены дополнительный опыт и навыки!</font><br>\n",
    "<font color='DarkGreen'>👌 Жду окончательный вариант! Успехов.</font>"
   ]
  },
  {
   "attachments": {
    "image.png": {
     "image/png": "[encoded data removed]"
    }
   },
   "cell_type": "markdown",
   "id": "c6f7a9e6",
   "metadata": {},
   "source": [
    "<font color='DarkBlue'><b>Заключительный комментарий ревьюера 2</b></font><br><br>\n",
    "<font color='DarkGreen'>👌 Айнур! Справились со всеми заданиями в проекте. Молодец!<br>\n",
    "Входе выполнения проекта научились анализировать первичные данные и проводить обработку датасета. Провели самостоятельный исследовательский анализ.<br></font>\n",
    "<font color='DarkGreen'>👌 Теперь, вперед за новыми знаниями и навыками! Удачи! 😉</font>\n",
    "![image.png](attachment:image.png)"
   ]
  }
 ],
 "metadata": {
  "ExecuteTimeLog": [
   {
    "duration": 754,
    "start_time": "2023-08-21T16:44:25.600Z"
   },
   {
    "duration": 24,
    "start_time": "2023-08-21T16:44:26.356Z"
   },
   {
    "duration": 29,
    "start_time": "2023-08-21T16:44:26.382Z"
   },
   {
    "duration": 17,
    "start_time": "2023-08-21T16:44:26.417Z"
   },
   {
    "duration": 50,
    "start_time": "2023-08-21T16:44:26.436Z"
   },
   {
    "duration": 5,
    "start_time": "2023-08-21T16:44:26.488Z"
   },
   {
    "duration": 19,
    "start_time": "2023-08-21T16:44:26.494Z"
   },
   {
    "duration": 4,
    "start_time": "2023-08-21T16:44:26.515Z"
   },
   {
    "duration": 10,
    "start_time": "2023-08-21T16:44:26.521Z"
   },
   {
    "duration": 4,
    "start_time": "2023-08-21T16:44:26.534Z"
   },
   {
    "duration": 56,
    "start_time": "2023-08-21T16:44:26.539Z"
   },
   {
    "duration": 15,
    "start_time": "2023-08-21T16:44:26.600Z"
   },
   {
    "duration": 13,
    "start_time": "2023-08-21T16:44:26.617Z"
   },
   {
    "duration": 19,
    "start_time": "2023-08-21T16:44:26.634Z"
   },
   {
    "duration": 44,
    "start_time": "2023-08-21T16:44:26.655Z"
   },
   {
    "duration": 29,
    "start_time": "2023-08-21T16:44:26.712Z"
   },
   {
    "duration": 4,
    "start_time": "2023-08-21T16:44:26.743Z"
   },
   {
    "duration": 23,
    "start_time": "2023-08-21T16:44:26.749Z"
   },
   {
    "duration": 10,
    "start_time": "2023-08-21T16:44:26.774Z"
   },
   {
    "duration": 19,
    "start_time": "2023-08-21T16:44:26.786Z"
   },
   {
    "duration": 13,
    "start_time": "2023-08-21T16:44:26.808Z"
   },
   {
    "duration": 4,
    "start_time": "2023-08-21T16:44:26.823Z"
   },
   {
    "duration": 17,
    "start_time": "2023-08-21T16:44:26.829Z"
   },
   {
    "duration": 8,
    "start_time": "2023-08-21T16:44:26.848Z"
   },
   {
    "duration": 4,
    "start_time": "2023-08-21T16:44:26.858Z"
   },
   {
    "duration": 29,
    "start_time": "2023-08-21T16:45:41.410Z"
   },
   {
    "duration": 4,
    "start_time": "2023-08-21T16:54:14.275Z"
   },
   {
    "duration": 5,
    "start_time": "2023-08-21T16:54:19.097Z"
   },
   {
    "duration": 5,
    "start_time": "2023-08-21T17:04:15.297Z"
   },
   {
    "duration": 5,
    "start_time": "2023-08-21T17:04:38.400Z"
   },
   {
    "duration": 5,
    "start_time": "2023-08-21T17:04:51.869Z"
   },
   {
    "duration": 18,
    "start_time": "2023-08-21T17:05:15.414Z"
   },
   {
    "duration": 12,
    "start_time": "2023-08-21T17:06:35.207Z"
   },
   {
    "duration": 6,
    "start_time": "2023-08-21T17:06:38.262Z"
   },
   {
    "duration": 18,
    "start_time": "2023-08-21T17:06:40.502Z"
   },
   {
    "duration": 6,
    "start_time": "2023-08-21T17:07:00.251Z"
   },
   {
    "duration": 5,
    "start_time": "2023-08-21T17:07:15.145Z"
   },
   {
    "duration": 824,
    "start_time": "2023-08-21T17:07:25.643Z"
   },
   {
    "duration": 6,
    "start_time": "2023-08-21T17:07:30.174Z"
   },
   {
    "duration": 19,
    "start_time": "2023-08-21T17:11:10.106Z"
   },
   {
    "duration": 5,
    "start_time": "2023-08-21T17:11:28.354Z"
   },
   {
    "duration": 5,
    "start_time": "2023-08-21T17:11:42.533Z"
   },
   {
    "duration": 7,
    "start_time": "2023-08-21T17:11:47.627Z"
   },
   {
    "duration": 4,
    "start_time": "2023-08-21T17:13:54.922Z"
   },
   {
    "duration": 7,
    "start_time": "2023-08-21T17:13:57.622Z"
   },
   {
    "duration": 9,
    "start_time": "2023-08-21T17:14:00.512Z"
   },
   {
    "duration": 6,
    "start_time": "2023-08-21T17:14:10.139Z"
   },
   {
    "duration": 64,
    "start_time": "2023-08-21T17:14:16.994Z"
   },
   {
    "duration": 821,
    "start_time": "2023-08-21T17:14:32.499Z"
   },
   {
    "duration": 6,
    "start_time": "2023-08-21T17:14:36.742Z"
   },
   {
    "duration": 6,
    "start_time": "2023-08-21T17:14:43.740Z"
   },
   {
    "duration": 17,
    "start_time": "2023-08-21T17:14:50.604Z"
   },
   {
    "duration": 5,
    "start_time": "2023-08-21T17:15:06.366Z"
   },
   {
    "duration": 520,
    "start_time": "2023-08-21T17:15:22.855Z"
   },
   {
    "duration": 32,
    "start_time": "2023-08-21T17:15:23.377Z"
   },
   {
    "duration": 16,
    "start_time": "2023-08-21T17:15:23.410Z"
   },
   {
    "duration": 10,
    "start_time": "2023-08-21T17:15:23.428Z"
   },
   {
    "duration": 66,
    "start_time": "2023-08-21T17:15:23.440Z"
   },
   {
    "duration": 3,
    "start_time": "2023-08-21T17:15:23.508Z"
   },
   {
    "duration": 14,
    "start_time": "2023-08-21T17:15:23.513Z"
   },
   {
    "duration": 5,
    "start_time": "2023-08-21T17:15:23.529Z"
   },
   {
    "duration": 9,
    "start_time": "2023-08-21T17:15:23.536Z"
   },
   {
    "duration": 15,
    "start_time": "2023-08-21T17:15:23.549Z"
   },
   {
    "duration": 66,
    "start_time": "2023-08-21T17:15:23.580Z"
   },
   {
    "duration": 11,
    "start_time": "2023-08-21T17:15:23.648Z"
   },
   {
    "duration": 8,
    "start_time": "2023-08-21T17:15:23.661Z"
   },
   {
    "duration": 25,
    "start_time": "2023-08-21T17:15:23.672Z"
   },
   {
    "duration": 36,
    "start_time": "2023-08-21T17:15:23.699Z"
   },
   {
    "duration": 17,
    "start_time": "2023-08-21T17:15:23.737Z"
   },
   {
    "duration": 4,
    "start_time": "2023-08-21T17:15:23.756Z"
   },
   {
    "duration": 28,
    "start_time": "2023-08-21T17:15:23.761Z"
   },
   {
    "duration": 15,
    "start_time": "2023-08-21T17:15:23.793Z"
   },
   {
    "duration": 3,
    "start_time": "2023-08-21T17:15:23.810Z"
   },
   {
    "duration": 29,
    "start_time": "2023-08-21T17:15:23.815Z"
   },
   {
    "duration": 5,
    "start_time": "2023-08-21T17:15:23.845Z"
   },
   {
    "duration": 5,
    "start_time": "2023-08-21T17:15:23.852Z"
   },
   {
    "duration": 27,
    "start_time": "2023-08-21T17:15:23.859Z"
   },
   {
    "duration": 9,
    "start_time": "2023-08-21T17:15:23.888Z"
   },
   {
    "duration": 4,
    "start_time": "2023-08-21T17:15:36.957Z"
   },
   {
    "duration": 3,
    "start_time": "2023-08-21T17:16:29.268Z"
   },
   {
    "duration": 5,
    "start_time": "2023-08-21T17:16:31.319Z"
   },
   {
    "duration": 4,
    "start_time": "2023-08-21T17:16:40.297Z"
   },
   {
    "duration": 1152,
    "start_time": "2023-08-22T15:42:24.605Z"
   },
   {
    "duration": 21,
    "start_time": "2023-08-22T15:42:25.759Z"
   },
   {
    "duration": 16,
    "start_time": "2023-08-22T15:42:25.781Z"
   },
   {
    "duration": 14,
    "start_time": "2023-08-22T15:42:25.799Z"
   },
   {
    "duration": 60,
    "start_time": "2023-08-22T15:42:25.814Z"
   },
   {
    "duration": 3,
    "start_time": "2023-08-22T15:42:25.876Z"
   },
   {
    "duration": 35,
    "start_time": "2023-08-22T15:42:25.881Z"
   },
   {
    "duration": 16,
    "start_time": "2023-08-22T15:42:25.918Z"
   },
   {
    "duration": 11,
    "start_time": "2023-08-22T15:42:25.936Z"
   },
   {
    "duration": 17,
    "start_time": "2023-08-22T15:42:25.952Z"
   },
   {
    "duration": 53,
    "start_time": "2023-08-22T15:42:25.972Z"
   },
   {
    "duration": 14,
    "start_time": "2023-08-22T15:42:26.027Z"
   },
   {
    "duration": 16,
    "start_time": "2023-08-22T15:42:26.043Z"
   },
   {
    "duration": 17,
    "start_time": "2023-08-22T15:42:26.061Z"
   },
   {
    "duration": 31,
    "start_time": "2023-08-22T15:42:26.080Z"
   },
   {
    "duration": 30,
    "start_time": "2023-08-22T15:42:26.113Z"
   },
   {
    "duration": 5,
    "start_time": "2023-08-22T15:42:26.145Z"
   },
   {
    "duration": 36,
    "start_time": "2023-08-22T15:42:26.152Z"
   },
   {
    "duration": 8,
    "start_time": "2023-08-22T15:42:26.191Z"
   },
   {
    "duration": 4,
    "start_time": "2023-08-22T15:42:26.201Z"
   },
   {
    "duration": 49,
    "start_time": "2023-08-22T15:42:26.207Z"
   },
   {
    "duration": 22,
    "start_time": "2023-08-22T15:42:26.258Z"
   },
   {
    "duration": 12,
    "start_time": "2023-08-22T15:42:26.290Z"
   },
   {
    "duration": 6,
    "start_time": "2023-08-22T15:42:26.303Z"
   },
   {
    "duration": 25,
    "start_time": "2023-08-22T15:43:10.535Z"
   },
   {
    "duration": 6,
    "start_time": "2023-08-22T15:44:15.801Z"
   },
   {
    "duration": 6,
    "start_time": "2023-08-22T15:44:18.246Z"
   },
   {
    "duration": 8,
    "start_time": "2023-08-22T15:44:22.988Z"
   },
   {
    "duration": 16,
    "start_time": "2023-08-22T15:44:59.095Z"
   },
   {
    "duration": 10,
    "start_time": "2023-08-22T15:45:06.628Z"
   },
   {
    "duration": 11,
    "start_time": "2023-08-22T15:45:08.606Z"
   },
   {
    "duration": 12,
    "start_time": "2023-08-22T15:45:17.484Z"
   },
   {
    "duration": 13,
    "start_time": "2023-08-22T15:45:48.751Z"
   },
   {
    "duration": 1282,
    "start_time": "2023-08-23T17:15:43.538Z"
   },
   {
    "duration": 49,
    "start_time": "2023-08-23T17:15:44.823Z"
   },
   {
    "duration": 33,
    "start_time": "2023-08-23T17:15:44.875Z"
   },
   {
    "duration": 19,
    "start_time": "2023-08-23T17:15:44.911Z"
   },
   {
    "duration": 81,
    "start_time": "2023-08-23T17:15:44.933Z"
   },
   {
    "duration": 5,
    "start_time": "2023-08-23T17:15:45.016Z"
   },
   {
    "duration": 48,
    "start_time": "2023-08-23T17:15:45.024Z"
   },
   {
    "duration": 18,
    "start_time": "2023-08-23T17:15:45.075Z"
   },
   {
    "duration": 27,
    "start_time": "2023-08-23T17:15:45.096Z"
   },
   {
    "duration": 20,
    "start_time": "2023-08-23T17:15:45.126Z"
   },
   {
    "duration": 110,
    "start_time": "2023-08-23T17:15:45.149Z"
   },
   {
    "duration": 40,
    "start_time": "2023-08-23T17:15:45.262Z"
   },
   {
    "duration": 25,
    "start_time": "2023-08-23T17:15:45.313Z"
   },
   {
    "duration": 34,
    "start_time": "2023-08-23T17:15:45.359Z"
   },
   {
    "duration": 88,
    "start_time": "2023-08-23T17:15:45.395Z"
   },
   {
    "duration": 67,
    "start_time": "2023-08-23T17:15:45.495Z"
   },
   {
    "duration": 6,
    "start_time": "2023-08-23T17:15:45.571Z"
   },
   {
    "duration": 41,
    "start_time": "2023-08-23T17:15:45.583Z"
   },
   {
    "duration": 13,
    "start_time": "2023-08-23T17:15:45.632Z"
   },
   {
    "duration": 29,
    "start_time": "2023-08-23T17:15:45.647Z"
   },
   {
    "duration": 72,
    "start_time": "2023-08-23T17:15:45.677Z"
   },
   {
    "duration": 192,
    "start_time": "2023-08-23T17:15:45.751Z"
   },
   {
    "duration": 0,
    "start_time": "2023-08-23T17:15:45.945Z"
   },
   {
    "duration": 0,
    "start_time": "2023-08-23T17:15:45.946Z"
   },
   {
    "duration": 0,
    "start_time": "2023-08-23T17:15:45.947Z"
   },
   {
    "duration": 41,
    "start_time": "2023-08-23T17:16:09.647Z"
   },
   {
    "duration": 23,
    "start_time": "2023-08-23T17:16:43.780Z"
   },
   {
    "duration": 19,
    "start_time": "2023-08-23T17:16:56.068Z"
   },
   {
    "duration": 814,
    "start_time": "2023-08-24T15:52:31.870Z"
   },
   {
    "duration": 28,
    "start_time": "2023-08-24T15:52:32.686Z"
   },
   {
    "duration": 50,
    "start_time": "2023-08-24T15:52:32.716Z"
   },
   {
    "duration": 27,
    "start_time": "2023-08-24T15:52:32.771Z"
   },
   {
    "duration": 72,
    "start_time": "2023-08-24T15:52:32.808Z"
   },
   {
    "duration": 6,
    "start_time": "2023-08-24T15:52:32.885Z"
   },
   {
    "duration": 22,
    "start_time": "2023-08-24T15:52:32.893Z"
   },
   {
    "duration": 12,
    "start_time": "2023-08-24T15:52:32.917Z"
   },
   {
    "duration": 25,
    "start_time": "2023-08-24T15:52:32.931Z"
   },
   {
    "duration": 15,
    "start_time": "2023-08-24T15:52:32.959Z"
   },
   {
    "duration": 92,
    "start_time": "2023-08-24T15:52:32.976Z"
   },
   {
    "duration": 16,
    "start_time": "2023-08-24T15:52:33.070Z"
   },
   {
    "duration": 18,
    "start_time": "2023-08-24T15:52:33.088Z"
   },
   {
    "duration": 37,
    "start_time": "2023-08-24T15:52:33.112Z"
   },
   {
    "duration": 37,
    "start_time": "2023-08-24T15:52:33.150Z"
   },
   {
    "duration": 25,
    "start_time": "2023-08-24T15:52:33.189Z"
   },
   {
    "duration": 17,
    "start_time": "2023-08-24T15:52:33.216Z"
   },
   {
    "duration": 39,
    "start_time": "2023-08-24T15:52:33.234Z"
   },
   {
    "duration": 18,
    "start_time": "2023-08-24T15:52:33.275Z"
   },
   {
    "duration": 11,
    "start_time": "2023-08-24T15:52:33.296Z"
   },
   {
    "duration": 66,
    "start_time": "2023-08-24T15:52:33.310Z"
   },
   {
    "duration": 19,
    "start_time": "2023-08-24T15:52:33.381Z"
   },
   {
    "duration": 27,
    "start_time": "2023-08-24T15:52:33.402Z"
   },
   {
    "duration": 24,
    "start_time": "2023-08-24T15:52:33.432Z"
   },
   {
    "duration": 36,
    "start_time": "2023-08-24T15:52:47.158Z"
   },
   {
    "duration": 75,
    "start_time": "2023-08-24T15:55:23.810Z"
   },
   {
    "duration": 78,
    "start_time": "2023-08-24T15:57:54.232Z"
   },
   {
    "duration": 91,
    "start_time": "2023-08-24T15:57:56.270Z"
   },
   {
    "duration": 125,
    "start_time": "2023-08-24T15:58:03.845Z"
   },
   {
    "duration": 85,
    "start_time": "2023-08-24T15:58:37.786Z"
   },
   {
    "duration": 68,
    "start_time": "2023-08-24T15:58:43.366Z"
   },
   {
    "duration": 86,
    "start_time": "2023-08-24T15:59:18.865Z"
   },
   {
    "duration": 28,
    "start_time": "2023-08-24T15:59:54.846Z"
   },
   {
    "duration": 13,
    "start_time": "2023-08-24T16:00:14.169Z"
   },
   {
    "duration": 16,
    "start_time": "2023-08-24T16:02:38.058Z"
   },
   {
    "duration": 32,
    "start_time": "2023-08-24T16:02:54.287Z"
   },
   {
    "duration": 31,
    "start_time": "2023-08-24T16:02:57.819Z"
   },
   {
    "duration": 22,
    "start_time": "2023-08-24T16:03:04.151Z"
   },
   {
    "duration": 21,
    "start_time": "2023-08-24T16:04:03.482Z"
   },
   {
    "duration": 82,
    "start_time": "2023-08-27T17:05:30.193Z"
   },
   {
    "duration": 811,
    "start_time": "2023-08-27T17:05:38.386Z"
   },
   {
    "duration": 37,
    "start_time": "2023-08-27T17:05:39.205Z"
   },
   {
    "duration": 23,
    "start_time": "2023-08-27T17:05:39.245Z"
   },
   {
    "duration": 15,
    "start_time": "2023-08-27T17:05:39.272Z"
   },
   {
    "duration": 50,
    "start_time": "2023-08-27T17:05:39.291Z"
   },
   {
    "duration": 4,
    "start_time": "2023-08-27T17:05:39.344Z"
   },
   {
    "duration": 36,
    "start_time": "2023-08-27T17:05:39.352Z"
   },
   {
    "duration": 9,
    "start_time": "2023-08-27T17:05:39.394Z"
   },
   {
    "duration": 11,
    "start_time": "2023-08-27T17:05:39.412Z"
   },
   {
    "duration": 8,
    "start_time": "2023-08-27T17:05:39.430Z"
   },
   {
    "duration": 72,
    "start_time": "2023-08-27T17:05:39.441Z"
   },
   {
    "duration": 17,
    "start_time": "2023-08-27T17:05:39.517Z"
   },
   {
    "duration": 5,
    "start_time": "2023-08-27T17:05:39.536Z"
   },
   {
    "duration": 15,
    "start_time": "2023-08-27T17:05:39.545Z"
   },
   {
    "duration": 55,
    "start_time": "2023-08-27T17:05:39.566Z"
   },
   {
    "duration": 28,
    "start_time": "2023-08-27T17:05:39.624Z"
   },
   {
    "duration": 4,
    "start_time": "2023-08-27T17:05:39.655Z"
   },
   {
    "duration": 22,
    "start_time": "2023-08-27T17:05:39.663Z"
   },
   {
    "duration": 24,
    "start_time": "2023-08-27T17:05:39.693Z"
   },
   {
    "duration": 8,
    "start_time": "2023-08-27T17:05:39.724Z"
   },
   {
    "duration": 52,
    "start_time": "2023-08-27T17:05:39.739Z"
   },
   {
    "duration": 31,
    "start_time": "2023-08-27T17:05:39.793Z"
   },
   {
    "duration": 4,
    "start_time": "2023-08-27T17:05:39.826Z"
   },
   {
    "duration": 15,
    "start_time": "2023-08-27T17:05:39.835Z"
   },
   {
    "duration": 39,
    "start_time": "2023-08-27T17:05:39.854Z"
   },
   {
    "duration": 38,
    "start_time": "2023-08-27T17:08:59.051Z"
   },
   {
    "duration": 20,
    "start_time": "2023-08-27T17:09:43.214Z"
   },
   {
    "duration": 31,
    "start_time": "2023-08-27T17:09:50.934Z"
   },
   {
    "duration": 36,
    "start_time": "2023-08-27T17:11:46.205Z"
   },
   {
    "duration": 43,
    "start_time": "2023-08-27T17:14:10.826Z"
   },
   {
    "duration": 81,
    "start_time": "2023-08-27T17:14:17.307Z"
   },
   {
    "duration": 12,
    "start_time": "2023-08-27T17:14:24.081Z"
   },
   {
    "duration": 16,
    "start_time": "2023-08-27T17:14:42.031Z"
   },
   {
    "duration": 48,
    "start_time": "2023-08-27T17:14:48.045Z"
   },
   {
    "duration": 20,
    "start_time": "2023-08-27T17:15:47.902Z"
   },
   {
    "duration": 17,
    "start_time": "2023-08-27T17:19:34.032Z"
   },
   {
    "duration": 38,
    "start_time": "2023-08-27T17:19:40.274Z"
   },
   {
    "duration": 31,
    "start_time": "2023-08-27T17:41:05.843Z"
   },
   {
    "duration": 20,
    "start_time": "2023-08-27T17:44:03.891Z"
   },
   {
    "duration": 12,
    "start_time": "2023-08-27T17:44:17.243Z"
   },
   {
    "duration": 10,
    "start_time": "2023-08-27T17:44:29.036Z"
   },
   {
    "duration": 12,
    "start_time": "2023-08-27T17:46:01.684Z"
   },
   {
    "duration": 9,
    "start_time": "2023-08-27T17:46:11.380Z"
   },
   {
    "duration": 104,
    "start_time": "2023-08-27T18:13:39.179Z"
   },
   {
    "duration": 6,
    "start_time": "2023-08-27T18:13:45.300Z"
   },
   {
    "duration": 7,
    "start_time": "2023-08-27T18:13:57.125Z"
   },
   {
    "duration": 8,
    "start_time": "2023-08-27T18:14:02.591Z"
   },
   {
    "duration": 97,
    "start_time": "2023-08-27T18:14:10.289Z"
   },
   {
    "duration": 7,
    "start_time": "2023-08-27T18:14:12.998Z"
   },
   {
    "duration": 8,
    "start_time": "2023-08-27T18:14:23.482Z"
   },
   {
    "duration": 5,
    "start_time": "2023-08-27T18:14:45.322Z"
   },
   {
    "duration": 6,
    "start_time": "2023-08-27T18:14:52.221Z"
   },
   {
    "duration": 5,
    "start_time": "2023-08-27T18:16:25.101Z"
   },
   {
    "duration": 106,
    "start_time": "2023-08-27T18:16:42.305Z"
   },
   {
    "duration": 98,
    "start_time": "2023-08-27T18:16:50.637Z"
   },
   {
    "duration": 100,
    "start_time": "2023-08-27T18:16:53.099Z"
   },
   {
    "duration": 110,
    "start_time": "2023-08-27T18:16:56.190Z"
   },
   {
    "duration": 14,
    "start_time": "2023-08-27T18:17:01.853Z"
   },
   {
    "duration": 105,
    "start_time": "2023-08-27T18:18:38.120Z"
   },
   {
    "duration": 101,
    "start_time": "2023-08-27T18:18:47.332Z"
   },
   {
    "duration": 144,
    "start_time": "2023-08-27T18:18:49.728Z"
   },
   {
    "duration": 6,
    "start_time": "2023-08-27T18:18:56.001Z"
   },
   {
    "duration": 104,
    "start_time": "2023-08-27T18:19:05.001Z"
   },
   {
    "duration": 117,
    "start_time": "2023-08-27T18:19:19.382Z"
   },
   {
    "duration": 12,
    "start_time": "2023-08-27T18:19:22.473Z"
   },
   {
    "duration": 105,
    "start_time": "2023-08-27T18:19:42.131Z"
   },
   {
    "duration": 160,
    "start_time": "2023-08-27T18:20:04.680Z"
   },
   {
    "duration": 10,
    "start_time": "2023-08-27T18:20:11.275Z"
   },
   {
    "duration": 16,
    "start_time": "2023-08-27T18:23:32.764Z"
   },
   {
    "duration": 6,
    "start_time": "2023-08-27T18:23:38.519Z"
   },
   {
    "duration": 8,
    "start_time": "2023-08-27T18:23:47.846Z"
   },
   {
    "duration": 21,
    "start_time": "2023-08-27T18:24:37.292Z"
   },
   {
    "duration": 13,
    "start_time": "2023-08-27T18:24:49.356Z"
   },
   {
    "duration": 5,
    "start_time": "2023-08-27T18:25:14.282Z"
   },
   {
    "duration": 28,
    "start_time": "2023-08-27T18:25:32.460Z"
   },
   {
    "duration": 27,
    "start_time": "2023-08-27T18:25:52.555Z"
   },
   {
    "duration": 26,
    "start_time": "2023-08-27T18:25:54.872Z"
   },
   {
    "duration": 5,
    "start_time": "2023-08-27T18:26:07.800Z"
   },
   {
    "duration": 6,
    "start_time": "2023-08-27T18:26:12.088Z"
   },
   {
    "duration": 7,
    "start_time": "2023-08-27T18:26:38.897Z"
   },
   {
    "duration": 12,
    "start_time": "2023-08-27T18:26:55.274Z"
   },
   {
    "duration": 9,
    "start_time": "2023-08-27T18:27:03.890Z"
   },
   {
    "duration": 22,
    "start_time": "2023-08-27T18:30:49.296Z"
   },
   {
    "duration": 24,
    "start_time": "2023-08-27T18:30:56.186Z"
   },
   {
    "duration": 23,
    "start_time": "2023-08-27T18:31:18.547Z"
   },
   {
    "duration": 44,
    "start_time": "2023-08-27T18:31:24.829Z"
   },
   {
    "duration": 22,
    "start_time": "2023-08-27T18:31:44.231Z"
   },
   {
    "duration": 39,
    "start_time": "2023-08-27T18:31:53.353Z"
   },
   {
    "duration": 32,
    "start_time": "2023-08-27T18:31:56.306Z"
   },
   {
    "duration": 30,
    "start_time": "2023-08-27T18:32:44.022Z"
   },
   {
    "duration": 40,
    "start_time": "2023-08-27T18:33:39.435Z"
   },
   {
    "duration": 34,
    "start_time": "2023-08-27T18:33:45.128Z"
   },
   {
    "duration": 30,
    "start_time": "2023-08-27T18:34:07.383Z"
   },
   {
    "duration": 40,
    "start_time": "2023-08-27T19:07:48.969Z"
   },
   {
    "duration": 30,
    "start_time": "2023-08-27T19:08:24.001Z"
   },
   {
    "duration": 496,
    "start_time": "2023-08-27T19:08:49.778Z"
   },
   {
    "duration": 30,
    "start_time": "2023-08-27T19:08:50.277Z"
   },
   {
    "duration": 15,
    "start_time": "2023-08-27T19:08:50.309Z"
   },
   {
    "duration": 11,
    "start_time": "2023-08-27T19:08:50.326Z"
   },
   {
    "duration": 69,
    "start_time": "2023-08-27T19:08:50.340Z"
   },
   {
    "duration": 4,
    "start_time": "2023-08-27T19:08:50.411Z"
   },
   {
    "duration": 15,
    "start_time": "2023-08-27T19:08:50.417Z"
   },
   {
    "duration": 6,
    "start_time": "2023-08-27T19:08:50.434Z"
   },
   {
    "duration": 10,
    "start_time": "2023-08-27T19:08:50.442Z"
   },
   {
    "duration": 21,
    "start_time": "2023-08-27T19:08:50.454Z"
   },
   {
    "duration": 47,
    "start_time": "2023-08-27T19:08:50.477Z"
   },
   {
    "duration": 10,
    "start_time": "2023-08-27T19:08:50.526Z"
   },
   {
    "duration": 5,
    "start_time": "2023-08-27T19:08:50.537Z"
   },
   {
    "duration": 24,
    "start_time": "2023-08-27T19:08:50.544Z"
   },
   {
    "duration": 28,
    "start_time": "2023-08-27T19:08:50.570Z"
   },
   {
    "duration": 29,
    "start_time": "2023-08-27T19:08:50.600Z"
   },
   {
    "duration": 5,
    "start_time": "2023-08-27T19:08:50.631Z"
   },
   {
    "duration": 53,
    "start_time": "2023-08-27T19:08:50.638Z"
   },
   {
    "duration": 8,
    "start_time": "2023-08-27T19:08:50.702Z"
   },
   {
    "duration": 5,
    "start_time": "2023-08-27T19:08:50.712Z"
   },
   {
    "duration": 32,
    "start_time": "2023-08-27T19:08:50.719Z"
   },
   {
    "duration": 36,
    "start_time": "2023-08-27T19:08:50.752Z"
   },
   {
    "duration": 13,
    "start_time": "2023-08-27T19:08:50.794Z"
   },
   {
    "duration": 7,
    "start_time": "2023-08-27T19:08:50.809Z"
   },
   {
    "duration": 30,
    "start_time": "2023-08-27T19:08:50.817Z"
   },
   {
    "duration": 36,
    "start_time": "2023-08-27T19:08:50.859Z"
   },
   {
    "duration": 9,
    "start_time": "2023-08-27T19:08:50.900Z"
   },
   {
    "duration": 42,
    "start_time": "2023-08-27T19:10:08.048Z"
   },
   {
    "duration": 25,
    "start_time": "2023-08-27T19:10:31.110Z"
   },
   {
    "duration": 536,
    "start_time": "2023-08-27T19:10:38.283Z"
   },
   {
    "duration": 39,
    "start_time": "2023-08-27T19:10:38.833Z"
   },
   {
    "duration": 20,
    "start_time": "2023-08-27T19:10:38.873Z"
   },
   {
    "duration": 19,
    "start_time": "2023-08-27T19:10:38.895Z"
   },
   {
    "duration": 61,
    "start_time": "2023-08-27T19:10:38.918Z"
   },
   {
    "duration": 12,
    "start_time": "2023-08-27T19:10:38.988Z"
   },
   {
    "duration": 11,
    "start_time": "2023-08-27T19:10:39.008Z"
   },
   {
    "duration": 6,
    "start_time": "2023-08-27T19:10:39.021Z"
   },
   {
    "duration": 10,
    "start_time": "2023-08-27T19:10:39.029Z"
   },
   {
    "duration": 5,
    "start_time": "2023-08-27T19:10:39.041Z"
   },
   {
    "duration": 77,
    "start_time": "2023-08-27T19:10:39.050Z"
   },
   {
    "duration": 14,
    "start_time": "2023-08-27T19:10:39.129Z"
   },
   {
    "duration": 5,
    "start_time": "2023-08-27T19:10:39.145Z"
   },
   {
    "duration": 33,
    "start_time": "2023-08-27T19:10:39.153Z"
   },
   {
    "duration": 27,
    "start_time": "2023-08-27T19:10:39.188Z"
   },
   {
    "duration": 18,
    "start_time": "2023-08-27T19:10:39.218Z"
   },
   {
    "duration": 4,
    "start_time": "2023-08-27T19:10:39.239Z"
   },
   {
    "duration": 29,
    "start_time": "2023-08-27T19:10:39.245Z"
   },
   {
    "duration": 17,
    "start_time": "2023-08-27T19:10:39.276Z"
   },
   {
    "duration": 12,
    "start_time": "2023-08-27T19:10:39.295Z"
   },
   {
    "duration": 47,
    "start_time": "2023-08-27T19:10:39.309Z"
   },
   {
    "duration": 41,
    "start_time": "2023-08-27T19:10:39.359Z"
   },
   {
    "duration": 10,
    "start_time": "2023-08-27T19:10:39.402Z"
   },
   {
    "duration": 7,
    "start_time": "2023-08-27T19:10:39.416Z"
   },
   {
    "duration": 67,
    "start_time": "2023-08-27T19:10:39.425Z"
   },
   {
    "duration": 29,
    "start_time": "2023-08-27T19:10:39.494Z"
   },
   {
    "duration": 2,
    "start_time": "2023-08-27T19:10:39.525Z"
   },
   {
    "duration": 492,
    "start_time": "2023-08-27T19:22:57.938Z"
   },
   {
    "duration": 22,
    "start_time": "2023-08-27T19:22:58.432Z"
   },
   {
    "duration": 32,
    "start_time": "2023-08-27T19:22:58.458Z"
   },
   {
    "duration": 16,
    "start_time": "2023-08-27T19:22:58.492Z"
   },
   {
    "duration": 31,
    "start_time": "2023-08-27T19:22:58.510Z"
   },
   {
    "duration": 4,
    "start_time": "2023-08-27T19:22:58.542Z"
   },
   {
    "duration": 21,
    "start_time": "2023-08-27T19:22:58.547Z"
   },
   {
    "duration": 15,
    "start_time": "2023-08-27T19:22:58.571Z"
   },
   {
    "duration": 11,
    "start_time": "2023-08-27T19:22:58.588Z"
   },
   {
    "duration": 6,
    "start_time": "2023-08-27T19:22:58.606Z"
   },
   {
    "duration": 31,
    "start_time": "2023-08-27T19:22:58.615Z"
   },
   {
    "duration": 29,
    "start_time": "2023-08-27T19:22:58.647Z"
   },
   {
    "duration": 4,
    "start_time": "2023-08-27T19:22:58.678Z"
   },
   {
    "duration": 32,
    "start_time": "2023-08-27T19:22:58.683Z"
   },
   {
    "duration": 24,
    "start_time": "2023-08-27T19:22:58.717Z"
   },
   {
    "duration": 26,
    "start_time": "2023-08-27T19:22:58.743Z"
   },
   {
    "duration": 8,
    "start_time": "2023-08-27T19:22:58.773Z"
   },
   {
    "duration": 31,
    "start_time": "2023-08-27T19:22:58.786Z"
   },
   {
    "duration": 16,
    "start_time": "2023-08-27T19:22:58.819Z"
   },
   {
    "duration": 8,
    "start_time": "2023-08-27T19:22:58.837Z"
   },
   {
    "duration": 67,
    "start_time": "2023-08-27T19:22:58.847Z"
   },
   {
    "duration": 33,
    "start_time": "2023-08-27T19:22:58.921Z"
   },
   {
    "duration": 33,
    "start_time": "2023-08-27T19:22:58.959Z"
   },
   {
    "duration": 44,
    "start_time": "2023-08-27T19:22:59.000Z"
   },
   {
    "duration": 58,
    "start_time": "2023-08-27T19:22:59.046Z"
   },
   {
    "duration": 26,
    "start_time": "2023-08-27T19:22:59.105Z"
   },
   {
    "duration": 11,
    "start_time": "2023-08-27T19:22:59.133Z"
   },
   {
    "duration": 25,
    "start_time": "2023-08-27T19:25:35.320Z"
   },
   {
    "duration": 101,
    "start_time": "2023-08-27T19:25:43.719Z"
   },
   {
    "duration": 36,
    "start_time": "2023-08-27T19:25:46.782Z"
   },
   {
    "duration": 36,
    "start_time": "2023-08-27T19:25:56.354Z"
   },
   {
    "duration": 455,
    "start_time": "2023-08-27T19:28:41.499Z"
   },
   {
    "duration": 49,
    "start_time": "2023-08-27T19:28:41.956Z"
   },
   {
    "duration": 14,
    "start_time": "2023-08-27T19:28:42.010Z"
   },
   {
    "duration": 8,
    "start_time": "2023-08-27T19:28:42.026Z"
   },
   {
    "duration": 48,
    "start_time": "2023-08-27T19:28:42.035Z"
   },
   {
    "duration": 7,
    "start_time": "2023-08-27T19:28:42.094Z"
   },
   {
    "duration": 11,
    "start_time": "2023-08-27T19:28:42.103Z"
   },
   {
    "duration": 4,
    "start_time": "2023-08-27T19:28:42.116Z"
   },
   {
    "duration": 7,
    "start_time": "2023-08-27T19:28:42.123Z"
   },
   {
    "duration": 4,
    "start_time": "2023-08-27T19:28:42.132Z"
   },
   {
    "duration": 42,
    "start_time": "2023-08-27T19:28:42.137Z"
   },
   {
    "duration": 16,
    "start_time": "2023-08-27T19:28:42.181Z"
   },
   {
    "duration": 11,
    "start_time": "2023-08-27T19:28:42.206Z"
   },
   {
    "duration": 14,
    "start_time": "2023-08-27T19:28:42.219Z"
   },
   {
    "duration": 50,
    "start_time": "2023-08-27T19:28:42.234Z"
   },
   {
    "duration": 29,
    "start_time": "2023-08-27T19:28:42.285Z"
   },
   {
    "duration": 4,
    "start_time": "2023-08-27T19:28:42.316Z"
   },
   {
    "duration": 19,
    "start_time": "2023-08-27T19:28:42.322Z"
   },
   {
    "duration": 8,
    "start_time": "2023-08-27T19:28:42.343Z"
   },
   {
    "duration": 13,
    "start_time": "2023-08-27T19:28:42.360Z"
   },
   {
    "duration": 58,
    "start_time": "2023-08-27T19:28:42.377Z"
   },
   {
    "duration": 38,
    "start_time": "2023-08-27T19:28:42.438Z"
   },
   {
    "duration": 6,
    "start_time": "2023-08-27T19:28:42.478Z"
   },
   {
    "duration": 8,
    "start_time": "2023-08-27T19:28:42.487Z"
   },
   {
    "duration": 30,
    "start_time": "2023-08-27T19:28:42.496Z"
   },
   {
    "duration": 58,
    "start_time": "2023-08-27T19:28:42.528Z"
   },
   {
    "duration": 3,
    "start_time": "2023-08-27T19:28:42.592Z"
   },
   {
    "duration": 31,
    "start_time": "2023-08-27T19:39:26.404Z"
   },
   {
    "duration": 491,
    "start_time": "2023-08-27T19:46:25.984Z"
   },
   {
    "duration": 27,
    "start_time": "2023-08-27T19:46:26.478Z"
   },
   {
    "duration": 22,
    "start_time": "2023-08-27T19:46:26.507Z"
   },
   {
    "duration": 34,
    "start_time": "2023-08-27T19:46:26.531Z"
   },
   {
    "duration": 51,
    "start_time": "2023-08-27T19:46:26.569Z"
   },
   {
    "duration": 4,
    "start_time": "2023-08-27T19:46:26.621Z"
   },
   {
    "duration": 11,
    "start_time": "2023-08-27T19:46:26.627Z"
   },
   {
    "duration": 22,
    "start_time": "2023-08-27T19:46:26.640Z"
   },
   {
    "duration": 23,
    "start_time": "2023-08-27T19:46:26.668Z"
   },
   {
    "duration": 6,
    "start_time": "2023-08-27T19:46:26.693Z"
   },
   {
    "duration": 33,
    "start_time": "2023-08-27T19:46:26.701Z"
   },
   {
    "duration": 9,
    "start_time": "2023-08-27T19:46:26.737Z"
   },
   {
    "duration": 12,
    "start_time": "2023-08-27T19:46:26.748Z"
   },
   {
    "duration": 18,
    "start_time": "2023-08-27T19:46:26.777Z"
   },
   {
    "duration": 30,
    "start_time": "2023-08-27T19:46:26.797Z"
   },
   {
    "duration": 32,
    "start_time": "2023-08-27T19:46:26.829Z"
   },
   {
    "duration": 8,
    "start_time": "2023-08-27T19:46:26.867Z"
   },
   {
    "duration": 21,
    "start_time": "2023-08-27T19:46:26.880Z"
   },
   {
    "duration": 9,
    "start_time": "2023-08-27T19:46:26.902Z"
   },
   {
    "duration": 5,
    "start_time": "2023-08-27T19:46:26.912Z"
   },
   {
    "duration": 77,
    "start_time": "2023-08-27T19:46:26.918Z"
   },
   {
    "duration": 31,
    "start_time": "2023-08-27T19:46:26.997Z"
   },
   {
    "duration": 8,
    "start_time": "2023-08-27T19:46:27.030Z"
   },
   {
    "duration": 19,
    "start_time": "2023-08-27T19:46:27.040Z"
   },
   {
    "duration": 42,
    "start_time": "2023-08-27T19:46:27.060Z"
   },
   {
    "duration": 27,
    "start_time": "2023-08-27T19:46:27.104Z"
   },
   {
    "duration": 58,
    "start_time": "2023-08-27T19:46:27.133Z"
   },
   {
    "duration": 64,
    "start_time": "2023-08-27T20:02:30.592Z"
   },
   {
    "duration": 21,
    "start_time": "2023-08-27T20:02:45.080Z"
   },
   {
    "duration": 7,
    "start_time": "2023-08-27T20:03:40.730Z"
   },
   {
    "duration": 13,
    "start_time": "2023-08-27T20:03:55.854Z"
   },
   {
    "duration": 7,
    "start_time": "2023-08-27T20:04:51.390Z"
   },
   {
    "duration": 3,
    "start_time": "2023-08-27T20:07:15.001Z"
   },
   {
    "duration": 4,
    "start_time": "2023-08-27T20:07:30.081Z"
   },
   {
    "duration": 498,
    "start_time": "2023-08-27T20:24:07.047Z"
   },
   {
    "duration": 36,
    "start_time": "2023-08-27T20:24:07.547Z"
   },
   {
    "duration": 15,
    "start_time": "2023-08-27T20:24:07.588Z"
   },
   {
    "duration": 10,
    "start_time": "2023-08-27T20:24:07.605Z"
   },
   {
    "duration": 33,
    "start_time": "2023-08-27T20:24:07.617Z"
   },
   {
    "duration": 9,
    "start_time": "2023-08-27T20:24:07.655Z"
   },
   {
    "duration": 41,
    "start_time": "2023-08-27T20:24:07.670Z"
   },
   {
    "duration": 5,
    "start_time": "2023-08-27T20:24:07.713Z"
   },
   {
    "duration": 14,
    "start_time": "2023-08-27T20:24:07.720Z"
   },
   {
    "duration": 5,
    "start_time": "2023-08-27T20:24:07.737Z"
   },
   {
    "duration": 52,
    "start_time": "2023-08-27T20:24:07.744Z"
   },
   {
    "duration": 10,
    "start_time": "2023-08-27T20:24:07.798Z"
   },
   {
    "duration": 3,
    "start_time": "2023-08-27T20:24:07.810Z"
   },
   {
    "duration": 19,
    "start_time": "2023-08-27T20:24:07.815Z"
   },
   {
    "duration": 50,
    "start_time": "2023-08-27T20:24:07.836Z"
   },
   {
    "duration": 23,
    "start_time": "2023-08-27T20:24:07.890Z"
   },
   {
    "duration": 4,
    "start_time": "2023-08-27T20:24:07.915Z"
   },
   {
    "duration": 13,
    "start_time": "2023-08-27T20:24:07.921Z"
   },
   {
    "duration": 6,
    "start_time": "2023-08-27T20:24:07.936Z"
   },
   {
    "duration": 16,
    "start_time": "2023-08-27T20:24:07.944Z"
   },
   {
    "duration": 53,
    "start_time": "2023-08-27T20:24:07.962Z"
   },
   {
    "duration": 30,
    "start_time": "2023-08-27T20:24:08.017Z"
   },
   {
    "duration": 13,
    "start_time": "2023-08-27T20:24:08.049Z"
   },
   {
    "duration": 21,
    "start_time": "2023-08-27T20:24:08.064Z"
   },
   {
    "duration": 40,
    "start_time": "2023-08-27T20:24:08.087Z"
   },
   {
    "duration": 37,
    "start_time": "2023-08-27T20:24:08.129Z"
   },
   {
    "duration": 34,
    "start_time": "2023-08-27T20:24:08.169Z"
   },
   {
    "duration": 541,
    "start_time": "2023-08-27T20:42:06.195Z"
   },
   {
    "duration": 33,
    "start_time": "2023-08-27T20:42:06.738Z"
   },
   {
    "duration": 15,
    "start_time": "2023-08-27T20:42:06.775Z"
   },
   {
    "duration": 9,
    "start_time": "2023-08-27T20:42:06.792Z"
   },
   {
    "duration": 68,
    "start_time": "2023-08-27T20:42:06.803Z"
   },
   {
    "duration": 4,
    "start_time": "2023-08-27T20:42:06.873Z"
   },
   {
    "duration": 11,
    "start_time": "2023-08-27T20:42:06.880Z"
   },
   {
    "duration": 5,
    "start_time": "2023-08-27T20:42:06.893Z"
   },
   {
    "duration": 10,
    "start_time": "2023-08-27T20:42:06.900Z"
   },
   {
    "duration": 6,
    "start_time": "2023-08-27T20:42:06.912Z"
   },
   {
    "duration": 147,
    "start_time": "2023-08-27T20:42:06.920Z"
   },
   {
    "duration": 16,
    "start_time": "2023-08-27T20:42:07.068Z"
   },
   {
    "duration": 5,
    "start_time": "2023-08-27T20:42:07.085Z"
   },
   {
    "duration": 12,
    "start_time": "2023-08-27T20:42:07.094Z"
   },
   {
    "duration": 55,
    "start_time": "2023-08-27T20:42:07.107Z"
   },
   {
    "duration": 21,
    "start_time": "2023-08-27T20:42:07.164Z"
   },
   {
    "duration": 4,
    "start_time": "2023-08-27T20:42:07.187Z"
   },
   {
    "duration": 13,
    "start_time": "2023-08-27T20:42:07.193Z"
   },
   {
    "duration": 8,
    "start_time": "2023-08-27T20:42:07.208Z"
   },
   {
    "duration": 3,
    "start_time": "2023-08-27T20:42:07.218Z"
   },
   {
    "duration": 64,
    "start_time": "2023-08-27T20:42:07.223Z"
   },
   {
    "duration": 31,
    "start_time": "2023-08-27T20:42:07.289Z"
   },
   {
    "duration": 8,
    "start_time": "2023-08-27T20:42:07.321Z"
   },
   {
    "duration": 35,
    "start_time": "2023-08-27T20:42:07.330Z"
   },
   {
    "duration": 48,
    "start_time": "2023-08-27T20:42:07.366Z"
   },
   {
    "duration": 29,
    "start_time": "2023-08-27T20:42:07.416Z"
   },
   {
    "duration": 41,
    "start_time": "2023-08-27T20:42:07.447Z"
   },
   {
    "duration": 585,
    "start_time": "2023-08-27T20:54:22.157Z"
   },
   {
    "duration": 102,
    "start_time": "2023-08-28T17:20:17.365Z"
   },
   {
    "duration": 689,
    "start_time": "2023-08-28T17:20:31.043Z"
   },
   {
    "duration": 24,
    "start_time": "2023-08-28T17:20:31.735Z"
   },
   {
    "duration": 75,
    "start_time": "2023-08-28T17:20:31.761Z"
   },
   {
    "duration": 43,
    "start_time": "2023-08-28T17:20:31.839Z"
   },
   {
    "duration": 95,
    "start_time": "2023-08-28T17:20:31.884Z"
   },
   {
    "duration": 3,
    "start_time": "2023-08-28T17:20:31.981Z"
   },
   {
    "duration": 45,
    "start_time": "2023-08-28T17:20:31.986Z"
   },
   {
    "duration": 41,
    "start_time": "2023-08-28T17:20:32.033Z"
   },
   {
    "duration": 84,
    "start_time": "2023-08-28T17:20:32.076Z"
   },
   {
    "duration": 41,
    "start_time": "2023-08-28T17:20:32.164Z"
   },
   {
    "duration": 78,
    "start_time": "2023-08-28T17:20:32.207Z"
   },
   {
    "duration": 14,
    "start_time": "2023-08-28T17:20:32.286Z"
   },
   {
    "duration": 9,
    "start_time": "2023-08-28T17:20:32.302Z"
   },
   {
    "duration": 44,
    "start_time": "2023-08-28T17:20:32.313Z"
   },
   {
    "duration": 42,
    "start_time": "2023-08-28T17:20:32.360Z"
   },
   {
    "duration": 21,
    "start_time": "2023-08-28T17:20:32.405Z"
   },
   {
    "duration": 5,
    "start_time": "2023-08-28T17:20:32.428Z"
   },
   {
    "duration": 27,
    "start_time": "2023-08-28T17:20:32.435Z"
   },
   {
    "duration": 28,
    "start_time": "2023-08-28T17:20:32.464Z"
   },
   {
    "duration": 23,
    "start_time": "2023-08-28T17:20:32.494Z"
   },
   {
    "duration": 61,
    "start_time": "2023-08-28T17:20:32.519Z"
   },
   {
    "duration": 33,
    "start_time": "2023-08-28T17:20:32.582Z"
   },
   {
    "duration": 509,
    "start_time": "2023-08-28T17:20:32.617Z"
   },
   {
    "duration": 10,
    "start_time": "2023-08-28T17:20:33.128Z"
   },
   {
    "duration": 24,
    "start_time": "2023-08-28T17:20:33.139Z"
   },
   {
    "duration": 69,
    "start_time": "2023-08-28T17:20:33.164Z"
   },
   {
    "duration": 27,
    "start_time": "2023-08-28T17:20:33.235Z"
   },
   {
    "duration": 40,
    "start_time": "2023-08-28T17:20:33.266Z"
   },
   {
    "duration": 750,
    "start_time": "2023-08-28T19:45:21.742Z"
   },
   {
    "duration": 21,
    "start_time": "2023-08-28T19:45:22.494Z"
   },
   {
    "duration": 31,
    "start_time": "2023-08-28T19:45:22.516Z"
   },
   {
    "duration": 9,
    "start_time": "2023-08-28T19:45:22.549Z"
   },
   {
    "duration": 36,
    "start_time": "2023-08-28T19:45:22.560Z"
   },
   {
    "duration": 3,
    "start_time": "2023-08-28T19:45:22.598Z"
   },
   {
    "duration": 9,
    "start_time": "2023-08-28T19:45:22.603Z"
   },
   {
    "duration": 16,
    "start_time": "2023-08-28T19:45:22.613Z"
   },
   {
    "duration": 11,
    "start_time": "2023-08-28T19:45:22.632Z"
   },
   {
    "duration": 8,
    "start_time": "2023-08-28T19:45:22.645Z"
   },
   {
    "duration": 40,
    "start_time": "2023-08-28T19:45:22.654Z"
   },
   {
    "duration": 30,
    "start_time": "2023-08-28T19:45:22.695Z"
   },
   {
    "duration": 10,
    "start_time": "2023-08-28T19:45:22.728Z"
   },
   {
    "duration": 19,
    "start_time": "2023-08-28T19:45:22.743Z"
   },
   {
    "duration": 29,
    "start_time": "2023-08-28T19:45:22.763Z"
   },
   {
    "duration": 15,
    "start_time": "2023-08-28T19:45:22.794Z"
   },
   {
    "duration": 4,
    "start_time": "2023-08-28T19:45:22.811Z"
   },
   {
    "duration": 20,
    "start_time": "2023-08-28T19:45:22.826Z"
   },
   {
    "duration": 5,
    "start_time": "2023-08-28T19:45:22.848Z"
   },
   {
    "duration": 6,
    "start_time": "2023-08-28T19:45:22.855Z"
   },
   {
    "duration": 55,
    "start_time": "2023-08-28T19:45:22.862Z"
   },
   {
    "duration": 38,
    "start_time": "2023-08-28T19:45:22.919Z"
   },
   {
    "duration": 502,
    "start_time": "2023-08-28T19:45:22.958Z"
   },
   {
    "duration": 7,
    "start_time": "2023-08-28T19:45:23.462Z"
   },
   {
    "duration": 22,
    "start_time": "2023-08-28T19:45:23.471Z"
   },
   {
    "duration": 46,
    "start_time": "2023-08-28T19:45:23.495Z"
   },
   {
    "duration": 33,
    "start_time": "2023-08-28T19:45:23.543Z"
   },
   {
    "duration": 27,
    "start_time": "2023-08-28T19:45:23.577Z"
   },
   {
    "duration": 232,
    "start_time": "2023-08-28T19:55:13.602Z"
   }
  ],
  "colab": {
   "provenance": []
  },
  "kernelspec": {
   "display_name": "Python 3 (ipykernel)",
   "language": "python",
   "name": "python3"
  },
  "language_info": {
   "codemirror_mode": {
    "name": "ipython",
    "version": 3
   },
   "file_extension": ".py",
   "mimetype": "text/x-python",
   "name": "python",
   "nbconvert_exporter": "python",
   "pygments_lexer": "ipython3",
   "version": "3.9.5"
  },
  "toc": {
   "base_numbering": 1,
   "nav_menu": {},
   "number_sections": true,
   "sideBar": true,
   "skip_h1_title": true,
   "title_cell": "Table of Contents",
   "title_sidebar": "Contents",
   "toc_cell": false,
   "toc_position": {
    "height": "calc(100% - 180px)",
    "left": "10px",
    "top": "150px",
    "width": "226px"
   },
   "toc_section_display": true,
   "toc_window_display": true
  }
 },
 "nbformat": 4,
 "nbformat_minor": 5
}
