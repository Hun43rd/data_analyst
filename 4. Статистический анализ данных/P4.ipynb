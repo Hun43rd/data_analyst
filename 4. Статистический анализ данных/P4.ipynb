{
 "cells": [
  {
   "cell_type": "markdown",
   "id": "ada65189",
   "metadata": {},
   "source": [
    "# Проект  по анализу сервиса аренды самокатов GoFast \n",
    "Добрый день!\n",
    "В данном проекте я выстыпаю аналитиком GoFast. Цель - увеличить доходы компании. \n",
    "\n",
    "Можно выделить следующие задачи:\n",
    "- ознакомление с данными;\n",
    "- предобработка;\n",
    "- визуализация данных;\n",
    "- объединение информации;\n",
    "- подсчёт выручки;\n",
    "- проверка гипотез;\n",
    "- прогнозирование моделей.\n",
    "\n",
    "В данном проекте работа ведётся с помощью трёх разных датасетов, одна из задач - объединить их. Также стоит выделить, что основным различием является наличие подписки у пользователей. \n",
    "\n",
    "P.S. под большинством строк кода я буду оставлять свои комментарии и делать небольшие выводы в таком формате: **<font color=\"green\">Комментарий студента:<font>** "
   ]
  },
  {
   "cell_type": "code",
   "execution_count": 1,
   "id": "600d73ae",
   "metadata": {
    "scrolled": true
   },
   "outputs": [
    {
     "name": "stdout",
     "output_type": "stream",
     "text": [
      "Collecting missingno\n",
      "  Downloading missingno-0.5.2-py3-none-any.whl (8.7 kB)\n",
      "Requirement already satisfied: matplotlib in /opt/conda/lib/python3.9/site-packages (from missingno) (3.3.4)\n",
      "Requirement already satisfied: scipy in /opt/conda/lib/python3.9/site-packages (from missingno) (1.9.1)\n",
      "Requirement already satisfied: seaborn in /opt/conda/lib/python3.9/site-packages (from missingno) (0.11.1)\n",
      "Requirement already satisfied: numpy in /opt/conda/lib/python3.9/site-packages (from missingno) (1.21.1)\n",
      "Requirement already satisfied: pyparsing!=2.0.4,!=2.1.2,!=2.1.6,>=2.0.3 in /opt/conda/lib/python3.9/site-packages (from matplotlib->missingno) (2.4.7)\n",
      "Requirement already satisfied: pillow>=6.2.0 in /opt/conda/lib/python3.9/site-packages (from matplotlib->missingno) (8.4.0)\n",
      "Requirement already satisfied: cycler>=0.10 in /opt/conda/lib/python3.9/site-packages (from matplotlib->missingno) (0.11.0)\n",
      "Requirement already satisfied: kiwisolver>=1.0.1 in /opt/conda/lib/python3.9/site-packages (from matplotlib->missingno) (1.4.4)\n",
      "Requirement already satisfied: python-dateutil>=2.1 in /opt/conda/lib/python3.9/site-packages (from matplotlib->missingno) (2.8.1)\n",
      "Requirement already satisfied: six>=1.5 in /opt/conda/lib/python3.9/site-packages (from python-dateutil>=2.1->matplotlib->missingno) (1.16.0)\n",
      "Requirement already satisfied: pandas>=0.23 in /opt/conda/lib/python3.9/site-packages (from seaborn->missingno) (1.2.4)\n",
      "Requirement already satisfied: pytz>=2017.3 in /opt/conda/lib/python3.9/site-packages (from pandas>=0.23->seaborn->missingno) (2021.1)\n",
      "Installing collected packages: missingno\n",
      "Successfully installed missingno-0.5.2\n"
     ]
    }
   ],
   "source": [
    "!pip install missingno"
   ]
  },
  {
   "cell_type": "code",
   "execution_count": 2,
   "id": "72576667",
   "metadata": {},
   "outputs": [],
   "source": [
    "import pandas as pd\n",
    "from scipy import stats as st\n",
    "from math import factorial, sqrt\n",
    "import matplotlib.pyplot as plt\n",
    "import numpy as np\n",
    "import missingno as msno\n",
    "pd.set_option('display.float_format', '{:.2f}'.format)"
   ]
  },
  {
   "cell_type": "markdown",
   "id": "942daf58",
   "metadata": {},
   "source": [
    "**<font color=\"green\">Комментарий студента:<font>** Установка и импортирование библиотек"
   ]
  },
  {
   "cell_type": "markdown",
   "id": "c42cbe00",
   "metadata": {},
   "source": [
    "### Загрузка данных"
   ]
  },
  {
   "cell_type": "code",
   "execution_count": 3,
   "id": "eff9f206",
   "metadata": {},
   "outputs": [
    {
     "data": {
      "text/html": [
       "<div>\n",
       "<style scoped>\n",
       "    .dataframe tbody tr th:only-of-type {\n",
       "        vertical-align: middle;\n",
       "    }\n",
       "\n",
       "    .dataframe tbody tr th {\n",
       "        vertical-align: top;\n",
       "    }\n",
       "\n",
       "    .dataframe thead th {\n",
       "        text-align: right;\n",
       "    }\n",
       "</style>\n",
       "<table border=\"1\" class=\"dataframe\">\n",
       "  <thead>\n",
       "    <tr style=\"text-align: right;\">\n",
       "      <th></th>\n",
       "      <th>user_id</th>\n",
       "      <th>name</th>\n",
       "      <th>age</th>\n",
       "      <th>city</th>\n",
       "      <th>subscription_type</th>\n",
       "    </tr>\n",
       "  </thead>\n",
       "  <tbody>\n",
       "    <tr>\n",
       "      <th>0</th>\n",
       "      <td>1</td>\n",
       "      <td>Кира</td>\n",
       "      <td>22</td>\n",
       "      <td>Тюмень</td>\n",
       "      <td>ultra</td>\n",
       "    </tr>\n",
       "    <tr>\n",
       "      <th>1</th>\n",
       "      <td>2</td>\n",
       "      <td>Станислав</td>\n",
       "      <td>31</td>\n",
       "      <td>Омск</td>\n",
       "      <td>ultra</td>\n",
       "    </tr>\n",
       "    <tr>\n",
       "      <th>2</th>\n",
       "      <td>3</td>\n",
       "      <td>Алексей</td>\n",
       "      <td>20</td>\n",
       "      <td>Москва</td>\n",
       "      <td>ultra</td>\n",
       "    </tr>\n",
       "    <tr>\n",
       "      <th>3</th>\n",
       "      <td>4</td>\n",
       "      <td>Константин</td>\n",
       "      <td>26</td>\n",
       "      <td>Ростов-на-Дону</td>\n",
       "      <td>ultra</td>\n",
       "    </tr>\n",
       "    <tr>\n",
       "      <th>4</th>\n",
       "      <td>5</td>\n",
       "      <td>Адель</td>\n",
       "      <td>28</td>\n",
       "      <td>Омск</td>\n",
       "      <td>ultra</td>\n",
       "    </tr>\n",
       "  </tbody>\n",
       "</table>\n",
       "</div>"
      ],
      "text/plain": [
       "   user_id        name  age            city subscription_type\n",
       "0        1        Кира   22          Тюмень             ultra\n",
       "1        2   Станислав   31            Омск             ultra\n",
       "2        3     Алексей   20          Москва             ultra\n",
       "3        4  Константин   26  Ростов-на-Дону             ultra\n",
       "4        5       Адель   28            Омск             ultra"
      ]
     },
     "metadata": {},
     "output_type": "display_data"
    },
    {
     "data": {
      "text/html": [
       "<div>\n",
       "<style scoped>\n",
       "    .dataframe tbody tr th:only-of-type {\n",
       "        vertical-align: middle;\n",
       "    }\n",
       "\n",
       "    .dataframe tbody tr th {\n",
       "        vertical-align: top;\n",
       "    }\n",
       "\n",
       "    .dataframe thead th {\n",
       "        text-align: right;\n",
       "    }\n",
       "</style>\n",
       "<table border=\"1\" class=\"dataframe\">\n",
       "  <thead>\n",
       "    <tr style=\"text-align: right;\">\n",
       "      <th></th>\n",
       "      <th>user_id</th>\n",
       "      <th>distance</th>\n",
       "      <th>duration</th>\n",
       "      <th>date</th>\n",
       "    </tr>\n",
       "  </thead>\n",
       "  <tbody>\n",
       "    <tr>\n",
       "      <th>0</th>\n",
       "      <td>1</td>\n",
       "      <td>4409.92</td>\n",
       "      <td>25.60</td>\n",
       "      <td>2021-01-01</td>\n",
       "    </tr>\n",
       "    <tr>\n",
       "      <th>1</th>\n",
       "      <td>1</td>\n",
       "      <td>2617.59</td>\n",
       "      <td>15.82</td>\n",
       "      <td>2021-01-18</td>\n",
       "    </tr>\n",
       "    <tr>\n",
       "      <th>2</th>\n",
       "      <td>1</td>\n",
       "      <td>754.16</td>\n",
       "      <td>6.23</td>\n",
       "      <td>2021-04-20</td>\n",
       "    </tr>\n",
       "    <tr>\n",
       "      <th>3</th>\n",
       "      <td>1</td>\n",
       "      <td>2694.78</td>\n",
       "      <td>18.51</td>\n",
       "      <td>2021-08-11</td>\n",
       "    </tr>\n",
       "    <tr>\n",
       "      <th>4</th>\n",
       "      <td>1</td>\n",
       "      <td>4028.69</td>\n",
       "      <td>26.27</td>\n",
       "      <td>2021-08-28</td>\n",
       "    </tr>\n",
       "  </tbody>\n",
       "</table>\n",
       "</div>"
      ],
      "text/plain": [
       "   user_id  distance  duration        date\n",
       "0        1   4409.92     25.60  2021-01-01\n",
       "1        1   2617.59     15.82  2021-01-18\n",
       "2        1    754.16      6.23  2021-04-20\n",
       "3        1   2694.78     18.51  2021-08-11\n",
       "4        1   4028.69     26.27  2021-08-28"
      ]
     },
     "metadata": {},
     "output_type": "display_data"
    },
    {
     "data": {
      "text/html": [
       "<div>\n",
       "<style scoped>\n",
       "    .dataframe tbody tr th:only-of-type {\n",
       "        vertical-align: middle;\n",
       "    }\n",
       "\n",
       "    .dataframe tbody tr th {\n",
       "        vertical-align: top;\n",
       "    }\n",
       "\n",
       "    .dataframe thead th {\n",
       "        text-align: right;\n",
       "    }\n",
       "</style>\n",
       "<table border=\"1\" class=\"dataframe\">\n",
       "  <thead>\n",
       "    <tr style=\"text-align: right;\">\n",
       "      <th></th>\n",
       "      <th>subscription_type</th>\n",
       "      <th>minute_price</th>\n",
       "      <th>start_ride_price</th>\n",
       "      <th>subscription_fee</th>\n",
       "    </tr>\n",
       "  </thead>\n",
       "  <tbody>\n",
       "    <tr>\n",
       "      <th>0</th>\n",
       "      <td>free</td>\n",
       "      <td>8</td>\n",
       "      <td>50</td>\n",
       "      <td>0</td>\n",
       "    </tr>\n",
       "    <tr>\n",
       "      <th>1</th>\n",
       "      <td>ultra</td>\n",
       "      <td>6</td>\n",
       "      <td>0</td>\n",
       "      <td>199</td>\n",
       "    </tr>\n",
       "  </tbody>\n",
       "</table>\n",
       "</div>"
      ],
      "text/plain": [
       "  subscription_type  minute_price  start_ride_price  subscription_fee\n",
       "0              free             8                50                 0\n",
       "1             ultra             6                 0               199"
      ]
     },
     "metadata": {},
     "output_type": "display_data"
    }
   ],
   "source": [
    "datauser = pd.read_csv('/datasets/users_go.csv')\n",
    "datarides = pd.read_csv('/datasets/rides_go.csv')\n",
    "datasub = pd.read_csv('/datasets/subscriptions_go.csv')\n",
    "display(datauser.head(5))\n",
    "display(datarides.head(5))\n",
    "display(datasub)"
   ]
  },
  {
   "cell_type": "markdown",
   "id": "9ee4b2b3",
   "metadata": {},
   "source": [
    "**<font color=\"green\">Комментарий студента:<font>** Загрузка данных через pandas и первое ознакомление с ними"
   ]
  },
  {
   "cell_type": "code",
   "execution_count": 4,
   "id": "ac994472",
   "metadata": {},
   "outputs": [
    {
     "name": "stdout",
     "output_type": "stream",
     "text": [
      "<class 'pandas.core.frame.DataFrame'>\n",
      "RangeIndex: 1565 entries, 0 to 1564\n",
      "Data columns (total 5 columns):\n",
      " #   Column             Non-Null Count  Dtype \n",
      "---  ------             --------------  ----- \n",
      " 0   user_id            1565 non-null   int64 \n",
      " 1   name               1565 non-null   object\n",
      " 2   age                1565 non-null   int64 \n",
      " 3   city               1565 non-null   object\n",
      " 4   subscription_type  1565 non-null   object\n",
      "dtypes: int64(2), object(3)\n",
      "memory usage: 61.3+ KB\n"
     ]
    }
   ],
   "source": [
    "datauser.info()"
   ]
  },
  {
   "cell_type": "markdown",
   "id": "82eb65cb",
   "metadata": {},
   "source": [
    "datasub.info()"
   ]
  },
  {
   "cell_type": "code",
   "execution_count": 5,
   "id": "314b0fca",
   "metadata": {},
   "outputs": [
    {
     "name": "stdout",
     "output_type": "stream",
     "text": [
      "<class 'pandas.core.frame.DataFrame'>\n",
      "RangeIndex: 18068 entries, 0 to 18067\n",
      "Data columns (total 4 columns):\n",
      " #   Column    Non-Null Count  Dtype  \n",
      "---  ------    --------------  -----  \n",
      " 0   user_id   18068 non-null  int64  \n",
      " 1   distance  18068 non-null  float64\n",
      " 2   duration  18068 non-null  float64\n",
      " 3   date      18068 non-null  object \n",
      "dtypes: float64(2), int64(1), object(1)\n",
      "memory usage: 564.8+ KB\n"
     ]
    }
   ],
   "source": [
    "datarides.info()"
   ]
  },
  {
   "cell_type": "code",
   "execution_count": 6,
   "id": "3db8e964",
   "metadata": {},
   "outputs": [
    {
     "name": "stdout",
     "output_type": "stream",
     "text": [
      "<class 'pandas.core.frame.DataFrame'>\n",
      "RangeIndex: 2 entries, 0 to 1\n",
      "Data columns (total 4 columns):\n",
      " #   Column             Non-Null Count  Dtype \n",
      "---  ------             --------------  ----- \n",
      " 0   subscription_type  2 non-null      object\n",
      " 1   minute_price       2 non-null      int64 \n",
      " 2   start_ride_price   2 non-null      int64 \n",
      " 3   subscription_fee   2 non-null      int64 \n",
      "dtypes: int64(3), object(1)\n",
      "memory usage: 192.0+ bytes\n"
     ]
    }
   ],
   "source": [
    "datasub.info()"
   ]
  },
  {
   "cell_type": "markdown",
   "id": "2e4f876c",
   "metadata": {},
   "source": [
    "<div class=\"alert alert-info\"> <b>Комментарий студента №2:</b> Более подробное ознакомление с данными. \n",
    "    В проекте есть информация о 1565 пользователях(имя, возраст и город), которые сделали более 18 000 поездок, расстояние и длительность этих поездок. А также наличие подписки у пользователей.\n",
    "    \n",
    "В датафреймах `name`, `city`, `subscription_type`, `date` представлены не в числовом формате, а в формате object, значения в `distance` и `duration` - числа с плавающей точкой, для всех остальных данных характерно int64(целые числа)\n",
    "    \n",
    "P.S. Обычно пропущенные значения я всегда рассматриваю в пункте преобработки данных, но если логически выполнять этот пункт здесь, то ок."
   ]
  },
  {
   "cell_type": "markdown",
   "id": "e95ebca7",
   "metadata": {},
   "source": [
    "### Предобработка данных"
   ]
  },
  {
   "cell_type": "code",
   "execution_count": 7,
   "id": "af6d202c",
   "metadata": {},
   "outputs": [
    {
     "name": "stdout",
     "output_type": "stream",
     "text": [
      "user_id     0\n",
      "distance    0\n",
      "duration    0\n",
      "date        0\n",
      "month       0\n",
      "dtype: int64\n",
      "user_id              0\n",
      "name                 0\n",
      "age                  0\n",
      "city                 0\n",
      "subscription_type    0\n",
      "dtype: int64\n",
      "subscription_type    0\n",
      "minute_price         0\n",
      "start_ride_price     0\n",
      "subscription_fee     0\n",
      "dtype: int64\n"
     ]
    }
   ],
   "source": [
    "datarides['date'] = pd.to_datetime(datarides['date'], format= '%Y-%m-%d')\n",
    "datarides['month'] = datarides['date'].dt.month\n",
    "print(datarides.isna().sum())\n",
    "print(datauser.isna().sum())\n",
    "print(datasub.isna().sum())"
   ]
  },
  {
   "cell_type": "code",
   "execution_count": 8,
   "id": "ef6cd844",
   "metadata": {},
   "outputs": [
    {
     "data": {
      "text/plain": [
       "count                            18068\n",
       "mean     2021-06-30 19:47:21.266327296\n",
       "min                2021-01-01 00:00:00\n",
       "25%                2021-04-02 00:00:00\n",
       "50%                2021-06-30 00:00:00\n",
       "75%                2021-09-28 00:00:00\n",
       "max                2021-12-30 00:00:00\n",
       "Name: date, dtype: object"
      ]
     },
     "execution_count": 8,
     "metadata": {},
     "output_type": "execute_result"
    }
   ],
   "source": [
    "datarides['date'].describe(datetime_is_numeric=True)"
   ]
  },
  {
   "cell_type": "markdown",
   "id": "9ca4e818",
   "metadata": {},
   "source": [
    "<div class=\"alert alert-info\"> <b>Комментарий студента №2:</b> Проверяем столбец `date`. Все значения приходятся на 2021 год."
   ]
  },
  {
   "cell_type": "code",
   "execution_count": 9,
   "id": "d804ab35",
   "metadata": {},
   "outputs": [
    {
     "name": "stdout",
     "output_type": "stream",
     "text": [
      "0\n",
      "31\n",
      "0\n"
     ]
    }
   ],
   "source": [
    "print(datarides.duplicated().sum())\n",
    "print(datauser.duplicated().sum())\n",
    "print(datasub.duplicated().sum())\n",
    "datauser = datauser.drop_duplicates()"
   ]
  },
  {
   "cell_type": "markdown",
   "id": "d52d58a7",
   "metadata": {},
   "source": [
    "**<font color=\"green\">Комментарий студента:<font>** В данной части мы обрабатываем все три датафрейма. В datarides мы переводим столбец `date` к типу даты в pandas, далее для каждой поездки мы создаем столбец с номером месяца. \n",
    " \n",
    "Проверяем на пропуски и на явные дубликаты."
   ]
  },
  {
   "cell_type": "markdown",
   "id": "212593c7",
   "metadata": {},
   "source": [
    "### Исследовательский анализ данных"
   ]
  },
  {
   "cell_type": "code",
   "execution_count": 10,
   "id": "9cff01d0",
   "metadata": {},
   "outputs": [
    {
     "name": "stdout",
     "output_type": "stream",
     "text": [
      "Пятигорск         219\n",
      "Екатеринбург      204\n",
      "Ростов-на-Дону    198\n",
      "Краснодар         193\n",
      "Сочи              189\n",
      "Омск              183\n",
      "Тюмень            180\n",
      "Москва            168\n",
      "Name: city, dtype: int64\n"
     ]
    },
    {
     "data": {
      "image/png": "[encoded data removed]",
      "text/plain": [
       "<Figure size 864x504 with 1 Axes>"
      ]
     },
     "metadata": {
      "needs_background": "light"
     },
     "output_type": "display_data"
    }
   ],
   "source": [
    "print(datauser['city'].value_counts())\n",
    "datauser[\"city\"].value_counts().plot.bar(title='Распределение пользователей по городам',\\\n",
    "figsize=(12, 7), grid=True, color = \"lightblue\", xlabel='Название города', ylabel='Количество пользователей');"
   ]
  },
  {
   "cell_type": "markdown",
   "id": "c8b7a6d6",
   "metadata": {},
   "source": [
    "**<font color=\"green\">Комментарий студента:<font>** Визуализируем данные о городах, в которых компания ведёт свою деятельность и которые есть в датасете. Самый популярный город - Пятигорск, наименьшее количество пользователей в Москве, скорее всего, в Москве наибольшая конкуренция среди всех городов. Разница между двумя городами - 51 пользователь."
   ]
  },
  {
   "cell_type": "code",
   "execution_count": 11,
   "id": "ee2ea4ad",
   "metadata": {},
   "outputs": [
    {
     "name": "stdout",
     "output_type": "stream",
     "text": [
      "free     835\n",
      "ultra    699\n",
      "Name: subscription_type, dtype: int64\n"
     ]
    },
    {
     "data": {
      "image/png": "[encoded data removed]",
      "text/plain": [
       "<Figure size 864x504 with 1 Axes>"
      ]
     },
     "metadata": {},
     "output_type": "display_data"
    }
   ],
   "source": [
    "print(datauser[\"subscription_type\"].value_counts())\n",
    "datauser[\"subscription_type\"].value_counts().plot.pie(title='Соотношение пользователей с подпиской и без неё',figsize=(12, 7));"
   ]
  },
  {
   "cell_type": "code",
   "execution_count": 12,
   "id": "a528c049",
   "metadata": {},
   "outputs": [
    {
     "name": "stdout",
     "output_type": "stream",
     "text": [
      "Количество пользователей с подпиской составляет: 45.57 %\n",
      "Количество пользователей без подписки составляет: 54.43 %\n"
     ]
    }
   ],
   "source": [
    "a = 699\n",
    "b = 835\n",
    "c = (a + b)\n",
    "print('Количество пользователей с подпиской составляет:',round(a/c*100, 2),'%')\n",
    "print('Количество пользователей без подписки составляет:',round(b/c*100, 2),'%')"
   ]
  },
  {
   "cell_type": "markdown",
   "id": "a75041d1",
   "metadata": {},
   "source": [
    "**<font color=\"green\">Комментарий студента:<font>** Информация о пользователях с подпиской и без. Клиентов с подпиской меньше порядка на 19%."
   ]
  },
  {
   "cell_type": "code",
   "execution_count": 13,
   "id": "0cbde53d",
   "metadata": {},
   "outputs": [
    {
     "data": {
      "text/plain": [
       "25    145\n",
       "24    132\n",
       "26    131\n",
       "23    129\n",
       "27    119\n",
       "22    119\n",
       "28    112\n",
       "21     93\n",
       "20     71\n",
       "30     68\n",
       "29     68\n",
       "31     48\n",
       "19     47\n",
       "18     46\n",
       "32     41\n",
       "33     39\n",
       "17     26\n",
       "34     19\n",
       "16     19\n",
       "35     15\n",
       "15     13\n",
       "14      9\n",
       "13      8\n",
       "36      6\n",
       "12      4\n",
       "38      3\n",
       "37      2\n",
       "39      1\n",
       "43      1\n",
       "Name: age, dtype: int64"
      ]
     },
     "execution_count": 13,
     "metadata": {},
     "output_type": "execute_result"
    },
    {
     "data": {
      "image/png": "[encoded data removed]",
      "text/plain": [
       "<Figure size 864x504 with 1 Axes>"
      ]
     },
     "metadata": {
      "needs_background": "light"
     },
     "output_type": "display_data"
    }
   ],
   "source": [
    "datauser['age'].plot(kind='hist', bins=10,title='Распределение пользователей по возрасту',\\\n",
    "figsize=(12, 7), grid=True, color = \"lightblue\", xlabel='Возраст пользователя', ylabel='Количество пользователей');\n",
    "datauser['age'].value_counts()"
   ]
  },
  {
   "cell_type": "markdown",
   "id": "875875ee",
   "metadata": {},
   "source": [
    "**<font color=\"green\">Комментарий студента:<font>** Рассмотрим информацию о возрасте пользователей. Средний возраст - 25 лет. Наибольший - 43 года. Также есть группа подростков-детей, которым меньше 16 лет."
   ]
  },
  {
   "cell_type": "code",
   "execution_count": 14,
   "id": "08fa3a20",
   "metadata": {},
   "outputs": [
    {
     "data": {
      "text/plain": [
       "count   18068.00\n",
       "mean     3070.66\n",
       "std      1116.83\n",
       "min         0.86\n",
       "25%      2543.23\n",
       "50%      3133.61\n",
       "75%      3776.22\n",
       "max      7211.01\n",
       "Name: distance, dtype: float64"
      ]
     },
     "execution_count": 14,
     "metadata": {},
     "output_type": "execute_result"
    },
    {
     "data": {
      "image/png": "[encoded data removed]",
      "text/plain": [
       "<Figure size 864x504 with 1 Axes>"
      ]
     },
     "metadata": {
      "needs_background": "light"
     },
     "output_type": "display_data"
    }
   ],
   "source": [
    "datarides['distance'].plot(kind='hist', bins=10,title='Пройденное расстояние',\\\n",
    "figsize=(12, 7), grid=True, color = \"lightblue\");\n",
    "datarides['distance'].describe()"
   ]
  },
  {
   "cell_type": "code",
   "execution_count": 15,
   "id": "4292ea56",
   "metadata": {},
   "outputs": [
    {
     "data": {
      "text/plain": [
       "<AxesSubplot:>"
      ]
     },
     "execution_count": 15,
     "metadata": {},
     "output_type": "execute_result"
    },
    {
     "data": {
      "image/png": "[encoded data removed]",
      "text/plain": [
       "<Figure size 864x504 with 1 Axes>"
      ]
     },
     "metadata": {
      "needs_background": "light"
     },
     "output_type": "display_data"
    }
   ],
   "source": [
    "datarides.boxplot('distance', figsize=(12, 7))"
   ]
  },
  {
   "cell_type": "code",
   "execution_count": 16,
   "id": "de89ed4b",
   "metadata": {},
   "outputs": [
    {
     "data": {
      "text/html": [
       "<div>\n",
       "<style scoped>\n",
       "    .dataframe tbody tr th:only-of-type {\n",
       "        vertical-align: middle;\n",
       "    }\n",
       "\n",
       "    .dataframe tbody tr th {\n",
       "        vertical-align: top;\n",
       "    }\n",
       "\n",
       "    .dataframe thead th {\n",
       "        text-align: right;\n",
       "    }\n",
       "</style>\n",
       "<table border=\"1\" class=\"dataframe\">\n",
       "  <thead>\n",
       "    <tr style=\"text-align: right;\">\n",
       "      <th></th>\n",
       "      <th>user_id</th>\n",
       "      <th>distance</th>\n",
       "      <th>duration</th>\n",
       "      <th>date</th>\n",
       "      <th>month</th>\n",
       "    </tr>\n",
       "  </thead>\n",
       "  <tbody>\n",
       "    <tr>\n",
       "      <th>7841</th>\n",
       "      <td>796</td>\n",
       "      <td>7.10</td>\n",
       "      <td>10.03</td>\n",
       "      <td>2021-11-26</td>\n",
       "      <td>11</td>\n",
       "    </tr>\n",
       "    <tr>\n",
       "      <th>8658</th>\n",
       "      <td>861</td>\n",
       "      <td>6.78</td>\n",
       "      <td>6.02</td>\n",
       "      <td>2021-07-21</td>\n",
       "      <td>7</td>\n",
       "    </tr>\n",
       "    <tr>\n",
       "      <th>9541</th>\n",
       "      <td>925</td>\n",
       "      <td>2.57</td>\n",
       "      <td>3.01</td>\n",
       "      <td>2021-10-19</td>\n",
       "      <td>10</td>\n",
       "    </tr>\n",
       "    <tr>\n",
       "      <th>11555</th>\n",
       "      <td>1069</td>\n",
       "      <td>0.86</td>\n",
       "      <td>10.00</td>\n",
       "      <td>2021-01-31</td>\n",
       "      <td>1</td>\n",
       "    </tr>\n",
       "    <tr>\n",
       "      <th>13690</th>\n",
       "      <td>1223</td>\n",
       "      <td>4.33</td>\n",
       "      <td>4.01</td>\n",
       "      <td>2021-05-22</td>\n",
       "      <td>5</td>\n",
       "    </tr>\n",
       "  </tbody>\n",
       "</table>\n",
       "</div>"
      ],
      "text/plain": [
       "       user_id  distance  duration       date  month\n",
       "7841       796      7.10     10.03 2021-11-26     11\n",
       "8658       861      6.78      6.02 2021-07-21      7\n",
       "9541       925      2.57      3.01 2021-10-19     10\n",
       "11555     1069      0.86     10.00 2021-01-31      1\n",
       "13690     1223      4.33      4.01 2021-05-22      5"
      ]
     },
     "execution_count": 16,
     "metadata": {},
     "output_type": "execute_result"
    }
   ],
   "source": [
    "datarides.query('distance < 10')"
   ]
  },
  {
   "cell_type": "markdown",
   "id": "3114853f",
   "metadata": {},
   "source": [
    "**<font color=\"green\">Комментарий студента:<font>** Здесь стоит обратить внимание на возможные аномальные значения. Всё что выходит за пределы третьего квартиля + 1.5 межквартильного размаха - нормальное явление, так как максимальное расстояние в 7км не является чем-то невозможным. \n",
    "    \n",
    "То что меньше 1 квартиля + 1.5 межквартильного размаха тоже не является аномальным значением, так как в датафрейме нет нулевых значений, а значит с ними стоит продолжать работу.\n",
    "    \n",
    "Наибольшее частое расстояние - 3 км."
   ]
  },
  {
   "cell_type": "code",
   "execution_count": 17,
   "id": "ca6b0911",
   "metadata": {
    "scrolled": false
   },
   "outputs": [
    {
     "data": {
      "text/plain": [
       "count   18068.00\n",
       "mean       17.81\n",
       "std         6.09\n",
       "min         0.50\n",
       "25%        13.60\n",
       "50%        17.68\n",
       "75%        21.72\n",
       "max        40.82\n",
       "Name: duration, dtype: float64"
      ]
     },
     "execution_count": 17,
     "metadata": {},
     "output_type": "execute_result"
    },
    {
     "data": {
      "image/png": "[encoded data removed]",
      "text/plain": [
       "<Figure size 864x504 with 1 Axes>"
      ]
     },
     "metadata": {
      "needs_background": "light"
     },
     "output_type": "display_data"
    }
   ],
   "source": [
    "datarides['duration'].plot(kind='hist', bins=10,title='Время пользователей',\\\n",
    "figsize=(12, 7), grid=True, color = \"lightblue\");\n",
    "datarides['duration'].describe()"
   ]
  },
  {
   "cell_type": "code",
   "execution_count": 18,
   "id": "1440702c",
   "metadata": {},
   "outputs": [
    {
     "data": {
      "text/plain": [
       "<AxesSubplot:>"
      ]
     },
     "execution_count": 18,
     "metadata": {},
     "output_type": "execute_result"
    },
    {
     "data": {
      "image/png": "[encoded data removed]",
      "text/plain": [
       "<Figure size 864x504 with 1 Axes>"
      ]
     },
     "metadata": {
      "needs_background": "light"
     },
     "output_type": "display_data"
    }
   ],
   "source": [
    "datarides.boxplot('duration', figsize=(12, 7))"
   ]
  },
  {
   "cell_type": "code",
   "execution_count": 19,
   "id": "99cacfc4",
   "metadata": {},
   "outputs": [
    {
     "data": {
      "text/html": [
       "<div>\n",
       "<style scoped>\n",
       "    .dataframe tbody tr th:only-of-type {\n",
       "        vertical-align: middle;\n",
       "    }\n",
       "\n",
       "    .dataframe tbody tr th {\n",
       "        vertical-align: top;\n",
       "    }\n",
       "\n",
       "    .dataframe thead th {\n",
       "        text-align: right;\n",
       "    }\n",
       "</style>\n",
       "<table border=\"1\" class=\"dataframe\">\n",
       "  <thead>\n",
       "    <tr style=\"text-align: right;\">\n",
       "      <th></th>\n",
       "      <th>user_id</th>\n",
       "      <th>distance</th>\n",
       "      <th>duration</th>\n",
       "      <th>date</th>\n",
       "      <th>month</th>\n",
       "    </tr>\n",
       "  </thead>\n",
       "  <tbody>\n",
       "    <tr>\n",
       "      <th>4215</th>\n",
       "      <td>454</td>\n",
       "      <td>5137.33</td>\n",
       "      <td>40.82</td>\n",
       "      <td>2021-12-27</td>\n",
       "      <td>12</td>\n",
       "    </tr>\n",
       "  </tbody>\n",
       "</table>\n",
       "</div>"
      ],
      "text/plain": [
       "      user_id  distance  duration       date  month\n",
       "4215      454   5137.33     40.82 2021-12-27     12"
      ]
     },
     "execution_count": 19,
     "metadata": {},
     "output_type": "execute_result"
    }
   ],
   "source": [
    "datarides.query('duration > 40')"
   ]
  },
  {
   "cell_type": "markdown",
   "id": "eabf16c2",
   "metadata": {},
   "source": [
    "**<font color=\"green\">Комментарий студента:<font>** Аналогичная проверка и для длительности поездок. Есть значения, которые выходят за пределы диаграммы размаха, но они не являются аномалиями.\n",
    "\n",
    "Чаще всего самокат арендуют от 15 до 20 минут.\n",
    "    \n",
    "    \n",
    "**В данном шаге** были визуализированы данные по основным разделам, а также проанализированны возможные аномалии."
   ]
  },
  {
   "cell_type": "markdown",
   "id": "4ef51331",
   "metadata": {},
   "source": [
    "### Объединение данных"
   ]
  },
  {
   "cell_type": "code",
   "execution_count": 20,
   "id": "6bf288b5",
   "metadata": {},
   "outputs": [],
   "source": [
    "dataqwe = datauser.merge(datarides, on='user_id')"
   ]
  },
  {
   "cell_type": "code",
   "execution_count": 21,
   "id": "557d34d1",
   "metadata": {},
   "outputs": [
    {
     "data": {
      "text/html": [
       "<div>\n",
       "<style scoped>\n",
       "    .dataframe tbody tr th:only-of-type {\n",
       "        vertical-align: middle;\n",
       "    }\n",
       "\n",
       "    .dataframe tbody tr th {\n",
       "        vertical-align: top;\n",
       "    }\n",
       "\n",
       "    .dataframe thead th {\n",
       "        text-align: right;\n",
       "    }\n",
       "</style>\n",
       "<table border=\"1\" class=\"dataframe\">\n",
       "  <thead>\n",
       "    <tr style=\"text-align: right;\">\n",
       "      <th></th>\n",
       "      <th>user_id</th>\n",
       "      <th>name</th>\n",
       "      <th>age</th>\n",
       "      <th>city</th>\n",
       "      <th>subscription_type</th>\n",
       "      <th>distance</th>\n",
       "      <th>duration</th>\n",
       "      <th>date</th>\n",
       "      <th>month</th>\n",
       "      <th>minute_price</th>\n",
       "      <th>start_ride_price</th>\n",
       "      <th>subscription_fee</th>\n",
       "    </tr>\n",
       "  </thead>\n",
       "  <tbody>\n",
       "    <tr>\n",
       "      <th>0</th>\n",
       "      <td>1</td>\n",
       "      <td>Кира</td>\n",
       "      <td>22</td>\n",
       "      <td>Тюмень</td>\n",
       "      <td>ultra</td>\n",
       "      <td>4409.92</td>\n",
       "      <td>26.00</td>\n",
       "      <td>2021-01-01</td>\n",
       "      <td>1</td>\n",
       "      <td>6</td>\n",
       "      <td>0</td>\n",
       "      <td>199</td>\n",
       "    </tr>\n",
       "    <tr>\n",
       "      <th>1</th>\n",
       "      <td>1</td>\n",
       "      <td>Кира</td>\n",
       "      <td>22</td>\n",
       "      <td>Тюмень</td>\n",
       "      <td>ultra</td>\n",
       "      <td>2617.59</td>\n",
       "      <td>16.00</td>\n",
       "      <td>2021-01-18</td>\n",
       "      <td>1</td>\n",
       "      <td>6</td>\n",
       "      <td>0</td>\n",
       "      <td>199</td>\n",
       "    </tr>\n",
       "    <tr>\n",
       "      <th>2</th>\n",
       "      <td>1</td>\n",
       "      <td>Кира</td>\n",
       "      <td>22</td>\n",
       "      <td>Тюмень</td>\n",
       "      <td>ultra</td>\n",
       "      <td>754.16</td>\n",
       "      <td>7.00</td>\n",
       "      <td>2021-04-20</td>\n",
       "      <td>4</td>\n",
       "      <td>6</td>\n",
       "      <td>0</td>\n",
       "      <td>199</td>\n",
       "    </tr>\n",
       "    <tr>\n",
       "      <th>3</th>\n",
       "      <td>1</td>\n",
       "      <td>Кира</td>\n",
       "      <td>22</td>\n",
       "      <td>Тюмень</td>\n",
       "      <td>ultra</td>\n",
       "      <td>2694.78</td>\n",
       "      <td>19.00</td>\n",
       "      <td>2021-08-11</td>\n",
       "      <td>8</td>\n",
       "      <td>6</td>\n",
       "      <td>0</td>\n",
       "      <td>199</td>\n",
       "    </tr>\n",
       "    <tr>\n",
       "      <th>4</th>\n",
       "      <td>1</td>\n",
       "      <td>Кира</td>\n",
       "      <td>22</td>\n",
       "      <td>Тюмень</td>\n",
       "      <td>ultra</td>\n",
       "      <td>4028.69</td>\n",
       "      <td>27.00</td>\n",
       "      <td>2021-08-28</td>\n",
       "      <td>8</td>\n",
       "      <td>6</td>\n",
       "      <td>0</td>\n",
       "      <td>199</td>\n",
       "    </tr>\n",
       "    <tr>\n",
       "      <th>...</th>\n",
       "      <td>...</td>\n",
       "      <td>...</td>\n",
       "      <td>...</td>\n",
       "      <td>...</td>\n",
       "      <td>...</td>\n",
       "      <td>...</td>\n",
       "      <td>...</td>\n",
       "      <td>...</td>\n",
       "      <td>...</td>\n",
       "      <td>...</td>\n",
       "      <td>...</td>\n",
       "      <td>...</td>\n",
       "    </tr>\n",
       "    <tr>\n",
       "      <th>18063</th>\n",
       "      <td>1534</td>\n",
       "      <td>Альберт</td>\n",
       "      <td>25</td>\n",
       "      <td>Краснодар</td>\n",
       "      <td>free</td>\n",
       "      <td>3781.10</td>\n",
       "      <td>20.00</td>\n",
       "      <td>2021-11-04</td>\n",
       "      <td>11</td>\n",
       "      <td>8</td>\n",
       "      <td>50</td>\n",
       "      <td>0</td>\n",
       "    </tr>\n",
       "    <tr>\n",
       "      <th>18064</th>\n",
       "      <td>1534</td>\n",
       "      <td>Альберт</td>\n",
       "      <td>25</td>\n",
       "      <td>Краснодар</td>\n",
       "      <td>free</td>\n",
       "      <td>2840.42</td>\n",
       "      <td>22.00</td>\n",
       "      <td>2021-11-16</td>\n",
       "      <td>11</td>\n",
       "      <td>8</td>\n",
       "      <td>50</td>\n",
       "      <td>0</td>\n",
       "    </tr>\n",
       "    <tr>\n",
       "      <th>18065</th>\n",
       "      <td>1534</td>\n",
       "      <td>Альберт</td>\n",
       "      <td>25</td>\n",
       "      <td>Краснодар</td>\n",
       "      <td>free</td>\n",
       "      <td>3826.19</td>\n",
       "      <td>19.00</td>\n",
       "      <td>2021-11-18</td>\n",
       "      <td>11</td>\n",
       "      <td>8</td>\n",
       "      <td>50</td>\n",
       "      <td>0</td>\n",
       "    </tr>\n",
       "    <tr>\n",
       "      <th>18066</th>\n",
       "      <td>1534</td>\n",
       "      <td>Альберт</td>\n",
       "      <td>25</td>\n",
       "      <td>Краснодар</td>\n",
       "      <td>free</td>\n",
       "      <td>2902.31</td>\n",
       "      <td>17.00</td>\n",
       "      <td>2021-11-27</td>\n",
       "      <td>11</td>\n",
       "      <td>8</td>\n",
       "      <td>50</td>\n",
       "      <td>0</td>\n",
       "    </tr>\n",
       "    <tr>\n",
       "      <th>18067</th>\n",
       "      <td>1534</td>\n",
       "      <td>Альберт</td>\n",
       "      <td>25</td>\n",
       "      <td>Краснодар</td>\n",
       "      <td>free</td>\n",
       "      <td>2371.71</td>\n",
       "      <td>16.00</td>\n",
       "      <td>2021-12-29</td>\n",
       "      <td>12</td>\n",
       "      <td>8</td>\n",
       "      <td>50</td>\n",
       "      <td>0</td>\n",
       "    </tr>\n",
       "  </tbody>\n",
       "</table>\n",
       "<p>18068 rows × 12 columns</p>\n",
       "</div>"
      ],
      "text/plain": [
       "       user_id     name  age       city subscription_type  distance  duration  \\\n",
       "0            1     Кира   22     Тюмень             ultra   4409.92     26.00   \n",
       "1            1     Кира   22     Тюмень             ultra   2617.59     16.00   \n",
       "2            1     Кира   22     Тюмень             ultra    754.16      7.00   \n",
       "3            1     Кира   22     Тюмень             ultra   2694.78     19.00   \n",
       "4            1     Кира   22     Тюмень             ultra   4028.69     27.00   \n",
       "...        ...      ...  ...        ...               ...       ...       ...   \n",
       "18063     1534  Альберт   25  Краснодар              free   3781.10     20.00   \n",
       "18064     1534  Альберт   25  Краснодар              free   2840.42     22.00   \n",
       "18065     1534  Альберт   25  Краснодар              free   3826.19     19.00   \n",
       "18066     1534  Альберт   25  Краснодар              free   2902.31     17.00   \n",
       "18067     1534  Альберт   25  Краснодар              free   2371.71     16.00   \n",
       "\n",
       "            date  month  minute_price  start_ride_price  subscription_fee  \n",
       "0     2021-01-01      1             6                 0               199  \n",
       "1     2021-01-18      1             6                 0               199  \n",
       "2     2021-04-20      4             6                 0               199  \n",
       "3     2021-08-11      8             6                 0               199  \n",
       "4     2021-08-28      8             6                 0               199  \n",
       "...          ...    ...           ...               ...               ...  \n",
       "18063 2021-11-04     11             8                50                 0  \n",
       "18064 2021-11-16     11             8                50                 0  \n",
       "18065 2021-11-18     11             8                50                 0  \n",
       "18066 2021-11-27     11             8                50                 0  \n",
       "18067 2021-12-29     12             8                50                 0  \n",
       "\n",
       "[18068 rows x 12 columns]"
      ]
     },
     "metadata": {},
     "output_type": "display_data"
    }
   ],
   "source": [
    "dataqwe = dataqwe.merge(datasub, on='subscription_type')\n",
    "dataqwe['duration'] = np.ceil(dataqwe['duration']) \n",
    "display(dataqwe)"
   ]
  },
  {
   "cell_type": "code",
   "execution_count": 22,
   "id": "3596fb68",
   "metadata": {},
   "outputs": [
    {
     "name": "stdout",
     "output_type": "stream",
     "text": [
      "<class 'pandas.core.frame.DataFrame'>\n",
      "Int64Index: 18068 entries, 0 to 18067\n",
      "Data columns (total 12 columns):\n",
      " #   Column             Non-Null Count  Dtype         \n",
      "---  ------             --------------  -----         \n",
      " 0   user_id            18068 non-null  int64         \n",
      " 1   name               18068 non-null  object        \n",
      " 2   age                18068 non-null  int64         \n",
      " 3   city               18068 non-null  object        \n",
      " 4   subscription_type  18068 non-null  object        \n",
      " 5   distance           18068 non-null  float64       \n",
      " 6   duration           18068 non-null  float64       \n",
      " 7   date               18068 non-null  datetime64[ns]\n",
      " 8   month              18068 non-null  int64         \n",
      " 9   minute_price       18068 non-null  int64         \n",
      " 10  start_ride_price   18068 non-null  int64         \n",
      " 11  subscription_fee   18068 non-null  int64         \n",
      "dtypes: datetime64[ns](1), float64(2), int64(6), object(3)\n",
      "memory usage: 1.8+ MB\n",
      "\n",
      "user_id              0\n",
      "name                 0\n",
      "age                  0\n",
      "city                 0\n",
      "subscription_type    0\n",
      "distance             0\n",
      "duration             0\n",
      "date                 0\n",
      "month                0\n",
      "minute_price         0\n",
      "start_ride_price     0\n",
      "subscription_fee     0\n",
      "dtype: int64\n",
      "\n",
      "0\n"
     ]
    }
   ],
   "source": [
    "dataqwe.info()\n",
    "print()\n",
    "print(dataqwe.isna().sum())\n",
    "print()\n",
    "print(dataqwe.duplicated().sum())"
   ]
  },
  {
   "cell_type": "markdown",
   "id": "4cbbf8fd",
   "metadata": {},
   "source": [
    "<div class=\"alert alert-info\"> <b>Комментарий студента №2:</b> Размер датафрейма не изменился, пропуски также отсутствуют."
   ]
  },
  {
   "cell_type": "markdown",
   "id": "a06a7739",
   "metadata": {},
   "source": [
    "**<font color=\"green\">Комментарий студента:<font>** На данном этапе соединяем все три таблицы в одну единую с помощью метода merge(), а также округляем значения в столбце `duration`."
   ]
  },
  {
   "cell_type": "code",
   "execution_count": 23,
   "id": "dec3bd1f",
   "metadata": {},
   "outputs": [],
   "source": [
    "datafree = dataqwe.query('subscription_type == \"free\"')\n",
    "dataultra = dataqwe.query('subscription_type == \"ultra\"')"
   ]
  },
  {
   "cell_type": "markdown",
   "id": "2904cc02",
   "metadata": {},
   "source": [
    "**<font color=\"green\">Комментарий студента:<font>** Из уже основной таблицы создаём две отдельные, которые будут отличаться по наличию подписки у пользователей. Визуализируем их."
   ]
  },
  {
   "cell_type": "code",
   "execution_count": 24,
   "id": "e648a6d3",
   "metadata": {},
   "outputs": [
    {
     "data": {
      "text/plain": [
       "count   11568.00\n",
       "mean     3045.50\n",
       "std      1246.17\n",
       "min         0.86\n",
       "25%      2366.56\n",
       "50%      3114.65\n",
       "75%      3905.70\n",
       "max      7211.01\n",
       "Name: distance, dtype: float64"
      ]
     },
     "execution_count": 24,
     "metadata": {},
     "output_type": "execute_result"
    }
   ],
   "source": [
    "datafree['distance'].describe()"
   ]
  },
  {
   "cell_type": "markdown",
   "id": "969898a6",
   "metadata": {},
   "source": [
    "**<font color=\"green\">Комментарий студента:<font>** Всего в данной таблице более 11 000 поездок пользователей, у которых нет подписки. Среднее значение не сильно отличается от общей таблицы, здесь среднее расстояние от 2 200 метров до 3 500 метров."
   ]
  },
  {
   "cell_type": "code",
   "execution_count": 25,
   "id": "c7d5bb35",
   "metadata": {},
   "outputs": [
    {
     "data": {
      "text/plain": [
       "count   11568.00\n",
       "mean       17.89\n",
       "std         6.33\n",
       "min         1.00\n",
       "25%        13.00\n",
       "50%        18.00\n",
       "75%        22.00\n",
       "max        35.00\n",
       "Name: duration, dtype: float64"
      ]
     },
     "execution_count": 25,
     "metadata": {},
     "output_type": "execute_result"
    }
   ],
   "source": [
    "datafree['duration'].describe()"
   ]
  },
  {
   "cell_type": "markdown",
   "id": "ecb0b3d0",
   "metadata": {},
   "source": [
    "**<font color=\"green\">Комментарий студента:<font>** Минимальное время поездки - одна минута, максимальная - 35."
   ]
  },
  {
   "cell_type": "code",
   "execution_count": 26,
   "id": "6396137b",
   "metadata": {},
   "outputs": [
    {
     "data": {
      "text/plain": [
       "count   6500.00\n",
       "mean    3115.45\n",
       "std      836.90\n",
       "min      244.21\n",
       "25%     2785.44\n",
       "50%     3148.64\n",
       "75%     3560.57\n",
       "max     5699.77\n",
       "Name: distance, dtype: float64"
      ]
     },
     "execution_count": 26,
     "metadata": {},
     "output_type": "execute_result"
    }
   ],
   "source": [
    "dataultra['distance'].describe()"
   ]
  },
  {
   "cell_type": "markdown",
   "id": "946546f5",
   "metadata": {},
   "source": [
    "**<font color=\"green\">Комментарий студента:<font>** Для пользователей с подпиской среднее расстояние от 3 до 3.5км."
   ]
  },
  {
   "cell_type": "code",
   "execution_count": 27,
   "id": "59fb90c1",
   "metadata": {},
   "outputs": [
    {
     "data": {
      "text/plain": [
       "count   6500.00\n",
       "mean      19.04\n",
       "std        5.58\n",
       "min        4.00\n",
       "25%       15.00\n",
       "50%       19.00\n",
       "75%       22.00\n",
       "max       41.00\n",
       "Name: duration, dtype: float64"
      ]
     },
     "execution_count": 27,
     "metadata": {},
     "output_type": "execute_result"
    }
   ],
   "source": [
    "dataultra['duration'].describe()"
   ]
  },
  {
   "cell_type": "markdown",
   "id": "df095bea",
   "metadata": {},
   "source": [
    "**<font color=\"green\">Комментарий студента:<font>** Среднее время поездки от 13 до 25 минут."
   ]
  },
  {
   "cell_type": "code",
   "execution_count": 28,
   "id": "8adf6af1",
   "metadata": {},
   "outputs": [
    {
     "data": {
      "image/png": "[encoded data removed]",
      "text/plain": [
       "<Figure size 864x504 with 1 Axes>"
      ]
     },
     "metadata": {
      "needs_background": "light"
     },
     "output_type": "display_data"
    }
   ],
   "source": [
    "datafree['distance'].plot(kind='hist',bins=10,title='Сравнение пройденного расстояния для пользователей с подпиской и без неё',\\\n",
    "figsize=(12, 7), grid=True, color = \"lightblue\");\n",
    "dataultra['distance'].plot(kind='hist', bins=10,\\\n",
    "figsize=(12, 7), grid=True, color = \"darksalmon\");"
   ]
  },
  {
   "cell_type": "code",
   "execution_count": 29,
   "id": "4782d051",
   "metadata": {},
   "outputs": [
    {
     "data": {
      "image/png": "[encoded data removed]",
      "text/plain": [
       "<Figure size 864x504 with 1 Axes>"
      ]
     },
     "metadata": {
      "needs_background": "light"
     },
     "output_type": "display_data"
    }
   ],
   "source": [
    "datafree['duration'].plot(kind='hist', bins=10,title='Сравнение времение поездки для пользователей с подпиской и без неё',\\\n",
    "figsize=(12, 7), grid=True, color = \"lightblue\");\n",
    "dataultra['duration'].plot(kind='hist', bins=10,figsize=(12, 7), grid=True, color = \"darksalmon\");"
   ]
  },
  {
   "cell_type": "markdown",
   "id": "d9b52c6c",
   "metadata": {},
   "source": [
    "<div class=\"alert alert-info\"> <b>Комментарий студента №2:</b> Сравнив два графика можно выделить общую тенденцию для пользователей с подпиской и без подписки. В обоих случаях можно выявить сходства, разница только в максимальном значении, которое достигают пользователи без подписки относительно клиентов с ней. Однако такую разницу стоит аргументировать количеством пользователей."
   ]
  },
  {
   "cell_type": "markdown",
   "id": "aa108086",
   "metadata": {},
   "source": [
    "**В данном шаге** были объединены все три таблицы, а также созданы две новые с одним условием - наличие подписки. Также были представлены гистограммы для новых таблиц."
   ]
  },
  {
   "cell_type": "markdown",
   "id": "402d620f",
   "metadata": {},
   "source": [
    "### Подсчёт выручки"
   ]
  },
  {
   "cell_type": "code",
   "execution_count": 30,
   "id": "53049e0a",
   "metadata": {
    "scrolled": true
   },
   "outputs": [],
   "source": [
    "data = dataqwe.pivot_table\\\n",
    "(index=['user_id', 'month'],\\\n",
    "values=['duration', 'distance', 'name', 'subscription_type', 'minute_price','start_ride_price', 'subscription_fee'],\\\n",
    "aggfunc=\\\n",
    "{'duration':'sum', 'distance': 'sum', 'name':'count', 'subscription_type' : min, 'minute_price': min, 'start_ride_price': min, 'subscription_fee': min})\n",
    "data = data.rename(columns={'name': 'total_rides'})"
   ]
  },
  {
   "cell_type": "code",
   "execution_count": 31,
   "id": "febfdf14",
   "metadata": {},
   "outputs": [
    {
     "data": {
      "text/plain": [
       "distance             0\n",
       "duration             0\n",
       "minute_price         0\n",
       "total_rides          0\n",
       "start_ride_price     0\n",
       "subscription_fee     0\n",
       "subscription_type    0\n",
       "dtype: int64"
      ]
     },
     "execution_count": 31,
     "metadata": {},
     "output_type": "execute_result"
    }
   ],
   "source": [
    "data.isna().sum()"
   ]
  },
  {
   "cell_type": "code",
   "execution_count": 32,
   "id": "c8cf2d16",
   "metadata": {},
   "outputs": [],
   "source": [
    "def qwe(q):\n",
    "    if q['subscription_type'] == 'ultra':\n",
    "        return q['minute_price'] * q['duration'] + q['subscription_fee']\n",
    "    elif q['subscription_type'] == 'free':\n",
    "        return q['start_ride_price'] * q['total_rides'] + q['minute_price'] * q['duration'] + q['subscription_fee']"
   ]
  },
  {
   "cell_type": "code",
   "execution_count": 33,
   "id": "70f9309c",
   "metadata": {},
   "outputs": [
    {
     "data": {
      "text/html": [
       "<div>\n",
       "<style scoped>\n",
       "    .dataframe tbody tr th:only-of-type {\n",
       "        vertical-align: middle;\n",
       "    }\n",
       "\n",
       "    .dataframe tbody tr th {\n",
       "        vertical-align: top;\n",
       "    }\n",
       "\n",
       "    .dataframe thead th {\n",
       "        text-align: right;\n",
       "    }\n",
       "</style>\n",
       "<table border=\"1\" class=\"dataframe\">\n",
       "  <thead>\n",
       "    <tr style=\"text-align: right;\">\n",
       "      <th></th>\n",
       "      <th></th>\n",
       "      <th>distance</th>\n",
       "      <th>duration</th>\n",
       "      <th>minute_price</th>\n",
       "      <th>total_rides</th>\n",
       "      <th>start_ride_price</th>\n",
       "      <th>subscription_fee</th>\n",
       "      <th>subscription_type</th>\n",
       "      <th>revenue</th>\n",
       "    </tr>\n",
       "    <tr>\n",
       "      <th>user_id</th>\n",
       "      <th>month</th>\n",
       "      <th></th>\n",
       "      <th></th>\n",
       "      <th></th>\n",
       "      <th></th>\n",
       "      <th></th>\n",
       "      <th></th>\n",
       "      <th></th>\n",
       "      <th></th>\n",
       "    </tr>\n",
       "  </thead>\n",
       "  <tbody>\n",
       "    <tr>\n",
       "      <th rowspan=\"5\" valign=\"top\">1</th>\n",
       "      <th>1</th>\n",
       "      <td>7027.51</td>\n",
       "      <td>42.00</td>\n",
       "      <td>6</td>\n",
       "      <td>2</td>\n",
       "      <td>0</td>\n",
       "      <td>199</td>\n",
       "      <td>ultra</td>\n",
       "      <td>451.00</td>\n",
       "    </tr>\n",
       "    <tr>\n",
       "      <th>4</th>\n",
       "      <td>754.16</td>\n",
       "      <td>7.00</td>\n",
       "      <td>6</td>\n",
       "      <td>1</td>\n",
       "      <td>0</td>\n",
       "      <td>199</td>\n",
       "      <td>ultra</td>\n",
       "      <td>241.00</td>\n",
       "    </tr>\n",
       "    <tr>\n",
       "      <th>8</th>\n",
       "      <td>6723.47</td>\n",
       "      <td>46.00</td>\n",
       "      <td>6</td>\n",
       "      <td>2</td>\n",
       "      <td>0</td>\n",
       "      <td>199</td>\n",
       "      <td>ultra</td>\n",
       "      <td>475.00</td>\n",
       "    </tr>\n",
       "    <tr>\n",
       "      <th>10</th>\n",
       "      <td>5809.91</td>\n",
       "      <td>32.00</td>\n",
       "      <td>6</td>\n",
       "      <td>2</td>\n",
       "      <td>0</td>\n",
       "      <td>199</td>\n",
       "      <td>ultra</td>\n",
       "      <td>391.00</td>\n",
       "    </tr>\n",
       "    <tr>\n",
       "      <th>11</th>\n",
       "      <td>7003.50</td>\n",
       "      <td>56.00</td>\n",
       "      <td>6</td>\n",
       "      <td>3</td>\n",
       "      <td>0</td>\n",
       "      <td>199</td>\n",
       "      <td>ultra</td>\n",
       "      <td>535.00</td>\n",
       "    </tr>\n",
       "    <tr>\n",
       "      <th>...</th>\n",
       "      <th>...</th>\n",
       "      <td>...</td>\n",
       "      <td>...</td>\n",
       "      <td>...</td>\n",
       "      <td>...</td>\n",
       "      <td>...</td>\n",
       "      <td>...</td>\n",
       "      <td>...</td>\n",
       "      <td>...</td>\n",
       "    </tr>\n",
       "    <tr>\n",
       "      <th rowspan=\"5\" valign=\"top\">1534</th>\n",
       "      <th>6</th>\n",
       "      <td>3409.47</td>\n",
       "      <td>26.00</td>\n",
       "      <td>8</td>\n",
       "      <td>2</td>\n",
       "      <td>50</td>\n",
       "      <td>0</td>\n",
       "      <td>free</td>\n",
       "      <td>308.00</td>\n",
       "    </tr>\n",
       "    <tr>\n",
       "      <th>8</th>\n",
       "      <td>7622.45</td>\n",
       "      <td>48.00</td>\n",
       "      <td>8</td>\n",
       "      <td>2</td>\n",
       "      <td>50</td>\n",
       "      <td>0</td>\n",
       "      <td>free</td>\n",
       "      <td>484.00</td>\n",
       "    </tr>\n",
       "    <tr>\n",
       "      <th>9</th>\n",
       "      <td>4928.17</td>\n",
       "      <td>23.00</td>\n",
       "      <td>8</td>\n",
       "      <td>1</td>\n",
       "      <td>50</td>\n",
       "      <td>0</td>\n",
       "      <td>free</td>\n",
       "      <td>234.00</td>\n",
       "    </tr>\n",
       "    <tr>\n",
       "      <th>11</th>\n",
       "      <td>13350.02</td>\n",
       "      <td>78.00</td>\n",
       "      <td>8</td>\n",
       "      <td>4</td>\n",
       "      <td>50</td>\n",
       "      <td>0</td>\n",
       "      <td>free</td>\n",
       "      <td>824.00</td>\n",
       "    </tr>\n",
       "    <tr>\n",
       "      <th>12</th>\n",
       "      <td>2371.71</td>\n",
       "      <td>16.00</td>\n",
       "      <td>8</td>\n",
       "      <td>1</td>\n",
       "      <td>50</td>\n",
       "      <td>0</td>\n",
       "      <td>free</td>\n",
       "      <td>178.00</td>\n",
       "    </tr>\n",
       "  </tbody>\n",
       "</table>\n",
       "<p>11331 rows × 8 columns</p>\n",
       "</div>"
      ],
      "text/plain": [
       "               distance  duration  minute_price  total_rides  \\\n",
       "user_id month                                                  \n",
       "1       1       7027.51     42.00             6            2   \n",
       "        4        754.16      7.00             6            1   \n",
       "        8       6723.47     46.00             6            2   \n",
       "        10      5809.91     32.00             6            2   \n",
       "        11      7003.50     56.00             6            3   \n",
       "...                 ...       ...           ...          ...   \n",
       "1534    6       3409.47     26.00             8            2   \n",
       "        8       7622.45     48.00             8            2   \n",
       "        9       4928.17     23.00             8            1   \n",
       "        11     13350.02     78.00             8            4   \n",
       "        12      2371.71     16.00             8            1   \n",
       "\n",
       "               start_ride_price  subscription_fee subscription_type  revenue  \n",
       "user_id month                                                                 \n",
       "1       1                     0               199             ultra   451.00  \n",
       "        4                     0               199             ultra   241.00  \n",
       "        8                     0               199             ultra   475.00  \n",
       "        10                    0               199             ultra   391.00  \n",
       "        11                    0               199             ultra   535.00  \n",
       "...                         ...               ...               ...      ...  \n",
       "1534    6                    50                 0              free   308.00  \n",
       "        8                    50                 0              free   484.00  \n",
       "        9                    50                 0              free   234.00  \n",
       "        11                   50                 0              free   824.00  \n",
       "        12                   50                 0              free   178.00  \n",
       "\n",
       "[11331 rows x 8 columns]"
      ]
     },
     "execution_count": 33,
     "metadata": {},
     "output_type": "execute_result"
    }
   ],
   "source": [
    "data['revenue'] = data.apply(qwe, axis=1)\n",
    "data"
   ]
  },
  {
   "cell_type": "markdown",
   "id": "062c9fc6",
   "metadata": {},
   "source": [
    "**<font color=\"green\">Комментарий студента:<font>** Здесь я создаю сводную таблицу по пользователям и месяцам, где считаю общее количество поездок, их расстояние и длительность поездок. Далее с помощью функции и метода apply() добавляю новый столбец с ежемесячной выручкой для каждого пользователя. Итоговая таблица представлена выше.\n",
    "    \n",
    "P.S. Скорее всего можно было обойтись и без функции, а именно:\n",
    "\n",
    "**data['revenue'] = data['distance'] *...** Но могу быть неправ."
   ]
  },
  {
   "cell_type": "markdown",
   "id": "41545ac0",
   "metadata": {},
   "source": [
    "### Проверка гипотез"
   ]
  },
  {
   "cell_type": "markdown",
   "id": "ceb6f20a",
   "metadata": {},
   "source": [
    "**<font color=\"green\">Комментарий студента:<font>** Для всех тестов я выбрал значение уровня статистической значимости - 0.05. Сами тесты различаются в завимости от задания."
   ]
  },
  {
   "cell_type": "markdown",
   "id": "16c7f491",
   "metadata": {},
   "source": [
    "**6.1** Важно понять, тратят ли пользователи с подпиской больше времени на поездки?\n",
    "\n",
    "**H0** - среднее время поездки для пользователей с подпиской равна среднему времени поездки для пользователей без подписки.\n",
    "\n",
    "**H1** - среднее время поездки для пользователей с подпиской больше, чем у пользователей без неё."
   ]
  },
  {
   "cell_type": "code",
   "execution_count": 34,
   "id": "45437cba",
   "metadata": {},
   "outputs": [
    {
     "name": "stdout",
     "output_type": "stream",
     "text": [
      "p-значение: 1.1814679253701353e-36\n",
      "Отвергаем нулевую гипотезу\n"
     ]
    }
   ],
   "source": [
    "#6.1.\n",
    "alpha = 0.05\n",
    "results6_1 = st.ttest_ind(dataultra['duration'], datafree['duration'], equal_var=False, alternative='greater')\n",
    "print('p-значение:', results6_1.pvalue)\n",
    "if results6_1.pvalue < alpha:\n",
    "    print('Отвергаем нулевую гипотезу')\n",
    "else:\n",
    "    print('Не получилось отвергнуть нулевую гипотезу') "
   ]
  },
  {
   "cell_type": "markdown",
   "id": "4b190e31",
   "metadata": {},
   "source": [
    "<div class=\"alert alert-info\"> <b>Комментарий студента №2:</b> Здесь с помощью уже созданных таблиц я сравниваю среднее двух генеральных совокупностей.\n",
    "\n",
    "Итог - наличие подписки влияет на среднее время поездки, пользователи с подпиской ездят дольше. Компании стоит сделать упор на подписки, чтобы увеличить доход."
   ]
  },
  {
   "cell_type": "markdown",
   "id": "6387a3e0",
   "metadata": {},
   "source": [
    "**6.2** Можно ли сказать, что среднее расстояние, которое проезжают пользователи с подпиской за одну поездку, не превышает 3130 метров? \n",
    "\n",
    "**H0** - Среднее расстояние пользователей в подпиской = 3130 метров.\n",
    "\n",
    "**H1** - Среднее расстояние пользователей в подпиской больше 3130 метров."
   ]
  },
  {
   "cell_type": "code",
   "execution_count": 35,
   "id": "23ea867b",
   "metadata": {},
   "outputs": [
    {
     "name": "stdout",
     "output_type": "stream",
     "text": [
      "p-значение: 0.9195368847849785\n",
      "Не получилось отвергнуть нулевую гипотезу\n"
     ]
    }
   ],
   "source": [
    "#6.2\n",
    "interested_value = 3130\n",
    "alpha = 0.05\n",
    "results = st.ttest_1samp(dataultra['distance'], interested_value, alternative='greater')\n",
    "print('p-значение:', results.pvalue)\n",
    "if results.pvalue < alpha:\n",
    "    print('Отвергаем нулевую гипотезу')\n",
    "else:\n",
    "    print('Не получилось отвергнуть нулевую гипотезу')"
   ]
  },
  {
   "cell_type": "markdown",
   "id": "a19555f6",
   "metadata": {},
   "source": [
    "**<font color=\"green\">Комментарий студента:<font>** Таблицу с пользователями с подпиской сравнием с конкретным значением в 3130 метров.\n",
    "    \n",
    "Как итог не получилось отвергнуть нулевую гипотезу, пользователи с подпиской в среднем проезжают меньше данного значения."
   ]
  },
  {
   "cell_type": "markdown",
   "id": "67794a7f",
   "metadata": {},
   "source": [
    "<div class=\"alert alert-info\"> <b>Комментарий студента №2:</b> Компании GoFast стоит обратить внимание на наличие подписки у пользователей, в среднем клиенты с ежемесячной подпиской не подвергают самокат износу."
   ]
  },
  {
   "cell_type": "markdown",
   "id": "f2534e7e",
   "metadata": {},
   "source": [
    "**6.3** Будет ли помесячная выручка от пользователей с подпиской по месяцам выше, чем выручка от пользователей без подписки. \n",
    "\n",
    "**H0** - Средняя ежемесячная выручка у пользователей с подпиской равна средней ежемесячной выручке у пользователей без неё.\n",
    "\n",
    "**H1** - Средняя ежемесячная выручка у пользователей с подпиской больше чем у пользователей без неё."
   ]
  },
  {
   "cell_type": "code",
   "execution_count": 36,
   "id": "58a30d3a",
   "metadata": {},
   "outputs": [],
   "source": [
    "#6.3\n",
    "datanew1 = data.query('subscription_type == \"free\"')\n",
    "datanew2 = data.query('subscription_type == \"ultra\"')"
   ]
  },
  {
   "cell_type": "code",
   "execution_count": 37,
   "id": "84e3aea2",
   "metadata": {},
   "outputs": [
    {
     "name": "stdout",
     "output_type": "stream",
     "text": [
      "p-значение: 8.874140893976874e-40\n",
      "Отвергаем нулевую гипотезу\n"
     ]
    }
   ],
   "source": [
    "alpha = 0.05\n",
    "results1 = st.ttest_ind(datanew2['revenue'], datanew1['revenue'], equal_var=False, alternative='greater')\n",
    "print('p-значение:', results1.pvalue)\n",
    "if results1.pvalue < alpha:\n",
    "    print('Отвергаем нулевую гипотезу')\n",
    "else:\n",
    "    print('Не получилось отвергнуть нулевую гипотезу') "
   ]
  },
  {
   "cell_type": "markdown",
   "id": "b2c7f63a",
   "metadata": {},
   "source": [
    "<div class=\"alert alert-info\"> <b>Комментарий студента №2:</b> На первом шаге создаем два новых датафрейма, так как в старых нет информации о выручки\n",
    "    \n",
    "Дальше с помощью теста о средних двух генеральных совокупностей проверяем нулевую и альтернативную гипотезу.\n",
    "    \n",
    "\n",
    "Итог - люди с подпиской в среднем тратят больше денег на поездки в месяц, чем пользователи без неё."
   ]
  },
  {
   "cell_type": "markdown",
   "id": "b8aff091",
   "metadata": {},
   "source": [
    "**6.4. Для данной гипотезы подойдёт метод scipy.stats.ttest_rel(). Так как речь идёт о парной выборки до и после изменения.**"
   ]
  },
  {
   "cell_type": "markdown",
   "id": "5e9aec0e",
   "metadata": {},
   "source": [
    "<div class=\"alert alert-info\"> <b>Комментарий студента №2:</b> Односторонняя. \n",
    "\n",
    "H0 - количество обращений \"до\" и \"после\" одинакова\n",
    "\n",
    "H1 - количество обращений \"после\" < \"до\""
   ]
  },
  {
   "cell_type": "markdown",
   "id": "4dd747fa",
   "metadata": {},
   "source": [
    "<div class=\"alert alert-info\"> <b>Обновленный вывод 6 шага:</b> Две нулевые гипотезы были отвергнуты в пользу альтернативных, одну отвергнуть не получилось. Сервису GoFast стоит акцентировать внимание на наличие подписки у пользователей, ведь с точки зрения дохода они являются наиболее выгодными.\n",
    "  \n",
    "На данном этапе были использованы различные тесты, такие как: st.ttest_ind() и st.ttest_1samp()."
   ]
  },
  {
   "cell_type": "markdown",
   "id": "61213c5e",
   "metadata": {},
   "source": [
    "### Распределения"
   ]
  },
  {
   "cell_type": "markdown",
   "id": "017f5a85",
   "metadata": {},
   "source": [
    "7.1. Вероятность равна 10%, стартовое значение количества попыток - 1000, интересующее значение - 100."
   ]
  },
  {
   "cell_type": "code",
   "execution_count": 38,
   "id": "95cd1d51",
   "metadata": {},
   "outputs": [
    {
     "data": {
      "text/plain": [
       "0.5265990812951653"
      ]
     },
     "execution_count": 38,
     "metadata": {},
     "output_type": "execute_result"
    }
   ],
   "source": [
    "p = 0.1\n",
    "n = 1000\n",
    "k = 100\n",
    "prob = st.binom.cdf(k,n,p)\n",
    "prob"
   ]
  },
  {
   "cell_type": "markdown",
   "id": "18321ae8",
   "metadata": {},
   "source": [
    "**<font color=\"green\">Комментарий студента:<font>** При 1000 попытках вероятность равна чуть более 50%. С помощью цикла while найдём нужное количество попыток:"
   ]
  },
  {
   "cell_type": "code",
   "execution_count": 39,
   "id": "d62ffbb3",
   "metadata": {},
   "outputs": [
    {
     "name": "stdout",
     "output_type": "stream",
     "text": [
      "1172\n"
     ]
    }
   ],
   "source": [
    "while prob > 0.05:\n",
    "    n += 1\n",
    "    prob = st.binom.cdf(k,n,p)\n",
    "print(n)"
   ]
  },
  {
   "cell_type": "markdown",
   "id": "a9e9c5ca",
   "metadata": {},
   "source": [
    "**<font color=\"green\">Комментарий студента:<font>** 1172 оптимальное количество попыток, чтобы получить минимальное возможное значение в 100 подписок."
   ]
  },
  {
   "cell_type": "markdown",
   "id": "dcf54f71",
   "metadata": {},
   "source": [
    "7.2. Количество уведомлений один миллион, интересующее значение почти 400 000, вероятность на основе прошлых исследований - 40%. "
   ]
  },
  {
   "cell_type": "code",
   "execution_count": 40,
   "id": "2235c072",
   "metadata": {},
   "outputs": [
    {
     "name": "stdout",
     "output_type": "stream",
     "text": [
      "0.15371708296369768\n"
     ]
    }
   ],
   "source": [
    "n = 1000000 \n",
    "p = 0.4\n",
    "mu =n*p\n",
    "sigma = sqrt(n * p * (1-p))\n",
    "distr = st.norm(mu, sigma)\n",
    "result = distr.cdf(399500)\n",
    "print(result)"
   ]
  },
  {
   "cell_type": "markdown",
   "id": "0dcd6572",
   "metadata": {},
   "source": [
    "<div class=\"alert alert-info\"> <b>Комментарий студента №2:</b> При миллионе уведомлений, вероятность открыть не более 399500 рассылок равна 15%"
   ]
  },
  {
   "cell_type": "markdown",
   "id": "af3824ed",
   "metadata": {},
   "source": [
    "**<font color=\"green\">Комментарий студента:<font>** Итог данного этапа:\n",
    "    \n",
    "Были спрогнозированы два возможных случая, которые интересуют компанию.\n",
    "\n",
    "К сожалению, не знаю как построить графики, помогите..."
   ]
  },
  {
   "cell_type": "markdown",
   "id": "3e9ea5d8",
   "metadata": {},
   "source": [
    "### Обновленный общий вывод"
   ]
  },
  {
   "cell_type": "markdown",
   "id": "5339c920",
   "metadata": {},
   "source": [
    "В проекте были поставлены цели и задачи. Главной целью является увеличение бизнес-показателей компании.\n",
    "\n",
    "Задачи были разбиты на 7 шагов, от загрузки данных до проверки гипотез с прогнозированием случаев. \n",
    "\n",
    "В первом пункте была изучена первичная информация проекта\n",
    "\n",
    "Во втором пункте были обработаны данные и преобразован тип данных для работы с датой в pandas\n",
    "\n",
    "В третьем пункте были визуализорованы данные таблиц, также информация была изучена на возможные аномалии.\n",
    "\n",
    "В четвертом и пятом пункте были объединены таблицы по различным условиям и добавлена ежемесячная выручка для каждого пользователя. Основные инструменты метод merge(), query(), функция и метод apply(). \n",
    "\n",
    "В шестом пункте были проверены гипотезы, на их основе компания может улучшить свою выручку и сделать правильные выводы для дальнейшего развития. \n",
    "\n",
    "В седьмом пункте были спрогнозированы случаи, когда компания с помощью рассылок может увеличить свои показатели по количеству клиентов с подпиской."
   ]
  },
  {
   "cell_type": "markdown",
   "id": "11d4f9a3",
   "metadata": {},
   "source": [
    "<div class=\"alert alert-info\"> <b>Комментарий студента №2:</b> Да. Пользователи с подпиской приносят больше выгоды для сервиса, чем пользователи без неё. Например:\n",
    "\n",
    "- Пользователи с подпиской тратят больше времени на поездки, что означает бОльшую выгоду для компании;\n",
    "\n",
    "- В среднем пользователи с подпиской проезжают менее 3130 метров, что меньше сказывается на износе самоката;\n",
    "  \n",
    "- Учитывая, что подписка стоит 199 рублей в месяц, в среднем пользователи с подпиской приносят больше дохода в месяц, чем пользователи без неё."
   ]
  }
 ],
 "metadata": {
  "ExecuteTimeLog": [
   {
    "duration": 72,
    "start_time": "2023-10-11T16:56:08.639Z"
   },
   {
    "duration": 1037,
    "start_time": "2023-10-11T16:56:10.584Z"
   },
   {
    "duration": 432,
    "start_time": "2023-10-11T16:56:12.909Z"
   },
   {
    "duration": 108,
    "start_time": "2023-10-11T16:56:50.287Z"
   },
   {
    "duration": 103,
    "start_time": "2023-10-11T16:57:04.905Z"
   },
   {
    "duration": 100,
    "start_time": "2023-10-11T16:57:17.111Z"
   },
   {
    "duration": 111,
    "start_time": "2023-10-11T16:57:34.834Z"
   },
   {
    "duration": 909,
    "start_time": "2023-10-11T17:12:37.156Z"
   },
   {
    "duration": 0,
    "start_time": "2023-10-11T17:12:38.071Z"
   },
   {
    "duration": 105,
    "start_time": "2023-10-11T17:13:02.983Z"
   },
   {
    "duration": 104,
    "start_time": "2023-10-11T17:13:05.381Z"
   },
   {
    "duration": 3,
    "start_time": "2023-10-11T17:29:29.359Z"
   },
   {
    "duration": 93,
    "start_time": "2023-10-11T17:29:33.897Z"
   },
   {
    "duration": 3055,
    "start_time": "2023-10-11T17:35:53.526Z"
   },
   {
    "duration": 3858,
    "start_time": "2023-10-11T17:37:06.692Z"
   },
   {
    "duration": 2460,
    "start_time": "2023-10-11T17:37:22.209Z"
   },
   {
    "duration": 4,
    "start_time": "2023-10-11T17:37:24.672Z"
   },
   {
    "duration": 56,
    "start_time": "2023-10-11T17:57:41.196Z"
   },
   {
    "duration": 10,
    "start_time": "2023-10-11T17:59:11.623Z"
   },
   {
    "duration": 11,
    "start_time": "2023-10-11T17:59:27.578Z"
   },
   {
    "duration": 3389,
    "start_time": "2023-10-13T17:17:50.495Z"
   },
   {
    "duration": 1411,
    "start_time": "2023-10-13T17:17:53.887Z"
   },
   {
    "duration": 273,
    "start_time": "2023-10-13T17:17:55.300Z"
   },
   {
    "duration": 109,
    "start_time": "2023-10-13T17:17:55.576Z"
   },
   {
    "duration": 47,
    "start_time": "2023-10-14T13:05:25.862Z"
   },
   {
    "duration": 3092,
    "start_time": "2023-10-14T13:05:35.959Z"
   },
   {
    "duration": 1325,
    "start_time": "2023-10-14T13:05:39.054Z"
   },
   {
    "duration": 222,
    "start_time": "2023-10-14T13:05:40.381Z"
   },
   {
    "duration": 6,
    "start_time": "2023-10-14T13:05:40.605Z"
   },
   {
    "duration": 15,
    "start_time": "2023-10-14T13:07:31.962Z"
   },
   {
    "duration": 7,
    "start_time": "2023-10-14T13:07:50.084Z"
   },
   {
    "duration": 23,
    "start_time": "2023-10-14T13:07:54.462Z"
   },
   {
    "duration": 22,
    "start_time": "2023-10-14T13:08:46.683Z"
   },
   {
    "duration": 22,
    "start_time": "2023-10-14T13:08:49.108Z"
   },
   {
    "duration": 3,
    "start_time": "2023-10-14T13:09:35.130Z"
   },
   {
    "duration": 30,
    "start_time": "2023-10-14T13:09:37.205Z"
   },
   {
    "duration": 2116,
    "start_time": "2023-10-14T13:09:43.581Z"
   },
   {
    "duration": 1139,
    "start_time": "2023-10-14T13:09:45.699Z"
   },
   {
    "duration": 92,
    "start_time": "2023-10-14T13:09:46.840Z"
   },
   {
    "duration": 761,
    "start_time": "2023-10-14T13:09:46.934Z"
   },
   {
    "duration": 98,
    "start_time": "2023-10-14T13:10:04.678Z"
   },
   {
    "duration": 19,
    "start_time": "2023-10-14T13:10:10.752Z"
   },
   {
    "duration": 23,
    "start_time": "2023-10-14T13:10:32.439Z"
   },
   {
    "duration": 2148,
    "start_time": "2023-10-14T13:10:41.582Z"
   },
   {
    "duration": 1107,
    "start_time": "2023-10-14T13:10:43.733Z"
   },
   {
    "duration": 87,
    "start_time": "2023-10-14T13:10:44.842Z"
   },
   {
    "duration": 19,
    "start_time": "2023-10-14T13:10:44.931Z"
   },
   {
    "duration": 117,
    "start_time": "2023-10-14T13:11:03.553Z"
   },
   {
    "duration": 16,
    "start_time": "2023-10-14T13:11:11.579Z"
   },
   {
    "duration": 18,
    "start_time": "2023-10-14T13:11:37.087Z"
   },
   {
    "duration": 30,
    "start_time": "2023-10-14T13:12:32.462Z"
   },
   {
    "duration": 25,
    "start_time": "2023-10-14T13:12:37.053Z"
   },
   {
    "duration": 20,
    "start_time": "2023-10-14T13:12:52.246Z"
   },
   {
    "duration": 8,
    "start_time": "2023-10-14T13:12:57.222Z"
   },
   {
    "duration": 11,
    "start_time": "2023-10-14T13:14:18.360Z"
   },
   {
    "duration": 8,
    "start_time": "2023-10-14T13:15:56.697Z"
   },
   {
    "duration": 7,
    "start_time": "2023-10-14T13:16:11.275Z"
   },
   {
    "duration": 9,
    "start_time": "2023-10-14T13:16:20.814Z"
   },
   {
    "duration": 14,
    "start_time": "2023-10-14T13:16:45.850Z"
   },
   {
    "duration": 8,
    "start_time": "2023-10-14T13:17:02.160Z"
   },
   {
    "duration": 9,
    "start_time": "2023-10-14T13:17:27.655Z"
   },
   {
    "duration": 8,
    "start_time": "2023-10-14T15:17:45.179Z"
   },
   {
    "duration": 9,
    "start_time": "2023-10-14T15:17:50.232Z"
   },
   {
    "duration": 2136,
    "start_time": "2023-10-14T15:17:57.933Z"
   },
   {
    "duration": 1277,
    "start_time": "2023-10-14T15:18:00.072Z"
   },
   {
    "duration": 96,
    "start_time": "2023-10-14T15:18:01.351Z"
   },
   {
    "duration": 49,
    "start_time": "2023-10-14T15:18:01.449Z"
   },
   {
    "duration": 74,
    "start_time": "2023-10-14T15:18:01.499Z"
   },
   {
    "duration": 143,
    "start_time": "2023-10-14T15:18:01.575Z"
   },
   {
    "duration": 9,
    "start_time": "2023-10-14T15:18:21.369Z"
   },
   {
    "duration": 10,
    "start_time": "2023-10-14T15:18:37.492Z"
   },
   {
    "duration": 9,
    "start_time": "2023-10-14T15:20:02.621Z"
   },
   {
    "duration": 11,
    "start_time": "2023-10-14T15:20:41.095Z"
   },
   {
    "duration": 11,
    "start_time": "2023-10-14T15:20:43.272Z"
   },
   {
    "duration": 10,
    "start_time": "2023-10-14T15:21:07.199Z"
   },
   {
    "duration": 89,
    "start_time": "2023-10-14T15:22:09.362Z"
   },
   {
    "duration": 13,
    "start_time": "2023-10-14T15:22:13.049Z"
   },
   {
    "duration": 13,
    "start_time": "2023-10-14T15:22:19.358Z"
   },
   {
    "duration": 2190,
    "start_time": "2023-10-14T15:22:24.814Z"
   },
   {
    "duration": 1126,
    "start_time": "2023-10-14T15:22:27.006Z"
   },
   {
    "duration": 91,
    "start_time": "2023-10-14T15:22:28.134Z"
   },
   {
    "duration": 13,
    "start_time": "2023-10-14T15:22:28.227Z"
   },
   {
    "duration": 24,
    "start_time": "2023-10-14T15:22:28.242Z"
   },
   {
    "duration": 16,
    "start_time": "2023-10-14T15:22:28.268Z"
   },
   {
    "duration": 16,
    "start_time": "2023-10-14T15:22:35.805Z"
   },
   {
    "duration": 10,
    "start_time": "2023-10-14T15:22:52.477Z"
   },
   {
    "duration": 10,
    "start_time": "2023-10-14T15:23:02.965Z"
   },
   {
    "duration": 2100,
    "start_time": "2023-10-14T15:23:11.268Z"
   },
   {
    "duration": 1064,
    "start_time": "2023-10-14T15:23:13.371Z"
   },
   {
    "duration": 85,
    "start_time": "2023-10-14T15:23:14.437Z"
   },
   {
    "duration": 10,
    "start_time": "2023-10-14T15:23:14.523Z"
   },
   {
    "duration": 12,
    "start_time": "2023-10-14T15:23:14.535Z"
   },
   {
    "duration": 15,
    "start_time": "2023-10-14T15:23:14.549Z"
   },
   {
    "duration": 26,
    "start_time": "2023-10-14T15:23:14.566Z"
   },
   {
    "duration": 10,
    "start_time": "2023-10-14T15:23:14.594Z"
   },
   {
    "duration": 2112,
    "start_time": "2023-10-14T15:23:16.028Z"
   },
   {
    "duration": 2187,
    "start_time": "2023-10-14T15:24:15.306Z"
   },
   {
    "duration": 1137,
    "start_time": "2023-10-14T15:24:17.494Z"
   },
   {
    "duration": 97,
    "start_time": "2023-10-14T15:24:18.633Z"
   },
   {
    "duration": 11,
    "start_time": "2023-10-14T15:24:18.732Z"
   },
   {
    "duration": 11,
    "start_time": "2023-10-14T15:24:18.744Z"
   },
   {
    "duration": 17,
    "start_time": "2023-10-14T15:24:18.757Z"
   },
   {
    "duration": 14,
    "start_time": "2023-10-14T15:24:18.776Z"
   },
   {
    "duration": 34,
    "start_time": "2023-10-14T15:24:18.792Z"
   },
   {
    "duration": 46,
    "start_time": "2023-10-16T16:33:56.839Z"
   },
   {
    "duration": 3124,
    "start_time": "2023-10-16T16:34:01.762Z"
   },
   {
    "duration": 1418,
    "start_time": "2023-10-16T16:34:04.888Z"
   },
   {
    "duration": 214,
    "start_time": "2023-10-16T16:34:06.308Z"
   },
   {
    "duration": 11,
    "start_time": "2023-10-16T16:34:06.523Z"
   },
   {
    "duration": 10,
    "start_time": "2023-10-16T16:34:06.536Z"
   },
   {
    "duration": 36,
    "start_time": "2023-10-16T16:34:06.548Z"
   },
   {
    "duration": 27,
    "start_time": "2023-10-16T16:34:06.585Z"
   },
   {
    "duration": 39,
    "start_time": "2023-10-16T16:34:06.613Z"
   },
   {
    "duration": 182,
    "start_time": "2023-10-16T16:34:06.654Z"
   },
   {
    "duration": 5,
    "start_time": "2023-10-16T16:34:40.114Z"
   },
   {
    "duration": 157,
    "start_time": "2023-10-16T16:34:54.580Z"
   },
   {
    "duration": 155,
    "start_time": "2023-10-16T16:35:02.862Z"
   },
   {
    "duration": 151,
    "start_time": "2023-10-16T16:37:45.315Z"
   },
   {
    "duration": 103,
    "start_time": "2023-10-16T16:38:07.433Z"
   },
   {
    "duration": 2256,
    "start_time": "2023-10-16T16:38:30.473Z"
   },
   {
    "duration": 1095,
    "start_time": "2023-10-16T16:38:32.731Z"
   },
   {
    "duration": 83,
    "start_time": "2023-10-16T16:38:33.827Z"
   },
   {
    "duration": 10,
    "start_time": "2023-10-16T16:38:33.912Z"
   },
   {
    "duration": 16,
    "start_time": "2023-10-16T16:38:33.924Z"
   },
   {
    "duration": 10,
    "start_time": "2023-10-16T16:38:33.941Z"
   },
   {
    "duration": 13,
    "start_time": "2023-10-16T16:38:33.952Z"
   },
   {
    "duration": 13,
    "start_time": "2023-10-16T16:38:33.967Z"
   },
   {
    "duration": 126,
    "start_time": "2023-10-16T16:38:33.982Z"
   },
   {
    "duration": 0,
    "start_time": "2023-10-16T16:38:34.109Z"
   },
   {
    "duration": 14,
    "start_time": "2023-10-16T16:39:01.494Z"
   },
   {
    "duration": 296,
    "start_time": "2023-10-16T16:39:06.041Z"
   },
   {
    "duration": 159,
    "start_time": "2023-10-16T16:39:17.633Z"
   },
   {
    "duration": 161,
    "start_time": "2023-10-16T16:40:40.107Z"
   },
   {
    "duration": 152,
    "start_time": "2023-10-16T16:40:51.738Z"
   },
   {
    "duration": 166,
    "start_time": "2023-10-16T16:41:05.657Z"
   },
   {
    "duration": 152,
    "start_time": "2023-10-16T16:41:12.381Z"
   },
   {
    "duration": 163,
    "start_time": "2023-10-16T16:41:24.236Z"
   },
   {
    "duration": 155,
    "start_time": "2023-10-16T16:42:00.235Z"
   },
   {
    "duration": 157,
    "start_time": "2023-10-16T16:42:05.622Z"
   },
   {
    "duration": 235,
    "start_time": "2023-10-16T16:42:13.178Z"
   },
   {
    "duration": 154,
    "start_time": "2023-10-16T16:42:17.753Z"
   },
   {
    "duration": 127,
    "start_time": "2023-10-16T16:42:23.318Z"
   },
   {
    "duration": 135,
    "start_time": "2023-10-16T16:42:39.948Z"
   },
   {
    "duration": 119,
    "start_time": "2023-10-16T16:42:43.266Z"
   },
   {
    "duration": 152,
    "start_time": "2023-10-16T16:42:48.058Z"
   },
   {
    "duration": 159,
    "start_time": "2023-10-16T16:43:46.021Z"
   },
   {
    "duration": 133,
    "start_time": "2023-10-16T16:43:59.143Z"
   },
   {
    "duration": 132,
    "start_time": "2023-10-16T16:44:02.536Z"
   },
   {
    "duration": 135,
    "start_time": "2023-10-16T16:44:07.287Z"
   },
   {
    "duration": 148,
    "start_time": "2023-10-16T16:44:11.623Z"
   },
   {
    "duration": 139,
    "start_time": "2023-10-16T16:44:16.260Z"
   },
   {
    "duration": 238,
    "start_time": "2023-10-16T16:49:00.002Z"
   },
   {
    "duration": 163,
    "start_time": "2023-10-16T16:49:05.073Z"
   },
   {
    "duration": 210,
    "start_time": "2023-10-16T16:49:55.933Z"
   },
   {
    "duration": 181,
    "start_time": "2023-10-16T16:50:00.605Z"
   },
   {
    "duration": 156,
    "start_time": "2023-10-16T16:50:33.959Z"
   },
   {
    "duration": 2731,
    "start_time": "2023-10-17T16:38:12.740Z"
   },
   {
    "duration": 1247,
    "start_time": "2023-10-17T16:38:15.473Z"
   },
   {
    "duration": 202,
    "start_time": "2023-10-17T16:38:16.722Z"
   },
   {
    "duration": 9,
    "start_time": "2023-10-17T16:38:16.926Z"
   },
   {
    "duration": 14,
    "start_time": "2023-10-17T16:38:16.936Z"
   },
   {
    "duration": 12,
    "start_time": "2023-10-17T16:38:16.952Z"
   },
   {
    "duration": 12,
    "start_time": "2023-10-17T16:38:16.966Z"
   },
   {
    "duration": 10,
    "start_time": "2023-10-17T16:38:16.979Z"
   },
   {
    "duration": 185,
    "start_time": "2023-10-17T16:38:16.990Z"
   },
   {
    "duration": 145,
    "start_time": "2023-10-17T16:38:17.177Z"
   },
   {
    "duration": 171,
    "start_time": "2023-10-17T16:38:17.323Z"
   },
   {
    "duration": 160,
    "start_time": "2023-10-17T16:38:17.496Z"
   },
   {
    "duration": 157,
    "start_time": "2023-10-17T16:38:17.658Z"
   },
   {
    "duration": 4,
    "start_time": "2023-10-17T16:39:12.311Z"
   },
   {
    "duration": 20,
    "start_time": "2023-10-17T16:39:28.325Z"
   },
   {
    "duration": 19,
    "start_time": "2023-10-17T16:40:09.023Z"
   },
   {
    "duration": 1988,
    "start_time": "2023-10-17T16:40:17.221Z"
   },
   {
    "duration": 1086,
    "start_time": "2023-10-17T16:40:19.211Z"
   },
   {
    "duration": 80,
    "start_time": "2023-10-17T16:40:20.299Z"
   },
   {
    "duration": 10,
    "start_time": "2023-10-17T16:40:20.380Z"
   },
   {
    "duration": 16,
    "start_time": "2023-10-17T16:40:20.391Z"
   },
   {
    "duration": 13,
    "start_time": "2023-10-17T16:40:20.409Z"
   },
   {
    "duration": 17,
    "start_time": "2023-10-17T16:40:20.423Z"
   },
   {
    "duration": 16,
    "start_time": "2023-10-17T16:40:20.441Z"
   },
   {
    "duration": 171,
    "start_time": "2023-10-17T16:40:20.459Z"
   },
   {
    "duration": 143,
    "start_time": "2023-10-17T16:40:20.631Z"
   },
   {
    "duration": 174,
    "start_time": "2023-10-17T16:40:20.775Z"
   },
   {
    "duration": 169,
    "start_time": "2023-10-17T16:40:20.950Z"
   },
   {
    "duration": 160,
    "start_time": "2023-10-17T16:40:21.120Z"
   },
   {
    "duration": 20,
    "start_time": "2023-10-17T16:40:21.283Z"
   },
   {
    "duration": 19,
    "start_time": "2023-10-17T16:41:09.213Z"
   },
   {
    "duration": 30,
    "start_time": "2023-10-17T16:42:48.257Z"
   },
   {
    "duration": 1953,
    "start_time": "2023-10-17T16:43:41.970Z"
   },
   {
    "duration": 1082,
    "start_time": "2023-10-17T16:43:43.925Z"
   },
   {
    "duration": 79,
    "start_time": "2023-10-17T16:43:45.008Z"
   },
   {
    "duration": 10,
    "start_time": "2023-10-17T16:43:45.088Z"
   },
   {
    "duration": 31,
    "start_time": "2023-10-17T16:43:45.100Z"
   },
   {
    "duration": 11,
    "start_time": "2023-10-17T16:43:45.132Z"
   },
   {
    "duration": 14,
    "start_time": "2023-10-17T16:43:45.144Z"
   },
   {
    "duration": 23,
    "start_time": "2023-10-17T16:43:45.159Z"
   },
   {
    "duration": 175,
    "start_time": "2023-10-17T16:43:45.183Z"
   },
   {
    "duration": 148,
    "start_time": "2023-10-17T16:43:45.360Z"
   },
   {
    "duration": 170,
    "start_time": "2023-10-17T16:43:45.510Z"
   },
   {
    "duration": 153,
    "start_time": "2023-10-17T16:43:45.681Z"
   },
   {
    "duration": 155,
    "start_time": "2023-10-17T16:43:45.835Z"
   },
   {
    "duration": 4,
    "start_time": "2023-10-17T16:43:45.992Z"
   },
   {
    "duration": 89,
    "start_time": "2023-10-17T16:43:54.584Z"
   },
   {
    "duration": 4,
    "start_time": "2023-10-17T16:44:06.676Z"
   },
   {
    "duration": 21,
    "start_time": "2023-10-17T16:44:19.712Z"
   },
   {
    "duration": 21,
    "start_time": "2023-10-17T16:44:40.009Z"
   },
   {
    "duration": 20,
    "start_time": "2023-10-17T16:45:38.018Z"
   },
   {
    "duration": 15,
    "start_time": "2023-10-17T16:46:15.331Z"
   },
   {
    "duration": 10,
    "start_time": "2023-10-17T16:46:51.678Z"
   },
   {
    "duration": 1937,
    "start_time": "2023-10-17T16:47:03.017Z"
   },
   {
    "duration": 1151,
    "start_time": "2023-10-17T16:47:04.957Z"
   },
   {
    "duration": 81,
    "start_time": "2023-10-17T16:47:06.109Z"
   },
   {
    "duration": 9,
    "start_time": "2023-10-17T16:47:06.192Z"
   },
   {
    "duration": 10,
    "start_time": "2023-10-17T16:47:06.203Z"
   },
   {
    "duration": 17,
    "start_time": "2023-10-17T16:47:06.215Z"
   },
   {
    "duration": 14,
    "start_time": "2023-10-17T16:47:06.233Z"
   },
   {
    "duration": 13,
    "start_time": "2023-10-17T16:47:06.248Z"
   },
   {
    "duration": 197,
    "start_time": "2023-10-17T16:47:06.262Z"
   },
   {
    "duration": 140,
    "start_time": "2023-10-17T16:47:06.461Z"
   },
   {
    "duration": 165,
    "start_time": "2023-10-17T16:47:06.602Z"
   },
   {
    "duration": 163,
    "start_time": "2023-10-17T16:47:06.768Z"
   },
   {
    "duration": 155,
    "start_time": "2023-10-17T16:47:06.932Z"
   },
   {
    "duration": 9,
    "start_time": "2023-10-17T16:47:07.089Z"
   },
   {
    "duration": 2,
    "start_time": "2023-10-17T16:47:07.099Z"
   },
   {
    "duration": 5,
    "start_time": "2023-10-17T16:47:07.102Z"
   },
   {
    "duration": 20,
    "start_time": "2023-10-17T16:47:14.516Z"
   },
   {
    "duration": 20,
    "start_time": "2023-10-17T16:47:34.877Z"
   },
   {
    "duration": 3,
    "start_time": "2023-10-17T16:48:16.964Z"
   },
   {
    "duration": 106,
    "start_time": "2023-10-17T16:48:39.419Z"
   },
   {
    "duration": 84,
    "start_time": "2023-10-17T16:49:04.314Z"
   },
   {
    "duration": 7,
    "start_time": "2023-10-17T16:49:07.191Z"
   },
   {
    "duration": 82,
    "start_time": "2023-10-17T16:49:08.618Z"
   },
   {
    "duration": 10,
    "start_time": "2023-10-17T16:49:10.417Z"
   },
   {
    "duration": 8,
    "start_time": "2023-10-17T16:49:22.231Z"
   },
   {
    "duration": 12,
    "start_time": "2023-10-17T16:50:47.135Z"
   },
   {
    "duration": 8,
    "start_time": "2023-10-17T16:50:58.853Z"
   },
   {
    "duration": 19,
    "start_time": "2023-10-17T16:51:04.624Z"
   },
   {
    "duration": 31,
    "start_time": "2023-10-17T16:51:32.740Z"
   },
   {
    "duration": 8,
    "start_time": "2023-10-17T16:51:39.113Z"
   },
   {
    "duration": 3,
    "start_time": "2023-10-17T16:51:57.832Z"
   },
   {
    "duration": 150,
    "start_time": "2023-10-17T16:52:08.747Z"
   },
   {
    "duration": 146,
    "start_time": "2023-10-17T16:52:32.243Z"
   },
   {
    "duration": 141,
    "start_time": "2023-10-17T16:52:45.923Z"
   },
   {
    "duration": 216,
    "start_time": "2023-10-17T16:53:26.143Z"
   },
   {
    "duration": 157,
    "start_time": "2023-10-17T16:53:34.526Z"
   },
   {
    "duration": 1985,
    "start_time": "2023-10-17T17:02:15.570Z"
   },
   {
    "duration": 1047,
    "start_time": "2023-10-17T17:02:17.558Z"
   },
   {
    "duration": 79,
    "start_time": "2023-10-17T17:02:18.607Z"
   },
   {
    "duration": 9,
    "start_time": "2023-10-17T17:02:18.688Z"
   },
   {
    "duration": 14,
    "start_time": "2023-10-17T17:02:18.698Z"
   },
   {
    "duration": 8,
    "start_time": "2023-10-17T17:02:18.714Z"
   },
   {
    "duration": 12,
    "start_time": "2023-10-17T17:02:18.724Z"
   },
   {
    "duration": 11,
    "start_time": "2023-10-17T17:02:18.739Z"
   },
   {
    "duration": 170,
    "start_time": "2023-10-17T17:02:18.751Z"
   },
   {
    "duration": 138,
    "start_time": "2023-10-17T17:02:18.924Z"
   },
   {
    "duration": 162,
    "start_time": "2023-10-17T17:02:19.064Z"
   },
   {
    "duration": 161,
    "start_time": "2023-10-17T17:02:19.228Z"
   },
   {
    "duration": 160,
    "start_time": "2023-10-17T17:02:19.391Z"
   },
   {
    "duration": 11,
    "start_time": "2023-10-17T17:02:19.553Z"
   },
   {
    "duration": 20,
    "start_time": "2023-10-17T17:02:19.566Z"
   },
   {
    "duration": 10,
    "start_time": "2023-10-17T17:02:19.588Z"
   },
   {
    "duration": 174,
    "start_time": "2023-10-17T17:02:19.600Z"
   },
   {
    "duration": 155,
    "start_time": "2023-10-17T17:02:19.775Z"
   },
   {
    "duration": 148,
    "start_time": "2023-10-17T17:02:19.931Z"
   },
   {
    "duration": 220,
    "start_time": "2023-10-17T17:02:20.080Z"
   },
   {
    "duration": 4,
    "start_time": "2023-10-17T17:02:20.301Z"
   },
   {
    "duration": 92,
    "start_time": "2023-10-17T17:08:55.581Z"
   },
   {
    "duration": 90,
    "start_time": "2023-10-17T17:09:05.787Z"
   },
   {
    "duration": 2015,
    "start_time": "2023-10-17T17:09:11.134Z"
   },
   {
    "duration": 1042,
    "start_time": "2023-10-17T17:09:13.151Z"
   },
   {
    "duration": 83,
    "start_time": "2023-10-17T17:09:14.194Z"
   },
   {
    "duration": 12,
    "start_time": "2023-10-17T17:09:14.280Z"
   },
   {
    "duration": 15,
    "start_time": "2023-10-17T17:09:14.294Z"
   },
   {
    "duration": 14,
    "start_time": "2023-10-17T17:09:14.311Z"
   },
   {
    "duration": 16,
    "start_time": "2023-10-17T17:09:14.326Z"
   },
   {
    "duration": 10,
    "start_time": "2023-10-17T17:09:14.343Z"
   },
   {
    "duration": 178,
    "start_time": "2023-10-17T17:09:14.354Z"
   },
   {
    "duration": 154,
    "start_time": "2023-10-17T17:09:14.534Z"
   },
   {
    "duration": 172,
    "start_time": "2023-10-17T17:09:14.690Z"
   },
   {
    "duration": 159,
    "start_time": "2023-10-17T17:09:14.863Z"
   },
   {
    "duration": 158,
    "start_time": "2023-10-17T17:09:15.023Z"
   },
   {
    "duration": 8,
    "start_time": "2023-10-17T17:09:15.183Z"
   },
   {
    "duration": 103,
    "start_time": "2023-10-17T17:09:15.192Z"
   },
   {
    "duration": 0,
    "start_time": "2023-10-17T17:09:15.297Z"
   },
   {
    "duration": 0,
    "start_time": "2023-10-17T17:09:15.298Z"
   },
   {
    "duration": 0,
    "start_time": "2023-10-17T17:09:15.298Z"
   },
   {
    "duration": 0,
    "start_time": "2023-10-17T17:09:15.299Z"
   },
   {
    "duration": 0,
    "start_time": "2023-10-17T17:09:15.300Z"
   },
   {
    "duration": 0,
    "start_time": "2023-10-17T17:09:15.301Z"
   },
   {
    "duration": 0,
    "start_time": "2023-10-17T17:09:15.301Z"
   },
   {
    "duration": 0,
    "start_time": "2023-10-17T17:09:15.302Z"
   },
   {
    "duration": 0,
    "start_time": "2023-10-17T17:09:15.303Z"
   },
   {
    "duration": 8,
    "start_time": "2023-10-17T17:09:20.035Z"
   },
   {
    "duration": 1964,
    "start_time": "2023-10-17T17:09:37.287Z"
   },
   {
    "duration": 1098,
    "start_time": "2023-10-17T17:09:39.253Z"
   },
   {
    "duration": 80,
    "start_time": "2023-10-17T17:09:40.353Z"
   },
   {
    "duration": 10,
    "start_time": "2023-10-17T17:09:40.435Z"
   },
   {
    "duration": 9,
    "start_time": "2023-10-17T17:09:40.446Z"
   },
   {
    "duration": 16,
    "start_time": "2023-10-17T17:09:40.456Z"
   },
   {
    "duration": 13,
    "start_time": "2023-10-17T17:09:40.474Z"
   },
   {
    "duration": 11,
    "start_time": "2023-10-17T17:09:40.488Z"
   },
   {
    "duration": 216,
    "start_time": "2023-10-17T17:09:40.500Z"
   },
   {
    "duration": 148,
    "start_time": "2023-10-17T17:09:40.719Z"
   },
   {
    "duration": 166,
    "start_time": "2023-10-17T17:09:40.869Z"
   },
   {
    "duration": 154,
    "start_time": "2023-10-17T17:09:41.040Z"
   },
   {
    "duration": 154,
    "start_time": "2023-10-17T17:09:41.195Z"
   },
   {
    "duration": 8,
    "start_time": "2023-10-17T17:09:41.350Z"
   },
   {
    "duration": 101,
    "start_time": "2023-10-17T17:09:41.360Z"
   },
   {
    "duration": 0,
    "start_time": "2023-10-17T17:09:41.462Z"
   },
   {
    "duration": 0,
    "start_time": "2023-10-17T17:09:41.463Z"
   },
   {
    "duration": 0,
    "start_time": "2023-10-17T17:09:41.464Z"
   },
   {
    "duration": 0,
    "start_time": "2023-10-17T17:09:41.465Z"
   },
   {
    "duration": 0,
    "start_time": "2023-10-17T17:09:41.465Z"
   },
   {
    "duration": 0,
    "start_time": "2023-10-17T17:09:41.466Z"
   },
   {
    "duration": 0,
    "start_time": "2023-10-17T17:09:41.467Z"
   },
   {
    "duration": 0,
    "start_time": "2023-10-17T17:09:41.468Z"
   },
   {
    "duration": 0,
    "start_time": "2023-10-17T17:09:41.469Z"
   },
   {
    "duration": 16,
    "start_time": "2023-10-17T17:09:54.078Z"
   },
   {
    "duration": 23,
    "start_time": "2023-10-17T17:10:00.136Z"
   },
   {
    "duration": 1965,
    "start_time": "2023-10-17T17:10:10.219Z"
   },
   {
    "duration": 1029,
    "start_time": "2023-10-17T17:10:12.186Z"
   },
   {
    "duration": 79,
    "start_time": "2023-10-17T17:10:13.219Z"
   },
   {
    "duration": 9,
    "start_time": "2023-10-17T17:10:13.300Z"
   },
   {
    "duration": 36,
    "start_time": "2023-10-17T17:10:13.311Z"
   },
   {
    "duration": 27,
    "start_time": "2023-10-17T17:10:13.348Z"
   },
   {
    "duration": 23,
    "start_time": "2023-10-17T17:10:13.377Z"
   },
   {
    "duration": 10,
    "start_time": "2023-10-17T17:10:13.402Z"
   },
   {
    "duration": 166,
    "start_time": "2023-10-17T17:10:13.413Z"
   },
   {
    "duration": 169,
    "start_time": "2023-10-17T17:10:13.580Z"
   },
   {
    "duration": 165,
    "start_time": "2023-10-17T17:10:13.750Z"
   },
   {
    "duration": 161,
    "start_time": "2023-10-17T17:10:13.917Z"
   },
   {
    "duration": 163,
    "start_time": "2023-10-17T17:10:14.081Z"
   },
   {
    "duration": 8,
    "start_time": "2023-10-17T17:10:14.246Z"
   },
   {
    "duration": 20,
    "start_time": "2023-10-17T17:10:14.256Z"
   },
   {
    "duration": 108,
    "start_time": "2023-10-17T17:10:14.278Z"
   },
   {
    "duration": 0,
    "start_time": "2023-10-17T17:10:14.388Z"
   },
   {
    "duration": 0,
    "start_time": "2023-10-17T17:10:14.389Z"
   },
   {
    "duration": 0,
    "start_time": "2023-10-17T17:10:14.391Z"
   },
   {
    "duration": 0,
    "start_time": "2023-10-17T17:10:14.392Z"
   },
   {
    "duration": 0,
    "start_time": "2023-10-17T17:10:14.393Z"
   },
   {
    "duration": 0,
    "start_time": "2023-10-17T17:10:14.394Z"
   },
   {
    "duration": 0,
    "start_time": "2023-10-17T17:10:14.395Z"
   },
   {
    "duration": 0,
    "start_time": "2023-10-17T17:10:14.397Z"
   },
   {
    "duration": 11,
    "start_time": "2023-10-17T17:10:31.540Z"
   },
   {
    "duration": 184,
    "start_time": "2023-10-17T17:10:33.163Z"
   },
   {
    "duration": 164,
    "start_time": "2023-10-17T17:10:33.349Z"
   },
   {
    "duration": 150,
    "start_time": "2023-10-17T17:10:33.530Z"
   },
   {
    "duration": 249,
    "start_time": "2023-10-17T17:10:33.682Z"
   },
   {
    "duration": 18,
    "start_time": "2023-10-17T17:10:34.156Z"
   },
   {
    "duration": 10,
    "start_time": "2023-10-17T17:10:34.358Z"
   },
   {
    "duration": 1951,
    "start_time": "2023-10-17T17:10:39.383Z"
   },
   {
    "duration": 1071,
    "start_time": "2023-10-17T17:10:41.336Z"
   },
   {
    "duration": 94,
    "start_time": "2023-10-17T17:10:42.408Z"
   },
   {
    "duration": 12,
    "start_time": "2023-10-17T17:10:42.504Z"
   },
   {
    "duration": 18,
    "start_time": "2023-10-17T17:10:42.518Z"
   },
   {
    "duration": 13,
    "start_time": "2023-10-17T17:10:42.537Z"
   },
   {
    "duration": 16,
    "start_time": "2023-10-17T17:10:42.552Z"
   },
   {
    "duration": 12,
    "start_time": "2023-10-17T17:10:42.570Z"
   },
   {
    "duration": 224,
    "start_time": "2023-10-17T17:10:42.584Z"
   },
   {
    "duration": 146,
    "start_time": "2023-10-17T17:10:42.810Z"
   },
   {
    "duration": 172,
    "start_time": "2023-10-17T17:10:42.958Z"
   },
   {
    "duration": 155,
    "start_time": "2023-10-17T17:10:43.131Z"
   },
   {
    "duration": 164,
    "start_time": "2023-10-17T17:10:43.288Z"
   },
   {
    "duration": 9,
    "start_time": "2023-10-17T17:10:43.454Z"
   },
   {
    "duration": 20,
    "start_time": "2023-10-17T17:10:43.464Z"
   },
   {
    "duration": 11,
    "start_time": "2023-10-17T17:10:43.485Z"
   },
   {
    "duration": 174,
    "start_time": "2023-10-17T17:10:43.497Z"
   },
   {
    "duration": 151,
    "start_time": "2023-10-17T17:10:43.672Z"
   },
   {
    "duration": 150,
    "start_time": "2023-10-17T17:10:43.824Z"
   },
   {
    "duration": 220,
    "start_time": "2023-10-17T17:10:43.975Z"
   },
   {
    "duration": 14,
    "start_time": "2023-10-17T17:10:44.196Z"
   },
   {
    "duration": 102,
    "start_time": "2023-10-17T17:10:44.212Z"
   },
   {
    "duration": 0,
    "start_time": "2023-10-17T17:10:44.315Z"
   },
   {
    "duration": 0,
    "start_time": "2023-10-17T17:10:44.317Z"
   },
   {
    "duration": 22,
    "start_time": "2023-10-17T17:10:52.376Z"
   },
   {
    "duration": 2039,
    "start_time": "2023-10-17T17:11:34.239Z"
   },
   {
    "duration": 1040,
    "start_time": "2023-10-17T17:11:36.279Z"
   },
   {
    "duration": 82,
    "start_time": "2023-10-17T17:11:37.321Z"
   },
   {
    "duration": 10,
    "start_time": "2023-10-17T17:11:37.405Z"
   },
   {
    "duration": 10,
    "start_time": "2023-10-17T17:11:37.417Z"
   },
   {
    "duration": 10,
    "start_time": "2023-10-17T17:11:37.428Z"
   },
   {
    "duration": 13,
    "start_time": "2023-10-17T17:11:37.439Z"
   },
   {
    "duration": 11,
    "start_time": "2023-10-17T17:11:37.453Z"
   },
   {
    "duration": 188,
    "start_time": "2023-10-17T17:11:37.465Z"
   },
   {
    "duration": 140,
    "start_time": "2023-10-17T17:11:37.655Z"
   },
   {
    "duration": 175,
    "start_time": "2023-10-17T17:11:37.797Z"
   },
   {
    "duration": 178,
    "start_time": "2023-10-17T17:11:37.974Z"
   },
   {
    "duration": 153,
    "start_time": "2023-10-17T17:11:38.154Z"
   },
   {
    "duration": 11,
    "start_time": "2023-10-17T17:11:38.311Z"
   },
   {
    "duration": 218,
    "start_time": "2023-10-17T17:11:38.324Z"
   },
   {
    "duration": 16,
    "start_time": "2023-10-17T17:11:38.544Z"
   },
   {
    "duration": 188,
    "start_time": "2023-10-17T17:11:38.562Z"
   },
   {
    "duration": 158,
    "start_time": "2023-10-17T17:11:38.751Z"
   },
   {
    "duration": 147,
    "start_time": "2023-10-17T17:11:38.911Z"
   },
   {
    "duration": 242,
    "start_time": "2023-10-17T17:11:39.059Z"
   },
   {
    "duration": 37,
    "start_time": "2023-10-17T17:11:39.302Z"
   },
   {
    "duration": 2,
    "start_time": "2023-10-17T17:11:39.341Z"
   },
   {
    "duration": 112,
    "start_time": "2023-10-17T17:14:47.984Z"
   },
   {
    "duration": 13,
    "start_time": "2023-10-17T17:16:55.893Z"
   },
   {
    "duration": 26,
    "start_time": "2023-10-17T17:17:18.958Z"
   },
   {
    "duration": 85,
    "start_time": "2023-10-17T17:17:37.242Z"
   },
   {
    "duration": 18,
    "start_time": "2023-10-17T17:17:40.732Z"
   },
   {
    "duration": 39,
    "start_time": "2023-10-17T17:22:23.231Z"
   },
   {
    "duration": 35,
    "start_time": "2023-10-17T17:22:52.279Z"
   },
   {
    "duration": 29,
    "start_time": "2023-10-17T17:23:00.331Z"
   },
   {
    "duration": 22,
    "start_time": "2023-10-17T17:23:06.503Z"
   },
   {
    "duration": 2173,
    "start_time": "2023-10-17T17:23:29.581Z"
   },
   {
    "duration": 1142,
    "start_time": "2023-10-17T17:23:31.756Z"
   },
   {
    "duration": 80,
    "start_time": "2023-10-17T17:23:32.900Z"
   },
   {
    "duration": 9,
    "start_time": "2023-10-17T17:23:32.981Z"
   },
   {
    "duration": 14,
    "start_time": "2023-10-17T17:23:32.992Z"
   },
   {
    "duration": 20,
    "start_time": "2023-10-17T17:23:33.007Z"
   },
   {
    "duration": 14,
    "start_time": "2023-10-17T17:23:33.028Z"
   },
   {
    "duration": 12,
    "start_time": "2023-10-17T17:23:33.043Z"
   },
   {
    "duration": 213,
    "start_time": "2023-10-17T17:23:33.057Z"
   },
   {
    "duration": 164,
    "start_time": "2023-10-17T17:23:33.273Z"
   },
   {
    "duration": 211,
    "start_time": "2023-10-17T17:23:33.439Z"
   },
   {
    "duration": 165,
    "start_time": "2023-10-17T17:23:33.652Z"
   },
   {
    "duration": 157,
    "start_time": "2023-10-17T17:23:33.818Z"
   },
   {
    "duration": 9,
    "start_time": "2023-10-17T17:23:33.978Z"
   },
   {
    "duration": 22,
    "start_time": "2023-10-17T17:23:33.988Z"
   },
   {
    "duration": 10,
    "start_time": "2023-10-17T17:23:34.011Z"
   },
   {
    "duration": 174,
    "start_time": "2023-10-17T17:23:34.040Z"
   },
   {
    "duration": 167,
    "start_time": "2023-10-17T17:23:34.216Z"
   },
   {
    "duration": 161,
    "start_time": "2023-10-17T17:23:34.385Z"
   },
   {
    "duration": 225,
    "start_time": "2023-10-17T17:23:34.547Z"
   },
   {
    "duration": 35,
    "start_time": "2023-10-17T17:23:34.774Z"
   },
   {
    "duration": 3,
    "start_time": "2023-10-17T17:23:34.811Z"
   },
   {
    "duration": 102,
    "start_time": "2023-10-17T17:23:44.903Z"
   },
   {
    "duration": 29,
    "start_time": "2023-10-17T17:23:47.922Z"
   },
   {
    "duration": 20,
    "start_time": "2023-10-17T17:28:42.047Z"
   },
   {
    "duration": 2001,
    "start_time": "2023-10-17T17:29:16.378Z"
   },
   {
    "duration": 1182,
    "start_time": "2023-10-17T17:29:18.381Z"
   },
   {
    "duration": 98,
    "start_time": "2023-10-17T17:29:19.565Z"
   },
   {
    "duration": 13,
    "start_time": "2023-10-17T17:29:19.665Z"
   },
   {
    "duration": 12,
    "start_time": "2023-10-17T17:29:19.679Z"
   },
   {
    "duration": 14,
    "start_time": "2023-10-17T17:29:19.693Z"
   },
   {
    "duration": 41,
    "start_time": "2023-10-17T17:29:19.709Z"
   },
   {
    "duration": 15,
    "start_time": "2023-10-17T17:29:19.751Z"
   },
   {
    "duration": 206,
    "start_time": "2023-10-17T17:29:19.768Z"
   },
   {
    "duration": 197,
    "start_time": "2023-10-17T17:29:19.978Z"
   },
   {
    "duration": 254,
    "start_time": "2023-10-17T17:29:20.177Z"
   },
   {
    "duration": 211,
    "start_time": "2023-10-17T17:29:20.433Z"
   },
   {
    "duration": 177,
    "start_time": "2023-10-17T17:29:20.645Z"
   },
   {
    "duration": 18,
    "start_time": "2023-10-17T17:29:20.823Z"
   },
   {
    "duration": 28,
    "start_time": "2023-10-17T17:29:20.843Z"
   },
   {
    "duration": 14,
    "start_time": "2023-10-17T17:29:20.872Z"
   },
   {
    "duration": 207,
    "start_time": "2023-10-17T17:29:20.888Z"
   },
   {
    "duration": 234,
    "start_time": "2023-10-17T17:29:21.096Z"
   },
   {
    "duration": 233,
    "start_time": "2023-10-17T17:29:21.331Z"
   },
   {
    "duration": 328,
    "start_time": "2023-10-17T17:29:21.566Z"
   },
   {
    "duration": 24,
    "start_time": "2023-10-17T17:29:21.898Z"
   },
   {
    "duration": 16,
    "start_time": "2023-10-17T17:29:21.924Z"
   },
   {
    "duration": 17,
    "start_time": "2023-10-17T17:30:24.653Z"
   },
   {
    "duration": 35,
    "start_time": "2023-10-17T17:30:44.500Z"
   },
   {
    "duration": 18,
    "start_time": "2023-10-17T17:32:23.269Z"
   },
   {
    "duration": 92,
    "start_time": "2023-10-17T17:33:12.324Z"
   },
   {
    "duration": 10,
    "start_time": "2023-10-17T17:33:20.901Z"
   },
   {
    "duration": 2203,
    "start_time": "2023-10-17T17:34:02.466Z"
   },
   {
    "duration": 1156,
    "start_time": "2023-10-17T17:34:04.671Z"
   },
   {
    "duration": 82,
    "start_time": "2023-10-17T17:34:05.828Z"
   },
   {
    "duration": 10,
    "start_time": "2023-10-17T17:34:05.912Z"
   },
   {
    "duration": 17,
    "start_time": "2023-10-17T17:34:05.923Z"
   },
   {
    "duration": 16,
    "start_time": "2023-10-17T17:34:05.941Z"
   },
   {
    "duration": 15,
    "start_time": "2023-10-17T17:34:05.959Z"
   },
   {
    "duration": 11,
    "start_time": "2023-10-17T17:34:05.976Z"
   },
   {
    "duration": 201,
    "start_time": "2023-10-17T17:34:05.988Z"
   },
   {
    "duration": 190,
    "start_time": "2023-10-17T17:34:06.191Z"
   },
   {
    "duration": 207,
    "start_time": "2023-10-17T17:34:06.382Z"
   },
   {
    "duration": 172,
    "start_time": "2023-10-17T17:34:06.591Z"
   },
   {
    "duration": 164,
    "start_time": "2023-10-17T17:34:06.765Z"
   },
   {
    "duration": 15,
    "start_time": "2023-10-17T17:34:06.931Z"
   },
   {
    "duration": 26,
    "start_time": "2023-10-17T17:34:06.948Z"
   },
   {
    "duration": 11,
    "start_time": "2023-10-17T17:34:06.976Z"
   },
   {
    "duration": 201,
    "start_time": "2023-10-17T17:34:06.989Z"
   },
   {
    "duration": 173,
    "start_time": "2023-10-17T17:34:07.191Z"
   },
   {
    "duration": 152,
    "start_time": "2023-10-17T17:34:07.365Z"
   },
   {
    "duration": 249,
    "start_time": "2023-10-17T17:34:07.519Z"
   },
   {
    "duration": 106,
    "start_time": "2023-10-17T17:34:07.770Z"
   },
   {
    "duration": 0,
    "start_time": "2023-10-17T17:34:07.877Z"
   },
   {
    "duration": 0,
    "start_time": "2023-10-17T17:34:07.879Z"
   },
   {
    "duration": 0,
    "start_time": "2023-10-17T17:34:07.880Z"
   },
   {
    "duration": 10,
    "start_time": "2023-10-17T17:34:25.428Z"
   },
   {
    "duration": 41,
    "start_time": "2023-10-17T17:34:51.054Z"
   },
   {
    "duration": 25,
    "start_time": "2023-10-17T17:34:57.644Z"
   },
   {
    "duration": 89,
    "start_time": "2023-10-17T17:35:13.501Z"
   },
   {
    "duration": 11,
    "start_time": "2023-10-17T17:35:16.321Z"
   },
   {
    "duration": 15,
    "start_time": "2023-10-17T17:35:25.131Z"
   },
   {
    "duration": 22,
    "start_time": "2023-10-17T17:35:32.657Z"
   },
   {
    "duration": 21,
    "start_time": "2023-10-17T17:35:39.919Z"
   },
   {
    "duration": 90,
    "start_time": "2023-10-17T17:38:32.357Z"
   },
   {
    "duration": 31,
    "start_time": "2023-10-17T17:38:46.176Z"
   },
   {
    "duration": 24,
    "start_time": "2023-10-17T17:39:21.685Z"
   },
   {
    "duration": 39,
    "start_time": "2023-10-17T17:39:37.132Z"
   },
   {
    "duration": 90,
    "start_time": "2023-10-17T17:40:21.228Z"
   },
   {
    "duration": 29,
    "start_time": "2023-10-17T17:41:43.384Z"
   },
   {
    "duration": 35,
    "start_time": "2023-10-17T17:41:54.742Z"
   },
   {
    "duration": 35,
    "start_time": "2023-10-17T17:42:31.745Z"
   },
   {
    "duration": 95,
    "start_time": "2023-10-17T17:42:33.895Z"
   },
   {
    "duration": 29,
    "start_time": "2023-10-17T17:42:36.099Z"
   },
   {
    "duration": 34,
    "start_time": "2023-10-17T17:43:02.437Z"
   },
   {
    "duration": 31,
    "start_time": "2023-10-17T17:43:26.997Z"
   },
   {
    "duration": 4,
    "start_time": "2023-10-17T17:45:28.391Z"
   },
   {
    "duration": 92,
    "start_time": "2023-10-17T17:45:40.430Z"
   },
   {
    "duration": 103,
    "start_time": "2023-10-17T17:46:03.886Z"
   },
   {
    "duration": 4,
    "start_time": "2023-10-17T17:47:17.906Z"
   },
   {
    "duration": 31,
    "start_time": "2023-10-17T17:47:50.730Z"
   },
   {
    "duration": 31,
    "start_time": "2023-10-17T17:48:18.943Z"
   },
   {
    "duration": 34,
    "start_time": "2023-10-17T17:48:46.854Z"
   },
   {
    "duration": 34,
    "start_time": "2023-10-17T17:48:55.013Z"
   },
   {
    "duration": 27,
    "start_time": "2023-10-17T17:48:56.874Z"
   },
   {
    "duration": 43,
    "start_time": "2023-10-17T17:50:02.583Z"
   },
   {
    "duration": 2220,
    "start_time": "2023-10-17T17:50:52.284Z"
   },
   {
    "duration": 1088,
    "start_time": "2023-10-17T17:50:54.506Z"
   },
   {
    "duration": 101,
    "start_time": "2023-10-17T17:50:55.595Z"
   },
   {
    "duration": 10,
    "start_time": "2023-10-17T17:50:55.699Z"
   },
   {
    "duration": 10,
    "start_time": "2023-10-17T17:50:55.710Z"
   },
   {
    "duration": 14,
    "start_time": "2023-10-17T17:50:55.722Z"
   },
   {
    "duration": 33,
    "start_time": "2023-10-17T17:50:55.738Z"
   },
   {
    "duration": 11,
    "start_time": "2023-10-17T17:50:55.772Z"
   },
   {
    "duration": 178,
    "start_time": "2023-10-17T17:50:55.784Z"
   },
   {
    "duration": 188,
    "start_time": "2023-10-17T17:50:55.964Z"
   },
   {
    "duration": 196,
    "start_time": "2023-10-17T17:50:56.168Z"
   },
   {
    "duration": 200,
    "start_time": "2023-10-17T17:50:56.366Z"
   },
   {
    "duration": 154,
    "start_time": "2023-10-17T17:50:56.567Z"
   },
   {
    "duration": 9,
    "start_time": "2023-10-17T17:50:56.722Z"
   },
   {
    "duration": 35,
    "start_time": "2023-10-17T17:50:56.732Z"
   },
   {
    "duration": 10,
    "start_time": "2023-10-17T17:50:56.769Z"
   },
   {
    "duration": 182,
    "start_time": "2023-10-17T17:50:56.781Z"
   },
   {
    "duration": 149,
    "start_time": "2023-10-17T17:50:56.964Z"
   },
   {
    "duration": 157,
    "start_time": "2023-10-17T17:50:57.115Z"
   },
   {
    "duration": 229,
    "start_time": "2023-10-17T17:50:57.273Z"
   },
   {
    "duration": 56,
    "start_time": "2023-10-17T17:50:57.504Z"
   },
   {
    "duration": 2985,
    "start_time": "2023-10-18T16:16:50.366Z"
   },
   {
    "duration": 1466,
    "start_time": "2023-10-18T16:16:53.353Z"
   },
   {
    "duration": 221,
    "start_time": "2023-10-18T16:16:54.821Z"
   },
   {
    "duration": 12,
    "start_time": "2023-10-18T16:16:55.045Z"
   },
   {
    "duration": 27,
    "start_time": "2023-10-18T16:16:55.059Z"
   },
   {
    "duration": 29,
    "start_time": "2023-10-18T16:16:55.088Z"
   },
   {
    "duration": 26,
    "start_time": "2023-10-18T16:16:55.119Z"
   },
   {
    "duration": 11,
    "start_time": "2023-10-18T16:16:55.147Z"
   },
   {
    "duration": 200,
    "start_time": "2023-10-18T16:16:55.160Z"
   },
   {
    "duration": 153,
    "start_time": "2023-10-18T16:16:55.362Z"
   },
   {
    "duration": 176,
    "start_time": "2023-10-18T16:16:55.516Z"
   },
   {
    "duration": 171,
    "start_time": "2023-10-18T16:16:55.693Z"
   },
   {
    "duration": 200,
    "start_time": "2023-10-18T16:16:55.866Z"
   },
   {
    "duration": 10,
    "start_time": "2023-10-18T16:16:56.067Z"
   },
   {
    "duration": 25,
    "start_time": "2023-10-18T16:16:56.079Z"
   },
   {
    "duration": 13,
    "start_time": "2023-10-18T16:16:56.106Z"
   },
   {
    "duration": 174,
    "start_time": "2023-10-18T16:16:56.143Z"
   },
   {
    "duration": 177,
    "start_time": "2023-10-18T16:16:56.320Z"
   },
   {
    "duration": 161,
    "start_time": "2023-10-18T16:16:56.499Z"
   },
   {
    "duration": 250,
    "start_time": "2023-10-18T16:16:56.661Z"
   },
   {
    "duration": 45,
    "start_time": "2023-10-18T16:16:56.913Z"
   },
   {
    "duration": 613,
    "start_time": "2023-10-18T16:20:49.464Z"
   },
   {
    "duration": 39,
    "start_time": "2023-10-18T16:27:05.633Z"
   },
   {
    "duration": 49,
    "start_time": "2023-10-18T16:28:06.250Z"
   },
   {
    "duration": 2217,
    "start_time": "2023-10-18T16:28:31.169Z"
   },
   {
    "duration": 1227,
    "start_time": "2023-10-18T16:28:33.389Z"
   },
   {
    "duration": 85,
    "start_time": "2023-10-18T16:28:34.618Z"
   },
   {
    "duration": 11,
    "start_time": "2023-10-18T16:28:34.705Z"
   },
   {
    "duration": 39,
    "start_time": "2023-10-18T16:28:34.718Z"
   },
   {
    "duration": 23,
    "start_time": "2023-10-18T16:28:34.758Z"
   },
   {
    "duration": 50,
    "start_time": "2023-10-18T16:28:34.782Z"
   },
   {
    "duration": 16,
    "start_time": "2023-10-18T16:28:34.834Z"
   },
   {
    "duration": 180,
    "start_time": "2023-10-18T16:28:34.852Z"
   },
   {
    "duration": 153,
    "start_time": "2023-10-18T16:28:35.034Z"
   },
   {
    "duration": 180,
    "start_time": "2023-10-18T16:28:35.190Z"
   },
   {
    "duration": 172,
    "start_time": "2023-10-18T16:28:35.372Z"
   },
   {
    "duration": 167,
    "start_time": "2023-10-18T16:28:35.546Z"
   },
   {
    "duration": 10,
    "start_time": "2023-10-18T16:28:35.717Z"
   },
   {
    "duration": 36,
    "start_time": "2023-10-18T16:28:35.728Z"
   },
   {
    "duration": 35,
    "start_time": "2023-10-18T16:28:35.766Z"
   },
   {
    "duration": 172,
    "start_time": "2023-10-18T16:28:35.803Z"
   },
   {
    "duration": 176,
    "start_time": "2023-10-18T16:28:35.977Z"
   },
   {
    "duration": 156,
    "start_time": "2023-10-18T16:28:36.155Z"
   },
   {
    "duration": 262,
    "start_time": "2023-10-18T16:28:36.313Z"
   },
   {
    "duration": 49,
    "start_time": "2023-10-18T16:28:36.577Z"
   },
   {
    "duration": 106,
    "start_time": "2023-10-18T16:28:36.628Z"
   },
   {
    "duration": 3,
    "start_time": "2023-10-18T16:28:43.760Z"
   },
   {
    "duration": 25,
    "start_time": "2023-10-18T16:29:14.761Z"
   },
   {
    "duration": 2255,
    "start_time": "2023-10-18T16:29:20.684Z"
   },
   {
    "duration": 1178,
    "start_time": "2023-10-18T16:29:22.941Z"
   },
   {
    "duration": 84,
    "start_time": "2023-10-18T16:29:24.121Z"
   },
   {
    "duration": 11,
    "start_time": "2023-10-18T16:29:24.207Z"
   },
   {
    "duration": 120,
    "start_time": "2023-10-18T16:29:24.220Z"
   },
   {
    "duration": 31,
    "start_time": "2023-10-18T16:29:24.342Z"
   },
   {
    "duration": 21,
    "start_time": "2023-10-18T16:29:24.375Z"
   },
   {
    "duration": 20,
    "start_time": "2023-10-18T16:29:24.398Z"
   },
   {
    "duration": 233,
    "start_time": "2023-10-18T16:29:24.421Z"
   },
   {
    "duration": 142,
    "start_time": "2023-10-18T16:29:24.656Z"
   },
   {
    "duration": 175,
    "start_time": "2023-10-18T16:29:24.800Z"
   },
   {
    "duration": 174,
    "start_time": "2023-10-18T16:29:24.976Z"
   },
   {
    "duration": 166,
    "start_time": "2023-10-18T16:29:25.151Z"
   },
   {
    "duration": 9,
    "start_time": "2023-10-18T16:29:25.318Z"
   },
   {
    "duration": 33,
    "start_time": "2023-10-18T16:29:25.328Z"
   },
   {
    "duration": 11,
    "start_time": "2023-10-18T16:29:25.363Z"
   },
   {
    "duration": 174,
    "start_time": "2023-10-18T16:29:25.376Z"
   },
   {
    "duration": 163,
    "start_time": "2023-10-18T16:29:25.552Z"
   },
   {
    "duration": 154,
    "start_time": "2023-10-18T16:29:25.716Z"
   },
   {
    "duration": 252,
    "start_time": "2023-10-18T16:29:25.872Z"
   },
   {
    "duration": 56,
    "start_time": "2023-10-18T16:29:26.126Z"
   },
   {
    "duration": 2,
    "start_time": "2023-10-18T16:29:26.184Z"
   },
   {
    "duration": 3,
    "start_time": "2023-10-18T16:32:02.318Z"
   },
   {
    "duration": 1755,
    "start_time": "2023-10-18T16:33:56.653Z"
   },
   {
    "duration": 2334,
    "start_time": "2023-10-18T16:34:09.157Z"
   },
   {
    "duration": 1223,
    "start_time": "2023-10-18T16:34:11.494Z"
   },
   {
    "duration": 91,
    "start_time": "2023-10-18T16:34:12.719Z"
   },
   {
    "duration": 10,
    "start_time": "2023-10-18T16:34:12.812Z"
   },
   {
    "duration": 24,
    "start_time": "2023-10-18T16:34:12.824Z"
   },
   {
    "duration": 16,
    "start_time": "2023-10-18T16:34:12.851Z"
   },
   {
    "duration": 22,
    "start_time": "2023-10-18T16:34:12.869Z"
   },
   {
    "duration": 14,
    "start_time": "2023-10-18T16:34:12.893Z"
   },
   {
    "duration": 236,
    "start_time": "2023-10-18T16:34:12.908Z"
   },
   {
    "duration": 165,
    "start_time": "2023-10-18T16:34:13.148Z"
   },
   {
    "duration": 194,
    "start_time": "2023-10-18T16:34:13.314Z"
   },
   {
    "duration": 186,
    "start_time": "2023-10-18T16:34:13.509Z"
   },
   {
    "duration": 216,
    "start_time": "2023-10-18T16:34:13.697Z"
   },
   {
    "duration": 9,
    "start_time": "2023-10-18T16:34:13.915Z"
   },
   {
    "duration": 47,
    "start_time": "2023-10-18T16:34:13.925Z"
   },
   {
    "duration": 13,
    "start_time": "2023-10-18T16:34:13.974Z"
   },
   {
    "duration": 209,
    "start_time": "2023-10-18T16:34:13.988Z"
   },
   {
    "duration": 197,
    "start_time": "2023-10-18T16:34:14.198Z"
   },
   {
    "duration": 211,
    "start_time": "2023-10-18T16:34:14.397Z"
   },
   {
    "duration": 280,
    "start_time": "2023-10-18T16:34:14.610Z"
   },
   {
    "duration": 44,
    "start_time": "2023-10-18T16:34:14.891Z"
   },
   {
    "duration": 3226,
    "start_time": "2023-10-18T16:34:14.944Z"
   },
   {
    "duration": 187,
    "start_time": "2023-10-18T16:35:30.245Z"
   },
   {
    "duration": 58,
    "start_time": "2023-10-18T16:35:41.023Z"
   },
   {
    "duration": 1539,
    "start_time": "2023-10-18T16:35:48.068Z"
   },
   {
    "duration": 1789,
    "start_time": "2023-10-18T16:37:16.978Z"
   },
   {
    "duration": 2008,
    "start_time": "2023-10-18T16:48:10.617Z"
   },
   {
    "duration": 1456,
    "start_time": "2023-10-18T16:48:19.524Z"
   },
   {
    "duration": 2501,
    "start_time": "2023-10-18T16:48:29.464Z"
   },
   {
    "duration": 1213,
    "start_time": "2023-10-18T16:48:31.968Z"
   },
   {
    "duration": 97,
    "start_time": "2023-10-18T16:48:33.182Z"
   },
   {
    "duration": 14,
    "start_time": "2023-10-18T16:48:33.281Z"
   },
   {
    "duration": 30,
    "start_time": "2023-10-18T16:48:33.297Z"
   },
   {
    "duration": 23,
    "start_time": "2023-10-18T16:48:33.329Z"
   },
   {
    "duration": 22,
    "start_time": "2023-10-18T16:48:33.354Z"
   },
   {
    "duration": 23,
    "start_time": "2023-10-18T16:48:33.378Z"
   },
   {
    "duration": 282,
    "start_time": "2023-10-18T16:48:33.403Z"
   },
   {
    "duration": 220,
    "start_time": "2023-10-18T16:48:33.688Z"
   },
   {
    "duration": 200,
    "start_time": "2023-10-18T16:48:33.910Z"
   },
   {
    "duration": 196,
    "start_time": "2023-10-18T16:48:34.111Z"
   },
   {
    "duration": 217,
    "start_time": "2023-10-18T16:48:34.309Z"
   },
   {
    "duration": 32,
    "start_time": "2023-10-18T16:48:34.528Z"
   },
   {
    "duration": 32,
    "start_time": "2023-10-18T16:48:34.563Z"
   },
   {
    "duration": 13,
    "start_time": "2023-10-18T16:48:34.597Z"
   },
   {
    "duration": 228,
    "start_time": "2023-10-18T16:48:34.612Z"
   },
   {
    "duration": 199,
    "start_time": "2023-10-18T16:48:34.844Z"
   },
   {
    "duration": 172,
    "start_time": "2023-10-18T16:48:35.045Z"
   },
   {
    "duration": 255,
    "start_time": "2023-10-18T16:48:35.218Z"
   },
   {
    "duration": 52,
    "start_time": "2023-10-18T16:48:35.475Z"
   },
   {
    "duration": 2341,
    "start_time": "2023-10-18T16:48:35.528Z"
   },
   {
    "duration": 2075,
    "start_time": "2023-10-18T16:48:38.890Z"
   },
   {
    "duration": 1631,
    "start_time": "2023-10-18T16:48:45.475Z"
   },
   {
    "duration": 77,
    "start_time": "2023-10-18T16:48:57.735Z"
   },
   {
    "duration": 2590,
    "start_time": "2023-10-18T16:49:12.192Z"
   },
   {
    "duration": 1315,
    "start_time": "2023-10-18T16:49:14.788Z"
   },
   {
    "duration": 94,
    "start_time": "2023-10-18T16:49:16.105Z"
   },
   {
    "duration": 11,
    "start_time": "2023-10-18T16:49:16.201Z"
   },
   {
    "duration": 15,
    "start_time": "2023-10-18T16:49:16.214Z"
   },
   {
    "duration": 45,
    "start_time": "2023-10-18T16:49:16.231Z"
   },
   {
    "duration": 31,
    "start_time": "2023-10-18T16:49:16.278Z"
   },
   {
    "duration": 18,
    "start_time": "2023-10-18T16:49:16.312Z"
   },
   {
    "duration": 204,
    "start_time": "2023-10-18T16:49:16.332Z"
   },
   {
    "duration": 179,
    "start_time": "2023-10-18T16:49:16.538Z"
   },
   {
    "duration": 223,
    "start_time": "2023-10-18T16:49:16.719Z"
   },
   {
    "duration": 193,
    "start_time": "2023-10-18T16:49:16.945Z"
   },
   {
    "duration": 170,
    "start_time": "2023-10-18T16:49:17.144Z"
   },
   {
    "duration": 9,
    "start_time": "2023-10-18T16:49:17.318Z"
   },
   {
    "duration": 52,
    "start_time": "2023-10-18T16:49:17.328Z"
   },
   {
    "duration": 11,
    "start_time": "2023-10-18T16:49:17.382Z"
   },
   {
    "duration": 215,
    "start_time": "2023-10-18T16:49:17.394Z"
   },
   {
    "duration": 177,
    "start_time": "2023-10-18T16:49:17.611Z"
   },
   {
    "duration": 167,
    "start_time": "2023-10-18T16:49:17.789Z"
   },
   {
    "duration": 282,
    "start_time": "2023-10-18T16:49:17.958Z"
   },
   {
    "duration": 56,
    "start_time": "2023-10-18T16:49:18.252Z"
   },
   {
    "duration": 3,
    "start_time": "2023-10-18T16:49:18.310Z"
   },
   {
    "duration": 1865,
    "start_time": "2023-10-18T16:49:28.991Z"
   },
   {
    "duration": 2169,
    "start_time": "2023-10-18T16:55:55.967Z"
   },
   {
    "duration": 2060,
    "start_time": "2023-10-18T16:56:06.116Z"
   },
   {
    "duration": 1192,
    "start_time": "2023-10-18T16:56:32.746Z"
   },
   {
    "duration": 1208,
    "start_time": "2023-10-18T16:56:50.344Z"
   },
   {
    "duration": 3165,
    "start_time": "2023-10-21T08:37:30.368Z"
   },
   {
    "duration": 1407,
    "start_time": "2023-10-21T08:37:33.536Z"
   },
   {
    "duration": 217,
    "start_time": "2023-10-21T08:37:34.945Z"
   },
   {
    "duration": 12,
    "start_time": "2023-10-21T08:37:35.164Z"
   },
   {
    "duration": 28,
    "start_time": "2023-10-21T08:37:35.178Z"
   },
   {
    "duration": 18,
    "start_time": "2023-10-21T08:37:35.208Z"
   },
   {
    "duration": 31,
    "start_time": "2023-10-21T08:37:35.228Z"
   },
   {
    "duration": 12,
    "start_time": "2023-10-21T08:37:35.261Z"
   },
   {
    "duration": 208,
    "start_time": "2023-10-21T08:37:35.275Z"
   },
   {
    "duration": 163,
    "start_time": "2023-10-21T08:37:35.486Z"
   },
   {
    "duration": 192,
    "start_time": "2023-10-21T08:37:35.651Z"
   },
   {
    "duration": 215,
    "start_time": "2023-10-21T08:37:35.845Z"
   },
   {
    "duration": 183,
    "start_time": "2023-10-21T08:37:36.061Z"
   },
   {
    "duration": 10,
    "start_time": "2023-10-21T08:37:36.246Z"
   },
   {
    "duration": 25,
    "start_time": "2023-10-21T08:37:36.257Z"
   },
   {
    "duration": 32,
    "start_time": "2023-10-21T08:37:36.284Z"
   },
   {
    "duration": 180,
    "start_time": "2023-10-21T08:37:36.318Z"
   },
   {
    "duration": 198,
    "start_time": "2023-10-21T08:37:36.499Z"
   },
   {
    "duration": 164,
    "start_time": "2023-10-21T08:37:36.699Z"
   },
   {
    "duration": 270,
    "start_time": "2023-10-21T08:37:36.865Z"
   },
   {
    "duration": 55,
    "start_time": "2023-10-21T08:37:37.137Z"
   },
   {
    "duration": 1027,
    "start_time": "2023-10-21T08:37:37.208Z"
   },
   {
    "duration": 181,
    "start_time": "2023-10-21T08:38:15.591Z"
   },
   {
    "duration": 80,
    "start_time": "2023-10-21T08:38:52.694Z"
   },
   {
    "duration": 249,
    "start_time": "2023-10-21T08:38:55.937Z"
   },
   {
    "duration": 179,
    "start_time": "2023-10-21T08:38:58.542Z"
   },
   {
    "duration": 2263,
    "start_time": "2023-10-21T08:39:08.635Z"
   },
   {
    "duration": 1211,
    "start_time": "2023-10-21T08:39:10.900Z"
   },
   {
    "duration": 86,
    "start_time": "2023-10-21T08:39:12.112Z"
   },
   {
    "duration": 10,
    "start_time": "2023-10-21T08:39:12.200Z"
   },
   {
    "duration": 21,
    "start_time": "2023-10-21T08:39:12.211Z"
   },
   {
    "duration": 28,
    "start_time": "2023-10-21T08:39:12.234Z"
   },
   {
    "duration": 19,
    "start_time": "2023-10-21T08:39:12.264Z"
   },
   {
    "duration": 17,
    "start_time": "2023-10-21T08:39:12.285Z"
   },
   {
    "duration": 186,
    "start_time": "2023-10-21T08:39:12.304Z"
   },
   {
    "duration": 172,
    "start_time": "2023-10-21T08:39:12.493Z"
   },
   {
    "duration": 289,
    "start_time": "2023-10-21T08:39:12.667Z"
   },
   {
    "duration": 0,
    "start_time": "2023-10-21T08:39:12.958Z"
   },
   {
    "duration": 0,
    "start_time": "2023-10-21T08:39:12.959Z"
   },
   {
    "duration": 0,
    "start_time": "2023-10-21T08:39:12.960Z"
   },
   {
    "duration": 0,
    "start_time": "2023-10-21T08:39:12.961Z"
   },
   {
    "duration": 0,
    "start_time": "2023-10-21T08:39:12.962Z"
   },
   {
    "duration": 0,
    "start_time": "2023-10-21T08:39:12.964Z"
   },
   {
    "duration": 0,
    "start_time": "2023-10-21T08:39:12.965Z"
   },
   {
    "duration": 0,
    "start_time": "2023-10-21T08:39:12.966Z"
   },
   {
    "duration": 0,
    "start_time": "2023-10-21T08:39:12.967Z"
   },
   {
    "duration": 0,
    "start_time": "2023-10-21T08:39:12.968Z"
   },
   {
    "duration": 0,
    "start_time": "2023-10-21T08:39:12.969Z"
   },
   {
    "duration": 200,
    "start_time": "2023-10-21T08:39:25.879Z"
   },
   {
    "duration": 132,
    "start_time": "2023-10-21T08:39:31.280Z"
   },
   {
    "duration": 116,
    "start_time": "2023-10-21T08:39:50.694Z"
   },
   {
    "duration": 132,
    "start_time": "2023-10-21T08:41:25.080Z"
   },
   {
    "duration": 2147,
    "start_time": "2023-10-21T08:41:51.472Z"
   },
   {
    "duration": 1157,
    "start_time": "2023-10-21T08:41:53.621Z"
   },
   {
    "duration": 103,
    "start_time": "2023-10-21T08:41:54.780Z"
   },
   {
    "duration": 12,
    "start_time": "2023-10-21T08:41:54.885Z"
   },
   {
    "duration": 15,
    "start_time": "2023-10-21T08:41:54.898Z"
   },
   {
    "duration": 11,
    "start_time": "2023-10-21T08:41:54.914Z"
   },
   {
    "duration": 17,
    "start_time": "2023-10-21T08:41:54.927Z"
   },
   {
    "duration": 11,
    "start_time": "2023-10-21T08:41:54.946Z"
   },
   {
    "duration": 209,
    "start_time": "2023-10-21T08:41:54.959Z"
   },
   {
    "duration": 163,
    "start_time": "2023-10-21T08:41:55.172Z"
   },
   {
    "duration": 154,
    "start_time": "2023-10-21T08:41:55.337Z"
   },
   {
    "duration": 172,
    "start_time": "2023-10-21T08:41:55.493Z"
   },
   {
    "duration": 176,
    "start_time": "2023-10-21T08:41:55.667Z"
   },
   {
    "duration": 9,
    "start_time": "2023-10-21T08:41:55.845Z"
   },
   {
    "duration": 32,
    "start_time": "2023-10-21T08:41:55.856Z"
   },
   {
    "duration": 28,
    "start_time": "2023-10-21T08:41:55.890Z"
   },
   {
    "duration": 240,
    "start_time": "2023-10-21T08:41:55.920Z"
   },
   {
    "duration": 193,
    "start_time": "2023-10-21T08:41:56.162Z"
   },
   {
    "duration": 159,
    "start_time": "2023-10-21T08:41:56.357Z"
   },
   {
    "duration": 262,
    "start_time": "2023-10-21T08:41:56.518Z"
   },
   {
    "duration": 65,
    "start_time": "2023-10-21T08:41:56.782Z"
   },
   {
    "duration": 1064,
    "start_time": "2023-10-21T08:41:56.849Z"
   },
   {
    "duration": 138,
    "start_time": "2023-10-21T08:44:07.836Z"
   },
   {
    "duration": 2190,
    "start_time": "2023-10-21T08:45:51.771Z"
   },
   {
    "duration": 1252,
    "start_time": "2023-10-21T08:45:53.963Z"
   },
   {
    "duration": 88,
    "start_time": "2023-10-21T08:45:55.217Z"
   },
   {
    "duration": 12,
    "start_time": "2023-10-21T08:45:55.307Z"
   },
   {
    "duration": 27,
    "start_time": "2023-10-21T08:45:55.320Z"
   },
   {
    "duration": 16,
    "start_time": "2023-10-21T08:45:55.349Z"
   },
   {
    "duration": 29,
    "start_time": "2023-10-21T08:45:55.366Z"
   },
   {
    "duration": 15,
    "start_time": "2023-10-21T08:45:55.398Z"
   },
   {
    "duration": 202,
    "start_time": "2023-10-21T08:45:55.415Z"
   },
   {
    "duration": 150,
    "start_time": "2023-10-21T08:45:55.620Z"
   },
   {
    "duration": 166,
    "start_time": "2023-10-21T08:45:55.771Z"
   },
   {
    "duration": 224,
    "start_time": "2023-10-21T08:45:55.939Z"
   },
   {
    "duration": 166,
    "start_time": "2023-10-21T08:45:56.164Z"
   },
   {
    "duration": 10,
    "start_time": "2023-10-21T08:45:56.331Z"
   },
   {
    "duration": 24,
    "start_time": "2023-10-21T08:45:56.343Z"
   },
   {
    "duration": 16,
    "start_time": "2023-10-21T08:45:56.369Z"
   },
   {
    "duration": 194,
    "start_time": "2023-10-21T08:45:56.408Z"
   },
   {
    "duration": 197,
    "start_time": "2023-10-21T08:45:56.604Z"
   },
   {
    "duration": 163,
    "start_time": "2023-10-21T08:45:56.803Z"
   },
   {
    "duration": 259,
    "start_time": "2023-10-21T08:45:56.968Z"
   },
   {
    "duration": 90,
    "start_time": "2023-10-21T08:45:57.229Z"
   },
   {
    "duration": 1184,
    "start_time": "2023-10-21T08:45:57.321Z"
   },
   {
    "duration": 167,
    "start_time": "2023-10-21T08:46:04.877Z"
   },
   {
    "duration": 168,
    "start_time": "2023-10-21T08:46:05.464Z"
   },
   {
    "duration": 168,
    "start_time": "2023-10-21T08:46:05.726Z"
   },
   {
    "duration": 2235,
    "start_time": "2023-10-21T08:46:09.350Z"
   },
   {
    "duration": 1259,
    "start_time": "2023-10-21T08:46:11.588Z"
   },
   {
    "duration": 86,
    "start_time": "2023-10-21T08:46:12.848Z"
   },
   {
    "duration": 11,
    "start_time": "2023-10-21T08:46:12.936Z"
   },
   {
    "duration": 12,
    "start_time": "2023-10-21T08:46:12.950Z"
   },
   {
    "duration": 15,
    "start_time": "2023-10-21T08:46:12.963Z"
   },
   {
    "duration": 31,
    "start_time": "2023-10-21T08:46:12.980Z"
   },
   {
    "duration": 16,
    "start_time": "2023-10-21T08:46:13.013Z"
   },
   {
    "duration": 217,
    "start_time": "2023-10-21T08:46:13.031Z"
   },
   {
    "duration": 160,
    "start_time": "2023-10-21T08:46:13.250Z"
   },
   {
    "duration": 175,
    "start_time": "2023-10-21T08:46:13.413Z"
   },
   {
    "duration": 180,
    "start_time": "2023-10-21T08:46:13.589Z"
   },
   {
    "duration": 174,
    "start_time": "2023-10-21T08:46:13.771Z"
   },
   {
    "duration": 12,
    "start_time": "2023-10-21T08:46:13.947Z"
   },
   {
    "duration": 61,
    "start_time": "2023-10-21T08:46:13.961Z"
   },
   {
    "duration": 12,
    "start_time": "2023-10-21T08:46:14.024Z"
   },
   {
    "duration": 171,
    "start_time": "2023-10-21T08:46:14.038Z"
   },
   {
    "duration": 174,
    "start_time": "2023-10-21T08:46:14.210Z"
   },
   {
    "duration": 203,
    "start_time": "2023-10-21T08:46:14.386Z"
   },
   {
    "duration": 282,
    "start_time": "2023-10-21T08:46:14.591Z"
   },
   {
    "duration": 82,
    "start_time": "2023-10-21T08:46:14.875Z"
   },
   {
    "duration": 1123,
    "start_time": "2023-10-21T08:46:14.959Z"
   },
   {
    "duration": 6,
    "start_time": "2023-10-21T09:02:21.966Z"
   },
   {
    "duration": 1275,
    "start_time": "2023-10-21T09:02:52.438Z"
   },
   {
    "duration": 1013,
    "start_time": "2023-10-21T09:03:02.931Z"
   },
   {
    "duration": 2615,
    "start_time": "2023-10-21T09:03:17.312Z"
   },
   {
    "duration": 1292,
    "start_time": "2023-10-21T09:03:19.929Z"
   },
   {
    "duration": 109,
    "start_time": "2023-10-21T09:03:21.222Z"
   },
   {
    "duration": 15,
    "start_time": "2023-10-21T09:03:21.334Z"
   },
   {
    "duration": 84,
    "start_time": "2023-10-21T09:03:21.351Z"
   },
   {
    "duration": 41,
    "start_time": "2023-10-21T09:03:21.437Z"
   },
   {
    "duration": 32,
    "start_time": "2023-10-21T09:03:21.479Z"
   },
   {
    "duration": 51,
    "start_time": "2023-10-21T09:03:21.514Z"
   },
   {
    "duration": 298,
    "start_time": "2023-10-21T09:03:21.567Z"
   },
   {
    "duration": 192,
    "start_time": "2023-10-21T09:03:21.868Z"
   },
   {
    "duration": 186,
    "start_time": "2023-10-21T09:03:22.062Z"
   },
   {
    "duration": 264,
    "start_time": "2023-10-21T09:03:22.250Z"
   },
   {
    "duration": 255,
    "start_time": "2023-10-21T09:03:22.516Z"
   },
   {
    "duration": 10,
    "start_time": "2023-10-21T09:03:22.773Z"
   },
   {
    "duration": 34,
    "start_time": "2023-10-21T09:03:22.785Z"
   },
   {
    "duration": 19,
    "start_time": "2023-10-21T09:03:22.822Z"
   },
   {
    "duration": 256,
    "start_time": "2023-10-21T09:03:22.843Z"
   },
   {
    "duration": 174,
    "start_time": "2023-10-21T09:03:23.106Z"
   },
   {
    "duration": 184,
    "start_time": "2023-10-21T09:03:23.281Z"
   },
   {
    "duration": 294,
    "start_time": "2023-10-21T09:03:23.467Z"
   },
   {
    "duration": 66,
    "start_time": "2023-10-21T09:03:23.763Z"
   },
   {
    "duration": 4,
    "start_time": "2023-10-21T09:03:23.831Z"
   },
   {
    "duration": 1086,
    "start_time": "2023-10-21T09:03:23.837Z"
   },
   {
    "duration": 4,
    "start_time": "2023-10-21T09:03:34.223Z"
   },
   {
    "duration": 1023,
    "start_time": "2023-10-21T09:03:37.855Z"
   },
   {
    "duration": 5,
    "start_time": "2023-10-21T09:04:33.838Z"
   },
   {
    "duration": 1231,
    "start_time": "2023-10-21T09:04:35.324Z"
   },
   {
    "duration": 1587,
    "start_time": "2023-10-21T09:04:54.824Z"
   },
   {
    "duration": 2778,
    "start_time": "2023-10-21T09:05:06.219Z"
   },
   {
    "duration": 1536,
    "start_time": "2023-10-21T09:05:09.001Z"
   },
   {
    "duration": 107,
    "start_time": "2023-10-21T09:05:10.538Z"
   },
   {
    "duration": 15,
    "start_time": "2023-10-21T09:05:10.647Z"
   },
   {
    "duration": 34,
    "start_time": "2023-10-21T09:05:10.665Z"
   },
   {
    "duration": 18,
    "start_time": "2023-10-21T09:05:10.702Z"
   },
   {
    "duration": 25,
    "start_time": "2023-10-21T09:05:10.722Z"
   },
   {
    "duration": 34,
    "start_time": "2023-10-21T09:05:10.749Z"
   },
   {
    "duration": 272,
    "start_time": "2023-10-21T09:05:10.786Z"
   },
   {
    "duration": 170,
    "start_time": "2023-10-21T09:05:11.060Z"
   },
   {
    "duration": 197,
    "start_time": "2023-10-21T09:05:11.232Z"
   },
   {
    "duration": 184,
    "start_time": "2023-10-21T09:05:11.431Z"
   },
   {
    "duration": 190,
    "start_time": "2023-10-21T09:05:11.617Z"
   },
   {
    "duration": 12,
    "start_time": "2023-10-21T09:05:11.810Z"
   },
   {
    "duration": 52,
    "start_time": "2023-10-21T09:05:11.824Z"
   },
   {
    "duration": 45,
    "start_time": "2023-10-21T09:05:11.879Z"
   },
   {
    "duration": 264,
    "start_time": "2023-10-21T09:05:11.926Z"
   },
   {
    "duration": 177,
    "start_time": "2023-10-21T09:05:12.192Z"
   },
   {
    "duration": 184,
    "start_time": "2023-10-21T09:05:12.370Z"
   },
   {
    "duration": 317,
    "start_time": "2023-10-21T09:05:12.555Z"
   },
   {
    "duration": 85,
    "start_time": "2023-10-21T09:05:12.874Z"
   },
   {
    "duration": 4,
    "start_time": "2023-10-21T09:05:12.962Z"
   },
   {
    "duration": 1664,
    "start_time": "2023-10-21T09:05:12.968Z"
   },
   {
    "duration": 4,
    "start_time": "2023-10-21T09:05:48.598Z"
   },
   {
    "duration": 1249,
    "start_time": "2023-10-21T09:05:48.944Z"
   },
   {
    "duration": 5,
    "start_time": "2023-10-21T09:06:04.855Z"
   },
   {
    "duration": 1413,
    "start_time": "2023-10-21T09:06:09.399Z"
   },
   {
    "duration": 5,
    "start_time": "2023-10-21T09:06:18.234Z"
   },
   {
    "duration": 1172,
    "start_time": "2023-10-21T09:06:18.506Z"
   },
   {
    "duration": 4,
    "start_time": "2023-10-21T09:08:22.765Z"
   },
   {
    "duration": 1276,
    "start_time": "2023-10-21T09:08:24.693Z"
   },
   {
    "duration": 4,
    "start_time": "2023-10-21T09:08:31.382Z"
   },
   {
    "duration": 23,
    "start_time": "2023-10-21T09:08:37.148Z"
   },
   {
    "duration": 22,
    "start_time": "2023-10-21T09:09:12.177Z"
   },
   {
    "duration": 1252,
    "start_time": "2023-10-21T09:09:12.554Z"
   },
   {
    "duration": 48,
    "start_time": "2023-10-21T09:20:46.895Z"
   },
   {
    "duration": 2318,
    "start_time": "2023-10-21T09:20:53.967Z"
   },
   {
    "duration": 1287,
    "start_time": "2023-10-21T09:20:56.288Z"
   },
   {
    "duration": 103,
    "start_time": "2023-10-21T09:20:57.577Z"
   },
   {
    "duration": 16,
    "start_time": "2023-10-21T09:20:57.683Z"
   },
   {
    "duration": 31,
    "start_time": "2023-10-21T09:20:57.701Z"
   },
   {
    "duration": 62,
    "start_time": "2023-10-21T09:20:57.734Z"
   },
   {
    "duration": 19,
    "start_time": "2023-10-21T09:20:57.799Z"
   },
   {
    "duration": 18,
    "start_time": "2023-10-21T09:20:57.820Z"
   },
   {
    "duration": 222,
    "start_time": "2023-10-21T09:20:57.839Z"
   },
   {
    "duration": 156,
    "start_time": "2023-10-21T09:20:58.063Z"
   },
   {
    "duration": 183,
    "start_time": "2023-10-21T09:20:58.221Z"
   },
   {
    "duration": 185,
    "start_time": "2023-10-21T09:20:58.408Z"
   },
   {
    "duration": 201,
    "start_time": "2023-10-21T09:20:58.594Z"
   },
   {
    "duration": 19,
    "start_time": "2023-10-21T09:20:58.797Z"
   },
   {
    "duration": 30,
    "start_time": "2023-10-21T09:20:58.818Z"
   },
   {
    "duration": 17,
    "start_time": "2023-10-21T09:20:58.849Z"
   },
   {
    "duration": 206,
    "start_time": "2023-10-21T09:20:58.868Z"
   },
   {
    "duration": 177,
    "start_time": "2023-10-21T09:20:59.076Z"
   },
   {
    "duration": 180,
    "start_time": "2023-10-21T09:20:59.255Z"
   },
   {
    "duration": 294,
    "start_time": "2023-10-21T09:20:59.441Z"
   },
   {
    "duration": 134,
    "start_time": "2023-10-21T09:20:59.737Z"
   },
   {
    "duration": 0,
    "start_time": "2023-10-21T09:20:59.873Z"
   },
   {
    "duration": 0,
    "start_time": "2023-10-21T09:20:59.875Z"
   },
   {
    "duration": 2057,
    "start_time": "2023-10-21T09:21:06.211Z"
   },
   {
    "duration": 1491,
    "start_time": "2023-10-21T09:22:15.402Z"
   },
   {
    "duration": 1352,
    "start_time": "2023-10-21T09:22:23.448Z"
   },
   {
    "duration": 2422,
    "start_time": "2023-10-21T09:27:25.335Z"
   },
   {
    "duration": 1170,
    "start_time": "2023-10-21T09:27:27.760Z"
   },
   {
    "duration": 94,
    "start_time": "2023-10-21T09:27:28.933Z"
   },
   {
    "duration": 12,
    "start_time": "2023-10-21T09:27:29.030Z"
   },
   {
    "duration": 30,
    "start_time": "2023-10-21T09:27:29.043Z"
   },
   {
    "duration": 10,
    "start_time": "2023-10-21T09:27:29.075Z"
   },
   {
    "duration": 24,
    "start_time": "2023-10-21T09:27:29.087Z"
   },
   {
    "duration": 17,
    "start_time": "2023-10-21T09:27:29.113Z"
   },
   {
    "duration": 263,
    "start_time": "2023-10-21T09:27:29.133Z"
   },
   {
    "duration": 191,
    "start_time": "2023-10-21T09:27:29.399Z"
   },
   {
    "duration": 192,
    "start_time": "2023-10-21T09:27:29.592Z"
   },
   {
    "duration": 176,
    "start_time": "2023-10-21T09:27:29.786Z"
   },
   {
    "duration": 249,
    "start_time": "2023-10-21T09:27:29.964Z"
   },
   {
    "duration": 13,
    "start_time": "2023-10-21T09:27:30.215Z"
   },
   {
    "duration": 98,
    "start_time": "2023-10-21T09:27:30.231Z"
   },
   {
    "duration": 61,
    "start_time": "2023-10-21T09:27:30.331Z"
   },
   {
    "duration": 235,
    "start_time": "2023-10-21T09:27:30.394Z"
   },
   {
    "duration": 199,
    "start_time": "2023-10-21T09:27:30.631Z"
   },
   {
    "duration": 182,
    "start_time": "2023-10-21T09:27:30.832Z"
   },
   {
    "duration": 288,
    "start_time": "2023-10-21T09:27:31.016Z"
   },
   {
    "duration": 1335,
    "start_time": "2023-10-21T09:27:31.305Z"
   },
   {
    "duration": 0,
    "start_time": "2023-10-21T09:27:32.643Z"
   },
   {
    "duration": 0,
    "start_time": "2023-10-21T09:27:32.644Z"
   },
   {
    "duration": 81,
    "start_time": "2023-10-21T09:35:21.152Z"
   },
   {
    "duration": 98,
    "start_time": "2023-10-21T09:35:54.571Z"
   },
   {
    "duration": 2286,
    "start_time": "2023-10-21T09:35:59.060Z"
   },
   {
    "duration": 1220,
    "start_time": "2023-10-21T09:36:01.348Z"
   },
   {
    "duration": 91,
    "start_time": "2023-10-21T09:36:02.570Z"
   },
   {
    "duration": 15,
    "start_time": "2023-10-21T09:36:02.662Z"
   },
   {
    "duration": 58,
    "start_time": "2023-10-21T09:36:02.679Z"
   },
   {
    "duration": 43,
    "start_time": "2023-10-21T09:36:02.739Z"
   },
   {
    "duration": 19,
    "start_time": "2023-10-21T09:36:02.784Z"
   },
   {
    "duration": 27,
    "start_time": "2023-10-21T09:36:02.804Z"
   },
   {
    "duration": 220,
    "start_time": "2023-10-21T09:36:02.832Z"
   },
   {
    "duration": 163,
    "start_time": "2023-10-21T09:36:03.054Z"
   },
   {
    "duration": 201,
    "start_time": "2023-10-21T09:36:03.219Z"
   },
   {
    "duration": 201,
    "start_time": "2023-10-21T09:36:03.422Z"
   },
   {
    "duration": 166,
    "start_time": "2023-10-21T09:36:03.624Z"
   },
   {
    "duration": 19,
    "start_time": "2023-10-21T09:36:03.792Z"
   },
   {
    "duration": 22,
    "start_time": "2023-10-21T09:36:03.813Z"
   },
   {
    "duration": 13,
    "start_time": "2023-10-21T09:36:03.837Z"
   },
   {
    "duration": 198,
    "start_time": "2023-10-21T09:36:03.852Z"
   },
   {
    "duration": 174,
    "start_time": "2023-10-21T09:36:04.052Z"
   },
   {
    "duration": 157,
    "start_time": "2023-10-21T09:36:04.228Z"
   },
   {
    "duration": 289,
    "start_time": "2023-10-21T09:36:04.387Z"
   },
   {
    "duration": 89,
    "start_time": "2023-10-21T09:36:04.678Z"
   },
   {
    "duration": 0,
    "start_time": "2023-10-21T09:36:04.769Z"
   },
   {
    "duration": 0,
    "start_time": "2023-10-21T09:36:04.770Z"
   },
   {
    "duration": 66,
    "start_time": "2023-10-21T09:36:52.282Z"
   },
   {
    "duration": 26,
    "start_time": "2023-10-21T09:37:14.556Z"
   },
   {
    "duration": 35,
    "start_time": "2023-10-21T09:37:17.192Z"
   },
   {
    "duration": 127,
    "start_time": "2023-10-21T09:37:52.248Z"
   },
   {
    "duration": 27,
    "start_time": "2023-10-21T09:37:57.769Z"
   },
   {
    "duration": 34,
    "start_time": "2023-10-21T09:38:07.655Z"
   },
   {
    "duration": 2294,
    "start_time": "2023-10-21T09:44:18.505Z"
   },
   {
    "duration": 1235,
    "start_time": "2023-10-21T09:44:20.801Z"
   },
   {
    "duration": 89,
    "start_time": "2023-10-21T09:44:22.038Z"
   },
   {
    "duration": 11,
    "start_time": "2023-10-21T09:44:22.129Z"
   },
   {
    "duration": 18,
    "start_time": "2023-10-21T09:44:22.142Z"
   },
   {
    "duration": 13,
    "start_time": "2023-10-21T09:44:22.162Z"
   },
   {
    "duration": 34,
    "start_time": "2023-10-21T09:44:22.177Z"
   },
   {
    "duration": 13,
    "start_time": "2023-10-21T09:44:22.213Z"
   },
   {
    "duration": 202,
    "start_time": "2023-10-21T09:44:22.228Z"
   },
   {
    "duration": 160,
    "start_time": "2023-10-21T09:44:22.433Z"
   },
   {
    "duration": 182,
    "start_time": "2023-10-21T09:44:22.594Z"
   },
   {
    "duration": 174,
    "start_time": "2023-10-21T09:44:22.778Z"
   },
   {
    "duration": 170,
    "start_time": "2023-10-21T09:44:22.954Z"
   },
   {
    "duration": 9,
    "start_time": "2023-10-21T09:44:23.126Z"
   },
   {
    "duration": 21,
    "start_time": "2023-10-21T09:44:23.137Z"
   },
   {
    "duration": 25,
    "start_time": "2023-10-21T09:44:23.160Z"
   },
   {
    "duration": 183,
    "start_time": "2023-10-21T09:44:23.186Z"
   },
   {
    "duration": 181,
    "start_time": "2023-10-21T09:44:23.371Z"
   },
   {
    "duration": 180,
    "start_time": "2023-10-21T09:44:23.554Z"
   },
   {
    "duration": 261,
    "start_time": "2023-10-21T09:44:23.736Z"
   },
   {
    "duration": 36,
    "start_time": "2023-10-21T09:44:23.999Z"
   },
   {
    "duration": 17,
    "start_time": "2023-10-21T09:44:24.037Z"
   },
   {
    "duration": 1334,
    "start_time": "2023-10-21T09:44:24.056Z"
   },
   {
    "duration": 23,
    "start_time": "2023-10-21T09:44:45.264Z"
   },
   {
    "duration": 22,
    "start_time": "2023-10-21T09:44:50.480Z"
   },
   {
    "duration": 34,
    "start_time": "2023-10-21T09:44:55.752Z"
   },
   {
    "duration": 39,
    "start_time": "2023-10-21T09:45:32.573Z"
   },
   {
    "duration": 33,
    "start_time": "2023-10-21T09:46:12.952Z"
   },
   {
    "duration": 45,
    "start_time": "2023-10-21T09:46:15.605Z"
   },
   {
    "duration": 74,
    "start_time": "2023-10-21T09:50:48.240Z"
   },
   {
    "duration": 38,
    "start_time": "2023-10-21T09:51:01.253Z"
   },
   {
    "duration": 36,
    "start_time": "2023-10-21T09:51:32.770Z"
   },
   {
    "duration": 2553,
    "start_time": "2023-10-21T09:51:48.968Z"
   },
   {
    "duration": 1204,
    "start_time": "2023-10-21T09:51:51.525Z"
   },
   {
    "duration": 88,
    "start_time": "2023-10-21T09:51:52.730Z"
   },
   {
    "duration": 13,
    "start_time": "2023-10-21T09:51:52.820Z"
   },
   {
    "duration": 26,
    "start_time": "2023-10-21T09:51:52.835Z"
   },
   {
    "duration": 35,
    "start_time": "2023-10-21T09:51:52.864Z"
   },
   {
    "duration": 23,
    "start_time": "2023-10-21T09:51:52.906Z"
   },
   {
    "duration": 26,
    "start_time": "2023-10-21T09:51:52.931Z"
   },
   {
    "duration": 193,
    "start_time": "2023-10-21T09:51:52.959Z"
   },
   {
    "duration": 155,
    "start_time": "2023-10-21T09:51:53.154Z"
   },
   {
    "duration": 209,
    "start_time": "2023-10-21T09:51:53.311Z"
   },
   {
    "duration": 221,
    "start_time": "2023-10-21T09:51:53.522Z"
   },
   {
    "duration": 177,
    "start_time": "2023-10-21T09:51:53.745Z"
   },
   {
    "duration": 13,
    "start_time": "2023-10-21T09:51:53.923Z"
   },
   {
    "duration": 24,
    "start_time": "2023-10-21T09:51:53.939Z"
   },
   {
    "duration": 42,
    "start_time": "2023-10-21T09:51:53.965Z"
   },
   {
    "duration": 182,
    "start_time": "2023-10-21T09:51:54.009Z"
   },
   {
    "duration": 194,
    "start_time": "2023-10-21T09:51:54.192Z"
   },
   {
    "duration": 186,
    "start_time": "2023-10-21T09:51:54.388Z"
   },
   {
    "duration": 303,
    "start_time": "2023-10-21T09:51:54.576Z"
   },
   {
    "duration": 39,
    "start_time": "2023-10-21T09:51:54.880Z"
   },
   {
    "duration": 18,
    "start_time": "2023-10-21T09:51:54.921Z"
   },
   {
    "duration": 1323,
    "start_time": "2023-10-21T09:51:54.940Z"
   },
   {
    "duration": 792,
    "start_time": "2023-10-21T09:54:23.908Z"
   },
   {
    "duration": 860,
    "start_time": "2023-10-21T09:54:34.879Z"
   },
   {
    "duration": 861,
    "start_time": "2023-10-21T09:55:37.550Z"
   },
   {
    "duration": 787,
    "start_time": "2023-10-21T09:55:54.096Z"
   },
   {
    "duration": 3,
    "start_time": "2023-10-21T09:56:35.346Z"
   },
   {
    "duration": 902,
    "start_time": "2023-10-21T09:56:57.251Z"
   },
   {
    "duration": 976,
    "start_time": "2023-10-21T09:57:07.307Z"
   },
   {
    "duration": 76,
    "start_time": "2023-10-21T09:57:16.867Z"
   },
   {
    "duration": 1109,
    "start_time": "2023-10-21T09:57:19.645Z"
   },
   {
    "duration": 1187,
    "start_time": "2023-10-21T09:57:22.349Z"
   },
   {
    "duration": 4,
    "start_time": "2023-10-21T09:58:05.264Z"
   },
   {
    "duration": 1317,
    "start_time": "2023-10-21T09:58:06.730Z"
   },
   {
    "duration": 904,
    "start_time": "2023-10-21T09:58:31.187Z"
   },
   {
    "duration": 4,
    "start_time": "2023-10-21T09:58:32.914Z"
   },
   {
    "duration": 198,
    "start_time": "2023-10-21T09:58:33.928Z"
   },
   {
    "duration": 213,
    "start_time": "2023-10-21T09:58:38.701Z"
   },
   {
    "duration": 2229,
    "start_time": "2023-10-21T10:17:56.574Z"
   },
   {
    "duration": 1135,
    "start_time": "2023-10-21T10:17:58.806Z"
   },
   {
    "duration": 101,
    "start_time": "2023-10-21T10:17:59.943Z"
   },
   {
    "duration": 16,
    "start_time": "2023-10-21T10:18:00.047Z"
   },
   {
    "duration": 65,
    "start_time": "2023-10-21T10:18:00.066Z"
   },
   {
    "duration": 30,
    "start_time": "2023-10-21T10:18:00.134Z"
   },
   {
    "duration": 30,
    "start_time": "2023-10-21T10:18:00.165Z"
   },
   {
    "duration": 35,
    "start_time": "2023-10-21T10:18:00.197Z"
   },
   {
    "duration": 206,
    "start_time": "2023-10-21T10:18:00.233Z"
   },
   {
    "duration": 157,
    "start_time": "2023-10-21T10:18:00.441Z"
   },
   {
    "duration": 181,
    "start_time": "2023-10-21T10:18:00.600Z"
   },
   {
    "duration": 186,
    "start_time": "2023-10-21T10:18:00.783Z"
   },
   {
    "duration": 209,
    "start_time": "2023-10-21T10:18:00.971Z"
   },
   {
    "duration": 9,
    "start_time": "2023-10-21T10:18:01.184Z"
   },
   {
    "duration": 102,
    "start_time": "2023-10-21T10:18:01.195Z"
   },
   {
    "duration": 82,
    "start_time": "2023-10-21T10:18:01.299Z"
   },
   {
    "duration": 266,
    "start_time": "2023-10-21T10:18:01.383Z"
   },
   {
    "duration": 192,
    "start_time": "2023-10-21T10:18:01.651Z"
   },
   {
    "duration": 175,
    "start_time": "2023-10-21T10:18:01.845Z"
   },
   {
    "duration": 286,
    "start_time": "2023-10-21T10:18:02.021Z"
   },
   {
    "duration": 839,
    "start_time": "2023-10-21T10:18:02.308Z"
   },
   {
    "duration": 4,
    "start_time": "2023-10-21T10:18:03.148Z"
   },
   {
    "duration": 254,
    "start_time": "2023-10-21T10:18:03.153Z"
   },
   {
    "duration": 936,
    "start_time": "2023-10-21T10:20:45.229Z"
   },
   {
    "duration": 4,
    "start_time": "2023-10-21T10:20:46.168Z"
   },
   {
    "duration": 285,
    "start_time": "2023-10-21T10:20:46.174Z"
   },
   {
    "duration": 882,
    "start_time": "2023-10-21T10:28:47.151Z"
   },
   {
    "duration": 2302,
    "start_time": "2023-10-21T10:29:04.850Z"
   },
   {
    "duration": 1287,
    "start_time": "2023-10-21T10:29:07.154Z"
   },
   {
    "duration": 99,
    "start_time": "2023-10-21T10:29:08.442Z"
   },
   {
    "duration": 17,
    "start_time": "2023-10-21T10:29:08.543Z"
   },
   {
    "duration": 33,
    "start_time": "2023-10-21T10:29:08.563Z"
   },
   {
    "duration": 63,
    "start_time": "2023-10-21T10:29:08.598Z"
   },
   {
    "duration": 40,
    "start_time": "2023-10-21T10:29:08.663Z"
   },
   {
    "duration": 17,
    "start_time": "2023-10-21T10:29:08.705Z"
   },
   {
    "duration": 203,
    "start_time": "2023-10-21T10:29:08.724Z"
   },
   {
    "duration": 169,
    "start_time": "2023-10-21T10:29:08.929Z"
   },
   {
    "duration": 176,
    "start_time": "2023-10-21T10:29:09.100Z"
   },
   {
    "duration": 172,
    "start_time": "2023-10-21T10:29:09.278Z"
   },
   {
    "duration": 174,
    "start_time": "2023-10-21T10:29:09.452Z"
   },
   {
    "duration": 11,
    "start_time": "2023-10-21T10:29:09.628Z"
   },
   {
    "duration": 60,
    "start_time": "2023-10-21T10:29:09.640Z"
   },
   {
    "duration": 49,
    "start_time": "2023-10-21T10:29:09.702Z"
   },
   {
    "duration": 189,
    "start_time": "2023-10-21T10:29:09.753Z"
   },
   {
    "duration": 243,
    "start_time": "2023-10-21T10:29:09.944Z"
   },
   {
    "duration": 176,
    "start_time": "2023-10-21T10:29:10.189Z"
   },
   {
    "duration": 275,
    "start_time": "2023-10-21T10:29:10.367Z"
   },
   {
    "duration": 810,
    "start_time": "2023-10-21T10:29:10.644Z"
   },
   {
    "duration": 4,
    "start_time": "2023-10-21T10:29:11.455Z"
   },
   {
    "duration": 238,
    "start_time": "2023-10-21T10:29:11.461Z"
   },
   {
    "duration": 8,
    "start_time": "2023-10-21T10:38:59.603Z"
   },
   {
    "duration": 14,
    "start_time": "2023-10-21T10:39:03.016Z"
   },
   {
    "duration": 113,
    "start_time": "2023-10-21T10:45:48.657Z"
   },
   {
    "duration": 2534,
    "start_time": "2023-10-21T10:46:21.175Z"
   },
   {
    "duration": 103,
    "start_time": "2023-10-21T10:46:23.712Z"
   },
   {
    "duration": 0,
    "start_time": "2023-10-21T10:46:23.818Z"
   },
   {
    "duration": 0,
    "start_time": "2023-10-21T10:46:23.819Z"
   },
   {
    "duration": 0,
    "start_time": "2023-10-21T10:46:23.821Z"
   },
   {
    "duration": 0,
    "start_time": "2023-10-21T10:46:23.822Z"
   },
   {
    "duration": 0,
    "start_time": "2023-10-21T10:46:23.824Z"
   },
   {
    "duration": 0,
    "start_time": "2023-10-21T10:46:23.826Z"
   },
   {
    "duration": 0,
    "start_time": "2023-10-21T10:46:23.828Z"
   },
   {
    "duration": 0,
    "start_time": "2023-10-21T10:46:23.830Z"
   },
   {
    "duration": 0,
    "start_time": "2023-10-21T10:46:23.832Z"
   },
   {
    "duration": 0,
    "start_time": "2023-10-21T10:46:23.833Z"
   },
   {
    "duration": 0,
    "start_time": "2023-10-21T10:46:23.834Z"
   },
   {
    "duration": 0,
    "start_time": "2023-10-21T10:46:23.836Z"
   },
   {
    "duration": 0,
    "start_time": "2023-10-21T10:46:23.837Z"
   },
   {
    "duration": 0,
    "start_time": "2023-10-21T10:46:23.838Z"
   },
   {
    "duration": 0,
    "start_time": "2023-10-21T10:46:23.840Z"
   },
   {
    "duration": 0,
    "start_time": "2023-10-21T10:46:23.841Z"
   },
   {
    "duration": 0,
    "start_time": "2023-10-21T10:46:23.842Z"
   },
   {
    "duration": 0,
    "start_time": "2023-10-21T10:46:23.843Z"
   },
   {
    "duration": 0,
    "start_time": "2023-10-21T10:46:23.844Z"
   },
   {
    "duration": 0,
    "start_time": "2023-10-21T10:46:23.846Z"
   },
   {
    "duration": 0,
    "start_time": "2023-10-21T10:46:23.847Z"
   },
   {
    "duration": 0,
    "start_time": "2023-10-21T10:46:23.847Z"
   },
   {
    "duration": 1279,
    "start_time": "2023-10-21T10:46:44.747Z"
   },
   {
    "duration": 2478,
    "start_time": "2023-10-21T10:46:49.640Z"
   },
   {
    "duration": 1182,
    "start_time": "2023-10-21T10:46:52.127Z"
   },
   {
    "duration": 91,
    "start_time": "2023-10-21T10:46:53.312Z"
   },
   {
    "duration": 14,
    "start_time": "2023-10-21T10:46:53.406Z"
   },
   {
    "duration": 48,
    "start_time": "2023-10-21T10:46:53.423Z"
   },
   {
    "duration": 16,
    "start_time": "2023-10-21T10:46:53.473Z"
   },
   {
    "duration": 25,
    "start_time": "2023-10-21T10:46:53.490Z"
   },
   {
    "duration": 20,
    "start_time": "2023-10-21T10:46:53.518Z"
   },
   {
    "duration": 193,
    "start_time": "2023-10-21T10:46:53.540Z"
   },
   {
    "duration": 205,
    "start_time": "2023-10-21T10:46:53.735Z"
   },
   {
    "duration": 212,
    "start_time": "2023-10-21T10:46:53.942Z"
   },
   {
    "duration": 212,
    "start_time": "2023-10-21T10:46:54.156Z"
   },
   {
    "duration": 188,
    "start_time": "2023-10-21T10:46:54.370Z"
   },
   {
    "duration": 12,
    "start_time": "2023-10-21T10:46:54.559Z"
   },
   {
    "duration": 47,
    "start_time": "2023-10-21T10:46:54.573Z"
   },
   {
    "duration": 15,
    "start_time": "2023-10-21T10:46:54.622Z"
   },
   {
    "duration": 217,
    "start_time": "2023-10-21T10:46:54.639Z"
   },
   {
    "duration": 175,
    "start_time": "2023-10-21T10:46:54.858Z"
   },
   {
    "duration": 163,
    "start_time": "2023-10-21T10:46:55.035Z"
   },
   {
    "duration": 206,
    "start_time": "2023-10-21T10:46:55.206Z"
   },
   {
    "duration": 1120,
    "start_time": "2023-10-21T10:46:55.414Z"
   },
   {
    "duration": 4,
    "start_time": "2023-10-21T10:46:56.536Z"
   },
   {
    "duration": 321,
    "start_time": "2023-10-21T10:46:56.542Z"
   },
   {
    "duration": 330,
    "start_time": "2023-10-21T10:46:56.864Z"
   },
   {
    "duration": 9,
    "start_time": "2023-10-21T10:47:59.758Z"
   },
   {
    "duration": 27,
    "start_time": "2023-10-21T10:48:09.077Z"
   },
   {
    "duration": 12,
    "start_time": "2023-10-21T10:48:27.505Z"
   },
   {
    "duration": 13,
    "start_time": "2023-10-21T10:49:32.777Z"
   },
   {
    "duration": 6,
    "start_time": "2023-10-21T10:49:42.236Z"
   },
   {
    "duration": 5,
    "start_time": "2023-10-21T10:50:35.067Z"
   },
   {
    "duration": 2318,
    "start_time": "2023-10-21T10:53:20.828Z"
   },
   {
    "duration": 1261,
    "start_time": "2023-10-21T10:53:23.148Z"
   },
   {
    "duration": 121,
    "start_time": "2023-10-21T10:53:24.411Z"
   },
   {
    "duration": 15,
    "start_time": "2023-10-21T10:53:24.535Z"
   },
   {
    "duration": 15,
    "start_time": "2023-10-21T10:53:24.552Z"
   },
   {
    "duration": 30,
    "start_time": "2023-10-21T10:53:24.569Z"
   },
   {
    "duration": 22,
    "start_time": "2023-10-21T10:53:24.601Z"
   },
   {
    "duration": 17,
    "start_time": "2023-10-21T10:53:24.625Z"
   },
   {
    "duration": 276,
    "start_time": "2023-10-21T10:53:24.645Z"
   },
   {
    "duration": 163,
    "start_time": "2023-10-21T10:53:24.926Z"
   },
   {
    "duration": 213,
    "start_time": "2023-10-21T10:53:25.091Z"
   },
   {
    "duration": 217,
    "start_time": "2023-10-21T10:53:25.306Z"
   },
   {
    "duration": 198,
    "start_time": "2023-10-21T10:53:25.529Z"
   },
   {
    "duration": 10,
    "start_time": "2023-10-21T10:53:25.731Z"
   },
   {
    "duration": 24,
    "start_time": "2023-10-21T10:53:25.743Z"
   },
   {
    "duration": 11,
    "start_time": "2023-10-21T10:53:25.768Z"
   },
   {
    "duration": 230,
    "start_time": "2023-10-21T10:53:25.781Z"
   },
   {
    "duration": 262,
    "start_time": "2023-10-21T10:53:26.014Z"
   },
   {
    "duration": 189,
    "start_time": "2023-10-21T10:53:26.278Z"
   },
   {
    "duration": 213,
    "start_time": "2023-10-21T10:53:26.469Z"
   },
   {
    "duration": 1017,
    "start_time": "2023-10-21T10:53:26.684Z"
   },
   {
    "duration": 14,
    "start_time": "2023-10-21T10:53:27.703Z"
   },
   {
    "duration": 328,
    "start_time": "2023-10-21T10:53:27.719Z"
   },
   {
    "duration": 5,
    "start_time": "2023-10-21T10:53:28.049Z"
   },
   {
    "duration": 231,
    "start_time": "2023-10-21T11:13:44.711Z"
   },
   {
    "duration": 1529,
    "start_time": "2023-10-21T11:14:14.989Z"
   },
   {
    "duration": 15,
    "start_time": "2023-10-21T11:15:21.671Z"
   },
   {
    "duration": 1575,
    "start_time": "2023-10-21T11:15:22.357Z"
   },
   {
    "duration": 2582,
    "start_time": "2023-10-21T11:15:33.650Z"
   },
   {
    "duration": 1405,
    "start_time": "2023-10-21T11:15:36.235Z"
   },
   {
    "duration": 100,
    "start_time": "2023-10-21T11:15:37.642Z"
   },
   {
    "duration": 13,
    "start_time": "2023-10-21T11:15:37.743Z"
   },
   {
    "duration": 29,
    "start_time": "2023-10-21T11:15:37.758Z"
   },
   {
    "duration": 43,
    "start_time": "2023-10-21T11:15:37.790Z"
   },
   {
    "duration": 16,
    "start_time": "2023-10-21T11:15:37.835Z"
   },
   {
    "duration": 34,
    "start_time": "2023-10-21T11:15:37.853Z"
   },
   {
    "duration": 247,
    "start_time": "2023-10-21T11:15:37.889Z"
   },
   {
    "duration": 171,
    "start_time": "2023-10-21T11:15:38.140Z"
   },
   {
    "duration": 206,
    "start_time": "2023-10-21T11:15:38.316Z"
   },
   {
    "duration": 192,
    "start_time": "2023-10-21T11:15:38.528Z"
   },
   {
    "duration": 181,
    "start_time": "2023-10-21T11:15:38.725Z"
   },
   {
    "duration": 12,
    "start_time": "2023-10-21T11:15:38.927Z"
   },
   {
    "duration": 29,
    "start_time": "2023-10-21T11:15:38.941Z"
   },
   {
    "duration": 13,
    "start_time": "2023-10-21T11:15:38.972Z"
   },
   {
    "duration": 190,
    "start_time": "2023-10-21T11:15:38.986Z"
   },
   {
    "duration": 213,
    "start_time": "2023-10-21T11:15:39.178Z"
   },
   {
    "duration": 250,
    "start_time": "2023-10-21T11:15:39.393Z"
   },
   {
    "duration": 291,
    "start_time": "2023-10-21T11:15:39.645Z"
   },
   {
    "duration": 1067,
    "start_time": "2023-10-21T11:15:39.938Z"
   },
   {
    "duration": 10,
    "start_time": "2023-10-21T11:15:41.007Z"
   },
   {
    "duration": 262,
    "start_time": "2023-10-21T11:15:41.019Z"
   },
   {
    "duration": 5,
    "start_time": "2023-10-21T11:15:41.282Z"
   },
   {
    "duration": 43,
    "start_time": "2023-10-21T11:15:41.289Z"
   },
   {
    "duration": 1379,
    "start_time": "2023-10-21T11:15:41.334Z"
   },
   {
    "duration": 7,
    "start_time": "2023-10-21T11:16:03.691Z"
   },
   {
    "duration": 7,
    "start_time": "2023-10-21T11:18:55.586Z"
   },
   {
    "duration": 6,
    "start_time": "2023-10-21T11:21:38.233Z"
   },
   {
    "duration": 12,
    "start_time": "2023-10-21T11:21:38.523Z"
   },
   {
    "duration": 8,
    "start_time": "2023-10-21T11:21:39.398Z"
   },
   {
    "duration": 2663,
    "start_time": "2023-10-21T11:21:45.534Z"
   },
   {
    "duration": 1382,
    "start_time": "2023-10-21T11:21:48.201Z"
   },
   {
    "duration": 104,
    "start_time": "2023-10-21T11:21:49.585Z"
   },
   {
    "duration": 24,
    "start_time": "2023-10-21T11:21:49.691Z"
   },
   {
    "duration": 14,
    "start_time": "2023-10-21T11:21:49.720Z"
   },
   {
    "duration": 28,
    "start_time": "2023-10-21T11:21:49.737Z"
   },
   {
    "duration": 22,
    "start_time": "2023-10-21T11:21:49.767Z"
   },
   {
    "duration": 34,
    "start_time": "2023-10-21T11:21:49.791Z"
   },
   {
    "duration": 282,
    "start_time": "2023-10-21T11:21:49.829Z"
   },
   {
    "duration": 214,
    "start_time": "2023-10-21T11:21:50.117Z"
   },
   {
    "duration": 232,
    "start_time": "2023-10-21T11:21:50.342Z"
   },
   {
    "duration": 270,
    "start_time": "2023-10-21T11:21:50.577Z"
   },
   {
    "duration": 249,
    "start_time": "2023-10-21T11:21:50.850Z"
   },
   {
    "duration": 28,
    "start_time": "2023-10-21T11:21:51.102Z"
   },
   {
    "duration": 51,
    "start_time": "2023-10-21T11:21:51.132Z"
   },
   {
    "duration": 28,
    "start_time": "2023-10-21T11:21:51.186Z"
   },
   {
    "duration": 262,
    "start_time": "2023-10-21T11:21:51.217Z"
   },
   {
    "duration": 241,
    "start_time": "2023-10-21T11:21:51.483Z"
   },
   {
    "duration": 213,
    "start_time": "2023-10-21T11:21:51.726Z"
   },
   {
    "duration": 206,
    "start_time": "2023-10-21T11:21:51.942Z"
   },
   {
    "duration": 1380,
    "start_time": "2023-10-21T11:21:52.150Z"
   },
   {
    "duration": 7,
    "start_time": "2023-10-21T11:21:53.533Z"
   },
   {
    "duration": 410,
    "start_time": "2023-10-21T11:21:53.544Z"
   },
   {
    "duration": 7,
    "start_time": "2023-10-21T11:21:53.956Z"
   },
   {
    "duration": 55,
    "start_time": "2023-10-21T11:21:53.965Z"
   },
   {
    "duration": 33,
    "start_time": "2023-10-21T11:21:54.022Z"
   },
   {
    "duration": 5,
    "start_time": "2023-10-21T11:22:11.666Z"
   },
   {
    "duration": 32,
    "start_time": "2023-10-21T11:22:17.722Z"
   },
   {
    "duration": 7,
    "start_time": "2023-10-21T11:22:21.893Z"
   },
   {
    "duration": 12,
    "start_time": "2023-10-21T11:22:22.119Z"
   },
   {
    "duration": 8,
    "start_time": "2023-10-21T11:22:23.039Z"
   },
   {
    "duration": 9,
    "start_time": "2023-10-21T11:22:49.743Z"
   },
   {
    "duration": 9,
    "start_time": "2023-10-21T11:22:49.971Z"
   },
   {
    "duration": 7,
    "start_time": "2023-10-21T11:22:50.170Z"
   },
   {
    "duration": 2565,
    "start_time": "2023-10-21T11:25:51.334Z"
   },
   {
    "duration": 1369,
    "start_time": "2023-10-21T11:25:53.902Z"
   },
   {
    "duration": 100,
    "start_time": "2023-10-21T11:25:55.276Z"
   },
   {
    "duration": 13,
    "start_time": "2023-10-21T11:25:55.379Z"
   },
   {
    "duration": 25,
    "start_time": "2023-10-21T11:25:55.394Z"
   },
   {
    "duration": 35,
    "start_time": "2023-10-21T11:25:55.421Z"
   },
   {
    "duration": 21,
    "start_time": "2023-10-21T11:25:55.458Z"
   },
   {
    "duration": 13,
    "start_time": "2023-10-21T11:25:55.481Z"
   },
   {
    "duration": 268,
    "start_time": "2023-10-21T11:25:55.496Z"
   },
   {
    "duration": 217,
    "start_time": "2023-10-21T11:25:55.766Z"
   },
   {
    "duration": 252,
    "start_time": "2023-10-21T11:25:55.985Z"
   },
   {
    "duration": 248,
    "start_time": "2023-10-21T11:25:56.243Z"
   },
   {
    "duration": 209,
    "start_time": "2023-10-21T11:25:56.495Z"
   },
   {
    "duration": 14,
    "start_time": "2023-10-21T11:25:56.707Z"
   },
   {
    "duration": 34,
    "start_time": "2023-10-21T11:25:56.723Z"
   },
   {
    "duration": 13,
    "start_time": "2023-10-21T11:25:56.759Z"
   },
   {
    "duration": 244,
    "start_time": "2023-10-21T11:25:56.774Z"
   },
   {
    "duration": 214,
    "start_time": "2023-10-21T11:25:57.028Z"
   },
   {
    "duration": 226,
    "start_time": "2023-10-21T11:25:57.244Z"
   },
   {
    "duration": 270,
    "start_time": "2023-10-21T11:25:57.473Z"
   },
   {
    "duration": 1140,
    "start_time": "2023-10-21T11:25:57.745Z"
   },
   {
    "duration": 4,
    "start_time": "2023-10-21T11:25:58.887Z"
   },
   {
    "duration": 279,
    "start_time": "2023-10-21T11:25:58.893Z"
   },
   {
    "duration": 7,
    "start_time": "2023-10-21T11:25:59.174Z"
   },
   {
    "duration": 51,
    "start_time": "2023-10-21T11:25:59.183Z"
   },
   {
    "duration": 12,
    "start_time": "2023-10-21T11:25:59.236Z"
   },
   {
    "duration": 7,
    "start_time": "2023-10-21T11:29:15.615Z"
   },
   {
    "duration": 8,
    "start_time": "2023-10-21T11:34:36.130Z"
   },
   {
    "duration": 42,
    "start_time": "2023-10-21T11:35:05.851Z"
   },
   {
    "duration": 35,
    "start_time": "2023-10-21T11:35:25.222Z"
   },
   {
    "duration": 51,
    "start_time": "2023-10-21T11:35:28.814Z"
   },
   {
    "duration": 7,
    "start_time": "2023-10-21T11:36:17.939Z"
   },
   {
    "duration": 15,
    "start_time": "2023-10-21T11:36:23.409Z"
   },
   {
    "duration": 13,
    "start_time": "2023-10-21T11:37:49.798Z"
   },
   {
    "duration": 6,
    "start_time": "2023-10-21T11:37:50.210Z"
   },
   {
    "duration": 2527,
    "start_time": "2023-10-21T11:57:30.345Z"
   },
   {
    "duration": 1257,
    "start_time": "2023-10-21T11:57:32.875Z"
   },
   {
    "duration": 88,
    "start_time": "2023-10-21T11:57:34.135Z"
   },
   {
    "duration": 11,
    "start_time": "2023-10-21T11:57:34.225Z"
   },
   {
    "duration": 75,
    "start_time": "2023-10-21T11:57:34.238Z"
   },
   {
    "duration": 36,
    "start_time": "2023-10-21T11:57:34.315Z"
   },
   {
    "duration": 26,
    "start_time": "2023-10-21T11:57:34.353Z"
   },
   {
    "duration": 28,
    "start_time": "2023-10-21T11:57:34.382Z"
   },
   {
    "duration": 276,
    "start_time": "2023-10-21T11:57:34.413Z"
   },
   {
    "duration": 181,
    "start_time": "2023-10-21T11:57:34.692Z"
   },
   {
    "duration": 175,
    "start_time": "2023-10-21T11:57:34.875Z"
   },
   {
    "duration": 187,
    "start_time": "2023-10-21T11:57:35.052Z"
   },
   {
    "duration": 189,
    "start_time": "2023-10-21T11:57:35.241Z"
   },
   {
    "duration": 14,
    "start_time": "2023-10-21T11:57:35.432Z"
   },
   {
    "duration": 33,
    "start_time": "2023-10-21T11:57:35.448Z"
   },
   {
    "duration": 29,
    "start_time": "2023-10-21T11:57:35.483Z"
   },
   {
    "duration": 204,
    "start_time": "2023-10-21T11:57:35.514Z"
   },
   {
    "duration": 194,
    "start_time": "2023-10-21T11:57:35.720Z"
   },
   {
    "duration": 238,
    "start_time": "2023-10-21T11:57:35.916Z"
   },
   {
    "duration": 274,
    "start_time": "2023-10-21T11:57:36.156Z"
   },
   {
    "duration": 1045,
    "start_time": "2023-10-21T11:57:36.432Z"
   },
   {
    "duration": 4,
    "start_time": "2023-10-21T11:57:37.478Z"
   },
   {
    "duration": 261,
    "start_time": "2023-10-21T11:57:37.484Z"
   },
   {
    "duration": 7,
    "start_time": "2023-10-21T11:57:37.747Z"
   },
   {
    "duration": 40,
    "start_time": "2023-10-21T11:57:37.755Z"
   },
   {
    "duration": 15,
    "start_time": "2023-10-21T11:57:37.797Z"
   },
   {
    "duration": 7,
    "start_time": "2023-10-21T11:59:37.530Z"
   },
   {
    "duration": 8,
    "start_time": "2023-10-21T11:59:37.864Z"
   },
   {
    "duration": 9,
    "start_time": "2023-10-21T11:59:38.094Z"
   },
   {
    "duration": 2211,
    "start_time": "2023-10-21T12:04:02.895Z"
   },
   {
    "duration": 1297,
    "start_time": "2023-10-21T12:04:05.109Z"
   },
   {
    "duration": 90,
    "start_time": "2023-10-21T12:04:06.407Z"
   },
   {
    "duration": 12,
    "start_time": "2023-10-21T12:04:06.499Z"
   },
   {
    "duration": 31,
    "start_time": "2023-10-21T12:04:06.512Z"
   },
   {
    "duration": 33,
    "start_time": "2023-10-21T12:04:06.546Z"
   },
   {
    "duration": 15,
    "start_time": "2023-10-21T12:04:06.581Z"
   },
   {
    "duration": 23,
    "start_time": "2023-10-21T12:04:06.597Z"
   },
   {
    "duration": 195,
    "start_time": "2023-10-21T12:04:06.622Z"
   },
   {
    "duration": 157,
    "start_time": "2023-10-21T12:04:06.820Z"
   },
   {
    "duration": 183,
    "start_time": "2023-10-21T12:04:06.979Z"
   },
   {
    "duration": 198,
    "start_time": "2023-10-21T12:04:07.164Z"
   },
   {
    "duration": 186,
    "start_time": "2023-10-21T12:04:07.364Z"
   },
   {
    "duration": 10,
    "start_time": "2023-10-21T12:04:07.552Z"
   },
   {
    "duration": 67,
    "start_time": "2023-10-21T12:04:07.564Z"
   },
   {
    "duration": 15,
    "start_time": "2023-10-21T12:04:07.633Z"
   },
   {
    "duration": 188,
    "start_time": "2023-10-21T12:04:07.649Z"
   },
   {
    "duration": 191,
    "start_time": "2023-10-21T12:04:07.839Z"
   },
   {
    "duration": 165,
    "start_time": "2023-10-21T12:04:08.031Z"
   },
   {
    "duration": 179,
    "start_time": "2023-10-21T12:04:08.197Z"
   },
   {
    "duration": 933,
    "start_time": "2023-10-21T12:04:08.378Z"
   },
   {
    "duration": 3,
    "start_time": "2023-10-21T12:04:09.313Z"
   },
   {
    "duration": 251,
    "start_time": "2023-10-21T12:04:09.318Z"
   },
   {
    "duration": 6,
    "start_time": "2023-10-21T12:04:09.571Z"
   },
   {
    "duration": 10,
    "start_time": "2023-10-21T12:04:09.578Z"
   },
   {
    "duration": 22,
    "start_time": "2023-10-21T12:04:09.589Z"
   },
   {
    "duration": 8,
    "start_time": "2023-10-21T12:04:09.613Z"
   },
   {
    "duration": 7,
    "start_time": "2023-10-21T14:39:38.282Z"
   },
   {
    "duration": 107,
    "start_time": "2023-10-21T14:39:42.237Z"
   },
   {
    "duration": 5,
    "start_time": "2023-10-21T14:39:46.667Z"
   },
   {
    "duration": 7,
    "start_time": "2023-10-21T14:40:11.543Z"
   },
   {
    "duration": 161,
    "start_time": "2023-10-21T14:46:22.446Z"
   },
   {
    "duration": 4,
    "start_time": "2023-10-21T14:46:56.796Z"
   },
   {
    "duration": 6,
    "start_time": "2023-10-21T14:47:02.667Z"
   },
   {
    "duration": 4,
    "start_time": "2023-10-21T14:47:02.966Z"
   },
   {
    "duration": 6,
    "start_time": "2023-10-21T14:47:09.772Z"
   },
   {
    "duration": 41,
    "start_time": "2023-10-21T14:47:10.765Z"
   },
   {
    "duration": 15,
    "start_time": "2023-10-21T14:49:43.767Z"
   },
   {
    "duration": 5,
    "start_time": "2023-10-21T14:49:47.052Z"
   },
   {
    "duration": 13,
    "start_time": "2023-10-21T14:49:47.282Z"
   },
   {
    "duration": 1891,
    "start_time": "2023-10-21T14:49:53.493Z"
   },
   {
    "duration": 2033,
    "start_time": "2023-10-21T14:50:04.765Z"
   },
   {
    "duration": 2419,
    "start_time": "2023-10-21T14:50:34.506Z"
   },
   {
    "duration": 15,
    "start_time": "2023-10-21T14:52:46.606Z"
   },
   {
    "duration": 3453,
    "start_time": "2023-10-21T14:53:15.132Z"
   },
   {
    "duration": 1521,
    "start_time": "2023-10-21T14:53:18.588Z"
   },
   {
    "duration": 116,
    "start_time": "2023-10-21T14:53:20.111Z"
   },
   {
    "duration": 19,
    "start_time": "2023-10-21T14:53:20.230Z"
   },
   {
    "duration": 35,
    "start_time": "2023-10-21T14:53:20.252Z"
   },
   {
    "duration": 33,
    "start_time": "2023-10-21T14:53:20.289Z"
   },
   {
    "duration": 26,
    "start_time": "2023-10-21T14:53:20.324Z"
   },
   {
    "duration": 14,
    "start_time": "2023-10-21T14:53:20.352Z"
   },
   {
    "duration": 288,
    "start_time": "2023-10-21T14:53:20.368Z"
   },
   {
    "duration": 223,
    "start_time": "2023-10-21T14:53:20.659Z"
   },
   {
    "duration": 262,
    "start_time": "2023-10-21T14:53:20.885Z"
   },
   {
    "duration": 279,
    "start_time": "2023-10-21T14:53:21.150Z"
   },
   {
    "duration": 261,
    "start_time": "2023-10-21T14:53:21.434Z"
   },
   {
    "duration": 21,
    "start_time": "2023-10-21T14:53:21.697Z"
   },
   {
    "duration": 43,
    "start_time": "2023-10-21T14:53:21.720Z"
   },
   {
    "duration": 18,
    "start_time": "2023-10-21T14:53:21.765Z"
   },
   {
    "duration": 321,
    "start_time": "2023-10-21T14:53:21.786Z"
   },
   {
    "duration": 272,
    "start_time": "2023-10-21T14:53:22.111Z"
   },
   {
    "duration": 282,
    "start_time": "2023-10-21T14:53:22.386Z"
   },
   {
    "duration": 277,
    "start_time": "2023-10-21T14:53:22.670Z"
   },
   {
    "duration": 1185,
    "start_time": "2023-10-21T14:53:22.949Z"
   },
   {
    "duration": 5,
    "start_time": "2023-10-21T14:53:24.137Z"
   },
   {
    "duration": 294,
    "start_time": "2023-10-21T14:53:24.143Z"
   },
   {
    "duration": 9,
    "start_time": "2023-10-21T14:53:24.438Z"
   },
   {
    "duration": 14,
    "start_time": "2023-10-21T14:53:24.449Z"
   },
   {
    "duration": 17,
    "start_time": "2023-10-21T14:53:24.465Z"
   },
   {
    "duration": 7,
    "start_time": "2023-10-21T14:53:24.484Z"
   },
   {
    "duration": 13,
    "start_time": "2023-10-21T14:53:24.506Z"
   },
   {
    "duration": 31,
    "start_time": "2023-10-21T14:53:24.521Z"
   },
   {
    "duration": 166,
    "start_time": "2023-10-21T14:53:24.554Z"
   },
   {
    "duration": 0,
    "start_time": "2023-10-21T14:53:24.723Z"
   },
   {
    "duration": 69,
    "start_time": "2023-10-21T14:53:44.299Z"
   },
   {
    "duration": 1858,
    "start_time": "2023-10-21T14:54:05.540Z"
   },
   {
    "duration": 3543,
    "start_time": "2023-10-22T08:47:24.711Z"
   },
   {
    "duration": 1493,
    "start_time": "2023-10-22T08:47:28.259Z"
   },
   {
    "duration": 250,
    "start_time": "2023-10-22T08:47:29.754Z"
   },
   {
    "duration": 12,
    "start_time": "2023-10-22T08:47:30.006Z"
   },
   {
    "duration": 61,
    "start_time": "2023-10-22T08:47:30.019Z"
   },
   {
    "duration": 38,
    "start_time": "2023-10-22T08:47:30.082Z"
   },
   {
    "duration": 75,
    "start_time": "2023-10-22T08:47:30.122Z"
   },
   {
    "duration": 78,
    "start_time": "2023-10-22T08:47:30.199Z"
   },
   {
    "duration": 265,
    "start_time": "2023-10-22T08:47:30.279Z"
   },
   {
    "duration": 164,
    "start_time": "2023-10-22T08:47:30.547Z"
   },
   {
    "duration": 207,
    "start_time": "2023-10-22T08:47:30.712Z"
   },
   {
    "duration": 212,
    "start_time": "2023-10-22T08:47:30.928Z"
   },
   {
    "duration": 200,
    "start_time": "2023-10-22T08:47:31.142Z"
   },
   {
    "duration": 10,
    "start_time": "2023-10-22T08:47:31.344Z"
   },
   {
    "duration": 65,
    "start_time": "2023-10-22T08:47:31.356Z"
   },
   {
    "duration": 24,
    "start_time": "2023-10-22T08:47:31.423Z"
   },
   {
    "duration": 224,
    "start_time": "2023-10-22T08:47:31.449Z"
   },
   {
    "duration": 200,
    "start_time": "2023-10-22T08:47:31.675Z"
   },
   {
    "duration": 198,
    "start_time": "2023-10-22T08:47:31.877Z"
   },
   {
    "duration": 206,
    "start_time": "2023-10-22T08:47:32.076Z"
   },
   {
    "duration": 1009,
    "start_time": "2023-10-22T08:47:32.284Z"
   },
   {
    "duration": 4,
    "start_time": "2023-10-22T08:47:33.296Z"
   },
   {
    "duration": 281,
    "start_time": "2023-10-22T08:47:33.302Z"
   },
   {
    "duration": 6,
    "start_time": "2023-10-22T08:47:33.585Z"
   },
   {
    "duration": 5,
    "start_time": "2023-10-22T08:47:33.593Z"
   },
   {
    "duration": 39,
    "start_time": "2023-10-22T08:47:33.600Z"
   },
   {
    "duration": 6,
    "start_time": "2023-10-22T08:47:33.641Z"
   },
   {
    "duration": 13,
    "start_time": "2023-10-22T08:47:33.650Z"
   },
   {
    "duration": 37,
    "start_time": "2023-10-22T08:47:33.665Z"
   },
   {
    "duration": 1659,
    "start_time": "2023-10-22T08:47:33.704Z"
   },
   {
    "duration": 81,
    "start_time": "2023-10-22T08:47:35.364Z"
   },
   {
    "duration": 216,
    "start_time": "2023-10-22T08:47:59.233Z"
   },
   {
    "duration": 55,
    "start_time": "2023-10-22T08:48:13.498Z"
   },
   {
    "duration": 12,
    "start_time": "2023-10-22T08:56:12.191Z"
   },
   {
    "duration": 2394,
    "start_time": "2023-10-22T08:56:34.690Z"
   },
   {
    "duration": 1142,
    "start_time": "2023-10-22T08:56:37.087Z"
   },
   {
    "duration": 90,
    "start_time": "2023-10-22T08:56:38.231Z"
   },
   {
    "duration": 11,
    "start_time": "2023-10-22T08:56:38.323Z"
   },
   {
    "duration": 166,
    "start_time": "2023-10-22T08:56:38.336Z"
   },
   {
    "duration": 365,
    "start_time": "2023-10-22T08:56:38.504Z"
   },
   {
    "duration": 93,
    "start_time": "2023-10-22T08:56:38.871Z"
   },
   {
    "duration": 207,
    "start_time": "2023-10-22T08:56:38.967Z"
   },
   {
    "duration": 201,
    "start_time": "2023-10-22T08:56:39.176Z"
   },
   {
    "duration": 173,
    "start_time": "2023-10-22T08:56:39.381Z"
   },
   {
    "duration": 182,
    "start_time": "2023-10-22T08:56:39.556Z"
   },
   {
    "duration": 171,
    "start_time": "2023-10-22T08:56:39.740Z"
   },
   {
    "duration": 166,
    "start_time": "2023-10-22T08:56:39.913Z"
   },
   {
    "duration": 9,
    "start_time": "2023-10-22T08:56:40.081Z"
   },
   {
    "duration": 48,
    "start_time": "2023-10-22T08:56:40.092Z"
   },
   {
    "duration": 10,
    "start_time": "2023-10-22T08:56:40.141Z"
   },
   {
    "duration": 187,
    "start_time": "2023-10-22T08:56:40.152Z"
   },
   {
    "duration": 205,
    "start_time": "2023-10-22T08:56:40.341Z"
   },
   {
    "duration": 160,
    "start_time": "2023-10-22T08:56:40.548Z"
   },
   {
    "duration": 184,
    "start_time": "2023-10-22T08:56:40.710Z"
   },
   {
    "duration": 949,
    "start_time": "2023-10-22T08:56:40.896Z"
   },
   {
    "duration": 3,
    "start_time": "2023-10-22T08:56:41.847Z"
   },
   {
    "duration": 322,
    "start_time": "2023-10-22T08:56:41.852Z"
   },
   {
    "duration": 6,
    "start_time": "2023-10-22T08:56:42.175Z"
   },
   {
    "duration": 13,
    "start_time": "2023-10-22T08:56:42.182Z"
   },
   {
    "duration": 15,
    "start_time": "2023-10-22T08:56:42.196Z"
   },
   {
    "duration": 14,
    "start_time": "2023-10-22T08:56:42.213Z"
   },
   {
    "duration": 8,
    "start_time": "2023-10-22T08:56:42.230Z"
   },
   {
    "duration": 45,
    "start_time": "2023-10-22T08:56:42.240Z"
   },
   {
    "duration": 7,
    "start_time": "2023-10-22T08:56:42.286Z"
   },
   {
    "duration": 2175,
    "start_time": "2023-10-22T08:59:26.114Z"
   },
   {
    "duration": 1175,
    "start_time": "2023-10-22T08:59:28.292Z"
   },
   {
    "duration": 86,
    "start_time": "2023-10-22T08:59:29.468Z"
   },
   {
    "duration": 11,
    "start_time": "2023-10-22T08:59:29.556Z"
   },
   {
    "duration": 17,
    "start_time": "2023-10-22T08:59:29.569Z"
   },
   {
    "duration": 22,
    "start_time": "2023-10-22T08:59:29.588Z"
   },
   {
    "duration": 17,
    "start_time": "2023-10-22T08:59:29.612Z"
   },
   {
    "duration": 18,
    "start_time": "2023-10-22T08:59:29.630Z"
   },
   {
    "duration": 184,
    "start_time": "2023-10-22T08:59:29.650Z"
   },
   {
    "duration": 156,
    "start_time": "2023-10-22T08:59:29.836Z"
   },
   {
    "duration": 177,
    "start_time": "2023-10-22T08:59:29.994Z"
   },
   {
    "duration": 196,
    "start_time": "2023-10-22T08:59:30.173Z"
   },
   {
    "duration": 177,
    "start_time": "2023-10-22T08:59:30.371Z"
   },
   {
    "duration": 10,
    "start_time": "2023-10-22T08:59:30.549Z"
   },
   {
    "duration": 96,
    "start_time": "2023-10-22T08:59:30.561Z"
   },
   {
    "duration": 48,
    "start_time": "2023-10-22T08:59:30.659Z"
   },
   {
    "duration": 298,
    "start_time": "2023-10-22T08:59:30.709Z"
   },
   {
    "duration": 227,
    "start_time": "2023-10-22T08:59:31.009Z"
   },
   {
    "duration": 193,
    "start_time": "2023-10-22T08:59:31.238Z"
   },
   {
    "duration": 220,
    "start_time": "2023-10-22T08:59:31.433Z"
   },
   {
    "duration": 968,
    "start_time": "2023-10-22T08:59:31.656Z"
   },
   {
    "duration": 4,
    "start_time": "2023-10-22T08:59:32.625Z"
   },
   {
    "duration": 243,
    "start_time": "2023-10-22T08:59:32.631Z"
   },
   {
    "duration": 6,
    "start_time": "2023-10-22T08:59:32.876Z"
   },
   {
    "duration": 17,
    "start_time": "2023-10-22T08:59:32.885Z"
   },
   {
    "duration": 23,
    "start_time": "2023-10-22T08:59:32.905Z"
   },
   {
    "duration": 6,
    "start_time": "2023-10-22T08:59:32.930Z"
   },
   {
    "duration": 24,
    "start_time": "2023-10-22T08:59:32.939Z"
   },
   {
    "duration": 66,
    "start_time": "2023-10-22T08:59:32.965Z"
   },
   {
    "duration": 6,
    "start_time": "2023-10-22T08:59:33.033Z"
   },
   {
    "duration": 2332,
    "start_time": "2023-10-22T09:30:56.321Z"
   },
   {
    "duration": 1231,
    "start_time": "2023-10-22T09:30:58.656Z"
   },
   {
    "duration": 95,
    "start_time": "2023-10-22T09:30:59.889Z"
   },
   {
    "duration": 11,
    "start_time": "2023-10-22T09:30:59.986Z"
   },
   {
    "duration": 42,
    "start_time": "2023-10-22T09:30:59.998Z"
   },
   {
    "duration": 44,
    "start_time": "2023-10-22T09:31:00.042Z"
   },
   {
    "duration": 29,
    "start_time": "2023-10-22T09:31:00.089Z"
   },
   {
    "duration": 27,
    "start_time": "2023-10-22T09:31:00.119Z"
   },
   {
    "duration": 320,
    "start_time": "2023-10-22T09:31:00.148Z"
   },
   {
    "duration": 502,
    "start_time": "2023-10-22T09:31:00.524Z"
   },
   {
    "duration": 399,
    "start_time": "2023-10-22T09:31:01.033Z"
   },
   {
    "duration": 415,
    "start_time": "2023-10-22T09:31:01.438Z"
   },
   {
    "duration": 396,
    "start_time": "2023-10-22T09:31:01.855Z"
   },
   {
    "duration": 10,
    "start_time": "2023-10-22T09:31:02.252Z"
   },
   {
    "duration": 86,
    "start_time": "2023-10-22T09:31:02.264Z"
   },
   {
    "duration": 17,
    "start_time": "2023-10-22T09:31:02.352Z"
   },
   {
    "duration": 360,
    "start_time": "2023-10-22T09:31:02.371Z"
   },
   {
    "duration": 170,
    "start_time": "2023-10-22T09:31:02.734Z"
   },
   {
    "duration": 182,
    "start_time": "2023-10-22T09:31:02.906Z"
   },
   {
    "duration": 227,
    "start_time": "2023-10-22T09:31:03.090Z"
   },
   {
    "duration": 898,
    "start_time": "2023-10-22T09:31:03.319Z"
   },
   {
    "duration": 17,
    "start_time": "2023-10-22T09:31:04.219Z"
   },
   {
    "duration": 228,
    "start_time": "2023-10-22T09:31:04.238Z"
   },
   {
    "duration": 5,
    "start_time": "2023-10-22T09:31:04.468Z"
   },
   {
    "duration": 30,
    "start_time": "2023-10-22T09:31:04.475Z"
   },
   {
    "duration": 40,
    "start_time": "2023-10-22T09:31:04.506Z"
   },
   {
    "duration": 13,
    "start_time": "2023-10-22T09:31:04.548Z"
   },
   {
    "duration": 12,
    "start_time": "2023-10-22T09:31:04.564Z"
   },
   {
    "duration": 35,
    "start_time": "2023-10-22T09:31:04.577Z"
   },
   {
    "duration": 6,
    "start_time": "2023-10-22T09:31:04.613Z"
   },
   {
    "duration": 128,
    "start_time": "2023-10-22T09:32:25.470Z"
   },
   {
    "duration": 98,
    "start_time": "2023-10-22T09:32:41.377Z"
   },
   {
    "duration": 116,
    "start_time": "2023-10-22T09:32:49.868Z"
   },
   {
    "duration": 122,
    "start_time": "2023-10-22T09:32:58.369Z"
   },
   {
    "duration": 161,
    "start_time": "2023-10-22T09:33:10.079Z"
   },
   {
    "duration": 189,
    "start_time": "2023-10-22T09:33:46.281Z"
   },
   {
    "duration": 91,
    "start_time": "2023-10-22T09:33:55.800Z"
   },
   {
    "duration": 162,
    "start_time": "2023-10-22T09:34:02.312Z"
   },
   {
    "duration": 155,
    "start_time": "2023-10-22T09:34:17.356Z"
   },
   {
    "duration": 85,
    "start_time": "2023-10-22T09:34:28.237Z"
   },
   {
    "duration": 2410,
    "start_time": "2023-10-22T09:34:37.898Z"
   },
   {
    "duration": 1264,
    "start_time": "2023-10-22T09:34:40.310Z"
   },
   {
    "duration": 92,
    "start_time": "2023-10-22T09:34:41.576Z"
   },
   {
    "duration": 11,
    "start_time": "2023-10-22T09:34:41.669Z"
   },
   {
    "duration": 13,
    "start_time": "2023-10-22T09:34:41.682Z"
   },
   {
    "duration": 95,
    "start_time": "2023-10-22T09:34:41.696Z"
   },
   {
    "duration": 0,
    "start_time": "2023-10-22T09:34:41.793Z"
   },
   {
    "duration": 0,
    "start_time": "2023-10-22T09:34:41.795Z"
   },
   {
    "duration": 1,
    "start_time": "2023-10-22T09:34:41.796Z"
   },
   {
    "duration": 0,
    "start_time": "2023-10-22T09:34:41.798Z"
   },
   {
    "duration": 0,
    "start_time": "2023-10-22T09:34:41.799Z"
   },
   {
    "duration": 0,
    "start_time": "2023-10-22T09:34:41.800Z"
   },
   {
    "duration": 0,
    "start_time": "2023-10-22T09:34:41.802Z"
   },
   {
    "duration": 0,
    "start_time": "2023-10-22T09:34:41.803Z"
   },
   {
    "duration": 0,
    "start_time": "2023-10-22T09:34:41.804Z"
   },
   {
    "duration": 0,
    "start_time": "2023-10-22T09:34:41.805Z"
   },
   {
    "duration": 0,
    "start_time": "2023-10-22T09:34:41.806Z"
   },
   {
    "duration": 0,
    "start_time": "2023-10-22T09:34:41.807Z"
   },
   {
    "duration": 0,
    "start_time": "2023-10-22T09:34:41.808Z"
   },
   {
    "duration": 0,
    "start_time": "2023-10-22T09:34:41.809Z"
   },
   {
    "duration": 0,
    "start_time": "2023-10-22T09:34:41.810Z"
   },
   {
    "duration": 0,
    "start_time": "2023-10-22T09:34:41.811Z"
   },
   {
    "duration": 0,
    "start_time": "2023-10-22T09:34:41.812Z"
   },
   {
    "duration": 0,
    "start_time": "2023-10-22T09:34:41.813Z"
   },
   {
    "duration": 0,
    "start_time": "2023-10-22T09:34:41.815Z"
   },
   {
    "duration": 0,
    "start_time": "2023-10-22T09:34:41.816Z"
   },
   {
    "duration": 0,
    "start_time": "2023-10-22T09:34:41.817Z"
   },
   {
    "duration": 0,
    "start_time": "2023-10-22T09:34:41.818Z"
   },
   {
    "duration": 0,
    "start_time": "2023-10-22T09:34:41.819Z"
   },
   {
    "duration": 0,
    "start_time": "2023-10-22T09:34:41.820Z"
   },
   {
    "duration": 151,
    "start_time": "2023-10-22T09:35:09.724Z"
   },
   {
    "duration": 2403,
    "start_time": "2023-10-22T09:45:19.352Z"
   },
   {
    "duration": 1275,
    "start_time": "2023-10-22T09:45:21.757Z"
   },
   {
    "duration": 109,
    "start_time": "2023-10-22T09:45:23.034Z"
   },
   {
    "duration": 13,
    "start_time": "2023-10-22T09:45:23.145Z"
   },
   {
    "duration": 77,
    "start_time": "2023-10-22T09:45:23.159Z"
   },
   {
    "duration": 48,
    "start_time": "2023-10-22T09:45:23.239Z"
   },
   {
    "duration": 54,
    "start_time": "2023-10-22T09:45:23.289Z"
   },
   {
    "duration": 241,
    "start_time": "2023-10-22T09:45:23.344Z"
   },
   {
    "duration": 160,
    "start_time": "2023-10-22T09:45:23.588Z"
   },
   {
    "duration": 190,
    "start_time": "2023-10-22T09:45:23.750Z"
   },
   {
    "duration": 181,
    "start_time": "2023-10-22T09:45:23.942Z"
   },
   {
    "duration": 189,
    "start_time": "2023-10-22T09:45:24.127Z"
   },
   {
    "duration": 23,
    "start_time": "2023-10-22T09:45:24.318Z"
   },
   {
    "duration": 39,
    "start_time": "2023-10-22T09:45:24.343Z"
   },
   {
    "duration": 32,
    "start_time": "2023-10-22T09:45:24.385Z"
   },
   {
    "duration": 197,
    "start_time": "2023-10-22T09:45:24.418Z"
   },
   {
    "duration": 181,
    "start_time": "2023-10-22T09:45:24.623Z"
   },
   {
    "duration": 185,
    "start_time": "2023-10-22T09:45:24.806Z"
   },
   {
    "duration": 189,
    "start_time": "2023-10-22T09:45:24.993Z"
   },
   {
    "duration": 1036,
    "start_time": "2023-10-22T09:45:25.184Z"
   },
   {
    "duration": 6,
    "start_time": "2023-10-22T09:45:26.226Z"
   },
   {
    "duration": 308,
    "start_time": "2023-10-22T09:45:26.235Z"
   },
   {
    "duration": 7,
    "start_time": "2023-10-22T09:45:26.547Z"
   },
   {
    "duration": 18,
    "start_time": "2023-10-22T09:45:26.555Z"
   },
   {
    "duration": 13,
    "start_time": "2023-10-22T09:45:26.576Z"
   },
   {
    "duration": 17,
    "start_time": "2023-10-22T09:45:26.590Z"
   },
   {
    "duration": 5,
    "start_time": "2023-10-22T09:45:26.609Z"
   },
   {
    "duration": 43,
    "start_time": "2023-10-22T09:45:26.623Z"
   },
   {
    "duration": 5,
    "start_time": "2023-10-22T09:45:26.668Z"
   },
   {
    "duration": 181,
    "start_time": "2023-10-22T09:48:49.473Z"
   },
   {
    "duration": 190,
    "start_time": "2023-10-22T09:49:01.687Z"
   },
   {
    "duration": 182,
    "start_time": "2023-10-22T09:54:21.295Z"
   },
   {
    "duration": 95,
    "start_time": "2023-10-22T09:56:04.712Z"
   },
   {
    "duration": 179,
    "start_time": "2023-10-22T09:58:25.102Z"
   },
   {
    "duration": 140,
    "start_time": "2023-10-22T09:58:33.839Z"
   },
   {
    "duration": 87,
    "start_time": "2023-10-22T09:59:19.803Z"
   },
   {
    "duration": 177,
    "start_time": "2023-10-22T10:03:50.910Z"
   },
   {
    "duration": 173,
    "start_time": "2023-10-22T10:04:26.608Z"
   },
   {
    "duration": 16,
    "start_time": "2023-10-22T10:06:52.003Z"
   },
   {
    "duration": 12,
    "start_time": "2023-10-22T10:07:17.462Z"
   },
   {
    "duration": 2300,
    "start_time": "2023-10-22T10:13:07.750Z"
   },
   {
    "duration": 1275,
    "start_time": "2023-10-22T10:13:10.053Z"
   },
   {
    "duration": 90,
    "start_time": "2023-10-22T10:13:11.329Z"
   },
   {
    "duration": 19,
    "start_time": "2023-10-22T10:13:11.420Z"
   },
   {
    "duration": 15,
    "start_time": "2023-10-22T10:13:11.441Z"
   },
   {
    "duration": 30,
    "start_time": "2023-10-22T10:13:11.458Z"
   },
   {
    "duration": 13,
    "start_time": "2023-10-22T10:13:11.490Z"
   },
   {
    "duration": 211,
    "start_time": "2023-10-22T10:13:11.505Z"
   },
   {
    "duration": 162,
    "start_time": "2023-10-22T10:13:11.718Z"
   },
   {
    "duration": 192,
    "start_time": "2023-10-22T10:13:11.882Z"
   },
   {
    "duration": 196,
    "start_time": "2023-10-22T10:13:12.076Z"
   },
   {
    "duration": 178,
    "start_time": "2023-10-22T10:13:12.274Z"
   },
   {
    "duration": 12,
    "start_time": "2023-10-22T10:13:12.454Z"
   },
   {
    "duration": 181,
    "start_time": "2023-10-22T10:13:12.468Z"
   },
   {
    "duration": 9,
    "start_time": "2023-10-22T10:13:12.650Z"
   },
   {
    "duration": 23,
    "start_time": "2023-10-22T10:13:12.661Z"
   },
   {
    "duration": 9,
    "start_time": "2023-10-22T10:13:12.686Z"
   },
   {
    "duration": 206,
    "start_time": "2023-10-22T10:13:12.697Z"
   },
   {
    "duration": 190,
    "start_time": "2023-10-22T10:13:12.905Z"
   },
   {
    "duration": 202,
    "start_time": "2023-10-22T10:13:13.097Z"
   },
   {
    "duration": 297,
    "start_time": "2023-10-22T10:13:13.301Z"
   },
   {
    "duration": 877,
    "start_time": "2023-10-22T10:13:13.600Z"
   },
   {
    "duration": 3,
    "start_time": "2023-10-22T10:13:14.478Z"
   },
   {
    "duration": 243,
    "start_time": "2023-10-22T10:13:14.483Z"
   },
   {
    "duration": 10,
    "start_time": "2023-10-22T10:13:14.732Z"
   },
   {
    "duration": 5,
    "start_time": "2023-10-22T10:13:14.744Z"
   },
   {
    "duration": 10,
    "start_time": "2023-10-22T10:13:14.750Z"
   },
   {
    "duration": 6,
    "start_time": "2023-10-22T10:13:14.761Z"
   },
   {
    "duration": 12,
    "start_time": "2023-10-22T10:13:14.769Z"
   },
   {
    "duration": 46,
    "start_time": "2023-10-22T10:13:14.783Z"
   },
   {
    "duration": 7,
    "start_time": "2023-10-22T10:13:14.831Z"
   },
   {
    "duration": 187,
    "start_time": "2023-10-22T10:14:08.757Z"
   },
   {
    "duration": 173,
    "start_time": "2023-10-22T10:14:31.233Z"
   },
   {
    "duration": 10,
    "start_time": "2023-10-22T10:16:37.185Z"
   },
   {
    "duration": 213,
    "start_time": "2023-10-22T10:26:05.948Z"
   },
   {
    "duration": 179,
    "start_time": "2023-10-22T10:26:29.213Z"
   },
   {
    "duration": 167,
    "start_time": "2023-10-22T10:26:40.100Z"
   },
   {
    "duration": 235,
    "start_time": "2023-10-22T10:26:46.241Z"
   },
   {
    "duration": 11,
    "start_time": "2023-10-22T10:27:27.629Z"
   },
   {
    "duration": 78,
    "start_time": "2023-10-22T10:32:38.990Z"
   },
   {
    "duration": 2341,
    "start_time": "2023-10-22T10:34:31.764Z"
   },
   {
    "duration": 1218,
    "start_time": "2023-10-22T10:34:34.107Z"
   },
   {
    "duration": 105,
    "start_time": "2023-10-22T10:34:35.333Z"
   },
   {
    "duration": 11,
    "start_time": "2023-10-22T10:34:35.442Z"
   },
   {
    "duration": 38,
    "start_time": "2023-10-22T10:34:35.455Z"
   },
   {
    "duration": 27,
    "start_time": "2023-10-22T10:34:35.495Z"
   },
   {
    "duration": 21,
    "start_time": "2023-10-22T10:34:35.527Z"
   },
   {
    "duration": 265,
    "start_time": "2023-10-22T10:34:35.551Z"
   },
   {
    "duration": 248,
    "start_time": "2023-10-22T10:34:35.819Z"
   },
   {
    "duration": 209,
    "start_time": "2023-10-22T10:34:36.069Z"
   },
   {
    "duration": 186,
    "start_time": "2023-10-22T10:34:36.280Z"
   },
   {
    "duration": 175,
    "start_time": "2023-10-22T10:34:36.468Z"
   },
   {
    "duration": 13,
    "start_time": "2023-10-22T10:34:36.646Z"
   },
   {
    "duration": 206,
    "start_time": "2023-10-22T10:34:36.662Z"
   },
   {
    "duration": 184,
    "start_time": "2023-10-22T10:34:36.870Z"
   },
   {
    "duration": 12,
    "start_time": "2023-10-22T10:34:37.056Z"
   },
   {
    "duration": 54,
    "start_time": "2023-10-22T10:34:37.069Z"
   },
   {
    "duration": 56,
    "start_time": "2023-10-22T10:34:37.127Z"
   },
   {
    "duration": 19,
    "start_time": "2023-10-22T10:34:37.185Z"
   },
   {
    "duration": 203,
    "start_time": "2023-10-22T10:34:37.206Z"
   },
   {
    "duration": 195,
    "start_time": "2023-10-22T10:34:37.411Z"
   },
   {
    "duration": 278,
    "start_time": "2023-10-22T10:34:37.608Z"
   },
   {
    "duration": 207,
    "start_time": "2023-10-22T10:34:37.888Z"
   },
   {
    "duration": 888,
    "start_time": "2023-10-22T10:34:38.097Z"
   },
   {
    "duration": 3,
    "start_time": "2023-10-22T10:34:38.987Z"
   },
   {
    "duration": 297,
    "start_time": "2023-10-22T10:34:38.992Z"
   },
   {
    "duration": 6,
    "start_time": "2023-10-22T10:34:39.291Z"
   },
   {
    "duration": 29,
    "start_time": "2023-10-22T10:34:39.298Z"
   },
   {
    "duration": 29,
    "start_time": "2023-10-22T10:34:39.337Z"
   },
   {
    "duration": 38,
    "start_time": "2023-10-22T10:34:39.367Z"
   },
   {
    "duration": 34,
    "start_time": "2023-10-22T10:34:39.407Z"
   },
   {
    "duration": 50,
    "start_time": "2023-10-22T10:34:39.443Z"
   },
   {
    "duration": 18,
    "start_time": "2023-10-22T10:34:39.495Z"
   },
   {
    "duration": 8,
    "start_time": "2023-10-22T10:52:26.074Z"
   },
   {
    "duration": 6,
    "start_time": "2023-10-22T10:58:24.971Z"
   },
   {
    "duration": 6,
    "start_time": "2023-10-22T10:58:28.376Z"
   },
   {
    "duration": 317,
    "start_time": "2023-10-22T10:58:57.883Z"
   },
   {
    "duration": 7,
    "start_time": "2023-10-22T10:59:07.581Z"
   },
   {
    "duration": 5,
    "start_time": "2023-10-22T11:00:33.875Z"
   },
   {
    "duration": 6,
    "start_time": "2023-10-22T11:03:00.805Z"
   },
   {
    "duration": 8,
    "start_time": "2023-10-22T11:11:09.458Z"
   },
   {
    "duration": 6,
    "start_time": "2023-10-22T11:24:00.860Z"
   },
   {
    "duration": 6,
    "start_time": "2023-10-22T11:27:36.656Z"
   },
   {
    "duration": 2,
    "start_time": "2023-10-22T11:30:03.859Z"
   },
   {
    "duration": 103,
    "start_time": "2023-10-22T11:41:55.763Z"
   },
   {
    "duration": 2739,
    "start_time": "2023-10-22T11:44:46.941Z"
   },
   {
    "duration": 1396,
    "start_time": "2023-10-22T11:44:49.683Z"
   },
   {
    "duration": 101,
    "start_time": "2023-10-22T11:44:51.080Z"
   },
   {
    "duration": 11,
    "start_time": "2023-10-22T11:44:51.183Z"
   },
   {
    "duration": 65,
    "start_time": "2023-10-22T11:44:51.196Z"
   },
   {
    "duration": 150,
    "start_time": "2023-10-22T11:44:51.263Z"
   },
   {
    "duration": 31,
    "start_time": "2023-10-22T11:44:51.415Z"
   },
   {
    "duration": 245,
    "start_time": "2023-10-22T11:44:51.449Z"
   },
   {
    "duration": 184,
    "start_time": "2023-10-22T11:44:51.696Z"
   },
   {
    "duration": 230,
    "start_time": "2023-10-22T11:44:51.882Z"
   },
   {
    "duration": 233,
    "start_time": "2023-10-22T11:44:52.115Z"
   },
   {
    "duration": 227,
    "start_time": "2023-10-22T11:44:52.354Z"
   },
   {
    "duration": 13,
    "start_time": "2023-10-22T11:44:52.584Z"
   },
   {
    "duration": 241,
    "start_time": "2023-10-22T11:44:52.602Z"
   },
   {
    "duration": 185,
    "start_time": "2023-10-22T11:44:52.852Z"
   },
   {
    "duration": 15,
    "start_time": "2023-10-22T11:44:53.039Z"
   },
   {
    "duration": 13,
    "start_time": "2023-10-22T11:44:53.058Z"
   },
   {
    "duration": 31,
    "start_time": "2023-10-22T11:44:53.073Z"
   },
   {
    "duration": 42,
    "start_time": "2023-10-22T11:44:53.107Z"
   },
   {
    "duration": 236,
    "start_time": "2023-10-22T11:44:53.151Z"
   },
   {
    "duration": 226,
    "start_time": "2023-10-22T11:44:53.389Z"
   },
   {
    "duration": 282,
    "start_time": "2023-10-22T11:44:53.617Z"
   },
   {
    "duration": 214,
    "start_time": "2023-10-22T11:44:53.901Z"
   },
   {
    "duration": 983,
    "start_time": "2023-10-22T11:44:54.117Z"
   },
   {
    "duration": 5,
    "start_time": "2023-10-22T11:44:55.102Z"
   },
   {
    "duration": 324,
    "start_time": "2023-10-22T11:44:55.109Z"
   },
   {
    "duration": 13,
    "start_time": "2023-10-22T11:44:55.436Z"
   },
   {
    "duration": 104,
    "start_time": "2023-10-22T11:44:55.452Z"
   },
   {
    "duration": 325,
    "start_time": "2023-10-22T11:44:55.558Z"
   },
   {
    "duration": 151,
    "start_time": "2023-10-22T11:44:55.885Z"
   },
   {
    "duration": 131,
    "start_time": "2023-10-22T11:44:56.039Z"
   },
   {
    "duration": 272,
    "start_time": "2023-10-22T11:44:56.173Z"
   },
   {
    "duration": 257,
    "start_time": "2023-10-22T11:44:56.453Z"
   },
   {
    "duration": 3274,
    "start_time": "2023-10-22T14:35:05.164Z"
   },
   {
    "duration": 1330,
    "start_time": "2023-10-22T14:35:08.440Z"
   },
   {
    "duration": 208,
    "start_time": "2023-10-22T14:35:09.772Z"
   },
   {
    "duration": 10,
    "start_time": "2023-10-22T14:35:09.982Z"
   },
   {
    "duration": 13,
    "start_time": "2023-10-22T14:35:09.994Z"
   },
   {
    "duration": 15,
    "start_time": "2023-10-22T14:35:10.008Z"
   },
   {
    "duration": 22,
    "start_time": "2023-10-22T14:35:10.024Z"
   },
   {
    "duration": 189,
    "start_time": "2023-10-22T14:35:10.048Z"
   },
   {
    "duration": 150,
    "start_time": "2023-10-22T14:35:10.239Z"
   },
   {
    "duration": 186,
    "start_time": "2023-10-22T14:35:10.392Z"
   },
   {
    "duration": 178,
    "start_time": "2023-10-22T14:35:10.579Z"
   },
   {
    "duration": 153,
    "start_time": "2023-10-22T14:35:10.758Z"
   },
   {
    "duration": 11,
    "start_time": "2023-10-22T14:35:10.913Z"
   },
   {
    "duration": 197,
    "start_time": "2023-10-22T14:35:10.926Z"
   },
   {
    "duration": 159,
    "start_time": "2023-10-22T14:35:11.125Z"
   },
   {
    "duration": 9,
    "start_time": "2023-10-22T14:35:11.286Z"
   },
   {
    "duration": 10,
    "start_time": "2023-10-22T14:35:11.296Z"
   },
   {
    "duration": 44,
    "start_time": "2023-10-22T14:35:11.308Z"
   },
   {
    "duration": 10,
    "start_time": "2023-10-22T14:35:11.354Z"
   },
   {
    "duration": 188,
    "start_time": "2023-10-22T14:35:11.365Z"
   },
   {
    "duration": 182,
    "start_time": "2023-10-22T14:35:11.555Z"
   },
   {
    "duration": 244,
    "start_time": "2023-10-22T14:35:11.743Z"
   },
   {
    "duration": 184,
    "start_time": "2023-10-22T14:35:11.990Z"
   },
   {
    "duration": 793,
    "start_time": "2023-10-22T14:35:12.175Z"
   },
   {
    "duration": 4,
    "start_time": "2023-10-22T14:35:12.969Z"
   },
   {
    "duration": 231,
    "start_time": "2023-10-22T14:35:12.975Z"
   },
   {
    "duration": 5,
    "start_time": "2023-10-22T14:35:13.208Z"
   },
   {
    "duration": 4,
    "start_time": "2023-10-22T14:35:13.216Z"
   },
   {
    "duration": 27,
    "start_time": "2023-10-22T14:35:13.222Z"
   },
   {
    "duration": 5,
    "start_time": "2023-10-22T14:35:13.251Z"
   },
   {
    "duration": 15,
    "start_time": "2023-10-22T14:35:13.257Z"
   },
   {
    "duration": 29,
    "start_time": "2023-10-22T14:35:13.273Z"
   },
   {
    "duration": 5,
    "start_time": "2023-10-22T14:35:13.303Z"
   },
   {
    "duration": 3034,
    "start_time": "2023-10-22T15:42:34.665Z"
   },
   {
    "duration": 2152,
    "start_time": "2023-10-22T15:42:37.701Z"
   },
   {
    "duration": 193,
    "start_time": "2023-10-22T15:42:39.855Z"
   },
   {
    "duration": 15,
    "start_time": "2023-10-22T15:42:40.052Z"
   },
   {
    "duration": 11,
    "start_time": "2023-10-22T15:42:40.069Z"
   },
   {
    "duration": 73,
    "start_time": "2023-10-22T15:42:40.082Z"
   },
   {
    "duration": 16,
    "start_time": "2023-10-22T15:42:40.158Z"
   },
   {
    "duration": 382,
    "start_time": "2023-10-22T15:42:40.176Z"
   },
   {
    "duration": 204,
    "start_time": "2023-10-22T15:42:40.562Z"
   },
   {
    "duration": 184,
    "start_time": "2023-10-22T15:42:40.769Z"
   },
   {
    "duration": 193,
    "start_time": "2023-10-22T15:42:40.955Z"
   },
   {
    "duration": 168,
    "start_time": "2023-10-22T15:42:41.150Z"
   },
   {
    "duration": 11,
    "start_time": "2023-10-22T15:42:41.320Z"
   },
   {
    "duration": 196,
    "start_time": "2023-10-22T15:42:41.332Z"
   },
   {
    "duration": 180,
    "start_time": "2023-10-22T15:42:41.530Z"
   },
   {
    "duration": 10,
    "start_time": "2023-10-22T15:42:41.712Z"
   },
   {
    "duration": 21,
    "start_time": "2023-10-22T15:42:41.723Z"
   },
   {
    "duration": 31,
    "start_time": "2023-10-22T15:42:41.746Z"
   },
   {
    "duration": 10,
    "start_time": "2023-10-22T15:42:41.778Z"
   },
   {
    "duration": 202,
    "start_time": "2023-10-22T15:42:41.790Z"
   },
   {
    "duration": 194,
    "start_time": "2023-10-22T15:42:41.993Z"
   },
   {
    "duration": 243,
    "start_time": "2023-10-22T15:42:42.188Z"
   },
   {
    "duration": 194,
    "start_time": "2023-10-22T15:42:42.433Z"
   },
   {
    "duration": 866,
    "start_time": "2023-10-22T15:42:42.628Z"
   },
   {
    "duration": 5,
    "start_time": "2023-10-22T15:42:43.495Z"
   },
   {
    "duration": 314,
    "start_time": "2023-10-22T15:42:43.501Z"
   },
   {
    "duration": 7,
    "start_time": "2023-10-22T15:42:43.818Z"
   },
   {
    "duration": 16,
    "start_time": "2023-10-22T15:42:43.830Z"
   },
   {
    "duration": 13,
    "start_time": "2023-10-22T15:42:43.847Z"
   },
   {
    "duration": 7,
    "start_time": "2023-10-22T15:42:43.862Z"
   },
   {
    "duration": 8,
    "start_time": "2023-10-22T15:42:43.871Z"
   },
   {
    "duration": 35,
    "start_time": "2023-10-22T15:42:43.881Z"
   },
   {
    "duration": 5,
    "start_time": "2023-10-22T15:42:43.918Z"
   },
   {
    "duration": 2284,
    "start_time": "2023-10-22T15:58:26.658Z"
   },
   {
    "duration": 1210,
    "start_time": "2023-10-22T15:58:28.945Z"
   },
   {
    "duration": 86,
    "start_time": "2023-10-22T15:58:30.157Z"
   },
   {
    "duration": 16,
    "start_time": "2023-10-22T15:58:30.245Z"
   },
   {
    "duration": 49,
    "start_time": "2023-10-22T15:58:30.264Z"
   },
   {
    "duration": 50,
    "start_time": "2023-10-22T15:58:30.315Z"
   },
   {
    "duration": 41,
    "start_time": "2023-10-22T15:58:30.367Z"
   },
   {
    "duration": 235,
    "start_time": "2023-10-22T15:58:30.410Z"
   },
   {
    "duration": 167,
    "start_time": "2023-10-22T15:58:30.647Z"
   },
   {
    "duration": 201,
    "start_time": "2023-10-22T15:58:30.817Z"
   },
   {
    "duration": 203,
    "start_time": "2023-10-22T15:58:31.020Z"
   },
   {
    "duration": 198,
    "start_time": "2023-10-22T15:58:31.225Z"
   },
   {
    "duration": 22,
    "start_time": "2023-10-22T15:58:31.424Z"
   },
   {
    "duration": 278,
    "start_time": "2023-10-22T15:58:31.455Z"
   },
   {
    "duration": 285,
    "start_time": "2023-10-22T15:58:31.734Z"
   },
   {
    "duration": 11,
    "start_time": "2023-10-22T15:58:32.020Z"
   },
   {
    "duration": 108,
    "start_time": "2023-10-22T15:58:32.032Z"
   },
   {
    "duration": 123,
    "start_time": "2023-10-22T15:58:32.141Z"
   },
   {
    "duration": 10,
    "start_time": "2023-10-22T15:58:32.266Z"
   },
   {
    "duration": 218,
    "start_time": "2023-10-22T15:58:32.278Z"
   },
   {
    "duration": 202,
    "start_time": "2023-10-22T15:58:32.497Z"
   },
   {
    "duration": 266,
    "start_time": "2023-10-22T15:58:32.701Z"
   },
   {
    "duration": 223,
    "start_time": "2023-10-22T15:58:32.969Z"
   },
   {
    "duration": 907,
    "start_time": "2023-10-22T15:58:33.194Z"
   },
   {
    "duration": 3,
    "start_time": "2023-10-22T15:58:34.103Z"
   },
   {
    "duration": 235,
    "start_time": "2023-10-22T15:58:34.107Z"
   },
   {
    "duration": 7,
    "start_time": "2023-10-22T15:58:34.344Z"
   },
   {
    "duration": 6,
    "start_time": "2023-10-22T15:58:34.356Z"
   },
   {
    "duration": 10,
    "start_time": "2023-10-22T15:58:34.363Z"
   },
   {
    "duration": 6,
    "start_time": "2023-10-22T15:58:34.374Z"
   },
   {
    "duration": 8,
    "start_time": "2023-10-22T15:58:34.381Z"
   },
   {
    "duration": 68,
    "start_time": "2023-10-22T15:58:34.390Z"
   },
   {
    "duration": 7,
    "start_time": "2023-10-22T15:58:34.461Z"
   },
   {
    "duration": 148,
    "start_time": "2023-10-22T16:18:44.544Z"
   },
   {
    "duration": 10,
    "start_time": "2023-10-22T16:20:02.654Z"
   },
   {
    "duration": 54,
    "start_time": "2023-10-22T18:24:08.430Z"
   },
   {
    "duration": 3566,
    "start_time": "2023-10-22T18:24:12.749Z"
   },
   {
    "duration": 1491,
    "start_time": "2023-10-22T18:24:16.318Z"
   },
   {
    "duration": 332,
    "start_time": "2023-10-22T18:24:17.811Z"
   },
   {
    "duration": 15,
    "start_time": "2023-10-22T18:24:18.146Z"
   },
   {
    "duration": 46,
    "start_time": "2023-10-22T18:24:18.163Z"
   },
   {
    "duration": 31,
    "start_time": "2023-10-22T18:24:18.211Z"
   },
   {
    "duration": 29,
    "start_time": "2023-10-22T18:24:18.244Z"
   },
   {
    "duration": 15,
    "start_time": "2023-10-22T18:24:18.274Z"
   },
   {
    "duration": 223,
    "start_time": "2023-10-22T18:24:18.291Z"
   },
   {
    "duration": 175,
    "start_time": "2023-10-22T18:24:18.518Z"
   },
   {
    "duration": 258,
    "start_time": "2023-10-22T18:24:18.695Z"
   },
   {
    "duration": 254,
    "start_time": "2023-10-22T18:24:18.955Z"
   },
   {
    "duration": 180,
    "start_time": "2023-10-22T18:24:19.211Z"
   },
   {
    "duration": 14,
    "start_time": "2023-10-22T18:24:19.393Z"
   },
   {
    "duration": 206,
    "start_time": "2023-10-22T18:24:19.409Z"
   },
   {
    "duration": 252,
    "start_time": "2023-10-22T18:24:19.617Z"
   },
   {
    "duration": 12,
    "start_time": "2023-10-22T18:24:19.871Z"
   },
   {
    "duration": 77,
    "start_time": "2023-10-22T18:24:19.885Z"
   },
   {
    "duration": 43,
    "start_time": "2023-10-22T18:24:19.964Z"
   },
   {
    "duration": 13,
    "start_time": "2023-10-22T18:24:20.057Z"
   },
   {
    "duration": 421,
    "start_time": "2023-10-22T18:24:20.072Z"
   },
   {
    "duration": 461,
    "start_time": "2023-10-22T18:24:20.495Z"
   },
   {
    "duration": 527,
    "start_time": "2023-10-22T18:24:20.959Z"
   },
   {
    "duration": 337,
    "start_time": "2023-10-22T18:24:21.488Z"
   },
   {
    "duration": 839,
    "start_time": "2023-10-22T18:24:21.827Z"
   },
   {
    "duration": 4,
    "start_time": "2023-10-22T18:24:22.668Z"
   },
   {
    "duration": 285,
    "start_time": "2023-10-22T18:24:22.674Z"
   },
   {
    "duration": 7,
    "start_time": "2023-10-22T18:24:22.962Z"
   },
   {
    "duration": 6,
    "start_time": "2023-10-22T18:24:22.970Z"
   },
   {
    "duration": 11,
    "start_time": "2023-10-22T18:24:22.978Z"
   },
   {
    "duration": 6,
    "start_time": "2023-10-22T18:24:22.991Z"
   },
   {
    "duration": 15,
    "start_time": "2023-10-22T18:24:22.999Z"
   },
   {
    "duration": 56,
    "start_time": "2023-10-22T18:24:23.016Z"
   },
   {
    "duration": 7,
    "start_time": "2023-10-22T18:24:23.075Z"
   },
   {
    "duration": 306,
    "start_time": "2023-10-22T18:30:53.017Z"
   },
   {
    "duration": 213,
    "start_time": "2023-10-22T18:31:00.854Z"
   },
   {
    "duration": 233,
    "start_time": "2023-10-22T18:31:18.402Z"
   },
   {
    "duration": 241,
    "start_time": "2023-10-22T18:31:59.818Z"
   },
   {
    "duration": 212,
    "start_time": "2023-10-22T18:32:09.878Z"
   },
   {
    "duration": 261,
    "start_time": "2023-10-22T18:32:37.343Z"
   },
   {
    "duration": 234,
    "start_time": "2023-10-22T18:33:21.002Z"
   },
   {
    "duration": 2482,
    "start_time": "2023-10-22T18:33:44.676Z"
   },
   {
    "duration": 1376,
    "start_time": "2023-10-22T18:33:47.160Z"
   },
   {
    "duration": 94,
    "start_time": "2023-10-22T18:33:48.540Z"
   },
   {
    "duration": 13,
    "start_time": "2023-10-22T18:33:48.636Z"
   },
   {
    "duration": 82,
    "start_time": "2023-10-22T18:33:48.653Z"
   },
   {
    "duration": 46,
    "start_time": "2023-10-22T18:33:48.737Z"
   },
   {
    "duration": 46,
    "start_time": "2023-10-22T18:33:48.785Z"
   },
   {
    "duration": 411,
    "start_time": "2023-10-22T18:33:48.834Z"
   },
   {
    "duration": 20,
    "start_time": "2023-10-22T18:33:49.247Z"
   },
   {
    "duration": 224,
    "start_time": "2023-10-22T18:33:49.269Z"
   },
   {
    "duration": 193,
    "start_time": "2023-10-22T18:33:49.495Z"
   },
   {
    "duration": 216,
    "start_time": "2023-10-22T18:33:49.691Z"
   },
   {
    "duration": 240,
    "start_time": "2023-10-22T18:33:49.910Z"
   },
   {
    "duration": 173,
    "start_time": "2023-10-22T18:33:50.158Z"
   },
   {
    "duration": 24,
    "start_time": "2023-10-22T18:33:50.333Z"
   },
   {
    "duration": 205,
    "start_time": "2023-10-22T18:33:50.359Z"
   },
   {
    "duration": 188,
    "start_time": "2023-10-22T18:33:50.566Z"
   },
   {
    "duration": 11,
    "start_time": "2023-10-22T18:33:50.757Z"
   },
   {
    "duration": 52,
    "start_time": "2023-10-22T18:33:50.770Z"
   },
   {
    "duration": 37,
    "start_time": "2023-10-22T18:33:50.825Z"
   },
   {
    "duration": 13,
    "start_time": "2023-10-22T18:33:50.864Z"
   },
   {
    "duration": 316,
    "start_time": "2023-10-22T18:33:50.879Z"
   },
   {
    "duration": 197,
    "start_time": "2023-10-22T18:33:51.197Z"
   },
   {
    "duration": 192,
    "start_time": "2023-10-22T18:33:51.396Z"
   },
   {
    "duration": 218,
    "start_time": "2023-10-22T18:33:51.590Z"
   },
   {
    "duration": 846,
    "start_time": "2023-10-22T18:33:51.810Z"
   },
   {
    "duration": 4,
    "start_time": "2023-10-22T18:33:52.658Z"
   },
   {
    "duration": 260,
    "start_time": "2023-10-22T18:33:52.664Z"
   },
   {
    "duration": 6,
    "start_time": "2023-10-22T18:33:52.927Z"
   },
   {
    "duration": 27,
    "start_time": "2023-10-22T18:33:52.935Z"
   },
   {
    "duration": 12,
    "start_time": "2023-10-22T18:33:52.964Z"
   },
   {
    "duration": 7,
    "start_time": "2023-10-22T18:33:52.979Z"
   },
   {
    "duration": 18,
    "start_time": "2023-10-22T18:33:52.987Z"
   },
   {
    "duration": 49,
    "start_time": "2023-10-22T18:33:53.007Z"
   },
   {
    "duration": 6,
    "start_time": "2023-10-22T18:33:53.059Z"
   },
   {
    "duration": 205,
    "start_time": "2023-10-22T18:46:36.922Z"
   },
   {
    "duration": 214,
    "start_time": "2023-10-22T18:46:47.403Z"
   },
   {
    "duration": 12,
    "start_time": "2023-10-22T18:47:02.914Z"
   },
   {
    "duration": 2463,
    "start_time": "2023-10-22T18:50:12.959Z"
   },
   {
    "duration": 1336,
    "start_time": "2023-10-22T18:50:15.425Z"
   },
   {
    "duration": 96,
    "start_time": "2023-10-22T18:50:16.763Z"
   },
   {
    "duration": 14,
    "start_time": "2023-10-22T18:50:16.861Z"
   },
   {
    "duration": 20,
    "start_time": "2023-10-22T18:50:16.877Z"
   },
   {
    "duration": 17,
    "start_time": "2023-10-22T18:50:16.899Z"
   },
   {
    "duration": 39,
    "start_time": "2023-10-22T18:50:16.918Z"
   },
   {
    "duration": 11,
    "start_time": "2023-10-22T18:50:16.960Z"
   },
   {
    "duration": 18,
    "start_time": "2023-10-22T18:50:16.973Z"
   },
   {
    "duration": 253,
    "start_time": "2023-10-22T18:50:16.995Z"
   },
   {
    "duration": 179,
    "start_time": "2023-10-22T18:50:17.251Z"
   },
   {
    "duration": 219,
    "start_time": "2023-10-22T18:50:17.432Z"
   },
   {
    "duration": 208,
    "start_time": "2023-10-22T18:50:17.656Z"
   },
   {
    "duration": 211,
    "start_time": "2023-10-22T18:50:17.866Z"
   },
   {
    "duration": 18,
    "start_time": "2023-10-22T18:50:18.080Z"
   },
   {
    "duration": 219,
    "start_time": "2023-10-22T18:50:18.100Z"
   },
   {
    "duration": 189,
    "start_time": "2023-10-22T18:50:18.321Z"
   },
   {
    "duration": 13,
    "start_time": "2023-10-22T18:50:18.512Z"
   },
   {
    "duration": 32,
    "start_time": "2023-10-22T18:50:18.527Z"
   },
   {
    "duration": 29,
    "start_time": "2023-10-22T18:50:18.562Z"
   },
   {
    "duration": 13,
    "start_time": "2023-10-22T18:50:18.593Z"
   },
   {
    "duration": 251,
    "start_time": "2023-10-22T18:50:18.608Z"
   },
   {
    "duration": 257,
    "start_time": "2023-10-22T18:50:18.862Z"
   },
   {
    "duration": 341,
    "start_time": "2023-10-22T18:50:19.121Z"
   },
   {
    "duration": 217,
    "start_time": "2023-10-22T18:50:19.464Z"
   },
   {
    "duration": 853,
    "start_time": "2023-10-22T18:50:19.683Z"
   },
   {
    "duration": 3,
    "start_time": "2023-10-22T18:50:20.538Z"
   },
   {
    "duration": 264,
    "start_time": "2023-10-22T18:50:20.556Z"
   },
   {
    "duration": 8,
    "start_time": "2023-10-22T18:50:20.822Z"
   },
   {
    "duration": 26,
    "start_time": "2023-10-22T18:50:20.832Z"
   },
   {
    "duration": 10,
    "start_time": "2023-10-22T18:50:20.860Z"
   },
   {
    "duration": 7,
    "start_time": "2023-10-22T18:50:20.872Z"
   },
   {
    "duration": 6,
    "start_time": "2023-10-22T18:50:20.881Z"
   },
   {
    "duration": 43,
    "start_time": "2023-10-22T18:50:20.889Z"
   },
   {
    "duration": 24,
    "start_time": "2023-10-22T18:50:20.934Z"
   },
   {
    "duration": 127,
    "start_time": "2023-10-22T18:55:08.602Z"
   },
   {
    "duration": 17,
    "start_time": "2023-10-22T18:56:50.326Z"
   },
   {
    "duration": 19,
    "start_time": "2023-10-22T18:56:54.246Z"
   },
   {
    "duration": 23752,
    "start_time": "2023-10-22T18:57:01.910Z"
   },
   {
    "duration": 17,
    "start_time": "2023-10-22T18:58:25.081Z"
   },
   {
    "duration": 28491,
    "start_time": "2023-10-22T18:58:54.006Z"
   },
   {
    "duration": 110,
    "start_time": "2023-10-22T19:01:40.530Z"
   },
   {
    "duration": 175,
    "start_time": "2023-10-22T19:06:07.905Z"
   },
   {
    "duration": 90,
    "start_time": "2023-10-22T19:06:21.491Z"
   },
   {
    "duration": 17,
    "start_time": "2023-10-22T19:06:24.868Z"
   },
   {
    "duration": 18,
    "start_time": "2023-10-22T19:08:01.163Z"
   },
   {
    "duration": 15,
    "start_time": "2023-10-22T19:10:18.401Z"
   },
   {
    "duration": 223,
    "start_time": "2023-10-22T19:10:26.498Z"
   },
   {
    "duration": 207,
    "start_time": "2023-10-22T19:12:09.259Z"
   },
   {
    "duration": 712,
    "start_time": "2023-10-22T19:12:59.121Z"
   },
   {
    "duration": 218,
    "start_time": "2023-10-22T19:13:24.010Z"
   },
   {
    "duration": 2128,
    "start_time": "2023-10-22T19:14:09.682Z"
   },
   {
    "duration": 204,
    "start_time": "2023-10-22T19:14:39.808Z"
   },
   {
    "duration": 210,
    "start_time": "2023-10-22T19:14:50.187Z"
   },
   {
    "duration": 221,
    "start_time": "2023-10-22T19:16:03.679Z"
   },
   {
    "duration": 253,
    "start_time": "2023-10-22T19:16:23.969Z"
   },
   {
    "duration": 228,
    "start_time": "2023-10-22T19:16:41.924Z"
   },
   {
    "duration": 2501,
    "start_time": "2023-10-22T19:16:59.219Z"
   },
   {
    "duration": 1281,
    "start_time": "2023-10-22T19:17:01.723Z"
   },
   {
    "duration": 93,
    "start_time": "2023-10-22T19:17:03.006Z"
   },
   {
    "duration": 13,
    "start_time": "2023-10-22T19:17:03.101Z"
   },
   {
    "duration": 38,
    "start_time": "2023-10-22T19:17:03.116Z"
   },
   {
    "duration": 70,
    "start_time": "2023-10-22T19:17:03.156Z"
   },
   {
    "duration": 49,
    "start_time": "2023-10-22T19:17:03.228Z"
   },
   {
    "duration": 41,
    "start_time": "2023-10-22T19:17:03.279Z"
   },
   {
    "duration": 28,
    "start_time": "2023-10-22T19:17:03.322Z"
   },
   {
    "duration": 281,
    "start_time": "2023-10-22T19:17:03.354Z"
   },
   {
    "duration": 174,
    "start_time": "2023-10-22T19:17:03.637Z"
   },
   {
    "duration": 203,
    "start_time": "2023-10-22T19:17:03.813Z"
   },
   {
    "duration": 198,
    "start_time": "2023-10-22T19:17:04.018Z"
   },
   {
    "duration": 196,
    "start_time": "2023-10-22T19:17:04.219Z"
   },
   {
    "duration": 13,
    "start_time": "2023-10-22T19:17:04.417Z"
   },
   {
    "duration": 206,
    "start_time": "2023-10-22T19:17:04.432Z"
   },
   {
    "duration": 178,
    "start_time": "2023-10-22T19:17:04.641Z"
   },
   {
    "duration": 13,
    "start_time": "2023-10-22T19:17:04.822Z"
   },
   {
    "duration": 25,
    "start_time": "2023-10-22T19:17:04.837Z"
   },
   {
    "duration": 27,
    "start_time": "2023-10-22T19:17:04.864Z"
   },
   {
    "duration": 11,
    "start_time": "2023-10-22T19:17:04.893Z"
   },
   {
    "duration": 206,
    "start_time": "2023-10-22T19:17:04.906Z"
   },
   {
    "duration": 189,
    "start_time": "2023-10-22T19:17:05.113Z"
   },
   {
    "duration": 284,
    "start_time": "2023-10-22T19:17:05.305Z"
   },
   {
    "duration": 204,
    "start_time": "2023-10-22T19:17:05.591Z"
   },
   {
    "duration": 892,
    "start_time": "2023-10-22T19:17:05.796Z"
   },
   {
    "duration": 3,
    "start_time": "2023-10-22T19:17:06.690Z"
   },
   {
    "duration": 254,
    "start_time": "2023-10-22T19:17:06.696Z"
   },
   {
    "duration": 7,
    "start_time": "2023-10-22T19:17:06.955Z"
   },
   {
    "duration": 17,
    "start_time": "2023-10-22T19:17:06.963Z"
   },
   {
    "duration": 41,
    "start_time": "2023-10-22T19:17:06.982Z"
   },
   {
    "duration": 25,
    "start_time": "2023-10-22T19:17:07.025Z"
   },
   {
    "duration": 37,
    "start_time": "2023-10-22T19:17:07.052Z"
   },
   {
    "duration": 50,
    "start_time": "2023-10-22T19:17:07.091Z"
   },
   {
    "duration": 5,
    "start_time": "2023-10-22T19:17:07.143Z"
   },
   {
    "duration": 178,
    "start_time": "2023-10-22T19:19:08.289Z"
   },
   {
    "duration": 2500,
    "start_time": "2023-10-22T19:19:53.299Z"
   },
   {
    "duration": 1965,
    "start_time": "2023-10-22T19:19:55.802Z"
   },
   {
    "duration": 132,
    "start_time": "2023-10-22T19:19:57.769Z"
   },
   {
    "duration": 61,
    "start_time": "2023-10-22T19:19:57.903Z"
   },
   {
    "duration": 23,
    "start_time": "2023-10-22T19:19:57.965Z"
   },
   {
    "duration": 72,
    "start_time": "2023-10-22T19:19:57.990Z"
   },
   {
    "duration": 43,
    "start_time": "2023-10-22T19:19:58.064Z"
   },
   {
    "duration": 56,
    "start_time": "2023-10-22T19:19:58.109Z"
   },
   {
    "duration": 21,
    "start_time": "2023-10-22T19:19:58.168Z"
   },
   {
    "duration": 445,
    "start_time": "2023-10-22T19:19:58.193Z"
   },
   {
    "duration": 247,
    "start_time": "2023-10-22T19:19:58.640Z"
   },
   {
    "duration": 256,
    "start_time": "2023-10-22T19:19:58.890Z"
   },
   {
    "duration": 219,
    "start_time": "2023-10-22T19:19:59.148Z"
   },
   {
    "duration": 193,
    "start_time": "2023-10-22T19:19:59.370Z"
   },
   {
    "duration": 13,
    "start_time": "2023-10-22T19:19:59.564Z"
   },
   {
    "duration": 221,
    "start_time": "2023-10-22T19:19:59.579Z"
   },
   {
    "duration": 195,
    "start_time": "2023-10-22T19:19:59.802Z"
   },
   {
    "duration": 12,
    "start_time": "2023-10-22T19:19:59.999Z"
   },
   {
    "duration": 63,
    "start_time": "2023-10-22T19:20:00.013Z"
   },
   {
    "duration": 74,
    "start_time": "2023-10-22T19:20:00.077Z"
   },
   {
    "duration": 41,
    "start_time": "2023-10-22T19:20:00.154Z"
   },
   {
    "duration": 244,
    "start_time": "2023-10-22T19:20:00.197Z"
   },
   {
    "duration": 240,
    "start_time": "2023-10-22T19:20:00.443Z"
   },
   {
    "duration": 419,
    "start_time": "2023-10-22T19:20:00.686Z"
   },
   {
    "duration": 345,
    "start_time": "2023-10-22T19:20:01.107Z"
   },
   {
    "duration": 887,
    "start_time": "2023-10-22T19:20:01.455Z"
   },
   {
    "duration": 14,
    "start_time": "2023-10-22T19:20:02.343Z"
   },
   {
    "duration": 468,
    "start_time": "2023-10-22T19:20:02.361Z"
   },
   {
    "duration": 6,
    "start_time": "2023-10-22T19:20:02.832Z"
   },
   {
    "duration": 27,
    "start_time": "2023-10-22T19:20:02.840Z"
   },
   {
    "duration": 32,
    "start_time": "2023-10-22T19:20:02.869Z"
   },
   {
    "duration": 15,
    "start_time": "2023-10-22T19:20:02.904Z"
   },
   {
    "duration": 31,
    "start_time": "2023-10-22T19:20:02.920Z"
   },
   {
    "duration": 47,
    "start_time": "2023-10-22T19:20:02.953Z"
   },
   {
    "duration": 29,
    "start_time": "2023-10-22T19:20:03.002Z"
   },
   {
    "duration": 109,
    "start_time": "2023-10-22T19:22:27.192Z"
   },
   {
    "duration": 532,
    "start_time": "2023-10-22T19:23:04.385Z"
   },
   {
    "duration": 545,
    "start_time": "2023-10-22T19:23:20.222Z"
   },
   {
    "duration": 123,
    "start_time": "2023-10-22T19:24:09.493Z"
   },
   {
    "duration": 114,
    "start_time": "2023-10-22T19:24:19.294Z"
   },
   {
    "duration": 120,
    "start_time": "2023-10-22T19:24:28.974Z"
   },
   {
    "duration": 156,
    "start_time": "2023-10-22T19:24:39.534Z"
   },
   {
    "duration": 2438,
    "start_time": "2023-10-22T19:27:11.185Z"
   },
   {
    "duration": 1759,
    "start_time": "2023-10-22T19:27:13.625Z"
   },
   {
    "duration": 120,
    "start_time": "2023-10-22T19:27:15.386Z"
   },
   {
    "duration": 60,
    "start_time": "2023-10-22T19:27:15.508Z"
   },
   {
    "duration": 21,
    "start_time": "2023-10-22T19:27:15.570Z"
   },
   {
    "duration": 70,
    "start_time": "2023-10-22T19:27:15.593Z"
   },
   {
    "duration": 23,
    "start_time": "2023-10-22T19:27:15.665Z"
   },
   {
    "duration": 13,
    "start_time": "2023-10-22T19:27:15.690Z"
   },
   {
    "duration": 19,
    "start_time": "2023-10-22T19:27:15.756Z"
   },
   {
    "duration": 6,
    "start_time": "2023-10-22T19:27:15.779Z"
   },
   {
    "duration": 510,
    "start_time": "2023-10-22T19:27:15.787Z"
   },
   {
    "duration": 153,
    "start_time": "2023-10-22T19:27:16.300Z"
   },
   {
    "duration": 0,
    "start_time": "2023-10-22T19:27:16.455Z"
   },
   {
    "duration": 0,
    "start_time": "2023-10-22T19:27:16.457Z"
   },
   {
    "duration": 0,
    "start_time": "2023-10-22T19:27:16.458Z"
   },
   {
    "duration": 0,
    "start_time": "2023-10-22T19:27:16.460Z"
   },
   {
    "duration": 0,
    "start_time": "2023-10-22T19:27:16.461Z"
   },
   {
    "duration": 0,
    "start_time": "2023-10-22T19:27:16.462Z"
   },
   {
    "duration": 0,
    "start_time": "2023-10-22T19:27:16.463Z"
   },
   {
    "duration": 0,
    "start_time": "2023-10-22T19:27:16.464Z"
   },
   {
    "duration": 0,
    "start_time": "2023-10-22T19:27:16.466Z"
   },
   {
    "duration": 0,
    "start_time": "2023-10-22T19:27:16.467Z"
   },
   {
    "duration": 0,
    "start_time": "2023-10-22T19:27:16.468Z"
   },
   {
    "duration": 0,
    "start_time": "2023-10-22T19:27:16.469Z"
   },
   {
    "duration": 0,
    "start_time": "2023-10-22T19:27:16.470Z"
   },
   {
    "duration": 0,
    "start_time": "2023-10-22T19:27:16.471Z"
   },
   {
    "duration": 0,
    "start_time": "2023-10-22T19:27:16.472Z"
   },
   {
    "duration": 0,
    "start_time": "2023-10-22T19:27:16.473Z"
   },
   {
    "duration": 0,
    "start_time": "2023-10-22T19:27:16.474Z"
   },
   {
    "duration": 0,
    "start_time": "2023-10-22T19:27:16.475Z"
   },
   {
    "duration": 0,
    "start_time": "2023-10-22T19:27:16.476Z"
   },
   {
    "duration": 0,
    "start_time": "2023-10-22T19:27:16.477Z"
   },
   {
    "duration": 0,
    "start_time": "2023-10-22T19:27:16.479Z"
   },
   {
    "duration": 0,
    "start_time": "2023-10-22T19:27:16.480Z"
   },
   {
    "duration": 0,
    "start_time": "2023-10-22T19:27:16.481Z"
   },
   {
    "duration": 0,
    "start_time": "2023-10-22T19:27:16.482Z"
   },
   {
    "duration": 117,
    "start_time": "2023-10-22T19:28:35.914Z"
   },
   {
    "duration": 6,
    "start_time": "2023-10-22T19:28:38.009Z"
   },
   {
    "duration": 2475,
    "start_time": "2023-10-22T19:29:21.400Z"
   },
   {
    "duration": 1303,
    "start_time": "2023-10-22T19:29:23.878Z"
   },
   {
    "duration": 90,
    "start_time": "2023-10-22T19:29:25.183Z"
   },
   {
    "duration": 13,
    "start_time": "2023-10-22T19:29:25.275Z"
   },
   {
    "duration": 23,
    "start_time": "2023-10-22T19:29:25.290Z"
   },
   {
    "duration": 13,
    "start_time": "2023-10-22T19:29:25.315Z"
   },
   {
    "duration": 36,
    "start_time": "2023-10-22T19:29:25.330Z"
   },
   {
    "duration": 10,
    "start_time": "2023-10-22T19:29:25.368Z"
   },
   {
    "duration": 13,
    "start_time": "2023-10-22T19:29:25.380Z"
   },
   {
    "duration": 222,
    "start_time": "2023-10-22T19:29:25.397Z"
   },
   {
    "duration": 235,
    "start_time": "2023-10-22T19:29:25.621Z"
   },
   {
    "duration": 113,
    "start_time": "2023-10-22T19:29:25.858Z"
   },
   {
    "duration": 0,
    "start_time": "2023-10-22T19:29:25.973Z"
   },
   {
    "duration": 0,
    "start_time": "2023-10-22T19:29:25.974Z"
   },
   {
    "duration": 0,
    "start_time": "2023-10-22T19:29:25.975Z"
   },
   {
    "duration": 0,
    "start_time": "2023-10-22T19:29:25.977Z"
   },
   {
    "duration": 0,
    "start_time": "2023-10-22T19:29:25.977Z"
   },
   {
    "duration": 0,
    "start_time": "2023-10-22T19:29:25.979Z"
   },
   {
    "duration": 0,
    "start_time": "2023-10-22T19:29:25.980Z"
   },
   {
    "duration": 0,
    "start_time": "2023-10-22T19:29:25.981Z"
   },
   {
    "duration": 0,
    "start_time": "2023-10-22T19:29:25.982Z"
   },
   {
    "duration": 0,
    "start_time": "2023-10-22T19:29:25.982Z"
   },
   {
    "duration": 0,
    "start_time": "2023-10-22T19:29:25.984Z"
   },
   {
    "duration": 0,
    "start_time": "2023-10-22T19:29:25.985Z"
   },
   {
    "duration": 0,
    "start_time": "2023-10-22T19:29:25.986Z"
   },
   {
    "duration": 1,
    "start_time": "2023-10-22T19:29:25.987Z"
   },
   {
    "duration": 0,
    "start_time": "2023-10-22T19:29:25.989Z"
   },
   {
    "duration": 1,
    "start_time": "2023-10-22T19:29:25.990Z"
   },
   {
    "duration": 0,
    "start_time": "2023-10-22T19:29:25.992Z"
   },
   {
    "duration": 0,
    "start_time": "2023-10-22T19:29:25.993Z"
   },
   {
    "duration": 0,
    "start_time": "2023-10-22T19:29:25.995Z"
   },
   {
    "duration": 0,
    "start_time": "2023-10-22T19:29:25.996Z"
   },
   {
    "duration": 0,
    "start_time": "2023-10-22T19:29:25.998Z"
   },
   {
    "duration": 0,
    "start_time": "2023-10-22T19:29:26.000Z"
   },
   {
    "duration": 0,
    "start_time": "2023-10-22T19:29:26.001Z"
   },
   {
    "duration": 0,
    "start_time": "2023-10-22T19:29:26.002Z"
   },
   {
    "duration": 192,
    "start_time": "2023-10-22T19:29:39.009Z"
   },
   {
    "duration": 191,
    "start_time": "2023-10-22T19:29:49.440Z"
   },
   {
    "duration": 266,
    "start_time": "2023-10-22T19:32:11.623Z"
   },
   {
    "duration": 162,
    "start_time": "2023-10-22T19:33:58.493Z"
   },
   {
    "duration": 2331,
    "start_time": "2023-10-22T19:34:41.564Z"
   },
   {
    "duration": 2086,
    "start_time": "2023-10-22T19:34:43.897Z"
   },
   {
    "duration": 117,
    "start_time": "2023-10-22T19:34:45.985Z"
   },
   {
    "duration": 12,
    "start_time": "2023-10-22T19:34:46.105Z"
   },
   {
    "duration": 14,
    "start_time": "2023-10-22T19:34:46.155Z"
   },
   {
    "duration": 41,
    "start_time": "2023-10-22T19:34:46.171Z"
   },
   {
    "duration": 27,
    "start_time": "2023-10-22T19:34:46.214Z"
   },
   {
    "duration": 9,
    "start_time": "2023-10-22T19:34:46.242Z"
   },
   {
    "duration": 31,
    "start_time": "2023-10-22T19:34:46.253Z"
   },
   {
    "duration": 189,
    "start_time": "2023-10-22T19:34:46.287Z"
   },
   {
    "duration": 251,
    "start_time": "2023-10-22T19:34:46.478Z"
   },
   {
    "duration": 97,
    "start_time": "2023-10-22T19:34:46.730Z"
   },
   {
    "duration": 0,
    "start_time": "2023-10-22T19:34:46.829Z"
   },
   {
    "duration": 0,
    "start_time": "2023-10-22T19:34:46.831Z"
   },
   {
    "duration": 0,
    "start_time": "2023-10-22T19:34:46.832Z"
   },
   {
    "duration": 0,
    "start_time": "2023-10-22T19:34:46.834Z"
   },
   {
    "duration": 0,
    "start_time": "2023-10-22T19:34:46.835Z"
   },
   {
    "duration": 0,
    "start_time": "2023-10-22T19:34:46.836Z"
   },
   {
    "duration": 0,
    "start_time": "2023-10-22T19:34:46.837Z"
   },
   {
    "duration": 0,
    "start_time": "2023-10-22T19:34:46.839Z"
   },
   {
    "duration": 0,
    "start_time": "2023-10-22T19:34:46.840Z"
   },
   {
    "duration": 0,
    "start_time": "2023-10-22T19:34:46.841Z"
   },
   {
    "duration": 0,
    "start_time": "2023-10-22T19:34:46.842Z"
   },
   {
    "duration": 0,
    "start_time": "2023-10-22T19:34:46.844Z"
   },
   {
    "duration": 0,
    "start_time": "2023-10-22T19:34:46.845Z"
   },
   {
    "duration": 0,
    "start_time": "2023-10-22T19:34:46.846Z"
   },
   {
    "duration": 0,
    "start_time": "2023-10-22T19:34:46.848Z"
   },
   {
    "duration": 0,
    "start_time": "2023-10-22T19:34:46.850Z"
   },
   {
    "duration": 0,
    "start_time": "2023-10-22T19:34:46.851Z"
   },
   {
    "duration": 0,
    "start_time": "2023-10-22T19:34:46.852Z"
   },
   {
    "duration": 0,
    "start_time": "2023-10-22T19:34:46.853Z"
   },
   {
    "duration": 0,
    "start_time": "2023-10-22T19:34:46.855Z"
   },
   {
    "duration": 0,
    "start_time": "2023-10-22T19:34:46.856Z"
   },
   {
    "duration": 0,
    "start_time": "2023-10-22T19:34:46.858Z"
   },
   {
    "duration": 0,
    "start_time": "2023-10-22T19:34:46.859Z"
   },
   {
    "duration": 0,
    "start_time": "2023-10-22T19:34:46.860Z"
   },
   {
    "duration": 107,
    "start_time": "2023-10-22T19:38:19.625Z"
   },
   {
    "duration": 184,
    "start_time": "2023-10-22T19:43:29.490Z"
   },
   {
    "duration": 161,
    "start_time": "2023-10-22T19:43:33.320Z"
   },
   {
    "duration": 172,
    "start_time": "2023-10-22T19:43:43.451Z"
   },
   {
    "duration": 183,
    "start_time": "2023-10-22T19:44:02.130Z"
   },
   {
    "duration": 180,
    "start_time": "2023-10-22T19:44:14.663Z"
   },
   {
    "duration": 165,
    "start_time": "2023-10-22T19:44:23.093Z"
   },
   {
    "duration": 167,
    "start_time": "2023-10-22T19:44:44.478Z"
   },
   {
    "duration": 296,
    "start_time": "2023-10-22T19:44:52.741Z"
   },
   {
    "duration": 165,
    "start_time": "2023-10-22T19:45:34.465Z"
   },
   {
    "duration": 174,
    "start_time": "2023-10-22T19:46:11.843Z"
   },
   {
    "duration": 184,
    "start_time": "2023-10-22T19:46:39.331Z"
   },
   {
    "duration": 178,
    "start_time": "2023-10-22T19:47:12.843Z"
   },
   {
    "duration": 77,
    "start_time": "2023-10-22T19:48:20.239Z"
   },
   {
    "duration": 82,
    "start_time": "2023-10-22T19:48:38.238Z"
   },
   {
    "duration": 91,
    "start_time": "2023-10-22T19:48:44.793Z"
   },
   {
    "duration": 165,
    "start_time": "2023-10-22T19:48:54.118Z"
   },
   {
    "duration": 91,
    "start_time": "2023-10-22T19:49:11.170Z"
   },
   {
    "duration": 116,
    "start_time": "2023-10-22T19:49:59.504Z"
   },
   {
    "duration": 100,
    "start_time": "2023-10-22T19:50:04.826Z"
   },
   {
    "duration": 190,
    "start_time": "2023-10-22T19:54:58.575Z"
   },
   {
    "duration": 4,
    "start_time": "2023-10-22T19:56:58.617Z"
   },
   {
    "duration": 4,
    "start_time": "2023-10-22T19:57:06.818Z"
   },
   {
    "duration": 125,
    "start_time": "2023-10-22T19:57:42.809Z"
   },
   {
    "duration": 98,
    "start_time": "2023-10-22T19:57:46.482Z"
   },
   {
    "duration": 4,
    "start_time": "2023-10-22T19:58:03.720Z"
   },
   {
    "duration": 11,
    "start_time": "2023-10-22T19:59:13.242Z"
   },
   {
    "duration": 4,
    "start_time": "2023-10-22T19:59:33.200Z"
   },
   {
    "duration": 4,
    "start_time": "2023-10-22T19:59:43.079Z"
   },
   {
    "duration": 4,
    "start_time": "2023-10-22T19:59:53.556Z"
   },
   {
    "duration": 19,
    "start_time": "2023-10-22T20:00:18.856Z"
   },
   {
    "duration": 6,
    "start_time": "2023-10-22T20:00:23.863Z"
   },
   {
    "duration": 4,
    "start_time": "2023-10-22T20:01:45.611Z"
   },
   {
    "duration": 5,
    "start_time": "2023-10-22T20:01:54.366Z"
   },
   {
    "duration": 5,
    "start_time": "2023-10-22T20:01:56.702Z"
   },
   {
    "duration": 5,
    "start_time": "2023-10-22T20:02:25.150Z"
   },
   {
    "duration": 7,
    "start_time": "2023-10-22T20:02:45.252Z"
   },
   {
    "duration": 7,
    "start_time": "2023-10-22T20:02:54.853Z"
   },
   {
    "duration": 2513,
    "start_time": "2023-10-22T20:03:36.656Z"
   },
   {
    "duration": 1200,
    "start_time": "2023-10-22T20:03:39.172Z"
   },
   {
    "duration": 94,
    "start_time": "2023-10-22T20:03:40.375Z"
   },
   {
    "duration": 11,
    "start_time": "2023-10-22T20:03:40.472Z"
   },
   {
    "duration": 25,
    "start_time": "2023-10-22T20:03:40.485Z"
   },
   {
    "duration": 31,
    "start_time": "2023-10-22T20:03:40.512Z"
   },
   {
    "duration": 46,
    "start_time": "2023-10-22T20:03:40.546Z"
   },
   {
    "duration": 11,
    "start_time": "2023-10-22T20:03:40.594Z"
   },
   {
    "duration": 21,
    "start_time": "2023-10-22T20:03:40.607Z"
   },
   {
    "duration": 215,
    "start_time": "2023-10-22T20:03:40.631Z"
   },
   {
    "duration": 94,
    "start_time": "2023-10-22T20:03:40.848Z"
   },
   {
    "duration": 15,
    "start_time": "2023-10-22T20:03:40.944Z"
   },
   {
    "duration": 181,
    "start_time": "2023-10-22T20:03:40.961Z"
   },
   {
    "duration": 148,
    "start_time": "2023-10-22T20:03:41.144Z"
   },
   {
    "duration": 0,
    "start_time": "2023-10-22T20:03:41.295Z"
   },
   {
    "duration": 0,
    "start_time": "2023-10-22T20:03:41.297Z"
   },
   {
    "duration": 0,
    "start_time": "2023-10-22T20:03:41.298Z"
   },
   {
    "duration": 0,
    "start_time": "2023-10-22T20:03:41.300Z"
   },
   {
    "duration": 0,
    "start_time": "2023-10-22T20:03:41.301Z"
   },
   {
    "duration": 0,
    "start_time": "2023-10-22T20:03:41.302Z"
   },
   {
    "duration": 0,
    "start_time": "2023-10-22T20:03:41.304Z"
   },
   {
    "duration": 0,
    "start_time": "2023-10-22T20:03:41.305Z"
   },
   {
    "duration": 0,
    "start_time": "2023-10-22T20:03:41.306Z"
   },
   {
    "duration": 0,
    "start_time": "2023-10-22T20:03:41.308Z"
   },
   {
    "duration": 0,
    "start_time": "2023-10-22T20:03:41.310Z"
   },
   {
    "duration": 0,
    "start_time": "2023-10-22T20:03:41.311Z"
   },
   {
    "duration": 0,
    "start_time": "2023-10-22T20:03:41.313Z"
   },
   {
    "duration": 0,
    "start_time": "2023-10-22T20:03:41.314Z"
   },
   {
    "duration": 0,
    "start_time": "2023-10-22T20:03:41.316Z"
   },
   {
    "duration": 0,
    "start_time": "2023-10-22T20:03:41.317Z"
   },
   {
    "duration": 1,
    "start_time": "2023-10-22T20:03:41.318Z"
   },
   {
    "duration": 0,
    "start_time": "2023-10-22T20:03:41.320Z"
   },
   {
    "duration": 0,
    "start_time": "2023-10-22T20:03:41.321Z"
   },
   {
    "duration": 0,
    "start_time": "2023-10-22T20:03:41.323Z"
   },
   {
    "duration": 0,
    "start_time": "2023-10-22T20:03:41.324Z"
   },
   {
    "duration": 0,
    "start_time": "2023-10-22T20:03:41.327Z"
   },
   {
    "duration": 2420,
    "start_time": "2023-10-22T20:04:18.974Z"
   },
   {
    "duration": 2167,
    "start_time": "2023-10-22T20:04:21.397Z"
   },
   {
    "duration": 139,
    "start_time": "2023-10-22T20:04:23.566Z"
   },
   {
    "duration": 62,
    "start_time": "2023-10-22T20:04:23.708Z"
   },
   {
    "duration": 16,
    "start_time": "2023-10-22T20:04:23.773Z"
   },
   {
    "duration": 67,
    "start_time": "2023-10-22T20:04:23.791Z"
   },
   {
    "duration": 32,
    "start_time": "2023-10-22T20:04:23.860Z"
   },
   {
    "duration": 64,
    "start_time": "2023-10-22T20:04:23.894Z"
   },
   {
    "duration": 19,
    "start_time": "2023-10-22T20:04:23.961Z"
   },
   {
    "duration": 14,
    "start_time": "2023-10-22T20:04:23.983Z"
   },
   {
    "duration": 471,
    "start_time": "2023-10-22T20:04:23.999Z"
   },
   {
    "duration": 199,
    "start_time": "2023-10-22T20:04:24.471Z"
   },
   {
    "duration": 6,
    "start_time": "2023-10-22T20:04:24.672Z"
   },
   {
    "duration": 380,
    "start_time": "2023-10-22T20:04:24.681Z"
   },
   {
    "duration": 111,
    "start_time": "2023-10-22T20:04:25.063Z"
   },
   {
    "duration": 0,
    "start_time": "2023-10-22T20:04:25.176Z"
   },
   {
    "duration": 0,
    "start_time": "2023-10-22T20:04:25.177Z"
   },
   {
    "duration": 0,
    "start_time": "2023-10-22T20:04:25.180Z"
   },
   {
    "duration": 0,
    "start_time": "2023-10-22T20:04:25.181Z"
   },
   {
    "duration": 0,
    "start_time": "2023-10-22T20:04:25.183Z"
   },
   {
    "duration": 0,
    "start_time": "2023-10-22T20:04:25.184Z"
   },
   {
    "duration": 0,
    "start_time": "2023-10-22T20:04:25.186Z"
   },
   {
    "duration": 0,
    "start_time": "2023-10-22T20:04:25.187Z"
   },
   {
    "duration": 0,
    "start_time": "2023-10-22T20:04:25.188Z"
   },
   {
    "duration": 0,
    "start_time": "2023-10-22T20:04:25.190Z"
   },
   {
    "duration": 0,
    "start_time": "2023-10-22T20:04:25.191Z"
   },
   {
    "duration": 0,
    "start_time": "2023-10-22T20:04:25.193Z"
   },
   {
    "duration": 0,
    "start_time": "2023-10-22T20:04:25.194Z"
   },
   {
    "duration": 0,
    "start_time": "2023-10-22T20:04:25.196Z"
   },
   {
    "duration": 0,
    "start_time": "2023-10-22T20:04:25.197Z"
   },
   {
    "duration": 0,
    "start_time": "2023-10-22T20:04:25.199Z"
   },
   {
    "duration": 0,
    "start_time": "2023-10-22T20:04:25.200Z"
   },
   {
    "duration": 0,
    "start_time": "2023-10-22T20:04:25.201Z"
   },
   {
    "duration": 0,
    "start_time": "2023-10-22T20:04:25.203Z"
   },
   {
    "duration": 0,
    "start_time": "2023-10-22T20:04:25.204Z"
   },
   {
    "duration": 0,
    "start_time": "2023-10-22T20:04:25.256Z"
   },
   {
    "duration": 0,
    "start_time": "2023-10-22T20:04:25.258Z"
   },
   {
    "duration": 5,
    "start_time": "2023-10-22T20:04:49.399Z"
   },
   {
    "duration": 5,
    "start_time": "2023-10-22T20:05:19.036Z"
   },
   {
    "duration": 5,
    "start_time": "2023-10-22T20:05:27.770Z"
   },
   {
    "duration": 5,
    "start_time": "2023-10-22T20:05:45.454Z"
   },
   {
    "duration": 167,
    "start_time": "2023-10-22T20:06:30.412Z"
   },
   {
    "duration": 2728,
    "start_time": "2023-10-22T20:07:51.978Z"
   },
   {
    "duration": 1847,
    "start_time": "2023-10-22T20:07:54.709Z"
   },
   {
    "duration": 113,
    "start_time": "2023-10-22T20:07:56.559Z"
   },
   {
    "duration": 14,
    "start_time": "2023-10-22T20:07:56.674Z"
   },
   {
    "duration": 17,
    "start_time": "2023-10-22T20:07:56.690Z"
   },
   {
    "duration": 11,
    "start_time": "2023-10-22T20:07:56.709Z"
   },
   {
    "duration": 52,
    "start_time": "2023-10-22T20:07:56.722Z"
   },
   {
    "duration": 11,
    "start_time": "2023-10-22T20:07:56.776Z"
   },
   {
    "duration": 17,
    "start_time": "2023-10-22T20:07:56.789Z"
   },
   {
    "duration": 308,
    "start_time": "2023-10-22T20:07:56.808Z"
   },
   {
    "duration": 105,
    "start_time": "2023-10-22T20:07:57.118Z"
   },
   {
    "duration": 5,
    "start_time": "2023-10-22T20:07:57.224Z"
   },
   {
    "duration": 189,
    "start_time": "2023-10-22T20:07:57.231Z"
   },
   {
    "duration": 192,
    "start_time": "2023-10-22T20:07:57.424Z"
   },
   {
    "duration": 163,
    "start_time": "2023-10-22T20:07:57.618Z"
   },
   {
    "duration": 13,
    "start_time": "2023-10-22T20:07:57.783Z"
   },
   {
    "duration": 195,
    "start_time": "2023-10-22T20:07:57.797Z"
   },
   {
    "duration": 177,
    "start_time": "2023-10-22T20:07:57.994Z"
   },
   {
    "duration": 12,
    "start_time": "2023-10-22T20:07:58.172Z"
   },
   {
    "duration": 16,
    "start_time": "2023-10-22T20:07:58.186Z"
   },
   {
    "duration": 26,
    "start_time": "2023-10-22T20:07:58.204Z"
   },
   {
    "duration": 33,
    "start_time": "2023-10-22T20:07:58.232Z"
   },
   {
    "duration": 206,
    "start_time": "2023-10-22T20:07:58.267Z"
   },
   {
    "duration": 219,
    "start_time": "2023-10-22T20:07:58.475Z"
   },
   {
    "duration": 343,
    "start_time": "2023-10-22T20:07:58.696Z"
   },
   {
    "duration": 209,
    "start_time": "2023-10-22T20:07:59.042Z"
   },
   {
    "duration": 962,
    "start_time": "2023-10-22T20:07:59.253Z"
   },
   {
    "duration": 4,
    "start_time": "2023-10-22T20:08:00.217Z"
   },
   {
    "duration": 358,
    "start_time": "2023-10-22T20:08:00.223Z"
   },
   {
    "duration": 6,
    "start_time": "2023-10-22T20:08:00.584Z"
   },
   {
    "duration": 30,
    "start_time": "2023-10-22T20:08:00.592Z"
   },
   {
    "duration": 79,
    "start_time": "2023-10-22T20:08:00.624Z"
   },
   {
    "duration": 32,
    "start_time": "2023-10-22T20:08:00.704Z"
   },
   {
    "duration": 36,
    "start_time": "2023-10-22T20:08:00.738Z"
   },
   {
    "duration": 61,
    "start_time": "2023-10-22T20:08:00.776Z"
   },
   {
    "duration": 11,
    "start_time": "2023-10-22T20:08:00.839Z"
   },
   {
    "duration": 15,
    "start_time": "2023-10-22T20:08:46.374Z"
   },
   {
    "duration": 29,
    "start_time": "2023-10-22T20:09:19.914Z"
   },
   {
    "duration": 20,
    "start_time": "2023-10-22T20:09:29.890Z"
   },
   {
    "duration": 20,
    "start_time": "2023-10-22T20:09:34.454Z"
   },
   {
    "duration": 20,
    "start_time": "2023-10-22T20:09:37.420Z"
   },
   {
    "duration": 19,
    "start_time": "2023-10-22T20:09:43.907Z"
   },
   {
    "duration": 22,
    "start_time": "2023-10-22T20:09:54.964Z"
   },
   {
    "duration": 19,
    "start_time": "2023-10-22T20:10:00.910Z"
   },
   {
    "duration": 29,
    "start_time": "2023-10-22T20:10:31.697Z"
   },
   {
    "duration": 213,
    "start_time": "2023-10-22T20:12:56.301Z"
   },
   {
    "duration": 223,
    "start_time": "2023-10-22T20:13:03.115Z"
   },
   {
    "duration": 4,
    "start_time": "2023-10-22T20:13:44.097Z"
   },
   {
    "duration": 212,
    "start_time": "2023-10-22T20:13:47.886Z"
   },
   {
    "duration": 193,
    "start_time": "2023-10-22T20:16:04.663Z"
   },
   {
    "duration": 269,
    "start_time": "2023-10-22T20:24:13.603Z"
   },
   {
    "duration": 167,
    "start_time": "2023-10-22T20:24:32.590Z"
   },
   {
    "duration": 165,
    "start_time": "2023-10-22T20:25:21.674Z"
   },
   {
    "duration": 289,
    "start_time": "2023-10-22T20:26:34.877Z"
   },
   {
    "duration": 163,
    "start_time": "2023-10-22T20:26:42.295Z"
   },
   {
    "duration": 191,
    "start_time": "2023-10-22T20:27:02.186Z"
   },
   {
    "duration": 181,
    "start_time": "2023-10-22T20:28:05.994Z"
   },
   {
    "duration": 166,
    "start_time": "2023-10-22T20:28:15.780Z"
   },
   {
    "duration": 179,
    "start_time": "2023-10-22T20:29:20.122Z"
   },
   {
    "duration": 194,
    "start_time": "2023-10-22T20:29:26.837Z"
   },
   {
    "duration": 2057,
    "start_time": "2023-10-22T20:31:57.875Z"
   },
   {
    "duration": 177,
    "start_time": "2023-10-22T20:32:11.859Z"
   },
   {
    "duration": 173,
    "start_time": "2023-10-22T20:33:17.258Z"
   },
   {
    "duration": 2308,
    "start_time": "2023-10-22T20:33:33.880Z"
   },
   {
    "duration": 1206,
    "start_time": "2023-10-22T20:33:36.191Z"
   },
   {
    "duration": 92,
    "start_time": "2023-10-22T20:33:37.399Z"
   },
   {
    "duration": 12,
    "start_time": "2023-10-22T20:33:37.494Z"
   },
   {
    "duration": 13,
    "start_time": "2023-10-22T20:33:37.508Z"
   },
   {
    "duration": 20,
    "start_time": "2023-10-22T20:33:37.523Z"
   },
   {
    "duration": 18,
    "start_time": "2023-10-22T20:33:37.545Z"
   },
   {
    "duration": 17,
    "start_time": "2023-10-22T20:33:37.565Z"
   },
   {
    "duration": 20,
    "start_time": "2023-10-22T20:33:37.585Z"
   },
   {
    "duration": 216,
    "start_time": "2023-10-22T20:33:37.608Z"
   },
   {
    "duration": 105,
    "start_time": "2023-10-22T20:33:37.826Z"
   },
   {
    "duration": 6,
    "start_time": "2023-10-22T20:33:37.933Z"
   },
   {
    "duration": 227,
    "start_time": "2023-10-22T20:33:37.941Z"
   },
   {
    "duration": 187,
    "start_time": "2023-10-22T20:33:38.169Z"
   },
   {
    "duration": 153,
    "start_time": "2023-10-22T20:33:38.358Z"
   },
   {
    "duration": 13,
    "start_time": "2023-10-22T20:33:38.513Z"
   },
   {
    "duration": 195,
    "start_time": "2023-10-22T20:33:38.528Z"
   },
   {
    "duration": 180,
    "start_time": "2023-10-22T20:33:38.725Z"
   },
   {
    "duration": 15,
    "start_time": "2023-10-22T20:33:38.908Z"
   },
   {
    "duration": 72,
    "start_time": "2023-10-22T20:33:38.925Z"
   },
   {
    "duration": 81,
    "start_time": "2023-10-22T20:33:38.999Z"
   },
   {
    "duration": 30,
    "start_time": "2023-10-22T20:33:39.082Z"
   },
   {
    "duration": 21,
    "start_time": "2023-10-22T20:33:39.114Z"
   },
   {
    "duration": 197,
    "start_time": "2023-10-22T20:33:39.137Z"
   },
   {
    "duration": 180,
    "start_time": "2023-10-22T20:33:39.336Z"
   },
   {
    "duration": 258,
    "start_time": "2023-10-22T20:33:39.518Z"
   },
   {
    "duration": 177,
    "start_time": "2023-10-22T20:33:39.778Z"
   },
   {
    "duration": 888,
    "start_time": "2023-10-22T20:33:39.958Z"
   },
   {
    "duration": 9,
    "start_time": "2023-10-22T20:33:40.848Z"
   },
   {
    "duration": 221,
    "start_time": "2023-10-22T20:33:40.858Z"
   },
   {
    "duration": 6,
    "start_time": "2023-10-22T20:33:41.081Z"
   },
   {
    "duration": 9,
    "start_time": "2023-10-22T20:33:41.088Z"
   },
   {
    "duration": 12,
    "start_time": "2023-10-22T20:33:41.098Z"
   },
   {
    "duration": 11,
    "start_time": "2023-10-22T20:33:41.112Z"
   },
   {
    "duration": 26,
    "start_time": "2023-10-22T20:33:41.124Z"
   },
   {
    "duration": 45,
    "start_time": "2023-10-22T20:33:41.151Z"
   },
   {
    "duration": 5,
    "start_time": "2023-10-22T20:33:41.198Z"
   },
   {
    "duration": 194,
    "start_time": "2023-10-22T20:34:47.776Z"
   },
   {
    "duration": 182,
    "start_time": "2023-10-22T20:35:55.748Z"
   },
   {
    "duration": 170,
    "start_time": "2023-10-22T20:36:40.394Z"
   },
   {
    "duration": 183,
    "start_time": "2023-10-22T20:36:47.978Z"
   },
   {
    "duration": 163,
    "start_time": "2023-10-22T20:37:29.774Z"
   },
   {
    "duration": 157,
    "start_time": "2023-10-22T20:37:39.104Z"
   },
   {
    "duration": 201,
    "start_time": "2023-10-22T20:38:21.567Z"
   },
   {
    "duration": 289,
    "start_time": "2023-10-22T20:38:26.034Z"
   },
   {
    "duration": 226,
    "start_time": "2023-10-22T20:39:17.902Z"
   },
   {
    "duration": 217,
    "start_time": "2023-10-22T20:39:58.969Z"
   },
   {
    "duration": 204,
    "start_time": "2023-10-22T20:40:55.963Z"
   },
   {
    "duration": 12,
    "start_time": "2023-10-22T20:42:13.608Z"
   },
   {
    "duration": 10,
    "start_time": "2023-10-22T20:42:26.226Z"
   },
   {
    "duration": 11,
    "start_time": "2023-10-22T20:42:53.638Z"
   },
   {
    "duration": 10,
    "start_time": "2023-10-22T20:42:53.923Z"
   },
   {
    "duration": 12,
    "start_time": "2023-10-22T20:43:37.965Z"
   },
   {
    "duration": 10,
    "start_time": "2023-10-22T20:45:00.762Z"
   },
   {
    "duration": 11,
    "start_time": "2023-10-22T20:45:11.161Z"
   },
   {
    "duration": 2422,
    "start_time": "2023-10-22T20:45:42.218Z"
   },
   {
    "duration": 1299,
    "start_time": "2023-10-22T20:45:44.643Z"
   },
   {
    "duration": 92,
    "start_time": "2023-10-22T20:45:45.944Z"
   },
   {
    "duration": 12,
    "start_time": "2023-10-22T20:45:46.038Z"
   },
   {
    "duration": 21,
    "start_time": "2023-10-22T20:45:46.052Z"
   },
   {
    "duration": 20,
    "start_time": "2023-10-22T20:45:46.074Z"
   },
   {
    "duration": 29,
    "start_time": "2023-10-22T20:45:46.096Z"
   },
   {
    "duration": 10,
    "start_time": "2023-10-22T20:45:46.127Z"
   },
   {
    "duration": 25,
    "start_time": "2023-10-22T20:45:46.138Z"
   },
   {
    "duration": 230,
    "start_time": "2023-10-22T20:45:46.166Z"
   },
   {
    "duration": 106,
    "start_time": "2023-10-22T20:45:46.398Z"
   },
   {
    "duration": 5,
    "start_time": "2023-10-22T20:45:46.505Z"
   },
   {
    "duration": 203,
    "start_time": "2023-10-22T20:45:46.512Z"
   },
   {
    "duration": 223,
    "start_time": "2023-10-22T20:45:46.718Z"
   },
   {
    "duration": 174,
    "start_time": "2023-10-22T20:45:46.943Z"
   },
   {
    "duration": 14,
    "start_time": "2023-10-22T20:45:47.119Z"
   },
   {
    "duration": 199,
    "start_time": "2023-10-22T20:45:47.135Z"
   },
   {
    "duration": 177,
    "start_time": "2023-10-22T20:45:47.336Z"
   },
   {
    "duration": 12,
    "start_time": "2023-10-22T20:45:47.514Z"
   },
   {
    "duration": 27,
    "start_time": "2023-10-22T20:45:47.529Z"
   },
   {
    "duration": 27,
    "start_time": "2023-10-22T20:45:47.559Z"
   },
   {
    "duration": 28,
    "start_time": "2023-10-22T20:45:47.588Z"
   },
   {
    "duration": 37,
    "start_time": "2023-10-22T20:45:47.619Z"
   },
   {
    "duration": 10,
    "start_time": "2023-10-22T20:45:47.659Z"
   },
   {
    "duration": 9,
    "start_time": "2023-10-22T20:45:47.671Z"
   },
   {
    "duration": 14,
    "start_time": "2023-10-22T20:45:47.682Z"
   },
   {
    "duration": 9,
    "start_time": "2023-10-22T20:45:47.698Z"
   },
   {
    "duration": 224,
    "start_time": "2023-10-22T20:45:47.710Z"
   },
   {
    "duration": 229,
    "start_time": "2023-10-22T20:45:47.936Z"
   },
   {
    "duration": 1097,
    "start_time": "2023-10-22T20:45:48.167Z"
   },
   {
    "duration": 4,
    "start_time": "2023-10-22T20:45:49.266Z"
   },
   {
    "duration": 253,
    "start_time": "2023-10-22T20:45:49.271Z"
   },
   {
    "duration": 5,
    "start_time": "2023-10-22T20:45:49.526Z"
   },
   {
    "duration": 28,
    "start_time": "2023-10-22T20:45:49.533Z"
   },
   {
    "duration": 12,
    "start_time": "2023-10-22T20:45:49.563Z"
   },
   {
    "duration": 6,
    "start_time": "2023-10-22T20:45:49.577Z"
   },
   {
    "duration": 9,
    "start_time": "2023-10-22T20:45:49.585Z"
   },
   {
    "duration": 35,
    "start_time": "2023-10-22T20:45:49.595Z"
   },
   {
    "duration": 28,
    "start_time": "2023-10-22T20:45:49.632Z"
   },
   {
    "duration": 196,
    "start_time": "2023-10-22T20:48:30.099Z"
   },
   {
    "duration": 206,
    "start_time": "2023-10-22T20:48:38.477Z"
   },
   {
    "duration": 199,
    "start_time": "2023-10-22T20:48:45.640Z"
   },
   {
    "duration": 198,
    "start_time": "2023-10-22T20:49:24.045Z"
   },
   {
    "duration": 195,
    "start_time": "2023-10-22T20:50:52.416Z"
   },
   {
    "duration": 294,
    "start_time": "2023-10-22T20:51:02.137Z"
   },
   {
    "duration": 191,
    "start_time": "2023-10-22T20:51:12.991Z"
   },
   {
    "duration": 229,
    "start_time": "2023-10-22T20:51:15.359Z"
   },
   {
    "duration": 192,
    "start_time": "2023-10-22T20:51:27.485Z"
   },
   {
    "duration": 316,
    "start_time": "2023-10-22T20:52:06.518Z"
   },
   {
    "duration": 204,
    "start_time": "2023-10-22T20:52:10.417Z"
   },
   {
    "duration": 9,
    "start_time": "2023-10-22T20:56:24.375Z"
   },
   {
    "duration": 2434,
    "start_time": "2023-10-22T20:56:33.437Z"
   },
   {
    "duration": 1265,
    "start_time": "2023-10-22T20:56:35.873Z"
   },
   {
    "duration": 91,
    "start_time": "2023-10-22T20:56:37.139Z"
   },
   {
    "duration": 12,
    "start_time": "2023-10-22T20:56:37.233Z"
   },
   {
    "duration": 19,
    "start_time": "2023-10-22T20:56:37.247Z"
   },
   {
    "duration": 12,
    "start_time": "2023-10-22T20:56:37.269Z"
   },
   {
    "duration": 22,
    "start_time": "2023-10-22T20:56:37.283Z"
   },
   {
    "duration": 8,
    "start_time": "2023-10-22T20:56:37.307Z"
   },
   {
    "duration": 13,
    "start_time": "2023-10-22T20:56:37.317Z"
   },
   {
    "duration": 234,
    "start_time": "2023-10-22T20:56:37.333Z"
   },
   {
    "duration": 108,
    "start_time": "2023-10-22T20:56:37.569Z"
   },
   {
    "duration": 5,
    "start_time": "2023-10-22T20:56:37.679Z"
   },
   {
    "duration": 213,
    "start_time": "2023-10-22T20:56:37.686Z"
   },
   {
    "duration": 220,
    "start_time": "2023-10-22T20:56:37.902Z"
   },
   {
    "duration": 164,
    "start_time": "2023-10-22T20:56:38.124Z"
   },
   {
    "duration": 12,
    "start_time": "2023-10-22T20:56:38.290Z"
   },
   {
    "duration": 192,
    "start_time": "2023-10-22T20:56:38.305Z"
   },
   {
    "duration": 159,
    "start_time": "2023-10-22T20:56:38.499Z"
   },
   {
    "duration": 13,
    "start_time": "2023-10-22T20:56:38.660Z"
   },
   {
    "duration": 10,
    "start_time": "2023-10-22T20:56:38.674Z"
   },
   {
    "duration": 30,
    "start_time": "2023-10-22T20:56:38.686Z"
   },
   {
    "duration": 54,
    "start_time": "2023-10-22T20:56:38.717Z"
   },
   {
    "duration": 12,
    "start_time": "2023-10-22T20:56:38.773Z"
   },
   {
    "duration": 8,
    "start_time": "2023-10-22T20:56:38.787Z"
   },
   {
    "duration": 13,
    "start_time": "2023-10-22T20:56:38.797Z"
   },
   {
    "duration": 34,
    "start_time": "2023-10-22T20:56:38.812Z"
   },
   {
    "duration": 12,
    "start_time": "2023-10-22T20:56:38.857Z"
   },
   {
    "duration": 254,
    "start_time": "2023-10-22T20:56:38.874Z"
   },
   {
    "duration": 228,
    "start_time": "2023-10-22T20:56:39.130Z"
   },
   {
    "duration": 904,
    "start_time": "2023-10-22T20:56:39.360Z"
   },
   {
    "duration": 7,
    "start_time": "2023-10-22T20:56:40.266Z"
   },
   {
    "duration": 7,
    "start_time": "2023-10-22T20:56:40.275Z"
   },
   {
    "duration": 244,
    "start_time": "2023-10-22T20:56:40.283Z"
   },
   {
    "duration": 6,
    "start_time": "2023-10-22T20:56:40.529Z"
   },
   {
    "duration": 21,
    "start_time": "2023-10-22T20:56:40.537Z"
   },
   {
    "duration": 27,
    "start_time": "2023-10-22T20:56:40.560Z"
   },
   {
    "duration": 6,
    "start_time": "2023-10-22T20:56:40.589Z"
   },
   {
    "duration": 5,
    "start_time": "2023-10-22T20:56:40.597Z"
   },
   {
    "duration": 35,
    "start_time": "2023-10-22T20:56:40.604Z"
   },
   {
    "duration": 6,
    "start_time": "2023-10-22T20:56:40.641Z"
   },
   {
    "duration": 6,
    "start_time": "2023-10-22T20:59:47.738Z"
   },
   {
    "duration": 7,
    "start_time": "2023-10-22T21:03:58.268Z"
   },
   {
    "duration": 2421,
    "start_time": "2023-10-22T21:22:44.920Z"
   },
   {
    "duration": 1302,
    "start_time": "2023-10-22T21:22:47.344Z"
   },
   {
    "duration": 96,
    "start_time": "2023-10-22T21:22:48.648Z"
   },
   {
    "duration": 13,
    "start_time": "2023-10-22T21:22:48.747Z"
   },
   {
    "duration": 18,
    "start_time": "2023-10-22T21:22:48.763Z"
   },
   {
    "duration": 35,
    "start_time": "2023-10-22T21:22:48.783Z"
   },
   {
    "duration": 31,
    "start_time": "2023-10-22T21:22:48.820Z"
   },
   {
    "duration": 24,
    "start_time": "2023-10-22T21:22:48.853Z"
   },
   {
    "duration": 18,
    "start_time": "2023-10-22T21:22:48.879Z"
   },
   {
    "duration": 293,
    "start_time": "2023-10-22T21:22:48.901Z"
   },
   {
    "duration": 125,
    "start_time": "2023-10-22T21:22:49.196Z"
   },
   {
    "duration": 6,
    "start_time": "2023-10-22T21:22:49.323Z"
   },
   {
    "duration": 209,
    "start_time": "2023-10-22T21:22:49.331Z"
   },
   {
    "duration": 208,
    "start_time": "2023-10-22T21:22:49.543Z"
   },
   {
    "duration": 172,
    "start_time": "2023-10-22T21:22:49.753Z"
   },
   {
    "duration": 14,
    "start_time": "2023-10-22T21:22:49.927Z"
   },
   {
    "duration": 190,
    "start_time": "2023-10-22T21:22:49.957Z"
   },
   {
    "duration": 204,
    "start_time": "2023-10-22T21:22:50.148Z"
   },
   {
    "duration": 13,
    "start_time": "2023-10-22T21:22:50.357Z"
   },
   {
    "duration": 34,
    "start_time": "2023-10-22T21:22:50.372Z"
   },
   {
    "duration": 26,
    "start_time": "2023-10-22T21:22:50.408Z"
   },
   {
    "duration": 37,
    "start_time": "2023-10-22T21:22:50.436Z"
   },
   {
    "duration": 12,
    "start_time": "2023-10-22T21:22:50.475Z"
   },
   {
    "duration": 10,
    "start_time": "2023-10-22T21:22:50.488Z"
   },
   {
    "duration": 9,
    "start_time": "2023-10-22T21:22:50.500Z"
   },
   {
    "duration": 9,
    "start_time": "2023-10-22T21:22:50.511Z"
   },
   {
    "duration": 11,
    "start_time": "2023-10-22T21:22:50.557Z"
   },
   {
    "duration": 233,
    "start_time": "2023-10-22T21:22:50.573Z"
   },
   {
    "duration": 220,
    "start_time": "2023-10-22T21:22:50.808Z"
   },
   {
    "duration": 945,
    "start_time": "2023-10-22T21:22:51.030Z"
   },
   {
    "duration": 8,
    "start_time": "2023-10-22T21:22:51.977Z"
   },
   {
    "duration": 51,
    "start_time": "2023-10-22T21:22:51.987Z"
   },
   {
    "duration": 267,
    "start_time": "2023-10-22T21:22:52.040Z"
   },
   {
    "duration": 6,
    "start_time": "2023-10-22T21:22:52.309Z"
   },
   {
    "duration": 17,
    "start_time": "2023-10-22T21:22:52.317Z"
   },
   {
    "duration": 29,
    "start_time": "2023-10-22T21:22:52.337Z"
   },
   {
    "duration": 7,
    "start_time": "2023-10-22T21:22:52.368Z"
   },
   {
    "duration": 6,
    "start_time": "2023-10-22T21:22:52.378Z"
   },
   {
    "duration": 33,
    "start_time": "2023-10-22T21:22:52.386Z"
   },
   {
    "duration": 39,
    "start_time": "2023-10-22T21:22:52.421Z"
   },
   {
    "duration": 7,
    "start_time": "2023-10-22T21:35:23.653Z"
   },
   {
    "duration": 6,
    "start_time": "2023-10-22T21:35:31.742Z"
   },
   {
    "duration": 5,
    "start_time": "2023-10-22T21:35:37.028Z"
   },
   {
    "duration": 2448,
    "start_time": "2023-10-22T21:35:43.041Z"
   },
   {
    "duration": 1367,
    "start_time": "2023-10-22T21:35:45.492Z"
   },
   {
    "duration": 116,
    "start_time": "2023-10-22T21:35:46.860Z"
   },
   {
    "duration": 12,
    "start_time": "2023-10-22T21:35:46.979Z"
   },
   {
    "duration": 68,
    "start_time": "2023-10-22T21:35:46.993Z"
   },
   {
    "duration": 11,
    "start_time": "2023-10-22T21:35:47.063Z"
   },
   {
    "duration": 85,
    "start_time": "2023-10-22T21:35:47.076Z"
   },
   {
    "duration": 9,
    "start_time": "2023-10-22T21:35:47.163Z"
   },
   {
    "duration": 40,
    "start_time": "2023-10-22T21:35:47.174Z"
   },
   {
    "duration": 409,
    "start_time": "2023-10-22T21:35:47.258Z"
   },
   {
    "duration": 198,
    "start_time": "2023-10-22T21:35:47.669Z"
   },
   {
    "duration": 5,
    "start_time": "2023-10-22T21:35:47.869Z"
   },
   {
    "duration": 419,
    "start_time": "2023-10-22T21:35:47.875Z"
   },
   {
    "duration": 400,
    "start_time": "2023-10-22T21:35:48.296Z"
   },
   {
    "duration": 254,
    "start_time": "2023-10-22T21:35:48.698Z"
   },
   {
    "duration": 16,
    "start_time": "2023-10-22T21:35:48.957Z"
   },
   {
    "duration": 196,
    "start_time": "2023-10-22T21:35:48.976Z"
   },
   {
    "duration": 160,
    "start_time": "2023-10-22T21:35:49.174Z"
   },
   {
    "duration": 22,
    "start_time": "2023-10-22T21:35:49.336Z"
   },
   {
    "duration": 20,
    "start_time": "2023-10-22T21:35:49.360Z"
   },
   {
    "duration": 26,
    "start_time": "2023-10-22T21:35:49.382Z"
   },
   {
    "duration": 51,
    "start_time": "2023-10-22T21:35:49.410Z"
   },
   {
    "duration": 12,
    "start_time": "2023-10-22T21:35:49.463Z"
   },
   {
    "duration": 10,
    "start_time": "2023-10-22T21:35:49.477Z"
   },
   {
    "duration": 9,
    "start_time": "2023-10-22T21:35:49.488Z"
   },
   {
    "duration": 12,
    "start_time": "2023-10-22T21:35:49.499Z"
   },
   {
    "duration": 45,
    "start_time": "2023-10-22T21:35:49.513Z"
   },
   {
    "duration": 203,
    "start_time": "2023-10-22T21:35:49.562Z"
   },
   {
    "duration": 220,
    "start_time": "2023-10-22T21:35:49.767Z"
   },
   {
    "duration": 944,
    "start_time": "2023-10-22T21:35:49.989Z"
   },
   {
    "duration": 8,
    "start_time": "2023-10-22T21:35:50.935Z"
   },
   {
    "duration": 13,
    "start_time": "2023-10-22T21:35:50.945Z"
   },
   {
    "duration": 242,
    "start_time": "2023-10-22T21:35:50.960Z"
   },
   {
    "duration": 6,
    "start_time": "2023-10-22T21:35:51.204Z"
   },
   {
    "duration": 6,
    "start_time": "2023-10-22T21:35:51.212Z"
   },
   {
    "duration": 12,
    "start_time": "2023-10-22T21:35:51.219Z"
   },
   {
    "duration": 7,
    "start_time": "2023-10-22T21:35:51.257Z"
   },
   {
    "duration": 26,
    "start_time": "2023-10-22T21:35:51.265Z"
   },
   {
    "duration": 28,
    "start_time": "2023-10-22T21:35:51.293Z"
   },
   {
    "duration": 6,
    "start_time": "2023-10-22T21:35:51.323Z"
   },
   {
    "duration": 7,
    "start_time": "2023-10-22T21:36:03.815Z"
   },
   {
    "duration": 7,
    "start_time": "2023-10-22T21:36:18.100Z"
   },
   {
    "duration": 8,
    "start_time": "2023-10-22T21:36:26.864Z"
   },
   {
    "duration": 5,
    "start_time": "2023-10-22T21:36:36.949Z"
   },
   {
    "duration": 6,
    "start_time": "2023-10-22T21:36:40.871Z"
   },
   {
    "duration": 5,
    "start_time": "2023-10-22T21:36:44.456Z"
   },
   {
    "duration": 6,
    "start_time": "2023-10-22T21:36:50.450Z"
   },
   {
    "duration": 6,
    "start_time": "2023-10-22T21:36:55.045Z"
   },
   {
    "duration": 6,
    "start_time": "2023-10-22T21:37:01.699Z"
   },
   {
    "duration": 6,
    "start_time": "2023-10-22T21:37:08.087Z"
   },
   {
    "duration": 2485,
    "start_time": "2023-10-22T21:54:02.503Z"
   },
   {
    "duration": 1245,
    "start_time": "2023-10-22T21:54:04.990Z"
   },
   {
    "duration": 115,
    "start_time": "2023-10-22T21:54:06.237Z"
   },
   {
    "duration": 13,
    "start_time": "2023-10-22T21:54:06.354Z"
   },
   {
    "duration": 19,
    "start_time": "2023-10-22T21:54:06.369Z"
   },
   {
    "duration": 12,
    "start_time": "2023-10-22T21:54:06.390Z"
   },
   {
    "duration": 29,
    "start_time": "2023-10-22T21:54:06.403Z"
   },
   {
    "duration": 26,
    "start_time": "2023-10-22T21:54:06.433Z"
   },
   {
    "duration": 18,
    "start_time": "2023-10-22T21:54:06.461Z"
   },
   {
    "duration": 206,
    "start_time": "2023-10-22T21:54:06.483Z"
   },
   {
    "duration": 118,
    "start_time": "2023-10-22T21:54:06.691Z"
   },
   {
    "duration": 9,
    "start_time": "2023-10-22T21:54:06.811Z"
   },
   {
    "duration": 215,
    "start_time": "2023-10-22T21:54:06.824Z"
   },
   {
    "duration": 195,
    "start_time": "2023-10-22T21:54:07.041Z"
   },
   {
    "duration": 149,
    "start_time": "2023-10-22T21:54:07.237Z"
   },
   {
    "duration": 11,
    "start_time": "2023-10-22T21:54:07.388Z"
   },
   {
    "duration": 186,
    "start_time": "2023-10-22T21:54:07.401Z"
   },
   {
    "duration": 154,
    "start_time": "2023-10-22T21:54:07.589Z"
   },
   {
    "duration": 18,
    "start_time": "2023-10-22T21:54:07.745Z"
   },
   {
    "duration": 19,
    "start_time": "2023-10-22T21:54:07.765Z"
   },
   {
    "duration": 30,
    "start_time": "2023-10-22T21:54:07.786Z"
   },
   {
    "duration": 42,
    "start_time": "2023-10-22T21:54:07.817Z"
   },
   {
    "duration": 12,
    "start_time": "2023-10-22T21:54:07.861Z"
   },
   {
    "duration": 18,
    "start_time": "2023-10-22T21:54:07.875Z"
   },
   {
    "duration": 13,
    "start_time": "2023-10-22T21:54:07.894Z"
   },
   {
    "duration": 9,
    "start_time": "2023-10-22T21:54:07.909Z"
   },
   {
    "duration": 8,
    "start_time": "2023-10-22T21:54:07.920Z"
   },
   {
    "duration": 237,
    "start_time": "2023-10-22T21:54:07.957Z"
   },
   {
    "duration": 200,
    "start_time": "2023-10-22T21:54:08.197Z"
   },
   {
    "duration": 949,
    "start_time": "2023-10-22T21:54:08.399Z"
   },
   {
    "duration": 11,
    "start_time": "2023-10-22T21:54:09.350Z"
   },
   {
    "duration": 13,
    "start_time": "2023-10-22T21:54:09.363Z"
   },
   {
    "duration": 237,
    "start_time": "2023-10-22T21:54:09.378Z"
   },
   {
    "duration": 6,
    "start_time": "2023-10-22T21:54:09.617Z"
   },
   {
    "duration": 9,
    "start_time": "2023-10-22T21:54:09.625Z"
   },
   {
    "duration": 27,
    "start_time": "2023-10-22T21:54:09.636Z"
   },
   {
    "duration": 19,
    "start_time": "2023-10-22T21:54:09.665Z"
   },
   {
    "duration": 24,
    "start_time": "2023-10-22T21:54:09.685Z"
   },
   {
    "duration": 46,
    "start_time": "2023-10-22T21:54:09.712Z"
   },
   {
    "duration": 9,
    "start_time": "2023-10-22T21:54:09.760Z"
   },
   {
    "duration": 3395,
    "start_time": "2023-10-23T09:40:14.373Z"
   },
   {
    "duration": 1193,
    "start_time": "2023-10-23T09:40:17.770Z"
   },
   {
    "duration": 215,
    "start_time": "2023-10-23T09:40:18.965Z"
   },
   {
    "duration": 11,
    "start_time": "2023-10-23T09:40:19.183Z"
   },
   {
    "duration": 25,
    "start_time": "2023-10-23T09:40:19.196Z"
   },
   {
    "duration": 17,
    "start_time": "2023-10-23T09:40:19.223Z"
   },
   {
    "duration": 26,
    "start_time": "2023-10-23T09:40:19.241Z"
   },
   {
    "duration": 8,
    "start_time": "2023-10-23T09:40:19.269Z"
   },
   {
    "duration": 13,
    "start_time": "2023-10-23T09:40:19.279Z"
   },
   {
    "duration": 209,
    "start_time": "2023-10-23T09:40:19.309Z"
   },
   {
    "duration": 108,
    "start_time": "2023-10-23T09:40:19.520Z"
   },
   {
    "duration": 5,
    "start_time": "2023-10-23T09:40:19.630Z"
   },
   {
    "duration": 243,
    "start_time": "2023-10-23T09:40:19.637Z"
   },
   {
    "duration": 191,
    "start_time": "2023-10-23T09:40:19.882Z"
   },
   {
    "duration": 160,
    "start_time": "2023-10-23T09:40:20.075Z"
   },
   {
    "duration": 11,
    "start_time": "2023-10-23T09:40:20.236Z"
   },
   {
    "duration": 207,
    "start_time": "2023-10-23T09:40:20.249Z"
   },
   {
    "duration": 172,
    "start_time": "2023-10-23T09:40:20.458Z"
   },
   {
    "duration": 12,
    "start_time": "2023-10-23T09:40:20.632Z"
   },
   {
    "duration": 23,
    "start_time": "2023-10-23T09:40:20.645Z"
   },
   {
    "duration": 46,
    "start_time": "2023-10-23T09:40:20.670Z"
   },
   {
    "duration": 28,
    "start_time": "2023-10-23T09:40:20.718Z"
   },
   {
    "duration": 12,
    "start_time": "2023-10-23T09:40:20.748Z"
   },
   {
    "duration": 35,
    "start_time": "2023-10-23T09:40:20.761Z"
   },
   {
    "duration": 20,
    "start_time": "2023-10-23T09:40:20.798Z"
   },
   {
    "duration": 42,
    "start_time": "2023-10-23T09:40:20.820Z"
   },
   {
    "duration": 20,
    "start_time": "2023-10-23T09:40:20.864Z"
   },
   {
    "duration": 202,
    "start_time": "2023-10-23T09:40:20.887Z"
   },
   {
    "duration": 222,
    "start_time": "2023-10-23T09:40:21.091Z"
   },
   {
    "duration": 939,
    "start_time": "2023-10-23T09:40:21.314Z"
   },
   {
    "duration": 7,
    "start_time": "2023-10-23T09:40:22.255Z"
   },
   {
    "duration": 32,
    "start_time": "2023-10-23T09:40:22.263Z"
   },
   {
    "duration": 268,
    "start_time": "2023-10-23T09:40:22.296Z"
   },
   {
    "duration": 6,
    "start_time": "2023-10-23T09:40:22.566Z"
   },
   {
    "duration": 50,
    "start_time": "2023-10-23T09:40:22.573Z"
   },
   {
    "duration": 29,
    "start_time": "2023-10-23T09:40:22.625Z"
   },
   {
    "duration": 6,
    "start_time": "2023-10-23T09:40:22.655Z"
   },
   {
    "duration": 47,
    "start_time": "2023-10-23T09:40:22.662Z"
   },
   {
    "duration": 58,
    "start_time": "2023-10-23T09:40:22.710Z"
   },
   {
    "duration": 22,
    "start_time": "2023-10-23T09:40:22.770Z"
   }
  ],
  "kernelspec": {
   "display_name": "Python 3 (ipykernel)",
   "language": "python",
   "name": "python3"
  },
  "language_info": {
   "codemirror_mode": {
    "name": "ipython",
    "version": 3
   },
   "file_extension": ".py",
   "mimetype": "text/x-python",
   "name": "python",
   "nbconvert_exporter": "python",
   "pygments_lexer": "ipython3",
   "version": "3.9.5"
  },
  "toc": {
   "base_numbering": 1,
   "nav_menu": {
    "height": "207px",
    "width": "323px"
   },
   "number_sections": true,
   "sideBar": true,
   "skip_h1_title": true,
   "title_cell": "Table of Contents",
   "title_sidebar": "Contents",
   "toc_cell": false,
   "toc_position": {
    "height": "calc(100% - 180px)",
    "left": "10px",
    "top": "150px",
    "width": "301px"
   },
   "toc_section_display": true,
   "toc_window_display": true
  }
 },
 "nbformat": 4,
 "nbformat_minor": 5
}
