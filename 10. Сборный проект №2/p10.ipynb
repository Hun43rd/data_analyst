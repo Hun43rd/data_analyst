{
 "cells": [
  {
   "cell_type": "markdown",
   "metadata": {},
   "source": [
    "# Сборный проект №2"
   ]
  },
  {
   "cell_type": "markdown",
   "metadata": {},
   "source": [
    "**Доброго времени суток! Меня зовут Айнур, тут часто спрашивают про «ты»/«вы», я рад любому формату.**\n",
    "\n",
    "В данном проекте я выстыпаю аналитиком стартапа, продающий продукты питания с помощью мобильного приложения. \n",
    "\n",
    "**Цель** - исследование поведений пользователей мобильного приложения.\n",
    "\n",
    "Можно выделить следующие **задачи**:\n",
    "- ознакомление с данными и предобработка;\n",
    "- исследовательский анализ данных;\n",
    "- анализ воронки событий\n",
    "- анализ результатов экспериментов.\n",
    "\n",
    "Сами пункты включают в себя подпункты. В данном проекте представлен один датасет.\n",
    "\n",
    "**P.S.** под строками кода я буду оставлять свои комментарии и делать небольшие выводы в таком формате: **<font color=\"green\">Комментарий:<font>** "
   ]
  },
  {
   "cell_type": "markdown",
   "metadata": {},
   "source": [
    "## Знакомство с датасетом"
   ]
  },
  {
   "cell_type": "code",
   "execution_count": 1,
   "metadata": {},
   "outputs": [],
   "source": [
    "import pandas as pd\n",
    "from scipy import stats as st\n",
    "from math import factorial, sqrt\n",
    "import matplotlib.pyplot as plt\n",
    "import seaborn as sns\n",
    "import numpy as np\n",
    "import math as mth\n",
    "#pd.set_option('max_colwidth', 130)\n",
    "import datetime as dt\n",
    "import scipy.stats as stats\n",
    "from datetime import datetime, timedelta\n",
    "#pd.set_option('display.float_format', '{:.2f}'.format)"
   ]
  },
  {
   "cell_type": "markdown",
   "metadata": {},
   "source": [
    "**<font color=\"green\">Комментарий:<font>** Импортирование библиотек."
   ]
  },
  {
   "cell_type": "code",
   "execution_count": 2,
   "metadata": {},
   "outputs": [],
   "source": [
    "def preprocessing(file):\n",
    "    print('Количество пропусков:')\n",
    "    print(file.isna().sum())\n",
    "    print('')\n",
    "    print('Количество дубликатов:')\n",
    "    print(file.duplicated().sum())\n",
    "    print('')\n",
    "    print('Доля дубликатов от общего числа записей:', round(file.duplicated().sum() / file.shape[0] * 100, 2), '%')"
   ]
  },
  {
   "cell_type": "markdown",
   "metadata": {},
   "source": [
    "**<font color=\"green\">Комментарий:<font>** Создание функции для визуального уменьшения кода. "
   ]
  },
  {
   "cell_type": "code",
   "execution_count": 3,
   "metadata": {},
   "outputs": [
    {
     "data": {
      "text/html": [
       "<div>\n",
       "<style scoped>\n",
       "    .dataframe tbody tr th:only-of-type {\n",
       "        vertical-align: middle;\n",
       "    }\n",
       "\n",
       "    .dataframe tbody tr th {\n",
       "        vertical-align: top;\n",
       "    }\n",
       "\n",
       "    .dataframe thead th {\n",
       "        text-align: right;\n",
       "    }\n",
       "</style>\n",
       "<table border=\"1\" class=\"dataframe\">\n",
       "  <thead>\n",
       "    <tr style=\"text-align: right;\">\n",
       "      <th></th>\n",
       "      <th>EventName</th>\n",
       "      <th>DeviceIDHash</th>\n",
       "      <th>EventTimestamp</th>\n",
       "      <th>ExpId</th>\n",
       "    </tr>\n",
       "  </thead>\n",
       "  <tbody>\n",
       "    <tr>\n",
       "      <th>0</th>\n",
       "      <td>MainScreenAppear</td>\n",
       "      <td>4575588528974610257</td>\n",
       "      <td>1564029816</td>\n",
       "      <td>246</td>\n",
       "    </tr>\n",
       "    <tr>\n",
       "      <th>1</th>\n",
       "      <td>MainScreenAppear</td>\n",
       "      <td>7416695313311560658</td>\n",
       "      <td>1564053102</td>\n",
       "      <td>246</td>\n",
       "    </tr>\n",
       "    <tr>\n",
       "      <th>2</th>\n",
       "      <td>PaymentScreenSuccessful</td>\n",
       "      <td>3518123091307005509</td>\n",
       "      <td>1564054127</td>\n",
       "      <td>248</td>\n",
       "    </tr>\n",
       "    <tr>\n",
       "      <th>3</th>\n",
       "      <td>CartScreenAppear</td>\n",
       "      <td>3518123091307005509</td>\n",
       "      <td>1564054127</td>\n",
       "      <td>248</td>\n",
       "    </tr>\n",
       "    <tr>\n",
       "      <th>4</th>\n",
       "      <td>PaymentScreenSuccessful</td>\n",
       "      <td>6217807653094995999</td>\n",
       "      <td>1564055322</td>\n",
       "      <td>248</td>\n",
       "    </tr>\n",
       "    <tr>\n",
       "      <th>...</th>\n",
       "      <td>...</td>\n",
       "      <td>...</td>\n",
       "      <td>...</td>\n",
       "      <td>...</td>\n",
       "    </tr>\n",
       "    <tr>\n",
       "      <th>244121</th>\n",
       "      <td>MainScreenAppear</td>\n",
       "      <td>4599628364049201812</td>\n",
       "      <td>1565212345</td>\n",
       "      <td>247</td>\n",
       "    </tr>\n",
       "    <tr>\n",
       "      <th>244122</th>\n",
       "      <td>MainScreenAppear</td>\n",
       "      <td>5849806612437486590</td>\n",
       "      <td>1565212439</td>\n",
       "      <td>246</td>\n",
       "    </tr>\n",
       "    <tr>\n",
       "      <th>244123</th>\n",
       "      <td>MainScreenAppear</td>\n",
       "      <td>5746969938801999050</td>\n",
       "      <td>1565212483</td>\n",
       "      <td>246</td>\n",
       "    </tr>\n",
       "    <tr>\n",
       "      <th>244124</th>\n",
       "      <td>MainScreenAppear</td>\n",
       "      <td>5746969938801999050</td>\n",
       "      <td>1565212498</td>\n",
       "      <td>246</td>\n",
       "    </tr>\n",
       "    <tr>\n",
       "      <th>244125</th>\n",
       "      <td>OffersScreenAppear</td>\n",
       "      <td>5746969938801999050</td>\n",
       "      <td>1565212517</td>\n",
       "      <td>246</td>\n",
       "    </tr>\n",
       "  </tbody>\n",
       "</table>\n",
       "<p>244126 rows × 4 columns</p>\n",
       "</div>"
      ],
      "text/plain": [
       "                      EventName         DeviceIDHash  EventTimestamp  ExpId\n",
       "0              MainScreenAppear  4575588528974610257      1564029816    246\n",
       "1              MainScreenAppear  7416695313311560658      1564053102    246\n",
       "2       PaymentScreenSuccessful  3518123091307005509      1564054127    248\n",
       "3              CartScreenAppear  3518123091307005509      1564054127    248\n",
       "4       PaymentScreenSuccessful  6217807653094995999      1564055322    248\n",
       "...                         ...                  ...             ...    ...\n",
       "244121         MainScreenAppear  4599628364049201812      1565212345    247\n",
       "244122         MainScreenAppear  5849806612437486590      1565212439    246\n",
       "244123         MainScreenAppear  5746969938801999050      1565212483    246\n",
       "244124         MainScreenAppear  5746969938801999050      1565212498    246\n",
       "244125       OffersScreenAppear  5746969938801999050      1565212517    246\n",
       "\n",
       "[244126 rows x 4 columns]"
      ]
     },
     "execution_count": 3,
     "metadata": {},
     "output_type": "execute_result"
    }
   ],
   "source": [
    "try:\n",
    "    data = pd.read_csv('/datasets/logs_exp.csv', sep='\\t')\n",
    "except:\n",
    "    data = pd.read_csv('logs_exp.csv', sep='\\t')\n",
    "data"
   ]
  },
  {
   "cell_type": "markdown",
   "metadata": {},
   "source": [
    "**<font color=\"green\">Комментарий:<font>** Чтение csv-файла"
   ]
  },
  {
   "cell_type": "code",
   "execution_count": 4,
   "metadata": {},
   "outputs": [],
   "source": [
    "data.columns = ['event', 'userid', 'date','group']"
   ]
  },
  {
   "cell_type": "markdown",
   "metadata": {},
   "source": [
    "**<font color=\"green\">Комментарий:<font>** Заменяем названия столбцов."
   ]
  },
  {
   "cell_type": "code",
   "execution_count": 5,
   "metadata": {},
   "outputs": [
    {
     "name": "stdout",
     "output_type": "stream",
     "text": [
      "<class 'pandas.core.frame.DataFrame'>\n",
      "RangeIndex: 244126 entries, 0 to 244125\n",
      "Data columns (total 4 columns):\n",
      " #   Column  Non-Null Count   Dtype \n",
      "---  ------  --------------   ----- \n",
      " 0   event   244126 non-null  object\n",
      " 1   userid  244126 non-null  int64 \n",
      " 2   date    244126 non-null  int64 \n",
      " 3   group   244126 non-null  int64 \n",
      "dtypes: int64(3), object(1)\n",
      "memory usage: 7.5+ MB\n"
     ]
    }
   ],
   "source": [
    "data.info()"
   ]
  },
  {
   "cell_type": "markdown",
   "metadata": {},
   "source": [
    "**<font color=\"green\">Комментарий:<font>** Всего **244126** записей, представлено 4 столбца, столбец `date` представлен в числовом формате, его нужно перевести в соответствующий формат."
   ]
  },
  {
   "cell_type": "code",
   "execution_count": 6,
   "metadata": {},
   "outputs": [
    {
     "name": "stdout",
     "output_type": "stream",
     "text": [
      "Количество пропусков:\n",
      "event     0\n",
      "userid    0\n",
      "date      0\n",
      "group     0\n",
      "dtype: int64\n",
      "\n",
      "Количество дубликатов:\n",
      "413\n",
      "\n",
      "Доля дубликатов от общего числа записей: 0.17 %\n"
     ]
    }
   ],
   "source": [
    "preprocessing(data)"
   ]
  },
  {
   "cell_type": "markdown",
   "metadata": {},
   "source": [
    "**<font color=\"green\">Комментарий:<font>** В датасете нет пропусков, но есть явные дубликаты, их нужно обработать."
   ]
  },
  {
   "cell_type": "markdown",
   "metadata": {},
   "source": [
    "**<font color=\"green\">Комментарий:<font>** Вывод по первой части:\n",
    "    \n",
    "В датафрейме **244126** записей, есть дубликаты, всего 4 столбца(название события, идентификатор пользователя, дата события и группа эксперимента)"
   ]
  },
  {
   "cell_type": "markdown",
   "metadata": {},
   "source": [
    "## Обработка данных"
   ]
  },
  {
   "cell_type": "code",
   "execution_count": 7,
   "metadata": {},
   "outputs": [],
   "source": [
    "data['date'] = pd.to_datetime(data['date'], unit='s')\n",
    "data['dt'] = pd.to_datetime(data['date'].dt.date)"
   ]
  },
  {
   "cell_type": "markdown",
   "metadata": {},
   "source": [
    "**<font color=\"green\">Комментарий:<font>** Переводим столбец `date` в формат даты и времени. Добавляем новый столбец с датой.\n",
    "    "
   ]
  },
  {
   "cell_type": "code",
   "execution_count": 8,
   "metadata": {},
   "outputs": [
    {
     "data": {
      "text/html": [
       "<div>\n",
       "<style scoped>\n",
       "    .dataframe tbody tr th:only-of-type {\n",
       "        vertical-align: middle;\n",
       "    }\n",
       "\n",
       "    .dataframe tbody tr th {\n",
       "        vertical-align: top;\n",
       "    }\n",
       "\n",
       "    .dataframe thead th {\n",
       "        text-align: right;\n",
       "    }\n",
       "</style>\n",
       "<table border=\"1\" class=\"dataframe\">\n",
       "  <thead>\n",
       "    <tr style=\"text-align: right;\">\n",
       "      <th></th>\n",
       "      <th>event</th>\n",
       "      <th>userid</th>\n",
       "      <th>date</th>\n",
       "      <th>group</th>\n",
       "      <th>dt</th>\n",
       "    </tr>\n",
       "  </thead>\n",
       "  <tbody>\n",
       "    <tr>\n",
       "      <th>0</th>\n",
       "      <td>MainScreenAppear</td>\n",
       "      <td>4575588528974610257</td>\n",
       "      <td>2019-07-25 04:43:36</td>\n",
       "      <td>246</td>\n",
       "      <td>2019-07-25</td>\n",
       "    </tr>\n",
       "    <tr>\n",
       "      <th>1</th>\n",
       "      <td>MainScreenAppear</td>\n",
       "      <td>7416695313311560658</td>\n",
       "      <td>2019-07-25 11:11:42</td>\n",
       "      <td>246</td>\n",
       "      <td>2019-07-25</td>\n",
       "    </tr>\n",
       "    <tr>\n",
       "      <th>2</th>\n",
       "      <td>PaymentScreenSuccessful</td>\n",
       "      <td>3518123091307005509</td>\n",
       "      <td>2019-07-25 11:28:47</td>\n",
       "      <td>248</td>\n",
       "      <td>2019-07-25</td>\n",
       "    </tr>\n",
       "    <tr>\n",
       "      <th>3</th>\n",
       "      <td>CartScreenAppear</td>\n",
       "      <td>3518123091307005509</td>\n",
       "      <td>2019-07-25 11:28:47</td>\n",
       "      <td>248</td>\n",
       "      <td>2019-07-25</td>\n",
       "    </tr>\n",
       "    <tr>\n",
       "      <th>4</th>\n",
       "      <td>PaymentScreenSuccessful</td>\n",
       "      <td>6217807653094995999</td>\n",
       "      <td>2019-07-25 11:48:42</td>\n",
       "      <td>248</td>\n",
       "      <td>2019-07-25</td>\n",
       "    </tr>\n",
       "    <tr>\n",
       "      <th>...</th>\n",
       "      <td>...</td>\n",
       "      <td>...</td>\n",
       "      <td>...</td>\n",
       "      <td>...</td>\n",
       "      <td>...</td>\n",
       "    </tr>\n",
       "    <tr>\n",
       "      <th>244121</th>\n",
       "      <td>MainScreenAppear</td>\n",
       "      <td>4599628364049201812</td>\n",
       "      <td>2019-08-07 21:12:25</td>\n",
       "      <td>247</td>\n",
       "      <td>2019-08-07</td>\n",
       "    </tr>\n",
       "    <tr>\n",
       "      <th>244122</th>\n",
       "      <td>MainScreenAppear</td>\n",
       "      <td>5849806612437486590</td>\n",
       "      <td>2019-08-07 21:13:59</td>\n",
       "      <td>246</td>\n",
       "      <td>2019-08-07</td>\n",
       "    </tr>\n",
       "    <tr>\n",
       "      <th>244123</th>\n",
       "      <td>MainScreenAppear</td>\n",
       "      <td>5746969938801999050</td>\n",
       "      <td>2019-08-07 21:14:43</td>\n",
       "      <td>246</td>\n",
       "      <td>2019-08-07</td>\n",
       "    </tr>\n",
       "    <tr>\n",
       "      <th>244124</th>\n",
       "      <td>MainScreenAppear</td>\n",
       "      <td>5746969938801999050</td>\n",
       "      <td>2019-08-07 21:14:58</td>\n",
       "      <td>246</td>\n",
       "      <td>2019-08-07</td>\n",
       "    </tr>\n",
       "    <tr>\n",
       "      <th>244125</th>\n",
       "      <td>OffersScreenAppear</td>\n",
       "      <td>5746969938801999050</td>\n",
       "      <td>2019-08-07 21:15:17</td>\n",
       "      <td>246</td>\n",
       "      <td>2019-08-07</td>\n",
       "    </tr>\n",
       "  </tbody>\n",
       "</table>\n",
       "<p>243713 rows × 5 columns</p>\n",
       "</div>"
      ],
      "text/plain": [
       "                          event               userid                date  \\\n",
       "0              MainScreenAppear  4575588528974610257 2019-07-25 04:43:36   \n",
       "1              MainScreenAppear  7416695313311560658 2019-07-25 11:11:42   \n",
       "2       PaymentScreenSuccessful  3518123091307005509 2019-07-25 11:28:47   \n",
       "3              CartScreenAppear  3518123091307005509 2019-07-25 11:28:47   \n",
       "4       PaymentScreenSuccessful  6217807653094995999 2019-07-25 11:48:42   \n",
       "...                         ...                  ...                 ...   \n",
       "244121         MainScreenAppear  4599628364049201812 2019-08-07 21:12:25   \n",
       "244122         MainScreenAppear  5849806612437486590 2019-08-07 21:13:59   \n",
       "244123         MainScreenAppear  5746969938801999050 2019-08-07 21:14:43   \n",
       "244124         MainScreenAppear  5746969938801999050 2019-08-07 21:14:58   \n",
       "244125       OffersScreenAppear  5746969938801999050 2019-08-07 21:15:17   \n",
       "\n",
       "        group         dt  \n",
       "0         246 2019-07-25  \n",
       "1         246 2019-07-25  \n",
       "2         248 2019-07-25  \n",
       "3         248 2019-07-25  \n",
       "4         248 2019-07-25  \n",
       "...       ...        ...  \n",
       "244121    247 2019-08-07  \n",
       "244122    246 2019-08-07  \n",
       "244123    246 2019-08-07  \n",
       "244124    246 2019-08-07  \n",
       "244125    246 2019-08-07  \n",
       "\n",
       "[243713 rows x 5 columns]"
      ]
     },
     "execution_count": 8,
     "metadata": {},
     "output_type": "execute_result"
    }
   ],
   "source": [
    "data.drop_duplicates()"
   ]
  },
  {
   "cell_type": "markdown",
   "metadata": {},
   "source": [
    "**<font color=\"green\">Комментарий:<font>** Удаляем явные дубликаты, новое число записей - **243713**"
   ]
  },
  {
   "cell_type": "code",
   "execution_count": 9,
   "metadata": {},
   "outputs": [
    {
     "name": "stdout",
     "output_type": "stream",
     "text": [
      "Минимальная исследуемая дата: 2019-07-25 04:43:36\n",
      "\n",
      "Максимальная исследуемая дата: 2019-08-07 21:15:17\n"
     ]
    }
   ],
   "source": [
    "print('Минимальная исследуемая дата:', data['date'].min())\n",
    "print()\n",
    "print('Максимальная исследуемая дата:', data['date'].max())"
   ]
  },
  {
   "cell_type": "markdown",
   "metadata": {},
   "source": [
    "**<font color=\"green\">Комментарий:<font>** Определяем диапазон исследования."
   ]
  },
  {
   "cell_type": "code",
   "execution_count": 10,
   "metadata": {},
   "outputs": [
    {
     "data": {
      "text/plain": [
       "array([], dtype=int64)"
      ]
     },
     "execution_count": 10,
     "metadata": {},
     "output_type": "execute_result"
    }
   ],
   "source": [
    "duplicat_users = np.intersect1d(data.query('group == \"246\"')['userid'].unique(), data.query('group == 247')['userid'].unique())\n",
    "duplicat_users"
   ]
  },
  {
   "cell_type": "markdown",
   "metadata": {},
   "source": [
    "**<font color=\"green\">Комментарий:<font>** В датасете нет пользователей, которые были бы в двух группах одновременно, это хорошо."
   ]
  },
  {
   "cell_type": "markdown",
   "metadata": {},
   "source": [
    "**<font color=\"green\">Комментарий:<font>** Вывод по первой части:\n",
    "    \n",
    "На данном этапе были обработаны данные, а именно удалены дубликаты, изменен тип данных для времени и добавлен новый столбец."
   ]
  },
  {
   "cell_type": "markdown",
   "metadata": {},
   "source": [
    "## Исследовательский анализ данных"
   ]
  },
  {
   "cell_type": "markdown",
   "metadata": {},
   "source": [
    "### Количество событий в логе"
   ]
  },
  {
   "cell_type": "code",
   "execution_count": 11,
   "metadata": {},
   "outputs": [
    {
     "name": "stdout",
     "output_type": "stream",
     "text": [
      "Список названия событий:\n",
      "['MainScreenAppear' 'PaymentScreenSuccessful' 'CartScreenAppear'\n",
      " 'OffersScreenAppear' 'Tutorial']\n",
      "\n",
      "Количество уникальных событий: 5\n"
     ]
    }
   ],
   "source": [
    "print('Список названия событий:')\n",
    "print(data['event'].unique())\n",
    "print()\n",
    "print('Количество уникальных событий:', len(data['event'].unique()))"
   ]
  },
  {
   "cell_type": "markdown",
   "metadata": {},
   "source": [
    "**<font color=\"green\">Комментарий:<font>** Всего представлено **5** уникальных событий."
   ]
  },
  {
   "cell_type": "markdown",
   "metadata": {},
   "source": [
    "### Количество уникальных пользователей в логе"
   ]
  },
  {
   "cell_type": "code",
   "execution_count": 12,
   "metadata": {},
   "outputs": [
    {
     "data": {
      "text/plain": [
       "7551"
      ]
     },
     "execution_count": 12,
     "metadata": {},
     "output_type": "execute_result"
    }
   ],
   "source": [
    "len(data['userid'].unique())"
   ]
  },
  {
   "cell_type": "markdown",
   "metadata": {},
   "source": [
    "**<font color=\"green\">Комментарий:<font>** исследование проводилось среди **75581** пользователей."
   ]
  },
  {
   "cell_type": "markdown",
   "metadata": {},
   "source": [
    "### Среднее количество событий в логе"
   ]
  },
  {
   "cell_type": "code",
   "execution_count": 13,
   "metadata": {},
   "outputs": [
    {
     "data": {
      "text/html": [
       "<div>\n",
       "<style scoped>\n",
       "    .dataframe tbody tr th:only-of-type {\n",
       "        vertical-align: middle;\n",
       "    }\n",
       "\n",
       "    .dataframe tbody tr th {\n",
       "        vertical-align: top;\n",
       "    }\n",
       "\n",
       "    .dataframe thead th {\n",
       "        text-align: right;\n",
       "    }\n",
       "</style>\n",
       "<table border=\"1\" class=\"dataframe\">\n",
       "  <thead>\n",
       "    <tr style=\"text-align: right;\">\n",
       "      <th></th>\n",
       "      <th>event</th>\n",
       "    </tr>\n",
       "    <tr>\n",
       "      <th>userid</th>\n",
       "      <th></th>\n",
       "    </tr>\n",
       "  </thead>\n",
       "  <tbody>\n",
       "    <tr>\n",
       "      <th>6888746892508752</th>\n",
       "      <td>1</td>\n",
       "    </tr>\n",
       "    <tr>\n",
       "      <th>6909561520679493</th>\n",
       "      <td>5</td>\n",
       "    </tr>\n",
       "    <tr>\n",
       "      <th>6922444491712477</th>\n",
       "      <td>47</td>\n",
       "    </tr>\n",
       "    <tr>\n",
       "      <th>7435777799948366</th>\n",
       "      <td>6</td>\n",
       "    </tr>\n",
       "    <tr>\n",
       "      <th>7702139951469979</th>\n",
       "      <td>137</td>\n",
       "    </tr>\n",
       "    <tr>\n",
       "      <th>...</th>\n",
       "      <td>...</td>\n",
       "    </tr>\n",
       "    <tr>\n",
       "      <th>9217594193087726423</th>\n",
       "      <td>9</td>\n",
       "    </tr>\n",
       "    <tr>\n",
       "      <th>9219463515465815368</th>\n",
       "      <td>17</td>\n",
       "    </tr>\n",
       "    <tr>\n",
       "      <th>9220879493065341500</th>\n",
       "      <td>7</td>\n",
       "    </tr>\n",
       "    <tr>\n",
       "      <th>9221926045299980007</th>\n",
       "      <td>7</td>\n",
       "    </tr>\n",
       "    <tr>\n",
       "      <th>9222603179720523844</th>\n",
       "      <td>59</td>\n",
       "    </tr>\n",
       "  </tbody>\n",
       "</table>\n",
       "<p>7551 rows × 1 columns</p>\n",
       "</div>"
      ],
      "text/plain": [
       "                     event\n",
       "userid                    \n",
       "6888746892508752         1\n",
       "6909561520679493         5\n",
       "6922444491712477        47\n",
       "7435777799948366         6\n",
       "7702139951469979       137\n",
       "...                    ...\n",
       "9217594193087726423      9\n",
       "9219463515465815368     17\n",
       "9220879493065341500      7\n",
       "9221926045299980007      7\n",
       "9222603179720523844     59\n",
       "\n",
       "[7551 rows x 1 columns]"
      ]
     },
     "execution_count": 13,
     "metadata": {},
     "output_type": "execute_result"
    }
   ],
   "source": [
    "wsx = data.pivot_table(index='userid', values='event', aggfunc=('count'))\n",
    "wsx"
   ]
  },
  {
   "cell_type": "code",
   "execution_count": 14,
   "metadata": {},
   "outputs": [
    {
     "name": "stdout",
     "output_type": "stream",
     "text": [
      "Среднее количество событий на одного пользовтеля: 32\n"
     ]
    }
   ],
   "source": [
    "print('Среднее количество событий на одного пользовтеля:', round(wsx['event'].sum()/len(data['userid'].unique())))"
   ]
  },
  {
   "cell_type": "markdown",
   "metadata": {},
   "source": [
    "**<font color=\"green\">Комментарий:<font>** На одного пользователея приходится в среднем **32** события."
   ]
  },
  {
   "cell_type": "code",
   "execution_count": 15,
   "metadata": {},
   "outputs": [
    {
     "data": {
      "text/html": [
       "<div>\n",
       "<style scoped>\n",
       "    .dataframe tbody tr th:only-of-type {\n",
       "        vertical-align: middle;\n",
       "    }\n",
       "\n",
       "    .dataframe tbody tr th {\n",
       "        vertical-align: top;\n",
       "    }\n",
       "\n",
       "    .dataframe thead th {\n",
       "        text-align: right;\n",
       "    }\n",
       "</style>\n",
       "<table border=\"1\" class=\"dataframe\">\n",
       "  <thead>\n",
       "    <tr style=\"text-align: right;\">\n",
       "      <th></th>\n",
       "      <th>event</th>\n",
       "    </tr>\n",
       "  </thead>\n",
       "  <tbody>\n",
       "    <tr>\n",
       "      <th>count</th>\n",
       "      <td>7551.000000</td>\n",
       "    </tr>\n",
       "    <tr>\n",
       "      <th>mean</th>\n",
       "      <td>32.330287</td>\n",
       "    </tr>\n",
       "    <tr>\n",
       "      <th>std</th>\n",
       "      <td>65.312344</td>\n",
       "    </tr>\n",
       "    <tr>\n",
       "      <th>min</th>\n",
       "      <td>1.000000</td>\n",
       "    </tr>\n",
       "    <tr>\n",
       "      <th>25%</th>\n",
       "      <td>9.000000</td>\n",
       "    </tr>\n",
       "    <tr>\n",
       "      <th>50%</th>\n",
       "      <td>20.000000</td>\n",
       "    </tr>\n",
       "    <tr>\n",
       "      <th>75%</th>\n",
       "      <td>37.500000</td>\n",
       "    </tr>\n",
       "    <tr>\n",
       "      <th>max</th>\n",
       "      <td>2308.000000</td>\n",
       "    </tr>\n",
       "  </tbody>\n",
       "</table>\n",
       "</div>"
      ],
      "text/plain": [
       "             event\n",
       "count  7551.000000\n",
       "mean     32.330287\n",
       "std      65.312344\n",
       "min       1.000000\n",
       "25%       9.000000\n",
       "50%      20.000000\n",
       "75%      37.500000\n",
       "max    2308.000000"
      ]
     },
     "execution_count": 15,
     "metadata": {},
     "output_type": "execute_result"
    }
   ],
   "source": [
    "wsx.describe()"
   ]
  },
  {
   "cell_type": "markdown",
   "metadata": {},
   "source": [
    "<div class=\"alert alert-info\"> <b>Комментарий №2:</b> По медианому значения на одного пользователя приходится **20** событий."
   ]
  },
  {
   "cell_type": "markdown",
   "metadata": {},
   "source": [
    "### Определение диапазона исследования"
   ]
  },
  {
   "cell_type": "markdown",
   "metadata": {},
   "source": [
    "**<font color=\"green\">Комментарий:<font>** Ранее мы определили максимальную и минимальную даты:\n",
    "\n",
    "Минимальная исследуемая дата: 2019-07-25 04:43:36\n",
    "\n",
    "Максимальная исследуемая дата: 2019-08-07 21:15:17"
   ]
  },
  {
   "cell_type": "code",
   "execution_count": 16,
   "metadata": {},
   "outputs": [
    {
     "data": {
      "image/png": "[encoded data removed]",
      "text/plain": [
       "<Figure size 1080x720 with 1 Axes>"
      ]
     },
     "metadata": {
      "needs_background": "light"
     },
     "output_type": "display_data"
    }
   ],
   "source": [
    "data.pivot_table(index='dt', values='event', aggfunc=('count'))\\\n",
    ".plot(kind='bar', title='Распределение событий по дням', figsize=(15, 10),color = \"lightblue\");\n",
    "plt.xlabel('Дата');\n",
    "plt.grid()\n",
    "plt.ylabel('Количество событий');"
   ]
  },
  {
   "cell_type": "markdown",
   "metadata": {},
   "source": [
    "**<font color=\"green\">Комментарий:<font>** На графике видим, что в июле месяце неполные данные. Технически в логи новых дней по некоторым пользователям могут «доезжать» события из прошлого — это может «перекашивать данные». Следовательно весь июль месяц получился неполным.\n",
    "    \n",
    "Будем работать с данными за август месяц, отбросив данные июля. Перед этим рассмотрим данные июля месяца:"
   ]
  },
  {
   "cell_type": "code",
   "execution_count": 17,
   "metadata": {},
   "outputs": [
    {
     "data": {
      "image/png": "[encoded data removed]",
      "text/plain": [
       "<Figure size 1080x720 with 1 Axes>"
      ]
     },
     "metadata": {
      "needs_background": "light"
     },
     "output_type": "display_data"
    }
   ],
   "source": [
    "datafilt = data.query('dt < \"2019-08-01\"')\n",
    "datafilt.pivot_table(index='dt', values='event', aggfunc=('count'))\\\n",
    ".plot(kind='bar', title='Распределение событий по дням в июле', figsize=(15, 10),color = \"lightblue\");\n",
    "plt.xlabel('Дата');\n",
    "plt.grid()\n",
    "plt.ylabel('Количество событий');"
   ]
  },
  {
   "cell_type": "markdown",
   "metadata": {},
   "source": [
    "**<font color=\"green\">Комментарий:<font>** За первые шесть дней исследования, всего собрано около тысячи событий, на седьмой день - чуть более двух тысяч."
   ]
  },
  {
   "cell_type": "code",
   "execution_count": 18,
   "metadata": {},
   "outputs": [
    {
     "name": "stdout",
     "output_type": "stream",
     "text": [
      "2828\n"
     ]
    }
   ],
   "source": [
    "datafilt = datafilt.pivot_table(index='userid', values='event', aggfunc=('count')).reset_index()\n",
    "print(datafilt['event'].sum())"
   ]
  },
  {
   "cell_type": "markdown",
   "metadata": {},
   "source": [
    "**<font color=\"green\">Комментарий:<font>** Всего за июль - 2828 событий, отбросим их."
   ]
  },
  {
   "cell_type": "code",
   "execution_count": 19,
   "metadata": {},
   "outputs": [],
   "source": [
    "df = data.copy()\n",
    "df = data.query('dt >= \"2019-08-01\"')"
   ]
  },
  {
   "cell_type": "code",
   "execution_count": 20,
   "metadata": {},
   "outputs": [
    {
     "data": {
      "image/png": "[encoded data removed]",
      "text/plain": [
       "<Figure size 1080x720 with 1 Axes>"
      ]
     },
     "metadata": {
      "needs_background": "light"
     },
     "output_type": "display_data"
    }
   ],
   "source": [
    "df.pivot_table(index='dt', values='event', aggfunc=('count'))\\\n",
    ".plot(kind='bar', title='Распределение событий по дням в августе месяце', figsize=(15, 10),color = \"lightblue\");\n",
    "plt.xlabel('Дата');\n",
    "plt.grid()\n",
    "plt.ylabel('Количество событий');"
   ]
  },
  {
   "cell_type": "markdown",
   "metadata": {},
   "source": [
    "**<font color=\"green\">Комментарий:<font>** Создаем уже полноценный график."
   ]
  },
  {
   "cell_type": "code",
   "execution_count": 21,
   "metadata": {},
   "outputs": [
    {
     "data": {
      "text/plain": [
       "248    84726\n",
       "246    79425\n",
       "247    77147\n",
       "Name: group, dtype: int64"
      ]
     },
     "execution_count": 21,
     "metadata": {},
     "output_type": "execute_result"
    }
   ],
   "source": [
    "df['group'].value_counts()"
   ]
  },
  {
   "cell_type": "markdown",
   "metadata": {},
   "source": [
    "**<font color=\"green\">Комментарий:<font>** Да, все группы присутствуют в обновленном датасете."
   ]
  },
  {
   "cell_type": "code",
   "execution_count": 22,
   "metadata": {},
   "outputs": [
    {
     "name": "stdout",
     "output_type": "stream",
     "text": [
      "Доля июльских событий от общего числа: 1.16 %\n"
     ]
    }
   ],
   "source": [
    "print('Доля июльских событий от общего числа:', round(datafilt['event'].sum() / data.shape[0] * 100, 2), '%')"
   ]
  },
  {
   "cell_type": "code",
   "execution_count": 23,
   "metadata": {},
   "outputs": [
    {
     "name": "stdout",
     "output_type": "stream",
     "text": [
      "Доля июльских пользователей от общего числа: 19.22 %\n"
     ]
    }
   ],
   "source": [
    "print('Доля июльских пользователей от общего числа:',\\\n",
    "round(len(datafilt['userid'].unique()) / len(data['userid'].unique()) * 100, 2), '%')"
   ]
  },
  {
   "cell_type": "markdown",
   "metadata": {},
   "source": [
    "**<font color=\"green\">Комментарий:<font>** Вывод по третьей части:\n",
    "    \n",
    "Была определена временная рамка для дальнейшего исследования - начиная с **2019-08-01**, за июль хранится **2828** событий. На одного пользователя приходится **20** событий, всего **7551** пользователей. По обновленному графику можно сделать визуальный вывод, что события распределены **нормально**. Всего после обновления временных рамок мы теряем чуть более **1%** событий от общего числа и чуть менее **20%** уникальных пользователей."
   ]
  },
  {
   "cell_type": "markdown",
   "metadata": {},
   "source": [
    "## Анализ воронки событий"
   ]
  },
  {
   "cell_type": "markdown",
   "metadata": {},
   "source": [
    "### Частота событий в логах"
   ]
  },
  {
   "cell_type": "code",
   "execution_count": 24,
   "metadata": {},
   "outputs": [
    {
     "data": {
      "text/plain": [
       "MainScreenAppear           117431\n",
       "OffersScreenAppear          46350\n",
       "CartScreenAppear            42365\n",
       "PaymentScreenSuccessful     34113\n",
       "Tutorial                     1039\n",
       "Name: event, dtype: int64"
      ]
     },
     "execution_count": 24,
     "metadata": {},
     "output_type": "execute_result"
    }
   ],
   "source": [
    "df['event'].value_counts()"
   ]
  },
  {
   "cell_type": "markdown",
   "metadata": {},
   "source": [
    "**<font color=\"green\">Комментарий:<font>** Разберем события:\n",
    "Всего представлено 5 событий:\n",
    "    \n",
    "    1. Действия на главном экране, самое популярное событие, так как пользователь изначально появляется на главном экране при открытии приложения.\n",
    "    \n",
    "    2. Блок с каталогом, куда пользователь попадает при поиске нужного продукта.\n",
    "    \n",
    "    3. Корзина пользователя, где собраны товары, которые он \"положил\".\n",
    "    \n",
    "    4. Страница с успешным результатом оплаты корзины.\n",
    "    \n",
    "    5. Инструкция по пользованию приложения.\n",
    "    \n",
    "С каждым этапом количество действий пользователями уменьшается, что является естественным процессом при просмотре приложения. Также есть инструкция, которая помогает пользователям ориентироваться, но она не является обязательной частью при использовании приложения.  "
   ]
  },
  {
   "cell_type": "markdown",
   "metadata": {},
   "source": [
    "### Расчёт доли пользователей по событиям"
   ]
  },
  {
   "cell_type": "code",
   "execution_count": 25,
   "metadata": {},
   "outputs": [
    {
     "data": {
      "text/html": [
       "<style  type=\"text/css\" >\n",
       "</style><table id=\"T_79f66_\" ><thead>    <tr>        <th class=\"blank level0\" ></th>        <th class=\"col_heading level0 col0\" >event</th>        <th class=\"col_heading level0 col1\" >total_users</th>        <th class=\"col_heading level0 col2\" >percentage</th>    </tr></thead><tbody>\n",
       "                <tr>\n",
       "                        <th id=\"T_79f66_level0_row0\" class=\"row_heading level0 row0\" >0</th>\n",
       "                        <td id=\"T_79f66_row0_col0\" class=\"data row0 col0\" >MainScreenAppear</td>\n",
       "                        <td id=\"T_79f66_row0_col1\" class=\"data row0 col1\" >7419</td>\n",
       "                        <td id=\"T_79f66_row0_col2\" class=\"data row0 col2\" >98.25%</td>\n",
       "            </tr>\n",
       "            <tr>\n",
       "                        <th id=\"T_79f66_level0_row1\" class=\"row_heading level0 row1\" >1</th>\n",
       "                        <td id=\"T_79f66_row1_col0\" class=\"data row1 col0\" >OffersScreenAppear</td>\n",
       "                        <td id=\"T_79f66_row1_col1\" class=\"data row1 col1\" >4593</td>\n",
       "                        <td id=\"T_79f66_row1_col2\" class=\"data row1 col2\" >60.83%</td>\n",
       "            </tr>\n",
       "            <tr>\n",
       "                        <th id=\"T_79f66_level0_row2\" class=\"row_heading level0 row2\" >2</th>\n",
       "                        <td id=\"T_79f66_row2_col0\" class=\"data row2 col0\" >CartScreenAppear</td>\n",
       "                        <td id=\"T_79f66_row2_col1\" class=\"data row2 col1\" >3734</td>\n",
       "                        <td id=\"T_79f66_row2_col2\" class=\"data row2 col2\" >49.45%</td>\n",
       "            </tr>\n",
       "            <tr>\n",
       "                        <th id=\"T_79f66_level0_row3\" class=\"row_heading level0 row3\" >3</th>\n",
       "                        <td id=\"T_79f66_row3_col0\" class=\"data row3 col0\" >PaymentScreenSuccessful</td>\n",
       "                        <td id=\"T_79f66_row3_col1\" class=\"data row3 col1\" >3539</td>\n",
       "                        <td id=\"T_79f66_row3_col2\" class=\"data row3 col2\" >46.87%</td>\n",
       "            </tr>\n",
       "            <tr>\n",
       "                        <th id=\"T_79f66_level0_row4\" class=\"row_heading level0 row4\" >4</th>\n",
       "                        <td id=\"T_79f66_row4_col0\" class=\"data row4 col0\" >Tutorial</td>\n",
       "                        <td id=\"T_79f66_row4_col1\" class=\"data row4 col1\" >840</td>\n",
       "                        <td id=\"T_79f66_row4_col2\" class=\"data row4 col2\" >11.12%</td>\n",
       "            </tr>\n",
       "    </tbody></table>"
      ],
      "text/plain": [
       "<pandas.io.formats.style.Styler at 0x7f8a376bd640>"
      ]
     },
     "execution_count": 25,
     "metadata": {},
     "output_type": "execute_result"
    }
   ],
   "source": [
    "asd = df.groupby('event').agg({'userid':'nunique'})\\\n",
    ".sort_values(by='userid', ascending=False).reset_index().rename(columns={'userid' : 'total_users'})\n",
    "asd['percentage'] = asd['total_users'] / data['userid'].nunique()\n",
    "asd.style.format({'percentage': '{:.2%}'})"
   ]
  },
  {
   "cell_type": "markdown",
   "metadata": {},
   "source": [
    "**<font color=\"green\">Комментарий:<font>** С первого действия до оплаты товара доходят только 46% пользователей от общего числа."
   ]
  },
  {
   "cell_type": "markdown",
   "metadata": {},
   "source": [
    "### Предположение порядка событий"
   ]
  },
  {
   "cell_type": "markdown",
   "metadata": {},
   "source": [
    "**<font color=\"green\">Комментарий:<font>** Действия происходят в том порядке как представлено ранее, а именно по частоте пользователей, кроме действия \"Tutorial\", он не является обязательным. Скорее всего, его можно открыть на любом этапе либо на первых страницах приложения."
   ]
  },
  {
   "cell_type": "markdown",
   "metadata": {},
   "source": [
    "### Расчёт доли по событиям"
   ]
  },
  {
   "cell_type": "code",
   "execution_count": 26,
   "metadata": {
    "scrolled": true
   },
   "outputs": [
    {
     "data": {
      "text/plain": [
       "0    100.00\n",
       "1     61.91\n",
       "2     81.30\n",
       "3     94.78\n",
       "4     23.74\n",
       "Name: total_users, dtype: float64"
      ]
     },
     "execution_count": 26,
     "metadata": {},
     "output_type": "execute_result"
    }
   ],
   "source": [
    "q = [7419, 7419, 4593, 3734, 3539]\n",
    "ok = round(asd['total_users'] / q * 100, 2)\n",
    "ok"
   ]
  },
  {
   "cell_type": "code",
   "execution_count": 27,
   "metadata": {},
   "outputs": [
    {
     "data": {
      "text/html": [
       "<style  type=\"text/css\" >\n",
       "</style><table id=\"T_c92e7_\" ><thead>    <tr>        <th class=\"blank level0\" ></th>        <th class=\"col_heading level0 col0\" >event</th>        <th class=\"col_heading level0 col1\" >total_users</th>        <th class=\"col_heading level0 col2\" >percentage</th>        <th class=\"col_heading level0 col3\" >shift</th>        <th class=\"col_heading level0 col4\" >share</th>    </tr></thead><tbody>\n",
       "                <tr>\n",
       "                        <th id=\"T_c92e7_level0_row0\" class=\"row_heading level0 row0\" >0</th>\n",
       "                        <td id=\"T_c92e7_row0_col0\" class=\"data row0 col0\" >MainScreenAppear</td>\n",
       "                        <td id=\"T_c92e7_row0_col1\" class=\"data row0 col1\" >7419</td>\n",
       "                        <td id=\"T_c92e7_row0_col2\" class=\"data row0 col2\" >98.25%</td>\n",
       "                        <td id=\"T_c92e7_row0_col3\" class=\"data row0 col3\" >7419</td>\n",
       "                        <td id=\"T_c92e7_row0_col4\" class=\"data row0 col4\" >100.00%</td>\n",
       "            </tr>\n",
       "            <tr>\n",
       "                        <th id=\"T_c92e7_level0_row1\" class=\"row_heading level0 row1\" >1</th>\n",
       "                        <td id=\"T_c92e7_row1_col0\" class=\"data row1 col0\" >OffersScreenAppear</td>\n",
       "                        <td id=\"T_c92e7_row1_col1\" class=\"data row1 col1\" >4593</td>\n",
       "                        <td id=\"T_c92e7_row1_col2\" class=\"data row1 col2\" >60.83%</td>\n",
       "                        <td id=\"T_c92e7_row1_col3\" class=\"data row1 col3\" >7419</td>\n",
       "                        <td id=\"T_c92e7_row1_col4\" class=\"data row1 col4\" >61.91%</td>\n",
       "            </tr>\n",
       "            <tr>\n",
       "                        <th id=\"T_c92e7_level0_row2\" class=\"row_heading level0 row2\" >2</th>\n",
       "                        <td id=\"T_c92e7_row2_col0\" class=\"data row2 col0\" >CartScreenAppear</td>\n",
       "                        <td id=\"T_c92e7_row2_col1\" class=\"data row2 col1\" >3734</td>\n",
       "                        <td id=\"T_c92e7_row2_col2\" class=\"data row2 col2\" >49.45%</td>\n",
       "                        <td id=\"T_c92e7_row2_col3\" class=\"data row2 col3\" >4593</td>\n",
       "                        <td id=\"T_c92e7_row2_col4\" class=\"data row2 col4\" >81.30%</td>\n",
       "            </tr>\n",
       "            <tr>\n",
       "                        <th id=\"T_c92e7_level0_row3\" class=\"row_heading level0 row3\" >3</th>\n",
       "                        <td id=\"T_c92e7_row3_col0\" class=\"data row3 col0\" >PaymentScreenSuccessful</td>\n",
       "                        <td id=\"T_c92e7_row3_col1\" class=\"data row3 col1\" >3539</td>\n",
       "                        <td id=\"T_c92e7_row3_col2\" class=\"data row3 col2\" >46.87%</td>\n",
       "                        <td id=\"T_c92e7_row3_col3\" class=\"data row3 col3\" >3734</td>\n",
       "                        <td id=\"T_c92e7_row3_col4\" class=\"data row3 col4\" >94.78%</td>\n",
       "            </tr>\n",
       "            <tr>\n",
       "                        <th id=\"T_c92e7_level0_row4\" class=\"row_heading level0 row4\" >4</th>\n",
       "                        <td id=\"T_c92e7_row4_col0\" class=\"data row4 col0\" >Tutorial</td>\n",
       "                        <td id=\"T_c92e7_row4_col1\" class=\"data row4 col1\" >840</td>\n",
       "                        <td id=\"T_c92e7_row4_col2\" class=\"data row4 col2\" >11.12%</td>\n",
       "                        <td id=\"T_c92e7_row4_col3\" class=\"data row4 col3\" >3539</td>\n",
       "                        <td id=\"T_c92e7_row4_col4\" class=\"data row4 col4\" >23.74%</td>\n",
       "            </tr>\n",
       "    </tbody></table>"
      ],
      "text/plain": [
       "<pandas.io.formats.style.Styler at 0x7f8a2f021d60>"
      ]
     },
     "execution_count": 27,
     "metadata": {},
     "output_type": "execute_result"
    }
   ],
   "source": [
    "asd['shift'] = asd['total_users'].shift(fill_value=7419)\n",
    "asd['share'] = asd['total_users'] / asd['shift']\n",
    "asd.style.format({'percentage': '{:.2%}', 'share' : '{:.2%}'})"
   ]
  },
  {
   "cell_type": "markdown",
   "metadata": {},
   "source": [
    "**<font color=\"green\">Комментарий:<font>** Здесь можно сделать вывод, что пользователи, которые открыли свою корзину в 94% оплачивают товар. \"Tutorial\" показывает низкие результаты конверсии, но как сказано ранее - он не обязателен."
   ]
  },
  {
   "cell_type": "markdown",
   "metadata": {},
   "source": [
    "### Какая доля пользователей доходит от первого события до оплаты?"
   ]
  },
  {
   "cell_type": "code",
   "execution_count": 28,
   "metadata": {},
   "outputs": [
    {
     "name": "stdout",
     "output_type": "stream",
     "text": [
      "0.48\n"
     ]
    }
   ],
   "source": [
    "print(round(asd['total_users'].iloc[3] / asd['total_users'].iloc[0], 2))"
   ]
  },
  {
   "cell_type": "markdown",
   "metadata": {},
   "source": [
    "**<font color=\"green\">Комментарий:<font>** 48% пользователей доходят до оплаты товара."
   ]
  },
  {
   "cell_type": "markdown",
   "metadata": {},
   "source": [
    "**<font color=\"green\">Комментарий:<font>** Вывод по четвертой части:\n",
    "    \n",
    "Около половины пользователей, которые посетили главную страницу оплачивают свою корзину. Хорошая конверсия, но стоит учитывать, что это приложение по покупке товаров, можно акцентировать внимание на том, что пользователи приложений по покупке продуктов отличаются от пользователей приложений по покупке товаров, которые не являются продуктами. Вторым свойственно рассматривать товары, сравнивать, планировать свои покупки. Первые же нуждаются в продуктах в краткосрочной перспективе, поэтому их посещение более направлено на результат. "
   ]
  },
  {
   "cell_type": "markdown",
   "metadata": {},
   "source": [
    "## Анализ результатов эксперимента "
   ]
  },
  {
   "cell_type": "markdown",
   "metadata": {},
   "source": [
    "### Количество уникальных пользователей в каждой группе"
   ]
  },
  {
   "cell_type": "code",
   "execution_count": 29,
   "metadata": {
    "scrolled": true
   },
   "outputs": [
    {
     "name": "stderr",
     "output_type": "stream",
     "text": [
      "/opt/conda/lib/python3.9/site-packages/pandas/core/series.py:4509: SettingWithCopyWarning: \n",
      "A value is trying to be set on a copy of a slice from a DataFrame\n",
      "\n",
      "See the caveats in the documentation: https://pandas.pydata.org/pandas-docs/stable/user_guide/indexing.html#returning-a-view-versus-a-copy\n",
      "  return super().replace(\n"
     ]
    }
   ],
   "source": [
    "df['group'].replace(to_replace= (246,247,248), value = ('A1', 'A2', 'B'), inplace=True )"
   ]
  },
  {
   "cell_type": "code",
   "execution_count": 30,
   "metadata": {},
   "outputs": [
    {
     "name": "stdout",
     "output_type": "stream",
     "text": [
      "  group  total_users\n",
      "0     B         2537\n",
      "1    A2         2513\n",
      "2    A1         2484\n",
      "3  A1A2         4997\n"
     ]
    }
   ],
   "source": [
    "users = df.groupby('group').agg({'userid':'nunique'})\\\n",
    ".sort_values(by='userid', ascending=False).reset_index().rename(columns={'userid' : 'total_users'})\n",
    "users.loc[3] = ['A1A2', 4997]\n",
    "print(users)"
   ]
  },
  {
   "cell_type": "markdown",
   "metadata": {},
   "source": [
    "**<font color=\"green\">Комментарий:<font>** Между группами существует небольшая разница в диапазоне 55 пользователей."
   ]
  },
  {
   "cell_type": "markdown",
   "metadata": {},
   "source": [
    "### Подготовка общей таблицы для A/A и A/B эксперимента. А/А-эксперимент"
   ]
  },
  {
   "cell_type": "code",
   "execution_count": 31,
   "metadata": {},
   "outputs": [],
   "source": [
    "df = df.query('event != \"Tutorial\"')"
   ]
  },
  {
   "cell_type": "markdown",
   "metadata": {},
   "source": [
    "**<font color=\"green\">Комментарий:<font>** Удалим событие \"Tutorial\", так как оно не является обязательным событием и многие пользователи могут обойтись без него."
   ]
  },
  {
   "cell_type": "code",
   "execution_count": 32,
   "metadata": {},
   "outputs": [
    {
     "data": {
      "text/html": [
       "<div>\n",
       "<style scoped>\n",
       "    .dataframe tbody tr th:only-of-type {\n",
       "        vertical-align: middle;\n",
       "    }\n",
       "\n",
       "    .dataframe tbody tr th {\n",
       "        vertical-align: top;\n",
       "    }\n",
       "\n",
       "    .dataframe thead th {\n",
       "        text-align: right;\n",
       "    }\n",
       "</style>\n",
       "<table border=\"1\" class=\"dataframe\">\n",
       "  <thead>\n",
       "    <tr style=\"text-align: right;\">\n",
       "      <th>group</th>\n",
       "      <th>event</th>\n",
       "      <th>A1</th>\n",
       "      <th>A2</th>\n",
       "      <th>B</th>\n",
       "    </tr>\n",
       "  </thead>\n",
       "  <tbody>\n",
       "    <tr>\n",
       "      <th>0</th>\n",
       "      <td>CartScreenAppear</td>\n",
       "      <td>1266</td>\n",
       "      <td>1238</td>\n",
       "      <td>1230</td>\n",
       "    </tr>\n",
       "    <tr>\n",
       "      <th>1</th>\n",
       "      <td>MainScreenAppear</td>\n",
       "      <td>2450</td>\n",
       "      <td>2476</td>\n",
       "      <td>2493</td>\n",
       "    </tr>\n",
       "    <tr>\n",
       "      <th>2</th>\n",
       "      <td>OffersScreenAppear</td>\n",
       "      <td>1542</td>\n",
       "      <td>1520</td>\n",
       "      <td>1531</td>\n",
       "    </tr>\n",
       "    <tr>\n",
       "      <th>3</th>\n",
       "      <td>PaymentScreenSuccessful</td>\n",
       "      <td>1200</td>\n",
       "      <td>1158</td>\n",
       "      <td>1181</td>\n",
       "    </tr>\n",
       "  </tbody>\n",
       "</table>\n",
       "</div>"
      ],
      "text/plain": [
       "group                    event    A1    A2     B\n",
       "0             CartScreenAppear  1266  1238  1230\n",
       "1             MainScreenAppear  2450  2476  2493\n",
       "2           OffersScreenAppear  1542  1520  1531\n",
       "3      PaymentScreenSuccessful  1200  1158  1181"
      ]
     },
     "execution_count": 32,
     "metadata": {},
     "output_type": "execute_result"
    }
   ],
   "source": [
    "groups = df.pivot_table(index='event', values='userid', aggfunc=('nunique'), columns='group')\\\n",
    ".reset_index().rename(columns={'userid' : 'total_users'})\n",
    "groups"
   ]
  },
  {
   "cell_type": "markdown",
   "metadata": {},
   "source": [
    "**<font color=\"green\">Комментарий:<font>** Создадим датафрейм по событиям, где столбцами будут группы."
   ]
  },
  {
   "cell_type": "code",
   "execution_count": 33,
   "metadata": {},
   "outputs": [
    {
     "name": "stdout",
     "output_type": "stream",
     "text": [
      "Количество пользователей в группах различается на 1.15 %\n"
     ]
    }
   ],
   "source": [
    "users_A1 = int(users[users['group'] == 'A1']['total_users'])\n",
    "users_A2 = int(users[users['group'] == 'A2']['total_users'])\n",
    "print('Количество пользователей в группах различается на', round(100 - (users_A1 / users_A2 * 100), 2), '%')"
   ]
  },
  {
   "cell_type": "markdown",
   "metadata": {},
   "source": [
    "**<font color=\"green\">Комментарий:<font>** Группы не должны различаться на более 1%, но данная разница - не критична."
   ]
  },
  {
   "cell_type": "code",
   "execution_count": 34,
   "metadata": {},
   "outputs": [],
   "source": [
    "users = users.set_index(users.columns[0])\n",
    "groups['A1A2'] = groups['A1'] + groups['A2']"
   ]
  },
  {
   "cell_type": "markdown",
   "metadata": {},
   "source": [
    "**<font color=\"green\">Комментарий:<font>**\n",
    "    \n",
    "A/A тест позволяет проверить проверить корректность проведения A/B теста и следующих расчетов. Используем z-test для проверки статистически значимой разницы между группами.\n",
    "\n",
    "Сформируем гипотезы:\n",
    "\n",
    "Нулевая гипотеза - События общего кол-ва пользователей и пользователей в группе теста равны.\n",
    "\n",
    "Альтернативная гипотеза - События общего кол-ва пользователей и пользователей в группе теста не равны.\n",
    "    \n",
    "P.S. не совсем смог создать функцию для проверки гипотез, пришлось прибегнуть к сторонним ресурсам..."
   ]
  },
  {
   "cell_type": "code",
   "execution_count": 35,
   "metadata": {},
   "outputs": [],
   "source": [
    "def ztest(group1, group2, event, alpha): \n",
    "    \n",
    "    p1_event = groups.loc[event, group1]\n",
    "    \n",
    "    p2_event = groups.loc[event, group2] \n",
    "    \n",
    "    p1_users = users.loc[group1, 'total_users'] \n",
    "    \n",
    "    p2_users = users.loc[group2, 'total_users'] \n",
    "    \n",
    "    p1 = p1_event / p1_users \n",
    "    \n",
    "    p2 = p2_event / p2_users \n",
    "    \n",
    "    difference = p1 - p2\n",
    "    \n",
    "    p_combined = (p1_event + p2_event) / (p1_users + p2_users) \n",
    "    \n",
    "    z_value = difference / mth.sqrt(p_combined * (1 - p_combined) * (1 / p1_users + 1 / p2_users))\n",
    "    \n",
    "    distr = st.norm(0, 1)\n",
    "    \n",
    "    p_value = (1 - distr.cdf(abs(z_value))) * 2\n",
    "    \n",
    "    sidak = 1 - (1 - 0.1)**(1/16)\n",
    "    \n",
    "    \n",
    "    print('Проверка для групп {} и {}, событие: {}, p-значение: {p_value:.2f}'.format(group1, group2, event, p_value=p_value))\n",
    "    if (p_value < sidak):\n",
    "        print(\"Отвергаем нулевую гипотезу о равенстве конверсии в группах\")\n",
    "    else:\n",
    "        print(\"Не получилось отвергнуть нулевую гипотезу о равенстве конверсии в группах\")"
   ]
  },
  {
   "cell_type": "code",
   "execution_count": 36,
   "metadata": {},
   "outputs": [
    {
     "name": "stdout",
     "output_type": "stream",
     "text": [
      "Проверка для групп A1 и A2, событие: 0, p-значение: 0.23\n",
      "Не получилось отвергнуть нулевую гипотезу о равенстве конверсии в группах\n",
      "\n",
      "Проверка для групп A1 и A2, событие: 1, p-значение: 0.76\n",
      "Не получилось отвергнуть нулевую гипотезу о равенстве конверсии в группах\n",
      "\n",
      "Проверка для групп A1 и A2, событие: 2, p-значение: 0.25\n",
      "Не получилось отвергнуть нулевую гипотезу о равенстве конверсии в группах\n",
      "\n",
      "Проверка для групп A1 и A2, событие: 3, p-значение: 0.11\n",
      "Не получилось отвергнуть нулевую гипотезу о равенстве конверсии в группах\n",
      "\n"
     ]
    }
   ],
   "source": [
    "for event in groups.index:\n",
    "    ztest('A1', 'A2', event, 0.1)\n",
    "    print()"
   ]
  },
  {
   "cell_type": "markdown",
   "metadata": {},
   "source": [
    "**<font color=\"green\">Комментарий:<font>** A/A-тест показал, что между группами нет значимой разницы при статистической значимости 10%"
   ]
  },
  {
   "cell_type": "markdown",
   "metadata": {},
   "source": [
    "### А/B-эксперимент"
   ]
  },
  {
   "cell_type": "markdown",
   "metadata": {},
   "source": [
    "**<font color=\"green\">Комментарий:<font>** Далее в задании требуется выбрать наиболее популярное событие(посещение главного экрана) и провести тест, но немного уйдем от задания и проведем тесты по всем пунктам."
   ]
  },
  {
   "cell_type": "markdown",
   "metadata": {},
   "source": [
    "**<font color=\"green\">Комментарий:<font>** Сравним первую группу и контрольную группу, гипотезы те же."
   ]
  },
  {
   "cell_type": "code",
   "execution_count": 37,
   "metadata": {},
   "outputs": [
    {
     "name": "stdout",
     "output_type": "stream",
     "text": [
      "Проверка для групп A1 и B, событие: 0, p-значение: 0.08\n",
      "Не получилось отвергнуть нулевую гипотезу о равенстве конверсии в группах\n",
      "\n",
      "Проверка для групп A1 и B, событие: 1, p-значение: 0.29\n",
      "Не получилось отвергнуть нулевую гипотезу о равенстве конверсии в группах\n",
      "\n",
      "Проверка для групп A1 и B, событие: 2, p-значение: 0.21\n",
      "Не получилось отвергнуть нулевую гипотезу о равенстве конверсии в группах\n",
      "\n",
      "Проверка для групп A1 и B, событие: 3, p-значение: 0.21\n",
      "Не получилось отвергнуть нулевую гипотезу о равенстве конверсии в группах\n",
      "\n"
     ]
    }
   ],
   "source": [
    "for event in groups.index:\n",
    "    ztest('A1', 'B', event, 0.1)\n",
    "    print()"
   ]
  },
  {
   "cell_type": "markdown",
   "metadata": {},
   "source": [
    "**<font color=\"green\">Комментарий:<font>** Тест показал, что группы равны при стат. значимости 10%."
   ]
  },
  {
   "cell_type": "markdown",
   "metadata": {},
   "source": [
    "**<font color=\"green\">Комментарий:<font>** Проведем тест для второй и контрольной группы:"
   ]
  },
  {
   "cell_type": "code",
   "execution_count": 38,
   "metadata": {},
   "outputs": [
    {
     "name": "stdout",
     "output_type": "stream",
     "text": [
      "Проверка для групп A2 и B, событие: 0, p-значение: 0.58\n",
      "Не получилось отвергнуть нулевую гипотезу о равенстве конверсии в группах\n",
      "\n",
      "Проверка для групп A2 и B, событие: 1, p-значение: 0.46\n",
      "Не получилось отвергнуть нулевую гипотезу о равенстве конверсии в группах\n",
      "\n",
      "Проверка для групп A2 и B, событие: 2, p-значение: 0.92\n",
      "Не получилось отвергнуть нулевую гипотезу о равенстве конверсии в группах\n",
      "\n",
      "Проверка для групп A2 и B, событие: 3, p-значение: 0.74\n",
      "Не получилось отвергнуть нулевую гипотезу о равенстве конверсии в группах\n",
      "\n"
     ]
    }
   ],
   "source": [
    "for event in groups.index:\n",
    "    ztest('A2', 'B', event, 0.1)\n",
    "    print()"
   ]
  },
  {
   "cell_type": "markdown",
   "metadata": {},
   "source": [
    "**<font color=\"green\">Комментарий:<font>** Результат неизменен."
   ]
  },
  {
   "cell_type": "markdown",
   "metadata": {},
   "source": [
    "**<font color=\"green\">Комментарий:<font>** Объединим группы А1 и А2, сравним с общую группу с контрольной группой, гипотезы остаются прежними:"
   ]
  },
  {
   "cell_type": "code",
   "execution_count": 39,
   "metadata": {},
   "outputs": [],
   "source": [
    "groups['A1A2'] = groups['A1'] + groups['A2']"
   ]
  },
  {
   "cell_type": "code",
   "execution_count": 40,
   "metadata": {},
   "outputs": [
    {
     "name": "stdout",
     "output_type": "stream",
     "text": [
      "Проверка для групп A1A2 и B, событие: 0, p-значение: 0.18\n",
      "Не получилось отвергнуть нулевую гипотезу о равенстве конверсии в группах\n",
      "\n",
      "Проверка для групп A1A2 и B, событие: 1, p-значение: 0.29\n",
      "Не получилось отвергнуть нулевую гипотезу о равенстве конверсии в группах\n",
      "\n",
      "Проверка для групп A1A2 и B, событие: 2, p-значение: 0.43\n",
      "Не получилось отвергнуть нулевую гипотезу о равенстве конверсии в группах\n",
      "\n",
      "Проверка для групп A1A2 и B, событие: 3, p-значение: 0.60\n",
      "Не получилось отвергнуть нулевую гипотезу о равенстве конверсии в группах\n",
      "\n"
     ]
    }
   ],
   "source": [
    "for event in groups.index:\n",
    "    ztest('A1A2', 'B', event, 0.1)\n",
    "    print()"
   ]
  },
  {
   "cell_type": "markdown",
   "metadata": {},
   "source": [
    "**<font color=\"green\">Комментарий:<font>** Результат неизменен. 16 тестов показали, что поведение пользователей не изменилось с внедрением нового шрифта. Сформулируем общий вывод."
   ]
  },
  {
   "cell_type": "markdown",
   "metadata": {},
   "source": [
    "<div class=\"alert alert-info\"> <b>Комментарий №2:</b> Всего было проведено 16 тестов. Был выбран метод Шидака, результаты тестов не изменились."
   ]
  },
  {
   "cell_type": "markdown",
   "metadata": {},
   "source": [
    "## Вывод"
   ]
  },
  {
   "cell_type": "markdown",
   "metadata": {},
   "source": [
    "Из **7551** пользователей **48%** доходят до покупки товара, большего всего пользователей застревают при переходе на этапе просмотра каталога. На одного пользователя приходится **20** событий в среднем. \n",
    "\n",
    "Результаты **A/A и A/B-тестов**:\n",
    "\n",
    "Задачей было выяснить какой шрифт лучше. По результатам анализа можно сделать вывод, что значимой разницы между шрифтами нет. Поведение пользователей не изменялось на протяжении эксперимента.\n",
    "\n",
    "Две группы А дают определенные преимущества. При равенстве групп, мы можем быть уверены, что результаты A/B-теста не будут искажены. К тому же сравнение контрольных групп также помогает понять, сколько времени и данных потребуется для дальнейших тестов.\n",
    "\n",
    "**Рекомендации** для компании:\n",
    "\n",
    "На данном этапе не стоит акцентировать внимание на шрифте приложения, результаты экспериментов являются подтверждением. Нужно разобраться почему при переходе с главного экрана на просмотр каталога происходит резкое снижение количества пользователей."
   ]
  }
 ],
 "metadata": {
  "ExecuteTimeLog": [
   {
    "duration": 1297,
    "start_time": "2023-12-31T08:09:00.436Z"
   },
   {
    "duration": 628,
    "start_time": "2023-12-31T08:10:46.611Z"
   },
   {
    "duration": 4,
    "start_time": "2023-12-31T08:10:56.396Z"
   },
   {
    "duration": 288,
    "start_time": "2023-12-31T08:10:56.657Z"
   },
   {
    "duration": 287,
    "start_time": "2023-12-31T08:11:25.023Z"
   },
   {
    "duration": 171,
    "start_time": "2023-12-31T08:11:40.445Z"
   },
   {
    "duration": 172,
    "start_time": "2023-12-31T08:13:07.905Z"
   },
   {
    "duration": 170,
    "start_time": "2023-12-31T08:13:12.558Z"
   },
   {
    "duration": 10,
    "start_time": "2023-12-31T08:13:16.122Z"
   },
   {
    "duration": 21,
    "start_time": "2023-12-31T08:13:26.087Z"
   },
   {
    "duration": 1176,
    "start_time": "2023-12-31T08:13:38.795Z"
   },
   {
    "duration": 180,
    "start_time": "2023-12-31T08:13:39.972Z"
   },
   {
    "duration": 9,
    "start_time": "2023-12-31T08:13:40.153Z"
   },
   {
    "duration": 21,
    "start_time": "2023-12-31T08:13:40.164Z"
   },
   {
    "duration": 3,
    "start_time": "2023-12-31T08:15:37.548Z"
   },
   {
    "duration": 23,
    "start_time": "2023-12-31T08:15:51.572Z"
   },
   {
    "duration": 94,
    "start_time": "2023-12-31T08:16:08.733Z"
   },
   {
    "duration": 8,
    "start_time": "2023-12-31T08:16:13.215Z"
   },
   {
    "duration": 20,
    "start_time": "2023-12-31T08:16:23.063Z"
   },
   {
    "duration": 72,
    "start_time": "2023-12-31T08:16:41.853Z"
   },
   {
    "duration": 407,
    "start_time": "2023-12-31T08:28:00.439Z"
   },
   {
    "duration": 9,
    "start_time": "2023-12-31T08:28:03.387Z"
   },
   {
    "duration": 1171,
    "start_time": "2023-12-31T08:28:17.780Z"
   },
   {
    "duration": 3,
    "start_time": "2023-12-31T08:28:18.952Z"
   },
   {
    "duration": 188,
    "start_time": "2023-12-31T08:28:18.957Z"
   },
   {
    "duration": 10,
    "start_time": "2023-12-31T08:28:19.147Z"
   },
   {
    "duration": 22,
    "start_time": "2023-12-31T08:28:19.159Z"
   },
   {
    "duration": 91,
    "start_time": "2023-12-31T08:28:19.183Z"
   },
   {
    "duration": 411,
    "start_time": "2023-12-31T08:28:19.276Z"
   },
   {
    "duration": 0,
    "start_time": "2023-12-31T08:28:19.688Z"
   },
   {
    "duration": 43,
    "start_time": "2023-12-31T08:28:48.380Z"
   },
   {
    "duration": 11,
    "start_time": "2023-12-31T08:28:49.112Z"
   },
   {
    "duration": 12,
    "start_time": "2023-12-31T08:30:28.394Z"
   },
   {
    "duration": 13,
    "start_time": "2023-12-31T08:30:28.729Z"
   },
   {
    "duration": 1081,
    "start_time": "2023-12-31T08:37:28.678Z"
   },
   {
    "duration": 3,
    "start_time": "2023-12-31T08:37:29.761Z"
   },
   {
    "duration": 200,
    "start_time": "2023-12-31T08:37:29.766Z"
   },
   {
    "duration": 10,
    "start_time": "2023-12-31T08:37:29.968Z"
   },
   {
    "duration": 35,
    "start_time": "2023-12-31T08:37:29.981Z"
   },
   {
    "duration": 77,
    "start_time": "2023-12-31T08:37:30.018Z"
   },
   {
    "duration": 26,
    "start_time": "2023-12-31T08:37:30.097Z"
   },
   {
    "duration": 43,
    "start_time": "2023-12-31T08:37:30.125Z"
   },
   {
    "duration": 1235,
    "start_time": "2023-12-31T08:37:59.108Z"
   },
   {
    "duration": 0,
    "start_time": "2023-12-31T08:38:00.344Z"
   },
   {
    "duration": 13,
    "start_time": "2023-12-31T08:38:09.356Z"
   },
   {
    "duration": 11,
    "start_time": "2023-12-31T08:38:09.532Z"
   },
   {
    "duration": 69,
    "start_time": "2023-12-31T08:38:18.672Z"
   },
   {
    "duration": 1120,
    "start_time": "2023-12-31T08:38:24.323Z"
   },
   {
    "duration": 4,
    "start_time": "2023-12-31T08:38:25.445Z"
   },
   {
    "duration": 180,
    "start_time": "2023-12-31T08:38:25.451Z"
   },
   {
    "duration": 9,
    "start_time": "2023-12-31T08:38:25.634Z"
   },
   {
    "duration": 22,
    "start_time": "2023-12-31T08:38:25.644Z"
   },
   {
    "duration": 92,
    "start_time": "2023-12-31T08:38:25.668Z"
   },
   {
    "duration": 12,
    "start_time": "2023-12-31T08:38:25.765Z"
   },
   {
    "duration": 11,
    "start_time": "2023-12-31T08:38:25.778Z"
   },
   {
    "duration": 92,
    "start_time": "2023-12-31T08:38:25.791Z"
   },
   {
    "duration": 1282,
    "start_time": "2023-12-31T08:39:37.022Z"
   },
   {
    "duration": 100,
    "start_time": "2023-12-31T08:39:48.977Z"
   },
   {
    "duration": 13,
    "start_time": "2023-12-31T08:39:49.153Z"
   },
   {
    "duration": 1068,
    "start_time": "2023-12-31T08:40:07.369Z"
   },
   {
    "duration": 3,
    "start_time": "2023-12-31T08:40:08.438Z"
   },
   {
    "duration": 187,
    "start_time": "2023-12-31T08:40:08.442Z"
   },
   {
    "duration": 9,
    "start_time": "2023-12-31T08:40:08.631Z"
   },
   {
    "duration": 21,
    "start_time": "2023-12-31T08:40:08.641Z"
   },
   {
    "duration": 87,
    "start_time": "2023-12-31T08:40:08.663Z"
   },
   {
    "duration": 120,
    "start_time": "2023-12-31T08:40:08.752Z"
   },
   {
    "duration": 13,
    "start_time": "2023-12-31T08:40:08.874Z"
   },
   {
    "duration": 95,
    "start_time": "2023-12-31T08:41:20.818Z"
   },
   {
    "duration": 8,
    "start_time": "2023-12-31T08:41:23.406Z"
   },
   {
    "duration": 9,
    "start_time": "2023-12-31T08:41:38.107Z"
   },
   {
    "duration": 86,
    "start_time": "2023-12-31T08:41:41.527Z"
   },
   {
    "duration": 5,
    "start_time": "2023-12-31T08:45:58.321Z"
   },
   {
    "duration": 91,
    "start_time": "2023-12-31T10:23:35.066Z"
   },
   {
    "duration": 65,
    "start_time": "2023-12-31T10:23:57.362Z"
   },
   {
    "duration": 1195,
    "start_time": "2023-12-31T10:24:25.080Z"
   },
   {
    "duration": 21,
    "start_time": "2023-12-31T10:24:36.826Z"
   },
   {
    "duration": 4,
    "start_time": "2023-12-31T10:24:40.708Z"
   },
   {
    "duration": 1156,
    "start_time": "2023-12-31T10:24:53.593Z"
   },
   {
    "duration": 3,
    "start_time": "2023-12-31T10:24:54.751Z"
   },
   {
    "duration": 211,
    "start_time": "2023-12-31T10:24:54.755Z"
   },
   {
    "duration": 9,
    "start_time": "2023-12-31T10:24:54.968Z"
   },
   {
    "duration": 34,
    "start_time": "2023-12-31T10:24:54.979Z"
   },
   {
    "duration": 83,
    "start_time": "2023-12-31T10:24:55.014Z"
   },
   {
    "duration": 117,
    "start_time": "2023-12-31T10:24:55.098Z"
   },
   {
    "duration": 80,
    "start_time": "2023-12-31T10:24:55.216Z"
   },
   {
    "duration": 17,
    "start_time": "2023-12-31T10:24:55.298Z"
   },
   {
    "duration": 24,
    "start_time": "2023-12-31T10:24:55.317Z"
   },
   {
    "duration": 51,
    "start_time": "2023-12-31T10:24:55.343Z"
   },
   {
    "duration": 19,
    "start_time": "2023-12-31T10:26:59.505Z"
   },
   {
    "duration": 102,
    "start_time": "2023-12-31T10:27:05.325Z"
   },
   {
    "duration": 17,
    "start_time": "2023-12-31T10:27:10.698Z"
   },
   {
    "duration": 18,
    "start_time": "2023-12-31T10:45:17.646Z"
   },
   {
    "duration": 33,
    "start_time": "2023-12-31T10:45:23.734Z"
   },
   {
    "duration": 34,
    "start_time": "2023-12-31T10:45:30.183Z"
   },
   {
    "duration": 107,
    "start_time": "2023-12-31T10:45:56.412Z"
   },
   {
    "duration": 34,
    "start_time": "2023-12-31T10:46:05.091Z"
   },
   {
    "duration": 34,
    "start_time": "2023-12-31T10:46:09.873Z"
   },
   {
    "duration": 19,
    "start_time": "2023-12-31T10:46:16.755Z"
   },
   {
    "duration": 39,
    "start_time": "2023-12-31T10:46:27.961Z"
   },
   {
    "duration": 3,
    "start_time": "2023-12-31T10:46:46.094Z"
   },
   {
    "duration": 33,
    "start_time": "2023-12-31T10:46:48.053Z"
   },
   {
    "duration": 74,
    "start_time": "2023-12-31T10:46:50.524Z"
   },
   {
    "duration": 34,
    "start_time": "2023-12-31T10:46:54.909Z"
   },
   {
    "duration": 37,
    "start_time": "2023-12-31T10:47:00.024Z"
   },
   {
    "duration": 80,
    "start_time": "2023-12-31T10:47:16.224Z"
   },
   {
    "duration": 32,
    "start_time": "2023-12-31T10:47:23.195Z"
   },
   {
    "duration": 35,
    "start_time": "2023-12-31T10:47:28.087Z"
   },
   {
    "duration": 39,
    "start_time": "2023-12-31T10:47:38.155Z"
   },
   {
    "duration": 76,
    "start_time": "2023-12-31T10:48:07.882Z"
   },
   {
    "duration": 7,
    "start_time": "2023-12-31T10:48:12.700Z"
   },
   {
    "duration": 5,
    "start_time": "2023-12-31T10:48:23.038Z"
   },
   {
    "duration": 1069,
    "start_time": "2023-12-31T10:52:28.461Z"
   },
   {
    "duration": 3,
    "start_time": "2023-12-31T10:52:29.532Z"
   },
   {
    "duration": 192,
    "start_time": "2023-12-31T10:52:29.536Z"
   },
   {
    "duration": 2,
    "start_time": "2023-12-31T10:52:29.730Z"
   },
   {
    "duration": 23,
    "start_time": "2023-12-31T10:52:29.734Z"
   },
   {
    "duration": 86,
    "start_time": "2023-12-31T10:52:29.758Z"
   },
   {
    "duration": 119,
    "start_time": "2023-12-31T10:52:29.845Z"
   },
   {
    "duration": 92,
    "start_time": "2023-12-31T10:52:29.966Z"
   },
   {
    "duration": 5,
    "start_time": "2023-12-31T10:52:30.060Z"
   },
   {
    "duration": 50,
    "start_time": "2023-12-31T10:52:30.067Z"
   },
   {
    "duration": 7,
    "start_time": "2023-12-31T10:52:30.118Z"
   },
   {
    "duration": 66,
    "start_time": "2023-12-31T10:52:30.126Z"
   },
   {
    "duration": 6,
    "start_time": "2023-12-31T10:52:30.193Z"
   },
   {
    "duration": 19,
    "start_time": "2023-12-31T10:56:22.155Z"
   },
   {
    "duration": 1153,
    "start_time": "2023-12-31T10:59:24.488Z"
   },
   {
    "duration": 3,
    "start_time": "2023-12-31T10:59:25.643Z"
   },
   {
    "duration": 191,
    "start_time": "2023-12-31T10:59:25.647Z"
   },
   {
    "duration": 2,
    "start_time": "2023-12-31T10:59:25.840Z"
   },
   {
    "duration": 25,
    "start_time": "2023-12-31T10:59:25.843Z"
   },
   {
    "duration": 92,
    "start_time": "2023-12-31T10:59:25.870Z"
   },
   {
    "duration": 120,
    "start_time": "2023-12-31T10:59:25.964Z"
   },
   {
    "duration": 87,
    "start_time": "2023-12-31T10:59:26.086Z"
   },
   {
    "duration": 6,
    "start_time": "2023-12-31T10:59:26.175Z"
   },
   {
    "duration": 34,
    "start_time": "2023-12-31T10:59:26.184Z"
   },
   {
    "duration": 33,
    "start_time": "2023-12-31T10:59:26.220Z"
   },
   {
    "duration": 6,
    "start_time": "2023-12-31T10:59:26.255Z"
   },
   {
    "duration": 32,
    "start_time": "2023-12-31T11:01:14.215Z"
   },
   {
    "duration": 5,
    "start_time": "2023-12-31T11:01:14.590Z"
   },
   {
    "duration": 6,
    "start_time": "2023-12-31T11:02:08.268Z"
   },
   {
    "duration": 101,
    "start_time": "2023-12-31T11:06:58.923Z"
   },
   {
    "duration": 27,
    "start_time": "2023-12-31T11:07:02.539Z"
   },
   {
    "duration": 30,
    "start_time": "2023-12-31T11:07:04.681Z"
   },
   {
    "duration": 3,
    "start_time": "2023-12-31T11:07:42.978Z"
   },
   {
    "duration": 1264,
    "start_time": "2023-12-31T11:08:22.293Z"
   },
   {
    "duration": 6,
    "start_time": "2023-12-31T11:08:49.862Z"
   },
   {
    "duration": 1205,
    "start_time": "2023-12-31T11:08:55.488Z"
   },
   {
    "duration": 7,
    "start_time": "2023-12-31T11:09:40.811Z"
   },
   {
    "duration": 5,
    "start_time": "2023-12-31T11:09:53.387Z"
   },
   {
    "duration": 5,
    "start_time": "2023-12-31T11:10:13.851Z"
   },
   {
    "duration": 6,
    "start_time": "2023-12-31T11:10:23.891Z"
   },
   {
    "duration": 1090,
    "start_time": "2023-12-31T11:10:32.638Z"
   },
   {
    "duration": 3,
    "start_time": "2023-12-31T11:10:33.729Z"
   },
   {
    "duration": 186,
    "start_time": "2023-12-31T11:10:33.734Z"
   },
   {
    "duration": 2,
    "start_time": "2023-12-31T11:10:33.922Z"
   },
   {
    "duration": 24,
    "start_time": "2023-12-31T11:10:33.925Z"
   },
   {
    "duration": 80,
    "start_time": "2023-12-31T11:10:33.950Z"
   },
   {
    "duration": 122,
    "start_time": "2023-12-31T11:10:34.032Z"
   },
   {
    "duration": 88,
    "start_time": "2023-12-31T11:10:34.156Z"
   },
   {
    "duration": 6,
    "start_time": "2023-12-31T11:10:34.246Z"
   },
   {
    "duration": 19,
    "start_time": "2023-12-31T11:10:34.254Z"
   },
   {
    "duration": 54,
    "start_time": "2023-12-31T11:10:34.274Z"
   },
   {
    "duration": 7,
    "start_time": "2023-12-31T11:10:34.330Z"
   },
   {
    "duration": 32,
    "start_time": "2023-12-31T11:10:34.338Z"
   },
   {
    "duration": 7,
    "start_time": "2023-12-31T11:10:34.372Z"
   },
   {
    "duration": 332,
    "start_time": "2023-12-31T11:20:00.075Z"
   },
   {
    "duration": 252,
    "start_time": "2023-12-31T11:20:56.525Z"
   },
   {
    "duration": 269,
    "start_time": "2023-12-31T11:21:29.199Z"
   },
   {
    "duration": 75,
    "start_time": "2023-12-31T11:24:35.372Z"
   },
   {
    "duration": 81,
    "start_time": "2023-12-31T11:24:49.230Z"
   },
   {
    "duration": 7,
    "start_time": "2023-12-31T11:24:51.045Z"
   },
   {
    "duration": 14,
    "start_time": "2023-12-31T11:24:55.117Z"
   },
   {
    "duration": 224,
    "start_time": "2023-12-31T11:25:04.231Z"
   },
   {
    "duration": 217,
    "start_time": "2023-12-31T11:31:19.470Z"
   },
   {
    "duration": 288,
    "start_time": "2023-12-31T11:31:27.748Z"
   },
   {
    "duration": 1311,
    "start_time": "2024-01-06T11:25:18.313Z"
   },
   {
    "duration": 4,
    "start_time": "2024-01-06T11:25:19.626Z"
   },
   {
    "duration": 518,
    "start_time": "2024-01-06T11:25:19.631Z"
   },
   {
    "duration": 2,
    "start_time": "2024-01-06T11:25:20.151Z"
   },
   {
    "duration": 36,
    "start_time": "2024-01-06T11:25:20.154Z"
   },
   {
    "duration": 73,
    "start_time": "2024-01-06T11:25:20.191Z"
   },
   {
    "duration": 111,
    "start_time": "2024-01-06T11:25:20.266Z"
   },
   {
    "duration": 88,
    "start_time": "2024-01-06T11:25:20.378Z"
   },
   {
    "duration": 5,
    "start_time": "2024-01-06T11:25:20.468Z"
   },
   {
    "duration": 41,
    "start_time": "2024-01-06T11:25:20.475Z"
   },
   {
    "duration": 33,
    "start_time": "2024-01-06T11:25:20.518Z"
   },
   {
    "duration": 6,
    "start_time": "2024-01-06T11:25:20.553Z"
   },
   {
    "duration": 54,
    "start_time": "2024-01-06T11:25:20.561Z"
   },
   {
    "duration": 7,
    "start_time": "2024-01-06T11:25:20.616Z"
   },
   {
    "duration": 306,
    "start_time": "2024-01-06T11:25:20.625Z"
   },
   {
    "duration": 7,
    "start_time": "2024-01-06T11:25:20.933Z"
   },
   {
    "duration": 225,
    "start_time": "2024-01-06T11:25:20.941Z"
   },
   {
    "duration": 14,
    "start_time": "2024-01-06T11:48:40.743Z"
   },
   {
    "duration": 3,
    "start_time": "2024-01-06T11:48:54.695Z"
   },
   {
    "duration": 23,
    "start_time": "2024-01-06T11:51:14.770Z"
   },
   {
    "duration": 13,
    "start_time": "2024-01-06T11:51:16.133Z"
   },
   {
    "duration": 262,
    "start_time": "2024-01-06T12:00:36.115Z"
   },
   {
    "duration": 6,
    "start_time": "2024-01-06T12:03:29.105Z"
   },
   {
    "duration": 1088,
    "start_time": "2024-01-06T12:07:36.371Z"
   },
   {
    "duration": 3,
    "start_time": "2024-01-06T12:07:37.461Z"
   },
   {
    "duration": 190,
    "start_time": "2024-01-06T12:07:37.466Z"
   },
   {
    "duration": 3,
    "start_time": "2024-01-06T12:07:37.658Z"
   },
   {
    "duration": 26,
    "start_time": "2024-01-06T12:07:37.662Z"
   },
   {
    "duration": 83,
    "start_time": "2024-01-06T12:07:37.689Z"
   },
   {
    "duration": 118,
    "start_time": "2024-01-06T12:07:37.774Z"
   },
   {
    "duration": 83,
    "start_time": "2024-01-06T12:07:37.894Z"
   },
   {
    "duration": 4,
    "start_time": "2024-01-06T12:07:37.979Z"
   },
   {
    "duration": 47,
    "start_time": "2024-01-06T12:07:37.986Z"
   },
   {
    "duration": 44,
    "start_time": "2024-01-06T12:07:38.035Z"
   },
   {
    "duration": 12,
    "start_time": "2024-01-06T12:07:38.081Z"
   },
   {
    "duration": 48,
    "start_time": "2024-01-06T12:07:38.095Z"
   },
   {
    "duration": 7,
    "start_time": "2024-01-06T12:07:38.144Z"
   },
   {
    "duration": 329,
    "start_time": "2024-01-06T12:07:38.153Z"
   },
   {
    "duration": 6,
    "start_time": "2024-01-06T12:07:38.484Z"
   },
   {
    "duration": 238,
    "start_time": "2024-01-06T12:07:38.491Z"
   },
   {
    "duration": 12,
    "start_time": "2024-01-06T12:07:38.731Z"
   },
   {
    "duration": 27,
    "start_time": "2024-01-06T12:07:38.745Z"
   },
   {
    "duration": 45,
    "start_time": "2024-01-06T12:07:38.773Z"
   },
   {
    "duration": 232,
    "start_time": "2024-01-06T12:07:38.820Z"
   },
   {
    "duration": 6,
    "start_time": "2024-01-06T12:07:39.053Z"
   },
   {
    "duration": 273,
    "start_time": "2024-01-06T12:07:59.188Z"
   },
   {
    "duration": 229,
    "start_time": "2024-01-06T12:10:07.115Z"
   },
   {
    "duration": 228,
    "start_time": "2024-01-06T12:10:18.777Z"
   },
   {
    "duration": 9,
    "start_time": "2024-01-06T12:11:52.785Z"
   },
   {
    "duration": 27,
    "start_time": "2024-01-06T12:12:57.416Z"
   },
   {
    "duration": 28,
    "start_time": "2024-01-06T12:13:31.611Z"
   },
   {
    "duration": 230,
    "start_time": "2024-01-06T12:14:29.834Z"
   },
   {
    "duration": 1157,
    "start_time": "2024-01-06T12:15:34.590Z"
   },
   {
    "duration": 4,
    "start_time": "2024-01-06T12:15:35.749Z"
   },
   {
    "duration": 195,
    "start_time": "2024-01-06T12:15:35.754Z"
   },
   {
    "duration": 2,
    "start_time": "2024-01-06T12:15:35.951Z"
   },
   {
    "duration": 24,
    "start_time": "2024-01-06T12:15:35.955Z"
   },
   {
    "duration": 83,
    "start_time": "2024-01-06T12:15:35.980Z"
   },
   {
    "duration": 130,
    "start_time": "2024-01-06T12:15:36.064Z"
   },
   {
    "duration": 89,
    "start_time": "2024-01-06T12:15:36.196Z"
   },
   {
    "duration": 6,
    "start_time": "2024-01-06T12:15:36.286Z"
   },
   {
    "duration": 39,
    "start_time": "2024-01-06T12:15:36.295Z"
   },
   {
    "duration": 33,
    "start_time": "2024-01-06T12:15:36.336Z"
   },
   {
    "duration": 6,
    "start_time": "2024-01-06T12:15:36.370Z"
   },
   {
    "duration": 53,
    "start_time": "2024-01-06T12:15:36.377Z"
   },
   {
    "duration": 5,
    "start_time": "2024-01-06T12:15:36.432Z"
   },
   {
    "duration": 322,
    "start_time": "2024-01-06T12:15:36.438Z"
   },
   {
    "duration": 229,
    "start_time": "2024-01-06T12:15:36.762Z"
   },
   {
    "duration": 9,
    "start_time": "2024-01-06T12:15:36.992Z"
   },
   {
    "duration": 28,
    "start_time": "2024-01-06T12:15:37.002Z"
   },
   {
    "duration": 238,
    "start_time": "2024-01-06T12:15:37.031Z"
   },
   {
    "duration": 6,
    "start_time": "2024-01-06T12:15:37.270Z"
   },
   {
    "duration": 14,
    "start_time": "2024-01-06T12:17:27.966Z"
   },
   {
    "duration": 27,
    "start_time": "2024-01-06T12:17:55.796Z"
   },
   {
    "duration": 1240,
    "start_time": "2024-01-07T09:06:47.210Z"
   },
   {
    "duration": 3,
    "start_time": "2024-01-07T09:06:48.452Z"
   },
   {
    "duration": 524,
    "start_time": "2024-01-07T09:06:48.457Z"
   },
   {
    "duration": 3,
    "start_time": "2024-01-07T09:06:48.983Z"
   },
   {
    "duration": 30,
    "start_time": "2024-01-07T09:06:48.987Z"
   },
   {
    "duration": 74,
    "start_time": "2024-01-07T09:06:49.018Z"
   },
   {
    "duration": 116,
    "start_time": "2024-01-07T09:06:49.093Z"
   },
   {
    "duration": 83,
    "start_time": "2024-01-07T09:06:49.210Z"
   },
   {
    "duration": 6,
    "start_time": "2024-01-07T09:06:49.295Z"
   },
   {
    "duration": 20,
    "start_time": "2024-01-07T09:06:49.304Z"
   },
   {
    "duration": 58,
    "start_time": "2024-01-07T09:06:49.326Z"
   },
   {
    "duration": 6,
    "start_time": "2024-01-07T09:06:49.386Z"
   },
   {
    "duration": 30,
    "start_time": "2024-01-07T09:06:49.394Z"
   },
   {
    "duration": 5,
    "start_time": "2024-01-07T09:06:49.426Z"
   },
   {
    "duration": 292,
    "start_time": "2024-01-07T09:06:49.433Z"
   },
   {
    "duration": 217,
    "start_time": "2024-01-07T09:06:49.727Z"
   },
   {
    "duration": 8,
    "start_time": "2024-01-07T09:06:49.945Z"
   },
   {
    "duration": 26,
    "start_time": "2024-01-07T09:06:49.955Z"
   },
   {
    "duration": 227,
    "start_time": "2024-01-07T09:06:49.983Z"
   },
   {
    "duration": 6,
    "start_time": "2024-01-07T09:06:50.211Z"
   },
   {
    "duration": 12,
    "start_time": "2024-01-07T09:06:50.218Z"
   },
   {
    "duration": 37,
    "start_time": "2024-01-07T09:06:50.232Z"
   },
   {
    "duration": 16,
    "start_time": "2024-01-07T09:19:12.672Z"
   },
   {
    "duration": 15,
    "start_time": "2024-01-07T09:19:16.269Z"
   },
   {
    "duration": 13,
    "start_time": "2024-01-07T09:19:18.620Z"
   },
   {
    "duration": 17,
    "start_time": "2024-01-07T09:21:17.921Z"
   },
   {
    "duration": 97,
    "start_time": "2024-01-07T09:21:29.394Z"
   },
   {
    "duration": 13,
    "start_time": "2024-01-07T09:21:35.799Z"
   },
   {
    "duration": 29,
    "start_time": "2024-01-07T09:22:24.841Z"
   },
   {
    "duration": 26,
    "start_time": "2024-01-07T09:33:48.504Z"
   },
   {
    "duration": 23,
    "start_time": "2024-01-07T09:35:22.295Z"
   },
   {
    "duration": 3,
    "start_time": "2024-01-07T09:35:45.060Z"
   },
   {
    "duration": 4,
    "start_time": "2024-01-07T09:35:47.045Z"
   },
   {
    "duration": 26,
    "start_time": "2024-01-07T09:37:50.132Z"
   },
   {
    "duration": 532,
    "start_time": "2024-01-07T09:45:48.763Z"
   },
   {
    "duration": 513,
    "start_time": "2024-01-07T09:45:50.498Z"
   },
   {
    "duration": 46,
    "start_time": "2024-01-07T09:46:17.189Z"
   },
   {
    "duration": 12,
    "start_time": "2024-01-07T09:46:29.889Z"
   },
   {
    "duration": 15,
    "start_time": "2024-01-07T09:46:41.940Z"
   },
   {
    "duration": 50,
    "start_time": "2024-01-07T09:46:50.040Z"
   },
   {
    "duration": 51,
    "start_time": "2024-01-07T09:47:22.535Z"
   },
   {
    "duration": 49,
    "start_time": "2024-01-07T09:47:33.791Z"
   },
   {
    "duration": 380,
    "start_time": "2024-01-07T10:25:58.929Z"
   },
   {
    "duration": 75,
    "start_time": "2024-01-07T10:26:44.670Z"
   },
   {
    "duration": 50,
    "start_time": "2024-01-07T10:26:50.646Z"
   },
   {
    "duration": 57,
    "start_time": "2024-01-07T10:26:58.945Z"
   },
   {
    "duration": 51,
    "start_time": "2024-01-07T10:27:13.417Z"
   },
   {
    "duration": 49,
    "start_time": "2024-01-07T10:27:22.726Z"
   },
   {
    "duration": 46,
    "start_time": "2024-01-07T10:27:55.076Z"
   },
   {
    "duration": 53,
    "start_time": "2024-01-07T10:27:57.205Z"
   },
   {
    "duration": 58,
    "start_time": "2024-01-07T10:28:40.533Z"
   },
   {
    "duration": 59,
    "start_time": "2024-01-07T10:29:01.780Z"
   },
   {
    "duration": 58,
    "start_time": "2024-01-07T10:29:05.741Z"
   },
   {
    "duration": 56,
    "start_time": "2024-01-07T10:36:45.571Z"
   },
   {
    "duration": 69,
    "start_time": "2024-01-07T10:37:10.611Z"
   },
   {
    "duration": 100,
    "start_time": "2024-01-07T10:37:17.798Z"
   },
   {
    "duration": 57,
    "start_time": "2024-01-07T10:37:37.326Z"
   },
   {
    "duration": 69,
    "start_time": "2024-01-07T10:38:06.363Z"
   },
   {
    "duration": 24,
    "start_time": "2024-01-07T10:38:10.137Z"
   },
   {
    "duration": 67,
    "start_time": "2024-01-07T10:38:10.369Z"
   },
   {
    "duration": 1142,
    "start_time": "2024-01-07T10:38:16.053Z"
   },
   {
    "duration": 4,
    "start_time": "2024-01-07T10:38:17.196Z"
   },
   {
    "duration": 199,
    "start_time": "2024-01-07T10:38:17.201Z"
   },
   {
    "duration": 3,
    "start_time": "2024-01-07T10:38:17.402Z"
   },
   {
    "duration": 46,
    "start_time": "2024-01-07T10:38:17.406Z"
   },
   {
    "duration": 67,
    "start_time": "2024-01-07T10:38:17.453Z"
   },
   {
    "duration": 118,
    "start_time": "2024-01-07T10:38:17.521Z"
   },
   {
    "duration": 93,
    "start_time": "2024-01-07T10:38:17.641Z"
   },
   {
    "duration": 6,
    "start_time": "2024-01-07T10:38:17.735Z"
   },
   {
    "duration": 39,
    "start_time": "2024-01-07T10:38:17.744Z"
   },
   {
    "duration": 31,
    "start_time": "2024-01-07T10:38:17.785Z"
   },
   {
    "duration": 5,
    "start_time": "2024-01-07T10:38:17.818Z"
   },
   {
    "duration": 50,
    "start_time": "2024-01-07T10:38:17.824Z"
   },
   {
    "duration": 5,
    "start_time": "2024-01-07T10:38:17.876Z"
   },
   {
    "duration": 295,
    "start_time": "2024-01-07T10:38:17.882Z"
   },
   {
    "duration": 217,
    "start_time": "2024-01-07T10:38:18.179Z"
   },
   {
    "duration": 9,
    "start_time": "2024-01-07T10:38:18.398Z"
   },
   {
    "duration": 21,
    "start_time": "2024-01-07T10:38:18.409Z"
   },
   {
    "duration": 238,
    "start_time": "2024-01-07T10:38:18.431Z"
   },
   {
    "duration": 5,
    "start_time": "2024-01-07T10:38:18.671Z"
   },
   {
    "duration": 17,
    "start_time": "2024-01-07T10:38:18.678Z"
   },
   {
    "duration": 24,
    "start_time": "2024-01-07T10:38:18.696Z"
   },
   {
    "duration": 96,
    "start_time": "2024-01-07T10:38:18.722Z"
   },
   {
    "duration": 141,
    "start_time": "2024-01-07T10:38:49.010Z"
   },
   {
    "duration": 55,
    "start_time": "2024-01-07T10:38:53.782Z"
   },
   {
    "duration": 63,
    "start_time": "2024-01-07T10:39:19.374Z"
   },
   {
    "duration": 85,
    "start_time": "2024-01-07T10:39:27.354Z"
   },
   {
    "duration": 53,
    "start_time": "2024-01-07T10:39:33.465Z"
   },
   {
    "duration": 72,
    "start_time": "2024-01-07T10:57:53.472Z"
   },
   {
    "duration": 57,
    "start_time": "2024-01-07T10:58:02.495Z"
   },
   {
    "duration": 1163,
    "start_time": "2024-01-07T10:58:13.400Z"
   },
   {
    "duration": 54,
    "start_time": "2024-01-07T10:58:19.173Z"
   },
   {
    "duration": 53,
    "start_time": "2024-01-07T10:58:38.170Z"
   },
   {
    "duration": 59,
    "start_time": "2024-01-07T10:59:22.348Z"
   },
   {
    "duration": 2,
    "start_time": "2024-01-07T10:59:22.550Z"
   },
   {
    "duration": 3,
    "start_time": "2024-01-07T11:23:59.036Z"
   },
   {
    "duration": 4,
    "start_time": "2024-01-07T11:24:17.506Z"
   },
   {
    "duration": 6,
    "start_time": "2024-01-07T11:24:19.929Z"
   },
   {
    "duration": 6,
    "start_time": "2024-01-07T11:25:44.698Z"
   },
   {
    "duration": 7,
    "start_time": "2024-01-07T11:25:47.833Z"
   },
   {
    "duration": 12,
    "start_time": "2024-01-07T11:26:08.548Z"
   },
   {
    "duration": 10,
    "start_time": "2024-01-07T11:26:55.082Z"
   },
   {
    "duration": 12,
    "start_time": "2024-01-07T11:27:04.598Z"
   },
   {
    "duration": 10,
    "start_time": "2024-01-07T11:27:09.604Z"
   },
   {
    "duration": 10,
    "start_time": "2024-01-07T11:27:41.339Z"
   },
   {
    "duration": 11,
    "start_time": "2024-01-07T11:27:45.027Z"
   },
   {
    "duration": 9,
    "start_time": "2024-01-07T11:27:52.423Z"
   },
   {
    "duration": 3,
    "start_time": "2024-01-07T11:28:00.228Z"
   },
   {
    "duration": 4,
    "start_time": "2024-01-07T11:28:05.706Z"
   },
   {
    "duration": 75,
    "start_time": "2024-01-07T11:28:22.175Z"
   },
   {
    "duration": 4,
    "start_time": "2024-01-07T11:29:07.894Z"
   },
   {
    "duration": 10,
    "start_time": "2024-01-07T11:29:32.613Z"
   },
   {
    "duration": 8,
    "start_time": "2024-01-07T11:29:35.155Z"
   },
   {
    "duration": 5,
    "start_time": "2024-01-07T11:29:40.411Z"
   },
   {
    "duration": 5,
    "start_time": "2024-01-07T11:30:46.631Z"
   },
   {
    "duration": 6,
    "start_time": "2024-01-07T11:30:56.464Z"
   },
   {
    "duration": 5,
    "start_time": "2024-01-07T11:31:11.331Z"
   },
   {
    "duration": 5,
    "start_time": "2024-01-07T11:31:32.645Z"
   },
   {
    "duration": 3,
    "start_time": "2024-01-07T11:31:44.929Z"
   },
   {
    "duration": 6,
    "start_time": "2024-01-07T11:31:47.028Z"
   },
   {
    "duration": 5,
    "start_time": "2024-01-07T11:34:46.155Z"
   },
   {
    "duration": 6,
    "start_time": "2024-01-07T11:36:04.523Z"
   },
   {
    "duration": 10,
    "start_time": "2024-01-07T11:36:08.109Z"
   },
   {
    "duration": 1130,
    "start_time": "2024-01-07T11:36:14.849Z"
   },
   {
    "duration": 3,
    "start_time": "2024-01-07T11:36:15.981Z"
   },
   {
    "duration": 194,
    "start_time": "2024-01-07T11:36:15.985Z"
   },
   {
    "duration": 2,
    "start_time": "2024-01-07T11:36:16.181Z"
   },
   {
    "duration": 22,
    "start_time": "2024-01-07T11:36:16.185Z"
   },
   {
    "duration": 90,
    "start_time": "2024-01-07T11:36:16.208Z"
   },
   {
    "duration": 112,
    "start_time": "2024-01-07T11:36:16.300Z"
   },
   {
    "duration": 84,
    "start_time": "2024-01-07T11:36:16.413Z"
   },
   {
    "duration": 5,
    "start_time": "2024-01-07T11:36:16.498Z"
   },
   {
    "duration": 23,
    "start_time": "2024-01-07T11:36:16.505Z"
   },
   {
    "duration": 49,
    "start_time": "2024-01-07T11:36:16.530Z"
   },
   {
    "duration": 5,
    "start_time": "2024-01-07T11:36:16.581Z"
   },
   {
    "duration": 33,
    "start_time": "2024-01-07T11:36:16.588Z"
   },
   {
    "duration": 6,
    "start_time": "2024-01-07T11:36:16.623Z"
   },
   {
    "duration": 309,
    "start_time": "2024-01-07T11:36:16.631Z"
   },
   {
    "duration": 212,
    "start_time": "2024-01-07T11:36:16.942Z"
   },
   {
    "duration": 15,
    "start_time": "2024-01-07T11:36:17.156Z"
   },
   {
    "duration": 33,
    "start_time": "2024-01-07T11:36:17.173Z"
   },
   {
    "duration": 235,
    "start_time": "2024-01-07T11:36:17.208Z"
   },
   {
    "duration": 7,
    "start_time": "2024-01-07T11:36:17.445Z"
   },
   {
    "duration": 22,
    "start_time": "2024-01-07T11:36:17.454Z"
   },
   {
    "duration": 24,
    "start_time": "2024-01-07T11:36:17.477Z"
   },
   {
    "duration": 103,
    "start_time": "2024-01-07T11:36:17.502Z"
   },
   {
    "duration": 11,
    "start_time": "2024-01-07T11:36:17.606Z"
   },
   {
    "duration": 5,
    "start_time": "2024-01-07T11:36:17.618Z"
   },
   {
    "duration": 7,
    "start_time": "2024-01-07T11:36:17.625Z"
   },
   {
    "duration": 14,
    "start_time": "2024-01-07T11:36:17.633Z"
   },
   {
    "duration": 5,
    "start_time": "2024-01-07T11:40:10.783Z"
   },
   {
    "duration": 9,
    "start_time": "2024-01-07T11:40:14.294Z"
   },
   {
    "duration": 52,
    "start_time": "2024-01-07T11:43:16.413Z"
   },
   {
    "duration": 2,
    "start_time": "2024-01-07T11:43:16.720Z"
   },
   {
    "duration": 6,
    "start_time": "2024-01-07T11:43:17.183Z"
   },
   {
    "duration": 9,
    "start_time": "2024-01-07T11:43:17.635Z"
   },
   {
    "duration": 5,
    "start_time": "2024-01-07T11:44:44.960Z"
   },
   {
    "duration": 9,
    "start_time": "2024-01-07T11:44:46.388Z"
   },
   {
    "duration": 2,
    "start_time": "2024-01-07T11:44:57.310Z"
   },
   {
    "duration": 10,
    "start_time": "2024-01-07T11:44:57.511Z"
   },
   {
    "duration": 3,
    "start_time": "2024-01-07T11:45:49.406Z"
   },
   {
    "duration": 9,
    "start_time": "2024-01-07T11:45:49.723Z"
   },
   {
    "duration": 9,
    "start_time": "2024-01-07T11:45:53.830Z"
   },
   {
    "duration": 8,
    "start_time": "2024-01-07T11:47:50.608Z"
   },
   {
    "duration": 59,
    "start_time": "2024-01-07T11:47:59.512Z"
   },
   {
    "duration": 61,
    "start_time": "2024-01-07T11:48:07.694Z"
   },
   {
    "duration": 2,
    "start_time": "2024-01-07T11:48:07.897Z"
   },
   {
    "duration": 8,
    "start_time": "2024-01-07T11:48:08.148Z"
   },
   {
    "duration": 101,
    "start_time": "2024-01-07T11:48:30.588Z"
   },
   {
    "duration": 1046,
    "start_time": "2024-01-07T11:48:40.422Z"
   },
   {
    "duration": 3,
    "start_time": "2024-01-07T11:48:41.470Z"
   },
   {
    "duration": 182,
    "start_time": "2024-01-07T11:48:41.475Z"
   },
   {
    "duration": 6,
    "start_time": "2024-01-07T11:48:41.659Z"
   },
   {
    "duration": 19,
    "start_time": "2024-01-07T11:48:41.666Z"
   },
   {
    "duration": 86,
    "start_time": "2024-01-07T11:48:41.686Z"
   },
   {
    "duration": 117,
    "start_time": "2024-01-07T11:48:41.774Z"
   },
   {
    "duration": 81,
    "start_time": "2024-01-07T11:48:41.893Z"
   },
   {
    "duration": 5,
    "start_time": "2024-01-07T11:48:41.976Z"
   },
   {
    "duration": 23,
    "start_time": "2024-01-07T11:48:41.983Z"
   },
   {
    "duration": 31,
    "start_time": "2024-01-07T11:48:42.007Z"
   },
   {
    "duration": 28,
    "start_time": "2024-01-07T11:48:42.040Z"
   },
   {
    "duration": 52,
    "start_time": "2024-01-07T11:48:42.070Z"
   },
   {
    "duration": 6,
    "start_time": "2024-01-07T11:48:42.124Z"
   },
   {
    "duration": 308,
    "start_time": "2024-01-07T11:48:42.131Z"
   },
   {
    "duration": 211,
    "start_time": "2024-01-07T11:48:42.441Z"
   },
   {
    "duration": 14,
    "start_time": "2024-01-07T11:48:42.654Z"
   },
   {
    "duration": 20,
    "start_time": "2024-01-07T11:48:42.669Z"
   },
   {
    "duration": 226,
    "start_time": "2024-01-07T11:48:42.691Z"
   },
   {
    "duration": 6,
    "start_time": "2024-01-07T11:48:42.919Z"
   },
   {
    "duration": 12,
    "start_time": "2024-01-07T11:48:42.926Z"
   },
   {
    "duration": 37,
    "start_time": "2024-01-07T11:48:42.939Z"
   },
   {
    "duration": 96,
    "start_time": "2024-01-07T11:48:42.977Z"
   },
   {
    "duration": 97,
    "start_time": "2024-01-07T11:48:43.074Z"
   },
   {
    "duration": 0,
    "start_time": "2024-01-07T11:48:43.172Z"
   },
   {
    "duration": 0,
    "start_time": "2024-01-07T11:48:43.174Z"
   },
   {
    "duration": 10,
    "start_time": "2024-01-07T11:49:39.898Z"
   },
   {
    "duration": 8,
    "start_time": "2024-01-07T11:49:46.507Z"
   },
   {
    "duration": 4,
    "start_time": "2024-01-07T11:49:48.392Z"
   },
   {
    "duration": 9,
    "start_time": "2024-01-07T11:50:08.554Z"
   },
   {
    "duration": 8,
    "start_time": "2024-01-07T11:50:30.958Z"
   },
   {
    "duration": 8,
    "start_time": "2024-01-07T11:50:40.212Z"
   },
   {
    "duration": 116,
    "start_time": "2024-01-07T11:50:57.374Z"
   },
   {
    "duration": 13,
    "start_time": "2024-01-07T11:51:04.097Z"
   },
   {
    "duration": 98,
    "start_time": "2024-01-07T11:51:12.544Z"
   },
   {
    "duration": 7,
    "start_time": "2024-01-07T11:51:18.290Z"
   },
   {
    "duration": 74,
    "start_time": "2024-01-07T11:51:47.806Z"
   },
   {
    "duration": 78,
    "start_time": "2024-01-07T11:51:53.150Z"
   },
   {
    "duration": 96,
    "start_time": "2024-01-07T11:51:57.619Z"
   },
   {
    "duration": 10,
    "start_time": "2024-01-07T11:51:59.602Z"
   },
   {
    "duration": 9,
    "start_time": "2024-01-07T11:52:17.350Z"
   },
   {
    "duration": 8,
    "start_time": "2024-01-07T11:52:34.223Z"
   },
   {
    "duration": 9,
    "start_time": "2024-01-07T11:53:03.219Z"
   },
   {
    "duration": 1146,
    "start_time": "2024-01-07T11:53:18.534Z"
   },
   {
    "duration": 3,
    "start_time": "2024-01-07T11:53:19.681Z"
   },
   {
    "duration": 187,
    "start_time": "2024-01-07T11:53:19.685Z"
   },
   {
    "duration": 3,
    "start_time": "2024-01-07T11:53:19.874Z"
   },
   {
    "duration": 21,
    "start_time": "2024-01-07T11:53:19.879Z"
   },
   {
    "duration": 88,
    "start_time": "2024-01-07T11:53:19.901Z"
   },
   {
    "duration": 112,
    "start_time": "2024-01-07T11:53:19.991Z"
   },
   {
    "duration": 89,
    "start_time": "2024-01-07T11:53:20.104Z"
   },
   {
    "duration": 5,
    "start_time": "2024-01-07T11:53:20.195Z"
   },
   {
    "duration": 24,
    "start_time": "2024-01-07T11:53:20.202Z"
   },
   {
    "duration": 45,
    "start_time": "2024-01-07T11:53:20.228Z"
   },
   {
    "duration": 6,
    "start_time": "2024-01-07T11:53:20.274Z"
   },
   {
    "duration": 30,
    "start_time": "2024-01-07T11:53:20.281Z"
   },
   {
    "duration": 6,
    "start_time": "2024-01-07T11:53:20.312Z"
   },
   {
    "duration": 319,
    "start_time": "2024-01-07T11:53:20.320Z"
   },
   {
    "duration": 220,
    "start_time": "2024-01-07T11:53:20.641Z"
   },
   {
    "duration": 8,
    "start_time": "2024-01-07T11:53:20.864Z"
   },
   {
    "duration": 20,
    "start_time": "2024-01-07T11:53:20.873Z"
   },
   {
    "duration": 228,
    "start_time": "2024-01-07T11:53:20.895Z"
   },
   {
    "duration": 6,
    "start_time": "2024-01-07T11:53:21.124Z"
   },
   {
    "duration": 25,
    "start_time": "2024-01-07T11:53:21.131Z"
   },
   {
    "duration": 39,
    "start_time": "2024-01-07T11:53:21.158Z"
   },
   {
    "duration": 89,
    "start_time": "2024-01-07T11:53:21.198Z"
   },
   {
    "duration": 94,
    "start_time": "2024-01-07T11:53:21.289Z"
   },
   {
    "duration": 0,
    "start_time": "2024-01-07T11:53:21.385Z"
   },
   {
    "duration": 0,
    "start_time": "2024-01-07T11:53:21.386Z"
   },
   {
    "duration": 84,
    "start_time": "2024-01-07T11:55:04.287Z"
   },
   {
    "duration": 9,
    "start_time": "2024-01-07T11:55:17.051Z"
   },
   {
    "duration": 3,
    "start_time": "2024-01-07T11:55:29.645Z"
   },
   {
    "duration": 3,
    "start_time": "2024-01-07T11:55:34.858Z"
   },
   {
    "duration": 2,
    "start_time": "2024-01-07T11:55:35.195Z"
   },
   {
    "duration": 7,
    "start_time": "2024-01-07T11:55:35.534Z"
   },
   {
    "duration": 6,
    "start_time": "2024-01-07T11:56:13.779Z"
   },
   {
    "duration": 10,
    "start_time": "2024-01-07T11:56:16.477Z"
   },
   {
    "duration": 1072,
    "start_time": "2024-01-07T11:56:20.926Z"
   },
   {
    "duration": 3,
    "start_time": "2024-01-07T11:56:22.000Z"
   },
   {
    "duration": 182,
    "start_time": "2024-01-07T11:56:22.004Z"
   },
   {
    "duration": 2,
    "start_time": "2024-01-07T11:56:22.188Z"
   },
   {
    "duration": 38,
    "start_time": "2024-01-07T11:56:22.191Z"
   },
   {
    "duration": 67,
    "start_time": "2024-01-07T11:56:22.230Z"
   },
   {
    "duration": 113,
    "start_time": "2024-01-07T11:56:22.299Z"
   },
   {
    "duration": 76,
    "start_time": "2024-01-07T11:56:22.414Z"
   },
   {
    "duration": 5,
    "start_time": "2024-01-07T11:56:22.491Z"
   },
   {
    "duration": 22,
    "start_time": "2024-01-07T11:56:22.499Z"
   },
   {
    "duration": 48,
    "start_time": "2024-01-07T11:56:22.522Z"
   },
   {
    "duration": 6,
    "start_time": "2024-01-07T11:56:22.571Z"
   },
   {
    "duration": 29,
    "start_time": "2024-01-07T11:56:22.578Z"
   },
   {
    "duration": 5,
    "start_time": "2024-01-07T11:56:22.608Z"
   },
   {
    "duration": 302,
    "start_time": "2024-01-07T11:56:22.615Z"
   },
   {
    "duration": 238,
    "start_time": "2024-01-07T11:56:22.919Z"
   },
   {
    "duration": 12,
    "start_time": "2024-01-07T11:56:23.159Z"
   },
   {
    "duration": 21,
    "start_time": "2024-01-07T11:56:23.172Z"
   },
   {
    "duration": 236,
    "start_time": "2024-01-07T11:56:23.194Z"
   },
   {
    "duration": 6,
    "start_time": "2024-01-07T11:56:23.431Z"
   },
   {
    "duration": 12,
    "start_time": "2024-01-07T11:56:23.439Z"
   },
   {
    "duration": 36,
    "start_time": "2024-01-07T11:56:23.452Z"
   },
   {
    "duration": 99,
    "start_time": "2024-01-07T11:56:23.489Z"
   },
   {
    "duration": 97,
    "start_time": "2024-01-07T11:56:23.590Z"
   },
   {
    "duration": 0,
    "start_time": "2024-01-07T11:56:23.689Z"
   },
   {
    "duration": 0,
    "start_time": "2024-01-07T11:56:23.690Z"
   },
   {
    "duration": 11,
    "start_time": "2024-01-07T11:56:33.674Z"
   },
   {
    "duration": 3,
    "start_time": "2024-01-07T11:56:39.202Z"
   },
   {
    "duration": 8,
    "start_time": "2024-01-07T11:56:39.401Z"
   },
   {
    "duration": 10,
    "start_time": "2024-01-07T12:07:11.773Z"
   },
   {
    "duration": 3,
    "start_time": "2024-01-07T12:07:12.850Z"
   },
   {
    "duration": 7,
    "start_time": "2024-01-07T12:07:13.220Z"
   },
   {
    "duration": 3,
    "start_time": "2024-01-07T12:07:20.952Z"
   },
   {
    "duration": 7,
    "start_time": "2024-01-07T12:07:21.375Z"
   },
   {
    "duration": 1120,
    "start_time": "2024-01-07T12:07:32.179Z"
   },
   {
    "duration": 4,
    "start_time": "2024-01-07T12:07:33.301Z"
   },
   {
    "duration": 186,
    "start_time": "2024-01-07T12:07:33.306Z"
   },
   {
    "duration": 3,
    "start_time": "2024-01-07T12:07:33.494Z"
   },
   {
    "duration": 23,
    "start_time": "2024-01-07T12:07:33.498Z"
   },
   {
    "duration": 87,
    "start_time": "2024-01-07T12:07:33.523Z"
   },
   {
    "duration": 124,
    "start_time": "2024-01-07T12:07:33.611Z"
   },
   {
    "duration": 89,
    "start_time": "2024-01-07T12:07:33.737Z"
   },
   {
    "duration": 5,
    "start_time": "2024-01-07T12:07:33.828Z"
   },
   {
    "duration": 33,
    "start_time": "2024-01-07T12:07:33.836Z"
   },
   {
    "duration": 33,
    "start_time": "2024-01-07T12:07:33.871Z"
   },
   {
    "duration": 6,
    "start_time": "2024-01-07T12:07:33.906Z"
   },
   {
    "duration": 56,
    "start_time": "2024-01-07T12:07:33.913Z"
   },
   {
    "duration": 5,
    "start_time": "2024-01-07T12:07:33.971Z"
   },
   {
    "duration": 295,
    "start_time": "2024-01-07T12:07:33.978Z"
   },
   {
    "duration": 236,
    "start_time": "2024-01-07T12:07:34.274Z"
   },
   {
    "duration": 10,
    "start_time": "2024-01-07T12:07:34.512Z"
   },
   {
    "duration": 21,
    "start_time": "2024-01-07T12:07:34.524Z"
   },
   {
    "duration": 230,
    "start_time": "2024-01-07T12:07:34.565Z"
   },
   {
    "duration": 8,
    "start_time": "2024-01-07T12:07:34.797Z"
   },
   {
    "duration": 13,
    "start_time": "2024-01-07T12:07:34.806Z"
   },
   {
    "duration": 45,
    "start_time": "2024-01-07T12:07:34.821Z"
   },
   {
    "duration": 101,
    "start_time": "2024-01-07T12:07:34.868Z"
   },
   {
    "duration": 3,
    "start_time": "2024-01-07T12:07:34.971Z"
   },
   {
    "duration": 8,
    "start_time": "2024-01-07T12:07:34.975Z"
   },
   {
    "duration": 7,
    "start_time": "2024-01-07T12:07:51.764Z"
   },
   {
    "duration": 3,
    "start_time": "2024-01-07T12:08:02.666Z"
   },
   {
    "duration": 10,
    "start_time": "2024-01-07T12:08:05.484Z"
   },
   {
    "duration": 7,
    "start_time": "2024-01-07T12:08:50.898Z"
   },
   {
    "duration": 7,
    "start_time": "2024-01-07T12:10:29.401Z"
   },
   {
    "duration": 7,
    "start_time": "2024-01-07T12:10:36.193Z"
   },
   {
    "duration": 1080,
    "start_time": "2024-01-07T12:10:41.107Z"
   },
   {
    "duration": 4,
    "start_time": "2024-01-07T12:10:42.188Z"
   },
   {
    "duration": 181,
    "start_time": "2024-01-07T12:10:42.193Z"
   },
   {
    "duration": 3,
    "start_time": "2024-01-07T12:10:42.376Z"
   },
   {
    "duration": 23,
    "start_time": "2024-01-07T12:10:42.381Z"
   },
   {
    "duration": 85,
    "start_time": "2024-01-07T12:10:42.405Z"
   },
   {
    "duration": 128,
    "start_time": "2024-01-07T12:10:42.491Z"
   },
   {
    "duration": 93,
    "start_time": "2024-01-07T12:10:42.621Z"
   },
   {
    "duration": 6,
    "start_time": "2024-01-07T12:10:42.715Z"
   },
   {
    "duration": 24,
    "start_time": "2024-01-07T12:10:42.723Z"
   },
   {
    "duration": 41,
    "start_time": "2024-01-07T12:10:42.748Z"
   },
   {
    "duration": 5,
    "start_time": "2024-01-07T12:10:42.790Z"
   },
   {
    "duration": 32,
    "start_time": "2024-01-07T12:10:42.796Z"
   },
   {
    "duration": 5,
    "start_time": "2024-01-07T12:10:42.829Z"
   },
   {
    "duration": 300,
    "start_time": "2024-01-07T12:10:42.836Z"
   },
   {
    "duration": 219,
    "start_time": "2024-01-07T12:10:43.137Z"
   },
   {
    "duration": 12,
    "start_time": "2024-01-07T12:10:43.358Z"
   },
   {
    "duration": 20,
    "start_time": "2024-01-07T12:10:43.372Z"
   },
   {
    "duration": 233,
    "start_time": "2024-01-07T12:10:43.393Z"
   },
   {
    "duration": 6,
    "start_time": "2024-01-07T12:10:43.628Z"
   },
   {
    "duration": 16,
    "start_time": "2024-01-07T12:10:43.635Z"
   },
   {
    "duration": 32,
    "start_time": "2024-01-07T12:10:43.652Z"
   },
   {
    "duration": 99,
    "start_time": "2024-01-07T12:10:43.685Z"
   },
   {
    "duration": 2,
    "start_time": "2024-01-07T12:10:43.786Z"
   },
   {
    "duration": 9,
    "start_time": "2024-01-07T12:10:43.789Z"
   },
   {
    "duration": 5,
    "start_time": "2024-01-07T12:11:25.280Z"
   },
   {
    "duration": 98,
    "start_time": "2024-01-07T12:11:38.588Z"
   },
   {
    "duration": 9,
    "start_time": "2024-01-07T12:12:05.932Z"
   },
   {
    "duration": 3,
    "start_time": "2024-01-07T12:12:30.153Z"
   },
   {
    "duration": 5,
    "start_time": "2024-01-07T12:12:32.032Z"
   },
   {
    "duration": 5,
    "start_time": "2024-01-07T12:12:39.818Z"
   },
   {
    "duration": 6,
    "start_time": "2024-01-07T12:14:28.410Z"
   },
   {
    "duration": 6,
    "start_time": "2024-01-07T12:14:36.834Z"
   },
   {
    "duration": 1107,
    "start_time": "2024-01-07T12:14:45.795Z"
   },
   {
    "duration": 4,
    "start_time": "2024-01-07T12:14:46.903Z"
   },
   {
    "duration": 189,
    "start_time": "2024-01-07T12:14:46.908Z"
   },
   {
    "duration": 2,
    "start_time": "2024-01-07T12:14:47.099Z"
   },
   {
    "duration": 21,
    "start_time": "2024-01-07T12:14:47.103Z"
   },
   {
    "duration": 93,
    "start_time": "2024-01-07T12:14:47.126Z"
   },
   {
    "duration": 121,
    "start_time": "2024-01-07T12:14:47.221Z"
   },
   {
    "duration": 89,
    "start_time": "2024-01-07T12:14:47.344Z"
   },
   {
    "duration": 6,
    "start_time": "2024-01-07T12:14:47.435Z"
   },
   {
    "duration": 38,
    "start_time": "2024-01-07T12:14:47.444Z"
   },
   {
    "duration": 33,
    "start_time": "2024-01-07T12:14:47.484Z"
   },
   {
    "duration": 6,
    "start_time": "2024-01-07T12:14:47.519Z"
   },
   {
    "duration": 53,
    "start_time": "2024-01-07T12:14:47.527Z"
   },
   {
    "duration": 5,
    "start_time": "2024-01-07T12:14:47.582Z"
   },
   {
    "duration": 298,
    "start_time": "2024-01-07T12:14:47.589Z"
   },
   {
    "duration": 220,
    "start_time": "2024-01-07T12:14:47.888Z"
   },
   {
    "duration": 8,
    "start_time": "2024-01-07T12:14:48.110Z"
   },
   {
    "duration": 20,
    "start_time": "2024-01-07T12:14:48.119Z"
   },
   {
    "duration": 234,
    "start_time": "2024-01-07T12:14:48.141Z"
   },
   {
    "duration": 6,
    "start_time": "2024-01-07T12:14:48.376Z"
   },
   {
    "duration": 13,
    "start_time": "2024-01-07T12:14:48.383Z"
   },
   {
    "duration": 23,
    "start_time": "2024-01-07T12:14:48.398Z"
   },
   {
    "duration": 115,
    "start_time": "2024-01-07T12:14:48.422Z"
   },
   {
    "duration": 3,
    "start_time": "2024-01-07T12:14:48.539Z"
   },
   {
    "duration": 6,
    "start_time": "2024-01-07T12:14:48.543Z"
   },
   {
    "duration": 1240,
    "start_time": "2024-01-07T12:15:33.463Z"
   },
   {
    "duration": 1239,
    "start_time": "2024-01-07T12:16:08.124Z"
   },
   {
    "duration": 1229,
    "start_time": "2024-01-07T12:16:18.199Z"
   },
   {
    "duration": 1230,
    "start_time": "2024-01-07T12:16:23.712Z"
   },
   {
    "duration": 4,
    "start_time": "2024-01-07T12:16:58.475Z"
   },
   {
    "duration": 3,
    "start_time": "2024-01-07T12:17:25.599Z"
   },
   {
    "duration": 3,
    "start_time": "2024-01-07T12:17:38.131Z"
   },
   {
    "duration": 3,
    "start_time": "2024-01-07T12:17:47.365Z"
   },
   {
    "duration": 15,
    "start_time": "2024-01-07T13:05:19.305Z"
   },
   {
    "duration": 1070,
    "start_time": "2024-01-07T13:05:25.410Z"
   },
   {
    "duration": 3,
    "start_time": "2024-01-07T13:05:26.482Z"
   },
   {
    "duration": 192,
    "start_time": "2024-01-07T13:05:26.488Z"
   },
   {
    "duration": 2,
    "start_time": "2024-01-07T13:05:26.683Z"
   },
   {
    "duration": 23,
    "start_time": "2024-01-07T13:05:26.687Z"
   },
   {
    "duration": 93,
    "start_time": "2024-01-07T13:05:26.711Z"
   },
   {
    "duration": 128,
    "start_time": "2024-01-07T13:05:26.805Z"
   },
   {
    "duration": 86,
    "start_time": "2024-01-07T13:05:26.935Z"
   },
   {
    "duration": 5,
    "start_time": "2024-01-07T13:05:27.023Z"
   },
   {
    "duration": 23,
    "start_time": "2024-01-07T13:05:27.029Z"
   },
   {
    "duration": 34,
    "start_time": "2024-01-07T13:05:27.064Z"
   },
   {
    "duration": 6,
    "start_time": "2024-01-07T13:05:27.099Z"
   },
   {
    "duration": 32,
    "start_time": "2024-01-07T13:05:27.107Z"
   },
   {
    "duration": 7,
    "start_time": "2024-01-07T13:05:27.164Z"
   },
   {
    "duration": 303,
    "start_time": "2024-01-07T13:05:27.172Z"
   },
   {
    "duration": 214,
    "start_time": "2024-01-07T13:05:27.476Z"
   },
   {
    "duration": 8,
    "start_time": "2024-01-07T13:05:27.691Z"
   },
   {
    "duration": 23,
    "start_time": "2024-01-07T13:05:27.701Z"
   },
   {
    "duration": 252,
    "start_time": "2024-01-07T13:05:27.726Z"
   },
   {
    "duration": 7,
    "start_time": "2024-01-07T13:05:27.980Z"
   },
   {
    "duration": 13,
    "start_time": "2024-01-07T13:05:27.988Z"
   },
   {
    "duration": 25,
    "start_time": "2024-01-07T13:05:28.002Z"
   },
   {
    "duration": 107,
    "start_time": "2024-01-07T13:05:28.028Z"
   },
   {
    "duration": 2,
    "start_time": "2024-01-07T13:05:28.136Z"
   },
   {
    "duration": 7,
    "start_time": "2024-01-07T13:05:28.139Z"
   },
   {
    "duration": 6,
    "start_time": "2024-01-07T13:05:28.148Z"
   },
   {
    "duration": 13,
    "start_time": "2024-01-07T13:05:28.165Z"
   },
   {
    "duration": 67,
    "start_time": "2024-01-07T13:08:29.131Z"
   },
   {
    "duration": 30,
    "start_time": "2024-01-07T13:08:37.707Z"
   },
   {
    "duration": 33,
    "start_time": "2024-01-07T13:09:00.890Z"
   },
   {
    "duration": 56,
    "start_time": "2024-01-07T13:21:43.766Z"
   },
   {
    "duration": 34,
    "start_time": "2024-01-07T13:21:47.853Z"
   },
   {
    "duration": 51,
    "start_time": "2024-01-07T14:00:37.197Z"
   },
   {
    "duration": 52,
    "start_time": "2024-01-07T14:00:42.730Z"
   },
   {
    "duration": 111,
    "start_time": "2024-01-07T14:02:00.609Z"
   },
   {
    "duration": 25,
    "start_time": "2024-01-07T14:02:45.001Z"
   },
   {
    "duration": 26,
    "start_time": "2024-01-07T14:03:04.461Z"
   },
   {
    "duration": 20,
    "start_time": "2024-01-07T14:03:37.160Z"
   },
   {
    "duration": 18,
    "start_time": "2024-01-07T14:05:01.386Z"
   },
   {
    "duration": 18,
    "start_time": "2024-01-07T14:05:20.857Z"
   },
   {
    "duration": 18,
    "start_time": "2024-01-07T14:05:47.807Z"
   },
   {
    "duration": 14,
    "start_time": "2024-01-07T14:06:03.348Z"
   },
   {
    "duration": 22,
    "start_time": "2024-01-07T14:06:11.585Z"
   },
   {
    "duration": 64,
    "start_time": "2024-01-07T14:06:23.462Z"
   },
   {
    "duration": 59,
    "start_time": "2024-01-07T14:06:26.428Z"
   },
   {
    "duration": 14,
    "start_time": "2024-01-07T14:09:19.185Z"
   },
   {
    "duration": 65,
    "start_time": "2024-01-07T14:09:19.580Z"
   },
   {
    "duration": 1081,
    "start_time": "2024-01-07T14:09:25.115Z"
   },
   {
    "duration": 4,
    "start_time": "2024-01-07T14:09:26.198Z"
   },
   {
    "duration": 192,
    "start_time": "2024-01-07T14:09:26.203Z"
   },
   {
    "duration": 3,
    "start_time": "2024-01-07T14:09:26.396Z"
   },
   {
    "duration": 36,
    "start_time": "2024-01-07T14:09:26.400Z"
   },
   {
    "duration": 86,
    "start_time": "2024-01-07T14:09:26.437Z"
   },
   {
    "duration": 106,
    "start_time": "2024-01-07T14:09:26.524Z"
   },
   {
    "duration": 83,
    "start_time": "2024-01-07T14:09:26.631Z"
   },
   {
    "duration": 4,
    "start_time": "2024-01-07T14:09:26.716Z"
   },
   {
    "duration": 32,
    "start_time": "2024-01-07T14:09:26.722Z"
   },
   {
    "duration": 40,
    "start_time": "2024-01-07T14:09:26.755Z"
   },
   {
    "duration": 25,
    "start_time": "2024-01-07T14:09:26.796Z"
   },
   {
    "duration": 42,
    "start_time": "2024-01-07T14:09:26.822Z"
   },
   {
    "duration": 5,
    "start_time": "2024-01-07T14:09:26.865Z"
   },
   {
    "duration": 309,
    "start_time": "2024-01-07T14:09:26.872Z"
   },
   {
    "duration": 231,
    "start_time": "2024-01-07T14:09:27.182Z"
   },
   {
    "duration": 9,
    "start_time": "2024-01-07T14:09:27.415Z"
   },
   {
    "duration": 38,
    "start_time": "2024-01-07T14:09:27.425Z"
   },
   {
    "duration": 219,
    "start_time": "2024-01-07T14:09:27.465Z"
   },
   {
    "duration": 6,
    "start_time": "2024-01-07T14:09:27.686Z"
   },
   {
    "duration": 17,
    "start_time": "2024-01-07T14:09:27.693Z"
   },
   {
    "duration": 57,
    "start_time": "2024-01-07T14:09:27.711Z"
   },
   {
    "duration": 104,
    "start_time": "2024-01-07T14:09:27.770Z"
   },
   {
    "duration": 3,
    "start_time": "2024-01-07T14:09:27.875Z"
   },
   {
    "duration": 35,
    "start_time": "2024-01-07T14:09:27.879Z"
   },
   {
    "duration": 9,
    "start_time": "2024-01-07T14:09:27.916Z"
   },
   {
    "duration": 50,
    "start_time": "2024-01-07T14:09:27.926Z"
   },
   {
    "duration": 18,
    "start_time": "2024-01-07T14:09:27.979Z"
   },
   {
    "duration": 81,
    "start_time": "2024-01-07T14:09:27.999Z"
   },
   {
    "duration": 107,
    "start_time": "2024-01-07T14:09:28.081Z"
   },
   {
    "duration": 20,
    "start_time": "2024-01-07T14:12:43.701Z"
   },
   {
    "duration": 34,
    "start_time": "2024-01-07T14:13:11.948Z"
   },
   {
    "duration": 36,
    "start_time": "2024-01-07T14:13:17.466Z"
   },
   {
    "duration": 10,
    "start_time": "2024-01-07T14:15:27.635Z"
   },
   {
    "duration": 39,
    "start_time": "2024-01-07T14:15:34.369Z"
   },
   {
    "duration": 59,
    "start_time": "2024-01-07T14:16:02.901Z"
   },
   {
    "duration": 62,
    "start_time": "2024-01-07T14:16:07.176Z"
   },
   {
    "duration": 73,
    "start_time": "2024-01-07T14:16:21.758Z"
   },
   {
    "duration": 80,
    "start_time": "2024-01-07T14:17:04.302Z"
   },
   {
    "duration": 83,
    "start_time": "2024-01-07T14:21:22.110Z"
   },
   {
    "duration": 78,
    "start_time": "2024-01-07T14:21:32.277Z"
   },
   {
    "duration": 85,
    "start_time": "2024-01-07T14:21:39.263Z"
   },
   {
    "duration": 81,
    "start_time": "2024-01-07T14:21:44.864Z"
   },
   {
    "duration": 1116,
    "start_time": "2024-01-07T14:23:10.854Z"
   },
   {
    "duration": 3,
    "start_time": "2024-01-07T14:23:11.972Z"
   },
   {
    "duration": 182,
    "start_time": "2024-01-07T14:23:11.977Z"
   },
   {
    "duration": 3,
    "start_time": "2024-01-07T14:23:12.162Z"
   },
   {
    "duration": 27,
    "start_time": "2024-01-07T14:23:12.166Z"
   },
   {
    "duration": 74,
    "start_time": "2024-01-07T14:23:12.194Z"
   },
   {
    "duration": 114,
    "start_time": "2024-01-07T14:23:12.270Z"
   },
   {
    "duration": 84,
    "start_time": "2024-01-07T14:23:12.386Z"
   },
   {
    "duration": 5,
    "start_time": "2024-01-07T14:23:12.472Z"
   },
   {
    "duration": 21,
    "start_time": "2024-01-07T14:23:12.479Z"
   },
   {
    "duration": 31,
    "start_time": "2024-01-07T14:23:12.501Z"
   },
   {
    "duration": 11,
    "start_time": "2024-01-07T14:23:12.533Z"
   },
   {
    "duration": 50,
    "start_time": "2024-01-07T14:23:12.545Z"
   },
   {
    "duration": 7,
    "start_time": "2024-01-07T14:23:12.596Z"
   },
   {
    "duration": 298,
    "start_time": "2024-01-07T14:23:12.604Z"
   },
   {
    "duration": 225,
    "start_time": "2024-01-07T14:23:12.904Z"
   },
   {
    "duration": 9,
    "start_time": "2024-01-07T14:23:13.130Z"
   },
   {
    "duration": 34,
    "start_time": "2024-01-07T14:23:13.141Z"
   },
   {
    "duration": 231,
    "start_time": "2024-01-07T14:23:13.176Z"
   },
   {
    "duration": 6,
    "start_time": "2024-01-07T14:23:13.408Z"
   },
   {
    "duration": 42,
    "start_time": "2024-01-07T14:23:13.416Z"
   },
   {
    "duration": 23,
    "start_time": "2024-01-07T14:23:13.460Z"
   },
   {
    "duration": 88,
    "start_time": "2024-01-07T14:23:13.485Z"
   },
   {
    "duration": 3,
    "start_time": "2024-01-07T14:23:13.574Z"
   },
   {
    "duration": 21,
    "start_time": "2024-01-07T14:23:13.578Z"
   },
   {
    "duration": 13,
    "start_time": "2024-01-07T14:23:13.600Z"
   },
   {
    "duration": 46,
    "start_time": "2024-01-07T14:23:13.614Z"
   },
   {
    "duration": 16,
    "start_time": "2024-01-07T14:23:13.663Z"
   },
   {
    "duration": 86,
    "start_time": "2024-01-07T14:23:13.681Z"
   },
   {
    "duration": 75,
    "start_time": "2024-01-07T14:25:45.422Z"
   },
   {
    "duration": 1089,
    "start_time": "2024-01-07T14:26:02.309Z"
   },
   {
    "duration": 3,
    "start_time": "2024-01-07T14:26:03.401Z"
   },
   {
    "duration": 187,
    "start_time": "2024-01-07T14:26:03.406Z"
   },
   {
    "duration": 2,
    "start_time": "2024-01-07T14:26:03.595Z"
   },
   {
    "duration": 25,
    "start_time": "2024-01-07T14:26:03.599Z"
   },
   {
    "duration": 77,
    "start_time": "2024-01-07T14:26:03.626Z"
   },
   {
    "duration": 122,
    "start_time": "2024-01-07T14:26:03.704Z"
   },
   {
    "duration": 85,
    "start_time": "2024-01-07T14:26:03.827Z"
   },
   {
    "duration": 6,
    "start_time": "2024-01-07T14:26:03.913Z"
   },
   {
    "duration": 27,
    "start_time": "2024-01-07T14:26:03.921Z"
   },
   {
    "duration": 42,
    "start_time": "2024-01-07T14:26:03.949Z"
   },
   {
    "duration": 5,
    "start_time": "2024-01-07T14:26:03.992Z"
   },
   {
    "duration": 49,
    "start_time": "2024-01-07T14:26:03.998Z"
   },
   {
    "duration": 17,
    "start_time": "2024-01-07T14:26:04.048Z"
   },
   {
    "duration": 283,
    "start_time": "2024-01-07T14:26:04.067Z"
   },
   {
    "duration": 221,
    "start_time": "2024-01-07T14:26:04.351Z"
   },
   {
    "duration": 9,
    "start_time": "2024-01-07T14:26:04.574Z"
   },
   {
    "duration": 23,
    "start_time": "2024-01-07T14:26:04.585Z"
   },
   {
    "duration": 246,
    "start_time": "2024-01-07T14:26:04.610Z"
   },
   {
    "duration": 11,
    "start_time": "2024-01-07T14:26:04.857Z"
   },
   {
    "duration": 12,
    "start_time": "2024-01-07T14:26:04.869Z"
   },
   {
    "duration": 22,
    "start_time": "2024-01-07T14:26:04.883Z"
   },
   {
    "duration": 101,
    "start_time": "2024-01-07T14:26:04.907Z"
   },
   {
    "duration": 2,
    "start_time": "2024-01-07T14:26:05.009Z"
   },
   {
    "duration": 10,
    "start_time": "2024-01-07T14:26:05.013Z"
   },
   {
    "duration": 5,
    "start_time": "2024-01-07T14:26:05.025Z"
   },
   {
    "duration": 46,
    "start_time": "2024-01-07T14:26:05.031Z"
   },
   {
    "duration": 14,
    "start_time": "2024-01-07T14:26:05.079Z"
   },
   {
    "duration": 90,
    "start_time": "2024-01-07T14:26:05.095Z"
   },
   {
    "duration": 92,
    "start_time": "2024-01-07T14:26:05.186Z"
   },
   {
    "duration": 440,
    "start_time": "2024-01-07T14:27:03.147Z"
   },
   {
    "duration": 75,
    "start_time": "2024-01-07T14:27:12.544Z"
   },
   {
    "duration": 76,
    "start_time": "2024-01-07T14:27:17.884Z"
   },
   {
    "duration": 66,
    "start_time": "2024-01-07T15:22:38.135Z"
   },
   {
    "duration": 4,
    "start_time": "2024-01-07T15:22:40.261Z"
   },
   {
    "duration": 1272,
    "start_time": "2024-01-08T06:04:13.958Z"
   },
   {
    "duration": 3,
    "start_time": "2024-01-08T06:04:15.232Z"
   },
   {
    "duration": 529,
    "start_time": "2024-01-08T06:04:15.236Z"
   },
   {
    "duration": 2,
    "start_time": "2024-01-08T06:04:15.767Z"
   },
   {
    "duration": 22,
    "start_time": "2024-01-08T06:04:15.770Z"
   },
   {
    "duration": 72,
    "start_time": "2024-01-08T06:04:15.793Z"
   },
   {
    "duration": 106,
    "start_time": "2024-01-08T06:04:15.866Z"
   },
   {
    "duration": 77,
    "start_time": "2024-01-08T06:04:15.973Z"
   },
   {
    "duration": 5,
    "start_time": "2024-01-08T06:04:16.051Z"
   },
   {
    "duration": 42,
    "start_time": "2024-01-08T06:04:16.058Z"
   },
   {
    "duration": 29,
    "start_time": "2024-01-08T06:04:16.101Z"
   },
   {
    "duration": 5,
    "start_time": "2024-01-08T06:04:16.131Z"
   },
   {
    "duration": 32,
    "start_time": "2024-01-08T06:04:16.137Z"
   },
   {
    "duration": 4,
    "start_time": "2024-01-08T06:04:16.171Z"
   },
   {
    "duration": 282,
    "start_time": "2024-01-08T06:04:16.176Z"
   },
   {
    "duration": 203,
    "start_time": "2024-01-08T06:04:16.459Z"
   },
   {
    "duration": 8,
    "start_time": "2024-01-08T06:04:16.663Z"
   },
   {
    "duration": 24,
    "start_time": "2024-01-08T06:04:16.672Z"
   },
   {
    "duration": 227,
    "start_time": "2024-01-08T06:04:16.698Z"
   },
   {
    "duration": 7,
    "start_time": "2024-01-08T06:04:16.927Z"
   },
   {
    "duration": 48,
    "start_time": "2024-01-08T06:04:16.935Z"
   },
   {
    "duration": 98,
    "start_time": "2024-01-08T06:04:16.984Z"
   },
   {
    "duration": 2,
    "start_time": "2024-01-08T06:04:17.083Z"
   },
   {
    "duration": 14,
    "start_time": "2024-01-08T06:04:17.086Z"
   },
   {
    "duration": 10,
    "start_time": "2024-01-08T06:04:17.101Z"
   },
   {
    "duration": 35,
    "start_time": "2024-01-08T06:04:17.112Z"
   },
   {
    "duration": 15,
    "start_time": "2024-01-08T06:04:17.149Z"
   },
   {
    "duration": 83,
    "start_time": "2024-01-08T06:04:17.166Z"
   },
   {
    "duration": 87,
    "start_time": "2024-01-08T06:06:38.754Z"
   },
   {
    "duration": 11,
    "start_time": "2024-01-08T06:06:47.114Z"
   },
   {
    "duration": 5,
    "start_time": "2024-01-08T06:06:53.313Z"
   },
   {
    "duration": 5,
    "start_time": "2024-01-08T06:11:23.380Z"
   },
   {
    "duration": 9,
    "start_time": "2024-01-08T06:13:12.554Z"
   },
   {
    "duration": 7,
    "start_time": "2024-01-08T06:13:36.630Z"
   },
   {
    "duration": 3,
    "start_time": "2024-01-08T06:23:04.088Z"
   },
   {
    "duration": 4,
    "start_time": "2024-01-08T06:23:09.749Z"
   },
   {
    "duration": 4,
    "start_time": "2024-01-08T06:23:14.039Z"
   },
   {
    "duration": 3,
    "start_time": "2024-01-08T06:23:26.093Z"
   },
   {
    "duration": 5,
    "start_time": "2024-01-08T06:23:33.884Z"
   },
   {
    "duration": 1086,
    "start_time": "2024-01-08T06:23:53.742Z"
   },
   {
    "duration": 3,
    "start_time": "2024-01-08T06:23:54.830Z"
   },
   {
    "duration": 196,
    "start_time": "2024-01-08T06:23:54.834Z"
   },
   {
    "duration": 3,
    "start_time": "2024-01-08T06:23:55.032Z"
   },
   {
    "duration": 19,
    "start_time": "2024-01-08T06:23:55.044Z"
   },
   {
    "duration": 64,
    "start_time": "2024-01-08T06:23:55.064Z"
   },
   {
    "duration": 193,
    "start_time": "2024-01-08T06:23:55.129Z"
   },
   {
    "duration": 325,
    "start_time": "2024-01-08T06:23:55.323Z"
   },
   {
    "duration": 382,
    "start_time": "2024-01-08T06:23:55.650Z"
   },
   {
    "duration": 286,
    "start_time": "2024-01-08T06:23:56.036Z"
   },
   {
    "duration": 186,
    "start_time": "2024-01-08T06:23:56.323Z"
   },
   {
    "duration": 126,
    "start_time": "2024-01-08T06:23:56.511Z"
   },
   {
    "duration": 417,
    "start_time": "2024-01-08T06:23:56.639Z"
   },
   {
    "duration": 271,
    "start_time": "2024-01-08T06:23:57.058Z"
   },
   {
    "duration": 313,
    "start_time": "2024-01-08T06:23:57.330Z"
   },
   {
    "duration": 235,
    "start_time": "2024-01-08T06:23:57.645Z"
   },
   {
    "duration": 9,
    "start_time": "2024-01-08T06:23:57.882Z"
   },
   {
    "duration": 27,
    "start_time": "2024-01-08T06:23:57.893Z"
   },
   {
    "duration": 223,
    "start_time": "2024-01-08T06:23:57.922Z"
   },
   {
    "duration": 7,
    "start_time": "2024-01-08T06:23:58.146Z"
   },
   {
    "duration": 32,
    "start_time": "2024-01-08T06:23:58.154Z"
   },
   {
    "duration": 95,
    "start_time": "2024-01-08T06:23:58.188Z"
   },
   {
    "duration": 3,
    "start_time": "2024-01-08T06:23:58.284Z"
   },
   {
    "duration": 20,
    "start_time": "2024-01-08T06:23:58.288Z"
   },
   {
    "duration": 36,
    "start_time": "2024-01-08T06:23:58.310Z"
   },
   {
    "duration": 61,
    "start_time": "2024-01-08T06:23:58.347Z"
   },
   {
    "duration": 13,
    "start_time": "2024-01-08T06:23:58.410Z"
   },
   {
    "duration": 76,
    "start_time": "2024-01-08T06:23:58.425Z"
   },
   {
    "duration": 7,
    "start_time": "2024-01-08T06:23:58.503Z"
   },
   {
    "duration": 6,
    "start_time": "2024-01-08T06:23:58.511Z"
   },
   {
    "duration": 122,
    "start_time": "2024-01-08T06:23:58.518Z"
   },
   {
    "duration": 11,
    "start_time": "2024-01-08T06:30:18.631Z"
   },
   {
    "duration": 3,
    "start_time": "2024-01-08T06:30:35.378Z"
   },
   {
    "duration": 6,
    "start_time": "2024-01-08T06:30:38.450Z"
   },
   {
    "duration": 6,
    "start_time": "2024-01-08T06:30:57.001Z"
   },
   {
    "duration": 5,
    "start_time": "2024-01-08T06:33:50.851Z"
   },
   {
    "duration": 5,
    "start_time": "2024-01-08T06:33:54.622Z"
   },
   {
    "duration": 5,
    "start_time": "2024-01-08T06:34:23.573Z"
   },
   {
    "duration": 61,
    "start_time": "2024-01-08T06:35:57.263Z"
   },
   {
    "duration": 5,
    "start_time": "2024-01-08T06:36:35.571Z"
   },
   {
    "duration": 11,
    "start_time": "2024-01-08T06:36:55.798Z"
   },
   {
    "duration": 5,
    "start_time": "2024-01-08T06:37:08.062Z"
   },
   {
    "duration": 10,
    "start_time": "2024-01-08T06:37:08.269Z"
   },
   {
    "duration": 6,
    "start_time": "2024-01-08T06:37:29.092Z"
   },
   {
    "duration": 10,
    "start_time": "2024-01-08T06:37:29.415Z"
   },
   {
    "duration": 5,
    "start_time": "2024-01-08T06:37:38.487Z"
   },
   {
    "duration": 1244,
    "start_time": "2024-01-08T06:37:38.762Z"
   },
   {
    "duration": 1086,
    "start_time": "2024-01-08T06:37:49.043Z"
   },
   {
    "duration": 3,
    "start_time": "2024-01-08T06:37:50.131Z"
   },
   {
    "duration": 200,
    "start_time": "2024-01-08T06:37:50.135Z"
   },
   {
    "duration": 3,
    "start_time": "2024-01-08T06:37:50.336Z"
   },
   {
    "duration": 30,
    "start_time": "2024-01-08T06:37:50.344Z"
   },
   {
    "duration": 61,
    "start_time": "2024-01-08T06:37:50.376Z"
   },
   {
    "duration": 107,
    "start_time": "2024-01-08T06:37:50.438Z"
   },
   {
    "duration": 72,
    "start_time": "2024-01-08T06:37:50.546Z"
   },
   {
    "duration": 5,
    "start_time": "2024-01-08T06:37:50.620Z"
   },
   {
    "duration": 45,
    "start_time": "2024-01-08T06:37:50.627Z"
   },
   {
    "duration": 31,
    "start_time": "2024-01-08T06:37:50.674Z"
   },
   {
    "duration": 6,
    "start_time": "2024-01-08T06:37:50.706Z"
   },
   {
    "duration": 50,
    "start_time": "2024-01-08T06:37:50.713Z"
   },
   {
    "duration": 4,
    "start_time": "2024-01-08T06:37:50.764Z"
   },
   {
    "duration": 280,
    "start_time": "2024-01-08T06:37:50.770Z"
   },
   {
    "duration": 201,
    "start_time": "2024-01-08T06:37:51.052Z"
   },
   {
    "duration": 9,
    "start_time": "2024-01-08T06:37:51.254Z"
   },
   {
    "duration": 25,
    "start_time": "2024-01-08T06:37:51.264Z"
   },
   {
    "duration": 222,
    "start_time": "2024-01-08T06:37:51.290Z"
   },
   {
    "duration": 6,
    "start_time": "2024-01-08T06:37:51.513Z"
   },
   {
    "duration": 34,
    "start_time": "2024-01-08T06:37:51.520Z"
   },
   {
    "duration": 96,
    "start_time": "2024-01-08T06:37:51.555Z"
   },
   {
    "duration": 2,
    "start_time": "2024-01-08T06:37:51.652Z"
   },
   {
    "duration": 9,
    "start_time": "2024-01-08T06:37:51.655Z"
   },
   {
    "duration": 5,
    "start_time": "2024-01-08T06:37:51.665Z"
   },
   {
    "duration": 33,
    "start_time": "2024-01-08T06:37:51.671Z"
   },
   {
    "duration": 15,
    "start_time": "2024-01-08T06:37:51.705Z"
   },
   {
    "duration": 68,
    "start_time": "2024-01-08T06:37:51.744Z"
   },
   {
    "duration": 1233,
    "start_time": "2024-01-08T06:37:51.813Z"
   },
   {
    "duration": 0,
    "start_time": "2024-01-08T06:37:53.048Z"
   },
   {
    "duration": 0,
    "start_time": "2024-01-08T06:37:53.050Z"
   },
   {
    "duration": 0,
    "start_time": "2024-01-08T06:37:53.051Z"
   },
   {
    "duration": 6,
    "start_time": "2024-01-08T06:37:57.696Z"
   },
   {
    "duration": 5,
    "start_time": "2024-01-08T06:38:00.952Z"
   },
   {
    "duration": 1304,
    "start_time": "2024-01-08T06:38:02.059Z"
   },
   {
    "duration": 13,
    "start_time": "2024-01-08T06:38:59.516Z"
   },
   {
    "duration": 1168,
    "start_time": "2024-01-08T06:40:27.030Z"
   },
   {
    "duration": 6,
    "start_time": "2024-01-08T06:43:43.522Z"
   },
   {
    "duration": 1313,
    "start_time": "2024-01-08T06:43:45.017Z"
   },
   {
    "duration": 1084,
    "start_time": "2024-01-08T06:44:19.539Z"
   },
   {
    "duration": 3,
    "start_time": "2024-01-08T06:44:20.625Z"
   },
   {
    "duration": 181,
    "start_time": "2024-01-08T06:44:20.629Z"
   },
   {
    "duration": 2,
    "start_time": "2024-01-08T06:44:20.811Z"
   },
   {
    "duration": 38,
    "start_time": "2024-01-08T06:44:20.815Z"
   },
   {
    "duration": 78,
    "start_time": "2024-01-08T06:44:20.855Z"
   },
   {
    "duration": 105,
    "start_time": "2024-01-08T06:44:20.934Z"
   },
   {
    "duration": 71,
    "start_time": "2024-01-08T06:44:21.044Z"
   },
   {
    "duration": 5,
    "start_time": "2024-01-08T06:44:21.116Z"
   },
   {
    "duration": 33,
    "start_time": "2024-01-08T06:44:21.122Z"
   },
   {
    "duration": 31,
    "start_time": "2024-01-08T06:44:21.156Z"
   },
   {
    "duration": 5,
    "start_time": "2024-01-08T06:44:21.188Z"
   },
   {
    "duration": 43,
    "start_time": "2024-01-08T06:44:21.194Z"
   },
   {
    "duration": 5,
    "start_time": "2024-01-08T06:44:21.244Z"
   },
   {
    "duration": 311,
    "start_time": "2024-01-08T06:44:21.251Z"
   },
   {
    "duration": 199,
    "start_time": "2024-01-08T06:44:21.564Z"
   },
   {
    "duration": 8,
    "start_time": "2024-01-08T06:44:21.764Z"
   },
   {
    "duration": 25,
    "start_time": "2024-01-08T06:44:21.773Z"
   },
   {
    "duration": 221,
    "start_time": "2024-01-08T06:44:21.799Z"
   },
   {
    "duration": 5,
    "start_time": "2024-01-08T06:44:22.022Z"
   },
   {
    "duration": 34,
    "start_time": "2024-01-08T06:44:22.028Z"
   },
   {
    "duration": 99,
    "start_time": "2024-01-08T06:44:22.063Z"
   },
   {
    "duration": 2,
    "start_time": "2024-01-08T06:44:22.164Z"
   },
   {
    "duration": 11,
    "start_time": "2024-01-08T06:44:22.167Z"
   },
   {
    "duration": 4,
    "start_time": "2024-01-08T06:44:22.180Z"
   },
   {
    "duration": 32,
    "start_time": "2024-01-08T06:44:22.185Z"
   },
   {
    "duration": 32,
    "start_time": "2024-01-08T06:44:22.219Z"
   },
   {
    "duration": 67,
    "start_time": "2024-01-08T06:44:22.253Z"
   },
   {
    "duration": 5,
    "start_time": "2024-01-08T06:44:22.322Z"
   },
   {
    "duration": 1338,
    "start_time": "2024-01-08T06:44:22.329Z"
   },
   {
    "duration": 1182,
    "start_time": "2024-01-08T06:46:20.386Z"
   },
   {
    "duration": 63,
    "start_time": "2024-01-08T06:46:42.838Z"
   },
   {
    "duration": 5,
    "start_time": "2024-01-08T06:46:44.062Z"
   },
   {
    "duration": 1140,
    "start_time": "2024-01-08T06:46:44.685Z"
   },
   {
    "duration": 28,
    "start_time": "2024-01-08T06:48:07.490Z"
   },
   {
    "duration": 12,
    "start_time": "2024-01-08T06:48:32.213Z"
   },
   {
    "duration": 1290,
    "start_time": "2024-01-08T06:48:42.962Z"
   },
   {
    "duration": 1487,
    "start_time": "2024-01-08T06:49:01.636Z"
   },
   {
    "duration": 1335,
    "start_time": "2024-01-08T06:49:10.844Z"
   },
   {
    "duration": 12,
    "start_time": "2024-01-08T06:49:23.551Z"
   },
   {
    "duration": 993,
    "start_time": "2024-01-08T06:49:57.571Z"
   },
   {
    "duration": 28,
    "start_time": "2024-01-08T06:50:26.801Z"
   },
   {
    "duration": 1085,
    "start_time": "2024-01-08T06:50:44.205Z"
   },
   {
    "duration": 3,
    "start_time": "2024-01-08T06:50:45.292Z"
   },
   {
    "duration": 199,
    "start_time": "2024-01-08T06:50:45.297Z"
   },
   {
    "duration": 3,
    "start_time": "2024-01-08T06:50:45.498Z"
   },
   {
    "duration": 45,
    "start_time": "2024-01-08T06:50:45.502Z"
   },
   {
    "duration": 84,
    "start_time": "2024-01-08T06:50:45.549Z"
   },
   {
    "duration": 111,
    "start_time": "2024-01-08T06:50:45.634Z"
   },
   {
    "duration": 77,
    "start_time": "2024-01-08T06:50:45.746Z"
   },
   {
    "duration": 21,
    "start_time": "2024-01-08T06:50:45.824Z"
   },
   {
    "duration": 28,
    "start_time": "2024-01-08T06:50:45.847Z"
   },
   {
    "duration": 73,
    "start_time": "2024-01-08T06:50:45.876Z"
   },
   {
    "duration": 21,
    "start_time": "2024-01-08T06:50:45.951Z"
   },
   {
    "duration": 70,
    "start_time": "2024-01-08T06:50:45.973Z"
   },
   {
    "duration": 104,
    "start_time": "2024-01-08T06:50:46.045Z"
   },
   {
    "duration": 328,
    "start_time": "2024-01-08T06:50:46.150Z"
   },
   {
    "duration": 216,
    "start_time": "2024-01-08T06:50:46.480Z"
   },
   {
    "duration": 8,
    "start_time": "2024-01-08T06:50:46.697Z"
   },
   {
    "duration": 30,
    "start_time": "2024-01-08T06:50:46.706Z"
   },
   {
    "duration": 226,
    "start_time": "2024-01-08T06:50:46.737Z"
   },
   {
    "duration": 6,
    "start_time": "2024-01-08T06:50:46.965Z"
   },
   {
    "duration": 44,
    "start_time": "2024-01-08T06:50:46.972Z"
   },
   {
    "duration": 85,
    "start_time": "2024-01-08T06:50:47.017Z"
   },
   {
    "duration": 2,
    "start_time": "2024-01-08T06:50:47.103Z"
   },
   {
    "duration": 33,
    "start_time": "2024-01-08T06:50:47.107Z"
   },
   {
    "duration": 11,
    "start_time": "2024-01-08T06:50:47.142Z"
   },
   {
    "duration": 63,
    "start_time": "2024-01-08T06:50:47.154Z"
   },
   {
    "duration": 20,
    "start_time": "2024-01-08T06:50:47.218Z"
   },
   {
    "duration": 77,
    "start_time": "2024-01-08T06:50:47.242Z"
   },
   {
    "duration": 5,
    "start_time": "2024-01-08T06:50:47.321Z"
   },
   {
    "duration": 1249,
    "start_time": "2024-01-08T06:50:47.327Z"
   },
   {
    "duration": 1040,
    "start_time": "2024-01-08T06:53:19.887Z"
   },
   {
    "duration": 3,
    "start_time": "2024-01-08T06:53:20.929Z"
   },
   {
    "duration": 176,
    "start_time": "2024-01-08T06:53:20.933Z"
   },
   {
    "duration": 2,
    "start_time": "2024-01-08T06:53:21.111Z"
   },
   {
    "duration": 30,
    "start_time": "2024-01-08T06:53:21.115Z"
   },
   {
    "duration": 66,
    "start_time": "2024-01-08T06:53:21.146Z"
   },
   {
    "duration": 115,
    "start_time": "2024-01-08T06:53:21.214Z"
   },
   {
    "duration": 77,
    "start_time": "2024-01-08T06:53:21.331Z"
   },
   {
    "duration": 6,
    "start_time": "2024-01-08T06:53:21.410Z"
   },
   {
    "duration": 39,
    "start_time": "2024-01-08T06:53:21.419Z"
   },
   {
    "duration": 33,
    "start_time": "2024-01-08T06:53:21.460Z"
   },
   {
    "duration": 5,
    "start_time": "2024-01-08T06:53:21.495Z"
   },
   {
    "duration": 51,
    "start_time": "2024-01-08T06:53:21.502Z"
   },
   {
    "duration": 5,
    "start_time": "2024-01-08T06:53:21.554Z"
   },
   {
    "duration": 276,
    "start_time": "2024-01-08T06:53:21.560Z"
   },
   {
    "duration": 201,
    "start_time": "2024-01-08T06:53:21.837Z"
   },
   {
    "duration": 11,
    "start_time": "2024-01-08T06:53:22.040Z"
   },
   {
    "duration": 42,
    "start_time": "2024-01-08T06:53:22.052Z"
   },
   {
    "duration": 204,
    "start_time": "2024-01-08T06:53:22.096Z"
   },
   {
    "duration": 6,
    "start_time": "2024-01-08T06:53:22.302Z"
   },
   {
    "duration": 22,
    "start_time": "2024-01-08T06:53:22.309Z"
   },
   {
    "duration": 98,
    "start_time": "2024-01-08T06:53:22.345Z"
   },
   {
    "duration": 2,
    "start_time": "2024-01-08T06:53:22.445Z"
   },
   {
    "duration": 23,
    "start_time": "2024-01-08T06:53:22.449Z"
   },
   {
    "duration": 7,
    "start_time": "2024-01-08T06:53:22.473Z"
   },
   {
    "duration": 28,
    "start_time": "2024-01-08T06:53:22.481Z"
   },
   {
    "duration": 41,
    "start_time": "2024-01-08T06:53:22.511Z"
   },
   {
    "duration": 15,
    "start_time": "2024-01-08T06:53:22.555Z"
   },
   {
    "duration": 82,
    "start_time": "2024-01-08T06:53:22.572Z"
   },
   {
    "duration": 5,
    "start_time": "2024-01-08T06:53:22.655Z"
   },
   {
    "duration": 1461,
    "start_time": "2024-01-08T06:53:22.662Z"
   },
   {
    "duration": 8,
    "start_time": "2024-01-08T06:55:14.111Z"
   },
   {
    "duration": 37,
    "start_time": "2024-01-08T06:55:15.612Z"
   },
   {
    "duration": 1078,
    "start_time": "2024-01-08T06:55:21.546Z"
   },
   {
    "duration": 3,
    "start_time": "2024-01-08T06:55:22.626Z"
   },
   {
    "duration": 178,
    "start_time": "2024-01-08T06:55:22.630Z"
   },
   {
    "duration": 2,
    "start_time": "2024-01-08T06:55:22.810Z"
   },
   {
    "duration": 28,
    "start_time": "2024-01-08T06:55:22.814Z"
   },
   {
    "duration": 64,
    "start_time": "2024-01-08T06:55:22.843Z"
   },
   {
    "duration": 114,
    "start_time": "2024-01-08T06:55:22.908Z"
   },
   {
    "duration": 75,
    "start_time": "2024-01-08T06:55:23.025Z"
   },
   {
    "duration": 4,
    "start_time": "2024-01-08T06:55:23.102Z"
   },
   {
    "duration": 30,
    "start_time": "2024-01-08T06:55:23.109Z"
   },
   {
    "duration": 30,
    "start_time": "2024-01-08T06:55:23.145Z"
   },
   {
    "duration": 5,
    "start_time": "2024-01-08T06:55:23.176Z"
   },
   {
    "duration": 34,
    "start_time": "2024-01-08T06:55:23.182Z"
   },
   {
    "duration": 5,
    "start_time": "2024-01-08T06:55:23.218Z"
   },
   {
    "duration": 283,
    "start_time": "2024-01-08T06:55:23.244Z"
   },
   {
    "duration": 205,
    "start_time": "2024-01-08T06:55:23.528Z"
   },
   {
    "duration": 11,
    "start_time": "2024-01-08T06:55:23.734Z"
   },
   {
    "duration": 22,
    "start_time": "2024-01-08T06:55:23.746Z"
   },
   {
    "duration": 214,
    "start_time": "2024-01-08T06:55:23.769Z"
   },
   {
    "duration": 6,
    "start_time": "2024-01-08T06:55:23.984Z"
   },
   {
    "duration": 22,
    "start_time": "2024-01-08T06:55:23.991Z"
   },
   {
    "duration": 100,
    "start_time": "2024-01-08T06:55:24.014Z"
   },
   {
    "duration": 4,
    "start_time": "2024-01-08T06:55:24.115Z"
   },
   {
    "duration": 9,
    "start_time": "2024-01-08T06:55:24.121Z"
   },
   {
    "duration": 14,
    "start_time": "2024-01-08T06:55:24.132Z"
   },
   {
    "duration": 8,
    "start_time": "2024-01-08T06:55:24.148Z"
   },
   {
    "duration": 33,
    "start_time": "2024-01-08T06:55:24.158Z"
   },
   {
    "duration": 16,
    "start_time": "2024-01-08T06:55:24.193Z"
   },
   {
    "duration": 82,
    "start_time": "2024-01-08T06:55:24.210Z"
   },
   {
    "duration": 5,
    "start_time": "2024-01-08T06:55:24.293Z"
   },
   {
    "duration": 1254,
    "start_time": "2024-01-08T06:55:24.299Z"
   },
   {
    "duration": 12,
    "start_time": "2024-01-08T06:55:39.134Z"
   },
   {
    "duration": 34,
    "start_time": "2024-01-08T06:55:43.310Z"
   },
   {
    "duration": 1051,
    "start_time": "2024-01-08T06:55:48.708Z"
   },
   {
    "duration": 3,
    "start_time": "2024-01-08T06:55:49.761Z"
   },
   {
    "duration": 183,
    "start_time": "2024-01-08T06:55:49.765Z"
   },
   {
    "duration": 3,
    "start_time": "2024-01-08T06:55:49.950Z"
   },
   {
    "duration": 25,
    "start_time": "2024-01-08T06:55:49.954Z"
   },
   {
    "duration": 78,
    "start_time": "2024-01-08T06:55:49.980Z"
   },
   {
    "duration": 108,
    "start_time": "2024-01-08T06:55:50.060Z"
   },
   {
    "duration": 80,
    "start_time": "2024-01-08T06:55:50.169Z"
   },
   {
    "duration": 5,
    "start_time": "2024-01-08T06:55:50.251Z"
   },
   {
    "duration": 28,
    "start_time": "2024-01-08T06:55:50.258Z"
   },
   {
    "duration": 51,
    "start_time": "2024-01-08T06:55:50.288Z"
   },
   {
    "duration": 5,
    "start_time": "2024-01-08T06:55:50.341Z"
   },
   {
    "duration": 45,
    "start_time": "2024-01-08T06:55:50.348Z"
   },
   {
    "duration": 5,
    "start_time": "2024-01-08T06:55:50.394Z"
   },
   {
    "duration": 299,
    "start_time": "2024-01-08T06:55:50.401Z"
   },
   {
    "duration": 220,
    "start_time": "2024-01-08T06:55:50.701Z"
   },
   {
    "duration": 9,
    "start_time": "2024-01-08T06:55:50.922Z"
   },
   {
    "duration": 56,
    "start_time": "2024-01-08T06:55:50.932Z"
   },
   {
    "duration": 209,
    "start_time": "2024-01-08T06:55:50.989Z"
   },
   {
    "duration": 6,
    "start_time": "2024-01-08T06:55:51.199Z"
   },
   {
    "duration": 29,
    "start_time": "2024-01-08T06:55:51.207Z"
   },
   {
    "duration": 113,
    "start_time": "2024-01-08T06:55:51.237Z"
   },
   {
    "duration": 2,
    "start_time": "2024-01-08T06:55:51.351Z"
   },
   {
    "duration": 6,
    "start_time": "2024-01-08T06:55:51.355Z"
   },
   {
    "duration": 5,
    "start_time": "2024-01-08T06:55:51.362Z"
   },
   {
    "duration": 56,
    "start_time": "2024-01-08T06:55:51.368Z"
   },
   {
    "duration": 48,
    "start_time": "2024-01-08T06:55:51.426Z"
   },
   {
    "duration": 17,
    "start_time": "2024-01-08T06:55:51.477Z"
   },
   {
    "duration": 85,
    "start_time": "2024-01-08T06:55:51.496Z"
   },
   {
    "duration": 5,
    "start_time": "2024-01-08T06:55:51.582Z"
   },
   {
    "duration": 1197,
    "start_time": "2024-01-08T06:55:51.588Z"
   },
   {
    "duration": 27,
    "start_time": "2024-01-08T06:56:36.174Z"
   },
   {
    "duration": 1088,
    "start_time": "2024-01-08T06:56:41.926Z"
   },
   {
    "duration": 3,
    "start_time": "2024-01-08T06:56:43.015Z"
   },
   {
    "duration": 178,
    "start_time": "2024-01-08T06:56:43.019Z"
   },
   {
    "duration": 3,
    "start_time": "2024-01-08T06:56:43.198Z"
   },
   {
    "duration": 25,
    "start_time": "2024-01-08T06:56:43.202Z"
   },
   {
    "duration": 74,
    "start_time": "2024-01-08T06:56:43.229Z"
   },
   {
    "duration": 118,
    "start_time": "2024-01-08T06:56:43.305Z"
   },
   {
    "duration": 85,
    "start_time": "2024-01-08T06:56:43.425Z"
   },
   {
    "duration": 5,
    "start_time": "2024-01-08T06:56:43.511Z"
   },
   {
    "duration": 33,
    "start_time": "2024-01-08T06:56:43.518Z"
   },
   {
    "duration": 30,
    "start_time": "2024-01-08T06:56:43.552Z"
   },
   {
    "duration": 5,
    "start_time": "2024-01-08T06:56:43.584Z"
   },
   {
    "duration": 44,
    "start_time": "2024-01-08T06:56:43.590Z"
   },
   {
    "duration": 5,
    "start_time": "2024-01-08T06:56:43.645Z"
   },
   {
    "duration": 276,
    "start_time": "2024-01-08T06:56:43.651Z"
   },
   {
    "duration": 207,
    "start_time": "2024-01-08T06:56:43.929Z"
   },
   {
    "duration": 8,
    "start_time": "2024-01-08T06:56:44.137Z"
   },
   {
    "duration": 31,
    "start_time": "2024-01-08T06:56:44.146Z"
   },
   {
    "duration": 232,
    "start_time": "2024-01-08T06:56:44.178Z"
   },
   {
    "duration": 7,
    "start_time": "2024-01-08T06:56:44.412Z"
   },
   {
    "duration": 36,
    "start_time": "2024-01-08T06:56:44.420Z"
   },
   {
    "duration": 90,
    "start_time": "2024-01-08T06:56:44.457Z"
   },
   {
    "duration": 3,
    "start_time": "2024-01-08T06:56:44.548Z"
   },
   {
    "duration": 11,
    "start_time": "2024-01-08T06:56:44.552Z"
   },
   {
    "duration": 6,
    "start_time": "2024-01-08T06:56:44.565Z"
   },
   {
    "duration": 14,
    "start_time": "2024-01-08T06:56:44.572Z"
   },
   {
    "duration": 34,
    "start_time": "2024-01-08T06:56:44.588Z"
   },
   {
    "duration": 18,
    "start_time": "2024-01-08T06:56:44.648Z"
   },
   {
    "duration": 92,
    "start_time": "2024-01-08T06:56:44.668Z"
   },
   {
    "duration": 5,
    "start_time": "2024-01-08T06:56:44.762Z"
   },
   {
    "duration": 1339,
    "start_time": "2024-01-08T06:56:44.768Z"
   },
   {
    "duration": 1115,
    "start_time": "2024-01-08T06:56:59.258Z"
   },
   {
    "duration": 3,
    "start_time": "2024-01-08T06:57:00.375Z"
   },
   {
    "duration": 227,
    "start_time": "2024-01-08T06:57:00.379Z"
   },
   {
    "duration": 3,
    "start_time": "2024-01-08T06:57:00.608Z"
   },
   {
    "duration": 57,
    "start_time": "2024-01-08T06:57:00.612Z"
   },
   {
    "duration": 76,
    "start_time": "2024-01-08T06:57:00.671Z"
   },
   {
    "duration": 113,
    "start_time": "2024-01-08T06:57:00.749Z"
   },
   {
    "duration": 85,
    "start_time": "2024-01-08T06:57:00.863Z"
   },
   {
    "duration": 5,
    "start_time": "2024-01-08T06:57:00.950Z"
   },
   {
    "duration": 45,
    "start_time": "2024-01-08T06:57:00.957Z"
   },
   {
    "duration": 44,
    "start_time": "2024-01-08T06:57:01.003Z"
   },
   {
    "duration": 13,
    "start_time": "2024-01-08T06:57:01.048Z"
   },
   {
    "duration": 49,
    "start_time": "2024-01-08T06:57:01.062Z"
   },
   {
    "duration": 6,
    "start_time": "2024-01-08T06:57:01.112Z"
   },
   {
    "duration": 293,
    "start_time": "2024-01-08T06:57:01.119Z"
   },
   {
    "duration": 212,
    "start_time": "2024-01-08T06:57:01.414Z"
   },
   {
    "duration": 18,
    "start_time": "2024-01-08T06:57:01.627Z"
   },
   {
    "duration": 55,
    "start_time": "2024-01-08T06:57:01.647Z"
   },
   {
    "duration": 223,
    "start_time": "2024-01-08T06:57:01.704Z"
   },
   {
    "duration": 6,
    "start_time": "2024-01-08T06:57:01.928Z"
   },
   {
    "duration": 46,
    "start_time": "2024-01-08T06:57:01.946Z"
   },
   {
    "duration": 111,
    "start_time": "2024-01-08T06:57:01.993Z"
   },
   {
    "duration": 3,
    "start_time": "2024-01-08T06:57:02.105Z"
   },
   {
    "duration": 38,
    "start_time": "2024-01-08T06:57:02.109Z"
   },
   {
    "duration": 46,
    "start_time": "2024-01-08T06:57:02.148Z"
   },
   {
    "duration": 63,
    "start_time": "2024-01-08T06:57:02.195Z"
   },
   {
    "duration": 15,
    "start_time": "2024-01-08T06:57:02.260Z"
   },
   {
    "duration": 81,
    "start_time": "2024-01-08T06:57:02.278Z"
   },
   {
    "duration": 5,
    "start_time": "2024-01-08T06:57:02.360Z"
   },
   {
    "duration": 1253,
    "start_time": "2024-01-08T06:57:02.367Z"
   },
   {
    "duration": 1047,
    "start_time": "2024-01-08T06:57:25.687Z"
   },
   {
    "duration": 3,
    "start_time": "2024-01-08T06:57:26.736Z"
   },
   {
    "duration": 214,
    "start_time": "2024-01-08T06:57:26.740Z"
   },
   {
    "duration": 3,
    "start_time": "2024-01-08T06:57:26.956Z"
   },
   {
    "duration": 57,
    "start_time": "2024-01-08T06:57:26.960Z"
   },
   {
    "duration": 80,
    "start_time": "2024-01-08T06:57:27.018Z"
   },
   {
    "duration": 112,
    "start_time": "2024-01-08T06:57:27.100Z"
   },
   {
    "duration": 92,
    "start_time": "2024-01-08T06:57:27.214Z"
   },
   {
    "duration": 4,
    "start_time": "2024-01-08T06:57:27.308Z"
   },
   {
    "duration": 30,
    "start_time": "2024-01-08T06:57:27.315Z"
   },
   {
    "duration": 64,
    "start_time": "2024-01-08T06:57:27.346Z"
   },
   {
    "duration": 35,
    "start_time": "2024-01-08T06:57:27.411Z"
   },
   {
    "duration": 49,
    "start_time": "2024-01-08T06:57:27.448Z"
   },
   {
    "duration": 12,
    "start_time": "2024-01-08T06:57:27.498Z"
   },
   {
    "duration": 296,
    "start_time": "2024-01-08T06:57:27.511Z"
   },
   {
    "duration": 205,
    "start_time": "2024-01-08T06:57:27.808Z"
   },
   {
    "duration": 8,
    "start_time": "2024-01-08T06:57:28.015Z"
   },
   {
    "duration": 67,
    "start_time": "2024-01-08T06:57:28.025Z"
   },
   {
    "duration": 226,
    "start_time": "2024-01-08T06:57:28.094Z"
   },
   {
    "duration": 7,
    "start_time": "2024-01-08T06:57:28.322Z"
   },
   {
    "duration": 45,
    "start_time": "2024-01-08T06:57:28.331Z"
   },
   {
    "duration": 104,
    "start_time": "2024-01-08T06:57:28.378Z"
   },
   {
    "duration": 2,
    "start_time": "2024-01-08T06:57:28.483Z"
   },
   {
    "duration": 93,
    "start_time": "2024-01-08T06:57:28.486Z"
   },
   {
    "duration": 65,
    "start_time": "2024-01-08T06:57:28.580Z"
   },
   {
    "duration": 99,
    "start_time": "2024-01-08T06:57:28.647Z"
   },
   {
    "duration": 29,
    "start_time": "2024-01-08T06:57:28.748Z"
   },
   {
    "duration": 97,
    "start_time": "2024-01-08T06:57:28.779Z"
   },
   {
    "duration": 5,
    "start_time": "2024-01-08T06:57:28.878Z"
   },
   {
    "duration": 1217,
    "start_time": "2024-01-08T06:57:28.884Z"
   },
   {
    "duration": 1164,
    "start_time": "2024-01-08T06:57:41.032Z"
   },
   {
    "duration": 64,
    "start_time": "2024-01-08T06:57:50.924Z"
   },
   {
    "duration": 1190,
    "start_time": "2024-01-08T06:57:58.802Z"
   },
   {
    "duration": 5,
    "start_time": "2024-01-08T06:57:59.995Z"
   },
   {
    "duration": 196,
    "start_time": "2024-01-08T06:58:00.002Z"
   },
   {
    "duration": 4,
    "start_time": "2024-01-08T06:58:00.200Z"
   },
   {
    "duration": 103,
    "start_time": "2024-01-08T06:58:00.205Z"
   },
   {
    "duration": 80,
    "start_time": "2024-01-08T06:58:00.309Z"
   },
   {
    "duration": 123,
    "start_time": "2024-01-08T06:58:00.391Z"
   },
   {
    "duration": 88,
    "start_time": "2024-01-08T06:58:00.516Z"
   },
   {
    "duration": 6,
    "start_time": "2024-01-08T06:58:00.606Z"
   },
   {
    "duration": 65,
    "start_time": "2024-01-08T06:58:00.615Z"
   },
   {
    "duration": 114,
    "start_time": "2024-01-08T06:58:00.682Z"
   },
   {
    "duration": 419,
    "start_time": "2024-01-08T06:58:00.798Z"
   },
   {
    "duration": 87,
    "start_time": "2024-01-08T06:58:01.218Z"
   },
   {
    "duration": 24,
    "start_time": "2024-01-08T06:58:01.307Z"
   },
   {
    "duration": 362,
    "start_time": "2024-01-08T06:58:01.332Z"
   },
   {
    "duration": 201,
    "start_time": "2024-01-08T06:58:01.696Z"
   },
   {
    "duration": 7,
    "start_time": "2024-01-08T06:58:01.899Z"
   },
   {
    "duration": 102,
    "start_time": "2024-01-08T06:58:01.908Z"
   },
   {
    "duration": 212,
    "start_time": "2024-01-08T06:58:02.011Z"
   },
   {
    "duration": 7,
    "start_time": "2024-01-08T06:58:02.225Z"
   },
   {
    "duration": 144,
    "start_time": "2024-01-08T06:58:02.245Z"
   },
   {
    "duration": 345,
    "start_time": "2024-01-08T06:58:02.390Z"
   },
   {
    "duration": 464,
    "start_time": "2024-01-08T06:58:02.736Z"
   },
   {
    "duration": 330,
    "start_time": "2024-01-08T06:58:03.201Z"
   },
   {
    "duration": 26,
    "start_time": "2024-01-08T06:58:03.532Z"
   },
   {
    "duration": 78,
    "start_time": "2024-01-08T06:58:03.560Z"
   },
   {
    "duration": 25,
    "start_time": "2024-01-08T06:58:03.640Z"
   },
   {
    "duration": 73,
    "start_time": "2024-01-08T06:58:03.668Z"
   },
   {
    "duration": 4,
    "start_time": "2024-01-08T06:58:03.743Z"
   },
   {
    "duration": 1277,
    "start_time": "2024-01-08T06:58:03.749Z"
   },
   {
    "duration": 13,
    "start_time": "2024-01-08T06:58:38.573Z"
   },
   {
    "duration": 42,
    "start_time": "2024-01-08T06:59:50.962Z"
   },
   {
    "duration": 213,
    "start_time": "2024-01-08T06:59:53.496Z"
   },
   {
    "duration": 6,
    "start_time": "2024-01-08T06:59:56.614Z"
   },
   {
    "duration": 1067,
    "start_time": "2024-01-08T07:01:17.963Z"
   },
   {
    "duration": 3,
    "start_time": "2024-01-08T07:01:19.032Z"
   },
   {
    "duration": 177,
    "start_time": "2024-01-08T07:01:19.036Z"
   },
   {
    "duration": 2,
    "start_time": "2024-01-08T07:01:19.215Z"
   },
   {
    "duration": 27,
    "start_time": "2024-01-08T07:01:19.218Z"
   },
   {
    "duration": 65,
    "start_time": "2024-01-08T07:01:19.247Z"
   },
   {
    "duration": 128,
    "start_time": "2024-01-08T07:01:19.313Z"
   },
   {
    "duration": 76,
    "start_time": "2024-01-08T07:01:19.444Z"
   },
   {
    "duration": 5,
    "start_time": "2024-01-08T07:01:19.522Z"
   },
   {
    "duration": 19,
    "start_time": "2024-01-08T07:01:19.544Z"
   },
   {
    "duration": 31,
    "start_time": "2024-01-08T07:01:19.564Z"
   },
   {
    "duration": 5,
    "start_time": "2024-01-08T07:01:19.596Z"
   },
   {
    "duration": 51,
    "start_time": "2024-01-08T07:01:19.602Z"
   },
   {
    "duration": 5,
    "start_time": "2024-01-08T07:01:19.654Z"
   },
   {
    "duration": 289,
    "start_time": "2024-01-08T07:01:19.660Z"
   },
   {
    "duration": 205,
    "start_time": "2024-01-08T07:01:19.950Z"
   },
   {
    "duration": 8,
    "start_time": "2024-01-08T07:01:20.156Z"
   },
   {
    "duration": 26,
    "start_time": "2024-01-08T07:01:20.165Z"
   },
   {
    "duration": 220,
    "start_time": "2024-01-08T07:01:20.192Z"
   },
   {
    "duration": 6,
    "start_time": "2024-01-08T07:01:20.414Z"
   },
   {
    "duration": 35,
    "start_time": "2024-01-08T07:01:20.421Z"
   },
   {
    "duration": 89,
    "start_time": "2024-01-08T07:01:20.457Z"
   },
   {
    "duration": 2,
    "start_time": "2024-01-08T07:01:20.547Z"
   },
   {
    "duration": 34,
    "start_time": "2024-01-08T07:01:20.550Z"
   },
   {
    "duration": 20,
    "start_time": "2024-01-08T07:01:20.585Z"
   },
   {
    "duration": 59,
    "start_time": "2024-01-08T07:01:20.606Z"
   },
   {
    "duration": 13,
    "start_time": "2024-01-08T07:01:20.667Z"
   },
   {
    "duration": 110,
    "start_time": "2024-01-08T07:01:20.683Z"
   },
   {
    "duration": 5,
    "start_time": "2024-01-08T07:01:20.794Z"
   },
   {
    "duration": 1350,
    "start_time": "2024-01-08T07:01:20.801Z"
   },
   {
    "duration": 1233,
    "start_time": "2024-01-08T07:01:37.281Z"
   },
   {
    "duration": 30,
    "start_time": "2024-01-08T07:01:46.791Z"
   },
   {
    "duration": 5,
    "start_time": "2024-01-08T07:02:58.865Z"
   },
   {
    "duration": 1210,
    "start_time": "2024-01-08T07:02:59.181Z"
   },
   {
    "duration": 5,
    "start_time": "2024-01-08T07:03:39.736Z"
   },
   {
    "duration": 1146,
    "start_time": "2024-01-08T07:03:40.154Z"
   },
   {
    "duration": 1245,
    "start_time": "2024-01-08T07:08:33.730Z"
   },
   {
    "duration": 46,
    "start_time": "2024-01-08T07:11:59.733Z"
   },
   {
    "duration": 38,
    "start_time": "2024-01-08T07:12:20.480Z"
   },
   {
    "duration": 15,
    "start_time": "2024-01-08T07:12:20.573Z"
   },
   {
    "duration": 80,
    "start_time": "2024-01-08T07:12:20.651Z"
   },
   {
    "duration": 5,
    "start_time": "2024-01-08T07:12:20.777Z"
   },
   {
    "duration": 1281,
    "start_time": "2024-01-08T07:12:20.815Z"
   },
   {
    "duration": 1133,
    "start_time": "2024-01-08T07:12:25.613Z"
   },
   {
    "duration": 1115,
    "start_time": "2024-01-08T07:12:57.313Z"
   },
   {
    "duration": 3,
    "start_time": "2024-01-08T07:12:58.430Z"
   },
   {
    "duration": 202,
    "start_time": "2024-01-08T07:12:58.434Z"
   },
   {
    "duration": 3,
    "start_time": "2024-01-08T07:12:58.638Z"
   },
   {
    "duration": 26,
    "start_time": "2024-01-08T07:12:58.642Z"
   },
   {
    "duration": 76,
    "start_time": "2024-01-08T07:12:58.669Z"
   },
   {
    "duration": 106,
    "start_time": "2024-01-08T07:12:58.746Z"
   },
   {
    "duration": 71,
    "start_time": "2024-01-08T07:12:58.854Z"
   },
   {
    "duration": 19,
    "start_time": "2024-01-08T07:12:58.927Z"
   },
   {
    "duration": 20,
    "start_time": "2024-01-08T07:12:58.948Z"
   },
   {
    "duration": 29,
    "start_time": "2024-01-08T07:12:58.970Z"
   },
   {
    "duration": 6,
    "start_time": "2024-01-08T07:12:59.000Z"
   },
   {
    "duration": 57,
    "start_time": "2024-01-08T07:12:59.008Z"
   },
   {
    "duration": 6,
    "start_time": "2024-01-08T07:12:59.067Z"
   },
   {
    "duration": 290,
    "start_time": "2024-01-08T07:12:59.075Z"
   },
   {
    "duration": 216,
    "start_time": "2024-01-08T07:12:59.367Z"
   },
   {
    "duration": 9,
    "start_time": "2024-01-08T07:12:59.585Z"
   },
   {
    "duration": 43,
    "start_time": "2024-01-08T07:12:59.595Z"
   },
   {
    "duration": 220,
    "start_time": "2024-01-08T07:12:59.639Z"
   },
   {
    "duration": 5,
    "start_time": "2024-01-08T07:12:59.861Z"
   },
   {
    "duration": 30,
    "start_time": "2024-01-08T07:12:59.867Z"
   },
   {
    "duration": 97,
    "start_time": "2024-01-08T07:12:59.899Z"
   },
   {
    "duration": 3,
    "start_time": "2024-01-08T07:12:59.997Z"
   },
   {
    "duration": 48,
    "start_time": "2024-01-08T07:13:00.001Z"
   },
   {
    "duration": 63,
    "start_time": "2024-01-08T07:13:00.050Z"
   },
   {
    "duration": 177,
    "start_time": "2024-01-08T07:13:00.115Z"
   },
   {
    "duration": 120,
    "start_time": "2024-01-08T07:13:00.294Z"
   },
   {
    "duration": 21,
    "start_time": "2024-01-08T07:13:00.416Z"
   },
   {
    "duration": 98,
    "start_time": "2024-01-08T07:13:00.439Z"
   },
   {
    "duration": 5,
    "start_time": "2024-01-08T07:13:00.538Z"
   },
   {
    "duration": 1388,
    "start_time": "2024-01-08T07:13:00.544Z"
   },
   {
    "duration": 81,
    "start_time": "2024-01-08T07:13:19.201Z"
   },
   {
    "duration": 1275,
    "start_time": "2024-01-08T07:13:22.813Z"
   },
   {
    "duration": 1103,
    "start_time": "2024-01-08T07:13:30.363Z"
   },
   {
    "duration": 3,
    "start_time": "2024-01-08T07:13:31.468Z"
   },
   {
    "duration": 204,
    "start_time": "2024-01-08T07:13:31.472Z"
   },
   {
    "duration": 2,
    "start_time": "2024-01-08T07:13:31.678Z"
   },
   {
    "duration": 42,
    "start_time": "2024-01-08T07:13:31.682Z"
   },
   {
    "duration": 69,
    "start_time": "2024-01-08T07:13:31.725Z"
   },
   {
    "duration": 110,
    "start_time": "2024-01-08T07:13:31.795Z"
   },
   {
    "duration": 81,
    "start_time": "2024-01-08T07:13:31.907Z"
   },
   {
    "duration": 5,
    "start_time": "2024-01-08T07:13:31.990Z"
   },
   {
    "duration": 52,
    "start_time": "2024-01-08T07:13:31.998Z"
   },
   {
    "duration": 36,
    "start_time": "2024-01-08T07:13:32.052Z"
   },
   {
    "duration": 6,
    "start_time": "2024-01-08T07:13:32.089Z"
   },
   {
    "duration": 30,
    "start_time": "2024-01-08T07:13:32.096Z"
   },
   {
    "duration": 18,
    "start_time": "2024-01-08T07:13:32.127Z"
   },
   {
    "duration": 284,
    "start_time": "2024-01-08T07:13:32.146Z"
   },
   {
    "duration": 211,
    "start_time": "2024-01-08T07:13:32.432Z"
   },
   {
    "duration": 8,
    "start_time": "2024-01-08T07:13:32.645Z"
   },
   {
    "duration": 21,
    "start_time": "2024-01-08T07:13:32.654Z"
   },
   {
    "duration": 228,
    "start_time": "2024-01-08T07:13:32.676Z"
   },
   {
    "duration": 6,
    "start_time": "2024-01-08T07:13:32.905Z"
   },
   {
    "duration": 35,
    "start_time": "2024-01-08T07:13:32.912Z"
   },
   {
    "duration": 81,
    "start_time": "2024-01-08T07:13:32.948Z"
   },
   {
    "duration": 2,
    "start_time": "2024-01-08T07:13:33.030Z"
   },
   {
    "duration": 15,
    "start_time": "2024-01-08T07:13:33.033Z"
   },
   {
    "duration": 6,
    "start_time": "2024-01-08T07:13:33.050Z"
   },
   {
    "duration": 49,
    "start_time": "2024-01-08T07:13:33.057Z"
   },
   {
    "duration": 60,
    "start_time": "2024-01-08T07:13:33.107Z"
   },
   {
    "duration": 16,
    "start_time": "2024-01-08T07:13:33.170Z"
   },
   {
    "duration": 100,
    "start_time": "2024-01-08T07:13:33.188Z"
   },
   {
    "duration": 1224,
    "start_time": "2024-01-08T07:13:33.289Z"
   },
   {
    "duration": 8,
    "start_time": "2024-01-08T07:17:05.741Z"
   },
   {
    "duration": 59,
    "start_time": "2024-01-08T07:17:06.147Z"
   },
   {
    "duration": 1140,
    "start_time": "2024-01-08T07:17:12.520Z"
   },
   {
    "duration": 3,
    "start_time": "2024-01-08T07:17:13.662Z"
   },
   {
    "duration": 186,
    "start_time": "2024-01-08T07:17:13.666Z"
   },
   {
    "duration": 2,
    "start_time": "2024-01-08T07:17:13.854Z"
   },
   {
    "duration": 44,
    "start_time": "2024-01-08T07:17:13.858Z"
   },
   {
    "duration": 67,
    "start_time": "2024-01-08T07:17:13.903Z"
   },
   {
    "duration": 111,
    "start_time": "2024-01-08T07:17:13.971Z"
   },
   {
    "duration": 83,
    "start_time": "2024-01-08T07:17:14.083Z"
   },
   {
    "duration": 6,
    "start_time": "2024-01-08T07:17:14.168Z"
   },
   {
    "duration": 37,
    "start_time": "2024-01-08T07:17:14.177Z"
   },
   {
    "duration": 40,
    "start_time": "2024-01-08T07:17:14.215Z"
   },
   {
    "duration": 6,
    "start_time": "2024-01-08T07:17:14.257Z"
   },
   {
    "duration": 31,
    "start_time": "2024-01-08T07:17:14.264Z"
   },
   {
    "duration": 7,
    "start_time": "2024-01-08T07:17:14.296Z"
   },
   {
    "duration": 312,
    "start_time": "2024-01-08T07:17:14.304Z"
   },
   {
    "duration": 215,
    "start_time": "2024-01-08T07:17:14.618Z"
   },
   {
    "duration": 17,
    "start_time": "2024-01-08T07:17:14.835Z"
   },
   {
    "duration": 22,
    "start_time": "2024-01-08T07:17:14.853Z"
   },
   {
    "duration": 246,
    "start_time": "2024-01-08T07:17:14.876Z"
   },
   {
    "duration": 7,
    "start_time": "2024-01-08T07:17:15.124Z"
   },
   {
    "duration": 345,
    "start_time": "2024-01-08T07:17:15.133Z"
   },
   {
    "duration": 249,
    "start_time": "2024-01-08T07:17:15.480Z"
   },
   {
    "duration": 2,
    "start_time": "2024-01-08T07:17:15.730Z"
   },
   {
    "duration": 71,
    "start_time": "2024-01-08T07:17:15.744Z"
   },
   {
    "duration": 31,
    "start_time": "2024-01-08T07:17:15.816Z"
   },
   {
    "duration": 129,
    "start_time": "2024-01-08T07:17:15.848Z"
   },
   {
    "duration": 74,
    "start_time": "2024-01-08T07:17:15.978Z"
   },
   {
    "duration": 38,
    "start_time": "2024-01-08T07:17:16.055Z"
   },
   {
    "duration": 17,
    "start_time": "2024-01-08T07:17:16.095Z"
   },
   {
    "duration": 106,
    "start_time": "2024-01-08T07:17:16.114Z"
   },
   {
    "duration": 2,
    "start_time": "2024-01-08T07:18:09.743Z"
   },
   {
    "duration": 9,
    "start_time": "2024-01-08T07:18:09.954Z"
   },
   {
    "duration": 60,
    "start_time": "2024-01-08T07:18:10.135Z"
   },
   {
    "duration": 1036,
    "start_time": "2024-01-08T07:18:16.396Z"
   },
   {
    "duration": 3,
    "start_time": "2024-01-08T07:18:17.434Z"
   },
   {
    "duration": 177,
    "start_time": "2024-01-08T07:18:17.438Z"
   },
   {
    "duration": 3,
    "start_time": "2024-01-08T07:18:17.618Z"
   },
   {
    "duration": 46,
    "start_time": "2024-01-08T07:18:17.622Z"
   },
   {
    "duration": 77,
    "start_time": "2024-01-08T07:18:17.670Z"
   },
   {
    "duration": 113,
    "start_time": "2024-01-08T07:18:17.749Z"
   },
   {
    "duration": 71,
    "start_time": "2024-01-08T07:18:17.863Z"
   },
   {
    "duration": 13,
    "start_time": "2024-01-08T07:18:17.935Z"
   },
   {
    "duration": 20,
    "start_time": "2024-01-08T07:18:17.950Z"
   },
   {
    "duration": 28,
    "start_time": "2024-01-08T07:18:17.972Z"
   },
   {
    "duration": 4,
    "start_time": "2024-01-08T07:18:18.002Z"
   },
   {
    "duration": 56,
    "start_time": "2024-01-08T07:18:18.007Z"
   },
   {
    "duration": 5,
    "start_time": "2024-01-08T07:18:18.065Z"
   },
   {
    "duration": 290,
    "start_time": "2024-01-08T07:18:18.071Z"
   },
   {
    "duration": 212,
    "start_time": "2024-01-08T07:18:18.363Z"
   },
   {
    "duration": 9,
    "start_time": "2024-01-08T07:18:18.576Z"
   },
   {
    "duration": 30,
    "start_time": "2024-01-08T07:18:18.586Z"
   },
   {
    "duration": 217,
    "start_time": "2024-01-08T07:18:18.617Z"
   },
   {
    "duration": 10,
    "start_time": "2024-01-08T07:18:18.835Z"
   },
   {
    "duration": 25,
    "start_time": "2024-01-08T07:18:18.847Z"
   },
   {
    "duration": 95,
    "start_time": "2024-01-08T07:18:18.873Z"
   },
   {
    "duration": 2,
    "start_time": "2024-01-08T07:18:18.969Z"
   },
   {
    "duration": 44,
    "start_time": "2024-01-08T07:18:18.972Z"
   },
   {
    "duration": 12,
    "start_time": "2024-01-08T07:18:19.018Z"
   },
   {
    "duration": 11,
    "start_time": "2024-01-08T07:18:19.031Z"
   },
   {
    "duration": 145,
    "start_time": "2024-01-08T07:18:19.043Z"
   },
   {
    "duration": 70,
    "start_time": "2024-01-08T07:18:19.191Z"
   },
   {
    "duration": 37,
    "start_time": "2024-01-08T07:18:19.262Z"
   },
   {
    "duration": 17,
    "start_time": "2024-01-08T07:18:19.300Z"
   },
   {
    "duration": 109,
    "start_time": "2024-01-08T07:18:19.319Z"
   },
   {
    "duration": 8,
    "start_time": "2024-01-08T07:18:31.217Z"
   },
   {
    "duration": 62,
    "start_time": "2024-01-08T07:18:31.465Z"
   },
   {
    "duration": 1056,
    "start_time": "2024-01-08T07:18:35.989Z"
   },
   {
    "duration": 3,
    "start_time": "2024-01-08T07:18:37.047Z"
   },
   {
    "duration": 198,
    "start_time": "2024-01-08T07:18:37.051Z"
   },
   {
    "duration": 3,
    "start_time": "2024-01-08T07:18:37.251Z"
   },
   {
    "duration": 25,
    "start_time": "2024-01-08T07:18:37.255Z"
   },
   {
    "duration": 75,
    "start_time": "2024-01-08T07:18:37.281Z"
   },
   {
    "duration": 124,
    "start_time": "2024-01-08T07:18:37.358Z"
   },
   {
    "duration": 88,
    "start_time": "2024-01-08T07:18:37.484Z"
   },
   {
    "duration": 5,
    "start_time": "2024-01-08T07:18:37.573Z"
   },
   {
    "duration": 21,
    "start_time": "2024-01-08T07:18:37.581Z"
   },
   {
    "duration": 60,
    "start_time": "2024-01-08T07:18:37.603Z"
   },
   {
    "duration": 5,
    "start_time": "2024-01-08T07:18:37.665Z"
   },
   {
    "duration": 34,
    "start_time": "2024-01-08T07:18:37.671Z"
   },
   {
    "duration": 6,
    "start_time": "2024-01-08T07:18:37.706Z"
   },
   {
    "duration": 332,
    "start_time": "2024-01-08T07:18:37.714Z"
   },
   {
    "duration": 248,
    "start_time": "2024-01-08T07:18:38.048Z"
   },
   {
    "duration": 8,
    "start_time": "2024-01-08T07:18:38.298Z"
   },
   {
    "duration": 31,
    "start_time": "2024-01-08T07:18:38.307Z"
   },
   {
    "duration": 220,
    "start_time": "2024-01-08T07:18:38.344Z"
   },
   {
    "duration": 6,
    "start_time": "2024-01-08T07:18:38.565Z"
   },
   {
    "duration": 23,
    "start_time": "2024-01-08T07:18:38.573Z"
   },
   {
    "duration": 104,
    "start_time": "2024-01-08T07:18:38.597Z"
   },
   {
    "duration": 2,
    "start_time": "2024-01-08T07:18:38.703Z"
   },
   {
    "duration": 6,
    "start_time": "2024-01-08T07:18:38.706Z"
   },
   {
    "duration": 5,
    "start_time": "2024-01-08T07:18:38.713Z"
   },
   {
    "duration": 148,
    "start_time": "2024-01-08T07:18:38.719Z"
   },
   {
    "duration": 77,
    "start_time": "2024-01-08T07:18:38.868Z"
   },
   {
    "duration": 38,
    "start_time": "2024-01-08T07:18:38.947Z"
   },
   {
    "duration": 20,
    "start_time": "2024-01-08T07:18:38.986Z"
   },
   {
    "duration": 98,
    "start_time": "2024-01-08T07:18:39.008Z"
   },
   {
    "duration": 1219,
    "start_time": "2024-01-08T07:19:52.642Z"
   },
   {
    "duration": 1044,
    "start_time": "2024-01-08T07:20:02.203Z"
   },
   {
    "duration": 3,
    "start_time": "2024-01-08T07:20:03.249Z"
   },
   {
    "duration": 205,
    "start_time": "2024-01-08T07:20:03.253Z"
   },
   {
    "duration": 3,
    "start_time": "2024-01-08T07:20:03.460Z"
   },
   {
    "duration": 48,
    "start_time": "2024-01-08T07:20:03.464Z"
   },
   {
    "duration": 89,
    "start_time": "2024-01-08T07:20:03.513Z"
   },
   {
    "duration": 114,
    "start_time": "2024-01-08T07:20:03.603Z"
   },
   {
    "duration": 78,
    "start_time": "2024-01-08T07:20:03.718Z"
   },
   {
    "duration": 5,
    "start_time": "2024-01-08T07:20:03.797Z"
   },
   {
    "duration": 49,
    "start_time": "2024-01-08T07:20:03.804Z"
   },
   {
    "duration": 32,
    "start_time": "2024-01-08T07:20:03.855Z"
   },
   {
    "duration": 8,
    "start_time": "2024-01-08T07:20:03.888Z"
   },
   {
    "duration": 54,
    "start_time": "2024-01-08T07:20:03.899Z"
   },
   {
    "duration": 5,
    "start_time": "2024-01-08T07:20:03.954Z"
   },
   {
    "duration": 290,
    "start_time": "2024-01-08T07:20:03.960Z"
   },
   {
    "duration": 218,
    "start_time": "2024-01-08T07:20:04.251Z"
   },
   {
    "duration": 8,
    "start_time": "2024-01-08T07:20:04.471Z"
   },
   {
    "duration": 58,
    "start_time": "2024-01-08T07:20:04.480Z"
   },
   {
    "duration": 236,
    "start_time": "2024-01-08T07:20:04.540Z"
   },
   {
    "duration": 7,
    "start_time": "2024-01-08T07:20:04.777Z"
   },
   {
    "duration": 49,
    "start_time": "2024-01-08T07:20:04.785Z"
   },
   {
    "duration": 126,
    "start_time": "2024-01-08T07:20:04.836Z"
   },
   {
    "duration": 3,
    "start_time": "2024-01-08T07:20:04.963Z"
   },
   {
    "duration": 16,
    "start_time": "2024-01-08T07:20:04.967Z"
   },
   {
    "duration": 3,
    "start_time": "2024-01-08T07:20:04.985Z"
   },
   {
    "duration": 33,
    "start_time": "2024-01-08T07:20:04.990Z"
   },
   {
    "duration": 32,
    "start_time": "2024-01-08T07:20:05.025Z"
   },
   {
    "duration": 16,
    "start_time": "2024-01-08T07:20:05.059Z"
   },
   {
    "duration": 80,
    "start_time": "2024-01-08T07:20:05.077Z"
   },
   {
    "duration": 1114,
    "start_time": "2024-01-08T07:20:24.132Z"
   },
   {
    "duration": 3,
    "start_time": "2024-01-08T07:20:25.248Z"
   },
   {
    "duration": 193,
    "start_time": "2024-01-08T07:20:25.253Z"
   },
   {
    "duration": 3,
    "start_time": "2024-01-08T07:20:25.448Z"
   },
   {
    "duration": 45,
    "start_time": "2024-01-08T07:20:25.452Z"
   },
   {
    "duration": 69,
    "start_time": "2024-01-08T07:20:25.498Z"
   },
   {
    "duration": 111,
    "start_time": "2024-01-08T07:20:25.568Z"
   },
   {
    "duration": 86,
    "start_time": "2024-01-08T07:20:25.680Z"
   },
   {
    "duration": 4,
    "start_time": "2024-01-08T07:20:25.768Z"
   },
   {
    "duration": 33,
    "start_time": "2024-01-08T07:20:25.774Z"
   },
   {
    "duration": 37,
    "start_time": "2024-01-08T07:20:25.808Z"
   },
   {
    "duration": 5,
    "start_time": "2024-01-08T07:20:25.847Z"
   },
   {
    "duration": 50,
    "start_time": "2024-01-08T07:20:25.854Z"
   },
   {
    "duration": 5,
    "start_time": "2024-01-08T07:20:25.906Z"
   },
   {
    "duration": 302,
    "start_time": "2024-01-08T07:20:25.913Z"
   },
   {
    "duration": 211,
    "start_time": "2024-01-08T07:20:26.216Z"
   },
   {
    "duration": 16,
    "start_time": "2024-01-08T07:20:26.429Z"
   },
   {
    "duration": 52,
    "start_time": "2024-01-08T07:20:26.446Z"
   },
   {
    "duration": 226,
    "start_time": "2024-01-08T07:20:26.499Z"
   },
   {
    "duration": 8,
    "start_time": "2024-01-08T07:20:26.727Z"
   },
   {
    "duration": 38,
    "start_time": "2024-01-08T07:20:26.745Z"
   },
   {
    "duration": 97,
    "start_time": "2024-01-08T07:20:26.784Z"
   },
   {
    "duration": 2,
    "start_time": "2024-01-08T07:20:26.882Z"
   },
   {
    "duration": 18,
    "start_time": "2024-01-08T07:20:26.886Z"
   },
   {
    "duration": 14,
    "start_time": "2024-01-08T07:20:26.905Z"
   },
   {
    "duration": 19,
    "start_time": "2024-01-08T07:20:26.920Z"
   },
   {
    "duration": 43,
    "start_time": "2024-01-08T07:20:26.940Z"
   },
   {
    "duration": 20,
    "start_time": "2024-01-08T07:20:26.986Z"
   },
   {
    "duration": 93,
    "start_time": "2024-01-08T07:20:27.007Z"
   },
   {
    "duration": 29,
    "start_time": "2024-01-08T07:21:08.533Z"
   },
   {
    "duration": 1055,
    "start_time": "2024-01-08T07:21:13.010Z"
   },
   {
    "duration": 2,
    "start_time": "2024-01-08T07:21:14.067Z"
   },
   {
    "duration": 188,
    "start_time": "2024-01-08T07:21:14.071Z"
   },
   {
    "duration": 3,
    "start_time": "2024-01-08T07:21:14.261Z"
   },
   {
    "duration": 28,
    "start_time": "2024-01-08T07:21:14.265Z"
   },
   {
    "duration": 80,
    "start_time": "2024-01-08T07:21:14.294Z"
   },
   {
    "duration": 108,
    "start_time": "2024-01-08T07:21:14.376Z"
   },
   {
    "duration": 102,
    "start_time": "2024-01-08T07:21:14.486Z"
   },
   {
    "duration": 5,
    "start_time": "2024-01-08T07:21:14.590Z"
   },
   {
    "duration": 20,
    "start_time": "2024-01-08T07:21:14.597Z"
   },
   {
    "duration": 47,
    "start_time": "2024-01-08T07:21:14.619Z"
   },
   {
    "duration": 6,
    "start_time": "2024-01-08T07:21:14.667Z"
   },
   {
    "duration": 36,
    "start_time": "2024-01-08T07:21:14.674Z"
   },
   {
    "duration": 6,
    "start_time": "2024-01-08T07:21:14.711Z"
   },
   {
    "duration": 296,
    "start_time": "2024-01-08T07:21:14.718Z"
   },
   {
    "duration": 224,
    "start_time": "2024-01-08T07:21:15.015Z"
   },
   {
    "duration": 12,
    "start_time": "2024-01-08T07:21:15.240Z"
   },
   {
    "duration": 34,
    "start_time": "2024-01-08T07:21:15.253Z"
   },
   {
    "duration": 216,
    "start_time": "2024-01-08T07:21:15.288Z"
   },
   {
    "duration": 6,
    "start_time": "2024-01-08T07:21:15.506Z"
   },
   {
    "duration": 34,
    "start_time": "2024-01-08T07:21:15.513Z"
   },
   {
    "duration": 104,
    "start_time": "2024-01-08T07:21:15.548Z"
   },
   {
    "duration": 2,
    "start_time": "2024-01-08T07:21:15.654Z"
   },
   {
    "duration": 7,
    "start_time": "2024-01-08T07:21:15.658Z"
   },
   {
    "duration": 5,
    "start_time": "2024-01-08T07:21:15.666Z"
   },
   {
    "duration": 16,
    "start_time": "2024-01-08T07:21:15.673Z"
   },
   {
    "duration": 64,
    "start_time": "2024-01-08T07:21:15.690Z"
   },
   {
    "duration": 20,
    "start_time": "2024-01-08T07:21:15.757Z"
   },
   {
    "duration": 75,
    "start_time": "2024-01-08T07:21:15.779Z"
   },
   {
    "duration": 1059,
    "start_time": "2024-01-08T07:21:26.307Z"
   },
   {
    "duration": 4,
    "start_time": "2024-01-08T07:21:27.367Z"
   },
   {
    "duration": 182,
    "start_time": "2024-01-08T07:21:27.372Z"
   },
   {
    "duration": 3,
    "start_time": "2024-01-08T07:21:27.557Z"
   },
   {
    "duration": 25,
    "start_time": "2024-01-08T07:21:27.562Z"
   },
   {
    "duration": 83,
    "start_time": "2024-01-08T07:21:27.589Z"
   },
   {
    "duration": 118,
    "start_time": "2024-01-08T07:21:27.674Z"
   },
   {
    "duration": 86,
    "start_time": "2024-01-08T07:21:27.793Z"
   },
   {
    "duration": 6,
    "start_time": "2024-01-08T07:21:27.881Z"
   },
   {
    "duration": 23,
    "start_time": "2024-01-08T07:21:27.890Z"
   },
   {
    "duration": 47,
    "start_time": "2024-01-08T07:21:27.914Z"
   },
   {
    "duration": 4,
    "start_time": "2024-01-08T07:21:27.963Z"
   },
   {
    "duration": 29,
    "start_time": "2024-01-08T07:21:27.968Z"
   },
   {
    "duration": 5,
    "start_time": "2024-01-08T07:21:27.998Z"
   },
   {
    "duration": 304,
    "start_time": "2024-01-08T07:21:28.004Z"
   },
   {
    "duration": 216,
    "start_time": "2024-01-08T07:21:28.309Z"
   },
   {
    "duration": 9,
    "start_time": "2024-01-08T07:21:28.526Z"
   },
   {
    "duration": 20,
    "start_time": "2024-01-08T07:21:28.544Z"
   },
   {
    "duration": 224,
    "start_time": "2024-01-08T07:21:28.565Z"
   },
   {
    "duration": 6,
    "start_time": "2024-01-08T07:21:28.790Z"
   },
   {
    "duration": 28,
    "start_time": "2024-01-08T07:21:28.797Z"
   },
   {
    "duration": 95,
    "start_time": "2024-01-08T07:21:28.826Z"
   },
   {
    "duration": 2,
    "start_time": "2024-01-08T07:21:28.922Z"
   },
   {
    "duration": 13,
    "start_time": "2024-01-08T07:21:28.925Z"
   },
   {
    "duration": 6,
    "start_time": "2024-01-08T07:21:28.940Z"
   },
   {
    "duration": 14,
    "start_time": "2024-01-08T07:21:28.948Z"
   },
   {
    "duration": 43,
    "start_time": "2024-01-08T07:21:28.963Z"
   },
   {
    "duration": 39,
    "start_time": "2024-01-08T07:21:29.008Z"
   },
   {
    "duration": 80,
    "start_time": "2024-01-08T07:21:29.048Z"
   },
   {
    "duration": 42,
    "start_time": "2024-01-08T07:29:38.328Z"
   },
   {
    "duration": 1270,
    "start_time": "2024-01-08T07:29:46.594Z"
   },
   {
    "duration": 4,
    "start_time": "2024-01-08T07:30:00.973Z"
   },
   {
    "duration": 5,
    "start_time": "2024-01-08T07:30:12.460Z"
   },
   {
    "duration": 5,
    "start_time": "2024-01-08T07:32:15.593Z"
   },
   {
    "duration": 16,
    "start_time": "2024-01-08T07:32:43.366Z"
   },
   {
    "duration": 8,
    "start_time": "2024-01-08T07:33:12.322Z"
   },
   {
    "duration": 7,
    "start_time": "2024-01-08T07:33:14.328Z"
   },
   {
    "duration": 12,
    "start_time": "2024-01-08T07:33:22.198Z"
   },
   {
    "duration": 42,
    "start_time": "2024-01-08T07:33:55.876Z"
   },
   {
    "duration": 14,
    "start_time": "2024-01-08T07:33:58.841Z"
   },
   {
    "duration": 83,
    "start_time": "2024-01-08T07:33:59.337Z"
   },
   {
    "duration": 1205,
    "start_time": "2024-01-08T07:34:01.286Z"
   },
   {
    "duration": 0,
    "start_time": "2024-01-08T07:34:02.492Z"
   },
   {
    "duration": 1105,
    "start_time": "2024-01-08T07:34:39.444Z"
   },
   {
    "duration": 4,
    "start_time": "2024-01-08T07:34:40.550Z"
   },
   {
    "duration": 194,
    "start_time": "2024-01-08T07:34:40.557Z"
   },
   {
    "duration": 3,
    "start_time": "2024-01-08T07:34:40.752Z"
   },
   {
    "duration": 64,
    "start_time": "2024-01-08T07:34:40.757Z"
   },
   {
    "duration": 93,
    "start_time": "2024-01-08T07:34:40.823Z"
   },
   {
    "duration": 141,
    "start_time": "2024-01-08T07:34:40.918Z"
   },
   {
    "duration": 85,
    "start_time": "2024-01-08T07:34:41.060Z"
   },
   {
    "duration": 7,
    "start_time": "2024-01-08T07:34:41.148Z"
   },
   {
    "duration": 40,
    "start_time": "2024-01-08T07:34:41.157Z"
   },
   {
    "duration": 33,
    "start_time": "2024-01-08T07:34:41.199Z"
   },
   {
    "duration": 15,
    "start_time": "2024-01-08T07:34:41.234Z"
   },
   {
    "duration": 51,
    "start_time": "2024-01-08T07:34:41.251Z"
   },
   {
    "duration": 20,
    "start_time": "2024-01-08T07:34:41.303Z"
   },
   {
    "duration": 299,
    "start_time": "2024-01-08T07:34:41.325Z"
   },
   {
    "duration": 211,
    "start_time": "2024-01-08T07:34:41.625Z"
   },
   {
    "duration": 13,
    "start_time": "2024-01-08T07:34:41.837Z"
   },
   {
    "duration": 23,
    "start_time": "2024-01-08T07:34:41.851Z"
   },
   {
    "duration": 247,
    "start_time": "2024-01-08T07:34:41.875Z"
   },
   {
    "duration": 6,
    "start_time": "2024-01-08T07:34:42.124Z"
   },
   {
    "duration": 45,
    "start_time": "2024-01-08T07:34:42.131Z"
   },
   {
    "duration": 111,
    "start_time": "2024-01-08T07:34:42.177Z"
   },
   {
    "duration": 2,
    "start_time": "2024-01-08T07:34:42.289Z"
   },
   {
    "duration": 21,
    "start_time": "2024-01-08T07:34:42.293Z"
   },
   {
    "duration": 28,
    "start_time": "2024-01-08T07:34:42.315Z"
   },
   {
    "duration": 37,
    "start_time": "2024-01-08T07:34:42.344Z"
   },
   {
    "duration": 52,
    "start_time": "2024-01-08T07:34:42.383Z"
   },
   {
    "duration": 17,
    "start_time": "2024-01-08T07:34:42.437Z"
   },
   {
    "duration": 95,
    "start_time": "2024-01-08T07:34:42.456Z"
   },
   {
    "duration": 1223,
    "start_time": "2024-01-08T07:34:42.553Z"
   },
   {
    "duration": 0,
    "start_time": "2024-01-08T07:34:43.778Z"
   },
   {
    "duration": 0,
    "start_time": "2024-01-08T07:34:43.779Z"
   },
   {
    "duration": 0,
    "start_time": "2024-01-08T07:34:43.780Z"
   },
   {
    "duration": 1071,
    "start_time": "2024-01-08T07:35:24.157Z"
   },
   {
    "duration": 3,
    "start_time": "2024-01-08T07:35:25.230Z"
   },
   {
    "duration": 175,
    "start_time": "2024-01-08T07:35:25.234Z"
   },
   {
    "duration": 3,
    "start_time": "2024-01-08T07:35:25.410Z"
   },
   {
    "duration": 32,
    "start_time": "2024-01-08T07:35:25.414Z"
   },
   {
    "duration": 67,
    "start_time": "2024-01-08T07:35:25.448Z"
   },
   {
    "duration": 121,
    "start_time": "2024-01-08T07:35:25.516Z"
   },
   {
    "duration": 72,
    "start_time": "2024-01-08T07:35:25.638Z"
   },
   {
    "duration": 5,
    "start_time": "2024-01-08T07:35:25.711Z"
   },
   {
    "duration": 37,
    "start_time": "2024-01-08T07:35:25.718Z"
   },
   {
    "duration": 31,
    "start_time": "2024-01-08T07:35:25.756Z"
   },
   {
    "duration": 5,
    "start_time": "2024-01-08T07:35:25.788Z"
   },
   {
    "duration": 28,
    "start_time": "2024-01-08T07:35:25.794Z"
   },
   {
    "duration": 24,
    "start_time": "2024-01-08T07:35:25.823Z"
   },
   {
    "duration": 280,
    "start_time": "2024-01-08T07:35:25.849Z"
   },
   {
    "duration": 215,
    "start_time": "2024-01-08T07:35:26.130Z"
   },
   {
    "duration": 9,
    "start_time": "2024-01-08T07:35:26.346Z"
   },
   {
    "duration": 26,
    "start_time": "2024-01-08T07:35:26.356Z"
   },
   {
    "duration": 220,
    "start_time": "2024-01-08T07:35:26.384Z"
   },
   {
    "duration": 7,
    "start_time": "2024-01-08T07:35:26.606Z"
   },
   {
    "duration": 38,
    "start_time": "2024-01-08T07:35:26.615Z"
   },
   {
    "duration": 118,
    "start_time": "2024-01-08T07:35:26.655Z"
   },
   {
    "duration": 3,
    "start_time": "2024-01-08T07:35:26.774Z"
   },
   {
    "duration": 6,
    "start_time": "2024-01-08T07:35:26.779Z"
   },
   {
    "duration": 9,
    "start_time": "2024-01-08T07:35:26.786Z"
   },
   {
    "duration": 14,
    "start_time": "2024-01-08T07:35:26.797Z"
   },
   {
    "duration": 52,
    "start_time": "2024-01-08T07:35:26.813Z"
   },
   {
    "duration": 19,
    "start_time": "2024-01-08T07:35:26.868Z"
   },
   {
    "duration": 90,
    "start_time": "2024-01-08T07:35:26.889Z"
   },
   {
    "duration": 5,
    "start_time": "2024-01-08T07:35:26.980Z"
   },
   {
    "duration": 111,
    "start_time": "2024-01-08T07:35:26.987Z"
   },
   {
    "duration": 0,
    "start_time": "2024-01-08T07:35:27.099Z"
   },
   {
    "duration": 0,
    "start_time": "2024-01-08T07:35:27.100Z"
   },
   {
    "duration": 3,
    "start_time": "2024-01-08T07:35:32.391Z"
   },
   {
    "duration": 3,
    "start_time": "2024-01-08T07:35:32.649Z"
   },
   {
    "duration": 5,
    "start_time": "2024-01-08T07:35:37.625Z"
   },
   {
    "duration": 8,
    "start_time": "2024-01-08T07:35:37.828Z"
   },
   {
    "duration": 4,
    "start_time": "2024-01-08T07:38:11.195Z"
   },
   {
    "duration": 8,
    "start_time": "2024-01-08T07:38:11.561Z"
   },
   {
    "duration": 7,
    "start_time": "2024-01-08T07:40:18.114Z"
   },
   {
    "duration": 1144,
    "start_time": "2024-01-08T07:41:00.315Z"
   },
   {
    "duration": 5,
    "start_time": "2024-01-08T07:41:01.463Z"
   },
   {
    "duration": 223,
    "start_time": "2024-01-08T07:41:01.470Z"
   },
   {
    "duration": 2,
    "start_time": "2024-01-08T07:41:01.695Z"
   },
   {
    "duration": 89,
    "start_time": "2024-01-08T07:41:01.699Z"
   },
   {
    "duration": 89,
    "start_time": "2024-01-08T07:41:01.790Z"
   },
   {
    "duration": 114,
    "start_time": "2024-01-08T07:41:01.881Z"
   },
   {
    "duration": 88,
    "start_time": "2024-01-08T07:41:01.997Z"
   },
   {
    "duration": 5,
    "start_time": "2024-01-08T07:41:02.087Z"
   },
   {
    "duration": 47,
    "start_time": "2024-01-08T07:41:02.094Z"
   },
   {
    "duration": 46,
    "start_time": "2024-01-08T07:41:02.142Z"
   },
   {
    "duration": 27,
    "start_time": "2024-01-08T07:41:02.189Z"
   },
   {
    "duration": 57,
    "start_time": "2024-01-08T07:41:02.218Z"
   },
   {
    "duration": 14,
    "start_time": "2024-01-08T07:41:02.277Z"
   },
   {
    "duration": 322,
    "start_time": "2024-01-08T07:41:02.292Z"
   },
   {
    "duration": 213,
    "start_time": "2024-01-08T07:41:02.615Z"
   },
   {
    "duration": 16,
    "start_time": "2024-01-08T07:41:02.830Z"
   },
   {
    "duration": 82,
    "start_time": "2024-01-08T07:41:02.848Z"
   },
   {
    "duration": 224,
    "start_time": "2024-01-08T07:41:02.932Z"
   },
   {
    "duration": 6,
    "start_time": "2024-01-08T07:41:03.157Z"
   },
   {
    "duration": 49,
    "start_time": "2024-01-08T07:41:03.164Z"
   },
   {
    "duration": 105,
    "start_time": "2024-01-08T07:41:03.215Z"
   },
   {
    "duration": 2,
    "start_time": "2024-01-08T07:41:03.322Z"
   },
   {
    "duration": 17,
    "start_time": "2024-01-08T07:41:03.325Z"
   },
   {
    "duration": 12,
    "start_time": "2024-01-08T07:41:03.344Z"
   },
   {
    "duration": 20,
    "start_time": "2024-01-08T07:41:03.357Z"
   },
   {
    "duration": 50,
    "start_time": "2024-01-08T07:41:03.379Z"
   },
   {
    "duration": 21,
    "start_time": "2024-01-08T07:41:03.431Z"
   },
   {
    "duration": 94,
    "start_time": "2024-01-08T07:41:03.454Z"
   },
   {
    "duration": 5,
    "start_time": "2024-01-08T07:41:03.550Z"
   },
   {
    "duration": 13,
    "start_time": "2024-01-08T07:41:03.557Z"
   },
   {
    "duration": 25,
    "start_time": "2024-01-08T07:41:03.571Z"
   },
   {
    "duration": 38,
    "start_time": "2024-01-08T07:41:03.597Z"
   },
   {
    "duration": 104,
    "start_time": "2024-01-08T07:44:59.472Z"
   },
   {
    "duration": 8,
    "start_time": "2024-01-08T07:45:04.470Z"
   },
   {
    "duration": 5,
    "start_time": "2024-01-08T07:45:55.343Z"
   },
   {
    "duration": 9,
    "start_time": "2024-01-08T07:45:55.541Z"
   },
   {
    "duration": 7,
    "start_time": "2024-01-08T07:46:36.781Z"
   },
   {
    "duration": 7,
    "start_time": "2024-01-08T07:46:41.051Z"
   },
   {
    "duration": 9,
    "start_time": "2024-01-08T07:46:46.376Z"
   },
   {
    "duration": 9,
    "start_time": "2024-01-08T07:46:57.105Z"
   },
   {
    "duration": 8,
    "start_time": "2024-01-08T07:47:21.403Z"
   },
   {
    "duration": 3,
    "start_time": "2024-01-08T07:47:24.330Z"
   },
   {
    "duration": 8,
    "start_time": "2024-01-08T07:47:35.338Z"
   },
   {
    "duration": 1297,
    "start_time": "2024-01-08T07:47:51.404Z"
   },
   {
    "duration": 1251,
    "start_time": "2024-01-08T07:48:07.225Z"
   },
   {
    "duration": 3,
    "start_time": "2024-01-08T07:48:08.479Z"
   },
   {
    "duration": 201,
    "start_time": "2024-01-08T07:48:08.484Z"
   },
   {
    "duration": 3,
    "start_time": "2024-01-08T07:48:08.688Z"
   },
   {
    "duration": 34,
    "start_time": "2024-01-08T07:48:08.693Z"
   },
   {
    "duration": 107,
    "start_time": "2024-01-08T07:48:08.729Z"
   },
   {
    "duration": 141,
    "start_time": "2024-01-08T07:48:08.844Z"
   },
   {
    "duration": 85,
    "start_time": "2024-01-08T07:48:08.986Z"
   },
   {
    "duration": 5,
    "start_time": "2024-01-08T07:48:09.073Z"
   },
   {
    "duration": 34,
    "start_time": "2024-01-08T07:48:09.082Z"
   },
   {
    "duration": 46,
    "start_time": "2024-01-08T07:48:09.117Z"
   },
   {
    "duration": 8,
    "start_time": "2024-01-08T07:48:09.164Z"
   },
   {
    "duration": 33,
    "start_time": "2024-01-08T07:48:09.174Z"
   },
   {
    "duration": 5,
    "start_time": "2024-01-08T07:48:09.209Z"
   },
   {
    "duration": 322,
    "start_time": "2024-01-08T07:48:09.216Z"
   },
   {
    "duration": 242,
    "start_time": "2024-01-08T07:48:09.540Z"
   },
   {
    "duration": 9,
    "start_time": "2024-01-08T07:48:09.784Z"
   },
   {
    "duration": 23,
    "start_time": "2024-01-08T07:48:09.794Z"
   },
   {
    "duration": 267,
    "start_time": "2024-01-08T07:48:09.819Z"
   },
   {
    "duration": 8,
    "start_time": "2024-01-08T07:48:10.088Z"
   },
   {
    "duration": 41,
    "start_time": "2024-01-08T07:48:10.097Z"
   },
   {
    "duration": 107,
    "start_time": "2024-01-08T07:48:10.139Z"
   },
   {
    "duration": 2,
    "start_time": "2024-01-08T07:48:10.248Z"
   },
   {
    "duration": 36,
    "start_time": "2024-01-08T07:48:10.251Z"
   },
   {
    "duration": 5,
    "start_time": "2024-01-08T07:48:10.288Z"
   },
   {
    "duration": 22,
    "start_time": "2024-01-08T07:48:10.295Z"
   },
   {
    "duration": 47,
    "start_time": "2024-01-08T07:48:10.319Z"
   },
   {
    "duration": 24,
    "start_time": "2024-01-08T07:48:10.370Z"
   },
   {
    "duration": 108,
    "start_time": "2024-01-08T07:48:10.396Z"
   },
   {
    "duration": 7,
    "start_time": "2024-01-08T07:48:10.505Z"
   },
   {
    "duration": 30,
    "start_time": "2024-01-08T07:48:10.513Z"
   },
   {
    "duration": 54,
    "start_time": "2024-01-08T07:48:10.545Z"
   },
   {
    "duration": 31,
    "start_time": "2024-01-08T07:48:10.600Z"
   },
   {
    "duration": 11,
    "start_time": "2024-01-08T07:48:10.633Z"
   },
   {
    "duration": 40,
    "start_time": "2024-01-08T07:48:10.645Z"
   },
   {
    "duration": 22,
    "start_time": "2024-01-08T07:48:10.687Z"
   },
   {
    "duration": 1284,
    "start_time": "2024-01-08T07:48:10.710Z"
   },
   {
    "duration": 1217,
    "start_time": "2024-01-08T07:49:05.165Z"
   },
   {
    "duration": 0,
    "start_time": "2024-01-08T07:49:06.384Z"
   },
   {
    "duration": 0,
    "start_time": "2024-01-08T07:49:06.385Z"
   },
   {
    "duration": 0,
    "start_time": "2024-01-08T07:49:06.386Z"
   },
   {
    "duration": 0,
    "start_time": "2024-01-08T07:49:06.388Z"
   },
   {
    "duration": 0,
    "start_time": "2024-01-08T07:49:06.390Z"
   },
   {
    "duration": 0,
    "start_time": "2024-01-08T07:49:06.391Z"
   },
   {
    "duration": 1067,
    "start_time": "2024-01-08T07:49:21.857Z"
   },
   {
    "duration": 4,
    "start_time": "2024-01-08T07:49:22.926Z"
   },
   {
    "duration": 203,
    "start_time": "2024-01-08T07:49:22.932Z"
   },
   {
    "duration": 2,
    "start_time": "2024-01-08T07:49:23.137Z"
   },
   {
    "duration": 34,
    "start_time": "2024-01-08T07:49:23.140Z"
   },
   {
    "duration": 84,
    "start_time": "2024-01-08T07:49:23.176Z"
   },
   {
    "duration": 148,
    "start_time": "2024-01-08T07:49:23.262Z"
   },
   {
    "duration": 93,
    "start_time": "2024-01-08T07:49:23.411Z"
   },
   {
    "duration": 5,
    "start_time": "2024-01-08T07:49:23.506Z"
   },
   {
    "duration": 33,
    "start_time": "2024-01-08T07:49:23.514Z"
   },
   {
    "duration": 31,
    "start_time": "2024-01-08T07:49:23.549Z"
   },
   {
    "duration": 6,
    "start_time": "2024-01-08T07:49:23.582Z"
   },
   {
    "duration": 56,
    "start_time": "2024-01-08T07:49:23.590Z"
   },
   {
    "duration": 6,
    "start_time": "2024-01-08T07:49:23.648Z"
   },
   {
    "duration": 306,
    "start_time": "2024-01-08T07:49:23.655Z"
   },
   {
    "duration": 237,
    "start_time": "2024-01-08T07:49:23.963Z"
   },
   {
    "duration": 9,
    "start_time": "2024-01-08T07:49:24.202Z"
   },
   {
    "duration": 33,
    "start_time": "2024-01-08T07:49:24.212Z"
   },
   {
    "duration": 264,
    "start_time": "2024-01-08T07:49:24.247Z"
   },
   {
    "duration": 5,
    "start_time": "2024-01-08T07:49:24.513Z"
   },
   {
    "duration": 43,
    "start_time": "2024-01-08T07:49:24.520Z"
   },
   {
    "duration": 105,
    "start_time": "2024-01-08T07:49:24.565Z"
   },
   {
    "duration": 3,
    "start_time": "2024-01-08T07:49:24.671Z"
   },
   {
    "duration": 9,
    "start_time": "2024-01-08T07:49:24.675Z"
   },
   {
    "duration": 5,
    "start_time": "2024-01-08T07:49:24.686Z"
   },
   {
    "duration": 32,
    "start_time": "2024-01-08T07:49:24.692Z"
   },
   {
    "duration": 50,
    "start_time": "2024-01-08T07:49:24.726Z"
   },
   {
    "duration": 23,
    "start_time": "2024-01-08T07:49:24.778Z"
   },
   {
    "duration": 98,
    "start_time": "2024-01-08T07:49:24.802Z"
   },
   {
    "duration": 5,
    "start_time": "2024-01-08T07:49:24.902Z"
   },
   {
    "duration": 1286,
    "start_time": "2024-01-08T07:49:24.909Z"
   },
   {
    "duration": 0,
    "start_time": "2024-01-08T07:49:26.197Z"
   },
   {
    "duration": 0,
    "start_time": "2024-01-08T07:49:26.198Z"
   },
   {
    "duration": 0,
    "start_time": "2024-01-08T07:49:26.199Z"
   },
   {
    "duration": 0,
    "start_time": "2024-01-08T07:49:26.200Z"
   },
   {
    "duration": 0,
    "start_time": "2024-01-08T07:49:26.201Z"
   },
   {
    "duration": 0,
    "start_time": "2024-01-08T07:49:26.203Z"
   },
   {
    "duration": 7,
    "start_time": "2024-01-08T07:50:45.731Z"
   },
   {
    "duration": 5,
    "start_time": "2024-01-08T07:50:46.050Z"
   },
   {
    "duration": 506,
    "start_time": "2024-01-08T07:50:46.299Z"
   },
   {
    "duration": 386,
    "start_time": "2024-01-08T07:50:46.807Z"
   },
   {
    "duration": 93,
    "start_time": "2024-01-08T07:50:47.194Z"
   },
   {
    "duration": 22,
    "start_time": "2024-01-08T07:50:47.288Z"
   },
   {
    "duration": 1209,
    "start_time": "2024-01-08T07:50:48.362Z"
   },
   {
    "duration": 1087,
    "start_time": "2024-01-08T07:51:43.059Z"
   },
   {
    "duration": 4,
    "start_time": "2024-01-08T07:51:44.148Z"
   },
   {
    "duration": 667,
    "start_time": "2024-01-08T07:51:44.153Z"
   },
   {
    "duration": 3,
    "start_time": "2024-01-08T07:51:44.822Z"
   },
   {
    "duration": 47,
    "start_time": "2024-01-08T07:51:44.826Z"
   },
   {
    "duration": 672,
    "start_time": "2024-01-08T07:51:44.874Z"
   },
   {
    "duration": 469,
    "start_time": "2024-01-08T07:51:45.548Z"
   },
   {
    "duration": 583,
    "start_time": "2024-01-08T07:51:46.018Z"
   },
   {
    "duration": 453,
    "start_time": "2024-01-08T07:51:46.602Z"
   },
   {
    "duration": 799,
    "start_time": "2024-01-08T07:51:47.058Z"
   },
   {
    "duration": 298,
    "start_time": "2024-01-08T07:51:47.859Z"
   },
   {
    "duration": 26,
    "start_time": "2024-01-08T07:51:48.159Z"
   },
   {
    "duration": 173,
    "start_time": "2024-01-08T07:51:48.187Z"
   },
   {
    "duration": 56,
    "start_time": "2024-01-08T07:51:48.362Z"
   },
   {
    "duration": 337,
    "start_time": "2024-01-08T07:51:48.419Z"
   },
   {
    "duration": 253,
    "start_time": "2024-01-08T07:51:48.758Z"
   },
   {
    "duration": 9,
    "start_time": "2024-01-08T07:51:49.013Z"
   },
   {
    "duration": 71,
    "start_time": "2024-01-08T07:51:49.023Z"
   },
   {
    "duration": 250,
    "start_time": "2024-01-08T07:51:49.096Z"
   },
   {
    "duration": 7,
    "start_time": "2024-01-08T07:51:49.348Z"
   },
   {
    "duration": 29,
    "start_time": "2024-01-08T07:51:49.356Z"
   },
   {
    "duration": 105,
    "start_time": "2024-01-08T07:51:49.386Z"
   },
   {
    "duration": 3,
    "start_time": "2024-01-08T07:51:49.492Z"
   },
   {
    "duration": 41,
    "start_time": "2024-01-08T07:51:49.496Z"
   },
   {
    "duration": 32,
    "start_time": "2024-01-08T07:51:49.538Z"
   },
   {
    "duration": 42,
    "start_time": "2024-01-08T07:51:49.572Z"
   },
   {
    "duration": 74,
    "start_time": "2024-01-08T07:51:49.615Z"
   },
   {
    "duration": 22,
    "start_time": "2024-01-08T07:51:49.692Z"
   },
   {
    "duration": 84,
    "start_time": "2024-01-08T07:51:49.715Z"
   },
   {
    "duration": 5,
    "start_time": "2024-01-08T07:51:49.801Z"
   },
   {
    "duration": 28,
    "start_time": "2024-01-08T07:51:49.807Z"
   },
   {
    "duration": 14,
    "start_time": "2024-01-08T07:51:49.837Z"
   },
   {
    "duration": 20,
    "start_time": "2024-01-08T07:51:49.852Z"
   },
   {
    "duration": 17,
    "start_time": "2024-01-08T07:51:49.873Z"
   },
   {
    "duration": 20,
    "start_time": "2024-01-08T07:51:49.892Z"
   },
   {
    "duration": 15,
    "start_time": "2024-01-08T07:51:49.913Z"
   },
   {
    "duration": 1334,
    "start_time": "2024-01-08T07:51:49.929Z"
   },
   {
    "duration": 43,
    "start_time": "2024-01-08T07:52:26.044Z"
   },
   {
    "duration": 41,
    "start_time": "2024-01-08T07:52:29.930Z"
   },
   {
    "duration": 1056,
    "start_time": "2024-01-08T07:52:38.977Z"
   },
   {
    "duration": 3,
    "start_time": "2024-01-08T07:52:40.035Z"
   },
   {
    "duration": 218,
    "start_time": "2024-01-08T07:52:40.039Z"
   },
   {
    "duration": 3,
    "start_time": "2024-01-08T07:52:40.258Z"
   },
   {
    "duration": 70,
    "start_time": "2024-01-08T07:52:40.262Z"
   },
   {
    "duration": 67,
    "start_time": "2024-01-08T07:52:40.333Z"
   },
   {
    "duration": 111,
    "start_time": "2024-01-08T07:52:40.402Z"
   },
   {
    "duration": 76,
    "start_time": "2024-01-08T07:52:40.514Z"
   },
   {
    "duration": 5,
    "start_time": "2024-01-08T07:52:40.591Z"
   },
   {
    "duration": 34,
    "start_time": "2024-01-08T07:52:40.599Z"
   },
   {
    "duration": 33,
    "start_time": "2024-01-08T07:52:40.634Z"
   },
   {
    "duration": 4,
    "start_time": "2024-01-08T07:52:40.669Z"
   },
   {
    "duration": 54,
    "start_time": "2024-01-08T07:52:40.674Z"
   },
   {
    "duration": 7,
    "start_time": "2024-01-08T07:52:40.730Z"
   },
   {
    "duration": 275,
    "start_time": "2024-01-08T07:52:40.739Z"
   },
   {
    "duration": 233,
    "start_time": "2024-01-08T07:52:41.015Z"
   },
   {
    "duration": 8,
    "start_time": "2024-01-08T07:52:41.250Z"
   },
   {
    "duration": 23,
    "start_time": "2024-01-08T07:52:41.259Z"
   },
   {
    "duration": 235,
    "start_time": "2024-01-08T07:52:41.284Z"
   },
   {
    "duration": 6,
    "start_time": "2024-01-08T07:52:41.520Z"
   },
   {
    "duration": 29,
    "start_time": "2024-01-08T07:52:41.528Z"
   },
   {
    "duration": 90,
    "start_time": "2024-01-08T07:52:41.559Z"
   },
   {
    "duration": 2,
    "start_time": "2024-01-08T07:52:41.650Z"
   },
   {
    "duration": 6,
    "start_time": "2024-01-08T07:52:41.654Z"
   },
   {
    "duration": 8,
    "start_time": "2024-01-08T07:52:41.661Z"
   },
   {
    "duration": 15,
    "start_time": "2024-01-08T07:52:41.670Z"
   },
   {
    "duration": 42,
    "start_time": "2024-01-08T07:52:41.686Z"
   },
   {
    "duration": 18,
    "start_time": "2024-01-08T07:52:41.744Z"
   },
   {
    "duration": 89,
    "start_time": "2024-01-08T07:52:41.763Z"
   },
   {
    "duration": 5,
    "start_time": "2024-01-08T07:52:41.853Z"
   },
   {
    "duration": 32,
    "start_time": "2024-01-08T07:52:41.859Z"
   },
   {
    "duration": 29,
    "start_time": "2024-01-08T07:52:41.892Z"
   },
   {
    "duration": 35,
    "start_time": "2024-01-08T07:52:41.923Z"
   },
   {
    "duration": 19,
    "start_time": "2024-01-08T07:52:41.960Z"
   },
   {
    "duration": 43,
    "start_time": "2024-01-08T07:52:41.980Z"
   },
   {
    "duration": 17,
    "start_time": "2024-01-08T07:52:42.024Z"
   },
   {
    "duration": 28,
    "start_time": "2024-01-08T07:52:42.042Z"
   },
   {
    "duration": 1158,
    "start_time": "2024-01-08T08:16:56.819Z"
   },
   {
    "duration": 3,
    "start_time": "2024-01-08T08:16:57.979Z"
   },
   {
    "duration": 184,
    "start_time": "2024-01-08T08:16:57.983Z"
   },
   {
    "duration": 2,
    "start_time": "2024-01-08T08:16:58.169Z"
   },
   {
    "duration": 28,
    "start_time": "2024-01-08T08:16:58.172Z"
   },
   {
    "duration": 99,
    "start_time": "2024-01-08T08:16:58.202Z"
   },
   {
    "duration": 130,
    "start_time": "2024-01-08T08:16:58.302Z"
   },
   {
    "duration": 78,
    "start_time": "2024-01-08T08:16:58.434Z"
   },
   {
    "duration": 5,
    "start_time": "2024-01-08T08:16:58.514Z"
   },
   {
    "duration": 41,
    "start_time": "2024-01-08T08:16:58.521Z"
   },
   {
    "duration": 31,
    "start_time": "2024-01-08T08:16:58.564Z"
   },
   {
    "duration": 6,
    "start_time": "2024-01-08T08:16:58.596Z"
   },
   {
    "duration": 53,
    "start_time": "2024-01-08T08:16:58.603Z"
   },
   {
    "duration": 12,
    "start_time": "2024-01-08T08:16:58.657Z"
   },
   {
    "duration": 294,
    "start_time": "2024-01-08T08:16:58.670Z"
   },
   {
    "duration": 221,
    "start_time": "2024-01-08T08:16:58.965Z"
   },
   {
    "duration": 14,
    "start_time": "2024-01-08T08:16:59.187Z"
   },
   {
    "duration": 22,
    "start_time": "2024-01-08T08:16:59.202Z"
   },
   {
    "duration": 239,
    "start_time": "2024-01-08T08:16:59.225Z"
   },
   {
    "duration": 6,
    "start_time": "2024-01-08T08:16:59.466Z"
   },
   {
    "duration": 32,
    "start_time": "2024-01-08T08:16:59.473Z"
   },
   {
    "duration": 95,
    "start_time": "2024-01-08T08:16:59.506Z"
   },
   {
    "duration": 3,
    "start_time": "2024-01-08T08:16:59.602Z"
   },
   {
    "duration": 30,
    "start_time": "2024-01-08T08:16:59.606Z"
   },
   {
    "duration": 26,
    "start_time": "2024-01-08T08:16:59.638Z"
   },
   {
    "duration": 15,
    "start_time": "2024-01-08T08:16:59.666Z"
   },
   {
    "duration": 47,
    "start_time": "2024-01-08T08:16:59.682Z"
   },
   {
    "duration": 18,
    "start_time": "2024-01-08T08:16:59.733Z"
   },
   {
    "duration": 77,
    "start_time": "2024-01-08T08:16:59.752Z"
   },
   {
    "duration": 16,
    "start_time": "2024-01-08T08:16:59.830Z"
   },
   {
    "duration": 5,
    "start_time": "2024-01-08T08:16:59.848Z"
   },
   {
    "duration": 5,
    "start_time": "2024-01-08T08:16:59.854Z"
   },
   {
    "duration": 11,
    "start_time": "2024-01-08T08:16:59.860Z"
   },
   {
    "duration": 13,
    "start_time": "2024-01-08T08:16:59.872Z"
   },
   {
    "duration": 17,
    "start_time": "2024-01-08T08:16:59.886Z"
   },
   {
    "duration": 5,
    "start_time": "2024-01-08T08:16:59.904Z"
   },
   {
    "duration": 12,
    "start_time": "2024-01-08T08:16:59.910Z"
   },
   {
    "duration": 1196,
    "start_time": "2024-01-09T17:06:22.689Z"
   },
   {
    "duration": 3,
    "start_time": "2024-01-09T17:06:23.887Z"
   },
   {
    "duration": 452,
    "start_time": "2024-01-09T17:06:23.891Z"
   },
   {
    "duration": 2,
    "start_time": "2024-01-09T17:06:24.345Z"
   },
   {
    "duration": 18,
    "start_time": "2024-01-09T17:06:24.348Z"
   },
   {
    "duration": 61,
    "start_time": "2024-01-09T17:06:24.367Z"
   },
   {
    "duration": 89,
    "start_time": "2024-01-09T17:06:24.429Z"
   },
   {
    "duration": 67,
    "start_time": "2024-01-09T17:06:24.519Z"
   },
   {
    "duration": 4,
    "start_time": "2024-01-09T17:06:24.587Z"
   },
   {
    "duration": 19,
    "start_time": "2024-01-09T17:06:24.602Z"
   },
   {
    "duration": 31,
    "start_time": "2024-01-09T17:06:24.623Z"
   },
   {
    "duration": 6,
    "start_time": "2024-01-09T17:06:24.655Z"
   },
   {
    "duration": 51,
    "start_time": "2024-01-09T17:06:24.662Z"
   },
   {
    "duration": 4,
    "start_time": "2024-01-09T17:06:24.715Z"
   },
   {
    "duration": 252,
    "start_time": "2024-01-09T17:06:24.720Z"
   },
   {
    "duration": 199,
    "start_time": "2024-01-09T17:06:24.974Z"
   },
   {
    "duration": 7,
    "start_time": "2024-01-09T17:06:25.174Z"
   },
   {
    "duration": 29,
    "start_time": "2024-01-09T17:06:25.183Z"
   },
   {
    "duration": 204,
    "start_time": "2024-01-09T17:06:25.214Z"
   },
   {
    "duration": 5,
    "start_time": "2024-01-09T17:06:25.419Z"
   },
   {
    "duration": 17,
    "start_time": "2024-01-09T17:06:25.426Z"
   },
   {
    "duration": 93,
    "start_time": "2024-01-09T17:06:25.445Z"
   },
   {
    "duration": 5,
    "start_time": "2024-01-09T17:06:25.540Z"
   },
   {
    "duration": 15,
    "start_time": "2024-01-09T17:06:25.546Z"
   },
   {
    "duration": 14,
    "start_time": "2024-01-09T17:06:25.562Z"
   },
   {
    "duration": 46,
    "start_time": "2024-01-09T17:06:25.577Z"
   },
   {
    "duration": 17,
    "start_time": "2024-01-09T17:06:25.624Z"
   },
   {
    "duration": 85,
    "start_time": "2024-01-09T17:06:25.644Z"
   },
   {
    "duration": 4,
    "start_time": "2024-01-09T17:06:25.731Z"
   },
   {
    "duration": 22,
    "start_time": "2024-01-09T17:06:25.736Z"
   },
   {
    "duration": 16,
    "start_time": "2024-01-09T17:06:25.759Z"
   },
   {
    "duration": 19,
    "start_time": "2024-01-09T17:06:25.776Z"
   },
   {
    "duration": 19,
    "start_time": "2024-01-09T17:06:25.796Z"
   },
   {
    "duration": 7,
    "start_time": "2024-01-09T17:06:25.817Z"
   },
   {
    "duration": 3,
    "start_time": "2024-01-09T17:06:25.825Z"
   },
   {
    "duration": 7,
    "start_time": "2024-01-09T17:06:25.829Z"
   },
   {
    "duration": 3,
    "start_time": "2024-01-09T17:06:54.394Z"
   },
   {
    "duration": 54,
    "start_time": "2024-01-09T17:07:08.433Z"
   },
   {
    "duration": 51,
    "start_time": "2024-01-09T17:07:20.613Z"
   },
   {
    "duration": 52,
    "start_time": "2024-01-09T17:08:07.516Z"
   },
   {
    "duration": 3,
    "start_time": "2024-01-09T17:12:06.313Z"
   },
   {
    "duration": 131,
    "start_time": "2024-01-09T17:12:07.573Z"
   },
   {
    "duration": 3,
    "start_time": "2024-01-09T17:12:07.980Z"
   },
   {
    "duration": 16,
    "start_time": "2024-01-09T17:12:08.548Z"
   },
   {
    "duration": 99,
    "start_time": "2024-01-09T17:12:08.962Z"
   },
   {
    "duration": 3,
    "start_time": "2024-01-09T17:12:27.914Z"
   },
   {
    "duration": 98,
    "start_time": "2024-01-09T17:12:31.529Z"
   },
   {
    "duration": 3,
    "start_time": "2024-01-09T17:12:38.755Z"
   },
   {
    "duration": 138,
    "start_time": "2024-01-09T17:12:39.082Z"
   },
   {
    "duration": 3,
    "start_time": "2024-01-09T17:12:39.398Z"
   },
   {
    "duration": 14,
    "start_time": "2024-01-09T17:12:40.844Z"
   },
   {
    "duration": 87,
    "start_time": "2024-01-09T17:12:41.778Z"
   },
   {
    "duration": 10,
    "start_time": "2024-01-09T17:14:09.627Z"
   },
   {
    "duration": 106,
    "start_time": "2024-01-09T17:19:08.030Z"
   },
   {
    "duration": 3,
    "start_time": "2024-01-09T17:19:10.255Z"
   },
   {
    "duration": 3,
    "start_time": "2024-01-09T17:19:27.748Z"
   },
   {
    "duration": 7,
    "start_time": "2024-01-09T17:20:30.807Z"
   },
   {
    "duration": 1620,
    "start_time": "2024-01-09T17:20:41.656Z"
   },
   {
    "duration": 1272,
    "start_time": "2024-01-09T17:20:56.735Z"
   },
   {
    "duration": 3637,
    "start_time": "2024-01-09T17:20:59.736Z"
   },
   {
    "duration": 996,
    "start_time": "2024-01-09T17:21:09.345Z"
   },
   {
    "duration": 5,
    "start_time": "2024-01-09T17:21:10.343Z"
   },
   {
    "duration": 159,
    "start_time": "2024-01-09T17:21:10.349Z"
   },
   {
    "duration": 3,
    "start_time": "2024-01-09T17:21:10.509Z"
   },
   {
    "duration": 25,
    "start_time": "2024-01-09T17:21:10.513Z"
   },
   {
    "duration": 112,
    "start_time": "2024-01-09T17:21:10.539Z"
   },
   {
    "duration": 93,
    "start_time": "2024-01-09T17:21:10.653Z"
   },
   {
    "duration": 71,
    "start_time": "2024-01-09T17:21:10.747Z"
   },
   {
    "duration": 4,
    "start_time": "2024-01-09T17:21:10.819Z"
   },
   {
    "duration": 23,
    "start_time": "2024-01-09T17:21:10.825Z"
   },
   {
    "duration": 30,
    "start_time": "2024-01-09T17:21:10.849Z"
   },
   {
    "duration": 23,
    "start_time": "2024-01-09T17:21:10.881Z"
   },
   {
    "duration": 26,
    "start_time": "2024-01-09T17:21:10.905Z"
   },
   {
    "duration": 5,
    "start_time": "2024-01-09T17:21:10.932Z"
   },
   {
    "duration": 9,
    "start_time": "2024-01-09T17:21:10.938Z"
   },
   {
    "duration": 270,
    "start_time": "2024-01-09T17:21:10.948Z"
   },
   {
    "duration": 204,
    "start_time": "2024-01-09T17:21:11.219Z"
   },
   {
    "duration": 9,
    "start_time": "2024-01-09T17:21:11.425Z"
   },
   {
    "duration": 34,
    "start_time": "2024-01-09T17:21:11.435Z"
   },
   {
    "duration": 199,
    "start_time": "2024-01-09T17:21:11.470Z"
   },
   {
    "duration": 7,
    "start_time": "2024-01-09T17:21:11.671Z"
   },
   {
    "duration": 4,
    "start_time": "2024-01-09T17:21:11.679Z"
   },
   {
    "duration": 1286,
    "start_time": "2024-01-09T17:21:11.702Z"
   },
   {
    "duration": 0,
    "start_time": "2024-01-09T17:21:12.990Z"
   },
   {
    "duration": 0,
    "start_time": "2024-01-09T17:21:12.991Z"
   },
   {
    "duration": 0,
    "start_time": "2024-01-09T17:21:12.993Z"
   },
   {
    "duration": 0,
    "start_time": "2024-01-09T17:21:12.994Z"
   },
   {
    "duration": 0,
    "start_time": "2024-01-09T17:21:12.995Z"
   },
   {
    "duration": 0,
    "start_time": "2024-01-09T17:21:12.996Z"
   },
   {
    "duration": 0,
    "start_time": "2024-01-09T17:21:12.997Z"
   },
   {
    "duration": 0,
    "start_time": "2024-01-09T17:21:12.998Z"
   },
   {
    "duration": 0,
    "start_time": "2024-01-09T17:21:13.000Z"
   },
   {
    "duration": 0,
    "start_time": "2024-01-09T17:21:13.001Z"
   },
   {
    "duration": 0,
    "start_time": "2024-01-09T17:21:13.002Z"
   },
   {
    "duration": 0,
    "start_time": "2024-01-09T17:21:13.003Z"
   },
   {
    "duration": 0,
    "start_time": "2024-01-09T17:21:13.004Z"
   },
   {
    "duration": 0,
    "start_time": "2024-01-09T17:21:13.005Z"
   },
   {
    "duration": 0,
    "start_time": "2024-01-09T17:21:13.007Z"
   },
   {
    "duration": 0,
    "start_time": "2024-01-09T17:21:13.008Z"
   },
   {
    "duration": 7,
    "start_time": "2024-01-09T17:21:30.999Z"
   },
   {
    "duration": 8,
    "start_time": "2024-01-09T17:21:47.331Z"
   },
   {
    "duration": 3645,
    "start_time": "2024-01-09T17:21:49.870Z"
   },
   {
    "duration": 1023,
    "start_time": "2024-01-09T17:22:02.817Z"
   },
   {
    "duration": 4,
    "start_time": "2024-01-09T17:22:03.841Z"
   },
   {
    "duration": 163,
    "start_time": "2024-01-09T17:22:03.846Z"
   },
   {
    "duration": 3,
    "start_time": "2024-01-09T17:22:04.010Z"
   },
   {
    "duration": 21,
    "start_time": "2024-01-09T17:22:04.014Z"
   },
   {
    "duration": 132,
    "start_time": "2024-01-09T17:22:04.036Z"
   },
   {
    "duration": 94,
    "start_time": "2024-01-09T17:22:04.169Z"
   },
   {
    "duration": 73,
    "start_time": "2024-01-09T17:22:04.264Z"
   },
   {
    "duration": 5,
    "start_time": "2024-01-09T17:22:04.338Z"
   },
   {
    "duration": 16,
    "start_time": "2024-01-09T17:22:04.345Z"
   },
   {
    "duration": 45,
    "start_time": "2024-01-09T17:22:04.362Z"
   },
   {
    "duration": 5,
    "start_time": "2024-01-09T17:22:04.408Z"
   },
   {
    "duration": 25,
    "start_time": "2024-01-09T17:22:04.415Z"
   },
   {
    "duration": 4,
    "start_time": "2024-01-09T17:22:04.441Z"
   },
   {
    "duration": 8,
    "start_time": "2024-01-09T17:22:04.446Z"
   },
   {
    "duration": 280,
    "start_time": "2024-01-09T17:22:04.455Z"
   },
   {
    "duration": 194,
    "start_time": "2024-01-09T17:22:04.736Z"
   },
   {
    "duration": 7,
    "start_time": "2024-01-09T17:22:04.932Z"
   },
   {
    "duration": 21,
    "start_time": "2024-01-09T17:22:04.940Z"
   },
   {
    "duration": 245,
    "start_time": "2024-01-09T17:22:04.962Z"
   },
   {
    "duration": 5,
    "start_time": "2024-01-09T17:22:05.209Z"
   },
   {
    "duration": 3,
    "start_time": "2024-01-09T17:22:05.216Z"
   },
   {
    "duration": 8,
    "start_time": "2024-01-09T17:22:05.220Z"
   },
   {
    "duration": 4207,
    "start_time": "2024-01-09T17:22:05.229Z"
   },
   {
    "duration": 0,
    "start_time": "2024-01-09T17:22:09.437Z"
   },
   {
    "duration": 0,
    "start_time": "2024-01-09T17:22:09.438Z"
   },
   {
    "duration": 0,
    "start_time": "2024-01-09T17:22:09.439Z"
   },
   {
    "duration": 0,
    "start_time": "2024-01-09T17:22:09.440Z"
   },
   {
    "duration": 0,
    "start_time": "2024-01-09T17:22:09.441Z"
   },
   {
    "duration": 0,
    "start_time": "2024-01-09T17:22:09.441Z"
   },
   {
    "duration": 0,
    "start_time": "2024-01-09T17:22:09.442Z"
   },
   {
    "duration": 0,
    "start_time": "2024-01-09T17:22:09.443Z"
   },
   {
    "duration": 0,
    "start_time": "2024-01-09T17:22:09.444Z"
   },
   {
    "duration": 0,
    "start_time": "2024-01-09T17:22:09.445Z"
   },
   {
    "duration": 0,
    "start_time": "2024-01-09T17:22:09.446Z"
   },
   {
    "duration": 0,
    "start_time": "2024-01-09T17:22:09.446Z"
   },
   {
    "duration": 0,
    "start_time": "2024-01-09T17:22:09.447Z"
   },
   {
    "duration": 0,
    "start_time": "2024-01-09T17:22:09.448Z"
   },
   {
    "duration": 0,
    "start_time": "2024-01-09T17:22:09.449Z"
   },
   {
    "duration": 0,
    "start_time": "2024-01-09T17:22:09.449Z"
   },
   {
    "duration": 2552,
    "start_time": "2024-01-09T17:22:32.556Z"
   },
   {
    "duration": 6,
    "start_time": "2024-01-09T17:23:11.934Z"
   },
   {
    "duration": 1322,
    "start_time": "2024-01-09T17:23:13.521Z"
   },
   {
    "duration": 9,
    "start_time": "2024-01-09T17:25:07.464Z"
   },
   {
    "duration": 2,
    "start_time": "2024-01-09T17:25:56.232Z"
   },
   {
    "duration": 6,
    "start_time": "2024-01-09T17:25:58.386Z"
   },
   {
    "duration": 5,
    "start_time": "2024-01-09T17:26:02.290Z"
   },
   {
    "duration": 6,
    "start_time": "2024-01-09T17:26:05.733Z"
   },
   {
    "duration": 5,
    "start_time": "2024-01-09T17:26:05.929Z"
   },
   {
    "duration": 6,
    "start_time": "2024-01-09T17:26:26.414Z"
   },
   {
    "duration": 969,
    "start_time": "2024-01-09T17:26:33.253Z"
   },
   {
    "duration": 3,
    "start_time": "2024-01-09T17:26:34.223Z"
   },
   {
    "duration": 152,
    "start_time": "2024-01-09T17:26:34.227Z"
   },
   {
    "duration": 3,
    "start_time": "2024-01-09T17:26:34.381Z"
   },
   {
    "duration": 18,
    "start_time": "2024-01-09T17:26:34.385Z"
   },
   {
    "duration": 121,
    "start_time": "2024-01-09T17:26:34.405Z"
   },
   {
    "duration": 88,
    "start_time": "2024-01-09T17:26:34.527Z"
   },
   {
    "duration": 71,
    "start_time": "2024-01-09T17:26:34.617Z"
   },
   {
    "duration": 14,
    "start_time": "2024-01-09T17:26:34.690Z"
   },
   {
    "duration": 23,
    "start_time": "2024-01-09T17:26:34.706Z"
   },
   {
    "duration": 31,
    "start_time": "2024-01-09T17:26:34.730Z"
   },
   {
    "duration": 4,
    "start_time": "2024-01-09T17:26:34.762Z"
   },
   {
    "duration": 41,
    "start_time": "2024-01-09T17:26:34.767Z"
   },
   {
    "duration": 4,
    "start_time": "2024-01-09T17:26:34.809Z"
   },
   {
    "duration": 9,
    "start_time": "2024-01-09T17:26:34.814Z"
   },
   {
    "duration": 260,
    "start_time": "2024-01-09T17:26:34.824Z"
   },
   {
    "duration": 203,
    "start_time": "2024-01-09T17:26:35.085Z"
   },
   {
    "duration": 14,
    "start_time": "2024-01-09T17:26:35.290Z"
   },
   {
    "duration": 18,
    "start_time": "2024-01-09T17:26:35.305Z"
   },
   {
    "duration": 206,
    "start_time": "2024-01-09T17:26:35.324Z"
   },
   {
    "duration": 5,
    "start_time": "2024-01-09T17:26:35.531Z"
   },
   {
    "duration": 17,
    "start_time": "2024-01-09T17:26:35.537Z"
   },
   {
    "duration": 9,
    "start_time": "2024-01-09T17:26:35.555Z"
   },
   {
    "duration": 10,
    "start_time": "2024-01-09T17:26:35.565Z"
   },
   {
    "duration": 18,
    "start_time": "2024-01-09T17:26:35.576Z"
   },
   {
    "duration": 79,
    "start_time": "2024-01-09T17:26:35.595Z"
   },
   {
    "duration": 4,
    "start_time": "2024-01-09T17:26:35.676Z"
   },
   {
    "duration": 3,
    "start_time": "2024-01-09T17:26:35.682Z"
   },
   {
    "duration": 26,
    "start_time": "2024-01-09T17:26:35.686Z"
   },
   {
    "duration": 40,
    "start_time": "2024-01-09T17:26:35.713Z"
   },
   {
    "duration": 18,
    "start_time": "2024-01-09T17:26:35.754Z"
   },
   {
    "duration": 87,
    "start_time": "2024-01-09T17:26:35.774Z"
   },
   {
    "duration": 4,
    "start_time": "2024-01-09T17:26:35.863Z"
   },
   {
    "duration": 25,
    "start_time": "2024-01-09T17:26:35.868Z"
   },
   {
    "duration": 8,
    "start_time": "2024-01-09T17:26:35.894Z"
   },
   {
    "duration": 7,
    "start_time": "2024-01-09T17:26:35.903Z"
   },
   {
    "duration": 6,
    "start_time": "2024-01-09T17:26:35.911Z"
   },
   {
    "duration": 7,
    "start_time": "2024-01-09T17:26:35.918Z"
   },
   {
    "duration": 3,
    "start_time": "2024-01-09T17:26:35.926Z"
   },
   {
    "duration": 14,
    "start_time": "2024-01-09T17:26:35.930Z"
   },
   {
    "duration": 8,
    "start_time": "2024-01-09T17:27:12.878Z"
   },
   {
    "duration": 2900,
    "start_time": "2024-01-09T17:27:22.906Z"
   },
   {
    "duration": 3,
    "start_time": "2024-01-09T17:27:25.807Z"
   },
   {
    "duration": 149,
    "start_time": "2024-01-09T17:27:25.811Z"
   },
   {
    "duration": 3,
    "start_time": "2024-01-09T17:27:25.961Z"
   },
   {
    "duration": 17,
    "start_time": "2024-01-09T17:27:25.965Z"
   },
   {
    "duration": 124,
    "start_time": "2024-01-09T17:27:25.984Z"
   },
   {
    "duration": 94,
    "start_time": "2024-01-09T17:27:26.110Z"
   },
   {
    "duration": 71,
    "start_time": "2024-01-09T17:27:26.206Z"
   },
   {
    "duration": 5,
    "start_time": "2024-01-09T17:27:26.278Z"
   },
   {
    "duration": 31,
    "start_time": "2024-01-09T17:27:26.285Z"
   },
   {
    "duration": 31,
    "start_time": "2024-01-09T17:27:26.317Z"
   },
   {
    "duration": 4,
    "start_time": "2024-01-09T17:27:26.349Z"
   },
   {
    "duration": 25,
    "start_time": "2024-01-09T17:27:26.355Z"
   },
   {
    "duration": 23,
    "start_time": "2024-01-09T17:27:26.381Z"
   },
   {
    "duration": 21,
    "start_time": "2024-01-09T17:27:26.406Z"
   },
   {
    "duration": 247,
    "start_time": "2024-01-09T17:27:26.428Z"
   },
   {
    "duration": 209,
    "start_time": "2024-01-09T17:27:26.676Z"
   },
   {
    "duration": 7,
    "start_time": "2024-01-09T17:27:26.887Z"
   },
   {
    "duration": 24,
    "start_time": "2024-01-09T17:27:26.895Z"
   },
   {
    "duration": 201,
    "start_time": "2024-01-09T17:27:26.920Z"
   },
   {
    "duration": 5,
    "start_time": "2024-01-09T17:27:27.123Z"
   },
   {
    "duration": 3,
    "start_time": "2024-01-09T17:27:27.129Z"
   },
   {
    "duration": 7,
    "start_time": "2024-01-09T17:27:27.133Z"
   },
   {
    "duration": 19,
    "start_time": "2024-01-09T17:27:27.142Z"
   },
   {
    "duration": 94,
    "start_time": "2024-01-09T17:27:27.162Z"
   },
   {
    "duration": 5,
    "start_time": "2024-01-09T17:27:27.257Z"
   },
   {
    "duration": 3,
    "start_time": "2024-01-09T17:27:27.263Z"
   },
   {
    "duration": 12,
    "start_time": "2024-01-09T17:27:27.269Z"
   },
   {
    "duration": 54,
    "start_time": "2024-01-09T17:27:27.282Z"
   },
   {
    "duration": 17,
    "start_time": "2024-01-09T17:27:27.337Z"
   },
   {
    "duration": 86,
    "start_time": "2024-01-09T17:27:27.355Z"
   },
   {
    "duration": 5,
    "start_time": "2024-01-09T17:27:27.442Z"
   },
   {
    "duration": 5,
    "start_time": "2024-01-09T17:27:27.448Z"
   },
   {
    "duration": 8,
    "start_time": "2024-01-09T17:27:27.454Z"
   },
   {
    "duration": 19,
    "start_time": "2024-01-09T17:27:27.463Z"
   },
   {
    "duration": 7,
    "start_time": "2024-01-09T17:27:27.483Z"
   },
   {
    "duration": 11,
    "start_time": "2024-01-09T17:27:27.491Z"
   },
   {
    "duration": 2,
    "start_time": "2024-01-09T17:27:27.503Z"
   },
   {
    "duration": 7,
    "start_time": "2024-01-09T17:27:27.506Z"
   },
   {
    "duration": 4,
    "start_time": "2024-01-09T17:27:44.993Z"
   },
   {
    "duration": 6,
    "start_time": "2024-01-09T17:27:50.371Z"
   },
   {
    "duration": 3,
    "start_time": "2024-01-09T17:27:54.481Z"
   },
   {
    "duration": 88,
    "start_time": "2024-01-09T17:27:58.723Z"
   },
   {
    "duration": 3,
    "start_time": "2024-01-09T17:28:06.368Z"
   },
   {
    "duration": 5,
    "start_time": "2024-01-09T17:28:25.722Z"
   },
   {
    "duration": 5,
    "start_time": "2024-01-09T17:28:34.599Z"
   },
   {
    "duration": 79,
    "start_time": "2024-01-09T17:31:09.993Z"
   },
   {
    "duration": 3,
    "start_time": "2024-01-09T17:31:13.681Z"
   },
   {
    "duration": 3,
    "start_time": "2024-01-09T17:31:21.415Z"
   },
   {
    "duration": 5,
    "start_time": "2024-01-09T17:31:44.516Z"
   },
   {
    "duration": 7,
    "start_time": "2024-01-09T17:32:00.362Z"
   },
   {
    "duration": 1006,
    "start_time": "2024-01-09T17:32:20.712Z"
   },
   {
    "duration": 3,
    "start_time": "2024-01-09T17:32:21.720Z"
   },
   {
    "duration": 149,
    "start_time": "2024-01-09T17:32:21.724Z"
   },
   {
    "duration": 2,
    "start_time": "2024-01-09T17:32:21.875Z"
   },
   {
    "duration": 23,
    "start_time": "2024-01-09T17:32:21.878Z"
   },
   {
    "duration": 114,
    "start_time": "2024-01-09T17:32:21.902Z"
   },
   {
    "duration": 94,
    "start_time": "2024-01-09T17:32:22.017Z"
   },
   {
    "duration": 67,
    "start_time": "2024-01-09T17:32:22.112Z"
   },
   {
    "duration": 4,
    "start_time": "2024-01-09T17:32:22.181Z"
   },
   {
    "duration": 20,
    "start_time": "2024-01-09T17:32:22.201Z"
   },
   {
    "duration": 29,
    "start_time": "2024-01-09T17:32:22.223Z"
   },
   {
    "duration": 4,
    "start_time": "2024-01-09T17:32:22.253Z"
   },
   {
    "duration": 44,
    "start_time": "2024-01-09T17:32:22.258Z"
   },
   {
    "duration": 4,
    "start_time": "2024-01-09T17:32:22.303Z"
   },
   {
    "duration": 9,
    "start_time": "2024-01-09T17:32:22.308Z"
   },
   {
    "duration": 260,
    "start_time": "2024-01-09T17:32:22.318Z"
   },
   {
    "duration": 203,
    "start_time": "2024-01-09T17:32:22.580Z"
   },
   {
    "duration": 8,
    "start_time": "2024-01-09T17:32:22.784Z"
   },
   {
    "duration": 36,
    "start_time": "2024-01-09T17:32:22.793Z"
   },
   {
    "duration": 194,
    "start_time": "2024-01-09T17:32:22.831Z"
   },
   {
    "duration": 5,
    "start_time": "2024-01-09T17:32:23.027Z"
   },
   {
    "duration": 27,
    "start_time": "2024-01-09T17:32:23.033Z"
   },
   {
    "duration": 18,
    "start_time": "2024-01-09T17:32:23.062Z"
   },
   {
    "duration": 42,
    "start_time": "2024-01-09T17:32:23.081Z"
   },
   {
    "duration": 111,
    "start_time": "2024-01-09T17:32:23.124Z"
   },
   {
    "duration": 4,
    "start_time": "2024-01-09T17:32:23.236Z"
   },
   {
    "duration": 4,
    "start_time": "2024-01-09T17:32:23.241Z"
   },
   {
    "duration": 12,
    "start_time": "2024-01-09T17:32:23.247Z"
   },
   {
    "duration": 55,
    "start_time": "2024-01-09T17:32:23.260Z"
   },
   {
    "duration": 18,
    "start_time": "2024-01-09T17:32:23.316Z"
   },
   {
    "duration": 77,
    "start_time": "2024-01-09T17:32:23.336Z"
   },
   {
    "duration": 4,
    "start_time": "2024-01-09T17:32:23.414Z"
   },
   {
    "duration": 5,
    "start_time": "2024-01-09T17:32:23.419Z"
   },
   {
    "duration": 7,
    "start_time": "2024-01-09T17:32:23.425Z"
   },
   {
    "duration": 10,
    "start_time": "2024-01-09T17:32:23.433Z"
   },
   {
    "duration": 18,
    "start_time": "2024-01-09T17:32:23.444Z"
   },
   {
    "duration": 6,
    "start_time": "2024-01-09T17:32:23.464Z"
   },
   {
    "duration": 9,
    "start_time": "2024-01-09T17:32:23.471Z"
   },
   {
    "duration": 17,
    "start_time": "2024-01-09T17:32:23.481Z"
   },
   {
    "duration": 5,
    "start_time": "2024-01-09T17:39:51.586Z"
   },
   {
    "duration": 5,
    "start_time": "2024-01-09T17:42:07.042Z"
   },
   {
    "duration": 8,
    "start_time": "2024-01-09T17:42:09.968Z"
   },
   {
    "duration": 3,
    "start_time": "2024-01-09T17:42:34.764Z"
   },
   {
    "duration": 7,
    "start_time": "2024-01-09T17:42:37.131Z"
   },
   {
    "duration": 7,
    "start_time": "2024-01-09T17:43:21.485Z"
   },
   {
    "duration": 4,
    "start_time": "2024-01-09T17:44:31.725Z"
   },
   {
    "duration": 9,
    "start_time": "2024-01-09T17:44:34.156Z"
   },
   {
    "duration": 12,
    "start_time": "2024-01-09T17:45:01.388Z"
   },
   {
    "duration": 1031,
    "start_time": "2024-01-09T17:45:10.975Z"
   },
   {
    "duration": 4,
    "start_time": "2024-01-09T17:45:12.007Z"
   },
   {
    "duration": 152,
    "start_time": "2024-01-09T17:45:12.013Z"
   },
   {
    "duration": 2,
    "start_time": "2024-01-09T17:45:12.167Z"
   },
   {
    "duration": 28,
    "start_time": "2024-01-09T17:45:12.170Z"
   },
   {
    "duration": 111,
    "start_time": "2024-01-09T17:45:12.199Z"
   },
   {
    "duration": 96,
    "start_time": "2024-01-09T17:45:12.312Z"
   },
   {
    "duration": 69,
    "start_time": "2024-01-09T17:45:12.409Z"
   },
   {
    "duration": 5,
    "start_time": "2024-01-09T17:45:12.479Z"
   },
   {
    "duration": 20,
    "start_time": "2024-01-09T17:45:12.501Z"
   },
   {
    "duration": 30,
    "start_time": "2024-01-09T17:45:12.523Z"
   },
   {
    "duration": 5,
    "start_time": "2024-01-09T17:45:12.554Z"
   },
   {
    "duration": 44,
    "start_time": "2024-01-09T17:45:12.560Z"
   },
   {
    "duration": 5,
    "start_time": "2024-01-09T17:45:12.605Z"
   },
   {
    "duration": 9,
    "start_time": "2024-01-09T17:45:12.611Z"
   },
   {
    "duration": 264,
    "start_time": "2024-01-09T17:45:12.621Z"
   },
   {
    "duration": 197,
    "start_time": "2024-01-09T17:45:12.886Z"
   },
   {
    "duration": 7,
    "start_time": "2024-01-09T17:45:13.085Z"
   },
   {
    "duration": 19,
    "start_time": "2024-01-09T17:45:13.101Z"
   },
   {
    "duration": 216,
    "start_time": "2024-01-09T17:45:13.121Z"
   },
   {
    "duration": 6,
    "start_time": "2024-01-09T17:45:13.339Z"
   },
   {
    "duration": 4,
    "start_time": "2024-01-09T17:45:13.346Z"
   },
   {
    "duration": 10,
    "start_time": "2024-01-09T17:45:13.351Z"
   },
   {
    "duration": 28,
    "start_time": "2024-01-09T17:45:13.362Z"
   },
   {
    "duration": 88,
    "start_time": "2024-01-09T17:45:13.391Z"
   },
   {
    "duration": 4,
    "start_time": "2024-01-09T17:45:13.480Z"
   },
   {
    "duration": 17,
    "start_time": "2024-01-09T17:45:13.485Z"
   },
   {
    "duration": 3,
    "start_time": "2024-01-09T17:45:13.504Z"
   },
   {
    "duration": 14,
    "start_time": "2024-01-09T17:45:13.508Z"
   },
   {
    "duration": 41,
    "start_time": "2024-01-09T17:45:13.523Z"
   },
   {
    "duration": 37,
    "start_time": "2024-01-09T17:45:13.566Z"
   },
   {
    "duration": 75,
    "start_time": "2024-01-09T17:45:13.604Z"
   },
   {
    "duration": 4,
    "start_time": "2024-01-09T17:45:13.681Z"
   },
   {
    "duration": 4,
    "start_time": "2024-01-09T17:45:13.701Z"
   },
   {
    "duration": 5,
    "start_time": "2024-01-09T17:45:13.706Z"
   },
   {
    "duration": 9,
    "start_time": "2024-01-09T17:45:13.712Z"
   },
   {
    "duration": 7,
    "start_time": "2024-01-09T17:45:13.722Z"
   },
   {
    "duration": 7,
    "start_time": "2024-01-09T17:45:13.730Z"
   },
   {
    "duration": 4,
    "start_time": "2024-01-09T17:45:13.738Z"
   },
   {
    "duration": 7,
    "start_time": "2024-01-09T17:45:13.743Z"
   },
   {
    "duration": 9,
    "start_time": "2024-01-09T17:46:03.213Z"
   },
   {
    "duration": 6,
    "start_time": "2024-01-09T17:46:09.304Z"
   },
   {
    "duration": 7,
    "start_time": "2024-01-09T17:46:26.093Z"
   },
   {
    "duration": 6,
    "start_time": "2024-01-09T17:46:31.406Z"
   },
   {
    "duration": 997,
    "start_time": "2024-01-09T17:46:38.714Z"
   },
   {
    "duration": 3,
    "start_time": "2024-01-09T17:46:39.712Z"
   },
   {
    "duration": 146,
    "start_time": "2024-01-09T17:46:39.717Z"
   },
   {
    "duration": 2,
    "start_time": "2024-01-09T17:46:39.865Z"
   },
   {
    "duration": 17,
    "start_time": "2024-01-09T17:46:39.868Z"
   },
   {
    "duration": 129,
    "start_time": "2024-01-09T17:46:39.887Z"
   },
   {
    "duration": 91,
    "start_time": "2024-01-09T17:46:40.017Z"
   },
   {
    "duration": 71,
    "start_time": "2024-01-09T17:46:40.109Z"
   },
   {
    "duration": 6,
    "start_time": "2024-01-09T17:46:40.182Z"
   },
   {
    "duration": 18,
    "start_time": "2024-01-09T17:46:40.202Z"
   },
   {
    "duration": 31,
    "start_time": "2024-01-09T17:46:40.221Z"
   },
   {
    "duration": 5,
    "start_time": "2024-01-09T17:46:40.253Z"
   },
   {
    "duration": 56,
    "start_time": "2024-01-09T17:46:40.259Z"
   },
   {
    "duration": 5,
    "start_time": "2024-01-09T17:46:40.317Z"
   },
   {
    "duration": 10,
    "start_time": "2024-01-09T17:46:40.324Z"
   },
   {
    "duration": 283,
    "start_time": "2024-01-09T17:46:40.335Z"
   },
   {
    "duration": 196,
    "start_time": "2024-01-09T17:46:40.619Z"
   },
   {
    "duration": 8,
    "start_time": "2024-01-09T17:46:40.816Z"
   },
   {
    "duration": 18,
    "start_time": "2024-01-09T17:46:40.825Z"
   },
   {
    "duration": 213,
    "start_time": "2024-01-09T17:46:40.844Z"
   },
   {
    "duration": 6,
    "start_time": "2024-01-09T17:46:41.058Z"
   },
   {
    "duration": 10,
    "start_time": "2024-01-09T17:46:41.065Z"
   },
   {
    "duration": 7,
    "start_time": "2024-01-09T17:46:41.076Z"
   },
   {
    "duration": 25,
    "start_time": "2024-01-09T17:46:41.084Z"
   },
   {
    "duration": 79,
    "start_time": "2024-01-09T17:46:41.110Z"
   },
   {
    "duration": 12,
    "start_time": "2024-01-09T17:46:41.190Z"
   },
   {
    "duration": 9,
    "start_time": "2024-01-09T17:46:41.203Z"
   },
   {
    "duration": 3,
    "start_time": "2024-01-09T17:46:41.215Z"
   },
   {
    "duration": 16,
    "start_time": "2024-01-09T17:46:41.219Z"
   },
   {
    "duration": 41,
    "start_time": "2024-01-09T17:46:41.236Z"
   },
   {
    "duration": 34,
    "start_time": "2024-01-09T17:46:41.278Z"
   },
   {
    "duration": 73,
    "start_time": "2024-01-09T17:46:41.313Z"
   },
   {
    "duration": 17,
    "start_time": "2024-01-09T17:46:41.387Z"
   },
   {
    "duration": 8,
    "start_time": "2024-01-09T17:46:41.406Z"
   },
   {
    "duration": 4,
    "start_time": "2024-01-09T17:46:41.416Z"
   },
   {
    "duration": 11,
    "start_time": "2024-01-09T17:46:41.421Z"
   },
   {
    "duration": 7,
    "start_time": "2024-01-09T17:46:41.433Z"
   },
   {
    "duration": 7,
    "start_time": "2024-01-09T17:46:41.441Z"
   },
   {
    "duration": 2,
    "start_time": "2024-01-09T17:46:41.449Z"
   },
   {
    "duration": 20,
    "start_time": "2024-01-09T17:46:41.452Z"
   },
   {
    "duration": 4,
    "start_time": "2024-01-09T18:02:55.421Z"
   },
   {
    "duration": 88,
    "start_time": "2024-01-09T18:02:55.710Z"
   },
   {
    "duration": 9,
    "start_time": "2024-01-09T18:03:21.103Z"
   },
   {
    "duration": 6,
    "start_time": "2024-01-09T18:03:25.893Z"
   },
   {
    "duration": 2,
    "start_time": "2024-01-09T18:03:32.452Z"
   },
   {
    "duration": 4,
    "start_time": "2024-01-09T18:03:35.086Z"
   },
   {
    "duration": 4,
    "start_time": "2024-01-09T18:03:40.996Z"
   },
   {
    "duration": 7,
    "start_time": "2024-01-09T18:03:41.459Z"
   },
   {
    "duration": 997,
    "start_time": "2024-01-09T18:03:57.145Z"
   },
   {
    "duration": 2,
    "start_time": "2024-01-09T18:03:58.145Z"
   },
   {
    "duration": 164,
    "start_time": "2024-01-09T18:03:58.148Z"
   },
   {
    "duration": 3,
    "start_time": "2024-01-09T18:03:58.313Z"
   },
   {
    "duration": 19,
    "start_time": "2024-01-09T18:03:58.317Z"
   },
   {
    "duration": 123,
    "start_time": "2024-01-09T18:03:58.337Z"
   },
   {
    "duration": 86,
    "start_time": "2024-01-09T18:03:58.461Z"
   },
   {
    "duration": 73,
    "start_time": "2024-01-09T18:03:58.549Z"
   },
   {
    "duration": 4,
    "start_time": "2024-01-09T18:03:58.624Z"
   },
   {
    "duration": 25,
    "start_time": "2024-01-09T18:03:58.630Z"
   },
   {
    "duration": 31,
    "start_time": "2024-01-09T18:03:58.656Z"
   },
   {
    "duration": 16,
    "start_time": "2024-01-09T18:03:58.688Z"
   },
   {
    "duration": 26,
    "start_time": "2024-01-09T18:03:58.705Z"
   },
   {
    "duration": 4,
    "start_time": "2024-01-09T18:03:58.732Z"
   },
   {
    "duration": 21,
    "start_time": "2024-01-09T18:03:58.737Z"
   },
   {
    "duration": 255,
    "start_time": "2024-01-09T18:03:58.759Z"
   },
   {
    "duration": 201,
    "start_time": "2024-01-09T18:03:59.016Z"
   },
   {
    "duration": 8,
    "start_time": "2024-01-09T18:03:59.218Z"
   },
   {
    "duration": 21,
    "start_time": "2024-01-09T18:03:59.227Z"
   },
   {
    "duration": 215,
    "start_time": "2024-01-09T18:03:59.249Z"
   },
   {
    "duration": 5,
    "start_time": "2024-01-09T18:03:59.465Z"
   },
   {
    "duration": 6,
    "start_time": "2024-01-09T18:03:59.471Z"
   },
   {
    "duration": 6,
    "start_time": "2024-01-09T18:03:59.477Z"
   },
   {
    "duration": 30,
    "start_time": "2024-01-09T18:03:59.484Z"
   },
   {
    "duration": 77,
    "start_time": "2024-01-09T18:03:59.515Z"
   },
   {
    "duration": 10,
    "start_time": "2024-01-09T18:03:59.593Z"
   },
   {
    "duration": 7,
    "start_time": "2024-01-09T18:03:59.604Z"
   },
   {
    "duration": 7,
    "start_time": "2024-01-09T18:03:59.613Z"
   },
   {
    "duration": 13,
    "start_time": "2024-01-09T18:03:59.621Z"
   },
   {
    "duration": 41,
    "start_time": "2024-01-09T18:03:59.636Z"
   },
   {
    "duration": 37,
    "start_time": "2024-01-09T18:03:59.678Z"
   },
   {
    "duration": 72,
    "start_time": "2024-01-09T18:03:59.716Z"
   },
   {
    "duration": 5,
    "start_time": "2024-01-09T18:03:59.801Z"
   },
   {
    "duration": 5,
    "start_time": "2024-01-09T18:03:59.808Z"
   },
   {
    "duration": 5,
    "start_time": "2024-01-09T18:03:59.814Z"
   },
   {
    "duration": 7,
    "start_time": "2024-01-09T18:03:59.821Z"
   },
   {
    "duration": 10,
    "start_time": "2024-01-09T18:03:59.829Z"
   },
   {
    "duration": 6,
    "start_time": "2024-01-09T18:03:59.840Z"
   },
   {
    "duration": 5,
    "start_time": "2024-01-09T18:03:59.847Z"
   },
   {
    "duration": 12,
    "start_time": "2024-01-09T18:03:59.853Z"
   },
   {
    "duration": 1030,
    "start_time": "2024-01-09T18:05:31.678Z"
   },
   {
    "duration": 3,
    "start_time": "2024-01-09T18:05:32.710Z"
   },
   {
    "duration": 141,
    "start_time": "2024-01-09T18:05:32.714Z"
   },
   {
    "duration": 2,
    "start_time": "2024-01-09T18:05:32.857Z"
   },
   {
    "duration": 17,
    "start_time": "2024-01-09T18:05:32.860Z"
   },
   {
    "duration": 116,
    "start_time": "2024-01-09T18:05:32.878Z"
   },
   {
    "duration": 84,
    "start_time": "2024-01-09T18:05:33.001Z"
   },
   {
    "duration": 74,
    "start_time": "2024-01-09T18:05:33.086Z"
   },
   {
    "duration": 6,
    "start_time": "2024-01-09T18:05:33.161Z"
   },
   {
    "duration": 33,
    "start_time": "2024-01-09T18:05:33.169Z"
   },
   {
    "duration": 29,
    "start_time": "2024-01-09T18:05:33.203Z"
   },
   {
    "duration": 5,
    "start_time": "2024-01-09T18:05:33.233Z"
   },
   {
    "duration": 25,
    "start_time": "2024-01-09T18:05:33.239Z"
   },
   {
    "duration": 5,
    "start_time": "2024-01-09T18:05:33.265Z"
   },
   {
    "duration": 13,
    "start_time": "2024-01-09T18:05:33.271Z"
   },
   {
    "duration": 257,
    "start_time": "2024-01-09T18:05:33.302Z"
   },
   {
    "duration": 193,
    "start_time": "2024-01-09T18:05:33.561Z"
   },
   {
    "duration": 7,
    "start_time": "2024-01-09T18:05:33.756Z"
   },
   {
    "duration": 19,
    "start_time": "2024-01-09T18:05:33.764Z"
   },
   {
    "duration": 208,
    "start_time": "2024-01-09T18:05:33.784Z"
   },
   {
    "duration": 8,
    "start_time": "2024-01-09T18:05:33.994Z"
   },
   {
    "duration": 3,
    "start_time": "2024-01-09T18:05:34.003Z"
   },
   {
    "duration": 5,
    "start_time": "2024-01-09T18:05:34.007Z"
   },
   {
    "duration": 16,
    "start_time": "2024-01-09T18:05:34.014Z"
   },
   {
    "duration": 98,
    "start_time": "2024-01-09T18:05:34.031Z"
   },
   {
    "duration": 5,
    "start_time": "2024-01-09T18:05:34.130Z"
   },
   {
    "duration": 6,
    "start_time": "2024-01-09T18:05:34.136Z"
   },
   {
    "duration": 3,
    "start_time": "2024-01-09T18:05:34.145Z"
   },
   {
    "duration": 12,
    "start_time": "2024-01-09T18:05:34.149Z"
   },
   {
    "duration": 61,
    "start_time": "2024-01-09T18:05:34.162Z"
   },
   {
    "duration": 17,
    "start_time": "2024-01-09T18:05:34.224Z"
   },
   {
    "duration": 81,
    "start_time": "2024-01-09T18:05:34.243Z"
   },
   {
    "duration": 5,
    "start_time": "2024-01-09T18:05:34.325Z"
   },
   {
    "duration": 5,
    "start_time": "2024-01-09T18:05:34.331Z"
   },
   {
    "duration": 4,
    "start_time": "2024-01-09T18:05:34.337Z"
   },
   {
    "duration": 9,
    "start_time": "2024-01-09T18:05:34.342Z"
   },
   {
    "duration": 6,
    "start_time": "2024-01-09T18:05:34.352Z"
   },
   {
    "duration": 7,
    "start_time": "2024-01-09T18:05:34.359Z"
   },
   {
    "duration": 2,
    "start_time": "2024-01-09T18:05:34.367Z"
   },
   {
    "duration": 37,
    "start_time": "2024-01-09T18:05:34.370Z"
   }
  ],
  "kernelspec": {
   "display_name": "Python 3 (ipykernel)",
   "language": "python",
   "name": "python3"
  },
  "language_info": {
   "codemirror_mode": {
    "name": "ipython",
    "version": 3
   },
   "file_extension": ".py",
   "mimetype": "text/x-python",
   "name": "python",
   "nbconvert_exporter": "python",
   "pygments_lexer": "ipython3",
   "version": "3.9.5"
  },
  "toc": {
   "base_numbering": 1,
   "nav_menu": {},
   "number_sections": true,
   "sideBar": true,
   "skip_h1_title": true,
   "title_cell": "Table of Contents",
   "title_sidebar": "Contents",
   "toc_cell": false,
   "toc_position": {
    "height": "calc(100% - 180px)",
    "left": "10px",
    "top": "150px",
    "width": "371px"
   },
   "toc_section_display": true,
   "toc_window_display": true
  }
 },
 "nbformat": 4,
 "nbformat_minor": 2
}
