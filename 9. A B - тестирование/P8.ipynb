{
 "cells": [
  {
   "cell_type": "markdown",
   "metadata": {},
   "source": [
    "# Проект: Принятие решений в бизнесе"
   ]
  },
  {
   "cell_type": "markdown",
   "metadata": {},
   "source": [
    "**Доброго времени суток! Меня зовут Айнур, тут часто спрашивают про «ты»/«вы», я рад любому формату.**\n",
    "\n",
    "В данном проекте я выстыпаю аналитиком крупного интернет-магазина. \n",
    "\n",
    "**Цель** - увеличить выручку с помощью гипотез.\n",
    "\n",
    "Можно выделить следующие **задачи**:\n",
    "- ознакомление с данными и предобработка;\n",
    "- добавление функций в проект;\n",
    "- приоритизация гипотез\n",
    "- оценка окупаемости рекламы.\n",
    "\n",
    "Сами пункты включают в себя подпункты. В данном проекте представлено три датасета.\n",
    "\n",
    "    **P.S.** под строками кода я буду оставлять свои комментарии и делать небольшие выводы в таком формате: **<font color=\"green\">Комментарий:<font>** "
   ]
  },
  {
   "cell_type": "markdown",
   "metadata": {},
   "source": [
    "## Первая часть проекта"
   ]
  },
  {
   "cell_type": "code",
   "execution_count": 1,
   "metadata": {},
   "outputs": [],
   "source": [
    "import pandas as pd\n",
    "from scipy import stats as st\n",
    "from math import factorial, sqrt\n",
    "import matplotlib.pyplot as plt\n",
    "import seaborn as sns\n",
    "import numpy as np\n",
    "pd.set_option('max_colwidth', 130)\n",
    "import datetime as dt\n",
    "import scipy.stats as stats\n",
    "from datetime import datetime, timedelta\n",
    "#pd.set_option('display.float_format', '{:.2f}'.format)"
   ]
  },
  {
   "cell_type": "markdown",
   "metadata": {},
   "source": [
    "**<font color=\"green\">Комментарий:<font>** Импортирование библиотек."
   ]
  },
  {
   "cell_type": "code",
   "execution_count": 2,
   "metadata": {},
   "outputs": [
    {
     "data": {
      "text/html": [
       "<div>\n",
       "<style scoped>\n",
       "    .dataframe tbody tr th:only-of-type {\n",
       "        vertical-align: middle;\n",
       "    }\n",
       "\n",
       "    .dataframe tbody tr th {\n",
       "        vertical-align: top;\n",
       "    }\n",
       "\n",
       "    .dataframe thead th {\n",
       "        text-align: right;\n",
       "    }\n",
       "</style>\n",
       "<table border=\"1\" class=\"dataframe\">\n",
       "  <thead>\n",
       "    <tr style=\"text-align: right;\">\n",
       "      <th></th>\n",
       "      <th>hypothesis</th>\n",
       "      <th>reach</th>\n",
       "      <th>impact</th>\n",
       "      <th>confidence</th>\n",
       "      <th>efforts</th>\n",
       "    </tr>\n",
       "  </thead>\n",
       "  <tbody>\n",
       "    <tr>\n",
       "      <th>0</th>\n",
       "      <td>Добавить два новых канала привлечения трафика, что позволит привлекать на 30% больше пользователей</td>\n",
       "      <td>3</td>\n",
       "      <td>10</td>\n",
       "      <td>8</td>\n",
       "      <td>6</td>\n",
       "    </tr>\n",
       "    <tr>\n",
       "      <th>1</th>\n",
       "      <td>Запустить собственную службу доставки, что сократит срок доставки заказов</td>\n",
       "      <td>2</td>\n",
       "      <td>5</td>\n",
       "      <td>4</td>\n",
       "      <td>10</td>\n",
       "    </tr>\n",
       "    <tr>\n",
       "      <th>2</th>\n",
       "      <td>Добавить блоки рекомендаций товаров на сайт интернет магазина, чтобы повысить конверсию и средний чек заказа</td>\n",
       "      <td>8</td>\n",
       "      <td>3</td>\n",
       "      <td>7</td>\n",
       "      <td>3</td>\n",
       "    </tr>\n",
       "    <tr>\n",
       "      <th>3</th>\n",
       "      <td>Изменить структура категорий, что увеличит конверсию, т.к. пользователи быстрее найдут нужный товар</td>\n",
       "      <td>8</td>\n",
       "      <td>3</td>\n",
       "      <td>3</td>\n",
       "      <td>8</td>\n",
       "    </tr>\n",
       "    <tr>\n",
       "      <th>4</th>\n",
       "      <td>Изменить цвет фона главной страницы, чтобы увеличить вовлеченность пользователей</td>\n",
       "      <td>3</td>\n",
       "      <td>1</td>\n",
       "      <td>1</td>\n",
       "      <td>1</td>\n",
       "    </tr>\n",
       "    <tr>\n",
       "      <th>5</th>\n",
       "      <td>Добавить страницу отзывов клиентов о магазине, что позволит увеличить количество заказов</td>\n",
       "      <td>3</td>\n",
       "      <td>2</td>\n",
       "      <td>2</td>\n",
       "      <td>3</td>\n",
       "    </tr>\n",
       "    <tr>\n",
       "      <th>6</th>\n",
       "      <td>Показать на главной странице баннеры с актуальными акциями и распродажами, чтобы увеличить конверсию</td>\n",
       "      <td>5</td>\n",
       "      <td>3</td>\n",
       "      <td>8</td>\n",
       "      <td>3</td>\n",
       "    </tr>\n",
       "    <tr>\n",
       "      <th>7</th>\n",
       "      <td>Добавить форму подписки на все основные страницы, чтобы собрать базу клиентов для email-рассылок</td>\n",
       "      <td>10</td>\n",
       "      <td>7</td>\n",
       "      <td>8</td>\n",
       "      <td>5</td>\n",
       "    </tr>\n",
       "    <tr>\n",
       "      <th>8</th>\n",
       "      <td>Запустить акцию, дающую скидку на товар в день рождения</td>\n",
       "      <td>1</td>\n",
       "      <td>9</td>\n",
       "      <td>9</td>\n",
       "      <td>5</td>\n",
       "    </tr>\n",
       "  </tbody>\n",
       "</table>\n",
       "</div>"
      ],
      "text/plain": [
       "                                                                                                     hypothesis  \\\n",
       "0            Добавить два новых канала привлечения трафика, что позволит привлекать на 30% больше пользователей   \n",
       "1                                     Запустить собственную службу доставки, что сократит срок доставки заказов   \n",
       "2  Добавить блоки рекомендаций товаров на сайт интернет магазина, чтобы повысить конверсию и средний чек заказа   \n",
       "3           Изменить структура категорий, что увеличит конверсию, т.к. пользователи быстрее найдут нужный товар   \n",
       "4                              Изменить цвет фона главной страницы, чтобы увеличить вовлеченность пользователей   \n",
       "5                      Добавить страницу отзывов клиентов о магазине, что позволит увеличить количество заказов   \n",
       "6          Показать на главной странице баннеры с актуальными акциями и распродажами, чтобы увеличить конверсию   \n",
       "7              Добавить форму подписки на все основные страницы, чтобы собрать базу клиентов для email-рассылок   \n",
       "8                                                       Запустить акцию, дающую скидку на товар в день рождения   \n",
       "\n",
       "   reach  impact  confidence  efforts  \n",
       "0      3      10           8        6  \n",
       "1      2       5           4       10  \n",
       "2      8       3           7        3  \n",
       "3      8       3           3        8  \n",
       "4      3       1           1        1  \n",
       "5      3       2           2        3  \n",
       "6      5       3           8        3  \n",
       "7     10       7           8        5  \n",
       "8      1       9           9        5  "
      ]
     },
     "execution_count": 2,
     "metadata": {},
     "output_type": "execute_result"
    }
   ],
   "source": [
    "hypo = pd.read_csv('/datasets/hypothesis.csv')\n",
    "hypo.columns = hypo.columns.str.lower()\n",
    "hypo"
   ]
  },
  {
   "cell_type": "markdown",
   "metadata": {},
   "source": [
    "**<font color=\"green\">Комментарий:<font>** Прочтение первого файла и ознакомление с гипотезами. Всего представлено 9 гипотез."
   ]
  },
  {
   "cell_type": "markdown",
   "metadata": {},
   "source": [
    "**<font color=\"green\">Комментарий:<font>** С помощью метода ICE найдем и отсортируем наиболее важные гипотезы"
   ]
  },
  {
   "cell_type": "code",
   "execution_count": 3,
   "metadata": {},
   "outputs": [
    {
     "data": {
      "text/html": [
       "<div>\n",
       "<style scoped>\n",
       "    .dataframe tbody tr th:only-of-type {\n",
       "        vertical-align: middle;\n",
       "    }\n",
       "\n",
       "    .dataframe tbody tr th {\n",
       "        vertical-align: top;\n",
       "    }\n",
       "\n",
       "    .dataframe thead th {\n",
       "        text-align: right;\n",
       "    }\n",
       "</style>\n",
       "<table border=\"1\" class=\"dataframe\">\n",
       "  <thead>\n",
       "    <tr style=\"text-align: right;\">\n",
       "      <th></th>\n",
       "      <th>hypothesis</th>\n",
       "      <th>ICE</th>\n",
       "    </tr>\n",
       "  </thead>\n",
       "  <tbody>\n",
       "    <tr>\n",
       "      <th>8</th>\n",
       "      <td>Запустить акцию, дающую скидку на товар в день рождения</td>\n",
       "      <td>16.20</td>\n",
       "    </tr>\n",
       "    <tr>\n",
       "      <th>0</th>\n",
       "      <td>Добавить два новых канала привлечения трафика, что позволит привлекать на 30% больше пользователей</td>\n",
       "      <td>13.33</td>\n",
       "    </tr>\n",
       "    <tr>\n",
       "      <th>7</th>\n",
       "      <td>Добавить форму подписки на все основные страницы, чтобы собрать базу клиентов для email-рассылок</td>\n",
       "      <td>11.20</td>\n",
       "    </tr>\n",
       "    <tr>\n",
       "      <th>6</th>\n",
       "      <td>Показать на главной странице баннеры с актуальными акциями и распродажами, чтобы увеличить конверсию</td>\n",
       "      <td>8.00</td>\n",
       "    </tr>\n",
       "    <tr>\n",
       "      <th>2</th>\n",
       "      <td>Добавить блоки рекомендаций товаров на сайт интернет магазина, чтобы повысить конверсию и средний чек заказа</td>\n",
       "      <td>7.00</td>\n",
       "    </tr>\n",
       "    <tr>\n",
       "      <th>1</th>\n",
       "      <td>Запустить собственную службу доставки, что сократит срок доставки заказов</td>\n",
       "      <td>2.00</td>\n",
       "    </tr>\n",
       "    <tr>\n",
       "      <th>5</th>\n",
       "      <td>Добавить страницу отзывов клиентов о магазине, что позволит увеличить количество заказов</td>\n",
       "      <td>1.33</td>\n",
       "    </tr>\n",
       "    <tr>\n",
       "      <th>3</th>\n",
       "      <td>Изменить структура категорий, что увеличит конверсию, т.к. пользователи быстрее найдут нужный товар</td>\n",
       "      <td>1.12</td>\n",
       "    </tr>\n",
       "    <tr>\n",
       "      <th>4</th>\n",
       "      <td>Изменить цвет фона главной страницы, чтобы увеличить вовлеченность пользователей</td>\n",
       "      <td>1.00</td>\n",
       "    </tr>\n",
       "  </tbody>\n",
       "</table>\n",
       "</div>"
      ],
      "text/plain": [
       "                                                                                                     hypothesis  \\\n",
       "8                                                       Запустить акцию, дающую скидку на товар в день рождения   \n",
       "0            Добавить два новых канала привлечения трафика, что позволит привлекать на 30% больше пользователей   \n",
       "7              Добавить форму подписки на все основные страницы, чтобы собрать базу клиентов для email-рассылок   \n",
       "6          Показать на главной странице баннеры с актуальными акциями и распродажами, чтобы увеличить конверсию   \n",
       "2  Добавить блоки рекомендаций товаров на сайт интернет магазина, чтобы повысить конверсию и средний чек заказа   \n",
       "1                                     Запустить собственную службу доставки, что сократит срок доставки заказов   \n",
       "5                      Добавить страницу отзывов клиентов о магазине, что позволит увеличить количество заказов   \n",
       "3           Изменить структура категорий, что увеличит конверсию, т.к. пользователи быстрее найдут нужный товар   \n",
       "4                              Изменить цвет фона главной страницы, чтобы увеличить вовлеченность пользователей   \n",
       "\n",
       "     ICE  \n",
       "8  16.20  \n",
       "0  13.33  \n",
       "7  11.20  \n",
       "6   8.00  \n",
       "2   7.00  \n",
       "1   2.00  \n",
       "5   1.33  \n",
       "3   1.12  \n",
       "4   1.00  "
      ]
     },
     "metadata": {},
     "output_type": "display_data"
    }
   ],
   "source": [
    "hypo['ICE'] = round(hypo['impact'] * hypo['confidence'] / hypo['efforts'], 2)\n",
    "display(hypo[['hypothesis', 'ICE']].sort_values(by='ICE', ascending=False))"
   ]
  },
  {
   "cell_type": "markdown",
   "metadata": {},
   "source": [
    "**<font color=\"green\">Комментарий:<font>** Можно сделать вывод, что 9, 1 и 8 гипотеза являются наиболее значимыми гипотезами для проверки. 4, 2 и 3 наименее значимыми.\n",
    "    \n",
    "Рассмотрим приоритизацию тех же гипотез с помощью способа RICE."
   ]
  },
  {
   "cell_type": "code",
   "execution_count": 4,
   "metadata": {},
   "outputs": [
    {
     "data": {
      "text/html": [
       "<div>\n",
       "<style scoped>\n",
       "    .dataframe tbody tr th:only-of-type {\n",
       "        vertical-align: middle;\n",
       "    }\n",
       "\n",
       "    .dataframe tbody tr th {\n",
       "        vertical-align: top;\n",
       "    }\n",
       "\n",
       "    .dataframe thead th {\n",
       "        text-align: right;\n",
       "    }\n",
       "</style>\n",
       "<table border=\"1\" class=\"dataframe\">\n",
       "  <thead>\n",
       "    <tr style=\"text-align: right;\">\n",
       "      <th></th>\n",
       "      <th>hypothesis</th>\n",
       "      <th>RICE</th>\n",
       "    </tr>\n",
       "  </thead>\n",
       "  <tbody>\n",
       "    <tr>\n",
       "      <th>7</th>\n",
       "      <td>Добавить форму подписки на все основные страницы, чтобы собрать базу клиентов для email-рассылок</td>\n",
       "      <td>112.0</td>\n",
       "    </tr>\n",
       "    <tr>\n",
       "      <th>2</th>\n",
       "      <td>Добавить блоки рекомендаций товаров на сайт интернет магазина, чтобы повысить конверсию и средний чек заказа</td>\n",
       "      <td>56.0</td>\n",
       "    </tr>\n",
       "    <tr>\n",
       "      <th>0</th>\n",
       "      <td>Добавить два новых канала привлечения трафика, что позволит привлекать на 30% больше пользователей</td>\n",
       "      <td>40.0</td>\n",
       "    </tr>\n",
       "    <tr>\n",
       "      <th>6</th>\n",
       "      <td>Показать на главной странице баннеры с актуальными акциями и распродажами, чтобы увеличить конверсию</td>\n",
       "      <td>40.0</td>\n",
       "    </tr>\n",
       "    <tr>\n",
       "      <th>8</th>\n",
       "      <td>Запустить акцию, дающую скидку на товар в день рождения</td>\n",
       "      <td>16.2</td>\n",
       "    </tr>\n",
       "    <tr>\n",
       "      <th>3</th>\n",
       "      <td>Изменить структура категорий, что увеличит конверсию, т.к. пользователи быстрее найдут нужный товар</td>\n",
       "      <td>9.0</td>\n",
       "    </tr>\n",
       "    <tr>\n",
       "      <th>1</th>\n",
       "      <td>Запустить собственную службу доставки, что сократит срок доставки заказов</td>\n",
       "      <td>4.0</td>\n",
       "    </tr>\n",
       "    <tr>\n",
       "      <th>5</th>\n",
       "      <td>Добавить страницу отзывов клиентов о магазине, что позволит увеличить количество заказов</td>\n",
       "      <td>4.0</td>\n",
       "    </tr>\n",
       "    <tr>\n",
       "      <th>4</th>\n",
       "      <td>Изменить цвет фона главной страницы, чтобы увеличить вовлеченность пользователей</td>\n",
       "      <td>3.0</td>\n",
       "    </tr>\n",
       "  </tbody>\n",
       "</table>\n",
       "</div>"
      ],
      "text/plain": [
       "                                                                                                     hypothesis  \\\n",
       "7              Добавить форму подписки на все основные страницы, чтобы собрать базу клиентов для email-рассылок   \n",
       "2  Добавить блоки рекомендаций товаров на сайт интернет магазина, чтобы повысить конверсию и средний чек заказа   \n",
       "0            Добавить два новых канала привлечения трафика, что позволит привлекать на 30% больше пользователей   \n",
       "6          Показать на главной странице баннеры с актуальными акциями и распродажами, чтобы увеличить конверсию   \n",
       "8                                                       Запустить акцию, дающую скидку на товар в день рождения   \n",
       "3           Изменить структура категорий, что увеличит конверсию, т.к. пользователи быстрее найдут нужный товар   \n",
       "1                                     Запустить собственную службу доставки, что сократит срок доставки заказов   \n",
       "5                      Добавить страницу отзывов клиентов о магазине, что позволит увеличить количество заказов   \n",
       "4                              Изменить цвет фона главной страницы, чтобы увеличить вовлеченность пользователей   \n",
       "\n",
       "    RICE  \n",
       "7  112.0  \n",
       "2   56.0  \n",
       "0   40.0  \n",
       "6   40.0  \n",
       "8   16.2  \n",
       "3    9.0  \n",
       "1    4.0  \n",
       "5    4.0  \n",
       "4    3.0  "
      ]
     },
     "metadata": {},
     "output_type": "display_data"
    }
   ],
   "source": [
    "hypo['RICE'] = hypo['reach'] * hypo['impact'] * hypo['confidence'] / hypo['efforts']\n",
    "display(hypo[['hypothesis', 'RICE']].sort_values(by='RICE', ascending=False))"
   ]
  },
  {
   "cell_type": "markdown",
   "metadata": {},
   "source": [
    "**<font color=\"green\">Комментарий:<font>** Восьмая и первая гипотеза также остаются в тройке лидеров. А вот 9 гипотеза упала на 5 строчку по приоритету. В целом не произошло сильного изменения по приоритизации. Каждая гипотеза изменилась относительно себя на 1-2 пункта от способа ICE. \n",
    "    \n",
    "Основная **причина отличия** двух фреймворков - сложность и более детальная процедура оценивания у **RICE**.  Когда у нас больше данных о гипотезах и хотим использовать более объективные критерии."
   ]
  },
  {
   "cell_type": "markdown",
   "metadata": {},
   "source": [
    "**<font color=\"green\">Комментарий:<font>** Гипотезы - \"Добавить форму подписки на все основные страницы\", \"Добавить блоки рекомендаций товаров на сайт интернет магазина\" и \"Добавить два новых канала привлечения трафика\" можно выделить как наиболее приоритетные для исследования."
   ]
  },
  {
   "cell_type": "markdown",
   "metadata": {},
   "source": [
    "## Вторая часть проекта"
   ]
  },
  {
   "cell_type": "markdown",
   "metadata": {},
   "source": [
    "### Загрузка и предобработка данных"
   ]
  },
  {
   "cell_type": "code",
   "execution_count": 5,
   "metadata": {},
   "outputs": [
    {
     "data": {
      "text/html": [
       "<div>\n",
       "<style scoped>\n",
       "    .dataframe tbody tr th:only-of-type {\n",
       "        vertical-align: middle;\n",
       "    }\n",
       "\n",
       "    .dataframe tbody tr th {\n",
       "        vertical-align: top;\n",
       "    }\n",
       "\n",
       "    .dataframe thead th {\n",
       "        text-align: right;\n",
       "    }\n",
       "</style>\n",
       "<table border=\"1\" class=\"dataframe\">\n",
       "  <thead>\n",
       "    <tr style=\"text-align: right;\">\n",
       "      <th></th>\n",
       "      <th>transactionId</th>\n",
       "      <th>visitorId</th>\n",
       "      <th>date</th>\n",
       "      <th>revenue</th>\n",
       "      <th>group</th>\n",
       "    </tr>\n",
       "  </thead>\n",
       "  <tbody>\n",
       "    <tr>\n",
       "      <th>0</th>\n",
       "      <td>3667963787</td>\n",
       "      <td>3312258926</td>\n",
       "      <td>2019-08-15</td>\n",
       "      <td>1650</td>\n",
       "      <td>B</td>\n",
       "    </tr>\n",
       "    <tr>\n",
       "      <th>1</th>\n",
       "      <td>2804400009</td>\n",
       "      <td>3642806036</td>\n",
       "      <td>2019-08-15</td>\n",
       "      <td>730</td>\n",
       "      <td>B</td>\n",
       "    </tr>\n",
       "    <tr>\n",
       "      <th>2</th>\n",
       "      <td>2961555356</td>\n",
       "      <td>4069496402</td>\n",
       "      <td>2019-08-15</td>\n",
       "      <td>400</td>\n",
       "      <td>A</td>\n",
       "    </tr>\n",
       "    <tr>\n",
       "      <th>3</th>\n",
       "      <td>3797467345</td>\n",
       "      <td>1196621759</td>\n",
       "      <td>2019-08-15</td>\n",
       "      <td>9759</td>\n",
       "      <td>B</td>\n",
       "    </tr>\n",
       "    <tr>\n",
       "      <th>4</th>\n",
       "      <td>2282983706</td>\n",
       "      <td>2322279887</td>\n",
       "      <td>2019-08-15</td>\n",
       "      <td>2308</td>\n",
       "      <td>B</td>\n",
       "    </tr>\n",
       "    <tr>\n",
       "      <th>...</th>\n",
       "      <td>...</td>\n",
       "      <td>...</td>\n",
       "      <td>...</td>\n",
       "      <td>...</td>\n",
       "      <td>...</td>\n",
       "    </tr>\n",
       "    <tr>\n",
       "      <th>1192</th>\n",
       "      <td>2662137336</td>\n",
       "      <td>3733762160</td>\n",
       "      <td>2019-08-14</td>\n",
       "      <td>6490</td>\n",
       "      <td>B</td>\n",
       "    </tr>\n",
       "    <tr>\n",
       "      <th>1193</th>\n",
       "      <td>2203539145</td>\n",
       "      <td>370388673</td>\n",
       "      <td>2019-08-14</td>\n",
       "      <td>3190</td>\n",
       "      <td>A</td>\n",
       "    </tr>\n",
       "    <tr>\n",
       "      <th>1194</th>\n",
       "      <td>1807773912</td>\n",
       "      <td>573423106</td>\n",
       "      <td>2019-08-14</td>\n",
       "      <td>10550</td>\n",
       "      <td>A</td>\n",
       "    </tr>\n",
       "    <tr>\n",
       "      <th>1195</th>\n",
       "      <td>1947021204</td>\n",
       "      <td>1614305549</td>\n",
       "      <td>2019-08-14</td>\n",
       "      <td>100</td>\n",
       "      <td>A</td>\n",
       "    </tr>\n",
       "    <tr>\n",
       "      <th>1196</th>\n",
       "      <td>3936777065</td>\n",
       "      <td>2108080724</td>\n",
       "      <td>2019-08-15</td>\n",
       "      <td>202740</td>\n",
       "      <td>B</td>\n",
       "    </tr>\n",
       "  </tbody>\n",
       "</table>\n",
       "<p>1197 rows × 5 columns</p>\n",
       "</div>"
      ],
      "text/plain": [
       "      transactionId   visitorId        date  revenue group\n",
       "0        3667963787  3312258926  2019-08-15     1650     B\n",
       "1        2804400009  3642806036  2019-08-15      730     B\n",
       "2        2961555356  4069496402  2019-08-15      400     A\n",
       "3        3797467345  1196621759  2019-08-15     9759     B\n",
       "4        2282983706  2322279887  2019-08-15     2308     B\n",
       "...             ...         ...         ...      ...   ...\n",
       "1192     2662137336  3733762160  2019-08-14     6490     B\n",
       "1193     2203539145   370388673  2019-08-14     3190     A\n",
       "1194     1807773912   573423106  2019-08-14    10550     A\n",
       "1195     1947021204  1614305549  2019-08-14      100     A\n",
       "1196     3936777065  2108080724  2019-08-15   202740     B\n",
       "\n",
       "[1197 rows x 5 columns]"
      ]
     },
     "metadata": {},
     "output_type": "display_data"
    },
    {
     "data": {
      "text/html": [
       "<div>\n",
       "<style scoped>\n",
       "    .dataframe tbody tr th:only-of-type {\n",
       "        vertical-align: middle;\n",
       "    }\n",
       "\n",
       "    .dataframe tbody tr th {\n",
       "        vertical-align: top;\n",
       "    }\n",
       "\n",
       "    .dataframe thead th {\n",
       "        text-align: right;\n",
       "    }\n",
       "</style>\n",
       "<table border=\"1\" class=\"dataframe\">\n",
       "  <thead>\n",
       "    <tr style=\"text-align: right;\">\n",
       "      <th></th>\n",
       "      <th>date</th>\n",
       "      <th>group</th>\n",
       "      <th>visitors</th>\n",
       "    </tr>\n",
       "  </thead>\n",
       "  <tbody>\n",
       "    <tr>\n",
       "      <th>0</th>\n",
       "      <td>2019-08-01</td>\n",
       "      <td>A</td>\n",
       "      <td>719</td>\n",
       "    </tr>\n",
       "    <tr>\n",
       "      <th>1</th>\n",
       "      <td>2019-08-02</td>\n",
       "      <td>A</td>\n",
       "      <td>619</td>\n",
       "    </tr>\n",
       "    <tr>\n",
       "      <th>2</th>\n",
       "      <td>2019-08-03</td>\n",
       "      <td>A</td>\n",
       "      <td>507</td>\n",
       "    </tr>\n",
       "    <tr>\n",
       "      <th>3</th>\n",
       "      <td>2019-08-04</td>\n",
       "      <td>A</td>\n",
       "      <td>717</td>\n",
       "    </tr>\n",
       "    <tr>\n",
       "      <th>4</th>\n",
       "      <td>2019-08-05</td>\n",
       "      <td>A</td>\n",
       "      <td>756</td>\n",
       "    </tr>\n",
       "    <tr>\n",
       "      <th>...</th>\n",
       "      <td>...</td>\n",
       "      <td>...</td>\n",
       "      <td>...</td>\n",
       "    </tr>\n",
       "    <tr>\n",
       "      <th>57</th>\n",
       "      <td>2019-08-27</td>\n",
       "      <td>B</td>\n",
       "      <td>720</td>\n",
       "    </tr>\n",
       "    <tr>\n",
       "      <th>58</th>\n",
       "      <td>2019-08-28</td>\n",
       "      <td>B</td>\n",
       "      <td>654</td>\n",
       "    </tr>\n",
       "    <tr>\n",
       "      <th>59</th>\n",
       "      <td>2019-08-29</td>\n",
       "      <td>B</td>\n",
       "      <td>531</td>\n",
       "    </tr>\n",
       "    <tr>\n",
       "      <th>60</th>\n",
       "      <td>2019-08-30</td>\n",
       "      <td>B</td>\n",
       "      <td>490</td>\n",
       "    </tr>\n",
       "    <tr>\n",
       "      <th>61</th>\n",
       "      <td>2019-08-31</td>\n",
       "      <td>B</td>\n",
       "      <td>718</td>\n",
       "    </tr>\n",
       "  </tbody>\n",
       "</table>\n",
       "<p>62 rows × 3 columns</p>\n",
       "</div>"
      ],
      "text/plain": [
       "          date group  visitors\n",
       "0   2019-08-01     A       719\n",
       "1   2019-08-02     A       619\n",
       "2   2019-08-03     A       507\n",
       "3   2019-08-04     A       717\n",
       "4   2019-08-05     A       756\n",
       "..         ...   ...       ...\n",
       "57  2019-08-27     B       720\n",
       "58  2019-08-28     B       654\n",
       "59  2019-08-29     B       531\n",
       "60  2019-08-30     B       490\n",
       "61  2019-08-31     B       718\n",
       "\n",
       "[62 rows x 3 columns]"
      ]
     },
     "metadata": {},
     "output_type": "display_data"
    }
   ],
   "source": [
    "orders = pd.read_csv('/datasets/orders.csv', sep=',')\n",
    "visitors = pd.read_csv('/datasets/visitors.csv', sep=',')\n",
    "display(orders)\n",
    "display(visitors)"
   ]
  },
  {
   "cell_type": "markdown",
   "metadata": {},
   "source": [
    "**<font color=\"green\">Комментарий:<font>** Прочтение двух остальных файлов и первое визуальное ознакомление.\n",
    "    \n",
    "Рассмотрим каждый датасет поподробнее."
   ]
  },
  {
   "cell_type": "code",
   "execution_count": 6,
   "metadata": {},
   "outputs": [
    {
     "name": "stdout",
     "output_type": "stream",
     "text": [
      "<class 'pandas.core.frame.DataFrame'>\n",
      "RangeIndex: 1197 entries, 0 to 1196\n",
      "Data columns (total 5 columns):\n",
      " #   Column         Non-Null Count  Dtype \n",
      "---  ------         --------------  ----- \n",
      " 0   transactionId  1197 non-null   int64 \n",
      " 1   visitorId      1197 non-null   int64 \n",
      " 2   date           1197 non-null   object\n",
      " 3   revenue        1197 non-null   int64 \n",
      " 4   group          1197 non-null   object\n",
      "dtypes: int64(3), object(2)\n",
      "memory usage: 46.9+ KB\n",
      "\n",
      "0\n"
     ]
    }
   ],
   "source": [
    "orders.info()\n",
    "print()\n",
    "print(orders.duplicated().sum())"
   ]
  },
  {
   "cell_type": "markdown",
   "metadata": {},
   "source": [
    "**<font color=\"green\">Комментарий:<font>** Пропуски и явные дубликаты в датафрейме orders отсутствуют. Столбец с датами в формате object."
   ]
  },
  {
   "cell_type": "code",
   "execution_count": 7,
   "metadata": {},
   "outputs": [
    {
     "data": {
      "text/plain": [
       "4256040402    11\n",
       "2458001652    11\n",
       "2378935119     9\n",
       "2038680547     8\n",
       "199603092      5\n",
       "              ..\n",
       "2406916810     1\n",
       "1255412427     1\n",
       "3866069709     1\n",
       "54447517       1\n",
       "3013339133     1\n",
       "Name: visitorId, Length: 1031, dtype: int64"
      ]
     },
     "execution_count": 7,
     "metadata": {},
     "output_type": "execute_result"
    }
   ],
   "source": [
    "orders['visitorId'].value_counts()"
   ]
  },
  {
   "cell_type": "code",
   "execution_count": 8,
   "metadata": {},
   "outputs": [],
   "source": [
    "wsx = np.intersect1d(orders.query('group == \"A\"')['visitorId'].unique(), orders.query('group == \"B\"')['visitorId'].unique())"
   ]
  },
  {
   "cell_type": "code",
   "execution_count": 9,
   "metadata": {},
   "outputs": [],
   "source": [
    "orders = orders.query('visitorId not in @wsx')"
   ]
  },
  {
   "cell_type": "markdown",
   "metadata": {},
   "source": [
    "**<font color=\"green\">Комментарий:<font>** В датасете присутствуют пользователи, которые находятся в обеих группах."
   ]
  },
  {
   "cell_type": "markdown",
   "metadata": {},
   "source": [
    "**<font color=\"green\">Комментарий:<font>** Как лучше поступить? Стоит ли удалить их из всего датасета или продолжить работу, зная, что группы неравны? Насколько это критично?"
   ]
  },
  {
   "cell_type": "markdown",
   "metadata": {},
   "source": [
    "<div class=\"alert alert-info\"> <b>Комментарий №2:</b> Удалим пользователей, которые попали в обе группы."
   ]
  },
  {
   "cell_type": "code",
   "execution_count": 10,
   "metadata": {},
   "outputs": [
    {
     "name": "stdout",
     "output_type": "stream",
     "text": [
      "Минимальная исследуемая дата: 2019-08-01\n",
      "\n",
      "Максимальная исследуемая дата: 2019-08-31\n"
     ]
    }
   ],
   "source": [
    "print('Минимальная исследуемая дата:', orders['date'].min())\n",
    "print()\n",
    "print('Максимальная исследуемая дата:', orders['date'].max())"
   ]
  },
  {
   "cell_type": "markdown",
   "metadata": {},
   "source": [
    "**<font color=\"green\">Комментарий:<font>** Диапозон исследования - **август 2019 года.**"
   ]
  },
  {
   "cell_type": "code",
   "execution_count": 11,
   "metadata": {},
   "outputs": [
    {
     "data": {
      "text/plain": [
       "count    1.016000e+03\n",
       "mean     8.300815e+03\n",
       "std      4.212199e+04\n",
       "min      5.000000e+01\n",
       "25%      1.190000e+03\n",
       "50%      2.955000e+03\n",
       "75%      8.134250e+03\n",
       "max      1.294500e+06\n",
       "Name: revenue, dtype: float64"
      ]
     },
     "execution_count": 11,
     "metadata": {},
     "output_type": "execute_result"
    }
   ],
   "source": [
    "orders['revenue'].describe()"
   ]
  },
  {
   "cell_type": "markdown",
   "metadata": {},
   "source": [
    "**<font color=\"green\">Комментарий:<font>**. Разница в медиане и среднем, а также большое значение максимального значения показывает наличие аномальных значений в столбце `revenue`"
   ]
  },
  {
   "cell_type": "code",
   "execution_count": 12,
   "metadata": {},
   "outputs": [
    {
     "name": "stdout",
     "output_type": "stream",
     "text": [
      "<class 'pandas.core.frame.DataFrame'>\n",
      "RangeIndex: 62 entries, 0 to 61\n",
      "Data columns (total 3 columns):\n",
      " #   Column    Non-Null Count  Dtype \n",
      "---  ------    --------------  ----- \n",
      " 0   date      62 non-null     object\n",
      " 1   group     62 non-null     object\n",
      " 2   visitors  62 non-null     int64 \n",
      "dtypes: int64(1), object(2)\n",
      "memory usage: 1.6+ KB\n"
     ]
    }
   ],
   "source": [
    "visitors.info()"
   ]
  },
  {
   "cell_type": "code",
   "execution_count": 13,
   "metadata": {},
   "outputs": [
    {
     "name": "stdout",
     "output_type": "stream",
     "text": [
      "Минимальная исследуемая дата: 2019-08-01\n",
      "\n",
      "Максимальная исследуемая дата: 2019-08-31\n"
     ]
    }
   ],
   "source": [
    "print('Минимальная исследуемая дата:', visitors['date'].min())\n",
    "print()\n",
    "print('Максимальная исследуемая дата:', visitors['date'].max())"
   ]
  },
  {
   "cell_type": "code",
   "execution_count": 14,
   "metadata": {},
   "outputs": [
    {
     "data": {
      "text/plain": [
       "count     62.000000\n",
       "mean     607.290323\n",
       "std      114.400560\n",
       "min      361.000000\n",
       "25%      534.000000\n",
       "50%      624.500000\n",
       "75%      710.500000\n",
       "max      770.000000\n",
       "Name: visitors, dtype: float64"
      ]
     },
     "execution_count": 14,
     "metadata": {},
     "output_type": "execute_result"
    }
   ],
   "source": [
    "visitors['visitors'].describe()"
   ]
  },
  {
   "cell_type": "markdown",
   "metadata": {},
   "source": [
    "**<font color=\"green\">Комментарий:<font>** Пропуски в датафрейме **visitors** отсутсвуют. Даты совпадают, аномальные значения в количестве посетителей не обнаружены."
   ]
  },
  {
   "cell_type": "markdown",
   "metadata": {},
   "source": [
    "### График кумулятивной выручки по группам."
   ]
  },
  {
   "cell_type": "markdown",
   "metadata": {},
   "source": [
    "**<font color=\"green\">Комментарий:<font>** Создадим датафрейм с кумулятивной выручкой по дням и группам A/B-тестирования: "
   ]
  },
  {
   "cell_type": "code",
   "execution_count": 15,
   "metadata": {},
   "outputs": [
    {
     "name": "stdout",
     "output_type": "stream",
     "text": [
      "        date group  orders  buyers  revenue  visitors\n",
      "0 2019-08-01     A      23      19   142779       719\n",
      "1 2019-08-01     B      17      17    59758       713\n",
      "2 2019-08-02     A      42      36   234381      1338\n",
      "3 2019-08-02     B      40      39   221801      1294\n",
      "4 2019-08-03     A      66      60   346854      1845\n"
     ]
    }
   ],
   "source": [
    "orders['date'] = orders['date'].map(\n",
    "    lambda x: dt.datetime.strptime(x, '%Y-%m-%d')\n",
    ")\n",
    "orders.columns = ['orderId', 'userId', 'date', 'revenue', 'group']\n",
    "\n",
    "visitors['date'] = visitors['date'].map(\n",
    "    lambda x: dt.datetime.strptime(x, '%Y-%m-%d')\n",
    ")\n",
    "\n",
    "datesGroups = orders[['date','group']].drop_duplicates() \n",
    "\n",
    "ordersAggregated = datesGroups.apply(lambda x: orders[np.logical_and(orders['date'] <= x['date'],\\\n",
    "orders['group'] == x['group'])].agg({'date' : 'max', 'group' : 'max', 'orderId' : 'nunique', 'userId'\\\n",
    ": 'nunique', 'revenue' : 'sum'}), axis=1).sort_values(by=['date','group'])\n",
    "\n",
    "visitorsAggregated = datesGroups.apply(lambda x: visitors[np.logical_and(visitors['date'] <= x['date'],\\\n",
    "visitors['group'] == x['group'])].agg({'date' : 'max', 'group' : 'max', 'visitors' : 'sum'}), axis=1)\\\n",
    ".sort_values(by=['date','group'])\n",
    "\n",
    "cumulativeData = ordersAggregated.merge(visitorsAggregated, left_on=['date', 'group'], right_on=['date', 'group'])\n",
    "cumulativeData.columns = ['date', 'group', 'orders', 'buyers', 'revenue', 'visitors']\n",
    "\n",
    "print(cumulativeData.head(5))"
   ]
  },
  {
   "cell_type": "code",
   "execution_count": 16,
   "metadata": {},
   "outputs": [
    {
     "name": "stdout",
     "output_type": "stream",
     "text": [
      "Минимальная исследуемая дата: 2019-08-01 00:00:00\n",
      "\n",
      "Максимальная исследуемая дата: 2019-08-31 00:00:00\n"
     ]
    }
   ],
   "source": [
    "print('Минимальная исследуемая дата:', cumulativeData['date'].min())\n",
    "print()\n",
    "print('Максимальная исследуемая дата:', cumulativeData['date'].max())"
   ]
  },
  {
   "cell_type": "markdown",
   "metadata": {},
   "source": [
    "<div class=\"alert alert-info\"> <b>Комментарий №2:</b> Даты в новом датафрейме совпадают с исходным."
   ]
  },
  {
   "cell_type": "markdown",
   "metadata": {},
   "source": [
    "**<font color=\"green\">Комментарий:<font>** Построим график:"
   ]
  },
  {
   "cell_type": "code",
   "execution_count": 17,
   "metadata": {},
   "outputs": [
    {
     "data": {
      "image/png": "[encoded data removed]",
      "text/plain": [
       "<Figure size 1080x720 with 1 Axes>"
      ]
     },
     "metadata": {
      "needs_background": "light"
     },
     "output_type": "display_data"
    }
   ],
   "source": [
    "plt.figure(figsize=(15, 10))\n",
    "plt.xlabel('Дата исследования')\n",
    "plt.grid()\n",
    "plt.ylabel('Число заказов')\n",
    "plt.title('График кумулятивной выручки по группам')\n",
    "\n",
    "# датафрейм с кумулятивным количеством заказов и кумулятивной выручкой по дням в группе А\n",
    "cumulativeRevenueA = cumulativeData[cumulativeData['group']=='A'][['date','revenue', 'orders']]\n",
    "\n",
    "# датафрейм с кумулятивным количеством заказов и кумулятивной выручкой по дням в группе B\n",
    "cumulativeRevenueB = cumulativeData[cumulativeData['group']=='B'][['date','revenue', 'orders']]\n",
    "\n",
    "# Строим график выручки группы А\n",
    "plt.plot(cumulativeRevenueA['date'], cumulativeRevenueA['revenue'], label='A')\n",
    "\n",
    "# Строим график выручки группы B\n",
    "plt.plot(cumulativeRevenueB['date'], cumulativeRevenueB['revenue'], label='B')\n",
    "\n",
    "plt.legend();"
   ]
  },
  {
   "cell_type": "markdown",
   "metadata": {},
   "source": [
    "**<font color=\"green\">Комментарий:<font>** Начиная с 13 июля группа 'B' показывает результаты лучше, чем группа 'А', в промежутке 2019-08-18 по 2019-08-20 происходит резкий скачок в группе 'B', что может сигнализировать о аномальных заказах. Также отметим, что выручка увеличивается на протяжении всего теста"
   ]
  },
  {
   "cell_type": "markdown",
   "metadata": {},
   "source": [
    "<div class=\"alert alert-info\"> <b>Комментарий №2:</b> Основная причина аномальных значений - пользователи, которые совершили бОльшое количество заказов и/или потратили на заказы намного больше. Такие значения выделяются на графиках или различных статистиках. В дальнейшем нужно найти крайние значения и продолжить аналитику без них, чтобы получить результаты, которые помогут бизнесу."
   ]
  },
  {
   "cell_type": "markdown",
   "metadata": {},
   "source": [
    "### График кумулятивного среднего чека по группам"
   ]
  },
  {
   "cell_type": "code",
   "execution_count": 18,
   "metadata": {},
   "outputs": [
    {
     "data": {
      "image/png": "[encoded data removed]",
      "text/plain": [
       "<Figure size 1080x720 with 1 Axes>"
      ]
     },
     "metadata": {
      "needs_background": "light"
     },
     "output_type": "display_data"
    }
   ],
   "source": [
    "plt.figure(figsize=(15, 10))\n",
    "plt.xlabel('Дата исследования')\n",
    "plt.grid()\n",
    "plt.ylabel('Средний чек')\n",
    "plt.title('График кумулятивного среднего чека по группам')\n",
    "\n",
    "plt.plot(cumulativeRevenueA['date'], cumulativeRevenueA['revenue']/cumulativeRevenueA['orders'], label='A')\n",
    "plt.plot(cumulativeRevenueB['date'], cumulativeRevenueB['revenue']/cumulativeRevenueB['orders'], label='B')\n",
    "plt.legend();"
   ]
  },
  {
   "cell_type": "markdown",
   "metadata": {},
   "source": [
    "**<font color=\"green\">Комментарий:<font>** Аналогичные выводы можно сделать и по среднему чеку, группа 'B' лидирует, но в тот же промежуток времени происходит резкий \"бум\". Также обе группы на протяжении всего теста показывают увеличивающуюся метрику среднего чека. После 20 июля обе группы становятся равномерными."
   ]
  },
  {
   "cell_type": "markdown",
   "metadata": {},
   "source": [
    "### График относительного изменения кумулятивного среднего чека группы B к группе A"
   ]
  },
  {
   "cell_type": "code",
   "execution_count": 19,
   "metadata": {},
   "outputs": [],
   "source": [
    "cumulativeData['conversion'] = cumulativeData['orders']/cumulativeData['visitors']\n",
    "\n",
    "# отделяем данные по группе A\n",
    "cumulativeDataA = cumulativeData[cumulativeData['group']=='A']\n",
    "cumulativeDataB = cumulativeData[cumulativeData['group']=='B']"
   ]
  },
  {
   "cell_type": "code",
   "execution_count": 20,
   "metadata": {},
   "outputs": [
    {
     "data": {
      "image/png": "[encoded data removed]",
      "text/plain": [
       "<Figure size 1080x720 with 1 Axes>"
      ]
     },
     "metadata": {
      "needs_background": "light"
     },
     "output_type": "display_data"
    }
   ],
   "source": [
    "plt.figure(figsize=(15, 10))\n",
    "plt.xlabel('Дата исследования')\n",
    "plt.title('График относительного изменения кумулятивного среднего чека группы B к группе A')\n",
    "plt.grid()\n",
    "\n",
    "# собираем данные в одном датафрейме\n",
    "mergedCumulativeRevenue = cumulativeRevenueA\\\n",
    ".merge(cumulativeRevenueB, left_on='date', right_on='date', how='left', suffixes=['A', 'B'])\n",
    "\n",
    "# cтроим отношение средних чеков\n",
    "plt.plot(mergedCumulativeRevenue['date'], \\\n",
    "(mergedCumulativeRevenue['revenueB']/mergedCumulativeRevenue['ordersB'])/(mergedCumulativeRevenue['revenueA']\\\n",
    "/mergedCumulativeRevenue['ordersA'])-1)\n",
    "\n",
    "# добавляем ось X\n",
    "plt.axhline(y=0, color='black', linestyle='--');"
   ]
  },
  {
   "cell_type": "markdown",
   "metadata": {},
   "source": [
    "**<font color=\"green\">Комментарий:<font>** На графике есть резкие колебания в нескольких точках, что может говорить об аномальных значениях."
   ]
  },
  {
   "cell_type": "markdown",
   "metadata": {},
   "source": [
    "### График кумулятивного среднего количества заказов на посетителя по группам"
   ]
  },
  {
   "cell_type": "code",
   "execution_count": 21,
   "metadata": {},
   "outputs": [
    {
     "data": {
      "image/png": "[encoded data removed]",
      "text/plain": [
       "<Figure size 1080x720 with 1 Axes>"
      ]
     },
     "metadata": {
      "needs_background": "light"
     },
     "output_type": "display_data"
    }
   ],
   "source": [
    "plt.figure(figsize=(15, 10))\n",
    "plt.xlabel('Дата исследования')\n",
    "plt.ylabel('Конверсия')\n",
    "plt.grid()\n",
    "plt.title(' График кумулятивного среднего количества заказов на посетителя по группам')\n",
    "\n",
    "# считаем среднее количество заказов на посетителя\n",
    "cumulativeData['conversion'] = cumulativeData['orders']/cumulativeData['visitors']\n",
    "\n",
    "# отделяем данные по группе A\n",
    "cumulativeDataA = cumulativeData[cumulativeData['group']=='A']\n",
    "\n",
    "# отделяем данные по группе B\n",
    "cumulativeDataB = cumulativeData[cumulativeData['group']=='B']\n",
    "\n",
    "# строим графики\n",
    "plt.plot(cumulativeDataA['date'], cumulativeDataA['conversion'], label='A')\n",
    "plt.plot(cumulativeDataB['date'], cumulativeDataB['conversion'], label='B')\n",
    "plt.legend();"
   ]
  },
  {
   "cell_type": "markdown",
   "metadata": {},
   "source": [
    "**<font color=\"green\">Комментарий:<font>** Первые дни для обеих групп были неравномерными, что можно списать на начало теста. После 10 июля начинается более равномерное количество заказов для обеих групп, показатели группы 'B' немного привлекательнее."
   ]
  },
  {
   "cell_type": "markdown",
   "metadata": {},
   "source": [
    "### График относительного изменения кумулятивного среднего количества заказов на посетителя группы B к группе A"
   ]
  },
  {
   "cell_type": "code",
   "execution_count": 22,
   "metadata": {},
   "outputs": [
    {
     "data": {
      "image/png": "[encoded data removed]",
      "text/plain": [
       "<Figure size 1080x720 with 1 Axes>"
      ]
     },
     "metadata": {
      "needs_background": "light"
     },
     "output_type": "display_data"
    }
   ],
   "source": [
    "plt.figure(figsize=(15, 10))\n",
    "plt.xlabel('Дата исследования')\n",
    "plt.grid()\n",
    "plt.ylabel('Конверсия')\n",
    "plt.title('График относительного изменения кумулятивного среднего количества заказов на посетителя группы B к группе A')\n",
    "\n",
    "mergedCumulativeConversions = cumulativeDataA[['date','conversion']]\\\n",
    ".merge(cumulativeDataB[['date','conversion']], left_on='date', right_on='date', how='left', suffixes=['A', 'B'])\n",
    "\n",
    "plt.plot(mergedCumulativeConversions['date'],\\\n",
    "mergedCumulativeConversions['conversionB']/mergedCumulativeConversions['conversionA']-1);\n",
    "\n",
    "plt.axhline(y=0, color='black', linestyle='--');\n",
    "plt.axhline(y=0.13, color='grey', linestyle='--');"
   ]
  },
  {
   "cell_type": "markdown",
   "metadata": {},
   "source": [
    "**<font color=\"green\">Комментарий:<font>** График колеблется на начале теста, после 10 числа становится более равномерным."
   ]
  },
  {
   "cell_type": "markdown",
   "metadata": {},
   "source": [
    "### График количества заказов по пользователям"
   ]
  },
  {
   "cell_type": "code",
   "execution_count": 23,
   "metadata": {},
   "outputs": [
    {
     "name": "stdout",
     "output_type": "stream",
     "text": [
      "         userId  orders\n",
      "908  3967698036       3\n",
      "55    249864742       3\n",
      "478  2108163459       3\n",
      "687  2988190573       3\n",
      "890  3908431265       3\n",
      "138   611059232       3\n",
      "632  2742574263       3\n",
      "157   678354126       2\n",
      "323  1404560065       2\n",
      "452  1985475298       2\n"
     ]
    }
   ],
   "source": [
    "ordersByUsers = (\n",
    "    orders.groupby('userId', as_index=False)\n",
    "    .agg({'orderId': 'nunique'})\n",
    ")\n",
    "\n",
    "ordersByUsers.columns = ['userId', 'orders']\n",
    "\n",
    "print(ordersByUsers.sort_values(by='orders', ascending=False).head(10))"
   ]
  },
  {
   "cell_type": "code",
   "execution_count": 24,
   "metadata": {},
   "outputs": [
    {
     "data": {
      "image/png": "[encoded data removed]",
      "text/plain": [
       "<Figure size 1080x504 with 1 Axes>"
      ]
     },
     "metadata": {
      "needs_background": "light"
     },
     "output_type": "display_data"
    }
   ],
   "source": [
    "plt.figure(figsize=(15, 7))\n",
    "plt.xlabel('Количество пользователей')\n",
    "plt.ylabel('Количество заказов')\n",
    "plt.title('График количества заказов по пользователям')\n",
    "plt.grid()\n",
    "\n",
    "x_values = pd.Series(range(0,len(ordersByUsers)))\n",
    "\n",
    "plt.scatter(x_values, ordersByUsers['orders']);"
   ]
  },
  {
   "cell_type": "markdown",
   "metadata": {},
   "source": [
    "**<font color=\"green\">Комментарий:<font>** Большинство пользователей заказавали один раз, также значительная доля - 2 раза."
   ]
  },
  {
   "cell_type": "markdown",
   "metadata": {},
   "source": [
    "### 95-й и 99-й перцентили количества заказов на пользователя"
   ]
  },
  {
   "cell_type": "code",
   "execution_count": 25,
   "metadata": {},
   "outputs": [
    {
     "data": {
      "text/plain": [
       "array([1., 2.])"
      ]
     },
     "metadata": {},
     "output_type": "display_data"
    }
   ],
   "source": [
    "display(np.percentile(ordersByUsers['orders'], [95, 99]))"
   ]
  },
  {
   "cell_type": "markdown",
   "metadata": {},
   "source": [
    "**<font color=\"green\">Комментарий:<font>** 95% пользователей заказывали до двух раз включительно. Всё, что больше 3 уже аномальные значения, которые могут искожать реальную картину.\n",
    "    \n",
    "Выберем 3 заказа как границу количества заказов."
   ]
  },
  {
   "cell_type": "markdown",
   "metadata": {},
   "source": [
    "### Точечный график стоимостей заказов"
   ]
  },
  {
   "cell_type": "code",
   "execution_count": 26,
   "metadata": {},
   "outputs": [
    {
     "data": {
      "image/png": "[encoded data removed]",
      "text/plain": [
       "<Figure size 1080x504 with 1 Axes>"
      ]
     },
     "metadata": {
      "needs_background": "light"
     },
     "output_type": "display_data"
    }
   ],
   "source": [
    "plt.figure(figsize=(15, 7))\n",
    "plt.xlabel('Количество пользователей')\n",
    "plt.grid()\n",
    "plt.ylabel('Стоимость заказов')\n",
    "plt.title('График стоимостей заказов')\n",
    "\n",
    "x_values = pd.Series(range(0,len(orders['revenue'])))\n",
    "plt.scatter(x_values, orders['revenue']);"
   ]
  },
  {
   "cell_type": "markdown",
   "metadata": {},
   "source": [
    "**<font color=\"green\">Комментарий:<font>** На графике присутствуют аномальный заказ, рассмотрим данные без данного заказа:"
   ]
  },
  {
   "cell_type": "code",
   "execution_count": 27,
   "metadata": {},
   "outputs": [
    {
     "data": {
      "image/png": "[encoded data removed]",
      "text/plain": [
       "<Figure size 1080x504 with 1 Axes>"
      ]
     },
     "metadata": {
      "needs_background": "light"
     },
     "output_type": "display_data"
    }
   ],
   "source": [
    "plt.figure(figsize=(15, 7))\n",
    "plt.xlabel('Количество пользователей')\n",
    "plt.grid()\n",
    "plt.ylabel('Стоимость заказов')\n",
    "plt.title('График стоимостей заказов')\n",
    "\n",
    "plt.ylim(0, 150000)\n",
    "\n",
    "plt.scatter(x_values, orders['revenue'])\n",
    "\n",
    "plt.show()"
   ]
  },
  {
   "cell_type": "markdown",
   "metadata": {},
   "source": [
    "**<font color=\"green\">Комментарий:<font>** Большинство заказов стоимостью < 40000, рассмотрим с помощью перцентилей:"
   ]
  },
  {
   "cell_type": "markdown",
   "metadata": {},
   "source": [
    "### 95-й и 99-й перцентили стоимости заказов"
   ]
  },
  {
   "cell_type": "code",
   "execution_count": 28,
   "metadata": {},
   "outputs": [
    {
     "name": "stdout",
     "output_type": "stream",
     "text": [
      "[26785. 42353. 53904.]\n"
     ]
    }
   ],
   "source": [
    "print(np.percentile(orders['revenue'], [95, 98, 99])) "
   ]
  },
  {
   "cell_type": "markdown",
   "metadata": {},
   "source": [
    "**<font color=\"green\">Комментарий:<font>** Определим границу по 98 перцентилю в 44133.2"
   ]
  },
  {
   "cell_type": "markdown",
   "metadata": {},
   "source": [
    "### Статистическая значимость различий в среднем количестве заказов на посетителя между группами по «сырым» данным"
   ]
  },
  {
   "cell_type": "markdown",
   "metadata": {},
   "source": [
    "**<font color=\"green\">Комментарий:<font>** Проверем есть ли разница между данными без удаления аномальных значений и с очищенными данными."
   ]
  },
  {
   "cell_type": "markdown",
   "metadata": {},
   "source": [
    "**H0** - различий в среднем количестве заказов на посетителя между группами по «сырым» данным нет.\n",
    "\n",
    "**H1** - различия в среднем количестве заказов на посетителя между группами по «сырым» данным есть.\n",
    "\n",
    "Для всех тестов выберем значение уровня статистической значимости - 0.05"
   ]
  },
  {
   "cell_type": "code",
   "execution_count": 29,
   "metadata": {},
   "outputs": [
    {
     "name": "stdout",
     "output_type": "stream",
     "text": [
      "        date  ordersPerDateA  revenuePerDateA  ordersPerDateB  \\\n",
      "0 2019-08-01              23           142779              17   \n",
      "1 2019-08-02              19            91602              23   \n",
      "2 2019-08-03              24           112473              14   \n",
      "3 2019-08-04              11            41176              14   \n",
      "4 2019-08-05              22            86383              21   \n",
      "\n",
      "   revenuePerDateB  ordersCummulativeA  revenueCummulativeA  \\\n",
      "0            59758                  23               142779   \n",
      "1           162043                  42               234381   \n",
      "2            67049                  66               346854   \n",
      "3            96890                  77               388030   \n",
      "4            89908                  99               474413   \n",
      "\n",
      "   ordersCummulativeB  revenueCummulativeB  visitorsPerDateA  \\\n",
      "0                  17                59758               719   \n",
      "1                  40               221801               619   \n",
      "2                  54               288850               507   \n",
      "3                  68               385740               717   \n",
      "4                  89               475648               756   \n",
      "\n",
      "   visitorsPerDateB  visitorsCummulativeA  visitorsCummulativeB  \n",
      "0               713                   719                   713  \n",
      "1               581                  1338                  1294  \n",
      "2               509                  1845                  1803  \n",
      "3               770                  2562                  2573  \n",
      "4               707                  3318                  3280  \n"
     ]
    }
   ],
   "source": [
    "visitorsADaily = visitors[visitors['group'] == 'A'][['date', 'visitors']]\n",
    "visitorsADaily.columns = ['date', 'visitorsPerDateA']\n",
    "\n",
    "visitorsACummulative = visitorsADaily.apply(\n",
    "    lambda x: visitorsADaily[visitorsADaily['date'] <= x['date']].agg(\n",
    "        {'date': 'max', 'visitorsPerDateA': 'sum'}\n",
    "    ),\n",
    "    axis=1,\n",
    ")\n",
    "visitorsACummulative.columns = ['date', 'visitorsCummulativeA']\n",
    "\n",
    "visitorsBDaily = visitors[visitors['group'] == 'B'][['date', 'visitors']]\n",
    "visitorsBDaily.columns = ['date', 'visitorsPerDateB']\n",
    "\n",
    "visitorsBCummulative = visitorsBDaily.apply(\n",
    "    lambda x: visitorsBDaily[visitorsBDaily['date'] <= x['date']].agg(\n",
    "        {'date': 'max', 'visitorsPerDateB': 'sum'}\n",
    "    ),\n",
    "    axis=1,\n",
    ")\n",
    "visitorsBCummulative.columns = ['date', 'visitorsCummulativeB']\n",
    "\n",
    "ordersADaily = (\n",
    "    orders[orders['group'] == 'A'][['date', 'orderId', 'userId', 'revenue']]\n",
    "    .groupby('date', as_index=False)\n",
    "    .agg({'orderId': pd.Series.nunique, 'revenue': 'sum'})\n",
    ")\n",
    "ordersADaily.columns = ['date', 'ordersPerDateA', 'revenuePerDateA']\n",
    "\n",
    "ordersACummulative = ordersADaily.apply(\n",
    "    lambda x: ordersADaily[ordersADaily['date'] <= x['date']].agg(\n",
    "        {'date': 'max', 'ordersPerDateA': 'sum', 'revenuePerDateA': 'sum'}\n",
    "    ),\n",
    "    axis=1,\n",
    ").sort_values(by=['date'])\n",
    "ordersACummulative.columns = [\n",
    "    'date',\n",
    "    'ordersCummulativeA',\n",
    "    'revenueCummulativeA',\n",
    "]\n",
    "\n",
    "ordersBDaily = (\n",
    "    orders[orders['group'] == 'B'][['date', 'orderId', 'userId', 'revenue']]\n",
    "    .groupby('date', as_index=False)\n",
    "    .agg({'orderId': pd.Series.nunique, 'revenue': 'sum'})\n",
    ")\n",
    "ordersBDaily.columns = ['date', 'ordersPerDateB', 'revenuePerDateB']\n",
    "\n",
    "ordersBCummulative = ordersBDaily.apply(\n",
    "    lambda x: ordersBDaily[ordersBDaily['date'] <= x['date']].agg(\n",
    "        {'date': 'max', 'ordersPerDateB': 'sum', 'revenuePerDateB': 'sum'}\n",
    "    ),\n",
    "    axis=1,\n",
    ").sort_values(by=['date'])\n",
    "ordersBCummulative.columns = [\n",
    "    'date',\n",
    "    'ordersCummulativeB',\n",
    "    'revenueCummulativeB',\n",
    "]\n",
    "\n",
    "data = (\n",
    "    ordersADaily.merge(\n",
    "        ordersBDaily, left_on='date', right_on='date', how='left'\n",
    "    )\n",
    "    .merge(ordersACummulative, left_on='date', right_on='date', how='left')\n",
    "    .merge(ordersBCummulative, left_on='date', right_on='date', how='left')\n",
    "    .merge(visitorsADaily, left_on='date', right_on='date', how='left')\n",
    "    .merge(visitorsBDaily, left_on='date', right_on='date', how='left')\n",
    "    .merge(visitorsACummulative, left_on='date', right_on='date', how='left')\n",
    "    .merge(visitorsBCummulative, left_on='date', right_on='date', how='left')\n",
    ")\n",
    "\n",
    "print(data.head(5)) "
   ]
  },
  {
   "cell_type": "markdown",
   "metadata": {},
   "source": [
    "**<font color=\"green\">Комментарий:<font>** Подготавливаем данные.\n",
    "    \n",
    "Посчитаем статистическую значимость различия в среднем количестве заказов между группами.\n",
    "    \n",
    "Создадим переменные `ordersByUsersA` и `ordersByUsersB` со столбцами `['userId', 'orders']`. В них для пользователей, которые заказывали хотя бы 1 раз, укажем число совершённых заказов. "
   ]
  },
  {
   "cell_type": "code",
   "execution_count": 30,
   "metadata": {},
   "outputs": [],
   "source": [
    "ordersByUsersA = (\n",
    "    orders[orders['group'] == 'A']\n",
    "    .groupby('userId', as_index=False)\n",
    "    .agg({'orderId': pd.Series.nunique})\n",
    ")\n",
    "ordersByUsersA.columns = ['userId', 'orders']\n",
    "\n",
    "ordersByUsersB = (\n",
    "    orders[orders['group'] == 'B']\n",
    "    .groupby('userId', as_index=False)\n",
    "    .agg({'orderId': pd.Series.nunique})\n",
    ")\n",
    "ordersByUsersB.columns = ['userId', 'orders']\n",
    "sampleA = pd.concat(\n",
    "    [\n",
    "        ordersByUsersA['orders'],\n",
    "        pd.Series(\n",
    "            0,\n",
    "            index=np.arange(\n",
    "                data['visitorsPerDateA'].sum() - len(ordersByUsersA['orders'])\n",
    "            ),\n",
    "            name='orders',\n",
    "        ),\n",
    "    ],\n",
    "    axis=0,\n",
    ")\n",
    "\n",
    "sampleB = pd.concat(\n",
    "    [\n",
    "        ordersByUsersB['orders'],\n",
    "        pd.Series(\n",
    "            0,\n",
    "            index=np.arange(\n",
    "                data['visitorsPerDateB'].sum() - len(ordersByUsersB['orders'])\n",
    "            ),\n",
    "            name='orders',\n",
    "        ),\n",
    "    ],\n",
    "    axis=0,\n",
    ")\n"
   ]
  },
  {
   "cell_type": "code",
   "execution_count": 31,
   "metadata": {},
   "outputs": [],
   "source": [
    "alpha = 0.05"
   ]
  },
  {
   "cell_type": "code",
   "execution_count": 32,
   "metadata": {},
   "outputs": [
    {
     "name": "stdout",
     "output_type": "stream",
     "text": [
      "p-значение: 0.011\n",
      "\n",
      "Отвергаем нулевую гипотезу\n",
      "\n",
      "0.160\n"
     ]
    }
   ],
   "source": [
    "# Применим критерий Манна-Уитни.\n",
    "print('p-значение:', \"{0:.3f}\".format(stats.mannwhitneyu(sampleA, sampleB)[1]))\n",
    "print()\n",
    "if stats.mannwhitneyu(sampleA, sampleB)[1] < alpha:\n",
    "    print('Отвергаем нулевую гипотезу')\n",
    "else:\n",
    "    print('Не получилось отвергнуть нулевую гипотезу') \n",
    "print()\n",
    "print(\"{0:.3f}\".format(sampleB.mean() / sampleA.mean() - 1))"
   ]
  },
  {
   "cell_type": "markdown",
   "metadata": {},
   "source": [
    "**<font color=\"green\">Комментарий:<font>** **P-value** < уровня статистической значимости, значит отвергаем гипотезу.\n",
    "                                                           \n",
    "Относительный выигрыш **группы B** равен 16% — второе число в выводе.                                                           \n",
    "                                                               \n",
    "Сделаем вывод, что есть разница в среднем количестве заказов на посетителя между группами                                                           "
   ]
  },
  {
   "cell_type": "markdown",
   "metadata": {},
   "source": [
    "### Cтатистическая значимость различий в среднем чеке заказа между группами по «сырым» данным"
   ]
  },
  {
   "cell_type": "markdown",
   "metadata": {},
   "source": [
    "**<font color=\"green\">Комментарий:<font>** Рассмотрим на различия в среднем чеке по необработанным данным."
   ]
  },
  {
   "cell_type": "markdown",
   "metadata": {},
   "source": [
    "**H0** - различий в среднем чеке нет.\n",
    "\n",
    "**H1** - различия в среднем чеке есть."
   ]
  },
  {
   "cell_type": "code",
   "execution_count": 33,
   "metadata": {},
   "outputs": [
    {
     "name": "stdout",
     "output_type": "stream",
     "text": [
      "p-значение: 0.829\n",
      "\n",
      "Не получилось отвергнуть нулевую гипотезу\n",
      "\n",
      "0.287\n"
     ]
    }
   ],
   "source": [
    "print('p-значение:','{0:.3f}'\\\n",
    ".format(stats.mannwhitneyu(orders[orders['group']=='A']['revenue'], orders[orders['group']=='B']['revenue'])[1]))\n",
    "print()\n",
    "if stats.mannwhitneyu(orders[orders['group']=='A']['revenue'], orders[orders['group']=='B']['revenue'])[1] < alpha:\n",
    "    print('Отвергаем нулевую гипотезу')\n",
    "else:\n",
    "    print('Не получилось отвергнуть нулевую гипотезу') \n",
    "print()\n",
    "print('{0:.3f}'.format(orders[orders['group']=='B']['revenue'].mean()/orders[orders['group']=='A']['revenue'].mean()-1))"
   ]
  },
  {
   "cell_type": "markdown",
   "metadata": {},
   "source": [
    "**<font color=\"green\">Комментарий:<font>** **P-value** > уровня статистической значимости, значит нет оснований отвергнуть гипотезу.\n",
    "                                                           \n",
    "Относительный выигрыш **группы B** равен 28.7% — второе число в выводе.                                                           \n",
    "                                                               \n",
    "Сделаем вывод, что различия в среднем чеке между группами незначительны, следовательно они были получены случайно."
   ]
  },
  {
   "cell_type": "markdown",
   "metadata": {},
   "source": [
    "### Статистическая значимость различий в среднем количестве заказов на посетителя между группами по «очищенным» данным."
   ]
  },
  {
   "cell_type": "markdown",
   "metadata": {},
   "source": [
    "**<font color=\"green\">Комментарий:<font>** **P-value** Подготовим данные. Возьмём границу заказов >3 и сумму больше 44133.2"
   ]
  },
  {
   "cell_type": "markdown",
   "metadata": {},
   "source": [
    "**H0** - различий в среднем количестве заказов на посетителя между группами по «очищенным» данным нет.\n",
    "\n",
    "**H1** - различия в среднем количестве заказов на посетителя между группами по «очищенным» данным есть."
   ]
  },
  {
   "cell_type": "code",
   "execution_count": 34,
   "metadata": {},
   "outputs": [
    {
     "name": "stdout",
     "output_type": "stream",
     "text": [
      "1099    148427295\n",
      "1137    759473111\n",
      "949     887908475\n",
      "744     888512513\n",
      "709     950626008\n",
      "Name: userId, dtype: int64\n",
      "18\n"
     ]
    }
   ],
   "source": [
    "usersWithManyOrders = pd.concat(\n",
    "    [\n",
    "        ordersByUsersA[ordersByUsersA['orders'] > 3]['userId'],\n",
    "        ordersByUsersB[ordersByUsersB['orders'] > 3]['userId'],\n",
    "    ],\n",
    "    axis=0,\n",
    ")\n",
    "usersWithExpensiveOrders = orders[orders['revenue'] >= 44133.2]['userId']\n",
    "abnormalUsers = (\n",
    "    pd.concat([usersWithManyOrders, usersWithExpensiveOrders], axis=0)\n",
    "    .drop_duplicates()\n",
    "    .sort_values()\n",
    ")\n",
    "print(abnormalUsers.head(5))\n",
    "print(abnormalUsers.shape[0])"
   ]
  },
  {
   "cell_type": "code",
   "execution_count": 35,
   "metadata": {},
   "outputs": [],
   "source": [
    "sampleAFiltered = pd.concat(\n",
    "    [\n",
    "        ordersByUsersA[\n",
    "            np.logical_not(ordersByUsersA['userId'].isin(abnormalUsers))\n",
    "        ]['orders'],\n",
    "        pd.Series(\n",
    "            0,\n",
    "            index=np.arange(\n",
    "                data['visitorsPerDateA'].sum() - len(ordersByUsersA['orders'])\n",
    "            ),\n",
    "            name='orders',\n",
    "        ),\n",
    "    ],\n",
    "    axis=0,\n",
    ")\n",
    "\n",
    "sampleBFiltered = pd.concat(\n",
    "    [\n",
    "        ordersByUsersB[\n",
    "            np.logical_not(ordersByUsersB['userId'].isin(abnormalUsers))\n",
    "        ]['orders'],\n",
    "        pd.Series(\n",
    "            0,\n",
    "            index=np.arange(\n",
    "                data['visitorsPerDateB'].sum() - len(ordersByUsersB['orders'])\n",
    "            ),\n",
    "            name='orders',\n",
    "        ),\n",
    "    ],\n",
    "    axis=0,\n",
    ")"
   ]
  },
  {
   "cell_type": "code",
   "execution_count": 36,
   "metadata": {},
   "outputs": [
    {
     "name": "stdout",
     "output_type": "stream",
     "text": [
      "p-значение: 0.007\n",
      "\n",
      "Отвергаем нулевую гипотезу\n",
      "\n",
      "0.175\n"
     ]
    }
   ],
   "source": [
    "print('p-значение:','{0:.3f}'.format(stats.mannwhitneyu(sampleAFiltered, sampleBFiltered)[1]))\n",
    "print()\n",
    "if stats.mannwhitneyu(sampleAFiltered, sampleBFiltered)[1] < alpha:\n",
    "    print('Отвергаем нулевую гипотезу')\n",
    "else:\n",
    "    print('Не получилось отвергнуть нулевую гипотезу') \n",
    "print()\n",
    "print('{0:.3f}'.format(sampleBFiltered.mean()/sampleAFiltered.mean()-1))"
   ]
  },
  {
   "cell_type": "markdown",
   "metadata": {},
   "source": [
    "**<font color=\"green\">Комментарий:<font>** **P-value** < уровня статистической значимости, значит отвергаем гипотезу.\n",
    "                                                           \n",
    "Относительный выигрыш **группы B** равен 17.5% — второе число в выводе.                                                           \n",
    "                                                               \n",
    "Сделаем вывод, что есть разница в среднем количестве заказов на посетителя между группами по \"очищенным\" данным.      "
   ]
  },
  {
   "cell_type": "markdown",
   "metadata": {},
   "source": [
    "### Статистическая значимость различий в среднем чеке заказа между группами по «очищенным» данным"
   ]
  },
  {
   "cell_type": "markdown",
   "metadata": {},
   "source": [
    "**<font color=\"green\">Комментарий:<font>** Проверим различия в среднем чеке по очищенным данным."
   ]
  },
  {
   "cell_type": "markdown",
   "metadata": {},
   "source": [
    "**H0** - различий в среднем чеке нет.\n",
    "\n",
    "**H1** - различия в среднем чеке есть."
   ]
  },
  {
   "cell_type": "code",
   "execution_count": 37,
   "metadata": {},
   "outputs": [
    {
     "name": "stdout",
     "output_type": "stream",
     "text": [
      "p-значение: 0.895\n",
      "\n",
      "Не получилось отвергнуть нулевую гипотезу\n",
      "\n",
      "0.028\n"
     ]
    }
   ],
   "source": [
    "print('p-значение:',\n",
    "    '{0:.3f}'.format(\n",
    "        stats.mannwhitneyu(\n",
    "            orders[\n",
    "                np.logical_and(\n",
    "                    orders['group'] == 'A',\n",
    "                    np.logical_not(orders['userId'].isin(abnormalUsers)),\n",
    "                )\n",
    "            ]['revenue'],\n",
    "            orders[\n",
    "                np.logical_and(\n",
    "                    orders['group'] == 'B',\n",
    "                    np.logical_not(orders['userId'].isin(abnormalUsers)),\n",
    "                )\n",
    "            ]['revenue'],\n",
    "        )[1]\n",
    "    )\n",
    ")\n",
    "print()\n",
    "print('Не получилось отвергнуть нулевую гипотезу')\n",
    "print()\n",
    "print(\n",
    "    \"{0:.3f}\".format(\n",
    "        orders[\n",
    "            np.logical_and(\n",
    "                orders['group'] == 'B',\n",
    "                np.logical_not(orders['userId'].isin(abnormalUsers)),\n",
    "            )\n",
    "        ]['revenue'].mean()\n",
    "        / orders[\n",
    "            np.logical_and(\n",
    "                orders['group'] == 'A',\n",
    "                np.logical_not(orders['userId'].isin(abnormalUsers)),\n",
    "            )\n",
    "        ]['revenue'].mean()\n",
    "        - 1\n",
    "    )\n",
    ")"
   ]
  },
  {
   "cell_type": "markdown",
   "metadata": {},
   "source": [
    "**<font color=\"green\">Комментарий:<font>** **P-Value** > 0.05\n",
    "    \n",
    "Не получилось отвергнуть нулевую гипотезу, нет оснований считать группы разными. По разнице средних чеков групп различий практически нет. Относительное различие составляет 28% между сегментами и не являются значимыми при alpha = 0.05, значит можно сделать аналогичный вывод, как в прошлой проверке гипотезы о среднем чеке => наблюдаемые значения были получены случайно."
   ]
  },
  {
   "cell_type": "markdown",
   "metadata": {},
   "source": [
    "## Вывод"
   ]
  },
  {
   "cell_type": "markdown",
   "metadata": {},
   "source": [
    "Из доступных данных интернет-магазина можно сделать следующие выводы и рекомендации.\n",
    "\n",
    "\n",
    "**Приоритизация гипотез**\n",
    "\n",
    "Следует обратить внимание на **гипотезы**:\n",
    "\n",
    "1. Запустить акцию, дающую скидку на товар в день рождения\n",
    "2. Добавить два новых канала привлечения трафика, что позволит привлекать на 30% больше пользователей\n",
    "3. Добавить форму подписки на все основные страницы, чтобы собрать базу клиентов для email-рассылок\t\n",
    "\n",
    "Если при составлении приоритета гипотез, она должна включать в себя **охват пользователей**, то следует обратить взор на данные гипотезы:\n",
    "\n",
    "1. Добавить форму подписки на все основные страницы, чтобы собрать базу клиентов для email-рассылок\n",
    "2. Добавить блоки рекомендаций товаров на сайт интернет магазина, чтобы повысить конверсию и средний чек заказа\t56.0\n",
    "3. Добавить два новых канала привлечения трафика, что позволит привлекать на 30% больше пользователей\t\n",
    "\n",
    "\n",
    "**Анализ А/В тест:**\n",
    "\n",
    "График относительного изменения кумулятивной конверсии группы B к группе A показывает нам , что в группе 'B' результаты лучше группы 'А'.\n",
    "\n",
    "Есть статистически значимое различие в среднем количестве заказов на посетителя между группами как по «сырым», так и по \"очищенным\". Конверсия группы 'В' выше, чем в 'А'.\n",
    "\n",
    "Касаемо среднего чека, то значимых различий - нет, данный результат актуален и при данных с аномалиями, и при данных без них;\n",
    "\n",
    "По результатам теста следует прекратить его и зафиксировать победу группы 'B'."
   ]
  }
 ],
 "metadata": {
  "ExecuteTimeLog": [
   {
    "duration": 1274,
    "start_time": "2023-12-25T16:33:57.398Z"
   },
   {
    "duration": 73,
    "start_time": "2023-12-25T16:34:41.783Z"
   },
   {
    "duration": 10,
    "start_time": "2023-12-25T16:34:48.034Z"
   },
   {
    "duration": 836,
    "start_time": "2023-12-25T17:10:18.070Z"
   },
   {
    "duration": 9,
    "start_time": "2023-12-25T17:10:55.925Z"
   },
   {
    "duration": 8,
    "start_time": "2023-12-25T17:10:58.528Z"
   },
   {
    "duration": 9,
    "start_time": "2023-12-25T17:11:07.931Z"
   },
   {
    "duration": 11,
    "start_time": "2023-12-25T17:13:18.455Z"
   },
   {
    "duration": 9,
    "start_time": "2023-12-25T17:13:21.848Z"
   },
   {
    "duration": 28,
    "start_time": "2023-12-25T17:13:52.992Z"
   },
   {
    "duration": 139,
    "start_time": "2023-12-25T17:14:18.661Z"
   },
   {
    "duration": 12,
    "start_time": "2023-12-25T17:14:32.461Z"
   },
   {
    "duration": 17,
    "start_time": "2023-12-25T17:14:37.484Z"
   },
   {
    "duration": 47,
    "start_time": "2023-12-26T17:01:52.268Z"
   },
   {
    "duration": 6,
    "start_time": "2023-12-26T17:04:28.616Z"
   },
   {
    "duration": 1231,
    "start_time": "2023-12-26T17:04:36.692Z"
   },
   {
    "duration": 63,
    "start_time": "2023-12-26T17:04:37.924Z"
   },
   {
    "duration": 11,
    "start_time": "2023-12-26T17:04:37.989Z"
   },
   {
    "duration": 20,
    "start_time": "2023-12-26T17:04:38.002Z"
   },
   {
    "duration": 14,
    "start_time": "2023-12-26T17:04:38.023Z"
   },
   {
    "duration": 163,
    "start_time": "2023-12-26T17:04:38.038Z"
   },
   {
    "duration": 27,
    "start_time": "2023-12-26T17:04:38.202Z"
   },
   {
    "duration": 405,
    "start_time": "2023-12-26T17:04:38.231Z"
   },
   {
    "duration": 4,
    "start_time": "2023-12-26T17:04:51.267Z"
   },
   {
    "duration": 26,
    "start_time": "2023-12-26T17:04:51.506Z"
   },
   {
    "duration": 8,
    "start_time": "2023-12-26T17:04:51.679Z"
   },
   {
    "duration": 9,
    "start_time": "2023-12-26T17:04:51.839Z"
   },
   {
    "duration": 9,
    "start_time": "2023-12-26T17:04:52.010Z"
   },
   {
    "duration": 64,
    "start_time": "2023-12-26T17:04:52.678Z"
   },
   {
    "duration": 23,
    "start_time": "2023-12-26T17:04:53.399Z"
   },
   {
    "duration": 12,
    "start_time": "2023-12-26T17:04:55.213Z"
   },
   {
    "duration": 321,
    "start_time": "2023-12-26T17:05:10.090Z"
   },
   {
    "duration": 1095,
    "start_time": "2023-12-26T17:05:22.182Z"
   },
   {
    "duration": 27,
    "start_time": "2023-12-26T17:05:23.278Z"
   },
   {
    "duration": 25,
    "start_time": "2023-12-26T17:05:23.307Z"
   },
   {
    "duration": 28,
    "start_time": "2023-12-26T17:05:23.334Z"
   },
   {
    "duration": 31,
    "start_time": "2023-12-26T17:05:23.364Z"
   },
   {
    "duration": 85,
    "start_time": "2023-12-26T17:05:23.396Z"
   },
   {
    "duration": 22,
    "start_time": "2023-12-26T17:05:23.482Z"
   },
   {
    "duration": 410,
    "start_time": "2023-12-26T17:05:23.506Z"
   },
   {
    "duration": 331,
    "start_time": "2023-12-26T17:05:38.099Z"
   },
   {
    "duration": 286,
    "start_time": "2023-12-26T17:06:21.233Z"
   },
   {
    "duration": 1104,
    "start_time": "2023-12-26T17:06:26.471Z"
   },
   {
    "duration": 28,
    "start_time": "2023-12-26T17:06:27.577Z"
   },
   {
    "duration": 12,
    "start_time": "2023-12-26T17:06:27.607Z"
   },
   {
    "duration": 112,
    "start_time": "2023-12-26T17:06:27.621Z"
   },
   {
    "duration": 36,
    "start_time": "2023-12-26T17:06:27.734Z"
   },
   {
    "duration": 63,
    "start_time": "2023-12-26T17:06:27.772Z"
   },
   {
    "duration": 21,
    "start_time": "2023-12-26T17:06:27.836Z"
   },
   {
    "duration": 12,
    "start_time": "2023-12-26T17:06:27.858Z"
   },
   {
    "duration": 4,
    "start_time": "2023-12-26T17:06:30.331Z"
   },
   {
    "duration": 5,
    "start_time": "2023-12-26T17:06:57.369Z"
   },
   {
    "duration": 106,
    "start_time": "2023-12-26T17:07:14.819Z"
   },
   {
    "duration": 355,
    "start_time": "2023-12-26T17:10:12.745Z"
   },
   {
    "duration": 1076,
    "start_time": "2023-12-26T17:10:19.682Z"
   },
   {
    "duration": 28,
    "start_time": "2023-12-26T17:10:20.760Z"
   },
   {
    "duration": 12,
    "start_time": "2023-12-26T17:10:20.790Z"
   },
   {
    "duration": 10,
    "start_time": "2023-12-26T17:10:20.804Z"
   },
   {
    "duration": 8,
    "start_time": "2023-12-26T17:10:20.816Z"
   },
   {
    "duration": 65,
    "start_time": "2023-12-26T17:10:20.826Z"
   },
   {
    "duration": 18,
    "start_time": "2023-12-26T17:10:20.892Z"
   },
   {
    "duration": 12,
    "start_time": "2023-12-26T17:10:20.911Z"
   },
   {
    "duration": 15,
    "start_time": "2023-12-26T17:10:20.924Z"
   },
   {
    "duration": 6,
    "start_time": "2023-12-26T17:10:20.942Z"
   },
   {
    "duration": 151,
    "start_time": "2023-12-26T17:10:20.950Z"
   },
   {
    "duration": 428,
    "start_time": "2023-12-26T17:10:34.656Z"
   },
   {
    "duration": 62,
    "start_time": "2023-12-26T17:10:55.104Z"
   },
   {
    "duration": 16,
    "start_time": "2023-12-26T17:10:55.487Z"
   },
   {
    "duration": 20,
    "start_time": "2023-12-26T17:10:55.708Z"
   },
   {
    "duration": 4,
    "start_time": "2023-12-26T17:10:55.920Z"
   },
   {
    "duration": 5,
    "start_time": "2023-12-26T17:10:56.119Z"
   },
   {
    "duration": 147,
    "start_time": "2023-12-26T17:10:56.325Z"
   },
   {
    "duration": 105,
    "start_time": "2023-12-26T17:11:28.334Z"
   },
   {
    "duration": 8,
    "start_time": "2023-12-26T17:11:41.082Z"
   },
   {
    "duration": 233,
    "start_time": "2023-12-26T17:11:57.399Z"
   },
   {
    "duration": 151,
    "start_time": "2023-12-26T17:13:11.122Z"
   },
   {
    "duration": 10,
    "start_time": "2023-12-26T17:13:49.542Z"
   },
   {
    "duration": 4,
    "start_time": "2023-12-26T17:14:46.691Z"
   },
   {
    "duration": 11,
    "start_time": "2023-12-26T17:14:47.246Z"
   },
   {
    "duration": 145,
    "start_time": "2023-12-26T17:14:49.783Z"
   },
   {
    "duration": 4,
    "start_time": "2023-12-26T17:14:51.654Z"
   },
   {
    "duration": 5,
    "start_time": "2023-12-26T17:15:06.458Z"
   },
   {
    "duration": 319,
    "start_time": "2023-12-26T17:15:06.740Z"
   },
   {
    "duration": 316,
    "start_time": "2023-12-26T17:15:27.914Z"
   },
   {
    "duration": 75,
    "start_time": "2023-12-26T17:20:07.421Z"
   },
   {
    "duration": 76,
    "start_time": "2023-12-26T17:20:26.592Z"
   },
   {
    "duration": 76,
    "start_time": "2023-12-26T17:20:42.546Z"
   },
   {
    "duration": 256,
    "start_time": "2023-12-26T17:20:51.798Z"
   },
   {
    "duration": 169,
    "start_time": "2023-12-26T17:23:13.354Z"
   },
   {
    "duration": 309,
    "start_time": "2023-12-26T17:26:05.354Z"
   },
   {
    "duration": 346,
    "start_time": "2023-12-26T17:26:10.508Z"
   },
   {
    "duration": 9,
    "start_time": "2023-12-26T17:27:51.308Z"
   },
   {
    "duration": 5,
    "start_time": "2023-12-26T17:28:16.014Z"
   },
   {
    "duration": 109,
    "start_time": "2023-12-26T17:29:24.653Z"
   },
   {
    "duration": 5,
    "start_time": "2023-12-26T17:30:03.167Z"
   },
   {
    "duration": 4,
    "start_time": "2023-12-26T17:30:10.614Z"
   },
   {
    "duration": 4,
    "start_time": "2023-12-26T17:30:23.214Z"
   },
   {
    "duration": 197,
    "start_time": "2023-12-26T17:31:58.199Z"
   },
   {
    "duration": 125,
    "start_time": "2023-12-26T17:32:10.267Z"
   },
   {
    "duration": 124,
    "start_time": "2023-12-26T17:32:42.184Z"
   },
   {
    "duration": 1078,
    "start_time": "2023-12-26T17:33:09.858Z"
   },
   {
    "duration": 27,
    "start_time": "2023-12-26T17:33:10.938Z"
   },
   {
    "duration": 11,
    "start_time": "2023-12-26T17:33:10.966Z"
   },
   {
    "duration": 30,
    "start_time": "2023-12-26T17:33:10.979Z"
   },
   {
    "duration": 23,
    "start_time": "2023-12-26T17:33:11.010Z"
   },
   {
    "duration": 72,
    "start_time": "2023-12-26T17:33:11.034Z"
   },
   {
    "duration": 15,
    "start_time": "2023-12-26T17:33:11.107Z"
   },
   {
    "duration": 19,
    "start_time": "2023-12-26T17:33:11.123Z"
   },
   {
    "duration": 29,
    "start_time": "2023-12-26T17:33:11.143Z"
   },
   {
    "duration": 27,
    "start_time": "2023-12-26T17:33:11.174Z"
   },
   {
    "duration": 169,
    "start_time": "2023-12-26T17:33:11.203Z"
   },
   {
    "duration": 113,
    "start_time": "2023-12-26T17:33:11.373Z"
   },
   {
    "duration": 8,
    "start_time": "2023-12-26T17:33:11.488Z"
   },
   {
    "duration": 267,
    "start_time": "2023-12-26T17:33:11.497Z"
   },
   {
    "duration": 160,
    "start_time": "2023-12-26T17:33:11.765Z"
   },
   {
    "duration": 6,
    "start_time": "2023-12-26T17:33:11.926Z"
   },
   {
    "duration": 276,
    "start_time": "2023-12-26T17:33:11.933Z"
   },
   {
    "duration": 3,
    "start_time": "2023-12-26T17:33:12.210Z"
   },
   {
    "duration": 191,
    "start_time": "2023-12-26T17:33:12.215Z"
   },
   {
    "duration": 329,
    "start_time": "2023-12-26T17:33:12.408Z"
   },
   {
    "duration": 12,
    "start_time": "2023-12-26T17:33:12.739Z"
   },
   {
    "duration": 191,
    "start_time": "2023-12-26T17:33:12.752Z"
   },
   {
    "duration": 139,
    "start_time": "2023-12-26T17:33:12.944Z"
   },
   {
    "duration": 4,
    "start_time": "2023-12-26T17:33:13.084Z"
   },
   {
    "duration": 209,
    "start_time": "2023-12-26T17:33:13.089Z"
   },
   {
    "duration": 178,
    "start_time": "2023-12-26T17:33:13.300Z"
   },
   {
    "duration": 10,
    "start_time": "2023-12-26T17:34:15.593Z"
   },
   {
    "duration": 90,
    "start_time": "2023-12-26T17:34:50.590Z"
   },
   {
    "duration": 9,
    "start_time": "2023-12-26T17:35:17.460Z"
   },
   {
    "duration": 8,
    "start_time": "2023-12-26T17:35:18.042Z"
   },
   {
    "duration": 24,
    "start_time": "2023-12-26T17:35:27.087Z"
   },
   {
    "duration": 13,
    "start_time": "2023-12-26T17:35:55.652Z"
   },
   {
    "duration": 1322,
    "start_time": "2023-12-27T18:50:18.792Z"
   },
   {
    "duration": 68,
    "start_time": "2023-12-27T18:50:21.343Z"
   },
   {
    "duration": 2,
    "start_time": "2023-12-27T19:06:48.140Z"
   },
   {
    "duration": 74,
    "start_time": "2023-12-27T19:09:36.116Z"
   },
   {
    "duration": 153,
    "start_time": "2023-12-27T19:09:38.620Z"
   },
   {
    "duration": 11,
    "start_time": "2023-12-27T19:11:00.462Z"
   },
   {
    "duration": 15,
    "start_time": "2023-12-27T19:11:48.684Z"
   },
   {
    "duration": 7,
    "start_time": "2023-12-27T19:12:19.291Z"
   },
   {
    "duration": 7,
    "start_time": "2023-12-27T19:12:31.934Z"
   },
   {
    "duration": 6,
    "start_time": "2023-12-27T19:12:35.180Z"
   },
   {
    "duration": 7,
    "start_time": "2023-12-27T19:13:06.217Z"
   },
   {
    "duration": 5,
    "start_time": "2023-12-27T19:13:42.602Z"
   },
   {
    "duration": 6,
    "start_time": "2023-12-27T19:14:18.352Z"
   },
   {
    "duration": 11,
    "start_time": "2023-12-27T19:15:38.183Z"
   },
   {
    "duration": 12,
    "start_time": "2023-12-27T19:15:44.515Z"
   },
   {
    "duration": 83,
    "start_time": "2023-12-27T19:17:55.069Z"
   },
   {
    "duration": 5,
    "start_time": "2023-12-27T19:22:53.893Z"
   },
   {
    "duration": 4,
    "start_time": "2023-12-27T19:23:08.081Z"
   },
   {
    "duration": 10,
    "start_time": "2023-12-27T19:25:10.795Z"
   },
   {
    "duration": 4,
    "start_time": "2023-12-27T19:25:31.414Z"
   },
   {
    "duration": 7,
    "start_time": "2023-12-27T19:26:08.232Z"
   },
   {
    "duration": 1107,
    "start_time": "2023-12-27T19:29:25.098Z"
   },
   {
    "duration": 35,
    "start_time": "2023-12-27T19:29:26.206Z"
   },
   {
    "duration": 10,
    "start_time": "2023-12-27T19:29:26.242Z"
   },
   {
    "duration": 10,
    "start_time": "2023-12-27T19:29:26.254Z"
   },
   {
    "duration": 71,
    "start_time": "2023-12-27T19:29:26.265Z"
   },
   {
    "duration": 13,
    "start_time": "2023-12-27T19:29:26.337Z"
   },
   {
    "duration": 4,
    "start_time": "2023-12-27T19:29:26.351Z"
   },
   {
    "duration": 11,
    "start_time": "2023-12-27T19:29:26.357Z"
   },
   {
    "duration": 14,
    "start_time": "2023-12-27T19:29:26.369Z"
   },
   {
    "duration": 7,
    "start_time": "2023-12-27T19:29:26.385Z"
   },
   {
    "duration": 8,
    "start_time": "2023-12-27T19:29:26.394Z"
   },
   {
    "duration": 18,
    "start_time": "2023-12-27T19:29:26.403Z"
   },
   {
    "duration": 4,
    "start_time": "2023-12-27T19:29:26.423Z"
   },
   {
    "duration": 8,
    "start_time": "2023-12-27T19:29:26.428Z"
   },
   {
    "duration": 169,
    "start_time": "2023-12-27T19:29:26.438Z"
   },
   {
    "duration": 116,
    "start_time": "2023-12-27T19:29:26.608Z"
   },
   {
    "duration": 8,
    "start_time": "2023-12-27T19:29:26.725Z"
   },
   {
    "duration": 258,
    "start_time": "2023-12-27T19:29:26.735Z"
   },
   {
    "duration": 163,
    "start_time": "2023-12-27T19:29:26.994Z"
   },
   {
    "duration": 5,
    "start_time": "2023-12-27T19:29:27.165Z"
   },
   {
    "duration": 275,
    "start_time": "2023-12-27T19:29:27.172Z"
   },
   {
    "duration": 3,
    "start_time": "2023-12-27T19:29:27.448Z"
   },
   {
    "duration": 192,
    "start_time": "2023-12-27T19:29:27.452Z"
   },
   {
    "duration": 340,
    "start_time": "2023-12-27T19:29:27.645Z"
   },
   {
    "duration": 8,
    "start_time": "2023-12-27T19:29:27.987Z"
   },
   {
    "duration": 4,
    "start_time": "2023-12-27T19:29:27.997Z"
   },
   {
    "duration": 133,
    "start_time": "2023-12-27T19:29:28.003Z"
   },
   {
    "duration": 4,
    "start_time": "2023-12-27T19:29:28.139Z"
   },
   {
    "duration": 213,
    "start_time": "2023-12-27T19:29:28.144Z"
   },
   {
    "duration": 163,
    "start_time": "2023-12-27T19:29:28.359Z"
   },
   {
    "duration": 11,
    "start_time": "2023-12-27T19:29:28.524Z"
   },
   {
    "duration": 8,
    "start_time": "2023-12-27T19:29:28.537Z"
   },
   {
    "duration": 9,
    "start_time": "2023-12-27T19:29:28.564Z"
   },
   {
    "duration": 24,
    "start_time": "2023-12-27T19:29:28.575Z"
   },
   {
    "duration": 13,
    "start_time": "2023-12-27T19:29:28.601Z"
   },
   {
    "duration": 401,
    "start_time": "2023-12-27T19:32:20.467Z"
   },
   {
    "duration": 1113,
    "start_time": "2023-12-27T19:32:38.206Z"
   },
   {
    "duration": 35,
    "start_time": "2023-12-27T19:32:39.321Z"
   },
   {
    "duration": 10,
    "start_time": "2023-12-27T19:32:39.358Z"
   },
   {
    "duration": 20,
    "start_time": "2023-12-27T19:32:39.370Z"
   },
   {
    "duration": 77,
    "start_time": "2023-12-27T19:32:39.392Z"
   },
   {
    "duration": 10,
    "start_time": "2023-12-27T19:32:39.471Z"
   },
   {
    "duration": 19,
    "start_time": "2023-12-27T19:32:39.483Z"
   },
   {
    "duration": 20,
    "start_time": "2023-12-27T19:32:39.504Z"
   },
   {
    "duration": 24,
    "start_time": "2023-12-27T19:32:39.525Z"
   },
   {
    "duration": 5,
    "start_time": "2023-12-27T19:32:39.551Z"
   },
   {
    "duration": 16,
    "start_time": "2023-12-27T19:32:39.557Z"
   },
   {
    "duration": 188,
    "start_time": "2023-12-27T19:32:39.575Z"
   },
   {
    "duration": 152,
    "start_time": "2023-12-27T19:32:39.764Z"
   },
   {
    "duration": 109,
    "start_time": "2023-12-27T19:32:39.917Z"
   },
   {
    "duration": 9,
    "start_time": "2023-12-27T19:32:40.027Z"
   },
   {
    "duration": 250,
    "start_time": "2023-12-27T19:32:40.037Z"
   },
   {
    "duration": 166,
    "start_time": "2023-12-27T19:32:40.289Z"
   },
   {
    "duration": 9,
    "start_time": "2023-12-27T19:32:40.456Z"
   },
   {
    "duration": 265,
    "start_time": "2023-12-27T19:32:40.466Z"
   },
   {
    "duration": 2,
    "start_time": "2023-12-27T19:32:40.733Z"
   },
   {
    "duration": 191,
    "start_time": "2023-12-27T19:32:40.737Z"
   },
   {
    "duration": 326,
    "start_time": "2023-12-27T19:32:40.930Z"
   },
   {
    "duration": 9,
    "start_time": "2023-12-27T19:32:41.264Z"
   },
   {
    "duration": 33,
    "start_time": "2023-12-27T19:32:41.275Z"
   },
   {
    "duration": 122,
    "start_time": "2023-12-27T19:32:41.310Z"
   },
   {
    "duration": 4,
    "start_time": "2023-12-27T19:32:41.434Z"
   },
   {
    "duration": 206,
    "start_time": "2023-12-27T19:32:41.440Z"
   },
   {
    "duration": 164,
    "start_time": "2023-12-27T19:32:41.650Z"
   },
   {
    "duration": 11,
    "start_time": "2023-12-27T19:32:41.815Z"
   },
   {
    "duration": 30,
    "start_time": "2023-12-27T19:32:41.828Z"
   },
   {
    "duration": 19,
    "start_time": "2023-12-27T19:32:41.860Z"
   },
   {
    "duration": 36,
    "start_time": "2023-12-27T19:32:41.880Z"
   },
   {
    "duration": 14,
    "start_time": "2023-12-27T19:32:41.918Z"
   },
   {
    "duration": 351,
    "start_time": "2023-12-27T19:33:54.168Z"
   },
   {
    "duration": 1125,
    "start_time": "2023-12-27T19:33:58.490Z"
   },
   {
    "duration": 35,
    "start_time": "2023-12-27T19:33:59.616Z"
   },
   {
    "duration": 10,
    "start_time": "2023-12-27T19:33:59.652Z"
   },
   {
    "duration": 9,
    "start_time": "2023-12-27T19:33:59.663Z"
   },
   {
    "duration": 66,
    "start_time": "2023-12-27T19:33:59.673Z"
   },
   {
    "duration": 12,
    "start_time": "2023-12-27T19:33:59.741Z"
   },
   {
    "duration": 5,
    "start_time": "2023-12-27T19:33:59.755Z"
   },
   {
    "duration": 9,
    "start_time": "2023-12-27T19:33:59.762Z"
   },
   {
    "duration": 14,
    "start_time": "2023-12-27T19:33:59.772Z"
   },
   {
    "duration": 4,
    "start_time": "2023-12-27T19:33:59.789Z"
   },
   {
    "duration": 8,
    "start_time": "2023-12-27T19:33:59.794Z"
   },
   {
    "duration": 300,
    "start_time": "2023-12-27T19:33:59.803Z"
   },
   {
    "duration": 260,
    "start_time": "2023-12-27T19:34:00.105Z"
   },
   {
    "duration": 168,
    "start_time": "2023-12-27T19:34:00.366Z"
   },
   {
    "duration": 7,
    "start_time": "2023-12-27T19:34:00.535Z"
   },
   {
    "duration": 310,
    "start_time": "2023-12-27T19:34:00.544Z"
   },
   {
    "duration": 3,
    "start_time": "2023-12-27T19:34:00.864Z"
   },
   {
    "duration": 229,
    "start_time": "2023-12-27T19:34:00.869Z"
   },
   {
    "duration": 305,
    "start_time": "2023-12-27T19:34:01.100Z"
   },
   {
    "duration": 9,
    "start_time": "2023-12-27T19:34:01.407Z"
   },
   {
    "duration": 64,
    "start_time": "2023-12-27T19:34:01.417Z"
   },
   {
    "duration": 218,
    "start_time": "2023-12-27T19:34:01.483Z"
   },
   {
    "duration": 3,
    "start_time": "2023-12-27T19:34:01.703Z"
   },
   {
    "duration": 231,
    "start_time": "2023-12-27T19:34:01.708Z"
   },
   {
    "duration": 182,
    "start_time": "2023-12-27T19:34:01.940Z"
   },
   {
    "duration": 10,
    "start_time": "2023-12-27T19:34:02.123Z"
   },
   {
    "duration": 21,
    "start_time": "2023-12-27T19:34:02.134Z"
   },
   {
    "duration": 37,
    "start_time": "2023-12-27T19:34:02.158Z"
   },
   {
    "duration": 51,
    "start_time": "2023-12-27T19:34:02.197Z"
   },
   {
    "duration": 14,
    "start_time": "2023-12-27T19:34:02.250Z"
   },
   {
    "duration": 184,
    "start_time": "2023-12-27T19:34:52.302Z"
   },
   {
    "duration": 237,
    "start_time": "2023-12-27T19:35:57.352Z"
   },
   {
    "duration": 91,
    "start_time": "2023-12-27T19:49:06.700Z"
   },
   {
    "duration": 313,
    "start_time": "2023-12-27T19:49:12.327Z"
   },
   {
    "duration": 224,
    "start_time": "2023-12-27T19:49:51.091Z"
   },
   {
    "duration": 228,
    "start_time": "2023-12-27T19:52:29.786Z"
   },
   {
    "duration": 244,
    "start_time": "2023-12-27T19:52:40.618Z"
   },
   {
    "duration": 237,
    "start_time": "2023-12-27T19:58:50.623Z"
   },
   {
    "duration": 278,
    "start_time": "2023-12-27T20:00:48.855Z"
   },
   {
    "duration": 1251,
    "start_time": "2023-12-27T20:02:31.902Z"
   },
   {
    "duration": 1103,
    "start_time": "2023-12-27T20:02:40.330Z"
   },
   {
    "duration": 34,
    "start_time": "2023-12-27T20:02:41.435Z"
   },
   {
    "duration": 10,
    "start_time": "2023-12-27T20:02:41.471Z"
   },
   {
    "duration": 10,
    "start_time": "2023-12-27T20:02:41.483Z"
   },
   {
    "duration": 63,
    "start_time": "2023-12-27T20:02:41.495Z"
   },
   {
    "duration": 12,
    "start_time": "2023-12-27T20:02:41.560Z"
   },
   {
    "duration": 6,
    "start_time": "2023-12-27T20:02:41.574Z"
   },
   {
    "duration": 5,
    "start_time": "2023-12-27T20:02:41.582Z"
   },
   {
    "duration": 7,
    "start_time": "2023-12-27T20:02:41.588Z"
   },
   {
    "duration": 12,
    "start_time": "2023-12-27T20:02:41.597Z"
   },
   {
    "duration": 4,
    "start_time": "2023-12-27T20:02:41.610Z"
   },
   {
    "duration": 7,
    "start_time": "2023-12-27T20:02:41.616Z"
   },
   {
    "duration": 323,
    "start_time": "2023-12-27T20:02:41.624Z"
   },
   {
    "duration": 336,
    "start_time": "2023-12-27T20:02:41.949Z"
   },
   {
    "duration": 266,
    "start_time": "2023-12-27T20:02:42.287Z"
   },
   {
    "duration": 11,
    "start_time": "2023-12-27T20:02:42.554Z"
   },
   {
    "duration": 269,
    "start_time": "2023-12-27T20:02:42.566Z"
   },
   {
    "duration": 2,
    "start_time": "2023-12-27T20:02:42.837Z"
   },
   {
    "duration": 186,
    "start_time": "2023-12-27T20:02:42.841Z"
   },
   {
    "duration": 338,
    "start_time": "2023-12-27T20:02:43.028Z"
   },
   {
    "duration": 9,
    "start_time": "2023-12-27T20:02:43.368Z"
   },
   {
    "duration": 10,
    "start_time": "2023-12-27T20:02:43.378Z"
   },
   {
    "duration": 140,
    "start_time": "2023-12-27T20:02:43.389Z"
   },
   {
    "duration": 5,
    "start_time": "2023-12-27T20:02:43.531Z"
   },
   {
    "duration": 211,
    "start_time": "2023-12-27T20:02:43.537Z"
   },
   {
    "duration": 181,
    "start_time": "2023-12-27T20:02:43.749Z"
   },
   {
    "duration": 9,
    "start_time": "2023-12-27T20:02:43.932Z"
   },
   {
    "duration": 22,
    "start_time": "2023-12-27T20:02:43.943Z"
   },
   {
    "duration": 8,
    "start_time": "2023-12-27T20:02:43.966Z"
   },
   {
    "duration": 27,
    "start_time": "2023-12-27T20:02:43.975Z"
   },
   {
    "duration": 11,
    "start_time": "2023-12-27T20:02:44.003Z"
   },
   {
    "duration": 362,
    "start_time": "2023-12-27T20:08:00.566Z"
   },
   {
    "duration": 366,
    "start_time": "2023-12-27T20:09:10.562Z"
   },
   {
    "duration": 412,
    "start_time": "2023-12-27T20:11:12.722Z"
   },
   {
    "duration": 300,
    "start_time": "2023-12-27T20:11:49.425Z"
   },
   {
    "duration": 253,
    "start_time": "2023-12-27T20:11:56.417Z"
   },
   {
    "duration": 360,
    "start_time": "2023-12-27T20:15:10.770Z"
   },
   {
    "duration": 1106,
    "start_time": "2023-12-27T20:15:33.478Z"
   },
   {
    "duration": 35,
    "start_time": "2023-12-27T20:15:34.585Z"
   },
   {
    "duration": 10,
    "start_time": "2023-12-27T20:15:34.622Z"
   },
   {
    "duration": 10,
    "start_time": "2023-12-27T20:15:34.635Z"
   },
   {
    "duration": 63,
    "start_time": "2023-12-27T20:15:34.646Z"
   },
   {
    "duration": 12,
    "start_time": "2023-12-27T20:15:34.710Z"
   },
   {
    "duration": 22,
    "start_time": "2023-12-27T20:15:34.723Z"
   },
   {
    "duration": 19,
    "start_time": "2023-12-27T20:15:34.747Z"
   },
   {
    "duration": 32,
    "start_time": "2023-12-27T20:15:34.767Z"
   },
   {
    "duration": 21,
    "start_time": "2023-12-27T20:15:34.801Z"
   },
   {
    "duration": 18,
    "start_time": "2023-12-27T20:15:34.823Z"
   },
   {
    "duration": 25,
    "start_time": "2023-12-27T20:15:34.842Z"
   },
   {
    "duration": 287,
    "start_time": "2023-12-27T20:15:34.868Z"
   },
   {
    "duration": 344,
    "start_time": "2023-12-27T20:15:35.156Z"
   },
   {
    "duration": 255,
    "start_time": "2023-12-27T20:15:35.502Z"
   },
   {
    "duration": 7,
    "start_time": "2023-12-27T20:15:35.758Z"
   },
   {
    "duration": 360,
    "start_time": "2023-12-27T20:15:35.767Z"
   },
   {
    "duration": 3,
    "start_time": "2023-12-27T20:15:36.129Z"
   },
   {
    "duration": 391,
    "start_time": "2023-12-27T20:15:36.133Z"
   },
   {
    "duration": 0,
    "start_time": "2023-12-27T20:15:36.526Z"
   },
   {
    "duration": 0,
    "start_time": "2023-12-27T20:15:36.528Z"
   },
   {
    "duration": 0,
    "start_time": "2023-12-27T20:15:36.529Z"
   },
   {
    "duration": 0,
    "start_time": "2023-12-27T20:15:36.531Z"
   },
   {
    "duration": 0,
    "start_time": "2023-12-27T20:15:36.532Z"
   },
   {
    "duration": 0,
    "start_time": "2023-12-27T20:15:36.533Z"
   },
   {
    "duration": 0,
    "start_time": "2023-12-27T20:15:36.535Z"
   },
   {
    "duration": 0,
    "start_time": "2023-12-27T20:15:36.536Z"
   },
   {
    "duration": 0,
    "start_time": "2023-12-27T20:15:36.538Z"
   },
   {
    "duration": 0,
    "start_time": "2023-12-27T20:15:36.539Z"
   },
   {
    "duration": 0,
    "start_time": "2023-12-27T20:15:36.541Z"
   },
   {
    "duration": 0,
    "start_time": "2023-12-27T20:15:36.542Z"
   },
   {
    "duration": 272,
    "start_time": "2023-12-27T20:16:04.935Z"
   },
   {
    "duration": 258,
    "start_time": "2023-12-27T20:16:11.892Z"
   },
   {
    "duration": 262,
    "start_time": "2023-12-27T20:16:13.456Z"
   },
   {
    "duration": 1166,
    "start_time": "2023-12-27T20:16:44.134Z"
   },
   {
    "duration": 42,
    "start_time": "2023-12-27T20:16:45.301Z"
   },
   {
    "duration": 13,
    "start_time": "2023-12-27T20:16:45.348Z"
   },
   {
    "duration": 14,
    "start_time": "2023-12-27T20:16:45.363Z"
   },
   {
    "duration": 69,
    "start_time": "2023-12-27T20:16:45.379Z"
   },
   {
    "duration": 12,
    "start_time": "2023-12-27T20:16:45.449Z"
   },
   {
    "duration": 20,
    "start_time": "2023-12-27T20:16:45.463Z"
   },
   {
    "duration": 11,
    "start_time": "2023-12-27T20:16:45.484Z"
   },
   {
    "duration": 34,
    "start_time": "2023-12-27T20:16:45.498Z"
   },
   {
    "duration": 15,
    "start_time": "2023-12-27T20:16:45.533Z"
   },
   {
    "duration": 11,
    "start_time": "2023-12-27T20:16:45.549Z"
   },
   {
    "duration": 10,
    "start_time": "2023-12-27T20:16:45.561Z"
   },
   {
    "duration": 272,
    "start_time": "2023-12-27T20:16:45.573Z"
   },
   {
    "duration": 327,
    "start_time": "2023-12-27T20:16:45.847Z"
   },
   {
    "duration": 244,
    "start_time": "2023-12-27T20:16:46.175Z"
   },
   {
    "duration": 6,
    "start_time": "2023-12-27T20:16:46.420Z"
   },
   {
    "duration": 391,
    "start_time": "2023-12-27T20:16:46.427Z"
   },
   {
    "duration": 2,
    "start_time": "2023-12-27T20:16:46.820Z"
   },
   {
    "duration": 280,
    "start_time": "2023-12-27T20:16:46.824Z"
   },
   {
    "duration": 290,
    "start_time": "2023-12-27T20:16:47.105Z"
   },
   {
    "duration": 10,
    "start_time": "2023-12-27T20:16:47.397Z"
   },
   {
    "duration": 5,
    "start_time": "2023-12-27T20:16:47.408Z"
   },
   {
    "duration": 142,
    "start_time": "2023-12-27T20:16:47.414Z"
   },
   {
    "duration": 9,
    "start_time": "2023-12-27T20:16:47.559Z"
   },
   {
    "duration": 230,
    "start_time": "2023-12-27T20:16:47.570Z"
   },
   {
    "duration": 153,
    "start_time": "2023-12-27T20:16:47.802Z"
   },
   {
    "duration": 14,
    "start_time": "2023-12-27T20:16:47.958Z"
   },
   {
    "duration": 9,
    "start_time": "2023-12-27T20:16:47.974Z"
   },
   {
    "duration": 8,
    "start_time": "2023-12-27T20:16:47.985Z"
   },
   {
    "duration": 24,
    "start_time": "2023-12-27T20:16:47.995Z"
   },
   {
    "duration": 45,
    "start_time": "2023-12-27T20:16:48.021Z"
   },
   {
    "duration": 382,
    "start_time": "2023-12-27T20:17:46.465Z"
   },
   {
    "duration": 70,
    "start_time": "2023-12-27T20:18:25.719Z"
   },
   {
    "duration": 374,
    "start_time": "2023-12-27T20:18:40.741Z"
   },
   {
    "duration": 434,
    "start_time": "2023-12-27T20:18:55.295Z"
   },
   {
    "duration": 390,
    "start_time": "2023-12-27T20:19:19.559Z"
   },
   {
    "duration": 321,
    "start_time": "2023-12-27T20:19:33.897Z"
   },
   {
    "duration": 351,
    "start_time": "2023-12-27T20:19:39.273Z"
   },
   {
    "duration": 358,
    "start_time": "2023-12-27T20:19:49.346Z"
   },
   {
    "duration": 1132,
    "start_time": "2023-12-27T20:20:36.066Z"
   },
   {
    "duration": 34,
    "start_time": "2023-12-27T20:20:37.200Z"
   },
   {
    "duration": 17,
    "start_time": "2023-12-27T20:20:37.235Z"
   },
   {
    "duration": 66,
    "start_time": "2023-12-27T20:20:37.253Z"
   },
   {
    "duration": 109,
    "start_time": "2023-12-27T20:20:37.321Z"
   },
   {
    "duration": 11,
    "start_time": "2023-12-27T20:20:37.431Z"
   },
   {
    "duration": 49,
    "start_time": "2023-12-27T20:20:37.444Z"
   },
   {
    "duration": 25,
    "start_time": "2023-12-27T20:20:37.494Z"
   },
   {
    "duration": 30,
    "start_time": "2023-12-27T20:20:37.520Z"
   },
   {
    "duration": 42,
    "start_time": "2023-12-27T20:20:37.553Z"
   },
   {
    "duration": 29,
    "start_time": "2023-12-27T20:20:37.596Z"
   },
   {
    "duration": 56,
    "start_time": "2023-12-27T20:20:37.627Z"
   },
   {
    "duration": 277,
    "start_time": "2023-12-27T20:20:37.684Z"
   },
   {
    "duration": 314,
    "start_time": "2023-12-27T20:20:37.962Z"
   },
   {
    "duration": 247,
    "start_time": "2023-12-27T20:20:38.278Z"
   },
   {
    "duration": 5,
    "start_time": "2023-12-27T20:20:38.526Z"
   },
   {
    "duration": 379,
    "start_time": "2023-12-27T20:20:38.533Z"
   },
   {
    "duration": 2,
    "start_time": "2023-12-27T20:20:38.914Z"
   },
   {
    "duration": 290,
    "start_time": "2023-12-27T20:20:38.918Z"
   },
   {
    "duration": 320,
    "start_time": "2023-12-27T20:20:39.209Z"
   },
   {
    "duration": 8,
    "start_time": "2023-12-27T20:20:39.530Z"
   },
   {
    "duration": 29,
    "start_time": "2023-12-27T20:20:39.539Z"
   },
   {
    "duration": 126,
    "start_time": "2023-12-27T20:20:39.569Z"
   },
   {
    "duration": 4,
    "start_time": "2023-12-27T20:20:39.696Z"
   },
   {
    "duration": 242,
    "start_time": "2023-12-27T20:20:39.701Z"
   },
   {
    "duration": 159,
    "start_time": "2023-12-27T20:20:39.944Z"
   },
   {
    "duration": 9,
    "start_time": "2023-12-27T20:20:40.104Z"
   },
   {
    "duration": 12,
    "start_time": "2023-12-27T20:20:40.115Z"
   },
   {
    "duration": 35,
    "start_time": "2023-12-27T20:20:40.128Z"
   },
   {
    "duration": 56,
    "start_time": "2023-12-27T20:20:40.165Z"
   },
   {
    "duration": 12,
    "start_time": "2023-12-27T20:20:40.222Z"
   },
   {
    "duration": 117,
    "start_time": "2023-12-27T20:25:07.218Z"
   },
   {
    "duration": 6,
    "start_time": "2023-12-27T20:27:42.627Z"
   },
   {
    "duration": 2100,
    "start_time": "2023-12-27T20:28:17.033Z"
   },
   {
    "duration": 5,
    "start_time": "2023-12-27T20:28:27.311Z"
   },
   {
    "duration": 270,
    "start_time": "2023-12-27T20:40:24.577Z"
   },
   {
    "duration": 423,
    "start_time": "2023-12-27T20:47:08.155Z"
   },
   {
    "duration": 324,
    "start_time": "2023-12-27T20:47:35.911Z"
   },
   {
    "duration": 366,
    "start_time": "2023-12-27T20:48:24.043Z"
   },
   {
    "duration": 192,
    "start_time": "2023-12-27T21:02:18.941Z"
   },
   {
    "duration": 161,
    "start_time": "2023-12-27T21:02:26.083Z"
   },
   {
    "duration": 189,
    "start_time": "2023-12-27T21:02:38.782Z"
   },
   {
    "duration": 155,
    "start_time": "2023-12-27T21:02:45.407Z"
   },
   {
    "duration": 140,
    "start_time": "2023-12-27T21:02:53.542Z"
   },
   {
    "duration": 140,
    "start_time": "2023-12-27T21:04:46.860Z"
   },
   {
    "duration": 154,
    "start_time": "2023-12-27T21:05:25.438Z"
   },
   {
    "duration": 175,
    "start_time": "2023-12-27T21:09:00.810Z"
   },
   {
    "duration": 174,
    "start_time": "2023-12-27T21:09:05.710Z"
   },
   {
    "duration": 163,
    "start_time": "2023-12-27T21:09:15.730Z"
   },
   {
    "duration": 249,
    "start_time": "2023-12-27T21:09:43.550Z"
   },
   {
    "duration": 153,
    "start_time": "2023-12-27T21:11:57.459Z"
   },
   {
    "duration": 1161,
    "start_time": "2023-12-27T21:12:27.350Z"
   },
   {
    "duration": 34,
    "start_time": "2023-12-27T21:12:28.513Z"
   },
   {
    "duration": 10,
    "start_time": "2023-12-27T21:12:28.549Z"
   },
   {
    "duration": 15,
    "start_time": "2023-12-27T21:12:28.561Z"
   },
   {
    "duration": 76,
    "start_time": "2023-12-27T21:12:28.577Z"
   },
   {
    "duration": 12,
    "start_time": "2023-12-27T21:12:28.655Z"
   },
   {
    "duration": 14,
    "start_time": "2023-12-27T21:12:28.668Z"
   },
   {
    "duration": 4,
    "start_time": "2023-12-27T21:12:28.684Z"
   },
   {
    "duration": 12,
    "start_time": "2023-12-27T21:12:28.689Z"
   },
   {
    "duration": 10,
    "start_time": "2023-12-27T21:12:28.704Z"
   },
   {
    "duration": 8,
    "start_time": "2023-12-27T21:12:28.716Z"
   },
   {
    "duration": 9,
    "start_time": "2023-12-27T21:12:28.725Z"
   },
   {
    "duration": 342,
    "start_time": "2023-12-27T21:12:28.736Z"
   },
   {
    "duration": 334,
    "start_time": "2023-12-27T21:12:29.080Z"
   },
   {
    "duration": 248,
    "start_time": "2023-12-27T21:12:29.416Z"
   },
   {
    "duration": 5,
    "start_time": "2023-12-27T21:12:29.666Z"
   },
   {
    "duration": 350,
    "start_time": "2023-12-27T21:12:29.673Z"
   },
   {
    "duration": 296,
    "start_time": "2023-12-27T21:12:30.024Z"
   },
   {
    "duration": 334,
    "start_time": "2023-12-27T21:12:30.322Z"
   },
   {
    "duration": 10,
    "start_time": "2023-12-27T21:12:30.664Z"
   },
   {
    "duration": 165,
    "start_time": "2023-12-27T21:12:30.676Z"
   },
   {
    "duration": 5,
    "start_time": "2023-12-27T21:12:30.843Z"
   },
   {
    "duration": 188,
    "start_time": "2023-12-27T21:12:30.850Z"
   },
   {
    "duration": 263,
    "start_time": "2023-12-27T21:12:31.040Z"
   },
   {
    "duration": 0,
    "start_time": "2023-12-27T21:12:31.305Z"
   },
   {
    "duration": 0,
    "start_time": "2023-12-27T21:12:31.306Z"
   },
   {
    "duration": 0,
    "start_time": "2023-12-27T21:12:31.307Z"
   },
   {
    "duration": 0,
    "start_time": "2023-12-27T21:12:31.309Z"
   },
   {
    "duration": 0,
    "start_time": "2023-12-27T21:12:31.309Z"
   },
   {
    "duration": 0,
    "start_time": "2023-12-27T21:12:31.310Z"
   },
   {
    "duration": 0,
    "start_time": "2023-12-27T21:12:31.311Z"
   },
   {
    "duration": 0,
    "start_time": "2023-12-27T21:12:31.312Z"
   },
   {
    "duration": 227,
    "start_time": "2023-12-27T21:13:00.993Z"
   },
   {
    "duration": 147,
    "start_time": "2023-12-27T21:13:32.655Z"
   },
   {
    "duration": 366,
    "start_time": "2023-12-27T21:14:25.339Z"
   },
   {
    "duration": 253,
    "start_time": "2023-12-27T21:14:33.961Z"
   },
   {
    "duration": 267,
    "start_time": "2023-12-27T21:14:36.956Z"
   },
   {
    "duration": 337,
    "start_time": "2023-12-27T21:14:42.192Z"
   },
   {
    "duration": 274,
    "start_time": "2023-12-27T21:14:46.092Z"
   },
   {
    "duration": 145,
    "start_time": "2023-12-27T21:14:52.132Z"
   },
   {
    "duration": 162,
    "start_time": "2023-12-27T21:15:00.776Z"
   },
   {
    "duration": 145,
    "start_time": "2023-12-27T21:15:12.558Z"
   },
   {
    "duration": 152,
    "start_time": "2023-12-27T21:15:46.624Z"
   },
   {
    "duration": 116,
    "start_time": "2023-12-27T21:16:01.314Z"
   },
   {
    "duration": 210,
    "start_time": "2023-12-27T21:16:11.662Z"
   },
   {
    "duration": 121,
    "start_time": "2023-12-27T21:16:17.802Z"
   },
   {
    "duration": 167,
    "start_time": "2023-12-27T21:16:25.229Z"
   },
   {
    "duration": 166,
    "start_time": "2023-12-27T21:16:46.010Z"
   },
   {
    "duration": 5,
    "start_time": "2023-12-27T21:19:46.912Z"
   },
   {
    "duration": 4,
    "start_time": "2023-12-27T21:20:03.359Z"
   },
   {
    "duration": 1094,
    "start_time": "2023-12-27T21:20:50.512Z"
   },
   {
    "duration": 34,
    "start_time": "2023-12-27T21:20:51.608Z"
   },
   {
    "duration": 11,
    "start_time": "2023-12-27T21:20:51.643Z"
   },
   {
    "duration": 9,
    "start_time": "2023-12-27T21:20:51.656Z"
   },
   {
    "duration": 86,
    "start_time": "2023-12-27T21:20:51.667Z"
   },
   {
    "duration": 13,
    "start_time": "2023-12-27T21:20:51.755Z"
   },
   {
    "duration": 28,
    "start_time": "2023-12-27T21:20:51.770Z"
   },
   {
    "duration": 19,
    "start_time": "2023-12-27T21:20:51.799Z"
   },
   {
    "duration": 27,
    "start_time": "2023-12-27T21:20:51.819Z"
   },
   {
    "duration": 10,
    "start_time": "2023-12-27T21:20:51.848Z"
   },
   {
    "duration": 16,
    "start_time": "2023-12-27T21:20:51.860Z"
   },
   {
    "duration": 8,
    "start_time": "2023-12-27T21:20:51.878Z"
   },
   {
    "duration": 275,
    "start_time": "2023-12-27T21:20:51.887Z"
   },
   {
    "duration": 332,
    "start_time": "2023-12-27T21:20:52.164Z"
   },
   {
    "duration": 259,
    "start_time": "2023-12-27T21:20:52.498Z"
   },
   {
    "duration": 8,
    "start_time": "2023-12-27T21:20:52.759Z"
   },
   {
    "duration": 355,
    "start_time": "2023-12-27T21:20:52.768Z"
   },
   {
    "duration": 315,
    "start_time": "2023-12-27T21:20:53.125Z"
   },
   {
    "duration": 381,
    "start_time": "2023-12-27T21:20:53.442Z"
   },
   {
    "duration": 10,
    "start_time": "2023-12-27T21:20:53.825Z"
   },
   {
    "duration": 165,
    "start_time": "2023-12-27T21:20:53.836Z"
   },
   {
    "duration": 4,
    "start_time": "2023-12-27T21:20:54.003Z"
   },
   {
    "duration": 171,
    "start_time": "2023-12-27T21:20:54.009Z"
   },
   {
    "duration": 178,
    "start_time": "2023-12-27T21:20:54.182Z"
   },
   {
    "duration": 5,
    "start_time": "2023-12-27T21:20:54.362Z"
   },
   {
    "duration": 302,
    "start_time": "2023-12-27T21:20:54.368Z"
   },
   {
    "duration": 150,
    "start_time": "2023-12-27T21:20:54.672Z"
   },
   {
    "duration": 10,
    "start_time": "2023-12-27T21:20:54.826Z"
   },
   {
    "duration": 16,
    "start_time": "2023-12-27T21:20:54.838Z"
   },
   {
    "duration": 8,
    "start_time": "2023-12-27T21:20:54.865Z"
   },
   {
    "duration": 23,
    "start_time": "2023-12-27T21:20:54.875Z"
   },
   {
    "duration": 13,
    "start_time": "2023-12-27T21:20:54.900Z"
   },
   {
    "duration": 129,
    "start_time": "2023-12-27T21:37:15.982Z"
   },
   {
    "duration": 24,
    "start_time": "2023-12-27T21:38:10.624Z"
   },
   {
    "duration": 1222,
    "start_time": "2023-12-27T21:51:26.233Z"
   },
   {
    "duration": 1097,
    "start_time": "2023-12-27T21:51:37.221Z"
   },
   {
    "duration": 34,
    "start_time": "2023-12-27T21:51:38.319Z"
   },
   {
    "duration": 10,
    "start_time": "2023-12-27T21:51:38.355Z"
   },
   {
    "duration": 10,
    "start_time": "2023-12-27T21:51:38.366Z"
   },
   {
    "duration": 62,
    "start_time": "2023-12-27T21:51:38.377Z"
   },
   {
    "duration": 11,
    "start_time": "2023-12-27T21:51:38.440Z"
   },
   {
    "duration": 5,
    "start_time": "2023-12-27T21:51:38.452Z"
   },
   {
    "duration": 9,
    "start_time": "2023-12-27T21:51:38.458Z"
   },
   {
    "duration": 5,
    "start_time": "2023-12-27T21:51:38.468Z"
   },
   {
    "duration": 7,
    "start_time": "2023-12-27T21:51:38.475Z"
   },
   {
    "duration": 9,
    "start_time": "2023-12-27T21:51:38.483Z"
   },
   {
    "duration": 4,
    "start_time": "2023-12-27T21:51:38.494Z"
   },
   {
    "duration": 8,
    "start_time": "2023-12-27T21:51:38.499Z"
   },
   {
    "duration": 302,
    "start_time": "2023-12-27T21:51:38.508Z"
   },
   {
    "duration": 377,
    "start_time": "2023-12-27T21:51:38.811Z"
   },
   {
    "duration": 258,
    "start_time": "2023-12-27T21:51:39.190Z"
   },
   {
    "duration": 6,
    "start_time": "2023-12-27T21:51:39.449Z"
   },
   {
    "duration": 361,
    "start_time": "2023-12-27T21:51:39.464Z"
   },
   {
    "duration": 285,
    "start_time": "2023-12-27T21:51:39.827Z"
   },
   {
    "duration": 345,
    "start_time": "2023-12-27T21:51:40.113Z"
   },
   {
    "duration": 10,
    "start_time": "2023-12-27T21:51:40.460Z"
   },
   {
    "duration": 157,
    "start_time": "2023-12-27T21:51:40.471Z"
   },
   {
    "duration": 4,
    "start_time": "2023-12-27T21:51:40.630Z"
   },
   {
    "duration": 169,
    "start_time": "2023-12-27T21:51:40.635Z"
   },
   {
    "duration": 174,
    "start_time": "2023-12-27T21:51:40.805Z"
   },
   {
    "duration": 4,
    "start_time": "2023-12-27T21:51:40.980Z"
   },
   {
    "duration": 296,
    "start_time": "2023-12-27T21:51:40.985Z"
   },
   {
    "duration": 136,
    "start_time": "2023-12-27T21:51:41.285Z"
   },
   {
    "duration": 24,
    "start_time": "2023-12-27T21:51:41.423Z"
   },
   {
    "duration": 19,
    "start_time": "2023-12-27T21:51:41.448Z"
   },
   {
    "duration": 7,
    "start_time": "2023-12-27T21:51:41.469Z"
   },
   {
    "duration": 13,
    "start_time": "2023-12-27T21:51:41.478Z"
   },
   {
    "duration": 25,
    "start_time": "2023-12-27T21:51:41.492Z"
   },
   {
    "duration": 13,
    "start_time": "2023-12-27T21:51:41.519Z"
   },
   {
    "duration": 1189,
    "start_time": "2023-12-27T21:53:08.417Z"
   },
   {
    "duration": 1095,
    "start_time": "2023-12-27T21:53:12.985Z"
   },
   {
    "duration": 1085,
    "start_time": "2023-12-27T21:53:20.695Z"
   },
   {
    "duration": 36,
    "start_time": "2023-12-27T21:53:21.782Z"
   },
   {
    "duration": 21,
    "start_time": "2023-12-27T21:53:21.819Z"
   },
   {
    "duration": 10,
    "start_time": "2023-12-27T21:53:21.842Z"
   },
   {
    "duration": 65,
    "start_time": "2023-12-27T21:53:21.853Z"
   },
   {
    "duration": 12,
    "start_time": "2023-12-27T21:53:21.919Z"
   },
   {
    "duration": 5,
    "start_time": "2023-12-27T21:53:21.933Z"
   },
   {
    "duration": 99,
    "start_time": "2023-12-27T21:53:21.939Z"
   },
   {
    "duration": 0,
    "start_time": "2023-12-27T21:53:22.040Z"
   },
   {
    "duration": 0,
    "start_time": "2023-12-27T21:53:22.041Z"
   },
   {
    "duration": 0,
    "start_time": "2023-12-27T21:53:22.042Z"
   },
   {
    "duration": 1,
    "start_time": "2023-12-27T21:53:22.043Z"
   },
   {
    "duration": 0,
    "start_time": "2023-12-27T21:53:22.045Z"
   },
   {
    "duration": 0,
    "start_time": "2023-12-27T21:53:22.046Z"
   },
   {
    "duration": 0,
    "start_time": "2023-12-27T21:53:22.047Z"
   },
   {
    "duration": 0,
    "start_time": "2023-12-27T21:53:22.048Z"
   },
   {
    "duration": 0,
    "start_time": "2023-12-27T21:53:22.048Z"
   },
   {
    "duration": 0,
    "start_time": "2023-12-27T21:53:22.050Z"
   },
   {
    "duration": 0,
    "start_time": "2023-12-27T21:53:22.050Z"
   },
   {
    "duration": 0,
    "start_time": "2023-12-27T21:53:22.051Z"
   },
   {
    "duration": 0,
    "start_time": "2023-12-27T21:53:22.065Z"
   },
   {
    "duration": 0,
    "start_time": "2023-12-27T21:53:22.066Z"
   },
   {
    "duration": 0,
    "start_time": "2023-12-27T21:53:22.067Z"
   },
   {
    "duration": 0,
    "start_time": "2023-12-27T21:53:22.068Z"
   },
   {
    "duration": 0,
    "start_time": "2023-12-27T21:53:22.069Z"
   },
   {
    "duration": 0,
    "start_time": "2023-12-27T21:53:22.070Z"
   },
   {
    "duration": 0,
    "start_time": "2023-12-27T21:53:22.072Z"
   },
   {
    "duration": 0,
    "start_time": "2023-12-27T21:53:22.072Z"
   },
   {
    "duration": 0,
    "start_time": "2023-12-27T21:53:22.073Z"
   },
   {
    "duration": 0,
    "start_time": "2023-12-27T21:53:22.074Z"
   },
   {
    "duration": 0,
    "start_time": "2023-12-27T21:53:22.075Z"
   },
   {
    "duration": 0,
    "start_time": "2023-12-27T21:53:22.076Z"
   },
   {
    "duration": 0,
    "start_time": "2023-12-27T21:53:22.077Z"
   },
   {
    "duration": 0,
    "start_time": "2023-12-27T21:53:22.078Z"
   },
   {
    "duration": 89,
    "start_time": "2023-12-27T21:53:34.565Z"
   },
   {
    "duration": 10,
    "start_time": "2023-12-27T21:53:37.054Z"
   },
   {
    "duration": 68,
    "start_time": "2023-12-27T21:53:49.013Z"
   },
   {
    "duration": 8,
    "start_time": "2023-12-27T21:53:51.913Z"
   },
   {
    "duration": 75,
    "start_time": "2023-12-27T21:55:16.198Z"
   },
   {
    "duration": 29,
    "start_time": "2023-12-27T21:55:24.509Z"
   },
   {
    "duration": 7,
    "start_time": "2023-12-27T21:55:33.829Z"
   },
   {
    "duration": 4,
    "start_time": "2023-12-27T21:55:35.969Z"
   },
   {
    "duration": 1109,
    "start_time": "2023-12-27T21:55:41.288Z"
   },
   {
    "duration": 35,
    "start_time": "2023-12-27T21:55:42.399Z"
   },
   {
    "duration": 11,
    "start_time": "2023-12-27T21:55:42.436Z"
   },
   {
    "duration": 39,
    "start_time": "2023-12-27T21:55:42.449Z"
   },
   {
    "duration": 81,
    "start_time": "2023-12-27T21:55:42.490Z"
   },
   {
    "duration": 12,
    "start_time": "2023-12-27T21:55:42.572Z"
   },
   {
    "duration": 24,
    "start_time": "2023-12-27T21:55:42.585Z"
   },
   {
    "duration": 29,
    "start_time": "2023-12-27T21:55:42.611Z"
   },
   {
    "duration": 20,
    "start_time": "2023-12-27T21:55:42.642Z"
   },
   {
    "duration": 19,
    "start_time": "2023-12-27T21:55:42.664Z"
   },
   {
    "duration": 32,
    "start_time": "2023-12-27T21:55:42.685Z"
   },
   {
    "duration": 28,
    "start_time": "2023-12-27T21:55:42.718Z"
   },
   {
    "duration": 24,
    "start_time": "2023-12-27T21:55:42.748Z"
   },
   {
    "duration": 25,
    "start_time": "2023-12-27T21:55:42.773Z"
   },
   {
    "duration": 274,
    "start_time": "2023-12-27T21:55:42.800Z"
   },
   {
    "duration": 321,
    "start_time": "2023-12-27T21:55:43.075Z"
   },
   {
    "duration": 254,
    "start_time": "2023-12-27T21:55:43.397Z"
   },
   {
    "duration": 5,
    "start_time": "2023-12-27T21:55:43.653Z"
   },
   {
    "duration": 356,
    "start_time": "2023-12-27T21:55:43.664Z"
   },
   {
    "duration": 290,
    "start_time": "2023-12-27T21:55:44.022Z"
   },
   {
    "duration": 315,
    "start_time": "2023-12-27T21:55:44.314Z"
   },
   {
    "duration": 9,
    "start_time": "2023-12-27T21:55:44.631Z"
   },
   {
    "duration": 182,
    "start_time": "2023-12-27T21:55:44.641Z"
   },
   {
    "duration": 5,
    "start_time": "2023-12-27T21:55:44.825Z"
   },
   {
    "duration": 178,
    "start_time": "2023-12-27T21:55:44.832Z"
   },
   {
    "duration": 177,
    "start_time": "2023-12-27T21:55:45.012Z"
   },
   {
    "duration": 4,
    "start_time": "2023-12-27T21:55:45.191Z"
   },
   {
    "duration": 294,
    "start_time": "2023-12-27T21:55:45.199Z"
   },
   {
    "duration": 128,
    "start_time": "2023-12-27T21:55:45.495Z"
   },
   {
    "duration": 24,
    "start_time": "2023-12-27T21:55:45.625Z"
   },
   {
    "duration": 19,
    "start_time": "2023-12-27T21:55:45.651Z"
   },
   {
    "duration": 7,
    "start_time": "2023-12-27T21:55:45.671Z"
   },
   {
    "duration": 61,
    "start_time": "2023-12-27T21:55:45.679Z"
   },
   {
    "duration": 99,
    "start_time": "2023-12-27T21:55:45.742Z"
   },
   {
    "duration": 12,
    "start_time": "2023-12-27T21:55:45.843Z"
   },
   {
    "duration": 7,
    "start_time": "2023-12-27T21:57:53.760Z"
   },
   {
    "duration": 1088,
    "start_time": "2023-12-27T22:01:48.501Z"
   },
   {
    "duration": 35,
    "start_time": "2023-12-27T22:01:49.590Z"
   },
   {
    "duration": 13,
    "start_time": "2023-12-27T22:01:49.627Z"
   },
   {
    "duration": 11,
    "start_time": "2023-12-27T22:01:49.642Z"
   },
   {
    "duration": 68,
    "start_time": "2023-12-27T22:01:49.655Z"
   },
   {
    "duration": 14,
    "start_time": "2023-12-27T22:01:49.725Z"
   },
   {
    "duration": 8,
    "start_time": "2023-12-27T22:01:49.741Z"
   },
   {
    "duration": 7,
    "start_time": "2023-12-27T22:01:49.751Z"
   },
   {
    "duration": 5,
    "start_time": "2023-12-27T22:01:49.759Z"
   },
   {
    "duration": 5,
    "start_time": "2023-12-27T22:01:49.766Z"
   },
   {
    "duration": 7,
    "start_time": "2023-12-27T22:01:49.773Z"
   },
   {
    "duration": 9,
    "start_time": "2023-12-27T22:01:49.781Z"
   },
   {
    "duration": 8,
    "start_time": "2023-12-27T22:01:49.791Z"
   },
   {
    "duration": 9,
    "start_time": "2023-12-27T22:01:49.800Z"
   },
   {
    "duration": 303,
    "start_time": "2023-12-27T22:01:49.811Z"
   },
   {
    "duration": 346,
    "start_time": "2023-12-27T22:01:50.115Z"
   },
   {
    "duration": 250,
    "start_time": "2023-12-27T22:01:50.464Z"
   },
   {
    "duration": 5,
    "start_time": "2023-12-27T22:01:50.716Z"
   },
   {
    "duration": 345,
    "start_time": "2023-12-27T22:01:50.723Z"
   },
   {
    "duration": 299,
    "start_time": "2023-12-27T22:01:51.069Z"
   },
   {
    "duration": 354,
    "start_time": "2023-12-27T22:01:51.369Z"
   },
   {
    "duration": 9,
    "start_time": "2023-12-27T22:01:51.725Z"
   },
   {
    "duration": 179,
    "start_time": "2023-12-27T22:01:51.736Z"
   },
   {
    "duration": 6,
    "start_time": "2023-12-27T22:01:51.916Z"
   },
   {
    "duration": 190,
    "start_time": "2023-12-27T22:01:51.923Z"
   },
   {
    "duration": 190,
    "start_time": "2023-12-27T22:01:52.115Z"
   },
   {
    "duration": 4,
    "start_time": "2023-12-27T22:01:52.307Z"
   },
   {
    "duration": 302,
    "start_time": "2023-12-27T22:01:52.315Z"
   },
   {
    "duration": 137,
    "start_time": "2023-12-27T22:01:52.619Z"
   },
   {
    "duration": 29,
    "start_time": "2023-12-27T22:01:52.758Z"
   },
   {
    "duration": 11,
    "start_time": "2023-12-27T22:01:52.789Z"
   },
   {
    "duration": 9,
    "start_time": "2023-12-27T22:01:52.802Z"
   },
   {
    "duration": 8,
    "start_time": "2023-12-27T22:01:52.813Z"
   },
   {
    "duration": 56,
    "start_time": "2023-12-27T22:01:52.823Z"
   },
   {
    "duration": 14,
    "start_time": "2023-12-27T22:01:52.881Z"
   },
   {
    "duration": 14,
    "start_time": "2023-12-27T22:04:48.936Z"
   },
   {
    "duration": 7,
    "start_time": "2023-12-27T22:04:49.907Z"
   },
   {
    "duration": 24,
    "start_time": "2023-12-27T22:04:50.798Z"
   },
   {
    "duration": 13,
    "start_time": "2023-12-27T22:04:52.129Z"
   },
   {
    "duration": 1128,
    "start_time": "2023-12-27T22:15:30.575Z"
   },
   {
    "duration": 34,
    "start_time": "2023-12-27T22:15:31.705Z"
   },
   {
    "duration": 13,
    "start_time": "2023-12-27T22:15:31.743Z"
   },
   {
    "duration": 10,
    "start_time": "2023-12-27T22:15:31.757Z"
   },
   {
    "duration": 66,
    "start_time": "2023-12-27T22:15:31.768Z"
   },
   {
    "duration": 12,
    "start_time": "2023-12-27T22:15:31.836Z"
   },
   {
    "duration": 6,
    "start_time": "2023-12-27T22:15:31.849Z"
   },
   {
    "duration": 9,
    "start_time": "2023-12-27T22:15:31.856Z"
   },
   {
    "duration": 8,
    "start_time": "2023-12-27T22:15:31.868Z"
   },
   {
    "duration": 11,
    "start_time": "2023-12-27T22:15:31.877Z"
   },
   {
    "duration": 15,
    "start_time": "2023-12-27T22:15:31.890Z"
   },
   {
    "duration": 20,
    "start_time": "2023-12-27T22:15:31.906Z"
   },
   {
    "duration": 18,
    "start_time": "2023-12-27T22:15:31.928Z"
   },
   {
    "duration": 13,
    "start_time": "2023-12-27T22:15:31.948Z"
   },
   {
    "duration": 279,
    "start_time": "2023-12-27T22:15:31.962Z"
   },
   {
    "duration": 330,
    "start_time": "2023-12-27T22:15:32.243Z"
   },
   {
    "duration": 249,
    "start_time": "2023-12-27T22:15:32.574Z"
   },
   {
    "duration": 5,
    "start_time": "2023-12-27T22:15:32.825Z"
   },
   {
    "duration": 381,
    "start_time": "2023-12-27T22:15:32.832Z"
   },
   {
    "duration": 287,
    "start_time": "2023-12-27T22:15:33.214Z"
   },
   {
    "duration": 329,
    "start_time": "2023-12-27T22:15:33.503Z"
   },
   {
    "duration": 9,
    "start_time": "2023-12-27T22:15:33.833Z"
   },
   {
    "duration": 160,
    "start_time": "2023-12-27T22:15:33.844Z"
   },
   {
    "duration": 4,
    "start_time": "2023-12-27T22:15:34.005Z"
   },
   {
    "duration": 171,
    "start_time": "2023-12-27T22:15:34.011Z"
   },
   {
    "duration": 180,
    "start_time": "2023-12-27T22:15:34.183Z"
   },
   {
    "duration": 3,
    "start_time": "2023-12-27T22:15:34.366Z"
   },
   {
    "duration": 275,
    "start_time": "2023-12-27T22:15:34.371Z"
   },
   {
    "duration": 125,
    "start_time": "2023-12-27T22:15:34.648Z"
   },
   {
    "duration": 23,
    "start_time": "2023-12-27T22:15:34.774Z"
   },
   {
    "duration": 9,
    "start_time": "2023-12-27T22:15:34.799Z"
   },
   {
    "duration": 8,
    "start_time": "2023-12-27T22:15:34.809Z"
   },
   {
    "duration": 11,
    "start_time": "2023-12-27T22:15:34.819Z"
   },
   {
    "duration": 43,
    "start_time": "2023-12-27T22:15:34.831Z"
   },
   {
    "duration": 12,
    "start_time": "2023-12-27T22:15:34.875Z"
   },
   {
    "duration": 4,
    "start_time": "2023-12-27T22:28:23.254Z"
   },
   {
    "duration": 30,
    "start_time": "2023-12-27T22:28:25.631Z"
   },
   {
    "duration": 10,
    "start_time": "2023-12-27T22:28:29.023Z"
   },
   {
    "duration": 10,
    "start_time": "2023-12-27T22:28:29.965Z"
   },
   {
    "duration": 1084,
    "start_time": "2023-12-27T22:28:33.727Z"
   },
   {
    "duration": 34,
    "start_time": "2023-12-27T22:28:34.813Z"
   },
   {
    "duration": 11,
    "start_time": "2023-12-27T22:28:34.848Z"
   },
   {
    "duration": 11,
    "start_time": "2023-12-27T22:28:34.861Z"
   },
   {
    "duration": 62,
    "start_time": "2023-12-27T22:28:34.873Z"
   },
   {
    "duration": 11,
    "start_time": "2023-12-27T22:28:34.936Z"
   },
   {
    "duration": 5,
    "start_time": "2023-12-27T22:28:34.949Z"
   },
   {
    "duration": 6,
    "start_time": "2023-12-27T22:28:34.955Z"
   },
   {
    "duration": 7,
    "start_time": "2023-12-27T22:28:34.963Z"
   },
   {
    "duration": 5,
    "start_time": "2023-12-27T22:28:34.972Z"
   },
   {
    "duration": 9,
    "start_time": "2023-12-27T22:28:34.979Z"
   },
   {
    "duration": 8,
    "start_time": "2023-12-27T22:28:34.990Z"
   },
   {
    "duration": 5,
    "start_time": "2023-12-27T22:28:35.000Z"
   },
   {
    "duration": 11,
    "start_time": "2023-12-27T22:28:35.006Z"
   },
   {
    "duration": 284,
    "start_time": "2023-12-27T22:28:35.019Z"
   },
   {
    "duration": 340,
    "start_time": "2023-12-27T22:28:35.305Z"
   },
   {
    "duration": 256,
    "start_time": "2023-12-27T22:28:35.647Z"
   },
   {
    "duration": 5,
    "start_time": "2023-12-27T22:28:35.905Z"
   },
   {
    "duration": 330,
    "start_time": "2023-12-27T22:28:35.911Z"
   },
   {
    "duration": 281,
    "start_time": "2023-12-27T22:28:36.243Z"
   },
   {
    "duration": 346,
    "start_time": "2023-12-27T22:28:36.525Z"
   },
   {
    "duration": 8,
    "start_time": "2023-12-27T22:28:36.872Z"
   },
   {
    "duration": 154,
    "start_time": "2023-12-27T22:28:36.881Z"
   },
   {
    "duration": 4,
    "start_time": "2023-12-27T22:28:37.037Z"
   },
   {
    "duration": 173,
    "start_time": "2023-12-27T22:28:37.042Z"
   },
   {
    "duration": 177,
    "start_time": "2023-12-27T22:28:37.216Z"
   },
   {
    "duration": 4,
    "start_time": "2023-12-27T22:28:37.395Z"
   },
   {
    "duration": 282,
    "start_time": "2023-12-27T22:28:37.403Z"
   },
   {
    "duration": 144,
    "start_time": "2023-12-27T22:28:37.686Z"
   },
   {
    "duration": 23,
    "start_time": "2023-12-27T22:28:37.831Z"
   },
   {
    "duration": 9,
    "start_time": "2023-12-27T22:28:37.864Z"
   },
   {
    "duration": 7,
    "start_time": "2023-12-27T22:28:37.875Z"
   },
   {
    "duration": 7,
    "start_time": "2023-12-27T22:28:37.883Z"
   },
   {
    "duration": 22,
    "start_time": "2023-12-27T22:28:37.891Z"
   },
   {
    "duration": 11,
    "start_time": "2023-12-27T22:28:37.914Z"
   },
   {
    "duration": 1283,
    "start_time": "2023-12-28T17:06:10.331Z"
   },
   {
    "duration": 70,
    "start_time": "2023-12-28T17:06:11.617Z"
   },
   {
    "duration": 122,
    "start_time": "2023-12-28T17:06:11.693Z"
   },
   {
    "duration": 0,
    "start_time": "2023-12-28T17:06:11.819Z"
   },
   {
    "duration": 0,
    "start_time": "2023-12-28T17:06:11.820Z"
   },
   {
    "duration": 0,
    "start_time": "2023-12-28T17:06:11.821Z"
   },
   {
    "duration": 0,
    "start_time": "2023-12-28T17:06:11.823Z"
   },
   {
    "duration": 0,
    "start_time": "2023-12-28T17:06:11.824Z"
   },
   {
    "duration": 1,
    "start_time": "2023-12-28T17:06:11.825Z"
   },
   {
    "duration": 0,
    "start_time": "2023-12-28T17:06:11.827Z"
   },
   {
    "duration": 0,
    "start_time": "2023-12-28T17:06:11.828Z"
   },
   {
    "duration": 0,
    "start_time": "2023-12-28T17:06:11.829Z"
   },
   {
    "duration": 0,
    "start_time": "2023-12-28T17:06:11.831Z"
   },
   {
    "duration": 0,
    "start_time": "2023-12-28T17:06:11.831Z"
   },
   {
    "duration": 0,
    "start_time": "2023-12-28T17:06:11.832Z"
   },
   {
    "duration": 0,
    "start_time": "2023-12-28T17:06:11.833Z"
   },
   {
    "duration": 0,
    "start_time": "2023-12-28T17:06:11.834Z"
   },
   {
    "duration": 0,
    "start_time": "2023-12-28T17:06:11.835Z"
   },
   {
    "duration": 0,
    "start_time": "2023-12-28T17:06:11.836Z"
   },
   {
    "duration": 0,
    "start_time": "2023-12-28T17:06:11.836Z"
   },
   {
    "duration": 0,
    "start_time": "2023-12-28T17:06:11.837Z"
   },
   {
    "duration": 0,
    "start_time": "2023-12-28T17:06:11.838Z"
   },
   {
    "duration": 0,
    "start_time": "2023-12-28T17:06:11.839Z"
   },
   {
    "duration": 0,
    "start_time": "2023-12-28T17:06:11.840Z"
   },
   {
    "duration": 0,
    "start_time": "2023-12-28T17:06:11.841Z"
   },
   {
    "duration": 0,
    "start_time": "2023-12-28T17:06:11.842Z"
   },
   {
    "duration": 0,
    "start_time": "2023-12-28T17:06:11.843Z"
   },
   {
    "duration": 0,
    "start_time": "2023-12-28T17:06:11.844Z"
   },
   {
    "duration": 0,
    "start_time": "2023-12-28T17:06:11.889Z"
   },
   {
    "duration": 0,
    "start_time": "2023-12-28T17:06:11.890Z"
   },
   {
    "duration": 0,
    "start_time": "2023-12-28T17:06:11.891Z"
   },
   {
    "duration": 0,
    "start_time": "2023-12-28T17:06:11.892Z"
   },
   {
    "duration": 0,
    "start_time": "2023-12-28T17:06:11.893Z"
   },
   {
    "duration": 0,
    "start_time": "2023-12-28T17:06:11.894Z"
   },
   {
    "duration": 0,
    "start_time": "2023-12-28T17:06:11.896Z"
   },
   {
    "duration": 10,
    "start_time": "2023-12-28T17:06:24.541Z"
   },
   {
    "duration": 9,
    "start_time": "2023-12-28T17:06:55.920Z"
   },
   {
    "duration": 1232,
    "start_time": "2023-12-28T17:10:05.335Z"
   },
   {
    "duration": 41,
    "start_time": "2023-12-28T17:10:06.569Z"
   },
   {
    "duration": 13,
    "start_time": "2023-12-28T17:10:06.613Z"
   },
   {
    "duration": 14,
    "start_time": "2023-12-28T17:10:06.630Z"
   },
   {
    "duration": 153,
    "start_time": "2023-12-28T17:10:06.646Z"
   },
   {
    "duration": 13,
    "start_time": "2023-12-28T17:10:06.801Z"
   },
   {
    "duration": 32,
    "start_time": "2023-12-28T17:10:06.816Z"
   },
   {
    "duration": 7,
    "start_time": "2023-12-28T17:10:06.849Z"
   },
   {
    "duration": 4,
    "start_time": "2023-12-28T17:10:06.858Z"
   },
   {
    "duration": 8,
    "start_time": "2023-12-28T17:10:06.864Z"
   },
   {
    "duration": 7,
    "start_time": "2023-12-28T17:10:06.873Z"
   },
   {
    "duration": 18,
    "start_time": "2023-12-28T17:10:06.881Z"
   },
   {
    "duration": 6,
    "start_time": "2023-12-28T17:10:06.900Z"
   },
   {
    "duration": 8,
    "start_time": "2023-12-28T17:10:06.908Z"
   },
   {
    "duration": 326,
    "start_time": "2023-12-28T17:10:06.917Z"
   },
   {
    "duration": 380,
    "start_time": "2023-12-28T17:10:07.245Z"
   },
   {
    "duration": 314,
    "start_time": "2023-12-28T17:10:07.627Z"
   },
   {
    "duration": 6,
    "start_time": "2023-12-28T17:10:07.942Z"
   },
   {
    "duration": 436,
    "start_time": "2023-12-28T17:10:07.949Z"
   },
   {
    "duration": 352,
    "start_time": "2023-12-28T17:10:08.387Z"
   },
   {
    "duration": 396,
    "start_time": "2023-12-28T17:10:08.741Z"
   },
   {
    "duration": 9,
    "start_time": "2023-12-28T17:10:09.139Z"
   },
   {
    "duration": 196,
    "start_time": "2023-12-28T17:10:09.149Z"
   },
   {
    "duration": 5,
    "start_time": "2023-12-28T17:10:09.346Z"
   },
   {
    "duration": 214,
    "start_time": "2023-12-28T17:10:09.352Z"
   },
   {
    "duration": 194,
    "start_time": "2023-12-28T17:10:09.568Z"
   },
   {
    "duration": 4,
    "start_time": "2023-12-28T17:10:09.764Z"
   },
   {
    "duration": 303,
    "start_time": "2023-12-28T17:10:09.771Z"
   },
   {
    "duration": 180,
    "start_time": "2023-12-28T17:10:10.076Z"
   },
   {
    "duration": 35,
    "start_time": "2023-12-28T17:10:10.257Z"
   },
   {
    "duration": 12,
    "start_time": "2023-12-28T17:10:10.293Z"
   },
   {
    "duration": 10,
    "start_time": "2023-12-28T17:10:10.307Z"
   },
   {
    "duration": 9,
    "start_time": "2023-12-28T17:10:10.319Z"
   },
   {
    "duration": 24,
    "start_time": "2023-12-28T17:10:10.329Z"
   },
   {
    "duration": 44,
    "start_time": "2023-12-28T17:10:10.354Z"
   },
   {
    "duration": 1150,
    "start_time": "2023-12-28T17:13:16.618Z"
   },
   {
    "duration": 52,
    "start_time": "2023-12-28T17:13:17.770Z"
   },
   {
    "duration": 12,
    "start_time": "2023-12-28T17:13:17.824Z"
   },
   {
    "duration": 30,
    "start_time": "2023-12-28T17:13:17.838Z"
   },
   {
    "duration": 76,
    "start_time": "2023-12-28T17:13:17.870Z"
   },
   {
    "duration": 12,
    "start_time": "2023-12-28T17:13:17.948Z"
   },
   {
    "duration": 6,
    "start_time": "2023-12-28T17:13:17.962Z"
   },
   {
    "duration": 8,
    "start_time": "2023-12-28T17:13:17.969Z"
   },
   {
    "duration": 8,
    "start_time": "2023-12-28T17:13:17.978Z"
   },
   {
    "duration": 26,
    "start_time": "2023-12-28T17:13:17.988Z"
   },
   {
    "duration": 41,
    "start_time": "2023-12-28T17:13:18.016Z"
   },
   {
    "duration": 10,
    "start_time": "2023-12-28T17:13:18.059Z"
   },
   {
    "duration": 12,
    "start_time": "2023-12-28T17:13:18.070Z"
   },
   {
    "duration": 10,
    "start_time": "2023-12-28T17:13:18.084Z"
   },
   {
    "duration": 307,
    "start_time": "2023-12-28T17:13:18.097Z"
   },
   {
    "duration": 427,
    "start_time": "2023-12-28T17:13:18.407Z"
   },
   {
    "duration": 307,
    "start_time": "2023-12-28T17:13:18.836Z"
   },
   {
    "duration": 6,
    "start_time": "2023-12-28T17:13:19.144Z"
   },
   {
    "duration": 411,
    "start_time": "2023-12-28T17:13:19.151Z"
   },
   {
    "duration": 363,
    "start_time": "2023-12-28T17:13:19.564Z"
   },
   {
    "duration": 357,
    "start_time": "2023-12-28T17:13:19.929Z"
   },
   {
    "duration": 11,
    "start_time": "2023-12-28T17:13:20.288Z"
   },
   {
    "duration": 211,
    "start_time": "2023-12-28T17:13:20.301Z"
   },
   {
    "duration": 5,
    "start_time": "2023-12-28T17:13:20.514Z"
   },
   {
    "duration": 193,
    "start_time": "2023-12-28T17:13:20.520Z"
   },
   {
    "duration": 205,
    "start_time": "2023-12-28T17:13:20.714Z"
   },
   {
    "duration": 5,
    "start_time": "2023-12-28T17:13:20.921Z"
   },
   {
    "duration": 318,
    "start_time": "2023-12-28T17:13:20.929Z"
   },
   {
    "duration": 166,
    "start_time": "2023-12-28T17:13:21.249Z"
   },
   {
    "duration": 25,
    "start_time": "2023-12-28T17:13:21.417Z"
   },
   {
    "duration": 10,
    "start_time": "2023-12-28T17:13:21.443Z"
   },
   {
    "duration": 10,
    "start_time": "2023-12-28T17:13:21.454Z"
   },
   {
    "duration": 33,
    "start_time": "2023-12-28T17:13:21.465Z"
   },
   {
    "duration": 40,
    "start_time": "2023-12-28T17:13:21.500Z"
   },
   {
    "duration": 14,
    "start_time": "2023-12-28T17:13:21.542Z"
   },
   {
    "duration": 7,
    "start_time": "2023-12-28T17:19:05.389Z"
   },
   {
    "duration": 257,
    "start_time": "2023-12-28T17:19:58.397Z"
   },
   {
    "duration": 1200,
    "start_time": "2023-12-28T17:20:36.566Z"
   },
   {
    "duration": 36,
    "start_time": "2023-12-28T17:20:37.767Z"
   },
   {
    "duration": 13,
    "start_time": "2023-12-28T17:20:37.805Z"
   },
   {
    "duration": 11,
    "start_time": "2023-12-28T17:20:37.820Z"
   },
   {
    "duration": 81,
    "start_time": "2023-12-28T17:20:37.832Z"
   },
   {
    "duration": 16,
    "start_time": "2023-12-28T17:20:37.915Z"
   },
   {
    "duration": 31,
    "start_time": "2023-12-28T17:20:37.933Z"
   },
   {
    "duration": 13,
    "start_time": "2023-12-28T17:20:37.965Z"
   },
   {
    "duration": 7,
    "start_time": "2023-12-28T17:20:37.979Z"
   },
   {
    "duration": 32,
    "start_time": "2023-12-28T17:20:37.989Z"
   },
   {
    "duration": 35,
    "start_time": "2023-12-28T17:20:38.023Z"
   },
   {
    "duration": 10,
    "start_time": "2023-12-28T17:20:38.060Z"
   },
   {
    "duration": 7,
    "start_time": "2023-12-28T17:20:38.071Z"
   },
   {
    "duration": 27,
    "start_time": "2023-12-28T17:20:38.079Z"
   },
   {
    "duration": 314,
    "start_time": "2023-12-28T17:20:38.108Z"
   },
   {
    "duration": 4,
    "start_time": "2023-12-28T17:20:38.423Z"
   },
   {
    "duration": 367,
    "start_time": "2023-12-28T17:20:38.428Z"
   },
   {
    "duration": 260,
    "start_time": "2023-12-28T17:20:38.797Z"
   },
   {
    "duration": 7,
    "start_time": "2023-12-28T17:20:39.059Z"
   },
   {
    "duration": 388,
    "start_time": "2023-12-28T17:20:39.067Z"
   },
   {
    "duration": 299,
    "start_time": "2023-12-28T17:20:39.457Z"
   },
   {
    "duration": 403,
    "start_time": "2023-12-28T17:20:39.758Z"
   },
   {
    "duration": 10,
    "start_time": "2023-12-28T17:20:40.162Z"
   },
   {
    "duration": 208,
    "start_time": "2023-12-28T17:20:40.173Z"
   },
   {
    "duration": 9,
    "start_time": "2023-12-28T17:20:40.382Z"
   },
   {
    "duration": 190,
    "start_time": "2023-12-28T17:20:40.393Z"
   },
   {
    "duration": 192,
    "start_time": "2023-12-28T17:20:40.584Z"
   },
   {
    "duration": 4,
    "start_time": "2023-12-28T17:20:40.779Z"
   },
   {
    "duration": 319,
    "start_time": "2023-12-28T17:20:40.795Z"
   },
   {
    "duration": 134,
    "start_time": "2023-12-28T17:20:41.115Z"
   },
   {
    "duration": 26,
    "start_time": "2023-12-28T17:20:41.250Z"
   },
   {
    "duration": 17,
    "start_time": "2023-12-28T17:20:41.288Z"
   },
   {
    "duration": 10,
    "start_time": "2023-12-28T17:20:41.311Z"
   },
   {
    "duration": 9,
    "start_time": "2023-12-28T17:20:41.323Z"
   },
   {
    "duration": 25,
    "start_time": "2023-12-28T17:20:41.333Z"
   },
   {
    "duration": 39,
    "start_time": "2023-12-28T17:20:41.360Z"
   },
   {
    "duration": 363,
    "start_time": "2023-12-28T17:25:51.542Z"
   },
   {
    "duration": 150,
    "start_time": "2023-12-28T17:31:08.336Z"
   },
   {
    "duration": 3,
    "start_time": "2023-12-28T17:31:31.731Z"
   },
   {
    "duration": 69,
    "start_time": "2023-12-28T17:31:31.955Z"
   },
   {
    "duration": 57,
    "start_time": "2023-12-28T17:31:47.842Z"
   },
   {
    "duration": 44,
    "start_time": "2023-12-28T17:32:05.419Z"
   },
   {
    "duration": 55,
    "start_time": "2023-12-28T17:32:30.951Z"
   },
   {
    "duration": 36,
    "start_time": "2023-12-28T17:33:33.404Z"
   },
   {
    "duration": 18,
    "start_time": "2023-12-28T17:33:47.097Z"
   },
   {
    "duration": 16,
    "start_time": "2023-12-28T17:34:03.530Z"
   },
   {
    "duration": 14,
    "start_time": "2023-12-28T17:34:36.419Z"
   },
   {
    "duration": 51,
    "start_time": "2023-12-28T17:34:45.455Z"
   },
   {
    "duration": 60,
    "start_time": "2023-12-28T17:37:42.567Z"
   },
   {
    "duration": 47,
    "start_time": "2023-12-28T17:37:50.612Z"
   },
   {
    "duration": 16,
    "start_time": "2023-12-28T17:38:37.713Z"
   },
   {
    "duration": 14,
    "start_time": "2023-12-28T17:38:42.682Z"
   },
   {
    "duration": 15,
    "start_time": "2023-12-28T17:39:21.109Z"
   },
   {
    "duration": 22,
    "start_time": "2023-12-28T17:39:25.592Z"
   },
   {
    "duration": 1252,
    "start_time": "2023-12-28T17:42:58.476Z"
   },
   {
    "duration": 37,
    "start_time": "2023-12-28T17:42:59.731Z"
   },
   {
    "duration": 12,
    "start_time": "2023-12-28T17:42:59.769Z"
   },
   {
    "duration": 11,
    "start_time": "2023-12-28T17:42:59.783Z"
   },
   {
    "duration": 69,
    "start_time": "2023-12-28T17:42:59.796Z"
   },
   {
    "duration": 12,
    "start_time": "2023-12-28T17:42:59.866Z"
   },
   {
    "duration": 18,
    "start_time": "2023-12-28T17:42:59.879Z"
   },
   {
    "duration": 9,
    "start_time": "2023-12-28T17:42:59.898Z"
   },
   {
    "duration": 14,
    "start_time": "2023-12-28T17:42:59.909Z"
   },
   {
    "duration": 5,
    "start_time": "2023-12-28T17:42:59.925Z"
   },
   {
    "duration": 10,
    "start_time": "2023-12-28T17:42:59.931Z"
   },
   {
    "duration": 12,
    "start_time": "2023-12-28T17:42:59.943Z"
   },
   {
    "duration": 16,
    "start_time": "2023-12-28T17:42:59.957Z"
   },
   {
    "duration": 15,
    "start_time": "2023-12-28T17:42:59.975Z"
   },
   {
    "duration": 339,
    "start_time": "2023-12-28T17:42:59.992Z"
   },
   {
    "duration": 4,
    "start_time": "2023-12-28T17:43:00.333Z"
   },
   {
    "duration": 436,
    "start_time": "2023-12-28T17:43:00.339Z"
   },
   {
    "duration": 288,
    "start_time": "2023-12-28T17:43:00.777Z"
   },
   {
    "duration": 6,
    "start_time": "2023-12-28T17:43:01.067Z"
   },
   {
    "duration": 493,
    "start_time": "2023-12-28T17:43:01.074Z"
   },
   {
    "duration": 300,
    "start_time": "2023-12-28T17:43:01.569Z"
   },
   {
    "duration": 396,
    "start_time": "2023-12-28T17:43:01.870Z"
   },
   {
    "duration": 9,
    "start_time": "2023-12-28T17:43:02.268Z"
   },
   {
    "duration": 203,
    "start_time": "2023-12-28T17:43:02.289Z"
   },
   {
    "duration": 7,
    "start_time": "2023-12-28T17:43:02.496Z"
   },
   {
    "duration": 210,
    "start_time": "2023-12-28T17:43:02.506Z"
   },
   {
    "duration": 198,
    "start_time": "2023-12-28T17:43:02.717Z"
   },
   {
    "duration": 4,
    "start_time": "2023-12-28T17:43:02.918Z"
   },
   {
    "duration": 320,
    "start_time": "2023-12-28T17:43:02.924Z"
   },
   {
    "duration": 139,
    "start_time": "2023-12-28T17:43:03.246Z"
   },
   {
    "duration": 3,
    "start_time": "2023-12-28T17:43:03.387Z"
   },
   {
    "duration": 68,
    "start_time": "2023-12-28T17:43:03.392Z"
   },
   {
    "duration": 14,
    "start_time": "2023-12-28T17:43:03.464Z"
   },
   {
    "duration": 34,
    "start_time": "2023-12-28T17:43:03.480Z"
   },
   {
    "duration": 65,
    "start_time": "2023-12-28T17:43:03.516Z"
   },
   {
    "duration": 67,
    "start_time": "2023-12-28T17:43:03.583Z"
   },
   {
    "duration": 14,
    "start_time": "2023-12-28T17:43:03.652Z"
   }
  ],
  "kernelspec": {
   "display_name": "Python 3 (ipykernel)",
   "language": "python",
   "name": "python3"
  },
  "language_info": {
   "codemirror_mode": {
    "name": "ipython",
    "version": 3
   },
   "file_extension": ".py",
   "mimetype": "text/x-python",
   "name": "python",
   "nbconvert_exporter": "python",
   "pygments_lexer": "ipython3",
   "version": "3.9.5"
  },
  "toc": {
   "base_numbering": 1,
   "nav_menu": {
    "height": "185px",
    "width": "184px"
   },
   "number_sections": true,
   "sideBar": true,
   "skip_h1_title": true,
   "title_cell": "Table of Contents",
   "title_sidebar": "Contents",
   "toc_cell": false,
   "toc_position": {},
   "toc_section_display": true,
   "toc_window_display": true
  }
 },
 "nbformat": 4,
 "nbformat_minor": 2
}
